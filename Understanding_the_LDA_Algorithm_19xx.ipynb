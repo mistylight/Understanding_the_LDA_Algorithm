{
 "cells": [
  {
   "cell_type": "markdown",
   "metadata": {},
   "source": [
    "# LDA Training\n",
    "<figure>\n",
    "<div>\n",
    "<img src=https://s2.loli.net/2022/02/28/X7vzOlDHJtP6UnM.png width=\"600\">\n",
    "</div>\n",
    "<figcaption>The LDA training algorithm from <a href=http://www.arbylon.net/publications/text-est.pdf>Parameter estimation for text analysis</a></figcaption>\n",
    "</figure>"
   ]
  },
  {
   "cell_type": "code",
   "execution_count": 1,
   "metadata": {},
   "outputs": [],
   "source": [
    "import random\n",
    "import numpy as np\n",
    "from collections import defaultdict, OrderedDict\n",
    "from types import SimpleNamespace\n",
    "from tqdm.notebook import tqdm\n",
    "from visualize import visualize_topic_word"
   ]
  },
  {
   "cell_type": "code",
   "execution_count": 6,
   "metadata": {},
   "outputs": [
    {
     "name": "stdout",
     "output_type": "stream",
     "text": [
      "num_docs: 1000 num_topics: 10 num_words: 7882\n"
     ]
    }
   ],
   "source": [
    "# === corpus loading ===\n",
    "class NeurIPSCorpus:\n",
    "    def __init__(self, data_path, num_topics, mode, start_doc_idx=0, max_num_docs=100, max_num_words=10000, max_doc_length=1000, train_corpus=None):\n",
    "        self.docs = []\n",
    "        self.word2id = OrderedDict()\n",
    "        self.max_doc_length = max_doc_length\n",
    "        self.mode = mode\n",
    "\n",
    "        # only keep the most frequent words\n",
    "        if self.mode == \"train\":\n",
    "            word2cnt = defaultdict(int)\n",
    "            with open(data_path) as fin:\n",
    "                for i, line in enumerate(fin):\n",
    "                    if i >= max_num_docs: break\n",
    "                    for word in line.strip().split():\n",
    "                        word2cnt[word] += 1\n",
    "            \n",
    "            word2cnt = sorted(list(word2cnt.items()), key=lambda x: x[1], reverse=True)\n",
    "            if len(word2cnt) > max_num_words:\n",
    "                word2cnt = word2cnt[:max_num_words]\n",
    "            word2cnt = dict(word2cnt)\n",
    "\n",
    "        # read in the doc and convert words to integers\n",
    "        with open(data_path) as fin:\n",
    "            for i, line in enumerate(fin):\n",
    "                if i < start_doc_idx: continue\n",
    "                if i - start_doc_idx >= max_num_docs: break\n",
    "                doc = []\n",
    "                for word in line.strip().split():\n",
    "                    if len(doc) >= self.max_doc_length: break\n",
    "                    if self.mode == \"train\":\n",
    "                        if word not in word2cnt: continue\n",
    "                        if word not in self.word2id: \n",
    "                            self.word2id[word] = len(self.word2id)\n",
    "                        doc.append(self.word2id[word])\n",
    "                    else:\n",
    "                        if word not in train_corpus.word2id: continue\n",
    "                        doc.append(train_corpus.word2id[word])\n",
    "                self.docs.append(doc)\n",
    "\n",
    "        self.num_docs = len(self.docs)\n",
    "        self.num_topics = num_topics\n",
    "        self.num_words = len(self.word2id)\n",
    "        self.id2word = {v: k for k, v in self.word2id.items()}\n",
    "        print(\n",
    "            \"num_docs:\", self.num_docs, \n",
    "            \"num_topics:\", self.num_topics, \n",
    "            \"num_words:\", self.num_words\n",
    "        )\n",
    "\n",
    "corpus = NeurIPSCorpus(\n",
    "    data_path=\"data/papers.txt\", \n",
    "    mode=\"train\",\n",
    "    num_topics=10,\n",
    "    start_doc_idx=0,\n",
    "    max_num_docs=1000,\n",
    "    max_num_words=10000,\n",
    "    max_doc_length=200,\n",
    ")\n",
    "hparams = SimpleNamespace(\n",
    "    alpha=np.ones([corpus.num_topics], dtype=float) / corpus.num_topics,\n",
    "    beta = np.ones([corpus.num_words], dtype=float) / corpus.num_topics,\n",
    "    gibbs_sampling_max_iters=500,\n",
    ")"
   ]
  },
  {
   "cell_type": "code",
   "execution_count": 5,
   "metadata": {},
   "outputs": [
    {
     "name": "stdout",
     "output_type": "stream",
     "text": [
      "Initializing...\n",
      "Gibbs sampling...\n"
     ]
    },
    {
     "data": {
      "application/vnd.jupyter.widget-view+json": {
       "model_id": "0bbcea2546364b1185f1d086eb4a4696",
       "version_major": 2,
       "version_minor": 0
      },
      "text/plain": [
       "HBox(children=(HTML(value=''), FloatProgress(value=0.0, max=500.0), HTML(value='')))"
      ]
     },
     "metadata": {},
     "output_type": "display_data"
    },
    {
     "name": "stdout",
     "output_type": "stream",
     "text": [
      "Iter [0]===\n",
      "Topic 0: ['model', 'network', 'algorithm', 'problem', 'learning', 'learn', 'function', 'neural', 'system', 'datum']\n",
      "Topic 1: ['model', 'algorithm', 'network', 'neural', 'system', 'input', 'problem', 'datum', 'function', 'learning']\n",
      "Topic 2: ['model', 'algorithm', 'network', 'problem', 'neural', 'system', 'datum', 'method', 'set', 'result']\n",
      "Topic 3: ['network', 'model', 'learning', 'algorithm', 'time', 'system', 'problem', 'method', 'process', 'university']\n",
      "Topic 4: ['model', 'learning', 'learn', 'algorithm', 'network', 'neural', 'problem', 'introduction', 'function', 'system']\n",
      "Topic 5: ['model', 'network', 'problem', 'function', 'algorithm', 'learning', 'datum', 'abstract', 'base', 'system']\n",
      "Topic 6: ['model', 'network', 'neural', 'algorithm', 'learning', 'abstract', 'problem', 'function', 'datum', 'university']\n",
      "Topic 7: ['model', 'network', 'neural', 'problem', 'datum', 'function', 'algorithm', 'method', 'learn', 'learning']\n",
      "Topic 8: ['model', 'network', 'algorithm', 'function', 'learning', 'abstract', 'datum', 'neural', 'problem', 'university']\n",
      "Topic 9: ['model', 'network', 'learning', 'algorithm', 'problem', 'system', 'neural', 'abstract', 'neuron', 'information']\n"
     ]
    },
    {
     "data": {
      "application/vnd.plotly.v1+json": {
       "config": {
        "plotlyServerURL": "https://plot.ly"
       },
       "data": [
        {
         "cells": {
          "fill": {
           "color": [
            [
             "rgb(197.33333333333334, 219.11111111111111, 191.88888888888889)",
             "rgb(197.33333333333334, 219.11111111111111, 191.88888888888889)",
             "rgb(217.66666666666666, 232.55555555555554, 214.44444444444446)",
             "rgb(217.66666666666666, 232.55555555555554, 214.44444444444446)",
             "rgb(217.66666666666666, 232.55555555555554, 214.44444444444446)",
             "rgb(217.66666666666666, 232.55555555555554, 214.44444444444446)",
             "rgb(238.0, 246.0, 237.0)",
             "rgb(238.0, 246.0, 237.0)",
             "rgb(238.0, 246.0, 237.0)",
             "rgb(238.0, 246.0, 237.0)"
            ],
            [
             "rgb(217.66666666666666, 232.55555555555554, 214.44444444444446)",
             "rgb(217.66666666666666, 232.55555555555554, 214.44444444444446)",
             "rgb(217.66666666666666, 232.55555555555554, 214.44444444444446)",
             "rgb(217.66666666666666, 232.55555555555554, 214.44444444444446)",
             "rgb(217.66666666666666, 232.55555555555554, 214.44444444444446)",
             "rgb(217.66666666666666, 232.55555555555554, 214.44444444444446)",
             "rgb(217.66666666666666, 232.55555555555554, 214.44444444444446)",
             "rgb(217.66666666666666, 232.55555555555554, 214.44444444444446)",
             "rgb(238.0, 246.0, 237.0)",
             "rgb(238.0, 246.0, 237.0)"
            ],
            [
             "rgb(197.33333333333334, 219.11111111111111, 191.88888888888889)",
             "rgb(217.66666666666666, 232.55555555555554, 214.44444444444446)",
             "rgb(217.66666666666666, 232.55555555555554, 214.44444444444446)",
             "rgb(217.66666666666666, 232.55555555555554, 214.44444444444446)",
             "rgb(217.66666666666666, 232.55555555555554, 214.44444444444446)",
             "rgb(217.66666666666666, 232.55555555555554, 214.44444444444446)",
             "rgb(217.66666666666666, 232.55555555555554, 214.44444444444446)",
             "rgb(238.0, 246.0, 237.0)",
             "rgb(238.0, 246.0, 237.0)",
             "rgb(238.0, 246.0, 237.0)"
            ],
            [
             "rgb(217.66666666666666, 232.55555555555554, 214.44444444444446)",
             "rgb(217.66666666666666, 232.55555555555554, 214.44444444444446)",
             "rgb(217.66666666666666, 232.55555555555554, 214.44444444444446)",
             "rgb(217.66666666666666, 232.55555555555554, 214.44444444444446)",
             "rgb(217.66666666666666, 232.55555555555554, 214.44444444444446)",
             "rgb(217.66666666666666, 232.55555555555554, 214.44444444444446)",
             "rgb(238.0, 246.0, 237.0)",
             "rgb(238.0, 246.0, 237.0)",
             "rgb(238.0, 246.0, 237.0)",
             "rgb(238.0, 246.0, 237.0)"
            ],
            [
             "rgb(197.33333333333334, 219.11111111111111, 191.88888888888889)",
             "rgb(217.66666666666666, 232.55555555555554, 214.44444444444446)",
             "rgb(217.66666666666666, 232.55555555555554, 214.44444444444446)",
             "rgb(217.66666666666666, 232.55555555555554, 214.44444444444446)",
             "rgb(217.66666666666666, 232.55555555555554, 214.44444444444446)",
             "rgb(217.66666666666666, 232.55555555555554, 214.44444444444446)",
             "rgb(217.66666666666666, 232.55555555555554, 214.44444444444446)",
             "rgb(217.66666666666666, 232.55555555555554, 214.44444444444446)",
             "rgb(217.66666666666666, 232.55555555555554, 214.44444444444446)",
             "rgb(238.0, 246.0, 237.0)"
            ],
            [
             "rgb(197.33333333333334, 219.11111111111111, 191.88888888888889)",
             "rgb(217.66666666666666, 232.55555555555554, 214.44444444444446)",
             "rgb(217.66666666666666, 232.55555555555554, 214.44444444444446)",
             "rgb(217.66666666666666, 232.55555555555554, 214.44444444444446)",
             "rgb(217.66666666666666, 232.55555555555554, 214.44444444444446)",
             "rgb(217.66666666666666, 232.55555555555554, 214.44444444444446)",
             "rgb(217.66666666666666, 232.55555555555554, 214.44444444444446)",
             "rgb(217.66666666666666, 232.55555555555554, 214.44444444444446)",
             "rgb(217.66666666666666, 232.55555555555554, 214.44444444444446)",
             "rgb(238.0, 246.0, 237.0)"
            ],
            [
             "rgb(217.66666666666666, 232.55555555555554, 214.44444444444446)",
             "rgb(217.66666666666666, 232.55555555555554, 214.44444444444446)",
             "rgb(217.66666666666666, 232.55555555555554, 214.44444444444446)",
             "rgb(217.66666666666666, 232.55555555555554, 214.44444444444446)",
             "rgb(217.66666666666666, 232.55555555555554, 214.44444444444446)",
             "rgb(217.66666666666666, 232.55555555555554, 214.44444444444446)",
             "rgb(217.66666666666666, 232.55555555555554, 214.44444444444446)",
             "rgb(238.0, 246.0, 237.0)",
             "rgb(238.0, 246.0, 237.0)",
             "rgb(238.0, 246.0, 237.0)"
            ],
            [
             "rgb(197.33333333333334, 219.11111111111111, 191.88888888888889)",
             "rgb(217.66666666666666, 232.55555555555554, 214.44444444444446)",
             "rgb(217.66666666666666, 232.55555555555554, 214.44444444444446)",
             "rgb(217.66666666666666, 232.55555555555554, 214.44444444444446)",
             "rgb(217.66666666666666, 232.55555555555554, 214.44444444444446)",
             "rgb(217.66666666666666, 232.55555555555554, 214.44444444444446)",
             "rgb(217.66666666666666, 232.55555555555554, 214.44444444444446)",
             "rgb(238.0, 246.0, 237.0)",
             "rgb(238.0, 246.0, 237.0)",
             "rgb(238.0, 246.0, 237.0)"
            ],
            [
             "rgb(197.33333333333334, 219.11111111111111, 191.88888888888889)",
             "rgb(197.33333333333334, 219.11111111111111, 191.88888888888889)",
             "rgb(217.66666666666666, 232.55555555555554, 214.44444444444446)",
             "rgb(217.66666666666666, 232.55555555555554, 214.44444444444446)",
             "rgb(217.66666666666666, 232.55555555555554, 214.44444444444446)",
             "rgb(217.66666666666666, 232.55555555555554, 214.44444444444446)",
             "rgb(217.66666666666666, 232.55555555555554, 214.44444444444446)",
             "rgb(217.66666666666666, 232.55555555555554, 214.44444444444446)",
             "rgb(217.66666666666666, 232.55555555555554, 214.44444444444446)",
             "rgb(238.0, 246.0, 237.0)"
            ],
            [
             "rgb(217.66666666666666, 232.55555555555554, 214.44444444444446)",
             "rgb(217.66666666666666, 232.55555555555554, 214.44444444444446)",
             "rgb(217.66666666666666, 232.55555555555554, 214.44444444444446)",
             "rgb(217.66666666666666, 232.55555555555554, 214.44444444444446)",
             "rgb(217.66666666666666, 232.55555555555554, 214.44444444444446)",
             "rgb(217.66666666666666, 232.55555555555554, 214.44444444444446)",
             "rgb(217.66666666666666, 232.55555555555554, 214.44444444444446)",
             "rgb(217.66666666666666, 232.55555555555554, 214.44444444444446)",
             "rgb(238.0, 246.0, 237.0)",
             "rgb(238.0, 246.0, 237.0)"
            ]
           ]
          },
          "values": [
           [
            "model",
            "network",
            "algorithm",
            "problem",
            "learning",
            "learn",
            "function",
            "neural",
            "system",
            "datum"
           ],
           [
            "model",
            "algorithm",
            "network",
            "neural",
            "system",
            "input",
            "problem",
            "datum",
            "function",
            "learning"
           ],
           [
            "model",
            "algorithm",
            "network",
            "problem",
            "neural",
            "system",
            "datum",
            "method",
            "set",
            "result"
           ],
           [
            "network",
            "model",
            "learning",
            "algorithm",
            "time",
            "system",
            "problem",
            "method",
            "process",
            "university"
           ],
           [
            "model",
            "learning",
            "learn",
            "algorithm",
            "network",
            "neural",
            "problem",
            "introduction",
            "function",
            "system"
           ],
           [
            "model",
            "network",
            "problem",
            "function",
            "algorithm",
            "learning",
            "datum",
            "abstract",
            "base",
            "system"
           ],
           [
            "model",
            "network",
            "neural",
            "algorithm",
            "learning",
            "abstract",
            "problem",
            "function",
            "datum",
            "university"
           ],
           [
            "model",
            "network",
            "neural",
            "problem",
            "datum",
            "function",
            "algorithm",
            "method",
            "learn",
            "learning"
           ],
           [
            "model",
            "network",
            "algorithm",
            "function",
            "learning",
            "abstract",
            "datum",
            "neural",
            "problem",
            "university"
           ],
           [
            "model",
            "network",
            "learning",
            "algorithm",
            "problem",
            "system",
            "neural",
            "abstract",
            "neuron",
            "information"
           ]
          ]
         },
         "header": {
          "fill": {
           "color": "rgb(220, 220, 220)"
          },
          "values": [
           "Topic 00",
           "Topic 01",
           "Topic 02",
           "Topic 03",
           "Topic 04",
           "Topic 05",
           "Topic 06",
           "Topic 07",
           "Topic 08",
           "Topic 09"
          ]
         },
         "type": "table"
        }
       ],
       "layout": {
        "template": {
         "data": {
          "bar": [
           {
            "error_x": {
             "color": "#2a3f5f"
            },
            "error_y": {
             "color": "#2a3f5f"
            },
            "marker": {
             "line": {
              "color": "#E5ECF6",
              "width": 0.5
             },
             "pattern": {
              "fillmode": "overlay",
              "size": 10,
              "solidity": 0.2
             }
            },
            "type": "bar"
           }
          ],
          "barpolar": [
           {
            "marker": {
             "line": {
              "color": "#E5ECF6",
              "width": 0.5
             },
             "pattern": {
              "fillmode": "overlay",
              "size": 10,
              "solidity": 0.2
             }
            },
            "type": "barpolar"
           }
          ],
          "carpet": [
           {
            "aaxis": {
             "endlinecolor": "#2a3f5f",
             "gridcolor": "white",
             "linecolor": "white",
             "minorgridcolor": "white",
             "startlinecolor": "#2a3f5f"
            },
            "baxis": {
             "endlinecolor": "#2a3f5f",
             "gridcolor": "white",
             "linecolor": "white",
             "minorgridcolor": "white",
             "startlinecolor": "#2a3f5f"
            },
            "type": "carpet"
           }
          ],
          "choropleth": [
           {
            "colorbar": {
             "outlinewidth": 0,
             "ticks": ""
            },
            "type": "choropleth"
           }
          ],
          "contour": [
           {
            "colorbar": {
             "outlinewidth": 0,
             "ticks": ""
            },
            "colorscale": [
             [
              0,
              "#0d0887"
             ],
             [
              0.1111111111111111,
              "#46039f"
             ],
             [
              0.2222222222222222,
              "#7201a8"
             ],
             [
              0.3333333333333333,
              "#9c179e"
             ],
             [
              0.4444444444444444,
              "#bd3786"
             ],
             [
              0.5555555555555556,
              "#d8576b"
             ],
             [
              0.6666666666666666,
              "#ed7953"
             ],
             [
              0.7777777777777778,
              "#fb9f3a"
             ],
             [
              0.8888888888888888,
              "#fdca26"
             ],
             [
              1,
              "#f0f921"
             ]
            ],
            "type": "contour"
           }
          ],
          "contourcarpet": [
           {
            "colorbar": {
             "outlinewidth": 0,
             "ticks": ""
            },
            "type": "contourcarpet"
           }
          ],
          "heatmap": [
           {
            "colorbar": {
             "outlinewidth": 0,
             "ticks": ""
            },
            "colorscale": [
             [
              0,
              "#0d0887"
             ],
             [
              0.1111111111111111,
              "#46039f"
             ],
             [
              0.2222222222222222,
              "#7201a8"
             ],
             [
              0.3333333333333333,
              "#9c179e"
             ],
             [
              0.4444444444444444,
              "#bd3786"
             ],
             [
              0.5555555555555556,
              "#d8576b"
             ],
             [
              0.6666666666666666,
              "#ed7953"
             ],
             [
              0.7777777777777778,
              "#fb9f3a"
             ],
             [
              0.8888888888888888,
              "#fdca26"
             ],
             [
              1,
              "#f0f921"
             ]
            ],
            "type": "heatmap"
           }
          ],
          "heatmapgl": [
           {
            "colorbar": {
             "outlinewidth": 0,
             "ticks": ""
            },
            "colorscale": [
             [
              0,
              "#0d0887"
             ],
             [
              0.1111111111111111,
              "#46039f"
             ],
             [
              0.2222222222222222,
              "#7201a8"
             ],
             [
              0.3333333333333333,
              "#9c179e"
             ],
             [
              0.4444444444444444,
              "#bd3786"
             ],
             [
              0.5555555555555556,
              "#d8576b"
             ],
             [
              0.6666666666666666,
              "#ed7953"
             ],
             [
              0.7777777777777778,
              "#fb9f3a"
             ],
             [
              0.8888888888888888,
              "#fdca26"
             ],
             [
              1,
              "#f0f921"
             ]
            ],
            "type": "heatmapgl"
           }
          ],
          "histogram": [
           {
            "marker": {
             "pattern": {
              "fillmode": "overlay",
              "size": 10,
              "solidity": 0.2
             }
            },
            "type": "histogram"
           }
          ],
          "histogram2d": [
           {
            "colorbar": {
             "outlinewidth": 0,
             "ticks": ""
            },
            "colorscale": [
             [
              0,
              "#0d0887"
             ],
             [
              0.1111111111111111,
              "#46039f"
             ],
             [
              0.2222222222222222,
              "#7201a8"
             ],
             [
              0.3333333333333333,
              "#9c179e"
             ],
             [
              0.4444444444444444,
              "#bd3786"
             ],
             [
              0.5555555555555556,
              "#d8576b"
             ],
             [
              0.6666666666666666,
              "#ed7953"
             ],
             [
              0.7777777777777778,
              "#fb9f3a"
             ],
             [
              0.8888888888888888,
              "#fdca26"
             ],
             [
              1,
              "#f0f921"
             ]
            ],
            "type": "histogram2d"
           }
          ],
          "histogram2dcontour": [
           {
            "colorbar": {
             "outlinewidth": 0,
             "ticks": ""
            },
            "colorscale": [
             [
              0,
              "#0d0887"
             ],
             [
              0.1111111111111111,
              "#46039f"
             ],
             [
              0.2222222222222222,
              "#7201a8"
             ],
             [
              0.3333333333333333,
              "#9c179e"
             ],
             [
              0.4444444444444444,
              "#bd3786"
             ],
             [
              0.5555555555555556,
              "#d8576b"
             ],
             [
              0.6666666666666666,
              "#ed7953"
             ],
             [
              0.7777777777777778,
              "#fb9f3a"
             ],
             [
              0.8888888888888888,
              "#fdca26"
             ],
             [
              1,
              "#f0f921"
             ]
            ],
            "type": "histogram2dcontour"
           }
          ],
          "mesh3d": [
           {
            "colorbar": {
             "outlinewidth": 0,
             "ticks": ""
            },
            "type": "mesh3d"
           }
          ],
          "parcoords": [
           {
            "line": {
             "colorbar": {
              "outlinewidth": 0,
              "ticks": ""
             }
            },
            "type": "parcoords"
           }
          ],
          "pie": [
           {
            "automargin": true,
            "type": "pie"
           }
          ],
          "scatter": [
           {
            "marker": {
             "colorbar": {
              "outlinewidth": 0,
              "ticks": ""
             }
            },
            "type": "scatter"
           }
          ],
          "scatter3d": [
           {
            "line": {
             "colorbar": {
              "outlinewidth": 0,
              "ticks": ""
             }
            },
            "marker": {
             "colorbar": {
              "outlinewidth": 0,
              "ticks": ""
             }
            },
            "type": "scatter3d"
           }
          ],
          "scattercarpet": [
           {
            "marker": {
             "colorbar": {
              "outlinewidth": 0,
              "ticks": ""
             }
            },
            "type": "scattercarpet"
           }
          ],
          "scattergeo": [
           {
            "marker": {
             "colorbar": {
              "outlinewidth": 0,
              "ticks": ""
             }
            },
            "type": "scattergeo"
           }
          ],
          "scattergl": [
           {
            "marker": {
             "colorbar": {
              "outlinewidth": 0,
              "ticks": ""
             }
            },
            "type": "scattergl"
           }
          ],
          "scattermapbox": [
           {
            "marker": {
             "colorbar": {
              "outlinewidth": 0,
              "ticks": ""
             }
            },
            "type": "scattermapbox"
           }
          ],
          "scatterpolar": [
           {
            "marker": {
             "colorbar": {
              "outlinewidth": 0,
              "ticks": ""
             }
            },
            "type": "scatterpolar"
           }
          ],
          "scatterpolargl": [
           {
            "marker": {
             "colorbar": {
              "outlinewidth": 0,
              "ticks": ""
             }
            },
            "type": "scatterpolargl"
           }
          ],
          "scatterternary": [
           {
            "marker": {
             "colorbar": {
              "outlinewidth": 0,
              "ticks": ""
             }
            },
            "type": "scatterternary"
           }
          ],
          "surface": [
           {
            "colorbar": {
             "outlinewidth": 0,
             "ticks": ""
            },
            "colorscale": [
             [
              0,
              "#0d0887"
             ],
             [
              0.1111111111111111,
              "#46039f"
             ],
             [
              0.2222222222222222,
              "#7201a8"
             ],
             [
              0.3333333333333333,
              "#9c179e"
             ],
             [
              0.4444444444444444,
              "#bd3786"
             ],
             [
              0.5555555555555556,
              "#d8576b"
             ],
             [
              0.6666666666666666,
              "#ed7953"
             ],
             [
              0.7777777777777778,
              "#fb9f3a"
             ],
             [
              0.8888888888888888,
              "#fdca26"
             ],
             [
              1,
              "#f0f921"
             ]
            ],
            "type": "surface"
           }
          ],
          "table": [
           {
            "cells": {
             "fill": {
              "color": "#EBF0F8"
             },
             "line": {
              "color": "white"
             }
            },
            "header": {
             "fill": {
              "color": "#C8D4E3"
             },
             "line": {
              "color": "white"
             }
            },
            "type": "table"
           }
          ]
         },
         "layout": {
          "annotationdefaults": {
           "arrowcolor": "#2a3f5f",
           "arrowhead": 0,
           "arrowwidth": 1
          },
          "autotypenumbers": "strict",
          "coloraxis": {
           "colorbar": {
            "outlinewidth": 0,
            "ticks": ""
           }
          },
          "colorscale": {
           "diverging": [
            [
             0,
             "#8e0152"
            ],
            [
             0.1,
             "#c51b7d"
            ],
            [
             0.2,
             "#de77ae"
            ],
            [
             0.3,
             "#f1b6da"
            ],
            [
             0.4,
             "#fde0ef"
            ],
            [
             0.5,
             "#f7f7f7"
            ],
            [
             0.6,
             "#e6f5d0"
            ],
            [
             0.7,
             "#b8e186"
            ],
            [
             0.8,
             "#7fbc41"
            ],
            [
             0.9,
             "#4d9221"
            ],
            [
             1,
             "#276419"
            ]
           ],
           "sequential": [
            [
             0,
             "#0d0887"
            ],
            [
             0.1111111111111111,
             "#46039f"
            ],
            [
             0.2222222222222222,
             "#7201a8"
            ],
            [
             0.3333333333333333,
             "#9c179e"
            ],
            [
             0.4444444444444444,
             "#bd3786"
            ],
            [
             0.5555555555555556,
             "#d8576b"
            ],
            [
             0.6666666666666666,
             "#ed7953"
            ],
            [
             0.7777777777777778,
             "#fb9f3a"
            ],
            [
             0.8888888888888888,
             "#fdca26"
            ],
            [
             1,
             "#f0f921"
            ]
           ],
           "sequentialminus": [
            [
             0,
             "#0d0887"
            ],
            [
             0.1111111111111111,
             "#46039f"
            ],
            [
             0.2222222222222222,
             "#7201a8"
            ],
            [
             0.3333333333333333,
             "#9c179e"
            ],
            [
             0.4444444444444444,
             "#bd3786"
            ],
            [
             0.5555555555555556,
             "#d8576b"
            ],
            [
             0.6666666666666666,
             "#ed7953"
            ],
            [
             0.7777777777777778,
             "#fb9f3a"
            ],
            [
             0.8888888888888888,
             "#fdca26"
            ],
            [
             1,
             "#f0f921"
            ]
           ]
          },
          "colorway": [
           "#636efa",
           "#EF553B",
           "#00cc96",
           "#ab63fa",
           "#FFA15A",
           "#19d3f3",
           "#FF6692",
           "#B6E880",
           "#FF97FF",
           "#FECB52"
          ],
          "font": {
           "color": "#2a3f5f"
          },
          "geo": {
           "bgcolor": "white",
           "lakecolor": "white",
           "landcolor": "#E5ECF6",
           "showlakes": true,
           "showland": true,
           "subunitcolor": "white"
          },
          "hoverlabel": {
           "align": "left"
          },
          "hovermode": "closest",
          "mapbox": {
           "style": "light"
          },
          "paper_bgcolor": "white",
          "plot_bgcolor": "#E5ECF6",
          "polar": {
           "angularaxis": {
            "gridcolor": "white",
            "linecolor": "white",
            "ticks": ""
           },
           "bgcolor": "#E5ECF6",
           "radialaxis": {
            "gridcolor": "white",
            "linecolor": "white",
            "ticks": ""
           }
          },
          "scene": {
           "xaxis": {
            "backgroundcolor": "#E5ECF6",
            "gridcolor": "white",
            "gridwidth": 2,
            "linecolor": "white",
            "showbackground": true,
            "ticks": "",
            "zerolinecolor": "white"
           },
           "yaxis": {
            "backgroundcolor": "#E5ECF6",
            "gridcolor": "white",
            "gridwidth": 2,
            "linecolor": "white",
            "showbackground": true,
            "ticks": "",
            "zerolinecolor": "white"
           },
           "zaxis": {
            "backgroundcolor": "#E5ECF6",
            "gridcolor": "white",
            "gridwidth": 2,
            "linecolor": "white",
            "showbackground": true,
            "ticks": "",
            "zerolinecolor": "white"
           }
          },
          "shapedefaults": {
           "line": {
            "color": "#2a3f5f"
           }
          },
          "ternary": {
           "aaxis": {
            "gridcolor": "white",
            "linecolor": "white",
            "ticks": ""
           },
           "baxis": {
            "gridcolor": "white",
            "linecolor": "white",
            "ticks": ""
           },
           "bgcolor": "#E5ECF6",
           "caxis": {
            "gridcolor": "white",
            "linecolor": "white",
            "ticks": ""
           }
          },
          "title": {
           "x": 0.05
          },
          "xaxis": {
           "automargin": true,
           "gridcolor": "white",
           "linecolor": "white",
           "ticks": "",
           "title": {
            "standoff": 15
           },
           "zerolinecolor": "white",
           "zerolinewidth": 2
          },
          "yaxis": {
           "automargin": true,
           "gridcolor": "white",
           "linecolor": "white",
           "ticks": "",
           "title": {
            "standoff": 15
           },
           "zerolinecolor": "white",
           "zerolinewidth": 2
          }
         }
        },
        "title": {
         "text": "Top words for the 10 topics"
        },
        "width": 1350
       }
      }
     },
     "metadata": {},
     "output_type": "display_data"
    },
    {
     "name": "stdout",
     "output_type": "stream",
     "text": [
      "Iter [50]===\n",
      "Topic 0: ['algorithm', 'training', 'network', 'error', 'learning', 'set', 'problem', 'learn', 'classification', 'input']\n",
      "Topic 1: ['network', 't', 'neural', 'e', 'x', 'analog', 'circuit', 'neuron', 'd', 'l']\n",
      "Topic 2: ['signal', 'information', 'neuron', 'spike', 'code', 'time', 'temporal', 'noise', 'edu', 'auditory']\n",
      "Topic 3: ['problem', 'algorithm', 'state', 'function', 'method', 'decision', 'learning', 'value', 'edu', 'policy']\n",
      "Topic 4: ['learning', 'learn', 'network', 'system', 'time', 'model', 'dynamic', 'control', 'state', 'neural']\n",
      "Topic 5: ['x', 'function', 'datum', 'vector', 'kernel', 'e', 'linear', 'k', 't', 'n']\n",
      "Topic 6: ['system', 'recognition', 'speech', 'network', 'neural', 'base', 'word', 'paper', 'approach', 'character']\n",
      "Topic 7: ['model', 'visual', 'cell', 'cortex', 'neuron', 'pattern', 'response', 'system', 'cortical', 'eye']\n",
      "Topic 8: ['image', 'object', 'visual', 'representation', 'model', 'face', 'feature', 'human', 'recognition', 'vision']\n",
      "Topic 9: ['model', 'datum', 'algorithm', 'variable', 'distribution', 'probability', 'network', 'bayesian', 'method', 'parameter']\n"
     ]
    },
    {
     "data": {
      "application/vnd.plotly.v1+json": {
       "config": {
        "plotlyServerURL": "https://plot.ly"
       },
       "data": [
        {
         "cells": {
          "fill": {
           "color": [
            [
             "rgb(177.0, 205.66666666666666, 169.33333333333331)",
             "rgb(177.0, 205.66666666666666, 169.33333333333331)",
             "rgb(177.0, 205.66666666666666, 169.33333333333331)",
             "rgb(197.33333333333334, 219.11111111111111, 191.88888888888889)",
             "rgb(197.33333333333334, 219.11111111111111, 191.88888888888889)",
             "rgb(197.33333333333334, 219.11111111111111, 191.88888888888889)",
             "rgb(217.66666666666666, 232.55555555555554, 214.44444444444446)",
             "rgb(217.66666666666666, 232.55555555555554, 214.44444444444446)",
             "rgb(217.66666666666666, 232.55555555555554, 214.44444444444446)",
             "rgb(217.66666666666666, 232.55555555555554, 214.44444444444446)"
            ],
            [
             "rgb(136.33333333333334, 178.77777777777777, 124.22222222222221)",
             "rgb(177.0, 205.66666666666666, 169.33333333333331)",
             "rgb(177.0, 205.66666666666666, 169.33333333333331)",
             "rgb(197.33333333333334, 219.11111111111111, 191.88888888888889)",
             "rgb(197.33333333333334, 219.11111111111111, 191.88888888888889)",
             "rgb(197.33333333333334, 219.11111111111111, 191.88888888888889)",
             "rgb(197.33333333333334, 219.11111111111111, 191.88888888888889)",
             "rgb(197.33333333333334, 219.11111111111111, 191.88888888888889)",
             "rgb(197.33333333333334, 219.11111111111111, 191.88888888888889)",
             "rgb(217.66666666666666, 232.55555555555554, 214.44444444444446)"
            ],
            [
             "rgb(197.33333333333334, 219.11111111111111, 191.88888888888889)",
             "rgb(197.33333333333334, 219.11111111111111, 191.88888888888889)",
             "rgb(197.33333333333334, 219.11111111111111, 191.88888888888889)",
             "rgb(217.66666666666666, 232.55555555555554, 214.44444444444446)",
             "rgb(217.66666666666666, 232.55555555555554, 214.44444444444446)",
             "rgb(217.66666666666666, 232.55555555555554, 214.44444444444446)",
             "rgb(217.66666666666666, 232.55555555555554, 214.44444444444446)",
             "rgb(217.66666666666666, 232.55555555555554, 214.44444444444446)",
             "rgb(217.66666666666666, 232.55555555555554, 214.44444444444446)",
             "rgb(217.66666666666666, 232.55555555555554, 214.44444444444446)"
            ],
            [
             "rgb(156.66666666666669, 192.22222222222223, 146.77777777777777)",
             "rgb(177.0, 205.66666666666666, 169.33333333333331)",
             "rgb(197.33333333333334, 219.11111111111111, 191.88888888888889)",
             "rgb(197.33333333333334, 219.11111111111111, 191.88888888888889)",
             "rgb(217.66666666666666, 232.55555555555554, 214.44444444444446)",
             "rgb(217.66666666666666, 232.55555555555554, 214.44444444444446)",
             "rgb(217.66666666666666, 232.55555555555554, 214.44444444444446)",
             "rgb(217.66666666666666, 232.55555555555554, 214.44444444444446)",
             "rgb(217.66666666666666, 232.55555555555554, 214.44444444444446)",
             "rgb(217.66666666666666, 232.55555555555554, 214.44444444444446)"
            ],
            [
             "rgb(116.0, 165.33333333333331, 101.66666666666666)",
             "rgb(177.0, 205.66666666666666, 169.33333333333331)",
             "rgb(177.0, 205.66666666666666, 169.33333333333331)",
             "rgb(177.0, 205.66666666666666, 169.33333333333331)",
             "rgb(177.0, 205.66666666666666, 169.33333333333331)",
             "rgb(197.33333333333334, 219.11111111111111, 191.88888888888889)",
             "rgb(197.33333333333334, 219.11111111111111, 191.88888888888889)",
             "rgb(197.33333333333334, 219.11111111111111, 191.88888888888889)",
             "rgb(217.66666666666666, 232.55555555555554, 214.44444444444446)",
             "rgb(217.66666666666666, 232.55555555555554, 214.44444444444446)"
            ],
            [
             "rgb(177.0, 205.66666666666666, 169.33333333333331)",
             "rgb(177.0, 205.66666666666666, 169.33333333333331)",
             "rgb(197.33333333333334, 219.11111111111111, 191.88888888888889)",
             "rgb(197.33333333333334, 219.11111111111111, 191.88888888888889)",
             "rgb(217.66666666666666, 232.55555555555554, 214.44444444444446)",
             "rgb(217.66666666666666, 232.55555555555554, 214.44444444444446)",
             "rgb(217.66666666666666, 232.55555555555554, 214.44444444444446)",
             "rgb(217.66666666666666, 232.55555555555554, 214.44444444444446)",
             "rgb(217.66666666666666, 232.55555555555554, 214.44444444444446)",
             "rgb(217.66666666666666, 232.55555555555554, 214.44444444444446)"
            ],
            [
             "rgb(177.0, 205.66666666666666, 169.33333333333331)",
             "rgb(177.0, 205.66666666666666, 169.33333333333331)",
             "rgb(177.0, 205.66666666666666, 169.33333333333331)",
             "rgb(197.33333333333334, 219.11111111111111, 191.88888888888889)",
             "rgb(197.33333333333334, 219.11111111111111, 191.88888888888889)",
             "rgb(217.66666666666666, 232.55555555555554, 214.44444444444446)",
             "rgb(217.66666666666666, 232.55555555555554, 214.44444444444446)",
             "rgb(217.66666666666666, 232.55555555555554, 214.44444444444446)",
             "rgb(217.66666666666666, 232.55555555555554, 214.44444444444446)",
             "rgb(217.66666666666666, 232.55555555555554, 214.44444444444446)"
            ],
            [
             "rgb(177.0, 205.66666666666666, 169.33333333333331)",
             "rgb(197.33333333333334, 219.11111111111111, 191.88888888888889)",
             "rgb(197.33333333333334, 219.11111111111111, 191.88888888888889)",
             "rgb(217.66666666666666, 232.55555555555554, 214.44444444444446)",
             "rgb(217.66666666666666, 232.55555555555554, 214.44444444444446)",
             "rgb(217.66666666666666, 232.55555555555554, 214.44444444444446)",
             "rgb(217.66666666666666, 232.55555555555554, 214.44444444444446)",
             "rgb(217.66666666666666, 232.55555555555554, 214.44444444444446)",
             "rgb(217.66666666666666, 232.55555555555554, 214.44444444444446)",
             "rgb(217.66666666666666, 232.55555555555554, 214.44444444444446)"
            ],
            [
             "rgb(136.33333333333334, 178.77777777777777, 124.22222222222221)",
             "rgb(177.0, 205.66666666666666, 169.33333333333331)",
             "rgb(217.66666666666666, 232.55555555555554, 214.44444444444446)",
             "rgb(217.66666666666666, 232.55555555555554, 214.44444444444446)",
             "rgb(217.66666666666666, 232.55555555555554, 214.44444444444446)",
             "rgb(217.66666666666666, 232.55555555555554, 214.44444444444446)",
             "rgb(217.66666666666666, 232.55555555555554, 214.44444444444446)",
             "rgb(217.66666666666666, 232.55555555555554, 214.44444444444446)",
             "rgb(217.66666666666666, 232.55555555555554, 214.44444444444446)",
             "rgb(217.66666666666666, 232.55555555555554, 214.44444444444446)"
            ],
            [
             "rgb(95.66666666666669, 151.88888888888889, 79.11111111111109)",
             "rgb(197.33333333333334, 219.11111111111111, 191.88888888888889)",
             "rgb(197.33333333333334, 219.11111111111111, 191.88888888888889)",
             "rgb(217.66666666666666, 232.55555555555554, 214.44444444444446)",
             "rgb(217.66666666666666, 232.55555555555554, 214.44444444444446)",
             "rgb(217.66666666666666, 232.55555555555554, 214.44444444444446)",
             "rgb(217.66666666666666, 232.55555555555554, 214.44444444444446)",
             "rgb(217.66666666666666, 232.55555555555554, 214.44444444444446)",
             "rgb(217.66666666666666, 232.55555555555554, 214.44444444444446)",
             "rgb(217.66666666666666, 232.55555555555554, 214.44444444444446)"
            ]
           ]
          },
          "values": [
           [
            "algorithm",
            "training",
            "network",
            "error",
            "learning",
            "set",
            "problem",
            "learn",
            "classification",
            "input"
           ],
           [
            "network",
            "t",
            "neural",
            "e",
            "x",
            "analog",
            "circuit",
            "neuron",
            "d",
            "l"
           ],
           [
            "signal",
            "information",
            "neuron",
            "spike",
            "code",
            "time",
            "temporal",
            "noise",
            "edu",
            "auditory"
           ],
           [
            "problem",
            "algorithm",
            "state",
            "function",
            "method",
            "decision",
            "learning",
            "value",
            "edu",
            "policy"
           ],
           [
            "learning",
            "learn",
            "network",
            "system",
            "time",
            "model",
            "dynamic",
            "control",
            "state",
            "neural"
           ],
           [
            "x",
            "function",
            "datum",
            "vector",
            "kernel",
            "e",
            "linear",
            "k",
            "t",
            "n"
           ],
           [
            "system",
            "recognition",
            "speech",
            "network",
            "neural",
            "base",
            "word",
            "paper",
            "approach",
            "character"
           ],
           [
            "model",
            "visual",
            "cell",
            "cortex",
            "neuron",
            "pattern",
            "response",
            "system",
            "cortical",
            "eye"
           ],
           [
            "image",
            "object",
            "visual",
            "representation",
            "model",
            "face",
            "feature",
            "human",
            "recognition",
            "vision"
           ],
           [
            "model",
            "datum",
            "algorithm",
            "variable",
            "distribution",
            "probability",
            "network",
            "bayesian",
            "method",
            "parameter"
           ]
          ]
         },
         "header": {
          "fill": {
           "color": "rgb(220, 220, 220)"
          },
          "values": [
           "Topic 00",
           "Topic 01",
           "Topic 02",
           "Topic 03",
           "Topic 04",
           "Topic 05",
           "Topic 06",
           "Topic 07",
           "Topic 08",
           "Topic 09"
          ]
         },
         "type": "table"
        }
       ],
       "layout": {
        "template": {
         "data": {
          "bar": [
           {
            "error_x": {
             "color": "#2a3f5f"
            },
            "error_y": {
             "color": "#2a3f5f"
            },
            "marker": {
             "line": {
              "color": "#E5ECF6",
              "width": 0.5
             },
             "pattern": {
              "fillmode": "overlay",
              "size": 10,
              "solidity": 0.2
             }
            },
            "type": "bar"
           }
          ],
          "barpolar": [
           {
            "marker": {
             "line": {
              "color": "#E5ECF6",
              "width": 0.5
             },
             "pattern": {
              "fillmode": "overlay",
              "size": 10,
              "solidity": 0.2
             }
            },
            "type": "barpolar"
           }
          ],
          "carpet": [
           {
            "aaxis": {
             "endlinecolor": "#2a3f5f",
             "gridcolor": "white",
             "linecolor": "white",
             "minorgridcolor": "white",
             "startlinecolor": "#2a3f5f"
            },
            "baxis": {
             "endlinecolor": "#2a3f5f",
             "gridcolor": "white",
             "linecolor": "white",
             "minorgridcolor": "white",
             "startlinecolor": "#2a3f5f"
            },
            "type": "carpet"
           }
          ],
          "choropleth": [
           {
            "colorbar": {
             "outlinewidth": 0,
             "ticks": ""
            },
            "type": "choropleth"
           }
          ],
          "contour": [
           {
            "colorbar": {
             "outlinewidth": 0,
             "ticks": ""
            },
            "colorscale": [
             [
              0,
              "#0d0887"
             ],
             [
              0.1111111111111111,
              "#46039f"
             ],
             [
              0.2222222222222222,
              "#7201a8"
             ],
             [
              0.3333333333333333,
              "#9c179e"
             ],
             [
              0.4444444444444444,
              "#bd3786"
             ],
             [
              0.5555555555555556,
              "#d8576b"
             ],
             [
              0.6666666666666666,
              "#ed7953"
             ],
             [
              0.7777777777777778,
              "#fb9f3a"
             ],
             [
              0.8888888888888888,
              "#fdca26"
             ],
             [
              1,
              "#f0f921"
             ]
            ],
            "type": "contour"
           }
          ],
          "contourcarpet": [
           {
            "colorbar": {
             "outlinewidth": 0,
             "ticks": ""
            },
            "type": "contourcarpet"
           }
          ],
          "heatmap": [
           {
            "colorbar": {
             "outlinewidth": 0,
             "ticks": ""
            },
            "colorscale": [
             [
              0,
              "#0d0887"
             ],
             [
              0.1111111111111111,
              "#46039f"
             ],
             [
              0.2222222222222222,
              "#7201a8"
             ],
             [
              0.3333333333333333,
              "#9c179e"
             ],
             [
              0.4444444444444444,
              "#bd3786"
             ],
             [
              0.5555555555555556,
              "#d8576b"
             ],
             [
              0.6666666666666666,
              "#ed7953"
             ],
             [
              0.7777777777777778,
              "#fb9f3a"
             ],
             [
              0.8888888888888888,
              "#fdca26"
             ],
             [
              1,
              "#f0f921"
             ]
            ],
            "type": "heatmap"
           }
          ],
          "heatmapgl": [
           {
            "colorbar": {
             "outlinewidth": 0,
             "ticks": ""
            },
            "colorscale": [
             [
              0,
              "#0d0887"
             ],
             [
              0.1111111111111111,
              "#46039f"
             ],
             [
              0.2222222222222222,
              "#7201a8"
             ],
             [
              0.3333333333333333,
              "#9c179e"
             ],
             [
              0.4444444444444444,
              "#bd3786"
             ],
             [
              0.5555555555555556,
              "#d8576b"
             ],
             [
              0.6666666666666666,
              "#ed7953"
             ],
             [
              0.7777777777777778,
              "#fb9f3a"
             ],
             [
              0.8888888888888888,
              "#fdca26"
             ],
             [
              1,
              "#f0f921"
             ]
            ],
            "type": "heatmapgl"
           }
          ],
          "histogram": [
           {
            "marker": {
             "pattern": {
              "fillmode": "overlay",
              "size": 10,
              "solidity": 0.2
             }
            },
            "type": "histogram"
           }
          ],
          "histogram2d": [
           {
            "colorbar": {
             "outlinewidth": 0,
             "ticks": ""
            },
            "colorscale": [
             [
              0,
              "#0d0887"
             ],
             [
              0.1111111111111111,
              "#46039f"
             ],
             [
              0.2222222222222222,
              "#7201a8"
             ],
             [
              0.3333333333333333,
              "#9c179e"
             ],
             [
              0.4444444444444444,
              "#bd3786"
             ],
             [
              0.5555555555555556,
              "#d8576b"
             ],
             [
              0.6666666666666666,
              "#ed7953"
             ],
             [
              0.7777777777777778,
              "#fb9f3a"
             ],
             [
              0.8888888888888888,
              "#fdca26"
             ],
             [
              1,
              "#f0f921"
             ]
            ],
            "type": "histogram2d"
           }
          ],
          "histogram2dcontour": [
           {
            "colorbar": {
             "outlinewidth": 0,
             "ticks": ""
            },
            "colorscale": [
             [
              0,
              "#0d0887"
             ],
             [
              0.1111111111111111,
              "#46039f"
             ],
             [
              0.2222222222222222,
              "#7201a8"
             ],
             [
              0.3333333333333333,
              "#9c179e"
             ],
             [
              0.4444444444444444,
              "#bd3786"
             ],
             [
              0.5555555555555556,
              "#d8576b"
             ],
             [
              0.6666666666666666,
              "#ed7953"
             ],
             [
              0.7777777777777778,
              "#fb9f3a"
             ],
             [
              0.8888888888888888,
              "#fdca26"
             ],
             [
              1,
              "#f0f921"
             ]
            ],
            "type": "histogram2dcontour"
           }
          ],
          "mesh3d": [
           {
            "colorbar": {
             "outlinewidth": 0,
             "ticks": ""
            },
            "type": "mesh3d"
           }
          ],
          "parcoords": [
           {
            "line": {
             "colorbar": {
              "outlinewidth": 0,
              "ticks": ""
             }
            },
            "type": "parcoords"
           }
          ],
          "pie": [
           {
            "automargin": true,
            "type": "pie"
           }
          ],
          "scatter": [
           {
            "marker": {
             "colorbar": {
              "outlinewidth": 0,
              "ticks": ""
             }
            },
            "type": "scatter"
           }
          ],
          "scatter3d": [
           {
            "line": {
             "colorbar": {
              "outlinewidth": 0,
              "ticks": ""
             }
            },
            "marker": {
             "colorbar": {
              "outlinewidth": 0,
              "ticks": ""
             }
            },
            "type": "scatter3d"
           }
          ],
          "scattercarpet": [
           {
            "marker": {
             "colorbar": {
              "outlinewidth": 0,
              "ticks": ""
             }
            },
            "type": "scattercarpet"
           }
          ],
          "scattergeo": [
           {
            "marker": {
             "colorbar": {
              "outlinewidth": 0,
              "ticks": ""
             }
            },
            "type": "scattergeo"
           }
          ],
          "scattergl": [
           {
            "marker": {
             "colorbar": {
              "outlinewidth": 0,
              "ticks": ""
             }
            },
            "type": "scattergl"
           }
          ],
          "scattermapbox": [
           {
            "marker": {
             "colorbar": {
              "outlinewidth": 0,
              "ticks": ""
             }
            },
            "type": "scattermapbox"
           }
          ],
          "scatterpolar": [
           {
            "marker": {
             "colorbar": {
              "outlinewidth": 0,
              "ticks": ""
             }
            },
            "type": "scatterpolar"
           }
          ],
          "scatterpolargl": [
           {
            "marker": {
             "colorbar": {
              "outlinewidth": 0,
              "ticks": ""
             }
            },
            "type": "scatterpolargl"
           }
          ],
          "scatterternary": [
           {
            "marker": {
             "colorbar": {
              "outlinewidth": 0,
              "ticks": ""
             }
            },
            "type": "scatterternary"
           }
          ],
          "surface": [
           {
            "colorbar": {
             "outlinewidth": 0,
             "ticks": ""
            },
            "colorscale": [
             [
              0,
              "#0d0887"
             ],
             [
              0.1111111111111111,
              "#46039f"
             ],
             [
              0.2222222222222222,
              "#7201a8"
             ],
             [
              0.3333333333333333,
              "#9c179e"
             ],
             [
              0.4444444444444444,
              "#bd3786"
             ],
             [
              0.5555555555555556,
              "#d8576b"
             ],
             [
              0.6666666666666666,
              "#ed7953"
             ],
             [
              0.7777777777777778,
              "#fb9f3a"
             ],
             [
              0.8888888888888888,
              "#fdca26"
             ],
             [
              1,
              "#f0f921"
             ]
            ],
            "type": "surface"
           }
          ],
          "table": [
           {
            "cells": {
             "fill": {
              "color": "#EBF0F8"
             },
             "line": {
              "color": "white"
             }
            },
            "header": {
             "fill": {
              "color": "#C8D4E3"
             },
             "line": {
              "color": "white"
             }
            },
            "type": "table"
           }
          ]
         },
         "layout": {
          "annotationdefaults": {
           "arrowcolor": "#2a3f5f",
           "arrowhead": 0,
           "arrowwidth": 1
          },
          "autotypenumbers": "strict",
          "coloraxis": {
           "colorbar": {
            "outlinewidth": 0,
            "ticks": ""
           }
          },
          "colorscale": {
           "diverging": [
            [
             0,
             "#8e0152"
            ],
            [
             0.1,
             "#c51b7d"
            ],
            [
             0.2,
             "#de77ae"
            ],
            [
             0.3,
             "#f1b6da"
            ],
            [
             0.4,
             "#fde0ef"
            ],
            [
             0.5,
             "#f7f7f7"
            ],
            [
             0.6,
             "#e6f5d0"
            ],
            [
             0.7,
             "#b8e186"
            ],
            [
             0.8,
             "#7fbc41"
            ],
            [
             0.9,
             "#4d9221"
            ],
            [
             1,
             "#276419"
            ]
           ],
           "sequential": [
            [
             0,
             "#0d0887"
            ],
            [
             0.1111111111111111,
             "#46039f"
            ],
            [
             0.2222222222222222,
             "#7201a8"
            ],
            [
             0.3333333333333333,
             "#9c179e"
            ],
            [
             0.4444444444444444,
             "#bd3786"
            ],
            [
             0.5555555555555556,
             "#d8576b"
            ],
            [
             0.6666666666666666,
             "#ed7953"
            ],
            [
             0.7777777777777778,
             "#fb9f3a"
            ],
            [
             0.8888888888888888,
             "#fdca26"
            ],
            [
             1,
             "#f0f921"
            ]
           ],
           "sequentialminus": [
            [
             0,
             "#0d0887"
            ],
            [
             0.1111111111111111,
             "#46039f"
            ],
            [
             0.2222222222222222,
             "#7201a8"
            ],
            [
             0.3333333333333333,
             "#9c179e"
            ],
            [
             0.4444444444444444,
             "#bd3786"
            ],
            [
             0.5555555555555556,
             "#d8576b"
            ],
            [
             0.6666666666666666,
             "#ed7953"
            ],
            [
             0.7777777777777778,
             "#fb9f3a"
            ],
            [
             0.8888888888888888,
             "#fdca26"
            ],
            [
             1,
             "#f0f921"
            ]
           ]
          },
          "colorway": [
           "#636efa",
           "#EF553B",
           "#00cc96",
           "#ab63fa",
           "#FFA15A",
           "#19d3f3",
           "#FF6692",
           "#B6E880",
           "#FF97FF",
           "#FECB52"
          ],
          "font": {
           "color": "#2a3f5f"
          },
          "geo": {
           "bgcolor": "white",
           "lakecolor": "white",
           "landcolor": "#E5ECF6",
           "showlakes": true,
           "showland": true,
           "subunitcolor": "white"
          },
          "hoverlabel": {
           "align": "left"
          },
          "hovermode": "closest",
          "mapbox": {
           "style": "light"
          },
          "paper_bgcolor": "white",
          "plot_bgcolor": "#E5ECF6",
          "polar": {
           "angularaxis": {
            "gridcolor": "white",
            "linecolor": "white",
            "ticks": ""
           },
           "bgcolor": "#E5ECF6",
           "radialaxis": {
            "gridcolor": "white",
            "linecolor": "white",
            "ticks": ""
           }
          },
          "scene": {
           "xaxis": {
            "backgroundcolor": "#E5ECF6",
            "gridcolor": "white",
            "gridwidth": 2,
            "linecolor": "white",
            "showbackground": true,
            "ticks": "",
            "zerolinecolor": "white"
           },
           "yaxis": {
            "backgroundcolor": "#E5ECF6",
            "gridcolor": "white",
            "gridwidth": 2,
            "linecolor": "white",
            "showbackground": true,
            "ticks": "",
            "zerolinecolor": "white"
           },
           "zaxis": {
            "backgroundcolor": "#E5ECF6",
            "gridcolor": "white",
            "gridwidth": 2,
            "linecolor": "white",
            "showbackground": true,
            "ticks": "",
            "zerolinecolor": "white"
           }
          },
          "shapedefaults": {
           "line": {
            "color": "#2a3f5f"
           }
          },
          "ternary": {
           "aaxis": {
            "gridcolor": "white",
            "linecolor": "white",
            "ticks": ""
           },
           "baxis": {
            "gridcolor": "white",
            "linecolor": "white",
            "ticks": ""
           },
           "bgcolor": "#E5ECF6",
           "caxis": {
            "gridcolor": "white",
            "linecolor": "white",
            "ticks": ""
           }
          },
          "title": {
           "x": 0.05
          },
          "xaxis": {
           "automargin": true,
           "gridcolor": "white",
           "linecolor": "white",
           "ticks": "",
           "title": {
            "standoff": 15
           },
           "zerolinecolor": "white",
           "zerolinewidth": 2
          },
          "yaxis": {
           "automargin": true,
           "gridcolor": "white",
           "linecolor": "white",
           "ticks": "",
           "title": {
            "standoff": 15
           },
           "zerolinecolor": "white",
           "zerolinewidth": 2
          }
         }
        },
        "title": {
         "text": "Top words for the 10 topics"
        },
        "width": 1350
       }
      }
     },
     "metadata": {},
     "output_type": "display_data"
    },
    {
     "name": "stdout",
     "output_type": "stream",
     "text": [
      "Iter [100]===\n",
      "Topic 0: ['algorithm', 'training', 'problem', 'network', 'learning', 'set', 'method', 'error', 'classification', 'learn']\n",
      "Topic 1: ['network', 't', 'e', 'neural', 'd', 'function', 'analog', 'x', 'unit', 'n']\n",
      "Topic 2: ['signal', 'information', 'neuron', 'spike', 'time', 'code', 'model', 'noise', 'temporal', 'auditory']\n",
      "Topic 3: ['problem', 'algorithm', 'state', 'learning', 'reinforcement', 'function', 'decision', 'value', 'time', 'policy']\n",
      "Topic 4: ['learning', 'network', 'learn', 'system', 'model', 'neural', 'dynamic', 'time', 'rule', 'control']\n",
      "Topic 5: ['vector', 'x', 'function', 'datum', 'n', 'algorithm', 'linear', 'kernel', 'analysis', 'component']\n",
      "Topic 6: ['system', 'recognition', 'network', 'speech', 'neural', 'time', 'computer', 'application', 'character', 'word']\n",
      "Topic 7: ['model', 'visual', 'cell', 'neuron', 'cortex', 'system', 'field', 'input', 'activity', 'synaptic']\n",
      "Topic 8: ['image', 'object', 'representation', 'visual', 'model', 'feature', 'human', 'face', 'recognition', 'problem']\n",
      "Topic 9: ['model', 'datum', 'distribution', 'algorithm', 'variable', 'probability', 'method', 'gaussian', 'network', 'approach']\n"
     ]
    },
    {
     "data": {
      "application/vnd.plotly.v1+json": {
       "config": {
        "plotlyServerURL": "https://plot.ly"
       },
       "data": [
        {
         "cells": {
          "fill": {
           "color": [
            [
             "rgb(177.0, 205.66666666666666, 169.33333333333331)",
             "rgb(197.33333333333334, 219.11111111111111, 191.88888888888889)",
             "rgb(197.33333333333334, 219.11111111111111, 191.88888888888889)",
             "rgb(197.33333333333334, 219.11111111111111, 191.88888888888889)",
             "rgb(197.33333333333334, 219.11111111111111, 191.88888888888889)",
             "rgb(217.66666666666666, 232.55555555555554, 214.44444444444446)",
             "rgb(217.66666666666666, 232.55555555555554, 214.44444444444446)",
             "rgb(217.66666666666666, 232.55555555555554, 214.44444444444446)",
             "rgb(217.66666666666666, 232.55555555555554, 214.44444444444446)",
             "rgb(217.66666666666666, 232.55555555555554, 214.44444444444446)"
            ],
            [
             "rgb(136.33333333333334, 178.77777777777777, 124.22222222222221)",
             "rgb(177.0, 205.66666666666666, 169.33333333333331)",
             "rgb(197.33333333333334, 219.11111111111111, 191.88888888888889)",
             "rgb(197.33333333333334, 219.11111111111111, 191.88888888888889)",
             "rgb(197.33333333333334, 219.11111111111111, 191.88888888888889)",
             "rgb(197.33333333333334, 219.11111111111111, 191.88888888888889)",
             "rgb(197.33333333333334, 219.11111111111111, 191.88888888888889)",
             "rgb(197.33333333333334, 219.11111111111111, 191.88888888888889)",
             "rgb(197.33333333333334, 219.11111111111111, 191.88888888888889)",
             "rgb(217.66666666666666, 232.55555555555554, 214.44444444444446)"
            ],
            [
             "rgb(177.0, 205.66666666666666, 169.33333333333331)",
             "rgb(197.33333333333334, 219.11111111111111, 191.88888888888889)",
             "rgb(197.33333333333334, 219.11111111111111, 191.88888888888889)",
             "rgb(197.33333333333334, 219.11111111111111, 191.88888888888889)",
             "rgb(217.66666666666666, 232.55555555555554, 214.44444444444446)",
             "rgb(217.66666666666666, 232.55555555555554, 214.44444444444446)",
             "rgb(217.66666666666666, 232.55555555555554, 214.44444444444446)",
             "rgb(217.66666666666666, 232.55555555555554, 214.44444444444446)",
             "rgb(217.66666666666666, 232.55555555555554, 214.44444444444446)",
             "rgb(217.66666666666666, 232.55555555555554, 214.44444444444446)"
            ],
            [
             "rgb(177.0, 205.66666666666666, 169.33333333333331)",
             "rgb(177.0, 205.66666666666666, 169.33333333333331)",
             "rgb(197.33333333333334, 219.11111111111111, 191.88888888888889)",
             "rgb(197.33333333333334, 219.11111111111111, 191.88888888888889)",
             "rgb(197.33333333333334, 219.11111111111111, 191.88888888888889)",
             "rgb(197.33333333333334, 219.11111111111111, 191.88888888888889)",
             "rgb(217.66666666666666, 232.55555555555554, 214.44444444444446)",
             "rgb(217.66666666666666, 232.55555555555554, 214.44444444444446)",
             "rgb(217.66666666666666, 232.55555555555554, 214.44444444444446)",
             "rgb(217.66666666666666, 232.55555555555554, 214.44444444444446)"
            ],
            [
             "rgb(136.33333333333334, 178.77777777777777, 124.22222222222221)",
             "rgb(156.66666666666669, 192.22222222222223, 146.77777777777777)",
             "rgb(177.0, 205.66666666666666, 169.33333333333331)",
             "rgb(177.0, 205.66666666666666, 169.33333333333331)",
             "rgb(197.33333333333334, 219.11111111111111, 191.88888888888889)",
             "rgb(197.33333333333334, 219.11111111111111, 191.88888888888889)",
             "rgb(197.33333333333334, 219.11111111111111, 191.88888888888889)",
             "rgb(217.66666666666666, 232.55555555555554, 214.44444444444446)",
             "rgb(217.66666666666666, 232.55555555555554, 214.44444444444446)",
             "rgb(217.66666666666666, 232.55555555555554, 214.44444444444446)"
            ],
            [
             "rgb(177.0, 205.66666666666666, 169.33333333333331)",
             "rgb(177.0, 205.66666666666666, 169.33333333333331)",
             "rgb(177.0, 205.66666666666666, 169.33333333333331)",
             "rgb(197.33333333333334, 219.11111111111111, 191.88888888888889)",
             "rgb(197.33333333333334, 219.11111111111111, 191.88888888888889)",
             "rgb(197.33333333333334, 219.11111111111111, 191.88888888888889)",
             "rgb(217.66666666666666, 232.55555555555554, 214.44444444444446)",
             "rgb(217.66666666666666, 232.55555555555554, 214.44444444444446)",
             "rgb(217.66666666666666, 232.55555555555554, 214.44444444444446)",
             "rgb(217.66666666666666, 232.55555555555554, 214.44444444444446)"
            ],
            [
             "rgb(156.66666666666669, 192.22222222222223, 146.77777777777777)",
             "rgb(177.0, 205.66666666666666, 169.33333333333331)",
             "rgb(197.33333333333334, 219.11111111111111, 191.88888888888889)",
             "rgb(197.33333333333334, 219.11111111111111, 191.88888888888889)",
             "rgb(197.33333333333334, 219.11111111111111, 191.88888888888889)",
             "rgb(217.66666666666666, 232.55555555555554, 214.44444444444446)",
             "rgb(217.66666666666666, 232.55555555555554, 214.44444444444446)",
             "rgb(217.66666666666666, 232.55555555555554, 214.44444444444446)",
             "rgb(217.66666666666666, 232.55555555555554, 214.44444444444446)",
             "rgb(217.66666666666666, 232.55555555555554, 214.44444444444446)"
            ],
            [
             "rgb(197.33333333333334, 219.11111111111111, 191.88888888888889)",
             "rgb(197.33333333333334, 219.11111111111111, 191.88888888888889)",
             "rgb(217.66666666666666, 232.55555555555554, 214.44444444444446)",
             "rgb(217.66666666666666, 232.55555555555554, 214.44444444444446)",
             "rgb(217.66666666666666, 232.55555555555554, 214.44444444444446)",
             "rgb(217.66666666666666, 232.55555555555554, 214.44444444444446)",
             "rgb(217.66666666666666, 232.55555555555554, 214.44444444444446)",
             "rgb(217.66666666666666, 232.55555555555554, 214.44444444444446)",
             "rgb(217.66666666666666, 232.55555555555554, 214.44444444444446)",
             "rgb(217.66666666666666, 232.55555555555554, 214.44444444444446)"
            ],
            [
             "rgb(136.33333333333334, 178.77777777777777, 124.22222222222221)",
             "rgb(177.0, 205.66666666666666, 169.33333333333331)",
             "rgb(217.66666666666666, 232.55555555555554, 214.44444444444446)",
             "rgb(217.66666666666666, 232.55555555555554, 214.44444444444446)",
             "rgb(217.66666666666666, 232.55555555555554, 214.44444444444446)",
             "rgb(217.66666666666666, 232.55555555555554, 214.44444444444446)",
             "rgb(217.66666666666666, 232.55555555555554, 214.44444444444446)",
             "rgb(217.66666666666666, 232.55555555555554, 214.44444444444446)",
             "rgb(217.66666666666666, 232.55555555555554, 214.44444444444446)",
             "rgb(217.66666666666666, 232.55555555555554, 214.44444444444446)"
            ],
            [
             "rgb(95.66666666666669, 151.88888888888889, 79.11111111111109)",
             "rgb(197.33333333333334, 219.11111111111111, 191.88888888888889)",
             "rgb(217.66666666666666, 232.55555555555554, 214.44444444444446)",
             "rgb(217.66666666666666, 232.55555555555554, 214.44444444444446)",
             "rgb(217.66666666666666, 232.55555555555554, 214.44444444444446)",
             "rgb(217.66666666666666, 232.55555555555554, 214.44444444444446)",
             "rgb(217.66666666666666, 232.55555555555554, 214.44444444444446)",
             "rgb(217.66666666666666, 232.55555555555554, 214.44444444444446)",
             "rgb(217.66666666666666, 232.55555555555554, 214.44444444444446)",
             "rgb(217.66666666666666, 232.55555555555554, 214.44444444444446)"
            ]
           ]
          },
          "values": [
           [
            "algorithm",
            "training",
            "problem",
            "network",
            "learning",
            "set",
            "method",
            "error",
            "classification",
            "learn"
           ],
           [
            "network",
            "t",
            "e",
            "neural",
            "d",
            "function",
            "analog",
            "x",
            "unit",
            "n"
           ],
           [
            "signal",
            "information",
            "neuron",
            "spike",
            "time",
            "code",
            "model",
            "noise",
            "temporal",
            "auditory"
           ],
           [
            "problem",
            "algorithm",
            "state",
            "learning",
            "reinforcement",
            "function",
            "decision",
            "value",
            "time",
            "policy"
           ],
           [
            "learning",
            "network",
            "learn",
            "system",
            "model",
            "neural",
            "dynamic",
            "time",
            "rule",
            "control"
           ],
           [
            "vector",
            "x",
            "function",
            "datum",
            "n",
            "algorithm",
            "linear",
            "kernel",
            "analysis",
            "component"
           ],
           [
            "system",
            "recognition",
            "network",
            "speech",
            "neural",
            "time",
            "computer",
            "application",
            "character",
            "word"
           ],
           [
            "model",
            "visual",
            "cell",
            "neuron",
            "cortex",
            "system",
            "field",
            "input",
            "activity",
            "synaptic"
           ],
           [
            "image",
            "object",
            "representation",
            "visual",
            "model",
            "feature",
            "human",
            "face",
            "recognition",
            "problem"
           ],
           [
            "model",
            "datum",
            "distribution",
            "algorithm",
            "variable",
            "probability",
            "method",
            "gaussian",
            "network",
            "approach"
           ]
          ]
         },
         "header": {
          "fill": {
           "color": "rgb(220, 220, 220)"
          },
          "values": [
           "Topic 00",
           "Topic 01",
           "Topic 02",
           "Topic 03",
           "Topic 04",
           "Topic 05",
           "Topic 06",
           "Topic 07",
           "Topic 08",
           "Topic 09"
          ]
         },
         "type": "table"
        }
       ],
       "layout": {
        "template": {
         "data": {
          "bar": [
           {
            "error_x": {
             "color": "#2a3f5f"
            },
            "error_y": {
             "color": "#2a3f5f"
            },
            "marker": {
             "line": {
              "color": "#E5ECF6",
              "width": 0.5
             },
             "pattern": {
              "fillmode": "overlay",
              "size": 10,
              "solidity": 0.2
             }
            },
            "type": "bar"
           }
          ],
          "barpolar": [
           {
            "marker": {
             "line": {
              "color": "#E5ECF6",
              "width": 0.5
             },
             "pattern": {
              "fillmode": "overlay",
              "size": 10,
              "solidity": 0.2
             }
            },
            "type": "barpolar"
           }
          ],
          "carpet": [
           {
            "aaxis": {
             "endlinecolor": "#2a3f5f",
             "gridcolor": "white",
             "linecolor": "white",
             "minorgridcolor": "white",
             "startlinecolor": "#2a3f5f"
            },
            "baxis": {
             "endlinecolor": "#2a3f5f",
             "gridcolor": "white",
             "linecolor": "white",
             "minorgridcolor": "white",
             "startlinecolor": "#2a3f5f"
            },
            "type": "carpet"
           }
          ],
          "choropleth": [
           {
            "colorbar": {
             "outlinewidth": 0,
             "ticks": ""
            },
            "type": "choropleth"
           }
          ],
          "contour": [
           {
            "colorbar": {
             "outlinewidth": 0,
             "ticks": ""
            },
            "colorscale": [
             [
              0,
              "#0d0887"
             ],
             [
              0.1111111111111111,
              "#46039f"
             ],
             [
              0.2222222222222222,
              "#7201a8"
             ],
             [
              0.3333333333333333,
              "#9c179e"
             ],
             [
              0.4444444444444444,
              "#bd3786"
             ],
             [
              0.5555555555555556,
              "#d8576b"
             ],
             [
              0.6666666666666666,
              "#ed7953"
             ],
             [
              0.7777777777777778,
              "#fb9f3a"
             ],
             [
              0.8888888888888888,
              "#fdca26"
             ],
             [
              1,
              "#f0f921"
             ]
            ],
            "type": "contour"
           }
          ],
          "contourcarpet": [
           {
            "colorbar": {
             "outlinewidth": 0,
             "ticks": ""
            },
            "type": "contourcarpet"
           }
          ],
          "heatmap": [
           {
            "colorbar": {
             "outlinewidth": 0,
             "ticks": ""
            },
            "colorscale": [
             [
              0,
              "#0d0887"
             ],
             [
              0.1111111111111111,
              "#46039f"
             ],
             [
              0.2222222222222222,
              "#7201a8"
             ],
             [
              0.3333333333333333,
              "#9c179e"
             ],
             [
              0.4444444444444444,
              "#bd3786"
             ],
             [
              0.5555555555555556,
              "#d8576b"
             ],
             [
              0.6666666666666666,
              "#ed7953"
             ],
             [
              0.7777777777777778,
              "#fb9f3a"
             ],
             [
              0.8888888888888888,
              "#fdca26"
             ],
             [
              1,
              "#f0f921"
             ]
            ],
            "type": "heatmap"
           }
          ],
          "heatmapgl": [
           {
            "colorbar": {
             "outlinewidth": 0,
             "ticks": ""
            },
            "colorscale": [
             [
              0,
              "#0d0887"
             ],
             [
              0.1111111111111111,
              "#46039f"
             ],
             [
              0.2222222222222222,
              "#7201a8"
             ],
             [
              0.3333333333333333,
              "#9c179e"
             ],
             [
              0.4444444444444444,
              "#bd3786"
             ],
             [
              0.5555555555555556,
              "#d8576b"
             ],
             [
              0.6666666666666666,
              "#ed7953"
             ],
             [
              0.7777777777777778,
              "#fb9f3a"
             ],
             [
              0.8888888888888888,
              "#fdca26"
             ],
             [
              1,
              "#f0f921"
             ]
            ],
            "type": "heatmapgl"
           }
          ],
          "histogram": [
           {
            "marker": {
             "pattern": {
              "fillmode": "overlay",
              "size": 10,
              "solidity": 0.2
             }
            },
            "type": "histogram"
           }
          ],
          "histogram2d": [
           {
            "colorbar": {
             "outlinewidth": 0,
             "ticks": ""
            },
            "colorscale": [
             [
              0,
              "#0d0887"
             ],
             [
              0.1111111111111111,
              "#46039f"
             ],
             [
              0.2222222222222222,
              "#7201a8"
             ],
             [
              0.3333333333333333,
              "#9c179e"
             ],
             [
              0.4444444444444444,
              "#bd3786"
             ],
             [
              0.5555555555555556,
              "#d8576b"
             ],
             [
              0.6666666666666666,
              "#ed7953"
             ],
             [
              0.7777777777777778,
              "#fb9f3a"
             ],
             [
              0.8888888888888888,
              "#fdca26"
             ],
             [
              1,
              "#f0f921"
             ]
            ],
            "type": "histogram2d"
           }
          ],
          "histogram2dcontour": [
           {
            "colorbar": {
             "outlinewidth": 0,
             "ticks": ""
            },
            "colorscale": [
             [
              0,
              "#0d0887"
             ],
             [
              0.1111111111111111,
              "#46039f"
             ],
             [
              0.2222222222222222,
              "#7201a8"
             ],
             [
              0.3333333333333333,
              "#9c179e"
             ],
             [
              0.4444444444444444,
              "#bd3786"
             ],
             [
              0.5555555555555556,
              "#d8576b"
             ],
             [
              0.6666666666666666,
              "#ed7953"
             ],
             [
              0.7777777777777778,
              "#fb9f3a"
             ],
             [
              0.8888888888888888,
              "#fdca26"
             ],
             [
              1,
              "#f0f921"
             ]
            ],
            "type": "histogram2dcontour"
           }
          ],
          "mesh3d": [
           {
            "colorbar": {
             "outlinewidth": 0,
             "ticks": ""
            },
            "type": "mesh3d"
           }
          ],
          "parcoords": [
           {
            "line": {
             "colorbar": {
              "outlinewidth": 0,
              "ticks": ""
             }
            },
            "type": "parcoords"
           }
          ],
          "pie": [
           {
            "automargin": true,
            "type": "pie"
           }
          ],
          "scatter": [
           {
            "marker": {
             "colorbar": {
              "outlinewidth": 0,
              "ticks": ""
             }
            },
            "type": "scatter"
           }
          ],
          "scatter3d": [
           {
            "line": {
             "colorbar": {
              "outlinewidth": 0,
              "ticks": ""
             }
            },
            "marker": {
             "colorbar": {
              "outlinewidth": 0,
              "ticks": ""
             }
            },
            "type": "scatter3d"
           }
          ],
          "scattercarpet": [
           {
            "marker": {
             "colorbar": {
              "outlinewidth": 0,
              "ticks": ""
             }
            },
            "type": "scattercarpet"
           }
          ],
          "scattergeo": [
           {
            "marker": {
             "colorbar": {
              "outlinewidth": 0,
              "ticks": ""
             }
            },
            "type": "scattergeo"
           }
          ],
          "scattergl": [
           {
            "marker": {
             "colorbar": {
              "outlinewidth": 0,
              "ticks": ""
             }
            },
            "type": "scattergl"
           }
          ],
          "scattermapbox": [
           {
            "marker": {
             "colorbar": {
              "outlinewidth": 0,
              "ticks": ""
             }
            },
            "type": "scattermapbox"
           }
          ],
          "scatterpolar": [
           {
            "marker": {
             "colorbar": {
              "outlinewidth": 0,
              "ticks": ""
             }
            },
            "type": "scatterpolar"
           }
          ],
          "scatterpolargl": [
           {
            "marker": {
             "colorbar": {
              "outlinewidth": 0,
              "ticks": ""
             }
            },
            "type": "scatterpolargl"
           }
          ],
          "scatterternary": [
           {
            "marker": {
             "colorbar": {
              "outlinewidth": 0,
              "ticks": ""
             }
            },
            "type": "scatterternary"
           }
          ],
          "surface": [
           {
            "colorbar": {
             "outlinewidth": 0,
             "ticks": ""
            },
            "colorscale": [
             [
              0,
              "#0d0887"
             ],
             [
              0.1111111111111111,
              "#46039f"
             ],
             [
              0.2222222222222222,
              "#7201a8"
             ],
             [
              0.3333333333333333,
              "#9c179e"
             ],
             [
              0.4444444444444444,
              "#bd3786"
             ],
             [
              0.5555555555555556,
              "#d8576b"
             ],
             [
              0.6666666666666666,
              "#ed7953"
             ],
             [
              0.7777777777777778,
              "#fb9f3a"
             ],
             [
              0.8888888888888888,
              "#fdca26"
             ],
             [
              1,
              "#f0f921"
             ]
            ],
            "type": "surface"
           }
          ],
          "table": [
           {
            "cells": {
             "fill": {
              "color": "#EBF0F8"
             },
             "line": {
              "color": "white"
             }
            },
            "header": {
             "fill": {
              "color": "#C8D4E3"
             },
             "line": {
              "color": "white"
             }
            },
            "type": "table"
           }
          ]
         },
         "layout": {
          "annotationdefaults": {
           "arrowcolor": "#2a3f5f",
           "arrowhead": 0,
           "arrowwidth": 1
          },
          "autotypenumbers": "strict",
          "coloraxis": {
           "colorbar": {
            "outlinewidth": 0,
            "ticks": ""
           }
          },
          "colorscale": {
           "diverging": [
            [
             0,
             "#8e0152"
            ],
            [
             0.1,
             "#c51b7d"
            ],
            [
             0.2,
             "#de77ae"
            ],
            [
             0.3,
             "#f1b6da"
            ],
            [
             0.4,
             "#fde0ef"
            ],
            [
             0.5,
             "#f7f7f7"
            ],
            [
             0.6,
             "#e6f5d0"
            ],
            [
             0.7,
             "#b8e186"
            ],
            [
             0.8,
             "#7fbc41"
            ],
            [
             0.9,
             "#4d9221"
            ],
            [
             1,
             "#276419"
            ]
           ],
           "sequential": [
            [
             0,
             "#0d0887"
            ],
            [
             0.1111111111111111,
             "#46039f"
            ],
            [
             0.2222222222222222,
             "#7201a8"
            ],
            [
             0.3333333333333333,
             "#9c179e"
            ],
            [
             0.4444444444444444,
             "#bd3786"
            ],
            [
             0.5555555555555556,
             "#d8576b"
            ],
            [
             0.6666666666666666,
             "#ed7953"
            ],
            [
             0.7777777777777778,
             "#fb9f3a"
            ],
            [
             0.8888888888888888,
             "#fdca26"
            ],
            [
             1,
             "#f0f921"
            ]
           ],
           "sequentialminus": [
            [
             0,
             "#0d0887"
            ],
            [
             0.1111111111111111,
             "#46039f"
            ],
            [
             0.2222222222222222,
             "#7201a8"
            ],
            [
             0.3333333333333333,
             "#9c179e"
            ],
            [
             0.4444444444444444,
             "#bd3786"
            ],
            [
             0.5555555555555556,
             "#d8576b"
            ],
            [
             0.6666666666666666,
             "#ed7953"
            ],
            [
             0.7777777777777778,
             "#fb9f3a"
            ],
            [
             0.8888888888888888,
             "#fdca26"
            ],
            [
             1,
             "#f0f921"
            ]
           ]
          },
          "colorway": [
           "#636efa",
           "#EF553B",
           "#00cc96",
           "#ab63fa",
           "#FFA15A",
           "#19d3f3",
           "#FF6692",
           "#B6E880",
           "#FF97FF",
           "#FECB52"
          ],
          "font": {
           "color": "#2a3f5f"
          },
          "geo": {
           "bgcolor": "white",
           "lakecolor": "white",
           "landcolor": "#E5ECF6",
           "showlakes": true,
           "showland": true,
           "subunitcolor": "white"
          },
          "hoverlabel": {
           "align": "left"
          },
          "hovermode": "closest",
          "mapbox": {
           "style": "light"
          },
          "paper_bgcolor": "white",
          "plot_bgcolor": "#E5ECF6",
          "polar": {
           "angularaxis": {
            "gridcolor": "white",
            "linecolor": "white",
            "ticks": ""
           },
           "bgcolor": "#E5ECF6",
           "radialaxis": {
            "gridcolor": "white",
            "linecolor": "white",
            "ticks": ""
           }
          },
          "scene": {
           "xaxis": {
            "backgroundcolor": "#E5ECF6",
            "gridcolor": "white",
            "gridwidth": 2,
            "linecolor": "white",
            "showbackground": true,
            "ticks": "",
            "zerolinecolor": "white"
           },
           "yaxis": {
            "backgroundcolor": "#E5ECF6",
            "gridcolor": "white",
            "gridwidth": 2,
            "linecolor": "white",
            "showbackground": true,
            "ticks": "",
            "zerolinecolor": "white"
           },
           "zaxis": {
            "backgroundcolor": "#E5ECF6",
            "gridcolor": "white",
            "gridwidth": 2,
            "linecolor": "white",
            "showbackground": true,
            "ticks": "",
            "zerolinecolor": "white"
           }
          },
          "shapedefaults": {
           "line": {
            "color": "#2a3f5f"
           }
          },
          "ternary": {
           "aaxis": {
            "gridcolor": "white",
            "linecolor": "white",
            "ticks": ""
           },
           "baxis": {
            "gridcolor": "white",
            "linecolor": "white",
            "ticks": ""
           },
           "bgcolor": "#E5ECF6",
           "caxis": {
            "gridcolor": "white",
            "linecolor": "white",
            "ticks": ""
           }
          },
          "title": {
           "x": 0.05
          },
          "xaxis": {
           "automargin": true,
           "gridcolor": "white",
           "linecolor": "white",
           "ticks": "",
           "title": {
            "standoff": 15
           },
           "zerolinecolor": "white",
           "zerolinewidth": 2
          },
          "yaxis": {
           "automargin": true,
           "gridcolor": "white",
           "linecolor": "white",
           "ticks": "",
           "title": {
            "standoff": 15
           },
           "zerolinecolor": "white",
           "zerolinewidth": 2
          }
         }
        },
        "title": {
         "text": "Top words for the 10 topics"
        },
        "width": 1350
       }
      }
     },
     "metadata": {},
     "output_type": "display_data"
    },
    {
     "name": "stdout",
     "output_type": "stream",
     "text": [
      "Iter [150]===\n",
      "Topic 0: ['algorithm', 'training', 'problem', 'method', 'error', 'function', 'set', 'learning', 'classification', 'learn']\n",
      "Topic 1: ['network', 't', 'neural', 'e', 'd', 'x', 'analog', 'l', 'function', 'circuit']\n",
      "Topic 2: ['signal', 'information', 'spike', 'noise', 'time', 'neuron', 'system', 'code', 'source', 'auditory']\n",
      "Topic 3: ['problem', 'learning', 'state', 'algorithm', 'reinforcement', 'function', 'control', 'decision', 'value', 'time']\n",
      "Topic 4: ['network', 'learning', 'model', 'learn', 'neural', 'system', 'dynamic', 'time', 'input', 'rule']\n",
      "Topic 5: ['vector', 'x', 'function', 'datum', 'algorithm', 'n', 'linear', 'feature', 'space', 'kernel']\n",
      "Topic 6: ['system', 'recognition', 'speech', 'network', 'neural', 'word', 'application', 'computer', 'base', 'character']\n",
      "Topic 7: ['model', 'neuron', 'visual', 'cell', 'cortex', 'activity', 'input', 'university', 'field', 'cortical']\n",
      "Topic 8: ['image', 'object', 'visual', 'human', 'representation', 'model', 'recognition', 'face', 'feature', 'problem']\n",
      "Topic 9: ['model', 'datum', 'distribution', 'algorithm', 'probability', 'variable', 'network', 'method', 'approach', 'gaussian']\n"
     ]
    },
    {
     "data": {
      "application/vnd.plotly.v1+json": {
       "config": {
        "plotlyServerURL": "https://plot.ly"
       },
       "data": [
        {
         "cells": {
          "fill": {
           "color": [
            [
             "rgb(177.0, 205.66666666666666, 169.33333333333331)",
             "rgb(197.33333333333334, 219.11111111111111, 191.88888888888889)",
             "rgb(197.33333333333334, 219.11111111111111, 191.88888888888889)",
             "rgb(197.33333333333334, 219.11111111111111, 191.88888888888889)",
             "rgb(217.66666666666666, 232.55555555555554, 214.44444444444446)",
             "rgb(217.66666666666666, 232.55555555555554, 214.44444444444446)",
             "rgb(217.66666666666666, 232.55555555555554, 214.44444444444446)",
             "rgb(217.66666666666666, 232.55555555555554, 214.44444444444446)",
             "rgb(217.66666666666666, 232.55555555555554, 214.44444444444446)",
             "rgb(217.66666666666666, 232.55555555555554, 214.44444444444446)"
            ],
            [
             "rgb(136.33333333333334, 178.77777777777777, 124.22222222222221)",
             "rgb(177.0, 205.66666666666666, 169.33333333333331)",
             "rgb(177.0, 205.66666666666666, 169.33333333333331)",
             "rgb(197.33333333333334, 219.11111111111111, 191.88888888888889)",
             "rgb(197.33333333333334, 219.11111111111111, 191.88888888888889)",
             "rgb(197.33333333333334, 219.11111111111111, 191.88888888888889)",
             "rgb(197.33333333333334, 219.11111111111111, 191.88888888888889)",
             "rgb(197.33333333333334, 219.11111111111111, 191.88888888888889)",
             "rgb(197.33333333333334, 219.11111111111111, 191.88888888888889)",
             "rgb(197.33333333333334, 219.11111111111111, 191.88888888888889)"
            ],
            [
             "rgb(177.0, 205.66666666666666, 169.33333333333331)",
             "rgb(197.33333333333334, 219.11111111111111, 191.88888888888889)",
             "rgb(197.33333333333334, 219.11111111111111, 191.88888888888889)",
             "rgb(217.66666666666666, 232.55555555555554, 214.44444444444446)",
             "rgb(217.66666666666666, 232.55555555555554, 214.44444444444446)",
             "rgb(217.66666666666666, 232.55555555555554, 214.44444444444446)",
             "rgb(217.66666666666666, 232.55555555555554, 214.44444444444446)",
             "rgb(217.66666666666666, 232.55555555555554, 214.44444444444446)",
             "rgb(217.66666666666666, 232.55555555555554, 214.44444444444446)",
             "rgb(217.66666666666666, 232.55555555555554, 214.44444444444446)"
            ],
            [
             "rgb(156.66666666666669, 192.22222222222223, 146.77777777777777)",
             "rgb(177.0, 205.66666666666666, 169.33333333333331)",
             "rgb(177.0, 205.66666666666666, 169.33333333333331)",
             "rgb(177.0, 205.66666666666666, 169.33333333333331)",
             "rgb(197.33333333333334, 219.11111111111111, 191.88888888888889)",
             "rgb(197.33333333333334, 219.11111111111111, 191.88888888888889)",
             "rgb(217.66666666666666, 232.55555555555554, 214.44444444444446)",
             "rgb(217.66666666666666, 232.55555555555554, 214.44444444444446)",
             "rgb(217.66666666666666, 232.55555555555554, 214.44444444444446)",
             "rgb(217.66666666666666, 232.55555555555554, 214.44444444444446)"
            ],
            [
             "rgb(136.33333333333334, 178.77777777777777, 124.22222222222221)",
             "rgb(156.66666666666669, 192.22222222222223, 146.77777777777777)",
             "rgb(197.33333333333334, 219.11111111111111, 191.88888888888889)",
             "rgb(197.33333333333334, 219.11111111111111, 191.88888888888889)",
             "rgb(197.33333333333334, 219.11111111111111, 191.88888888888889)",
             "rgb(197.33333333333334, 219.11111111111111, 191.88888888888889)",
             "rgb(217.66666666666666, 232.55555555555554, 214.44444444444446)",
             "rgb(217.66666666666666, 232.55555555555554, 214.44444444444446)",
             "rgb(217.66666666666666, 232.55555555555554, 214.44444444444446)",
             "rgb(217.66666666666666, 232.55555555555554, 214.44444444444446)"
            ],
            [
             "rgb(177.0, 205.66666666666666, 169.33333333333331)",
             "rgb(177.0, 205.66666666666666, 169.33333333333331)",
             "rgb(197.33333333333334, 219.11111111111111, 191.88888888888889)",
             "rgb(197.33333333333334, 219.11111111111111, 191.88888888888889)",
             "rgb(197.33333333333334, 219.11111111111111, 191.88888888888889)",
             "rgb(197.33333333333334, 219.11111111111111, 191.88888888888889)",
             "rgb(217.66666666666666, 232.55555555555554, 214.44444444444446)",
             "rgb(217.66666666666666, 232.55555555555554, 214.44444444444446)",
             "rgb(217.66666666666666, 232.55555555555554, 214.44444444444446)",
             "rgb(217.66666666666666, 232.55555555555554, 214.44444444444446)"
            ],
            [
             "rgb(156.66666666666669, 192.22222222222223, 146.77777777777777)",
             "rgb(177.0, 205.66666666666666, 169.33333333333331)",
             "rgb(197.33333333333334, 219.11111111111111, 191.88888888888889)",
             "rgb(197.33333333333334, 219.11111111111111, 191.88888888888889)",
             "rgb(197.33333333333334, 219.11111111111111, 191.88888888888889)",
             "rgb(217.66666666666666, 232.55555555555554, 214.44444444444446)",
             "rgb(217.66666666666666, 232.55555555555554, 214.44444444444446)",
             "rgb(217.66666666666666, 232.55555555555554, 214.44444444444446)",
             "rgb(217.66666666666666, 232.55555555555554, 214.44444444444446)",
             "rgb(217.66666666666666, 232.55555555555554, 214.44444444444446)"
            ],
            [
             "rgb(177.0, 205.66666666666666, 169.33333333333331)",
             "rgb(197.33333333333334, 219.11111111111111, 191.88888888888889)",
             "rgb(197.33333333333334, 219.11111111111111, 191.88888888888889)",
             "rgb(197.33333333333334, 219.11111111111111, 191.88888888888889)",
             "rgb(217.66666666666666, 232.55555555555554, 214.44444444444446)",
             "rgb(217.66666666666666, 232.55555555555554, 214.44444444444446)",
             "rgb(217.66666666666666, 232.55555555555554, 214.44444444444446)",
             "rgb(217.66666666666666, 232.55555555555554, 214.44444444444446)",
             "rgb(217.66666666666666, 232.55555555555554, 214.44444444444446)",
             "rgb(217.66666666666666, 232.55555555555554, 214.44444444444446)"
            ],
            [
             "rgb(136.33333333333334, 178.77777777777777, 124.22222222222221)",
             "rgb(177.0, 205.66666666666666, 169.33333333333331)",
             "rgb(217.66666666666666, 232.55555555555554, 214.44444444444446)",
             "rgb(217.66666666666666, 232.55555555555554, 214.44444444444446)",
             "rgb(217.66666666666666, 232.55555555555554, 214.44444444444446)",
             "rgb(217.66666666666666, 232.55555555555554, 214.44444444444446)",
             "rgb(217.66666666666666, 232.55555555555554, 214.44444444444446)",
             "rgb(217.66666666666666, 232.55555555555554, 214.44444444444446)",
             "rgb(217.66666666666666, 232.55555555555554, 214.44444444444446)",
             "rgb(217.66666666666666, 232.55555555555554, 214.44444444444446)"
            ],
            [
             "rgb(95.66666666666669, 151.88888888888889, 79.11111111111109)",
             "rgb(197.33333333333334, 219.11111111111111, 191.88888888888889)",
             "rgb(217.66666666666666, 232.55555555555554, 214.44444444444446)",
             "rgb(217.66666666666666, 232.55555555555554, 214.44444444444446)",
             "rgb(217.66666666666666, 232.55555555555554, 214.44444444444446)",
             "rgb(217.66666666666666, 232.55555555555554, 214.44444444444446)",
             "rgb(217.66666666666666, 232.55555555555554, 214.44444444444446)",
             "rgb(217.66666666666666, 232.55555555555554, 214.44444444444446)",
             "rgb(217.66666666666666, 232.55555555555554, 214.44444444444446)",
             "rgb(217.66666666666666, 232.55555555555554, 214.44444444444446)"
            ]
           ]
          },
          "values": [
           [
            "algorithm",
            "training",
            "problem",
            "method",
            "error",
            "function",
            "set",
            "learning",
            "classification",
            "learn"
           ],
           [
            "network",
            "t",
            "neural",
            "e",
            "d",
            "x",
            "analog",
            "l",
            "function",
            "circuit"
           ],
           [
            "signal",
            "information",
            "spike",
            "noise",
            "time",
            "neuron",
            "system",
            "code",
            "source",
            "auditory"
           ],
           [
            "problem",
            "learning",
            "state",
            "algorithm",
            "reinforcement",
            "function",
            "control",
            "decision",
            "value",
            "time"
           ],
           [
            "network",
            "learning",
            "model",
            "learn",
            "neural",
            "system",
            "dynamic",
            "time",
            "input",
            "rule"
           ],
           [
            "vector",
            "x",
            "function",
            "datum",
            "algorithm",
            "n",
            "linear",
            "feature",
            "space",
            "kernel"
           ],
           [
            "system",
            "recognition",
            "speech",
            "network",
            "neural",
            "word",
            "application",
            "computer",
            "base",
            "character"
           ],
           [
            "model",
            "neuron",
            "visual",
            "cell",
            "cortex",
            "activity",
            "input",
            "university",
            "field",
            "cortical"
           ],
           [
            "image",
            "object",
            "visual",
            "human",
            "representation",
            "model",
            "recognition",
            "face",
            "feature",
            "problem"
           ],
           [
            "model",
            "datum",
            "distribution",
            "algorithm",
            "probability",
            "variable",
            "network",
            "method",
            "approach",
            "gaussian"
           ]
          ]
         },
         "header": {
          "fill": {
           "color": "rgb(220, 220, 220)"
          },
          "values": [
           "Topic 00",
           "Topic 01",
           "Topic 02",
           "Topic 03",
           "Topic 04",
           "Topic 05",
           "Topic 06",
           "Topic 07",
           "Topic 08",
           "Topic 09"
          ]
         },
         "type": "table"
        }
       ],
       "layout": {
        "template": {
         "data": {
          "bar": [
           {
            "error_x": {
             "color": "#2a3f5f"
            },
            "error_y": {
             "color": "#2a3f5f"
            },
            "marker": {
             "line": {
              "color": "#E5ECF6",
              "width": 0.5
             },
             "pattern": {
              "fillmode": "overlay",
              "size": 10,
              "solidity": 0.2
             }
            },
            "type": "bar"
           }
          ],
          "barpolar": [
           {
            "marker": {
             "line": {
              "color": "#E5ECF6",
              "width": 0.5
             },
             "pattern": {
              "fillmode": "overlay",
              "size": 10,
              "solidity": 0.2
             }
            },
            "type": "barpolar"
           }
          ],
          "carpet": [
           {
            "aaxis": {
             "endlinecolor": "#2a3f5f",
             "gridcolor": "white",
             "linecolor": "white",
             "minorgridcolor": "white",
             "startlinecolor": "#2a3f5f"
            },
            "baxis": {
             "endlinecolor": "#2a3f5f",
             "gridcolor": "white",
             "linecolor": "white",
             "minorgridcolor": "white",
             "startlinecolor": "#2a3f5f"
            },
            "type": "carpet"
           }
          ],
          "choropleth": [
           {
            "colorbar": {
             "outlinewidth": 0,
             "ticks": ""
            },
            "type": "choropleth"
           }
          ],
          "contour": [
           {
            "colorbar": {
             "outlinewidth": 0,
             "ticks": ""
            },
            "colorscale": [
             [
              0,
              "#0d0887"
             ],
             [
              0.1111111111111111,
              "#46039f"
             ],
             [
              0.2222222222222222,
              "#7201a8"
             ],
             [
              0.3333333333333333,
              "#9c179e"
             ],
             [
              0.4444444444444444,
              "#bd3786"
             ],
             [
              0.5555555555555556,
              "#d8576b"
             ],
             [
              0.6666666666666666,
              "#ed7953"
             ],
             [
              0.7777777777777778,
              "#fb9f3a"
             ],
             [
              0.8888888888888888,
              "#fdca26"
             ],
             [
              1,
              "#f0f921"
             ]
            ],
            "type": "contour"
           }
          ],
          "contourcarpet": [
           {
            "colorbar": {
             "outlinewidth": 0,
             "ticks": ""
            },
            "type": "contourcarpet"
           }
          ],
          "heatmap": [
           {
            "colorbar": {
             "outlinewidth": 0,
             "ticks": ""
            },
            "colorscale": [
             [
              0,
              "#0d0887"
             ],
             [
              0.1111111111111111,
              "#46039f"
             ],
             [
              0.2222222222222222,
              "#7201a8"
             ],
             [
              0.3333333333333333,
              "#9c179e"
             ],
             [
              0.4444444444444444,
              "#bd3786"
             ],
             [
              0.5555555555555556,
              "#d8576b"
             ],
             [
              0.6666666666666666,
              "#ed7953"
             ],
             [
              0.7777777777777778,
              "#fb9f3a"
             ],
             [
              0.8888888888888888,
              "#fdca26"
             ],
             [
              1,
              "#f0f921"
             ]
            ],
            "type": "heatmap"
           }
          ],
          "heatmapgl": [
           {
            "colorbar": {
             "outlinewidth": 0,
             "ticks": ""
            },
            "colorscale": [
             [
              0,
              "#0d0887"
             ],
             [
              0.1111111111111111,
              "#46039f"
             ],
             [
              0.2222222222222222,
              "#7201a8"
             ],
             [
              0.3333333333333333,
              "#9c179e"
             ],
             [
              0.4444444444444444,
              "#bd3786"
             ],
             [
              0.5555555555555556,
              "#d8576b"
             ],
             [
              0.6666666666666666,
              "#ed7953"
             ],
             [
              0.7777777777777778,
              "#fb9f3a"
             ],
             [
              0.8888888888888888,
              "#fdca26"
             ],
             [
              1,
              "#f0f921"
             ]
            ],
            "type": "heatmapgl"
           }
          ],
          "histogram": [
           {
            "marker": {
             "pattern": {
              "fillmode": "overlay",
              "size": 10,
              "solidity": 0.2
             }
            },
            "type": "histogram"
           }
          ],
          "histogram2d": [
           {
            "colorbar": {
             "outlinewidth": 0,
             "ticks": ""
            },
            "colorscale": [
             [
              0,
              "#0d0887"
             ],
             [
              0.1111111111111111,
              "#46039f"
             ],
             [
              0.2222222222222222,
              "#7201a8"
             ],
             [
              0.3333333333333333,
              "#9c179e"
             ],
             [
              0.4444444444444444,
              "#bd3786"
             ],
             [
              0.5555555555555556,
              "#d8576b"
             ],
             [
              0.6666666666666666,
              "#ed7953"
             ],
             [
              0.7777777777777778,
              "#fb9f3a"
             ],
             [
              0.8888888888888888,
              "#fdca26"
             ],
             [
              1,
              "#f0f921"
             ]
            ],
            "type": "histogram2d"
           }
          ],
          "histogram2dcontour": [
           {
            "colorbar": {
             "outlinewidth": 0,
             "ticks": ""
            },
            "colorscale": [
             [
              0,
              "#0d0887"
             ],
             [
              0.1111111111111111,
              "#46039f"
             ],
             [
              0.2222222222222222,
              "#7201a8"
             ],
             [
              0.3333333333333333,
              "#9c179e"
             ],
             [
              0.4444444444444444,
              "#bd3786"
             ],
             [
              0.5555555555555556,
              "#d8576b"
             ],
             [
              0.6666666666666666,
              "#ed7953"
             ],
             [
              0.7777777777777778,
              "#fb9f3a"
             ],
             [
              0.8888888888888888,
              "#fdca26"
             ],
             [
              1,
              "#f0f921"
             ]
            ],
            "type": "histogram2dcontour"
           }
          ],
          "mesh3d": [
           {
            "colorbar": {
             "outlinewidth": 0,
             "ticks": ""
            },
            "type": "mesh3d"
           }
          ],
          "parcoords": [
           {
            "line": {
             "colorbar": {
              "outlinewidth": 0,
              "ticks": ""
             }
            },
            "type": "parcoords"
           }
          ],
          "pie": [
           {
            "automargin": true,
            "type": "pie"
           }
          ],
          "scatter": [
           {
            "marker": {
             "colorbar": {
              "outlinewidth": 0,
              "ticks": ""
             }
            },
            "type": "scatter"
           }
          ],
          "scatter3d": [
           {
            "line": {
             "colorbar": {
              "outlinewidth": 0,
              "ticks": ""
             }
            },
            "marker": {
             "colorbar": {
              "outlinewidth": 0,
              "ticks": ""
             }
            },
            "type": "scatter3d"
           }
          ],
          "scattercarpet": [
           {
            "marker": {
             "colorbar": {
              "outlinewidth": 0,
              "ticks": ""
             }
            },
            "type": "scattercarpet"
           }
          ],
          "scattergeo": [
           {
            "marker": {
             "colorbar": {
              "outlinewidth": 0,
              "ticks": ""
             }
            },
            "type": "scattergeo"
           }
          ],
          "scattergl": [
           {
            "marker": {
             "colorbar": {
              "outlinewidth": 0,
              "ticks": ""
             }
            },
            "type": "scattergl"
           }
          ],
          "scattermapbox": [
           {
            "marker": {
             "colorbar": {
              "outlinewidth": 0,
              "ticks": ""
             }
            },
            "type": "scattermapbox"
           }
          ],
          "scatterpolar": [
           {
            "marker": {
             "colorbar": {
              "outlinewidth": 0,
              "ticks": ""
             }
            },
            "type": "scatterpolar"
           }
          ],
          "scatterpolargl": [
           {
            "marker": {
             "colorbar": {
              "outlinewidth": 0,
              "ticks": ""
             }
            },
            "type": "scatterpolargl"
           }
          ],
          "scatterternary": [
           {
            "marker": {
             "colorbar": {
              "outlinewidth": 0,
              "ticks": ""
             }
            },
            "type": "scatterternary"
           }
          ],
          "surface": [
           {
            "colorbar": {
             "outlinewidth": 0,
             "ticks": ""
            },
            "colorscale": [
             [
              0,
              "#0d0887"
             ],
             [
              0.1111111111111111,
              "#46039f"
             ],
             [
              0.2222222222222222,
              "#7201a8"
             ],
             [
              0.3333333333333333,
              "#9c179e"
             ],
             [
              0.4444444444444444,
              "#bd3786"
             ],
             [
              0.5555555555555556,
              "#d8576b"
             ],
             [
              0.6666666666666666,
              "#ed7953"
             ],
             [
              0.7777777777777778,
              "#fb9f3a"
             ],
             [
              0.8888888888888888,
              "#fdca26"
             ],
             [
              1,
              "#f0f921"
             ]
            ],
            "type": "surface"
           }
          ],
          "table": [
           {
            "cells": {
             "fill": {
              "color": "#EBF0F8"
             },
             "line": {
              "color": "white"
             }
            },
            "header": {
             "fill": {
              "color": "#C8D4E3"
             },
             "line": {
              "color": "white"
             }
            },
            "type": "table"
           }
          ]
         },
         "layout": {
          "annotationdefaults": {
           "arrowcolor": "#2a3f5f",
           "arrowhead": 0,
           "arrowwidth": 1
          },
          "autotypenumbers": "strict",
          "coloraxis": {
           "colorbar": {
            "outlinewidth": 0,
            "ticks": ""
           }
          },
          "colorscale": {
           "diverging": [
            [
             0,
             "#8e0152"
            ],
            [
             0.1,
             "#c51b7d"
            ],
            [
             0.2,
             "#de77ae"
            ],
            [
             0.3,
             "#f1b6da"
            ],
            [
             0.4,
             "#fde0ef"
            ],
            [
             0.5,
             "#f7f7f7"
            ],
            [
             0.6,
             "#e6f5d0"
            ],
            [
             0.7,
             "#b8e186"
            ],
            [
             0.8,
             "#7fbc41"
            ],
            [
             0.9,
             "#4d9221"
            ],
            [
             1,
             "#276419"
            ]
           ],
           "sequential": [
            [
             0,
             "#0d0887"
            ],
            [
             0.1111111111111111,
             "#46039f"
            ],
            [
             0.2222222222222222,
             "#7201a8"
            ],
            [
             0.3333333333333333,
             "#9c179e"
            ],
            [
             0.4444444444444444,
             "#bd3786"
            ],
            [
             0.5555555555555556,
             "#d8576b"
            ],
            [
             0.6666666666666666,
             "#ed7953"
            ],
            [
             0.7777777777777778,
             "#fb9f3a"
            ],
            [
             0.8888888888888888,
             "#fdca26"
            ],
            [
             1,
             "#f0f921"
            ]
           ],
           "sequentialminus": [
            [
             0,
             "#0d0887"
            ],
            [
             0.1111111111111111,
             "#46039f"
            ],
            [
             0.2222222222222222,
             "#7201a8"
            ],
            [
             0.3333333333333333,
             "#9c179e"
            ],
            [
             0.4444444444444444,
             "#bd3786"
            ],
            [
             0.5555555555555556,
             "#d8576b"
            ],
            [
             0.6666666666666666,
             "#ed7953"
            ],
            [
             0.7777777777777778,
             "#fb9f3a"
            ],
            [
             0.8888888888888888,
             "#fdca26"
            ],
            [
             1,
             "#f0f921"
            ]
           ]
          },
          "colorway": [
           "#636efa",
           "#EF553B",
           "#00cc96",
           "#ab63fa",
           "#FFA15A",
           "#19d3f3",
           "#FF6692",
           "#B6E880",
           "#FF97FF",
           "#FECB52"
          ],
          "font": {
           "color": "#2a3f5f"
          },
          "geo": {
           "bgcolor": "white",
           "lakecolor": "white",
           "landcolor": "#E5ECF6",
           "showlakes": true,
           "showland": true,
           "subunitcolor": "white"
          },
          "hoverlabel": {
           "align": "left"
          },
          "hovermode": "closest",
          "mapbox": {
           "style": "light"
          },
          "paper_bgcolor": "white",
          "plot_bgcolor": "#E5ECF6",
          "polar": {
           "angularaxis": {
            "gridcolor": "white",
            "linecolor": "white",
            "ticks": ""
           },
           "bgcolor": "#E5ECF6",
           "radialaxis": {
            "gridcolor": "white",
            "linecolor": "white",
            "ticks": ""
           }
          },
          "scene": {
           "xaxis": {
            "backgroundcolor": "#E5ECF6",
            "gridcolor": "white",
            "gridwidth": 2,
            "linecolor": "white",
            "showbackground": true,
            "ticks": "",
            "zerolinecolor": "white"
           },
           "yaxis": {
            "backgroundcolor": "#E5ECF6",
            "gridcolor": "white",
            "gridwidth": 2,
            "linecolor": "white",
            "showbackground": true,
            "ticks": "",
            "zerolinecolor": "white"
           },
           "zaxis": {
            "backgroundcolor": "#E5ECF6",
            "gridcolor": "white",
            "gridwidth": 2,
            "linecolor": "white",
            "showbackground": true,
            "ticks": "",
            "zerolinecolor": "white"
           }
          },
          "shapedefaults": {
           "line": {
            "color": "#2a3f5f"
           }
          },
          "ternary": {
           "aaxis": {
            "gridcolor": "white",
            "linecolor": "white",
            "ticks": ""
           },
           "baxis": {
            "gridcolor": "white",
            "linecolor": "white",
            "ticks": ""
           },
           "bgcolor": "#E5ECF6",
           "caxis": {
            "gridcolor": "white",
            "linecolor": "white",
            "ticks": ""
           }
          },
          "title": {
           "x": 0.05
          },
          "xaxis": {
           "automargin": true,
           "gridcolor": "white",
           "linecolor": "white",
           "ticks": "",
           "title": {
            "standoff": 15
           },
           "zerolinecolor": "white",
           "zerolinewidth": 2
          },
          "yaxis": {
           "automargin": true,
           "gridcolor": "white",
           "linecolor": "white",
           "ticks": "",
           "title": {
            "standoff": 15
           },
           "zerolinecolor": "white",
           "zerolinewidth": 2
          }
         }
        },
        "title": {
         "text": "Top words for the 10 topics"
        },
        "width": 1350
       }
      }
     },
     "metadata": {},
     "output_type": "display_data"
    },
    {
     "name": "stdout",
     "output_type": "stream",
     "text": [
      "Iter [200]===\n",
      "Topic 0: ['algorithm', 'training', 'method', 'problem', 'error', 'learning', 'learn', 'classification', 'function', 'set']\n",
      "Topic 1: ['network', 't', 'x', 'e', 'neural', 'function', 'd', 'l', 'analog', 'circuit']\n",
      "Topic 2: ['signal', 'information', 'spike', 'noise', 'time', 'source', 'code', 'system', 'auditory', 'channel']\n",
      "Topic 3: ['problem', 'learning', 'state', 'algorithm', 'reinforcement', 'control', 'function', 'value', 'time', 'decision']\n",
      "Topic 4: ['network', 'learning', 'neural', 'learn', 'model', 'system', 'input', 'dynamic', 'unit', 'algorithm']\n",
      "Topic 5: ['datum', 'vector', 'x', 'function', 'algorithm', 'feature', 'space', 'n', 'kernel', 'linear']\n",
      "Topic 6: ['system', 'recognition', 'speech', 'network', 'neural', 'time', 'base', 'word', 'computer', 'application']\n",
      "Topic 7: ['model', 'neuron', 'visual', 'cell', 'cortex', 'synaptic', 'field', 'activity', 'input', 'cortical']\n",
      "Topic 8: ['image', 'object', 'visual', 'model', 'representation', 'human', 'face', 'motion', 'recognition', 'system']\n",
      "Topic 9: ['model', 'distribution', 'probability', 'variable', 'gaussian', 'datum', 'algorithm', 'method', 'bayesian', 'network']\n"
     ]
    },
    {
     "data": {
      "application/vnd.plotly.v1+json": {
       "config": {
        "plotlyServerURL": "https://plot.ly"
       },
       "data": [
        {
         "cells": {
          "fill": {
           "color": [
            [
             "rgb(197.33333333333334, 219.11111111111111, 191.88888888888889)",
             "rgb(197.33333333333334, 219.11111111111111, 191.88888888888889)",
             "rgb(197.33333333333334, 219.11111111111111, 191.88888888888889)",
             "rgb(197.33333333333334, 219.11111111111111, 191.88888888888889)",
             "rgb(197.33333333333334, 219.11111111111111, 191.88888888888889)",
             "rgb(217.66666666666666, 232.55555555555554, 214.44444444444446)",
             "rgb(217.66666666666666, 232.55555555555554, 214.44444444444446)",
             "rgb(217.66666666666666, 232.55555555555554, 214.44444444444446)",
             "rgb(217.66666666666666, 232.55555555555554, 214.44444444444446)",
             "rgb(217.66666666666666, 232.55555555555554, 214.44444444444446)"
            ],
            [
             "rgb(156.66666666666669, 192.22222222222223, 146.77777777777777)",
             "rgb(177.0, 205.66666666666666, 169.33333333333331)",
             "rgb(177.0, 205.66666666666666, 169.33333333333331)",
             "rgb(197.33333333333334, 219.11111111111111, 191.88888888888889)",
             "rgb(197.33333333333334, 219.11111111111111, 191.88888888888889)",
             "rgb(197.33333333333334, 219.11111111111111, 191.88888888888889)",
             "rgb(197.33333333333334, 219.11111111111111, 191.88888888888889)",
             "rgb(197.33333333333334, 219.11111111111111, 191.88888888888889)",
             "rgb(197.33333333333334, 219.11111111111111, 191.88888888888889)",
             "rgb(197.33333333333334, 219.11111111111111, 191.88888888888889)"
            ],
            [
             "rgb(177.0, 205.66666666666666, 169.33333333333331)",
             "rgb(197.33333333333334, 219.11111111111111, 191.88888888888889)",
             "rgb(197.33333333333334, 219.11111111111111, 191.88888888888889)",
             "rgb(217.66666666666666, 232.55555555555554, 214.44444444444446)",
             "rgb(217.66666666666666, 232.55555555555554, 214.44444444444446)",
             "rgb(217.66666666666666, 232.55555555555554, 214.44444444444446)",
             "rgb(217.66666666666666, 232.55555555555554, 214.44444444444446)",
             "rgb(217.66666666666666, 232.55555555555554, 214.44444444444446)",
             "rgb(217.66666666666666, 232.55555555555554, 214.44444444444446)",
             "rgb(217.66666666666666, 232.55555555555554, 214.44444444444446)"
            ],
            [
             "rgb(177.0, 205.66666666666666, 169.33333333333331)",
             "rgb(177.0, 205.66666666666666, 169.33333333333331)",
             "rgb(177.0, 205.66666666666666, 169.33333333333331)",
             "rgb(197.33333333333334, 219.11111111111111, 191.88888888888889)",
             "rgb(197.33333333333334, 219.11111111111111, 191.88888888888889)",
             "rgb(197.33333333333334, 219.11111111111111, 191.88888888888889)",
             "rgb(197.33333333333334, 219.11111111111111, 191.88888888888889)",
             "rgb(217.66666666666666, 232.55555555555554, 214.44444444444446)",
             "rgb(217.66666666666666, 232.55555555555554, 214.44444444444446)",
             "rgb(217.66666666666666, 232.55555555555554, 214.44444444444446)"
            ],
            [
             "rgb(116.0, 165.33333333333331, 101.66666666666666)",
             "rgb(156.66666666666669, 192.22222222222223, 146.77777777777777)",
             "rgb(197.33333333333334, 219.11111111111111, 191.88888888888889)",
             "rgb(197.33333333333334, 219.11111111111111, 191.88888888888889)",
             "rgb(217.66666666666666, 232.55555555555554, 214.44444444444446)",
             "rgb(217.66666666666666, 232.55555555555554, 214.44444444444446)",
             "rgb(217.66666666666666, 232.55555555555554, 214.44444444444446)",
             "rgb(217.66666666666666, 232.55555555555554, 214.44444444444446)",
             "rgb(217.66666666666666, 232.55555555555554, 214.44444444444446)",
             "rgb(217.66666666666666, 232.55555555555554, 214.44444444444446)"
            ],
            [
             "rgb(177.0, 205.66666666666666, 169.33333333333331)",
             "rgb(177.0, 205.66666666666666, 169.33333333333331)",
             "rgb(197.33333333333334, 219.11111111111111, 191.88888888888889)",
             "rgb(197.33333333333334, 219.11111111111111, 191.88888888888889)",
             "rgb(197.33333333333334, 219.11111111111111, 191.88888888888889)",
             "rgb(217.66666666666666, 232.55555555555554, 214.44444444444446)",
             "rgb(217.66666666666666, 232.55555555555554, 214.44444444444446)",
             "rgb(217.66666666666666, 232.55555555555554, 214.44444444444446)",
             "rgb(217.66666666666666, 232.55555555555554, 214.44444444444446)",
             "rgb(217.66666666666666, 232.55555555555554, 214.44444444444446)"
            ],
            [
             "rgb(156.66666666666669, 192.22222222222223, 146.77777777777777)",
             "rgb(177.0, 205.66666666666666, 169.33333333333331)",
             "rgb(197.33333333333334, 219.11111111111111, 191.88888888888889)",
             "rgb(197.33333333333334, 219.11111111111111, 191.88888888888889)",
             "rgb(197.33333333333334, 219.11111111111111, 191.88888888888889)",
             "rgb(217.66666666666666, 232.55555555555554, 214.44444444444446)",
             "rgb(217.66666666666666, 232.55555555555554, 214.44444444444446)",
             "rgb(217.66666666666666, 232.55555555555554, 214.44444444444446)",
             "rgb(217.66666666666666, 232.55555555555554, 214.44444444444446)",
             "rgb(217.66666666666666, 232.55555555555554, 214.44444444444446)"
            ],
            [
             "rgb(177.0, 205.66666666666666, 169.33333333333331)",
             "rgb(197.33333333333334, 219.11111111111111, 191.88888888888889)",
             "rgb(197.33333333333334, 219.11111111111111, 191.88888888888889)",
             "rgb(197.33333333333334, 219.11111111111111, 191.88888888888889)",
             "rgb(217.66666666666666, 232.55555555555554, 214.44444444444446)",
             "rgb(217.66666666666666, 232.55555555555554, 214.44444444444446)",
             "rgb(217.66666666666666, 232.55555555555554, 214.44444444444446)",
             "rgb(217.66666666666666, 232.55555555555554, 214.44444444444446)",
             "rgb(217.66666666666666, 232.55555555555554, 214.44444444444446)",
             "rgb(217.66666666666666, 232.55555555555554, 214.44444444444446)"
            ],
            [
             "rgb(136.33333333333334, 178.77777777777777, 124.22222222222221)",
             "rgb(177.0, 205.66666666666666, 169.33333333333331)",
             "rgb(197.33333333333334, 219.11111111111111, 191.88888888888889)",
             "rgb(217.66666666666666, 232.55555555555554, 214.44444444444446)",
             "rgb(217.66666666666666, 232.55555555555554, 214.44444444444446)",
             "rgb(217.66666666666666, 232.55555555555554, 214.44444444444446)",
             "rgb(217.66666666666666, 232.55555555555554, 214.44444444444446)",
             "rgb(217.66666666666666, 232.55555555555554, 214.44444444444446)",
             "rgb(217.66666666666666, 232.55555555555554, 214.44444444444446)",
             "rgb(217.66666666666666, 232.55555555555554, 214.44444444444446)"
            ],
            [
             "rgb(75.33333333333334, 138.44444444444446, 56.55555555555554)",
             "rgb(217.66666666666666, 232.55555555555554, 214.44444444444446)",
             "rgb(217.66666666666666, 232.55555555555554, 214.44444444444446)",
             "rgb(217.66666666666666, 232.55555555555554, 214.44444444444446)",
             "rgb(217.66666666666666, 232.55555555555554, 214.44444444444446)",
             "rgb(217.66666666666666, 232.55555555555554, 214.44444444444446)",
             "rgb(217.66666666666666, 232.55555555555554, 214.44444444444446)",
             "rgb(217.66666666666666, 232.55555555555554, 214.44444444444446)",
             "rgb(217.66666666666666, 232.55555555555554, 214.44444444444446)",
             "rgb(217.66666666666666, 232.55555555555554, 214.44444444444446)"
            ]
           ]
          },
          "values": [
           [
            "algorithm",
            "training",
            "method",
            "problem",
            "error",
            "learning",
            "learn",
            "classification",
            "function",
            "set"
           ],
           [
            "network",
            "t",
            "x",
            "e",
            "neural",
            "function",
            "d",
            "l",
            "analog",
            "circuit"
           ],
           [
            "signal",
            "information",
            "spike",
            "noise",
            "time",
            "source",
            "code",
            "system",
            "auditory",
            "channel"
           ],
           [
            "problem",
            "learning",
            "state",
            "algorithm",
            "reinforcement",
            "control",
            "function",
            "value",
            "time",
            "decision"
           ],
           [
            "network",
            "learning",
            "neural",
            "learn",
            "model",
            "system",
            "input",
            "dynamic",
            "unit",
            "algorithm"
           ],
           [
            "datum",
            "vector",
            "x",
            "function",
            "algorithm",
            "feature",
            "space",
            "n",
            "kernel",
            "linear"
           ],
           [
            "system",
            "recognition",
            "speech",
            "network",
            "neural",
            "time",
            "base",
            "word",
            "computer",
            "application"
           ],
           [
            "model",
            "neuron",
            "visual",
            "cell",
            "cortex",
            "synaptic",
            "field",
            "activity",
            "input",
            "cortical"
           ],
           [
            "image",
            "object",
            "visual",
            "model",
            "representation",
            "human",
            "face",
            "motion",
            "recognition",
            "system"
           ],
           [
            "model",
            "distribution",
            "probability",
            "variable",
            "gaussian",
            "datum",
            "algorithm",
            "method",
            "bayesian",
            "network"
           ]
          ]
         },
         "header": {
          "fill": {
           "color": "rgb(220, 220, 220)"
          },
          "values": [
           "Topic 00",
           "Topic 01",
           "Topic 02",
           "Topic 03",
           "Topic 04",
           "Topic 05",
           "Topic 06",
           "Topic 07",
           "Topic 08",
           "Topic 09"
          ]
         },
         "type": "table"
        }
       ],
       "layout": {
        "template": {
         "data": {
          "bar": [
           {
            "error_x": {
             "color": "#2a3f5f"
            },
            "error_y": {
             "color": "#2a3f5f"
            },
            "marker": {
             "line": {
              "color": "#E5ECF6",
              "width": 0.5
             },
             "pattern": {
              "fillmode": "overlay",
              "size": 10,
              "solidity": 0.2
             }
            },
            "type": "bar"
           }
          ],
          "barpolar": [
           {
            "marker": {
             "line": {
              "color": "#E5ECF6",
              "width": 0.5
             },
             "pattern": {
              "fillmode": "overlay",
              "size": 10,
              "solidity": 0.2
             }
            },
            "type": "barpolar"
           }
          ],
          "carpet": [
           {
            "aaxis": {
             "endlinecolor": "#2a3f5f",
             "gridcolor": "white",
             "linecolor": "white",
             "minorgridcolor": "white",
             "startlinecolor": "#2a3f5f"
            },
            "baxis": {
             "endlinecolor": "#2a3f5f",
             "gridcolor": "white",
             "linecolor": "white",
             "minorgridcolor": "white",
             "startlinecolor": "#2a3f5f"
            },
            "type": "carpet"
           }
          ],
          "choropleth": [
           {
            "colorbar": {
             "outlinewidth": 0,
             "ticks": ""
            },
            "type": "choropleth"
           }
          ],
          "contour": [
           {
            "colorbar": {
             "outlinewidth": 0,
             "ticks": ""
            },
            "colorscale": [
             [
              0,
              "#0d0887"
             ],
             [
              0.1111111111111111,
              "#46039f"
             ],
             [
              0.2222222222222222,
              "#7201a8"
             ],
             [
              0.3333333333333333,
              "#9c179e"
             ],
             [
              0.4444444444444444,
              "#bd3786"
             ],
             [
              0.5555555555555556,
              "#d8576b"
             ],
             [
              0.6666666666666666,
              "#ed7953"
             ],
             [
              0.7777777777777778,
              "#fb9f3a"
             ],
             [
              0.8888888888888888,
              "#fdca26"
             ],
             [
              1,
              "#f0f921"
             ]
            ],
            "type": "contour"
           }
          ],
          "contourcarpet": [
           {
            "colorbar": {
             "outlinewidth": 0,
             "ticks": ""
            },
            "type": "contourcarpet"
           }
          ],
          "heatmap": [
           {
            "colorbar": {
             "outlinewidth": 0,
             "ticks": ""
            },
            "colorscale": [
             [
              0,
              "#0d0887"
             ],
             [
              0.1111111111111111,
              "#46039f"
             ],
             [
              0.2222222222222222,
              "#7201a8"
             ],
             [
              0.3333333333333333,
              "#9c179e"
             ],
             [
              0.4444444444444444,
              "#bd3786"
             ],
             [
              0.5555555555555556,
              "#d8576b"
             ],
             [
              0.6666666666666666,
              "#ed7953"
             ],
             [
              0.7777777777777778,
              "#fb9f3a"
             ],
             [
              0.8888888888888888,
              "#fdca26"
             ],
             [
              1,
              "#f0f921"
             ]
            ],
            "type": "heatmap"
           }
          ],
          "heatmapgl": [
           {
            "colorbar": {
             "outlinewidth": 0,
             "ticks": ""
            },
            "colorscale": [
             [
              0,
              "#0d0887"
             ],
             [
              0.1111111111111111,
              "#46039f"
             ],
             [
              0.2222222222222222,
              "#7201a8"
             ],
             [
              0.3333333333333333,
              "#9c179e"
             ],
             [
              0.4444444444444444,
              "#bd3786"
             ],
             [
              0.5555555555555556,
              "#d8576b"
             ],
             [
              0.6666666666666666,
              "#ed7953"
             ],
             [
              0.7777777777777778,
              "#fb9f3a"
             ],
             [
              0.8888888888888888,
              "#fdca26"
             ],
             [
              1,
              "#f0f921"
             ]
            ],
            "type": "heatmapgl"
           }
          ],
          "histogram": [
           {
            "marker": {
             "pattern": {
              "fillmode": "overlay",
              "size": 10,
              "solidity": 0.2
             }
            },
            "type": "histogram"
           }
          ],
          "histogram2d": [
           {
            "colorbar": {
             "outlinewidth": 0,
             "ticks": ""
            },
            "colorscale": [
             [
              0,
              "#0d0887"
             ],
             [
              0.1111111111111111,
              "#46039f"
             ],
             [
              0.2222222222222222,
              "#7201a8"
             ],
             [
              0.3333333333333333,
              "#9c179e"
             ],
             [
              0.4444444444444444,
              "#bd3786"
             ],
             [
              0.5555555555555556,
              "#d8576b"
             ],
             [
              0.6666666666666666,
              "#ed7953"
             ],
             [
              0.7777777777777778,
              "#fb9f3a"
             ],
             [
              0.8888888888888888,
              "#fdca26"
             ],
             [
              1,
              "#f0f921"
             ]
            ],
            "type": "histogram2d"
           }
          ],
          "histogram2dcontour": [
           {
            "colorbar": {
             "outlinewidth": 0,
             "ticks": ""
            },
            "colorscale": [
             [
              0,
              "#0d0887"
             ],
             [
              0.1111111111111111,
              "#46039f"
             ],
             [
              0.2222222222222222,
              "#7201a8"
             ],
             [
              0.3333333333333333,
              "#9c179e"
             ],
             [
              0.4444444444444444,
              "#bd3786"
             ],
             [
              0.5555555555555556,
              "#d8576b"
             ],
             [
              0.6666666666666666,
              "#ed7953"
             ],
             [
              0.7777777777777778,
              "#fb9f3a"
             ],
             [
              0.8888888888888888,
              "#fdca26"
             ],
             [
              1,
              "#f0f921"
             ]
            ],
            "type": "histogram2dcontour"
           }
          ],
          "mesh3d": [
           {
            "colorbar": {
             "outlinewidth": 0,
             "ticks": ""
            },
            "type": "mesh3d"
           }
          ],
          "parcoords": [
           {
            "line": {
             "colorbar": {
              "outlinewidth": 0,
              "ticks": ""
             }
            },
            "type": "parcoords"
           }
          ],
          "pie": [
           {
            "automargin": true,
            "type": "pie"
           }
          ],
          "scatter": [
           {
            "marker": {
             "colorbar": {
              "outlinewidth": 0,
              "ticks": ""
             }
            },
            "type": "scatter"
           }
          ],
          "scatter3d": [
           {
            "line": {
             "colorbar": {
              "outlinewidth": 0,
              "ticks": ""
             }
            },
            "marker": {
             "colorbar": {
              "outlinewidth": 0,
              "ticks": ""
             }
            },
            "type": "scatter3d"
           }
          ],
          "scattercarpet": [
           {
            "marker": {
             "colorbar": {
              "outlinewidth": 0,
              "ticks": ""
             }
            },
            "type": "scattercarpet"
           }
          ],
          "scattergeo": [
           {
            "marker": {
             "colorbar": {
              "outlinewidth": 0,
              "ticks": ""
             }
            },
            "type": "scattergeo"
           }
          ],
          "scattergl": [
           {
            "marker": {
             "colorbar": {
              "outlinewidth": 0,
              "ticks": ""
             }
            },
            "type": "scattergl"
           }
          ],
          "scattermapbox": [
           {
            "marker": {
             "colorbar": {
              "outlinewidth": 0,
              "ticks": ""
             }
            },
            "type": "scattermapbox"
           }
          ],
          "scatterpolar": [
           {
            "marker": {
             "colorbar": {
              "outlinewidth": 0,
              "ticks": ""
             }
            },
            "type": "scatterpolar"
           }
          ],
          "scatterpolargl": [
           {
            "marker": {
             "colorbar": {
              "outlinewidth": 0,
              "ticks": ""
             }
            },
            "type": "scatterpolargl"
           }
          ],
          "scatterternary": [
           {
            "marker": {
             "colorbar": {
              "outlinewidth": 0,
              "ticks": ""
             }
            },
            "type": "scatterternary"
           }
          ],
          "surface": [
           {
            "colorbar": {
             "outlinewidth": 0,
             "ticks": ""
            },
            "colorscale": [
             [
              0,
              "#0d0887"
             ],
             [
              0.1111111111111111,
              "#46039f"
             ],
             [
              0.2222222222222222,
              "#7201a8"
             ],
             [
              0.3333333333333333,
              "#9c179e"
             ],
             [
              0.4444444444444444,
              "#bd3786"
             ],
             [
              0.5555555555555556,
              "#d8576b"
             ],
             [
              0.6666666666666666,
              "#ed7953"
             ],
             [
              0.7777777777777778,
              "#fb9f3a"
             ],
             [
              0.8888888888888888,
              "#fdca26"
             ],
             [
              1,
              "#f0f921"
             ]
            ],
            "type": "surface"
           }
          ],
          "table": [
           {
            "cells": {
             "fill": {
              "color": "#EBF0F8"
             },
             "line": {
              "color": "white"
             }
            },
            "header": {
             "fill": {
              "color": "#C8D4E3"
             },
             "line": {
              "color": "white"
             }
            },
            "type": "table"
           }
          ]
         },
         "layout": {
          "annotationdefaults": {
           "arrowcolor": "#2a3f5f",
           "arrowhead": 0,
           "arrowwidth": 1
          },
          "autotypenumbers": "strict",
          "coloraxis": {
           "colorbar": {
            "outlinewidth": 0,
            "ticks": ""
           }
          },
          "colorscale": {
           "diverging": [
            [
             0,
             "#8e0152"
            ],
            [
             0.1,
             "#c51b7d"
            ],
            [
             0.2,
             "#de77ae"
            ],
            [
             0.3,
             "#f1b6da"
            ],
            [
             0.4,
             "#fde0ef"
            ],
            [
             0.5,
             "#f7f7f7"
            ],
            [
             0.6,
             "#e6f5d0"
            ],
            [
             0.7,
             "#b8e186"
            ],
            [
             0.8,
             "#7fbc41"
            ],
            [
             0.9,
             "#4d9221"
            ],
            [
             1,
             "#276419"
            ]
           ],
           "sequential": [
            [
             0,
             "#0d0887"
            ],
            [
             0.1111111111111111,
             "#46039f"
            ],
            [
             0.2222222222222222,
             "#7201a8"
            ],
            [
             0.3333333333333333,
             "#9c179e"
            ],
            [
             0.4444444444444444,
             "#bd3786"
            ],
            [
             0.5555555555555556,
             "#d8576b"
            ],
            [
             0.6666666666666666,
             "#ed7953"
            ],
            [
             0.7777777777777778,
             "#fb9f3a"
            ],
            [
             0.8888888888888888,
             "#fdca26"
            ],
            [
             1,
             "#f0f921"
            ]
           ],
           "sequentialminus": [
            [
             0,
             "#0d0887"
            ],
            [
             0.1111111111111111,
             "#46039f"
            ],
            [
             0.2222222222222222,
             "#7201a8"
            ],
            [
             0.3333333333333333,
             "#9c179e"
            ],
            [
             0.4444444444444444,
             "#bd3786"
            ],
            [
             0.5555555555555556,
             "#d8576b"
            ],
            [
             0.6666666666666666,
             "#ed7953"
            ],
            [
             0.7777777777777778,
             "#fb9f3a"
            ],
            [
             0.8888888888888888,
             "#fdca26"
            ],
            [
             1,
             "#f0f921"
            ]
           ]
          },
          "colorway": [
           "#636efa",
           "#EF553B",
           "#00cc96",
           "#ab63fa",
           "#FFA15A",
           "#19d3f3",
           "#FF6692",
           "#B6E880",
           "#FF97FF",
           "#FECB52"
          ],
          "font": {
           "color": "#2a3f5f"
          },
          "geo": {
           "bgcolor": "white",
           "lakecolor": "white",
           "landcolor": "#E5ECF6",
           "showlakes": true,
           "showland": true,
           "subunitcolor": "white"
          },
          "hoverlabel": {
           "align": "left"
          },
          "hovermode": "closest",
          "mapbox": {
           "style": "light"
          },
          "paper_bgcolor": "white",
          "plot_bgcolor": "#E5ECF6",
          "polar": {
           "angularaxis": {
            "gridcolor": "white",
            "linecolor": "white",
            "ticks": ""
           },
           "bgcolor": "#E5ECF6",
           "radialaxis": {
            "gridcolor": "white",
            "linecolor": "white",
            "ticks": ""
           }
          },
          "scene": {
           "xaxis": {
            "backgroundcolor": "#E5ECF6",
            "gridcolor": "white",
            "gridwidth": 2,
            "linecolor": "white",
            "showbackground": true,
            "ticks": "",
            "zerolinecolor": "white"
           },
           "yaxis": {
            "backgroundcolor": "#E5ECF6",
            "gridcolor": "white",
            "gridwidth": 2,
            "linecolor": "white",
            "showbackground": true,
            "ticks": "",
            "zerolinecolor": "white"
           },
           "zaxis": {
            "backgroundcolor": "#E5ECF6",
            "gridcolor": "white",
            "gridwidth": 2,
            "linecolor": "white",
            "showbackground": true,
            "ticks": "",
            "zerolinecolor": "white"
           }
          },
          "shapedefaults": {
           "line": {
            "color": "#2a3f5f"
           }
          },
          "ternary": {
           "aaxis": {
            "gridcolor": "white",
            "linecolor": "white",
            "ticks": ""
           },
           "baxis": {
            "gridcolor": "white",
            "linecolor": "white",
            "ticks": ""
           },
           "bgcolor": "#E5ECF6",
           "caxis": {
            "gridcolor": "white",
            "linecolor": "white",
            "ticks": ""
           }
          },
          "title": {
           "x": 0.05
          },
          "xaxis": {
           "automargin": true,
           "gridcolor": "white",
           "linecolor": "white",
           "ticks": "",
           "title": {
            "standoff": 15
           },
           "zerolinecolor": "white",
           "zerolinewidth": 2
          },
          "yaxis": {
           "automargin": true,
           "gridcolor": "white",
           "linecolor": "white",
           "ticks": "",
           "title": {
            "standoff": 15
           },
           "zerolinecolor": "white",
           "zerolinewidth": 2
          }
         }
        },
        "title": {
         "text": "Top words for the 10 topics"
        },
        "width": 1350
       }
      }
     },
     "metadata": {},
     "output_type": "display_data"
    },
    {
     "name": "stdout",
     "output_type": "stream",
     "text": [
      "Iter [250]===\n",
      "Topic 0: ['algorithm', 'training', 'problem', 'learning', 'error', 'set', 'function', 'method', 'learn', 'classification']\n",
      "Topic 1: ['t', 'x', 'e', 'neural', 'network', 'l', 'd', 'circuit', 'n', 'j']\n",
      "Topic 2: ['signal', 'information', 'time', 'spike', 'noise', 'source', 'code', 'system', 'auditory', 'response']\n",
      "Topic 3: ['learning', 'problem', 'state', 'algorithm', 'reinforcement', 'control', 'function', 'time', 'decision', 'value']\n",
      "Topic 4: ['network', 'learning', 'neural', 'learn', 'unit', 'input', 'output', 'model', 'weight', 'algorithm']\n",
      "Topic 5: ['datum', 'vector', 'x', 'feature', 'function', 'algorithm', 'space', 'linear', 'n', 'kernel']\n",
      "Topic 6: ['system', 'recognition', 'speech', 'network', 'neural', 'time', 'computer', 'word', 'base', 'character']\n",
      "Topic 7: ['model', 'neuron', 'cell', 'visual', 'system', 'cortex', 'synaptic', 'input', 'activity', 'cortical']\n",
      "Topic 8: ['image', 'object', 'visual', 'human', 'model', 'representation', 'motion', 'task', 'face', 'recognition']\n",
      "Topic 9: ['model', 'distribution', 'probability', 'variable', 'algorithm', 'network', 'datum', 'gaussian', 'bayesian', 'method']\n"
     ]
    },
    {
     "data": {
      "application/vnd.plotly.v1+json": {
       "config": {
        "plotlyServerURL": "https://plot.ly"
       },
       "data": [
        {
         "cells": {
          "fill": {
           "color": [
            [
             "rgb(197.33333333333334, 219.11111111111111, 191.88888888888889)",
             "rgb(197.33333333333334, 219.11111111111111, 191.88888888888889)",
             "rgb(197.33333333333334, 219.11111111111111, 191.88888888888889)",
             "rgb(197.33333333333334, 219.11111111111111, 191.88888888888889)",
             "rgb(197.33333333333334, 219.11111111111111, 191.88888888888889)",
             "rgb(217.66666666666666, 232.55555555555554, 214.44444444444446)",
             "rgb(217.66666666666666, 232.55555555555554, 214.44444444444446)",
             "rgb(217.66666666666666, 232.55555555555554, 214.44444444444446)",
             "rgb(217.66666666666666, 232.55555555555554, 214.44444444444446)",
             "rgb(217.66666666666666, 232.55555555555554, 214.44444444444446)"
            ],
            [
             "rgb(156.66666666666669, 192.22222222222223, 146.77777777777777)",
             "rgb(156.66666666666669, 192.22222222222223, 146.77777777777777)",
             "rgb(177.0, 205.66666666666666, 169.33333333333331)",
             "rgb(197.33333333333334, 219.11111111111111, 191.88888888888889)",
             "rgb(197.33333333333334, 219.11111111111111, 191.88888888888889)",
             "rgb(197.33333333333334, 219.11111111111111, 191.88888888888889)",
             "rgb(197.33333333333334, 219.11111111111111, 191.88888888888889)",
             "rgb(197.33333333333334, 219.11111111111111, 191.88888888888889)",
             "rgb(197.33333333333334, 219.11111111111111, 191.88888888888889)",
             "rgb(197.33333333333334, 219.11111111111111, 191.88888888888889)"
            ],
            [
             "rgb(177.0, 205.66666666666666, 169.33333333333331)",
             "rgb(197.33333333333334, 219.11111111111111, 191.88888888888889)",
             "rgb(217.66666666666666, 232.55555555555554, 214.44444444444446)",
             "rgb(217.66666666666666, 232.55555555555554, 214.44444444444446)",
             "rgb(217.66666666666666, 232.55555555555554, 214.44444444444446)",
             "rgb(217.66666666666666, 232.55555555555554, 214.44444444444446)",
             "rgb(217.66666666666666, 232.55555555555554, 214.44444444444446)",
             "rgb(217.66666666666666, 232.55555555555554, 214.44444444444446)",
             "rgb(217.66666666666666, 232.55555555555554, 214.44444444444446)",
             "rgb(217.66666666666666, 232.55555555555554, 214.44444444444446)"
            ],
            [
             "rgb(177.0, 205.66666666666666, 169.33333333333331)",
             "rgb(177.0, 205.66666666666666, 169.33333333333331)",
             "rgb(177.0, 205.66666666666666, 169.33333333333331)",
             "rgb(197.33333333333334, 219.11111111111111, 191.88888888888889)",
             "rgb(197.33333333333334, 219.11111111111111, 191.88888888888889)",
             "rgb(197.33333333333334, 219.11111111111111, 191.88888888888889)",
             "rgb(197.33333333333334, 219.11111111111111, 191.88888888888889)",
             "rgb(217.66666666666666, 232.55555555555554, 214.44444444444446)",
             "rgb(217.66666666666666, 232.55555555555554, 214.44444444444446)",
             "rgb(217.66666666666666, 232.55555555555554, 214.44444444444446)"
            ],
            [
             "rgb(95.66666666666669, 151.88888888888889, 79.11111111111109)",
             "rgb(177.0, 205.66666666666666, 169.33333333333331)",
             "rgb(177.0, 205.66666666666666, 169.33333333333331)",
             "rgb(217.66666666666666, 232.55555555555554, 214.44444444444446)",
             "rgb(217.66666666666666, 232.55555555555554, 214.44444444444446)",
             "rgb(217.66666666666666, 232.55555555555554, 214.44444444444446)",
             "rgb(217.66666666666666, 232.55555555555554, 214.44444444444446)",
             "rgb(217.66666666666666, 232.55555555555554, 214.44444444444446)",
             "rgb(217.66666666666666, 232.55555555555554, 214.44444444444446)",
             "rgb(217.66666666666666, 232.55555555555554, 214.44444444444446)"
            ],
            [
             "rgb(177.0, 205.66666666666666, 169.33333333333331)",
             "rgb(177.0, 205.66666666666666, 169.33333333333331)",
             "rgb(197.33333333333334, 219.11111111111111, 191.88888888888889)",
             "rgb(197.33333333333334, 219.11111111111111, 191.88888888888889)",
             "rgb(197.33333333333334, 219.11111111111111, 191.88888888888889)",
             "rgb(197.33333333333334, 219.11111111111111, 191.88888888888889)",
             "rgb(217.66666666666666, 232.55555555555554, 214.44444444444446)",
             "rgb(217.66666666666666, 232.55555555555554, 214.44444444444446)",
             "rgb(217.66666666666666, 232.55555555555554, 214.44444444444446)",
             "rgb(217.66666666666666, 232.55555555555554, 214.44444444444446)"
            ],
            [
             "rgb(156.66666666666669, 192.22222222222223, 146.77777777777777)",
             "rgb(197.33333333333334, 219.11111111111111, 191.88888888888889)",
             "rgb(197.33333333333334, 219.11111111111111, 191.88888888888889)",
             "rgb(197.33333333333334, 219.11111111111111, 191.88888888888889)",
             "rgb(197.33333333333334, 219.11111111111111, 191.88888888888889)",
             "rgb(217.66666666666666, 232.55555555555554, 214.44444444444446)",
             "rgb(217.66666666666666, 232.55555555555554, 214.44444444444446)",
             "rgb(217.66666666666666, 232.55555555555554, 214.44444444444446)",
             "rgb(217.66666666666666, 232.55555555555554, 214.44444444444446)",
             "rgb(217.66666666666666, 232.55555555555554, 214.44444444444446)"
            ],
            [
             "rgb(177.0, 205.66666666666666, 169.33333333333331)",
             "rgb(197.33333333333334, 219.11111111111111, 191.88888888888889)",
             "rgb(217.66666666666666, 232.55555555555554, 214.44444444444446)",
             "rgb(217.66666666666666, 232.55555555555554, 214.44444444444446)",
             "rgb(217.66666666666666, 232.55555555555554, 214.44444444444446)",
             "rgb(217.66666666666666, 232.55555555555554, 214.44444444444446)",
             "rgb(217.66666666666666, 232.55555555555554, 214.44444444444446)",
             "rgb(217.66666666666666, 232.55555555555554, 214.44444444444446)",
             "rgb(217.66666666666666, 232.55555555555554, 214.44444444444446)",
             "rgb(217.66666666666666, 232.55555555555554, 214.44444444444446)"
            ],
            [
             "rgb(156.66666666666669, 192.22222222222223, 146.77777777777777)",
             "rgb(177.0, 205.66666666666666, 169.33333333333331)",
             "rgb(197.33333333333334, 219.11111111111111, 191.88888888888889)",
             "rgb(217.66666666666666, 232.55555555555554, 214.44444444444446)",
             "rgb(217.66666666666666, 232.55555555555554, 214.44444444444446)",
             "rgb(217.66666666666666, 232.55555555555554, 214.44444444444446)",
             "rgb(217.66666666666666, 232.55555555555554, 214.44444444444446)",
             "rgb(217.66666666666666, 232.55555555555554, 214.44444444444446)",
             "rgb(217.66666666666666, 232.55555555555554, 214.44444444444446)",
             "rgb(217.66666666666666, 232.55555555555554, 214.44444444444446)"
            ],
            [
             "rgb(95.66666666666669, 151.88888888888889, 79.11111111111109)",
             "rgb(197.33333333333334, 219.11111111111111, 191.88888888888889)",
             "rgb(217.66666666666666, 232.55555555555554, 214.44444444444446)",
             "rgb(217.66666666666666, 232.55555555555554, 214.44444444444446)",
             "rgb(217.66666666666666, 232.55555555555554, 214.44444444444446)",
             "rgb(217.66666666666666, 232.55555555555554, 214.44444444444446)",
             "rgb(217.66666666666666, 232.55555555555554, 214.44444444444446)",
             "rgb(217.66666666666666, 232.55555555555554, 214.44444444444446)",
             "rgb(217.66666666666666, 232.55555555555554, 214.44444444444446)",
             "rgb(217.66666666666666, 232.55555555555554, 214.44444444444446)"
            ]
           ]
          },
          "values": [
           [
            "algorithm",
            "training",
            "problem",
            "learning",
            "error",
            "set",
            "function",
            "method",
            "learn",
            "classification"
           ],
           [
            "t",
            "x",
            "e",
            "neural",
            "network",
            "l",
            "d",
            "circuit",
            "n",
            "j"
           ],
           [
            "signal",
            "information",
            "time",
            "spike",
            "noise",
            "source",
            "code",
            "system",
            "auditory",
            "response"
           ],
           [
            "learning",
            "problem",
            "state",
            "algorithm",
            "reinforcement",
            "control",
            "function",
            "time",
            "decision",
            "value"
           ],
           [
            "network",
            "learning",
            "neural",
            "learn",
            "unit",
            "input",
            "output",
            "model",
            "weight",
            "algorithm"
           ],
           [
            "datum",
            "vector",
            "x",
            "feature",
            "function",
            "algorithm",
            "space",
            "linear",
            "n",
            "kernel"
           ],
           [
            "system",
            "recognition",
            "speech",
            "network",
            "neural",
            "time",
            "computer",
            "word",
            "base",
            "character"
           ],
           [
            "model",
            "neuron",
            "cell",
            "visual",
            "system",
            "cortex",
            "synaptic",
            "input",
            "activity",
            "cortical"
           ],
           [
            "image",
            "object",
            "visual",
            "human",
            "model",
            "representation",
            "motion",
            "task",
            "face",
            "recognition"
           ],
           [
            "model",
            "distribution",
            "probability",
            "variable",
            "algorithm",
            "network",
            "datum",
            "gaussian",
            "bayesian",
            "method"
           ]
          ]
         },
         "header": {
          "fill": {
           "color": "rgb(220, 220, 220)"
          },
          "values": [
           "Topic 00",
           "Topic 01",
           "Topic 02",
           "Topic 03",
           "Topic 04",
           "Topic 05",
           "Topic 06",
           "Topic 07",
           "Topic 08",
           "Topic 09"
          ]
         },
         "type": "table"
        }
       ],
       "layout": {
        "template": {
         "data": {
          "bar": [
           {
            "error_x": {
             "color": "#2a3f5f"
            },
            "error_y": {
             "color": "#2a3f5f"
            },
            "marker": {
             "line": {
              "color": "#E5ECF6",
              "width": 0.5
             },
             "pattern": {
              "fillmode": "overlay",
              "size": 10,
              "solidity": 0.2
             }
            },
            "type": "bar"
           }
          ],
          "barpolar": [
           {
            "marker": {
             "line": {
              "color": "#E5ECF6",
              "width": 0.5
             },
             "pattern": {
              "fillmode": "overlay",
              "size": 10,
              "solidity": 0.2
             }
            },
            "type": "barpolar"
           }
          ],
          "carpet": [
           {
            "aaxis": {
             "endlinecolor": "#2a3f5f",
             "gridcolor": "white",
             "linecolor": "white",
             "minorgridcolor": "white",
             "startlinecolor": "#2a3f5f"
            },
            "baxis": {
             "endlinecolor": "#2a3f5f",
             "gridcolor": "white",
             "linecolor": "white",
             "minorgridcolor": "white",
             "startlinecolor": "#2a3f5f"
            },
            "type": "carpet"
           }
          ],
          "choropleth": [
           {
            "colorbar": {
             "outlinewidth": 0,
             "ticks": ""
            },
            "type": "choropleth"
           }
          ],
          "contour": [
           {
            "colorbar": {
             "outlinewidth": 0,
             "ticks": ""
            },
            "colorscale": [
             [
              0,
              "#0d0887"
             ],
             [
              0.1111111111111111,
              "#46039f"
             ],
             [
              0.2222222222222222,
              "#7201a8"
             ],
             [
              0.3333333333333333,
              "#9c179e"
             ],
             [
              0.4444444444444444,
              "#bd3786"
             ],
             [
              0.5555555555555556,
              "#d8576b"
             ],
             [
              0.6666666666666666,
              "#ed7953"
             ],
             [
              0.7777777777777778,
              "#fb9f3a"
             ],
             [
              0.8888888888888888,
              "#fdca26"
             ],
             [
              1,
              "#f0f921"
             ]
            ],
            "type": "contour"
           }
          ],
          "contourcarpet": [
           {
            "colorbar": {
             "outlinewidth": 0,
             "ticks": ""
            },
            "type": "contourcarpet"
           }
          ],
          "heatmap": [
           {
            "colorbar": {
             "outlinewidth": 0,
             "ticks": ""
            },
            "colorscale": [
             [
              0,
              "#0d0887"
             ],
             [
              0.1111111111111111,
              "#46039f"
             ],
             [
              0.2222222222222222,
              "#7201a8"
             ],
             [
              0.3333333333333333,
              "#9c179e"
             ],
             [
              0.4444444444444444,
              "#bd3786"
             ],
             [
              0.5555555555555556,
              "#d8576b"
             ],
             [
              0.6666666666666666,
              "#ed7953"
             ],
             [
              0.7777777777777778,
              "#fb9f3a"
             ],
             [
              0.8888888888888888,
              "#fdca26"
             ],
             [
              1,
              "#f0f921"
             ]
            ],
            "type": "heatmap"
           }
          ],
          "heatmapgl": [
           {
            "colorbar": {
             "outlinewidth": 0,
             "ticks": ""
            },
            "colorscale": [
             [
              0,
              "#0d0887"
             ],
             [
              0.1111111111111111,
              "#46039f"
             ],
             [
              0.2222222222222222,
              "#7201a8"
             ],
             [
              0.3333333333333333,
              "#9c179e"
             ],
             [
              0.4444444444444444,
              "#bd3786"
             ],
             [
              0.5555555555555556,
              "#d8576b"
             ],
             [
              0.6666666666666666,
              "#ed7953"
             ],
             [
              0.7777777777777778,
              "#fb9f3a"
             ],
             [
              0.8888888888888888,
              "#fdca26"
             ],
             [
              1,
              "#f0f921"
             ]
            ],
            "type": "heatmapgl"
           }
          ],
          "histogram": [
           {
            "marker": {
             "pattern": {
              "fillmode": "overlay",
              "size": 10,
              "solidity": 0.2
             }
            },
            "type": "histogram"
           }
          ],
          "histogram2d": [
           {
            "colorbar": {
             "outlinewidth": 0,
             "ticks": ""
            },
            "colorscale": [
             [
              0,
              "#0d0887"
             ],
             [
              0.1111111111111111,
              "#46039f"
             ],
             [
              0.2222222222222222,
              "#7201a8"
             ],
             [
              0.3333333333333333,
              "#9c179e"
             ],
             [
              0.4444444444444444,
              "#bd3786"
             ],
             [
              0.5555555555555556,
              "#d8576b"
             ],
             [
              0.6666666666666666,
              "#ed7953"
             ],
             [
              0.7777777777777778,
              "#fb9f3a"
             ],
             [
              0.8888888888888888,
              "#fdca26"
             ],
             [
              1,
              "#f0f921"
             ]
            ],
            "type": "histogram2d"
           }
          ],
          "histogram2dcontour": [
           {
            "colorbar": {
             "outlinewidth": 0,
             "ticks": ""
            },
            "colorscale": [
             [
              0,
              "#0d0887"
             ],
             [
              0.1111111111111111,
              "#46039f"
             ],
             [
              0.2222222222222222,
              "#7201a8"
             ],
             [
              0.3333333333333333,
              "#9c179e"
             ],
             [
              0.4444444444444444,
              "#bd3786"
             ],
             [
              0.5555555555555556,
              "#d8576b"
             ],
             [
              0.6666666666666666,
              "#ed7953"
             ],
             [
              0.7777777777777778,
              "#fb9f3a"
             ],
             [
              0.8888888888888888,
              "#fdca26"
             ],
             [
              1,
              "#f0f921"
             ]
            ],
            "type": "histogram2dcontour"
           }
          ],
          "mesh3d": [
           {
            "colorbar": {
             "outlinewidth": 0,
             "ticks": ""
            },
            "type": "mesh3d"
           }
          ],
          "parcoords": [
           {
            "line": {
             "colorbar": {
              "outlinewidth": 0,
              "ticks": ""
             }
            },
            "type": "parcoords"
           }
          ],
          "pie": [
           {
            "automargin": true,
            "type": "pie"
           }
          ],
          "scatter": [
           {
            "marker": {
             "colorbar": {
              "outlinewidth": 0,
              "ticks": ""
             }
            },
            "type": "scatter"
           }
          ],
          "scatter3d": [
           {
            "line": {
             "colorbar": {
              "outlinewidth": 0,
              "ticks": ""
             }
            },
            "marker": {
             "colorbar": {
              "outlinewidth": 0,
              "ticks": ""
             }
            },
            "type": "scatter3d"
           }
          ],
          "scattercarpet": [
           {
            "marker": {
             "colorbar": {
              "outlinewidth": 0,
              "ticks": ""
             }
            },
            "type": "scattercarpet"
           }
          ],
          "scattergeo": [
           {
            "marker": {
             "colorbar": {
              "outlinewidth": 0,
              "ticks": ""
             }
            },
            "type": "scattergeo"
           }
          ],
          "scattergl": [
           {
            "marker": {
             "colorbar": {
              "outlinewidth": 0,
              "ticks": ""
             }
            },
            "type": "scattergl"
           }
          ],
          "scattermapbox": [
           {
            "marker": {
             "colorbar": {
              "outlinewidth": 0,
              "ticks": ""
             }
            },
            "type": "scattermapbox"
           }
          ],
          "scatterpolar": [
           {
            "marker": {
             "colorbar": {
              "outlinewidth": 0,
              "ticks": ""
             }
            },
            "type": "scatterpolar"
           }
          ],
          "scatterpolargl": [
           {
            "marker": {
             "colorbar": {
              "outlinewidth": 0,
              "ticks": ""
             }
            },
            "type": "scatterpolargl"
           }
          ],
          "scatterternary": [
           {
            "marker": {
             "colorbar": {
              "outlinewidth": 0,
              "ticks": ""
             }
            },
            "type": "scatterternary"
           }
          ],
          "surface": [
           {
            "colorbar": {
             "outlinewidth": 0,
             "ticks": ""
            },
            "colorscale": [
             [
              0,
              "#0d0887"
             ],
             [
              0.1111111111111111,
              "#46039f"
             ],
             [
              0.2222222222222222,
              "#7201a8"
             ],
             [
              0.3333333333333333,
              "#9c179e"
             ],
             [
              0.4444444444444444,
              "#bd3786"
             ],
             [
              0.5555555555555556,
              "#d8576b"
             ],
             [
              0.6666666666666666,
              "#ed7953"
             ],
             [
              0.7777777777777778,
              "#fb9f3a"
             ],
             [
              0.8888888888888888,
              "#fdca26"
             ],
             [
              1,
              "#f0f921"
             ]
            ],
            "type": "surface"
           }
          ],
          "table": [
           {
            "cells": {
             "fill": {
              "color": "#EBF0F8"
             },
             "line": {
              "color": "white"
             }
            },
            "header": {
             "fill": {
              "color": "#C8D4E3"
             },
             "line": {
              "color": "white"
             }
            },
            "type": "table"
           }
          ]
         },
         "layout": {
          "annotationdefaults": {
           "arrowcolor": "#2a3f5f",
           "arrowhead": 0,
           "arrowwidth": 1
          },
          "autotypenumbers": "strict",
          "coloraxis": {
           "colorbar": {
            "outlinewidth": 0,
            "ticks": ""
           }
          },
          "colorscale": {
           "diverging": [
            [
             0,
             "#8e0152"
            ],
            [
             0.1,
             "#c51b7d"
            ],
            [
             0.2,
             "#de77ae"
            ],
            [
             0.3,
             "#f1b6da"
            ],
            [
             0.4,
             "#fde0ef"
            ],
            [
             0.5,
             "#f7f7f7"
            ],
            [
             0.6,
             "#e6f5d0"
            ],
            [
             0.7,
             "#b8e186"
            ],
            [
             0.8,
             "#7fbc41"
            ],
            [
             0.9,
             "#4d9221"
            ],
            [
             1,
             "#276419"
            ]
           ],
           "sequential": [
            [
             0,
             "#0d0887"
            ],
            [
             0.1111111111111111,
             "#46039f"
            ],
            [
             0.2222222222222222,
             "#7201a8"
            ],
            [
             0.3333333333333333,
             "#9c179e"
            ],
            [
             0.4444444444444444,
             "#bd3786"
            ],
            [
             0.5555555555555556,
             "#d8576b"
            ],
            [
             0.6666666666666666,
             "#ed7953"
            ],
            [
             0.7777777777777778,
             "#fb9f3a"
            ],
            [
             0.8888888888888888,
             "#fdca26"
            ],
            [
             1,
             "#f0f921"
            ]
           ],
           "sequentialminus": [
            [
             0,
             "#0d0887"
            ],
            [
             0.1111111111111111,
             "#46039f"
            ],
            [
             0.2222222222222222,
             "#7201a8"
            ],
            [
             0.3333333333333333,
             "#9c179e"
            ],
            [
             0.4444444444444444,
             "#bd3786"
            ],
            [
             0.5555555555555556,
             "#d8576b"
            ],
            [
             0.6666666666666666,
             "#ed7953"
            ],
            [
             0.7777777777777778,
             "#fb9f3a"
            ],
            [
             0.8888888888888888,
             "#fdca26"
            ],
            [
             1,
             "#f0f921"
            ]
           ]
          },
          "colorway": [
           "#636efa",
           "#EF553B",
           "#00cc96",
           "#ab63fa",
           "#FFA15A",
           "#19d3f3",
           "#FF6692",
           "#B6E880",
           "#FF97FF",
           "#FECB52"
          ],
          "font": {
           "color": "#2a3f5f"
          },
          "geo": {
           "bgcolor": "white",
           "lakecolor": "white",
           "landcolor": "#E5ECF6",
           "showlakes": true,
           "showland": true,
           "subunitcolor": "white"
          },
          "hoverlabel": {
           "align": "left"
          },
          "hovermode": "closest",
          "mapbox": {
           "style": "light"
          },
          "paper_bgcolor": "white",
          "plot_bgcolor": "#E5ECF6",
          "polar": {
           "angularaxis": {
            "gridcolor": "white",
            "linecolor": "white",
            "ticks": ""
           },
           "bgcolor": "#E5ECF6",
           "radialaxis": {
            "gridcolor": "white",
            "linecolor": "white",
            "ticks": ""
           }
          },
          "scene": {
           "xaxis": {
            "backgroundcolor": "#E5ECF6",
            "gridcolor": "white",
            "gridwidth": 2,
            "linecolor": "white",
            "showbackground": true,
            "ticks": "",
            "zerolinecolor": "white"
           },
           "yaxis": {
            "backgroundcolor": "#E5ECF6",
            "gridcolor": "white",
            "gridwidth": 2,
            "linecolor": "white",
            "showbackground": true,
            "ticks": "",
            "zerolinecolor": "white"
           },
           "zaxis": {
            "backgroundcolor": "#E5ECF6",
            "gridcolor": "white",
            "gridwidth": 2,
            "linecolor": "white",
            "showbackground": true,
            "ticks": "",
            "zerolinecolor": "white"
           }
          },
          "shapedefaults": {
           "line": {
            "color": "#2a3f5f"
           }
          },
          "ternary": {
           "aaxis": {
            "gridcolor": "white",
            "linecolor": "white",
            "ticks": ""
           },
           "baxis": {
            "gridcolor": "white",
            "linecolor": "white",
            "ticks": ""
           },
           "bgcolor": "#E5ECF6",
           "caxis": {
            "gridcolor": "white",
            "linecolor": "white",
            "ticks": ""
           }
          },
          "title": {
           "x": 0.05
          },
          "xaxis": {
           "automargin": true,
           "gridcolor": "white",
           "linecolor": "white",
           "ticks": "",
           "title": {
            "standoff": 15
           },
           "zerolinecolor": "white",
           "zerolinewidth": 2
          },
          "yaxis": {
           "automargin": true,
           "gridcolor": "white",
           "linecolor": "white",
           "ticks": "",
           "title": {
            "standoff": 15
           },
           "zerolinecolor": "white",
           "zerolinewidth": 2
          }
         }
        },
        "title": {
         "text": "Top words for the 10 topics"
        },
        "width": 1350
       }
      }
     },
     "metadata": {},
     "output_type": "display_data"
    },
    {
     "name": "stdout",
     "output_type": "stream",
     "text": [
      "Iter [300]===\n",
      "Topic 0: ['algorithm', 'training', 'problem', 'learning', 'function', 'method', 'error', 'set', 'learn', 'example']\n",
      "Topic 1: ['t', 'x', 'e', 'd', 'l', 'j', 'n', 'analog', 'circuit', 'w']\n",
      "Topic 2: ['signal', 'information', 'noise', 'source', 'spike', 'time', 'code', 'auditory', 'system', 'institute']\n",
      "Topic 3: ['learning', 'problem', 'state', 'algorithm', 'control', 'reinforcement', 'function', 'learn', 'time', 'value']\n",
      "Topic 4: ['network', 'neural', 'learning', 'learn', 'unit', 'weight', 'input', 'algorithm', 'model', 'output']\n",
      "Topic 5: ['datum', 'vector', 'x', 'function', 'algorithm', 'feature', 'analysis', 'kernel', 'space', 'basis']\n",
      "Topic 6: ['system', 'recognition', 'speech', 'network', 'neural', 'time', 'application', 'computer', 'word', 'character']\n",
      "Topic 7: ['neuron', 'model', 'cell', 'visual', 'cortex', 'system', 'synaptic', 'input', 'neural', 'stimulus']\n",
      "Topic 8: ['image', 'object', 'visual', 'model', 'human', 'representation', 'motion', 'face', 'task', 'feature']\n",
      "Topic 9: ['model', 'probability', 'distribution', 'algorithm', 'bayesian', 'method', 'variable', 'network', 'gaussian', 'datum']\n"
     ]
    },
    {
     "data": {
      "application/vnd.plotly.v1+json": {
       "config": {
        "plotlyServerURL": "https://plot.ly"
       },
       "data": [
        {
         "cells": {
          "fill": {
           "color": [
            [
             "rgb(177.0, 205.66666666666666, 169.33333333333331)",
             "rgb(197.33333333333334, 219.11111111111111, 191.88888888888889)",
             "rgb(197.33333333333334, 219.11111111111111, 191.88888888888889)",
             "rgb(197.33333333333334, 219.11111111111111, 191.88888888888889)",
             "rgb(197.33333333333334, 219.11111111111111, 191.88888888888889)",
             "rgb(197.33333333333334, 219.11111111111111, 191.88888888888889)",
             "rgb(197.33333333333334, 219.11111111111111, 191.88888888888889)",
             "rgb(217.66666666666666, 232.55555555555554, 214.44444444444446)",
             "rgb(217.66666666666666, 232.55555555555554, 214.44444444444446)",
             "rgb(217.66666666666666, 232.55555555555554, 214.44444444444446)"
            ],
            [
             "rgb(156.66666666666669, 192.22222222222223, 146.77777777777777)",
             "rgb(156.66666666666669, 192.22222222222223, 146.77777777777777)",
             "rgb(177.0, 205.66666666666666, 169.33333333333331)",
             "rgb(197.33333333333334, 219.11111111111111, 191.88888888888889)",
             "rgb(197.33333333333334, 219.11111111111111, 191.88888888888889)",
             "rgb(197.33333333333334, 219.11111111111111, 191.88888888888889)",
             "rgb(197.33333333333334, 219.11111111111111, 191.88888888888889)",
             "rgb(197.33333333333334, 219.11111111111111, 191.88888888888889)",
             "rgb(197.33333333333334, 219.11111111111111, 191.88888888888889)",
             "rgb(197.33333333333334, 219.11111111111111, 191.88888888888889)"
            ],
            [
             "rgb(177.0, 205.66666666666666, 169.33333333333331)",
             "rgb(197.33333333333334, 219.11111111111111, 191.88888888888889)",
             "rgb(217.66666666666666, 232.55555555555554, 214.44444444444446)",
             "rgb(217.66666666666666, 232.55555555555554, 214.44444444444446)",
             "rgb(217.66666666666666, 232.55555555555554, 214.44444444444446)",
             "rgb(217.66666666666666, 232.55555555555554, 214.44444444444446)",
             "rgb(217.66666666666666, 232.55555555555554, 214.44444444444446)",
             "rgb(217.66666666666666, 232.55555555555554, 214.44444444444446)",
             "rgb(217.66666666666666, 232.55555555555554, 214.44444444444446)",
             "rgb(217.66666666666666, 232.55555555555554, 214.44444444444446)"
            ],
            [
             "rgb(177.0, 205.66666666666666, 169.33333333333331)",
             "rgb(177.0, 205.66666666666666, 169.33333333333331)",
             "rgb(177.0, 205.66666666666666, 169.33333333333331)",
             "rgb(197.33333333333334, 219.11111111111111, 191.88888888888889)",
             "rgb(197.33333333333334, 219.11111111111111, 191.88888888888889)",
             "rgb(197.33333333333334, 219.11111111111111, 191.88888888888889)",
             "rgb(217.66666666666666, 232.55555555555554, 214.44444444444446)",
             "rgb(217.66666666666666, 232.55555555555554, 214.44444444444446)",
             "rgb(217.66666666666666, 232.55555555555554, 214.44444444444446)",
             "rgb(217.66666666666666, 232.55555555555554, 214.44444444444446)"
            ],
            [
             "rgb(75.33333333333334, 138.44444444444446, 56.55555555555554)",
             "rgb(177.0, 205.66666666666666, 169.33333333333331)",
             "rgb(177.0, 205.66666666666666, 169.33333333333331)",
             "rgb(217.66666666666666, 232.55555555555554, 214.44444444444446)",
             "rgb(217.66666666666666, 232.55555555555554, 214.44444444444446)",
             "rgb(217.66666666666666, 232.55555555555554, 214.44444444444446)",
             "rgb(217.66666666666666, 232.55555555555554, 214.44444444444446)",
             "rgb(217.66666666666666, 232.55555555555554, 214.44444444444446)",
             "rgb(217.66666666666666, 232.55555555555554, 214.44444444444446)",
             "rgb(217.66666666666666, 232.55555555555554, 214.44444444444446)"
            ],
            [
             "rgb(156.66666666666669, 192.22222222222223, 146.77777777777777)",
             "rgb(177.0, 205.66666666666666, 169.33333333333331)",
             "rgb(197.33333333333334, 219.11111111111111, 191.88888888888889)",
             "rgb(197.33333333333334, 219.11111111111111, 191.88888888888889)",
             "rgb(197.33333333333334, 219.11111111111111, 191.88888888888889)",
             "rgb(197.33333333333334, 219.11111111111111, 191.88888888888889)",
             "rgb(217.66666666666666, 232.55555555555554, 214.44444444444446)",
             "rgb(217.66666666666666, 232.55555555555554, 214.44444444444446)",
             "rgb(217.66666666666666, 232.55555555555554, 214.44444444444446)",
             "rgb(217.66666666666666, 232.55555555555554, 214.44444444444446)"
            ],
            [
             "rgb(156.66666666666669, 192.22222222222223, 146.77777777777777)",
             "rgb(177.0, 205.66666666666666, 169.33333333333331)",
             "rgb(197.33333333333334, 219.11111111111111, 191.88888888888889)",
             "rgb(197.33333333333334, 219.11111111111111, 191.88888888888889)",
             "rgb(197.33333333333334, 219.11111111111111, 191.88888888888889)",
             "rgb(217.66666666666666, 232.55555555555554, 214.44444444444446)",
             "rgb(217.66666666666666, 232.55555555555554, 214.44444444444446)",
             "rgb(217.66666666666666, 232.55555555555554, 214.44444444444446)",
             "rgb(217.66666666666666, 232.55555555555554, 214.44444444444446)",
             "rgb(217.66666666666666, 232.55555555555554, 214.44444444444446)"
            ],
            [
             "rgb(177.0, 205.66666666666666, 169.33333333333331)",
             "rgb(197.33333333333334, 219.11111111111111, 191.88888888888889)",
             "rgb(197.33333333333334, 219.11111111111111, 191.88888888888889)",
             "rgb(217.66666666666666, 232.55555555555554, 214.44444444444446)",
             "rgb(217.66666666666666, 232.55555555555554, 214.44444444444446)",
             "rgb(217.66666666666666, 232.55555555555554, 214.44444444444446)",
             "rgb(217.66666666666666, 232.55555555555554, 214.44444444444446)",
             "rgb(217.66666666666666, 232.55555555555554, 214.44444444444446)",
             "rgb(217.66666666666666, 232.55555555555554, 214.44444444444446)",
             "rgb(217.66666666666666, 232.55555555555554, 214.44444444444446)"
            ],
            [
             "rgb(156.66666666666669, 192.22222222222223, 146.77777777777777)",
             "rgb(177.0, 205.66666666666666, 169.33333333333331)",
             "rgb(197.33333333333334, 219.11111111111111, 191.88888888888889)",
             "rgb(197.33333333333334, 219.11111111111111, 191.88888888888889)",
             "rgb(217.66666666666666, 232.55555555555554, 214.44444444444446)",
             "rgb(217.66666666666666, 232.55555555555554, 214.44444444444446)",
             "rgb(217.66666666666666, 232.55555555555554, 214.44444444444446)",
             "rgb(217.66666666666666, 232.55555555555554, 214.44444444444446)",
             "rgb(217.66666666666666, 232.55555555555554, 214.44444444444446)",
             "rgb(217.66666666666666, 232.55555555555554, 214.44444444444446)"
            ],
            [
             "rgb(75.33333333333334, 138.44444444444446, 56.55555555555554)",
             "rgb(217.66666666666666, 232.55555555555554, 214.44444444444446)",
             "rgb(217.66666666666666, 232.55555555555554, 214.44444444444446)",
             "rgb(217.66666666666666, 232.55555555555554, 214.44444444444446)",
             "rgb(217.66666666666666, 232.55555555555554, 214.44444444444446)",
             "rgb(217.66666666666666, 232.55555555555554, 214.44444444444446)",
             "rgb(217.66666666666666, 232.55555555555554, 214.44444444444446)",
             "rgb(217.66666666666666, 232.55555555555554, 214.44444444444446)",
             "rgb(217.66666666666666, 232.55555555555554, 214.44444444444446)",
             "rgb(217.66666666666666, 232.55555555555554, 214.44444444444446)"
            ]
           ]
          },
          "values": [
           [
            "algorithm",
            "training",
            "problem",
            "learning",
            "function",
            "method",
            "error",
            "set",
            "learn",
            "example"
           ],
           [
            "t",
            "x",
            "e",
            "d",
            "l",
            "j",
            "n",
            "analog",
            "circuit",
            "w"
           ],
           [
            "signal",
            "information",
            "noise",
            "source",
            "spike",
            "time",
            "code",
            "auditory",
            "system",
            "institute"
           ],
           [
            "learning",
            "problem",
            "state",
            "algorithm",
            "control",
            "reinforcement",
            "function",
            "learn",
            "time",
            "value"
           ],
           [
            "network",
            "neural",
            "learning",
            "learn",
            "unit",
            "weight",
            "input",
            "algorithm",
            "model",
            "output"
           ],
           [
            "datum",
            "vector",
            "x",
            "function",
            "algorithm",
            "feature",
            "analysis",
            "kernel",
            "space",
            "basis"
           ],
           [
            "system",
            "recognition",
            "speech",
            "network",
            "neural",
            "time",
            "application",
            "computer",
            "word",
            "character"
           ],
           [
            "neuron",
            "model",
            "cell",
            "visual",
            "cortex",
            "system",
            "synaptic",
            "input",
            "neural",
            "stimulus"
           ],
           [
            "image",
            "object",
            "visual",
            "model",
            "human",
            "representation",
            "motion",
            "face",
            "task",
            "feature"
           ],
           [
            "model",
            "probability",
            "distribution",
            "algorithm",
            "bayesian",
            "method",
            "variable",
            "network",
            "gaussian",
            "datum"
           ]
          ]
         },
         "header": {
          "fill": {
           "color": "rgb(220, 220, 220)"
          },
          "values": [
           "Topic 00",
           "Topic 01",
           "Topic 02",
           "Topic 03",
           "Topic 04",
           "Topic 05",
           "Topic 06",
           "Topic 07",
           "Topic 08",
           "Topic 09"
          ]
         },
         "type": "table"
        }
       ],
       "layout": {
        "template": {
         "data": {
          "bar": [
           {
            "error_x": {
             "color": "#2a3f5f"
            },
            "error_y": {
             "color": "#2a3f5f"
            },
            "marker": {
             "line": {
              "color": "#E5ECF6",
              "width": 0.5
             },
             "pattern": {
              "fillmode": "overlay",
              "size": 10,
              "solidity": 0.2
             }
            },
            "type": "bar"
           }
          ],
          "barpolar": [
           {
            "marker": {
             "line": {
              "color": "#E5ECF6",
              "width": 0.5
             },
             "pattern": {
              "fillmode": "overlay",
              "size": 10,
              "solidity": 0.2
             }
            },
            "type": "barpolar"
           }
          ],
          "carpet": [
           {
            "aaxis": {
             "endlinecolor": "#2a3f5f",
             "gridcolor": "white",
             "linecolor": "white",
             "minorgridcolor": "white",
             "startlinecolor": "#2a3f5f"
            },
            "baxis": {
             "endlinecolor": "#2a3f5f",
             "gridcolor": "white",
             "linecolor": "white",
             "minorgridcolor": "white",
             "startlinecolor": "#2a3f5f"
            },
            "type": "carpet"
           }
          ],
          "choropleth": [
           {
            "colorbar": {
             "outlinewidth": 0,
             "ticks": ""
            },
            "type": "choropleth"
           }
          ],
          "contour": [
           {
            "colorbar": {
             "outlinewidth": 0,
             "ticks": ""
            },
            "colorscale": [
             [
              0,
              "#0d0887"
             ],
             [
              0.1111111111111111,
              "#46039f"
             ],
             [
              0.2222222222222222,
              "#7201a8"
             ],
             [
              0.3333333333333333,
              "#9c179e"
             ],
             [
              0.4444444444444444,
              "#bd3786"
             ],
             [
              0.5555555555555556,
              "#d8576b"
             ],
             [
              0.6666666666666666,
              "#ed7953"
             ],
             [
              0.7777777777777778,
              "#fb9f3a"
             ],
             [
              0.8888888888888888,
              "#fdca26"
             ],
             [
              1,
              "#f0f921"
             ]
            ],
            "type": "contour"
           }
          ],
          "contourcarpet": [
           {
            "colorbar": {
             "outlinewidth": 0,
             "ticks": ""
            },
            "type": "contourcarpet"
           }
          ],
          "heatmap": [
           {
            "colorbar": {
             "outlinewidth": 0,
             "ticks": ""
            },
            "colorscale": [
             [
              0,
              "#0d0887"
             ],
             [
              0.1111111111111111,
              "#46039f"
             ],
             [
              0.2222222222222222,
              "#7201a8"
             ],
             [
              0.3333333333333333,
              "#9c179e"
             ],
             [
              0.4444444444444444,
              "#bd3786"
             ],
             [
              0.5555555555555556,
              "#d8576b"
             ],
             [
              0.6666666666666666,
              "#ed7953"
             ],
             [
              0.7777777777777778,
              "#fb9f3a"
             ],
             [
              0.8888888888888888,
              "#fdca26"
             ],
             [
              1,
              "#f0f921"
             ]
            ],
            "type": "heatmap"
           }
          ],
          "heatmapgl": [
           {
            "colorbar": {
             "outlinewidth": 0,
             "ticks": ""
            },
            "colorscale": [
             [
              0,
              "#0d0887"
             ],
             [
              0.1111111111111111,
              "#46039f"
             ],
             [
              0.2222222222222222,
              "#7201a8"
             ],
             [
              0.3333333333333333,
              "#9c179e"
             ],
             [
              0.4444444444444444,
              "#bd3786"
             ],
             [
              0.5555555555555556,
              "#d8576b"
             ],
             [
              0.6666666666666666,
              "#ed7953"
             ],
             [
              0.7777777777777778,
              "#fb9f3a"
             ],
             [
              0.8888888888888888,
              "#fdca26"
             ],
             [
              1,
              "#f0f921"
             ]
            ],
            "type": "heatmapgl"
           }
          ],
          "histogram": [
           {
            "marker": {
             "pattern": {
              "fillmode": "overlay",
              "size": 10,
              "solidity": 0.2
             }
            },
            "type": "histogram"
           }
          ],
          "histogram2d": [
           {
            "colorbar": {
             "outlinewidth": 0,
             "ticks": ""
            },
            "colorscale": [
             [
              0,
              "#0d0887"
             ],
             [
              0.1111111111111111,
              "#46039f"
             ],
             [
              0.2222222222222222,
              "#7201a8"
             ],
             [
              0.3333333333333333,
              "#9c179e"
             ],
             [
              0.4444444444444444,
              "#bd3786"
             ],
             [
              0.5555555555555556,
              "#d8576b"
             ],
             [
              0.6666666666666666,
              "#ed7953"
             ],
             [
              0.7777777777777778,
              "#fb9f3a"
             ],
             [
              0.8888888888888888,
              "#fdca26"
             ],
             [
              1,
              "#f0f921"
             ]
            ],
            "type": "histogram2d"
           }
          ],
          "histogram2dcontour": [
           {
            "colorbar": {
             "outlinewidth": 0,
             "ticks": ""
            },
            "colorscale": [
             [
              0,
              "#0d0887"
             ],
             [
              0.1111111111111111,
              "#46039f"
             ],
             [
              0.2222222222222222,
              "#7201a8"
             ],
             [
              0.3333333333333333,
              "#9c179e"
             ],
             [
              0.4444444444444444,
              "#bd3786"
             ],
             [
              0.5555555555555556,
              "#d8576b"
             ],
             [
              0.6666666666666666,
              "#ed7953"
             ],
             [
              0.7777777777777778,
              "#fb9f3a"
             ],
             [
              0.8888888888888888,
              "#fdca26"
             ],
             [
              1,
              "#f0f921"
             ]
            ],
            "type": "histogram2dcontour"
           }
          ],
          "mesh3d": [
           {
            "colorbar": {
             "outlinewidth": 0,
             "ticks": ""
            },
            "type": "mesh3d"
           }
          ],
          "parcoords": [
           {
            "line": {
             "colorbar": {
              "outlinewidth": 0,
              "ticks": ""
             }
            },
            "type": "parcoords"
           }
          ],
          "pie": [
           {
            "automargin": true,
            "type": "pie"
           }
          ],
          "scatter": [
           {
            "marker": {
             "colorbar": {
              "outlinewidth": 0,
              "ticks": ""
             }
            },
            "type": "scatter"
           }
          ],
          "scatter3d": [
           {
            "line": {
             "colorbar": {
              "outlinewidth": 0,
              "ticks": ""
             }
            },
            "marker": {
             "colorbar": {
              "outlinewidth": 0,
              "ticks": ""
             }
            },
            "type": "scatter3d"
           }
          ],
          "scattercarpet": [
           {
            "marker": {
             "colorbar": {
              "outlinewidth": 0,
              "ticks": ""
             }
            },
            "type": "scattercarpet"
           }
          ],
          "scattergeo": [
           {
            "marker": {
             "colorbar": {
              "outlinewidth": 0,
              "ticks": ""
             }
            },
            "type": "scattergeo"
           }
          ],
          "scattergl": [
           {
            "marker": {
             "colorbar": {
              "outlinewidth": 0,
              "ticks": ""
             }
            },
            "type": "scattergl"
           }
          ],
          "scattermapbox": [
           {
            "marker": {
             "colorbar": {
              "outlinewidth": 0,
              "ticks": ""
             }
            },
            "type": "scattermapbox"
           }
          ],
          "scatterpolar": [
           {
            "marker": {
             "colorbar": {
              "outlinewidth": 0,
              "ticks": ""
             }
            },
            "type": "scatterpolar"
           }
          ],
          "scatterpolargl": [
           {
            "marker": {
             "colorbar": {
              "outlinewidth": 0,
              "ticks": ""
             }
            },
            "type": "scatterpolargl"
           }
          ],
          "scatterternary": [
           {
            "marker": {
             "colorbar": {
              "outlinewidth": 0,
              "ticks": ""
             }
            },
            "type": "scatterternary"
           }
          ],
          "surface": [
           {
            "colorbar": {
             "outlinewidth": 0,
             "ticks": ""
            },
            "colorscale": [
             [
              0,
              "#0d0887"
             ],
             [
              0.1111111111111111,
              "#46039f"
             ],
             [
              0.2222222222222222,
              "#7201a8"
             ],
             [
              0.3333333333333333,
              "#9c179e"
             ],
             [
              0.4444444444444444,
              "#bd3786"
             ],
             [
              0.5555555555555556,
              "#d8576b"
             ],
             [
              0.6666666666666666,
              "#ed7953"
             ],
             [
              0.7777777777777778,
              "#fb9f3a"
             ],
             [
              0.8888888888888888,
              "#fdca26"
             ],
             [
              1,
              "#f0f921"
             ]
            ],
            "type": "surface"
           }
          ],
          "table": [
           {
            "cells": {
             "fill": {
              "color": "#EBF0F8"
             },
             "line": {
              "color": "white"
             }
            },
            "header": {
             "fill": {
              "color": "#C8D4E3"
             },
             "line": {
              "color": "white"
             }
            },
            "type": "table"
           }
          ]
         },
         "layout": {
          "annotationdefaults": {
           "arrowcolor": "#2a3f5f",
           "arrowhead": 0,
           "arrowwidth": 1
          },
          "autotypenumbers": "strict",
          "coloraxis": {
           "colorbar": {
            "outlinewidth": 0,
            "ticks": ""
           }
          },
          "colorscale": {
           "diverging": [
            [
             0,
             "#8e0152"
            ],
            [
             0.1,
             "#c51b7d"
            ],
            [
             0.2,
             "#de77ae"
            ],
            [
             0.3,
             "#f1b6da"
            ],
            [
             0.4,
             "#fde0ef"
            ],
            [
             0.5,
             "#f7f7f7"
            ],
            [
             0.6,
             "#e6f5d0"
            ],
            [
             0.7,
             "#b8e186"
            ],
            [
             0.8,
             "#7fbc41"
            ],
            [
             0.9,
             "#4d9221"
            ],
            [
             1,
             "#276419"
            ]
           ],
           "sequential": [
            [
             0,
             "#0d0887"
            ],
            [
             0.1111111111111111,
             "#46039f"
            ],
            [
             0.2222222222222222,
             "#7201a8"
            ],
            [
             0.3333333333333333,
             "#9c179e"
            ],
            [
             0.4444444444444444,
             "#bd3786"
            ],
            [
             0.5555555555555556,
             "#d8576b"
            ],
            [
             0.6666666666666666,
             "#ed7953"
            ],
            [
             0.7777777777777778,
             "#fb9f3a"
            ],
            [
             0.8888888888888888,
             "#fdca26"
            ],
            [
             1,
             "#f0f921"
            ]
           ],
           "sequentialminus": [
            [
             0,
             "#0d0887"
            ],
            [
             0.1111111111111111,
             "#46039f"
            ],
            [
             0.2222222222222222,
             "#7201a8"
            ],
            [
             0.3333333333333333,
             "#9c179e"
            ],
            [
             0.4444444444444444,
             "#bd3786"
            ],
            [
             0.5555555555555556,
             "#d8576b"
            ],
            [
             0.6666666666666666,
             "#ed7953"
            ],
            [
             0.7777777777777778,
             "#fb9f3a"
            ],
            [
             0.8888888888888888,
             "#fdca26"
            ],
            [
             1,
             "#f0f921"
            ]
           ]
          },
          "colorway": [
           "#636efa",
           "#EF553B",
           "#00cc96",
           "#ab63fa",
           "#FFA15A",
           "#19d3f3",
           "#FF6692",
           "#B6E880",
           "#FF97FF",
           "#FECB52"
          ],
          "font": {
           "color": "#2a3f5f"
          },
          "geo": {
           "bgcolor": "white",
           "lakecolor": "white",
           "landcolor": "#E5ECF6",
           "showlakes": true,
           "showland": true,
           "subunitcolor": "white"
          },
          "hoverlabel": {
           "align": "left"
          },
          "hovermode": "closest",
          "mapbox": {
           "style": "light"
          },
          "paper_bgcolor": "white",
          "plot_bgcolor": "#E5ECF6",
          "polar": {
           "angularaxis": {
            "gridcolor": "white",
            "linecolor": "white",
            "ticks": ""
           },
           "bgcolor": "#E5ECF6",
           "radialaxis": {
            "gridcolor": "white",
            "linecolor": "white",
            "ticks": ""
           }
          },
          "scene": {
           "xaxis": {
            "backgroundcolor": "#E5ECF6",
            "gridcolor": "white",
            "gridwidth": 2,
            "linecolor": "white",
            "showbackground": true,
            "ticks": "",
            "zerolinecolor": "white"
           },
           "yaxis": {
            "backgroundcolor": "#E5ECF6",
            "gridcolor": "white",
            "gridwidth": 2,
            "linecolor": "white",
            "showbackground": true,
            "ticks": "",
            "zerolinecolor": "white"
           },
           "zaxis": {
            "backgroundcolor": "#E5ECF6",
            "gridcolor": "white",
            "gridwidth": 2,
            "linecolor": "white",
            "showbackground": true,
            "ticks": "",
            "zerolinecolor": "white"
           }
          },
          "shapedefaults": {
           "line": {
            "color": "#2a3f5f"
           }
          },
          "ternary": {
           "aaxis": {
            "gridcolor": "white",
            "linecolor": "white",
            "ticks": ""
           },
           "baxis": {
            "gridcolor": "white",
            "linecolor": "white",
            "ticks": ""
           },
           "bgcolor": "#E5ECF6",
           "caxis": {
            "gridcolor": "white",
            "linecolor": "white",
            "ticks": ""
           }
          },
          "title": {
           "x": 0.05
          },
          "xaxis": {
           "automargin": true,
           "gridcolor": "white",
           "linecolor": "white",
           "ticks": "",
           "title": {
            "standoff": 15
           },
           "zerolinecolor": "white",
           "zerolinewidth": 2
          },
          "yaxis": {
           "automargin": true,
           "gridcolor": "white",
           "linecolor": "white",
           "ticks": "",
           "title": {
            "standoff": 15
           },
           "zerolinecolor": "white",
           "zerolinewidth": 2
          }
         }
        },
        "title": {
         "text": "Top words for the 10 topics"
        },
        "width": 1350
       }
      }
     },
     "metadata": {},
     "output_type": "display_data"
    },
    {
     "name": "stdout",
     "output_type": "stream",
     "text": [
      "Iter [350]===\n",
      "Topic 0: ['algorithm', 'training', 'learning', 'problem', 'error', 'function', 'method', 'learn', 'classification', 'example']\n",
      "Topic 1: ['x', 't', 'e', 'j', 'l', 'd', 'f', 'circuit', 'analog', 'w']\n",
      "Topic 2: ['signal', 'information', 'time', 'source', 'noise', 'system', 'code', 'spike', 'auditory', 'institute']\n",
      "Topic 3: ['learning', 'problem', 'state', 'control', 'algorithm', 'reinforcement', 'function', 'learn', 'decision', 'value']\n",
      "Topic 4: ['network', 'neural', 'learning', 'weight', 'input', 'unit', 'learn', 'output', 'algorithm', 'function']\n",
      "Topic 5: ['vector', 'datum', 'algorithm', 'x', 'feature', 'function', 'space', 'kernel', 'point', 'linear']\n",
      "Topic 6: ['system', 'recognition', 'network', 'speech', 'neural', 'time', 'computer', 'base', 'word', 'character']\n",
      "Topic 7: ['model', 'neuron', 'cell', 'visual', 'cortex', 'input', 'synaptic', 'activity', 'cortical', 'stimulus']\n",
      "Topic 8: ['image', 'object', 'visual', 'model', 'human', 'motion', 'task', 'representation', 'face', 'system']\n",
      "Topic 9: ['model', 'distribution', 'probability', 'algorithm', 'datum', 'gaussian', 'method', 'bayesian', 'variable', 'mixture']\n"
     ]
    },
    {
     "data": {
      "application/vnd.plotly.v1+json": {
       "config": {
        "plotlyServerURL": "https://plot.ly"
       },
       "data": [
        {
         "cells": {
          "fill": {
           "color": [
            [
             "rgb(197.33333333333334, 219.11111111111111, 191.88888888888889)",
             "rgb(197.33333333333334, 219.11111111111111, 191.88888888888889)",
             "rgb(197.33333333333334, 219.11111111111111, 191.88888888888889)",
             "rgb(197.33333333333334, 219.11111111111111, 191.88888888888889)",
             "rgb(197.33333333333334, 219.11111111111111, 191.88888888888889)",
             "rgb(217.66666666666666, 232.55555555555554, 214.44444444444446)",
             "rgb(217.66666666666666, 232.55555555555554, 214.44444444444446)",
             "rgb(217.66666666666666, 232.55555555555554, 214.44444444444446)",
             "rgb(217.66666666666666, 232.55555555555554, 214.44444444444446)",
             "rgb(217.66666666666666, 232.55555555555554, 214.44444444444446)"
            ],
            [
             "rgb(136.33333333333334, 178.77777777777777, 124.22222222222221)",
             "rgb(136.33333333333334, 178.77777777777777, 124.22222222222221)",
             "rgb(177.0, 205.66666666666666, 169.33333333333331)",
             "rgb(197.33333333333334, 219.11111111111111, 191.88888888888889)",
             "rgb(197.33333333333334, 219.11111111111111, 191.88888888888889)",
             "rgb(197.33333333333334, 219.11111111111111, 191.88888888888889)",
             "rgb(197.33333333333334, 219.11111111111111, 191.88888888888889)",
             "rgb(197.33333333333334, 219.11111111111111, 191.88888888888889)",
             "rgb(197.33333333333334, 219.11111111111111, 191.88888888888889)",
             "rgb(197.33333333333334, 219.11111111111111, 191.88888888888889)"
            ],
            [
             "rgb(156.66666666666669, 192.22222222222223, 146.77777777777777)",
             "rgb(197.33333333333334, 219.11111111111111, 191.88888888888889)",
             "rgb(217.66666666666666, 232.55555555555554, 214.44444444444446)",
             "rgb(217.66666666666666, 232.55555555555554, 214.44444444444446)",
             "rgb(217.66666666666666, 232.55555555555554, 214.44444444444446)",
             "rgb(217.66666666666666, 232.55555555555554, 214.44444444444446)",
             "rgb(217.66666666666666, 232.55555555555554, 214.44444444444446)",
             "rgb(217.66666666666666, 232.55555555555554, 214.44444444444446)",
             "rgb(217.66666666666666, 232.55555555555554, 214.44444444444446)",
             "rgb(217.66666666666666, 232.55555555555554, 214.44444444444446)"
            ],
            [
             "rgb(156.66666666666669, 192.22222222222223, 146.77777777777777)",
             "rgb(177.0, 205.66666666666666, 169.33333333333331)",
             "rgb(177.0, 205.66666666666666, 169.33333333333331)",
             "rgb(197.33333333333334, 219.11111111111111, 191.88888888888889)",
             "rgb(197.33333333333334, 219.11111111111111, 191.88888888888889)",
             "rgb(197.33333333333334, 219.11111111111111, 191.88888888888889)",
             "rgb(217.66666666666666, 232.55555555555554, 214.44444444444446)",
             "rgb(217.66666666666666, 232.55555555555554, 214.44444444444446)",
             "rgb(217.66666666666666, 232.55555555555554, 214.44444444444446)",
             "rgb(217.66666666666666, 232.55555555555554, 214.44444444444446)"
            ],
            [
             "rgb(75.33333333333334, 138.44444444444446, 56.55555555555554)",
             "rgb(177.0, 205.66666666666666, 169.33333333333331)",
             "rgb(177.0, 205.66666666666666, 169.33333333333331)",
             "rgb(217.66666666666666, 232.55555555555554, 214.44444444444446)",
             "rgb(217.66666666666666, 232.55555555555554, 214.44444444444446)",
             "rgb(217.66666666666666, 232.55555555555554, 214.44444444444446)",
             "rgb(217.66666666666666, 232.55555555555554, 214.44444444444446)",
             "rgb(217.66666666666666, 232.55555555555554, 214.44444444444446)",
             "rgb(217.66666666666666, 232.55555555555554, 214.44444444444446)",
             "rgb(217.66666666666666, 232.55555555555554, 214.44444444444446)"
            ],
            [
             "rgb(177.0, 205.66666666666666, 169.33333333333331)",
             "rgb(177.0, 205.66666666666666, 169.33333333333331)",
             "rgb(197.33333333333334, 219.11111111111111, 191.88888888888889)",
             "rgb(197.33333333333334, 219.11111111111111, 191.88888888888889)",
             "rgb(197.33333333333334, 219.11111111111111, 191.88888888888889)",
             "rgb(217.66666666666666, 232.55555555555554, 214.44444444444446)",
             "rgb(217.66666666666666, 232.55555555555554, 214.44444444444446)",
             "rgb(217.66666666666666, 232.55555555555554, 214.44444444444446)",
             "rgb(217.66666666666666, 232.55555555555554, 214.44444444444446)",
             "rgb(217.66666666666666, 232.55555555555554, 214.44444444444446)"
            ],
            [
             "rgb(156.66666666666669, 192.22222222222223, 146.77777777777777)",
             "rgb(177.0, 205.66666666666666, 169.33333333333331)",
             "rgb(197.33333333333334, 219.11111111111111, 191.88888888888889)",
             "rgb(197.33333333333334, 219.11111111111111, 191.88888888888889)",
             "rgb(197.33333333333334, 219.11111111111111, 191.88888888888889)",
             "rgb(217.66666666666666, 232.55555555555554, 214.44444444444446)",
             "rgb(217.66666666666666, 232.55555555555554, 214.44444444444446)",
             "rgb(217.66666666666666, 232.55555555555554, 214.44444444444446)",
             "rgb(217.66666666666666, 232.55555555555554, 214.44444444444446)",
             "rgb(217.66666666666666, 232.55555555555554, 214.44444444444446)"
            ],
            [
             "rgb(177.0, 205.66666666666666, 169.33333333333331)",
             "rgb(177.0, 205.66666666666666, 169.33333333333331)",
             "rgb(197.33333333333334, 219.11111111111111, 191.88888888888889)",
             "rgb(217.66666666666666, 232.55555555555554, 214.44444444444446)",
             "rgb(217.66666666666666, 232.55555555555554, 214.44444444444446)",
             "rgb(217.66666666666666, 232.55555555555554, 214.44444444444446)",
             "rgb(217.66666666666666, 232.55555555555554, 214.44444444444446)",
             "rgb(217.66666666666666, 232.55555555555554, 214.44444444444446)",
             "rgb(217.66666666666666, 232.55555555555554, 214.44444444444446)",
             "rgb(217.66666666666666, 232.55555555555554, 214.44444444444446)"
            ],
            [
             "rgb(156.66666666666669, 192.22222222222223, 146.77777777777777)",
             "rgb(177.0, 205.66666666666666, 169.33333333333331)",
             "rgb(197.33333333333334, 219.11111111111111, 191.88888888888889)",
             "rgb(197.33333333333334, 219.11111111111111, 191.88888888888889)",
             "rgb(217.66666666666666, 232.55555555555554, 214.44444444444446)",
             "rgb(217.66666666666666, 232.55555555555554, 214.44444444444446)",
             "rgb(217.66666666666666, 232.55555555555554, 214.44444444444446)",
             "rgb(217.66666666666666, 232.55555555555554, 214.44444444444446)",
             "rgb(217.66666666666666, 232.55555555555554, 214.44444444444446)",
             "rgb(217.66666666666666, 232.55555555555554, 214.44444444444446)"
            ],
            [
             "rgb(95.66666666666669, 151.88888888888889, 79.11111111111109)",
             "rgb(217.66666666666666, 232.55555555555554, 214.44444444444446)",
             "rgb(217.66666666666666, 232.55555555555554, 214.44444444444446)",
             "rgb(217.66666666666666, 232.55555555555554, 214.44444444444446)",
             "rgb(217.66666666666666, 232.55555555555554, 214.44444444444446)",
             "rgb(217.66666666666666, 232.55555555555554, 214.44444444444446)",
             "rgb(217.66666666666666, 232.55555555555554, 214.44444444444446)",
             "rgb(217.66666666666666, 232.55555555555554, 214.44444444444446)",
             "rgb(217.66666666666666, 232.55555555555554, 214.44444444444446)",
             "rgb(217.66666666666666, 232.55555555555554, 214.44444444444446)"
            ]
           ]
          },
          "values": [
           [
            "algorithm",
            "training",
            "learning",
            "problem",
            "error",
            "function",
            "method",
            "learn",
            "classification",
            "example"
           ],
           [
            "x",
            "t",
            "e",
            "j",
            "l",
            "d",
            "f",
            "circuit",
            "analog",
            "w"
           ],
           [
            "signal",
            "information",
            "time",
            "source",
            "noise",
            "system",
            "code",
            "spike",
            "auditory",
            "institute"
           ],
           [
            "learning",
            "problem",
            "state",
            "control",
            "algorithm",
            "reinforcement",
            "function",
            "learn",
            "decision",
            "value"
           ],
           [
            "network",
            "neural",
            "learning",
            "weight",
            "input",
            "unit",
            "learn",
            "output",
            "algorithm",
            "function"
           ],
           [
            "vector",
            "datum",
            "algorithm",
            "x",
            "feature",
            "function",
            "space",
            "kernel",
            "point",
            "linear"
           ],
           [
            "system",
            "recognition",
            "network",
            "speech",
            "neural",
            "time",
            "computer",
            "base",
            "word",
            "character"
           ],
           [
            "model",
            "neuron",
            "cell",
            "visual",
            "cortex",
            "input",
            "synaptic",
            "activity",
            "cortical",
            "stimulus"
           ],
           [
            "image",
            "object",
            "visual",
            "model",
            "human",
            "motion",
            "task",
            "representation",
            "face",
            "system"
           ],
           [
            "model",
            "distribution",
            "probability",
            "algorithm",
            "datum",
            "gaussian",
            "method",
            "bayesian",
            "variable",
            "mixture"
           ]
          ]
         },
         "header": {
          "fill": {
           "color": "rgb(220, 220, 220)"
          },
          "values": [
           "Topic 00",
           "Topic 01",
           "Topic 02",
           "Topic 03",
           "Topic 04",
           "Topic 05",
           "Topic 06",
           "Topic 07",
           "Topic 08",
           "Topic 09"
          ]
         },
         "type": "table"
        }
       ],
       "layout": {
        "template": {
         "data": {
          "bar": [
           {
            "error_x": {
             "color": "#2a3f5f"
            },
            "error_y": {
             "color": "#2a3f5f"
            },
            "marker": {
             "line": {
              "color": "#E5ECF6",
              "width": 0.5
             },
             "pattern": {
              "fillmode": "overlay",
              "size": 10,
              "solidity": 0.2
             }
            },
            "type": "bar"
           }
          ],
          "barpolar": [
           {
            "marker": {
             "line": {
              "color": "#E5ECF6",
              "width": 0.5
             },
             "pattern": {
              "fillmode": "overlay",
              "size": 10,
              "solidity": 0.2
             }
            },
            "type": "barpolar"
           }
          ],
          "carpet": [
           {
            "aaxis": {
             "endlinecolor": "#2a3f5f",
             "gridcolor": "white",
             "linecolor": "white",
             "minorgridcolor": "white",
             "startlinecolor": "#2a3f5f"
            },
            "baxis": {
             "endlinecolor": "#2a3f5f",
             "gridcolor": "white",
             "linecolor": "white",
             "minorgridcolor": "white",
             "startlinecolor": "#2a3f5f"
            },
            "type": "carpet"
           }
          ],
          "choropleth": [
           {
            "colorbar": {
             "outlinewidth": 0,
             "ticks": ""
            },
            "type": "choropleth"
           }
          ],
          "contour": [
           {
            "colorbar": {
             "outlinewidth": 0,
             "ticks": ""
            },
            "colorscale": [
             [
              0,
              "#0d0887"
             ],
             [
              0.1111111111111111,
              "#46039f"
             ],
             [
              0.2222222222222222,
              "#7201a8"
             ],
             [
              0.3333333333333333,
              "#9c179e"
             ],
             [
              0.4444444444444444,
              "#bd3786"
             ],
             [
              0.5555555555555556,
              "#d8576b"
             ],
             [
              0.6666666666666666,
              "#ed7953"
             ],
             [
              0.7777777777777778,
              "#fb9f3a"
             ],
             [
              0.8888888888888888,
              "#fdca26"
             ],
             [
              1,
              "#f0f921"
             ]
            ],
            "type": "contour"
           }
          ],
          "contourcarpet": [
           {
            "colorbar": {
             "outlinewidth": 0,
             "ticks": ""
            },
            "type": "contourcarpet"
           }
          ],
          "heatmap": [
           {
            "colorbar": {
             "outlinewidth": 0,
             "ticks": ""
            },
            "colorscale": [
             [
              0,
              "#0d0887"
             ],
             [
              0.1111111111111111,
              "#46039f"
             ],
             [
              0.2222222222222222,
              "#7201a8"
             ],
             [
              0.3333333333333333,
              "#9c179e"
             ],
             [
              0.4444444444444444,
              "#bd3786"
             ],
             [
              0.5555555555555556,
              "#d8576b"
             ],
             [
              0.6666666666666666,
              "#ed7953"
             ],
             [
              0.7777777777777778,
              "#fb9f3a"
             ],
             [
              0.8888888888888888,
              "#fdca26"
             ],
             [
              1,
              "#f0f921"
             ]
            ],
            "type": "heatmap"
           }
          ],
          "heatmapgl": [
           {
            "colorbar": {
             "outlinewidth": 0,
             "ticks": ""
            },
            "colorscale": [
             [
              0,
              "#0d0887"
             ],
             [
              0.1111111111111111,
              "#46039f"
             ],
             [
              0.2222222222222222,
              "#7201a8"
             ],
             [
              0.3333333333333333,
              "#9c179e"
             ],
             [
              0.4444444444444444,
              "#bd3786"
             ],
             [
              0.5555555555555556,
              "#d8576b"
             ],
             [
              0.6666666666666666,
              "#ed7953"
             ],
             [
              0.7777777777777778,
              "#fb9f3a"
             ],
             [
              0.8888888888888888,
              "#fdca26"
             ],
             [
              1,
              "#f0f921"
             ]
            ],
            "type": "heatmapgl"
           }
          ],
          "histogram": [
           {
            "marker": {
             "pattern": {
              "fillmode": "overlay",
              "size": 10,
              "solidity": 0.2
             }
            },
            "type": "histogram"
           }
          ],
          "histogram2d": [
           {
            "colorbar": {
             "outlinewidth": 0,
             "ticks": ""
            },
            "colorscale": [
             [
              0,
              "#0d0887"
             ],
             [
              0.1111111111111111,
              "#46039f"
             ],
             [
              0.2222222222222222,
              "#7201a8"
             ],
             [
              0.3333333333333333,
              "#9c179e"
             ],
             [
              0.4444444444444444,
              "#bd3786"
             ],
             [
              0.5555555555555556,
              "#d8576b"
             ],
             [
              0.6666666666666666,
              "#ed7953"
             ],
             [
              0.7777777777777778,
              "#fb9f3a"
             ],
             [
              0.8888888888888888,
              "#fdca26"
             ],
             [
              1,
              "#f0f921"
             ]
            ],
            "type": "histogram2d"
           }
          ],
          "histogram2dcontour": [
           {
            "colorbar": {
             "outlinewidth": 0,
             "ticks": ""
            },
            "colorscale": [
             [
              0,
              "#0d0887"
             ],
             [
              0.1111111111111111,
              "#46039f"
             ],
             [
              0.2222222222222222,
              "#7201a8"
             ],
             [
              0.3333333333333333,
              "#9c179e"
             ],
             [
              0.4444444444444444,
              "#bd3786"
             ],
             [
              0.5555555555555556,
              "#d8576b"
             ],
             [
              0.6666666666666666,
              "#ed7953"
             ],
             [
              0.7777777777777778,
              "#fb9f3a"
             ],
             [
              0.8888888888888888,
              "#fdca26"
             ],
             [
              1,
              "#f0f921"
             ]
            ],
            "type": "histogram2dcontour"
           }
          ],
          "mesh3d": [
           {
            "colorbar": {
             "outlinewidth": 0,
             "ticks": ""
            },
            "type": "mesh3d"
           }
          ],
          "parcoords": [
           {
            "line": {
             "colorbar": {
              "outlinewidth": 0,
              "ticks": ""
             }
            },
            "type": "parcoords"
           }
          ],
          "pie": [
           {
            "automargin": true,
            "type": "pie"
           }
          ],
          "scatter": [
           {
            "marker": {
             "colorbar": {
              "outlinewidth": 0,
              "ticks": ""
             }
            },
            "type": "scatter"
           }
          ],
          "scatter3d": [
           {
            "line": {
             "colorbar": {
              "outlinewidth": 0,
              "ticks": ""
             }
            },
            "marker": {
             "colorbar": {
              "outlinewidth": 0,
              "ticks": ""
             }
            },
            "type": "scatter3d"
           }
          ],
          "scattercarpet": [
           {
            "marker": {
             "colorbar": {
              "outlinewidth": 0,
              "ticks": ""
             }
            },
            "type": "scattercarpet"
           }
          ],
          "scattergeo": [
           {
            "marker": {
             "colorbar": {
              "outlinewidth": 0,
              "ticks": ""
             }
            },
            "type": "scattergeo"
           }
          ],
          "scattergl": [
           {
            "marker": {
             "colorbar": {
              "outlinewidth": 0,
              "ticks": ""
             }
            },
            "type": "scattergl"
           }
          ],
          "scattermapbox": [
           {
            "marker": {
             "colorbar": {
              "outlinewidth": 0,
              "ticks": ""
             }
            },
            "type": "scattermapbox"
           }
          ],
          "scatterpolar": [
           {
            "marker": {
             "colorbar": {
              "outlinewidth": 0,
              "ticks": ""
             }
            },
            "type": "scatterpolar"
           }
          ],
          "scatterpolargl": [
           {
            "marker": {
             "colorbar": {
              "outlinewidth": 0,
              "ticks": ""
             }
            },
            "type": "scatterpolargl"
           }
          ],
          "scatterternary": [
           {
            "marker": {
             "colorbar": {
              "outlinewidth": 0,
              "ticks": ""
             }
            },
            "type": "scatterternary"
           }
          ],
          "surface": [
           {
            "colorbar": {
             "outlinewidth": 0,
             "ticks": ""
            },
            "colorscale": [
             [
              0,
              "#0d0887"
             ],
             [
              0.1111111111111111,
              "#46039f"
             ],
             [
              0.2222222222222222,
              "#7201a8"
             ],
             [
              0.3333333333333333,
              "#9c179e"
             ],
             [
              0.4444444444444444,
              "#bd3786"
             ],
             [
              0.5555555555555556,
              "#d8576b"
             ],
             [
              0.6666666666666666,
              "#ed7953"
             ],
             [
              0.7777777777777778,
              "#fb9f3a"
             ],
             [
              0.8888888888888888,
              "#fdca26"
             ],
             [
              1,
              "#f0f921"
             ]
            ],
            "type": "surface"
           }
          ],
          "table": [
           {
            "cells": {
             "fill": {
              "color": "#EBF0F8"
             },
             "line": {
              "color": "white"
             }
            },
            "header": {
             "fill": {
              "color": "#C8D4E3"
             },
             "line": {
              "color": "white"
             }
            },
            "type": "table"
           }
          ]
         },
         "layout": {
          "annotationdefaults": {
           "arrowcolor": "#2a3f5f",
           "arrowhead": 0,
           "arrowwidth": 1
          },
          "autotypenumbers": "strict",
          "coloraxis": {
           "colorbar": {
            "outlinewidth": 0,
            "ticks": ""
           }
          },
          "colorscale": {
           "diverging": [
            [
             0,
             "#8e0152"
            ],
            [
             0.1,
             "#c51b7d"
            ],
            [
             0.2,
             "#de77ae"
            ],
            [
             0.3,
             "#f1b6da"
            ],
            [
             0.4,
             "#fde0ef"
            ],
            [
             0.5,
             "#f7f7f7"
            ],
            [
             0.6,
             "#e6f5d0"
            ],
            [
             0.7,
             "#b8e186"
            ],
            [
             0.8,
             "#7fbc41"
            ],
            [
             0.9,
             "#4d9221"
            ],
            [
             1,
             "#276419"
            ]
           ],
           "sequential": [
            [
             0,
             "#0d0887"
            ],
            [
             0.1111111111111111,
             "#46039f"
            ],
            [
             0.2222222222222222,
             "#7201a8"
            ],
            [
             0.3333333333333333,
             "#9c179e"
            ],
            [
             0.4444444444444444,
             "#bd3786"
            ],
            [
             0.5555555555555556,
             "#d8576b"
            ],
            [
             0.6666666666666666,
             "#ed7953"
            ],
            [
             0.7777777777777778,
             "#fb9f3a"
            ],
            [
             0.8888888888888888,
             "#fdca26"
            ],
            [
             1,
             "#f0f921"
            ]
           ],
           "sequentialminus": [
            [
             0,
             "#0d0887"
            ],
            [
             0.1111111111111111,
             "#46039f"
            ],
            [
             0.2222222222222222,
             "#7201a8"
            ],
            [
             0.3333333333333333,
             "#9c179e"
            ],
            [
             0.4444444444444444,
             "#bd3786"
            ],
            [
             0.5555555555555556,
             "#d8576b"
            ],
            [
             0.6666666666666666,
             "#ed7953"
            ],
            [
             0.7777777777777778,
             "#fb9f3a"
            ],
            [
             0.8888888888888888,
             "#fdca26"
            ],
            [
             1,
             "#f0f921"
            ]
           ]
          },
          "colorway": [
           "#636efa",
           "#EF553B",
           "#00cc96",
           "#ab63fa",
           "#FFA15A",
           "#19d3f3",
           "#FF6692",
           "#B6E880",
           "#FF97FF",
           "#FECB52"
          ],
          "font": {
           "color": "#2a3f5f"
          },
          "geo": {
           "bgcolor": "white",
           "lakecolor": "white",
           "landcolor": "#E5ECF6",
           "showlakes": true,
           "showland": true,
           "subunitcolor": "white"
          },
          "hoverlabel": {
           "align": "left"
          },
          "hovermode": "closest",
          "mapbox": {
           "style": "light"
          },
          "paper_bgcolor": "white",
          "plot_bgcolor": "#E5ECF6",
          "polar": {
           "angularaxis": {
            "gridcolor": "white",
            "linecolor": "white",
            "ticks": ""
           },
           "bgcolor": "#E5ECF6",
           "radialaxis": {
            "gridcolor": "white",
            "linecolor": "white",
            "ticks": ""
           }
          },
          "scene": {
           "xaxis": {
            "backgroundcolor": "#E5ECF6",
            "gridcolor": "white",
            "gridwidth": 2,
            "linecolor": "white",
            "showbackground": true,
            "ticks": "",
            "zerolinecolor": "white"
           },
           "yaxis": {
            "backgroundcolor": "#E5ECF6",
            "gridcolor": "white",
            "gridwidth": 2,
            "linecolor": "white",
            "showbackground": true,
            "ticks": "",
            "zerolinecolor": "white"
           },
           "zaxis": {
            "backgroundcolor": "#E5ECF6",
            "gridcolor": "white",
            "gridwidth": 2,
            "linecolor": "white",
            "showbackground": true,
            "ticks": "",
            "zerolinecolor": "white"
           }
          },
          "shapedefaults": {
           "line": {
            "color": "#2a3f5f"
           }
          },
          "ternary": {
           "aaxis": {
            "gridcolor": "white",
            "linecolor": "white",
            "ticks": ""
           },
           "baxis": {
            "gridcolor": "white",
            "linecolor": "white",
            "ticks": ""
           },
           "bgcolor": "#E5ECF6",
           "caxis": {
            "gridcolor": "white",
            "linecolor": "white",
            "ticks": ""
           }
          },
          "title": {
           "x": 0.05
          },
          "xaxis": {
           "automargin": true,
           "gridcolor": "white",
           "linecolor": "white",
           "ticks": "",
           "title": {
            "standoff": 15
           },
           "zerolinecolor": "white",
           "zerolinewidth": 2
          },
          "yaxis": {
           "automargin": true,
           "gridcolor": "white",
           "linecolor": "white",
           "ticks": "",
           "title": {
            "standoff": 15
           },
           "zerolinecolor": "white",
           "zerolinewidth": 2
          }
         }
        },
        "title": {
         "text": "Top words for the 10 topics"
        },
        "width": 1350
       }
      }
     },
     "metadata": {},
     "output_type": "display_data"
    },
    {
     "name": "stdout",
     "output_type": "stream",
     "text": [
      "Iter [400]===\n",
      "Topic 0: ['algorithm', 'training', 'learning', 'problem', 'error', 'function', 'method', 'learn', 'classification', 'set']\n",
      "Topic 1: ['t', 'x', 'e', 'w', 'l', 'd', 'f', 'circuit', 'n', 'j']\n",
      "Topic 2: ['signal', 'information', 'source', 'noise', 'time', 'code', 'auditory', 'channel', 'edu', 'frequency']\n",
      "Topic 3: ['learning', 'state', 'problem', 'control', 'algorithm', 'reinforcement', 'learn', 'function', 'time', 'value']\n",
      "Topic 4: ['network', 'neural', 'learning', 'input', 'weight', 'unit', 'learn', 'output', 'algorithm', 'number']\n",
      "Topic 5: ['datum', 'vector', 'algorithm', 'function', 'feature', 'x', 'kernel', 'space', 'problem', 'method']\n",
      "Topic 6: ['system', 'network', 'recognition', 'neural', 'speech', 'time', 'computer', 'word', 'base', 'character']\n",
      "Topic 7: ['neuron', 'model', 'cell', 'system', 'cortex', 'activity', 'synaptic', 'neural', 'visual', 'stimulus']\n",
      "Topic 8: ['image', 'object', 'visual', 'model', 'human', 'motion', 'representation', 'face', 'task', 'edu']\n",
      "Topic 9: ['model', 'distribution', 'probability', 'algorithm', 'datum', 'gaussian', 'bayesian', 'variable', 'approach', 'mixture']\n"
     ]
    },
    {
     "data": {
      "application/vnd.plotly.v1+json": {
       "config": {
        "plotlyServerURL": "https://plot.ly"
       },
       "data": [
        {
         "cells": {
          "fill": {
           "color": [
            [
             "rgb(197.33333333333334, 219.11111111111111, 191.88888888888889)",
             "rgb(197.33333333333334, 219.11111111111111, 191.88888888888889)",
             "rgb(197.33333333333334, 219.11111111111111, 191.88888888888889)",
             "rgb(197.33333333333334, 219.11111111111111, 191.88888888888889)",
             "rgb(197.33333333333334, 219.11111111111111, 191.88888888888889)",
             "rgb(217.66666666666666, 232.55555555555554, 214.44444444444446)",
             "rgb(217.66666666666666, 232.55555555555554, 214.44444444444446)",
             "rgb(217.66666666666666, 232.55555555555554, 214.44444444444446)",
             "rgb(217.66666666666666, 232.55555555555554, 214.44444444444446)",
             "rgb(217.66666666666666, 232.55555555555554, 214.44444444444446)"
            ],
            [
             "rgb(136.33333333333334, 178.77777777777777, 124.22222222222221)",
             "rgb(136.33333333333334, 178.77777777777777, 124.22222222222221)",
             "rgb(177.0, 205.66666666666666, 169.33333333333331)",
             "rgb(197.33333333333334, 219.11111111111111, 191.88888888888889)",
             "rgb(197.33333333333334, 219.11111111111111, 191.88888888888889)",
             "rgb(197.33333333333334, 219.11111111111111, 191.88888888888889)",
             "rgb(197.33333333333334, 219.11111111111111, 191.88888888888889)",
             "rgb(197.33333333333334, 219.11111111111111, 191.88888888888889)",
             "rgb(197.33333333333334, 219.11111111111111, 191.88888888888889)",
             "rgb(197.33333333333334, 219.11111111111111, 191.88888888888889)"
            ],
            [
             "rgb(156.66666666666669, 192.22222222222223, 146.77777777777777)",
             "rgb(197.33333333333334, 219.11111111111111, 191.88888888888889)",
             "rgb(217.66666666666666, 232.55555555555554, 214.44444444444446)",
             "rgb(217.66666666666666, 232.55555555555554, 214.44444444444446)",
             "rgb(217.66666666666666, 232.55555555555554, 214.44444444444446)",
             "rgb(217.66666666666666, 232.55555555555554, 214.44444444444446)",
             "rgb(217.66666666666666, 232.55555555555554, 214.44444444444446)",
             "rgb(217.66666666666666, 232.55555555555554, 214.44444444444446)",
             "rgb(217.66666666666666, 232.55555555555554, 214.44444444444446)",
             "rgb(217.66666666666666, 232.55555555555554, 214.44444444444446)"
            ],
            [
             "rgb(156.66666666666669, 192.22222222222223, 146.77777777777777)",
             "rgb(177.0, 205.66666666666666, 169.33333333333331)",
             "rgb(197.33333333333334, 219.11111111111111, 191.88888888888889)",
             "rgb(197.33333333333334, 219.11111111111111, 191.88888888888889)",
             "rgb(197.33333333333334, 219.11111111111111, 191.88888888888889)",
             "rgb(197.33333333333334, 219.11111111111111, 191.88888888888889)",
             "rgb(197.33333333333334, 219.11111111111111, 191.88888888888889)",
             "rgb(217.66666666666666, 232.55555555555554, 214.44444444444446)",
             "rgb(217.66666666666666, 232.55555555555554, 214.44444444444446)",
             "rgb(217.66666666666666, 232.55555555555554, 214.44444444444446)"
            ],
            [
             "rgb(55.0, 125.0, 34.0)",
             "rgb(177.0, 205.66666666666666, 169.33333333333331)",
             "rgb(197.33333333333334, 219.11111111111111, 191.88888888888889)",
             "rgb(197.33333333333334, 219.11111111111111, 191.88888888888889)",
             "rgb(217.66666666666666, 232.55555555555554, 214.44444444444446)",
             "rgb(217.66666666666666, 232.55555555555554, 214.44444444444446)",
             "rgb(217.66666666666666, 232.55555555555554, 214.44444444444446)",
             "rgb(217.66666666666666, 232.55555555555554, 214.44444444444446)",
             "rgb(217.66666666666666, 232.55555555555554, 214.44444444444446)",
             "rgb(217.66666666666666, 232.55555555555554, 214.44444444444446)"
            ],
            [
             "rgb(177.0, 205.66666666666666, 169.33333333333331)",
             "rgb(177.0, 205.66666666666666, 169.33333333333331)",
             "rgb(197.33333333333334, 219.11111111111111, 191.88888888888889)",
             "rgb(197.33333333333334, 219.11111111111111, 191.88888888888889)",
             "rgb(197.33333333333334, 219.11111111111111, 191.88888888888889)",
             "rgb(217.66666666666666, 232.55555555555554, 214.44444444444446)",
             "rgb(217.66666666666666, 232.55555555555554, 214.44444444444446)",
             "rgb(217.66666666666666, 232.55555555555554, 214.44444444444446)",
             "rgb(217.66666666666666, 232.55555555555554, 214.44444444444446)",
             "rgb(217.66666666666666, 232.55555555555554, 214.44444444444446)"
            ],
            [
             "rgb(156.66666666666669, 192.22222222222223, 146.77777777777777)",
             "rgb(177.0, 205.66666666666666, 169.33333333333331)",
             "rgb(197.33333333333334, 219.11111111111111, 191.88888888888889)",
             "rgb(197.33333333333334, 219.11111111111111, 191.88888888888889)",
             "rgb(197.33333333333334, 219.11111111111111, 191.88888888888889)",
             "rgb(217.66666666666666, 232.55555555555554, 214.44444444444446)",
             "rgb(217.66666666666666, 232.55555555555554, 214.44444444444446)",
             "rgb(217.66666666666666, 232.55555555555554, 214.44444444444446)",
             "rgb(217.66666666666666, 232.55555555555554, 214.44444444444446)",
             "rgb(217.66666666666666, 232.55555555555554, 214.44444444444446)"
            ],
            [
             "rgb(177.0, 205.66666666666666, 169.33333333333331)",
             "rgb(177.0, 205.66666666666666, 169.33333333333331)",
             "rgb(197.33333333333334, 219.11111111111111, 191.88888888888889)",
             "rgb(217.66666666666666, 232.55555555555554, 214.44444444444446)",
             "rgb(217.66666666666666, 232.55555555555554, 214.44444444444446)",
             "rgb(217.66666666666666, 232.55555555555554, 214.44444444444446)",
             "rgb(217.66666666666666, 232.55555555555554, 214.44444444444446)",
             "rgb(217.66666666666666, 232.55555555555554, 214.44444444444446)",
             "rgb(217.66666666666666, 232.55555555555554, 214.44444444444446)",
             "rgb(217.66666666666666, 232.55555555555554, 214.44444444444446)"
            ],
            [
             "rgb(156.66666666666669, 192.22222222222223, 146.77777777777777)",
             "rgb(177.0, 205.66666666666666, 169.33333333333331)",
             "rgb(197.33333333333334, 219.11111111111111, 191.88888888888889)",
             "rgb(197.33333333333334, 219.11111111111111, 191.88888888888889)",
             "rgb(217.66666666666666, 232.55555555555554, 214.44444444444446)",
             "rgb(217.66666666666666, 232.55555555555554, 214.44444444444446)",
             "rgb(217.66666666666666, 232.55555555555554, 214.44444444444446)",
             "rgb(217.66666666666666, 232.55555555555554, 214.44444444444446)",
             "rgb(217.66666666666666, 232.55555555555554, 214.44444444444446)",
             "rgb(217.66666666666666, 232.55555555555554, 214.44444444444446)"
            ],
            [
             "rgb(75.33333333333334, 138.44444444444446, 56.55555555555554)",
             "rgb(217.66666666666666, 232.55555555555554, 214.44444444444446)",
             "rgb(217.66666666666666, 232.55555555555554, 214.44444444444446)",
             "rgb(217.66666666666666, 232.55555555555554, 214.44444444444446)",
             "rgb(217.66666666666666, 232.55555555555554, 214.44444444444446)",
             "rgb(217.66666666666666, 232.55555555555554, 214.44444444444446)",
             "rgb(217.66666666666666, 232.55555555555554, 214.44444444444446)",
             "rgb(217.66666666666666, 232.55555555555554, 214.44444444444446)",
             "rgb(217.66666666666666, 232.55555555555554, 214.44444444444446)",
             "rgb(217.66666666666666, 232.55555555555554, 214.44444444444446)"
            ]
           ]
          },
          "values": [
           [
            "algorithm",
            "training",
            "learning",
            "problem",
            "error",
            "function",
            "method",
            "learn",
            "classification",
            "set"
           ],
           [
            "t",
            "x",
            "e",
            "w",
            "l",
            "d",
            "f",
            "circuit",
            "n",
            "j"
           ],
           [
            "signal",
            "information",
            "source",
            "noise",
            "time",
            "code",
            "auditory",
            "channel",
            "edu",
            "frequency"
           ],
           [
            "learning",
            "state",
            "problem",
            "control",
            "algorithm",
            "reinforcement",
            "learn",
            "function",
            "time",
            "value"
           ],
           [
            "network",
            "neural",
            "learning",
            "input",
            "weight",
            "unit",
            "learn",
            "output",
            "algorithm",
            "number"
           ],
           [
            "datum",
            "vector",
            "algorithm",
            "function",
            "feature",
            "x",
            "kernel",
            "space",
            "problem",
            "method"
           ],
           [
            "system",
            "network",
            "recognition",
            "neural",
            "speech",
            "time",
            "computer",
            "word",
            "base",
            "character"
           ],
           [
            "neuron",
            "model",
            "cell",
            "system",
            "cortex",
            "activity",
            "synaptic",
            "neural",
            "visual",
            "stimulus"
           ],
           [
            "image",
            "object",
            "visual",
            "model",
            "human",
            "motion",
            "representation",
            "face",
            "task",
            "edu"
           ],
           [
            "model",
            "distribution",
            "probability",
            "algorithm",
            "datum",
            "gaussian",
            "bayesian",
            "variable",
            "approach",
            "mixture"
           ]
          ]
         },
         "header": {
          "fill": {
           "color": "rgb(220, 220, 220)"
          },
          "values": [
           "Topic 00",
           "Topic 01",
           "Topic 02",
           "Topic 03",
           "Topic 04",
           "Topic 05",
           "Topic 06",
           "Topic 07",
           "Topic 08",
           "Topic 09"
          ]
         },
         "type": "table"
        }
       ],
       "layout": {
        "template": {
         "data": {
          "bar": [
           {
            "error_x": {
             "color": "#2a3f5f"
            },
            "error_y": {
             "color": "#2a3f5f"
            },
            "marker": {
             "line": {
              "color": "#E5ECF6",
              "width": 0.5
             },
             "pattern": {
              "fillmode": "overlay",
              "size": 10,
              "solidity": 0.2
             }
            },
            "type": "bar"
           }
          ],
          "barpolar": [
           {
            "marker": {
             "line": {
              "color": "#E5ECF6",
              "width": 0.5
             },
             "pattern": {
              "fillmode": "overlay",
              "size": 10,
              "solidity": 0.2
             }
            },
            "type": "barpolar"
           }
          ],
          "carpet": [
           {
            "aaxis": {
             "endlinecolor": "#2a3f5f",
             "gridcolor": "white",
             "linecolor": "white",
             "minorgridcolor": "white",
             "startlinecolor": "#2a3f5f"
            },
            "baxis": {
             "endlinecolor": "#2a3f5f",
             "gridcolor": "white",
             "linecolor": "white",
             "minorgridcolor": "white",
             "startlinecolor": "#2a3f5f"
            },
            "type": "carpet"
           }
          ],
          "choropleth": [
           {
            "colorbar": {
             "outlinewidth": 0,
             "ticks": ""
            },
            "type": "choropleth"
           }
          ],
          "contour": [
           {
            "colorbar": {
             "outlinewidth": 0,
             "ticks": ""
            },
            "colorscale": [
             [
              0,
              "#0d0887"
             ],
             [
              0.1111111111111111,
              "#46039f"
             ],
             [
              0.2222222222222222,
              "#7201a8"
             ],
             [
              0.3333333333333333,
              "#9c179e"
             ],
             [
              0.4444444444444444,
              "#bd3786"
             ],
             [
              0.5555555555555556,
              "#d8576b"
             ],
             [
              0.6666666666666666,
              "#ed7953"
             ],
             [
              0.7777777777777778,
              "#fb9f3a"
             ],
             [
              0.8888888888888888,
              "#fdca26"
             ],
             [
              1,
              "#f0f921"
             ]
            ],
            "type": "contour"
           }
          ],
          "contourcarpet": [
           {
            "colorbar": {
             "outlinewidth": 0,
             "ticks": ""
            },
            "type": "contourcarpet"
           }
          ],
          "heatmap": [
           {
            "colorbar": {
             "outlinewidth": 0,
             "ticks": ""
            },
            "colorscale": [
             [
              0,
              "#0d0887"
             ],
             [
              0.1111111111111111,
              "#46039f"
             ],
             [
              0.2222222222222222,
              "#7201a8"
             ],
             [
              0.3333333333333333,
              "#9c179e"
             ],
             [
              0.4444444444444444,
              "#bd3786"
             ],
             [
              0.5555555555555556,
              "#d8576b"
             ],
             [
              0.6666666666666666,
              "#ed7953"
             ],
             [
              0.7777777777777778,
              "#fb9f3a"
             ],
             [
              0.8888888888888888,
              "#fdca26"
             ],
             [
              1,
              "#f0f921"
             ]
            ],
            "type": "heatmap"
           }
          ],
          "heatmapgl": [
           {
            "colorbar": {
             "outlinewidth": 0,
             "ticks": ""
            },
            "colorscale": [
             [
              0,
              "#0d0887"
             ],
             [
              0.1111111111111111,
              "#46039f"
             ],
             [
              0.2222222222222222,
              "#7201a8"
             ],
             [
              0.3333333333333333,
              "#9c179e"
             ],
             [
              0.4444444444444444,
              "#bd3786"
             ],
             [
              0.5555555555555556,
              "#d8576b"
             ],
             [
              0.6666666666666666,
              "#ed7953"
             ],
             [
              0.7777777777777778,
              "#fb9f3a"
             ],
             [
              0.8888888888888888,
              "#fdca26"
             ],
             [
              1,
              "#f0f921"
             ]
            ],
            "type": "heatmapgl"
           }
          ],
          "histogram": [
           {
            "marker": {
             "pattern": {
              "fillmode": "overlay",
              "size": 10,
              "solidity": 0.2
             }
            },
            "type": "histogram"
           }
          ],
          "histogram2d": [
           {
            "colorbar": {
             "outlinewidth": 0,
             "ticks": ""
            },
            "colorscale": [
             [
              0,
              "#0d0887"
             ],
             [
              0.1111111111111111,
              "#46039f"
             ],
             [
              0.2222222222222222,
              "#7201a8"
             ],
             [
              0.3333333333333333,
              "#9c179e"
             ],
             [
              0.4444444444444444,
              "#bd3786"
             ],
             [
              0.5555555555555556,
              "#d8576b"
             ],
             [
              0.6666666666666666,
              "#ed7953"
             ],
             [
              0.7777777777777778,
              "#fb9f3a"
             ],
             [
              0.8888888888888888,
              "#fdca26"
             ],
             [
              1,
              "#f0f921"
             ]
            ],
            "type": "histogram2d"
           }
          ],
          "histogram2dcontour": [
           {
            "colorbar": {
             "outlinewidth": 0,
             "ticks": ""
            },
            "colorscale": [
             [
              0,
              "#0d0887"
             ],
             [
              0.1111111111111111,
              "#46039f"
             ],
             [
              0.2222222222222222,
              "#7201a8"
             ],
             [
              0.3333333333333333,
              "#9c179e"
             ],
             [
              0.4444444444444444,
              "#bd3786"
             ],
             [
              0.5555555555555556,
              "#d8576b"
             ],
             [
              0.6666666666666666,
              "#ed7953"
             ],
             [
              0.7777777777777778,
              "#fb9f3a"
             ],
             [
              0.8888888888888888,
              "#fdca26"
             ],
             [
              1,
              "#f0f921"
             ]
            ],
            "type": "histogram2dcontour"
           }
          ],
          "mesh3d": [
           {
            "colorbar": {
             "outlinewidth": 0,
             "ticks": ""
            },
            "type": "mesh3d"
           }
          ],
          "parcoords": [
           {
            "line": {
             "colorbar": {
              "outlinewidth": 0,
              "ticks": ""
             }
            },
            "type": "parcoords"
           }
          ],
          "pie": [
           {
            "automargin": true,
            "type": "pie"
           }
          ],
          "scatter": [
           {
            "marker": {
             "colorbar": {
              "outlinewidth": 0,
              "ticks": ""
             }
            },
            "type": "scatter"
           }
          ],
          "scatter3d": [
           {
            "line": {
             "colorbar": {
              "outlinewidth": 0,
              "ticks": ""
             }
            },
            "marker": {
             "colorbar": {
              "outlinewidth": 0,
              "ticks": ""
             }
            },
            "type": "scatter3d"
           }
          ],
          "scattercarpet": [
           {
            "marker": {
             "colorbar": {
              "outlinewidth": 0,
              "ticks": ""
             }
            },
            "type": "scattercarpet"
           }
          ],
          "scattergeo": [
           {
            "marker": {
             "colorbar": {
              "outlinewidth": 0,
              "ticks": ""
             }
            },
            "type": "scattergeo"
           }
          ],
          "scattergl": [
           {
            "marker": {
             "colorbar": {
              "outlinewidth": 0,
              "ticks": ""
             }
            },
            "type": "scattergl"
           }
          ],
          "scattermapbox": [
           {
            "marker": {
             "colorbar": {
              "outlinewidth": 0,
              "ticks": ""
             }
            },
            "type": "scattermapbox"
           }
          ],
          "scatterpolar": [
           {
            "marker": {
             "colorbar": {
              "outlinewidth": 0,
              "ticks": ""
             }
            },
            "type": "scatterpolar"
           }
          ],
          "scatterpolargl": [
           {
            "marker": {
             "colorbar": {
              "outlinewidth": 0,
              "ticks": ""
             }
            },
            "type": "scatterpolargl"
           }
          ],
          "scatterternary": [
           {
            "marker": {
             "colorbar": {
              "outlinewidth": 0,
              "ticks": ""
             }
            },
            "type": "scatterternary"
           }
          ],
          "surface": [
           {
            "colorbar": {
             "outlinewidth": 0,
             "ticks": ""
            },
            "colorscale": [
             [
              0,
              "#0d0887"
             ],
             [
              0.1111111111111111,
              "#46039f"
             ],
             [
              0.2222222222222222,
              "#7201a8"
             ],
             [
              0.3333333333333333,
              "#9c179e"
             ],
             [
              0.4444444444444444,
              "#bd3786"
             ],
             [
              0.5555555555555556,
              "#d8576b"
             ],
             [
              0.6666666666666666,
              "#ed7953"
             ],
             [
              0.7777777777777778,
              "#fb9f3a"
             ],
             [
              0.8888888888888888,
              "#fdca26"
             ],
             [
              1,
              "#f0f921"
             ]
            ],
            "type": "surface"
           }
          ],
          "table": [
           {
            "cells": {
             "fill": {
              "color": "#EBF0F8"
             },
             "line": {
              "color": "white"
             }
            },
            "header": {
             "fill": {
              "color": "#C8D4E3"
             },
             "line": {
              "color": "white"
             }
            },
            "type": "table"
           }
          ]
         },
         "layout": {
          "annotationdefaults": {
           "arrowcolor": "#2a3f5f",
           "arrowhead": 0,
           "arrowwidth": 1
          },
          "autotypenumbers": "strict",
          "coloraxis": {
           "colorbar": {
            "outlinewidth": 0,
            "ticks": ""
           }
          },
          "colorscale": {
           "diverging": [
            [
             0,
             "#8e0152"
            ],
            [
             0.1,
             "#c51b7d"
            ],
            [
             0.2,
             "#de77ae"
            ],
            [
             0.3,
             "#f1b6da"
            ],
            [
             0.4,
             "#fde0ef"
            ],
            [
             0.5,
             "#f7f7f7"
            ],
            [
             0.6,
             "#e6f5d0"
            ],
            [
             0.7,
             "#b8e186"
            ],
            [
             0.8,
             "#7fbc41"
            ],
            [
             0.9,
             "#4d9221"
            ],
            [
             1,
             "#276419"
            ]
           ],
           "sequential": [
            [
             0,
             "#0d0887"
            ],
            [
             0.1111111111111111,
             "#46039f"
            ],
            [
             0.2222222222222222,
             "#7201a8"
            ],
            [
             0.3333333333333333,
             "#9c179e"
            ],
            [
             0.4444444444444444,
             "#bd3786"
            ],
            [
             0.5555555555555556,
             "#d8576b"
            ],
            [
             0.6666666666666666,
             "#ed7953"
            ],
            [
             0.7777777777777778,
             "#fb9f3a"
            ],
            [
             0.8888888888888888,
             "#fdca26"
            ],
            [
             1,
             "#f0f921"
            ]
           ],
           "sequentialminus": [
            [
             0,
             "#0d0887"
            ],
            [
             0.1111111111111111,
             "#46039f"
            ],
            [
             0.2222222222222222,
             "#7201a8"
            ],
            [
             0.3333333333333333,
             "#9c179e"
            ],
            [
             0.4444444444444444,
             "#bd3786"
            ],
            [
             0.5555555555555556,
             "#d8576b"
            ],
            [
             0.6666666666666666,
             "#ed7953"
            ],
            [
             0.7777777777777778,
             "#fb9f3a"
            ],
            [
             0.8888888888888888,
             "#fdca26"
            ],
            [
             1,
             "#f0f921"
            ]
           ]
          },
          "colorway": [
           "#636efa",
           "#EF553B",
           "#00cc96",
           "#ab63fa",
           "#FFA15A",
           "#19d3f3",
           "#FF6692",
           "#B6E880",
           "#FF97FF",
           "#FECB52"
          ],
          "font": {
           "color": "#2a3f5f"
          },
          "geo": {
           "bgcolor": "white",
           "lakecolor": "white",
           "landcolor": "#E5ECF6",
           "showlakes": true,
           "showland": true,
           "subunitcolor": "white"
          },
          "hoverlabel": {
           "align": "left"
          },
          "hovermode": "closest",
          "mapbox": {
           "style": "light"
          },
          "paper_bgcolor": "white",
          "plot_bgcolor": "#E5ECF6",
          "polar": {
           "angularaxis": {
            "gridcolor": "white",
            "linecolor": "white",
            "ticks": ""
           },
           "bgcolor": "#E5ECF6",
           "radialaxis": {
            "gridcolor": "white",
            "linecolor": "white",
            "ticks": ""
           }
          },
          "scene": {
           "xaxis": {
            "backgroundcolor": "#E5ECF6",
            "gridcolor": "white",
            "gridwidth": 2,
            "linecolor": "white",
            "showbackground": true,
            "ticks": "",
            "zerolinecolor": "white"
           },
           "yaxis": {
            "backgroundcolor": "#E5ECF6",
            "gridcolor": "white",
            "gridwidth": 2,
            "linecolor": "white",
            "showbackground": true,
            "ticks": "",
            "zerolinecolor": "white"
           },
           "zaxis": {
            "backgroundcolor": "#E5ECF6",
            "gridcolor": "white",
            "gridwidth": 2,
            "linecolor": "white",
            "showbackground": true,
            "ticks": "",
            "zerolinecolor": "white"
           }
          },
          "shapedefaults": {
           "line": {
            "color": "#2a3f5f"
           }
          },
          "ternary": {
           "aaxis": {
            "gridcolor": "white",
            "linecolor": "white",
            "ticks": ""
           },
           "baxis": {
            "gridcolor": "white",
            "linecolor": "white",
            "ticks": ""
           },
           "bgcolor": "#E5ECF6",
           "caxis": {
            "gridcolor": "white",
            "linecolor": "white",
            "ticks": ""
           }
          },
          "title": {
           "x": 0.05
          },
          "xaxis": {
           "automargin": true,
           "gridcolor": "white",
           "linecolor": "white",
           "ticks": "",
           "title": {
            "standoff": 15
           },
           "zerolinecolor": "white",
           "zerolinewidth": 2
          },
          "yaxis": {
           "automargin": true,
           "gridcolor": "white",
           "linecolor": "white",
           "ticks": "",
           "title": {
            "standoff": 15
           },
           "zerolinecolor": "white",
           "zerolinewidth": 2
          }
         }
        },
        "title": {
         "text": "Top words for the 10 topics"
        },
        "width": 1350
       }
      }
     },
     "metadata": {},
     "output_type": "display_data"
    },
    {
     "name": "stdout",
     "output_type": "stream",
     "text": [
      "Iter [450]===\n",
      "Topic 0: ['algorithm', 'training', 'learning', 'problem', 'error', 'method', 'classification', 'learn', 'example', 'set']\n",
      "Topic 1: ['t', 'x', 'e', 'd', 'n', 'l', 'f', 'circuit', 'analog', 'w']\n",
      "Topic 2: ['signal', 'information', 'noise', 'source', 'auditory', 'code', 'time', 'channel', 'system', 'edu']\n",
      "Topic 3: ['learning', 'problem', 'state', 'control', 'algorithm', 'reinforcement', 'learn', 'function', 'decision', 'value']\n",
      "Topic 4: ['network', 'neural', 'learning', 'input', 'unit', 'learn', 'algorithm', 'function', 'output', 'weight']\n",
      "Topic 5: ['datum', 'vector', 'algorithm', 'function', 'feature', 'space', 'x', 'point', 'method', 'kernel']\n",
      "Topic 6: ['system', 'recognition', 'network', 'neural', 'speech', 'time', 'computer', 'word', 'base', 'pattern']\n",
      "Topic 7: ['neuron', 'model', 'cell', 'synaptic', 'cortex', 'input', 'system', 'activity', 'stimulus', 'visual']\n",
      "Topic 8: ['image', 'object', 'visual', 'model', 'human', 'motion', 'task', 'representation', 'face', 'feature']\n",
      "Topic 9: ['model', 'distribution', 'probability', 'method', 'datum', 'bayesian', 'gaussian', 'algorithm', 'variable', 'parameter']\n"
     ]
    },
    {
     "data": {
      "application/vnd.plotly.v1+json": {
       "config": {
        "plotlyServerURL": "https://plot.ly"
       },
       "data": [
        {
         "cells": {
          "fill": {
           "color": [
            [
             "rgb(177.0, 205.66666666666666, 169.33333333333331)",
             "rgb(197.33333333333334, 219.11111111111111, 191.88888888888889)",
             "rgb(197.33333333333334, 219.11111111111111, 191.88888888888889)",
             "rgb(197.33333333333334, 219.11111111111111, 191.88888888888889)",
             "rgb(197.33333333333334, 219.11111111111111, 191.88888888888889)",
             "rgb(217.66666666666666, 232.55555555555554, 214.44444444444446)",
             "rgb(217.66666666666666, 232.55555555555554, 214.44444444444446)",
             "rgb(217.66666666666666, 232.55555555555554, 214.44444444444446)",
             "rgb(217.66666666666666, 232.55555555555554, 214.44444444444446)",
             "rgb(217.66666666666666, 232.55555555555554, 214.44444444444446)"
            ],
            [
             "rgb(136.33333333333334, 178.77777777777777, 124.22222222222221)",
             "rgb(136.33333333333334, 178.77777777777777, 124.22222222222221)",
             "rgb(177.0, 205.66666666666666, 169.33333333333331)",
             "rgb(177.0, 205.66666666666666, 169.33333333333331)",
             "rgb(197.33333333333334, 219.11111111111111, 191.88888888888889)",
             "rgb(197.33333333333334, 219.11111111111111, 191.88888888888889)",
             "rgb(197.33333333333334, 219.11111111111111, 191.88888888888889)",
             "rgb(197.33333333333334, 219.11111111111111, 191.88888888888889)",
             "rgb(197.33333333333334, 219.11111111111111, 191.88888888888889)",
             "rgb(197.33333333333334, 219.11111111111111, 191.88888888888889)"
            ],
            [
             "rgb(156.66666666666669, 192.22222222222223, 146.77777777777777)",
             "rgb(197.33333333333334, 219.11111111111111, 191.88888888888889)",
             "rgb(197.33333333333334, 219.11111111111111, 191.88888888888889)",
             "rgb(197.33333333333334, 219.11111111111111, 191.88888888888889)",
             "rgb(217.66666666666666, 232.55555555555554, 214.44444444444446)",
             "rgb(217.66666666666666, 232.55555555555554, 214.44444444444446)",
             "rgb(217.66666666666666, 232.55555555555554, 214.44444444444446)",
             "rgb(217.66666666666666, 232.55555555555554, 214.44444444444446)",
             "rgb(217.66666666666666, 232.55555555555554, 214.44444444444446)",
             "rgb(217.66666666666666, 232.55555555555554, 214.44444444444446)"
            ],
            [
             "rgb(156.66666666666669, 192.22222222222223, 146.77777777777777)",
             "rgb(177.0, 205.66666666666666, 169.33333333333331)",
             "rgb(197.33333333333334, 219.11111111111111, 191.88888888888889)",
             "rgb(197.33333333333334, 219.11111111111111, 191.88888888888889)",
             "rgb(197.33333333333334, 219.11111111111111, 191.88888888888889)",
             "rgb(197.33333333333334, 219.11111111111111, 191.88888888888889)",
             "rgb(197.33333333333334, 219.11111111111111, 191.88888888888889)",
             "rgb(217.66666666666666, 232.55555555555554, 214.44444444444446)",
             "rgb(217.66666666666666, 232.55555555555554, 214.44444444444446)",
             "rgb(217.66666666666666, 232.55555555555554, 214.44444444444446)"
            ],
            [
             "rgb(75.33333333333334, 138.44444444444446, 56.55555555555554)",
             "rgb(156.66666666666669, 192.22222222222223, 146.77777777777777)",
             "rgb(177.0, 205.66666666666666, 169.33333333333331)",
             "rgb(197.33333333333334, 219.11111111111111, 191.88888888888889)",
             "rgb(217.66666666666666, 232.55555555555554, 214.44444444444446)",
             "rgb(217.66666666666666, 232.55555555555554, 214.44444444444446)",
             "rgb(217.66666666666666, 232.55555555555554, 214.44444444444446)",
             "rgb(217.66666666666666, 232.55555555555554, 214.44444444444446)",
             "rgb(217.66666666666666, 232.55555555555554, 214.44444444444446)",
             "rgb(217.66666666666666, 232.55555555555554, 214.44444444444446)"
            ],
            [
             "rgb(156.66666666666669, 192.22222222222223, 146.77777777777777)",
             "rgb(177.0, 205.66666666666666, 169.33333333333331)",
             "rgb(197.33333333333334, 219.11111111111111, 191.88888888888889)",
             "rgb(197.33333333333334, 219.11111111111111, 191.88888888888889)",
             "rgb(217.66666666666666, 232.55555555555554, 214.44444444444446)",
             "rgb(217.66666666666666, 232.55555555555554, 214.44444444444446)",
             "rgb(217.66666666666666, 232.55555555555554, 214.44444444444446)",
             "rgb(217.66666666666666, 232.55555555555554, 214.44444444444446)",
             "rgb(217.66666666666666, 232.55555555555554, 214.44444444444446)",
             "rgb(217.66666666666666, 232.55555555555554, 214.44444444444446)"
            ],
            [
             "rgb(156.66666666666669, 192.22222222222223, 146.77777777777777)",
             "rgb(177.0, 205.66666666666666, 169.33333333333331)",
             "rgb(177.0, 205.66666666666666, 169.33333333333331)",
             "rgb(197.33333333333334, 219.11111111111111, 191.88888888888889)",
             "rgb(197.33333333333334, 219.11111111111111, 191.88888888888889)",
             "rgb(217.66666666666666, 232.55555555555554, 214.44444444444446)",
             "rgb(217.66666666666666, 232.55555555555554, 214.44444444444446)",
             "rgb(217.66666666666666, 232.55555555555554, 214.44444444444446)",
             "rgb(217.66666666666666, 232.55555555555554, 214.44444444444446)",
             "rgb(238.0, 246.0, 237.0)"
            ],
            [
             "rgb(177.0, 205.66666666666666, 169.33333333333331)",
             "rgb(177.0, 205.66666666666666, 169.33333333333331)",
             "rgb(197.33333333333334, 219.11111111111111, 191.88888888888889)",
             "rgb(217.66666666666666, 232.55555555555554, 214.44444444444446)",
             "rgb(217.66666666666666, 232.55555555555554, 214.44444444444446)",
             "rgb(217.66666666666666, 232.55555555555554, 214.44444444444446)",
             "rgb(217.66666666666666, 232.55555555555554, 214.44444444444446)",
             "rgb(217.66666666666666, 232.55555555555554, 214.44444444444446)",
             "rgb(217.66666666666666, 232.55555555555554, 214.44444444444446)",
             "rgb(217.66666666666666, 232.55555555555554, 214.44444444444446)"
            ],
            [
             "rgb(156.66666666666669, 192.22222222222223, 146.77777777777777)",
             "rgb(177.0, 205.66666666666666, 169.33333333333331)",
             "rgb(197.33333333333334, 219.11111111111111, 191.88888888888889)",
             "rgb(197.33333333333334, 219.11111111111111, 191.88888888888889)",
             "rgb(217.66666666666666, 232.55555555555554, 214.44444444444446)",
             "rgb(217.66666666666666, 232.55555555555554, 214.44444444444446)",
             "rgb(217.66666666666666, 232.55555555555554, 214.44444444444446)",
             "rgb(217.66666666666666, 232.55555555555554, 214.44444444444446)",
             "rgb(217.66666666666666, 232.55555555555554, 214.44444444444446)",
             "rgb(217.66666666666666, 232.55555555555554, 214.44444444444446)"
            ],
            [
             "rgb(75.33333333333334, 138.44444444444446, 56.55555555555554)",
             "rgb(197.33333333333334, 219.11111111111111, 191.88888888888889)",
             "rgb(217.66666666666666, 232.55555555555554, 214.44444444444446)",
             "rgb(217.66666666666666, 232.55555555555554, 214.44444444444446)",
             "rgb(217.66666666666666, 232.55555555555554, 214.44444444444446)",
             "rgb(217.66666666666666, 232.55555555555554, 214.44444444444446)",
             "rgb(217.66666666666666, 232.55555555555554, 214.44444444444446)",
             "rgb(217.66666666666666, 232.55555555555554, 214.44444444444446)",
             "rgb(217.66666666666666, 232.55555555555554, 214.44444444444446)",
             "rgb(217.66666666666666, 232.55555555555554, 214.44444444444446)"
            ]
           ]
          },
          "values": [
           [
            "algorithm",
            "training",
            "learning",
            "problem",
            "error",
            "method",
            "classification",
            "learn",
            "example",
            "set"
           ],
           [
            "t",
            "x",
            "e",
            "d",
            "n",
            "l",
            "f",
            "circuit",
            "analog",
            "w"
           ],
           [
            "signal",
            "information",
            "noise",
            "source",
            "auditory",
            "code",
            "time",
            "channel",
            "system",
            "edu"
           ],
           [
            "learning",
            "problem",
            "state",
            "control",
            "algorithm",
            "reinforcement",
            "learn",
            "function",
            "decision",
            "value"
           ],
           [
            "network",
            "neural",
            "learning",
            "input",
            "unit",
            "learn",
            "algorithm",
            "function",
            "output",
            "weight"
           ],
           [
            "datum",
            "vector",
            "algorithm",
            "function",
            "feature",
            "space",
            "x",
            "point",
            "method",
            "kernel"
           ],
           [
            "system",
            "recognition",
            "network",
            "neural",
            "speech",
            "time",
            "computer",
            "word",
            "base",
            "pattern"
           ],
           [
            "neuron",
            "model",
            "cell",
            "synaptic",
            "cortex",
            "input",
            "system",
            "activity",
            "stimulus",
            "visual"
           ],
           [
            "image",
            "object",
            "visual",
            "model",
            "human",
            "motion",
            "task",
            "representation",
            "face",
            "feature"
           ],
           [
            "model",
            "distribution",
            "probability",
            "method",
            "datum",
            "bayesian",
            "gaussian",
            "algorithm",
            "variable",
            "parameter"
           ]
          ]
         },
         "header": {
          "fill": {
           "color": "rgb(220, 220, 220)"
          },
          "values": [
           "Topic 00",
           "Topic 01",
           "Topic 02",
           "Topic 03",
           "Topic 04",
           "Topic 05",
           "Topic 06",
           "Topic 07",
           "Topic 08",
           "Topic 09"
          ]
         },
         "type": "table"
        }
       ],
       "layout": {
        "template": {
         "data": {
          "bar": [
           {
            "error_x": {
             "color": "#2a3f5f"
            },
            "error_y": {
             "color": "#2a3f5f"
            },
            "marker": {
             "line": {
              "color": "#E5ECF6",
              "width": 0.5
             },
             "pattern": {
              "fillmode": "overlay",
              "size": 10,
              "solidity": 0.2
             }
            },
            "type": "bar"
           }
          ],
          "barpolar": [
           {
            "marker": {
             "line": {
              "color": "#E5ECF6",
              "width": 0.5
             },
             "pattern": {
              "fillmode": "overlay",
              "size": 10,
              "solidity": 0.2
             }
            },
            "type": "barpolar"
           }
          ],
          "carpet": [
           {
            "aaxis": {
             "endlinecolor": "#2a3f5f",
             "gridcolor": "white",
             "linecolor": "white",
             "minorgridcolor": "white",
             "startlinecolor": "#2a3f5f"
            },
            "baxis": {
             "endlinecolor": "#2a3f5f",
             "gridcolor": "white",
             "linecolor": "white",
             "minorgridcolor": "white",
             "startlinecolor": "#2a3f5f"
            },
            "type": "carpet"
           }
          ],
          "choropleth": [
           {
            "colorbar": {
             "outlinewidth": 0,
             "ticks": ""
            },
            "type": "choropleth"
           }
          ],
          "contour": [
           {
            "colorbar": {
             "outlinewidth": 0,
             "ticks": ""
            },
            "colorscale": [
             [
              0,
              "#0d0887"
             ],
             [
              0.1111111111111111,
              "#46039f"
             ],
             [
              0.2222222222222222,
              "#7201a8"
             ],
             [
              0.3333333333333333,
              "#9c179e"
             ],
             [
              0.4444444444444444,
              "#bd3786"
             ],
             [
              0.5555555555555556,
              "#d8576b"
             ],
             [
              0.6666666666666666,
              "#ed7953"
             ],
             [
              0.7777777777777778,
              "#fb9f3a"
             ],
             [
              0.8888888888888888,
              "#fdca26"
             ],
             [
              1,
              "#f0f921"
             ]
            ],
            "type": "contour"
           }
          ],
          "contourcarpet": [
           {
            "colorbar": {
             "outlinewidth": 0,
             "ticks": ""
            },
            "type": "contourcarpet"
           }
          ],
          "heatmap": [
           {
            "colorbar": {
             "outlinewidth": 0,
             "ticks": ""
            },
            "colorscale": [
             [
              0,
              "#0d0887"
             ],
             [
              0.1111111111111111,
              "#46039f"
             ],
             [
              0.2222222222222222,
              "#7201a8"
             ],
             [
              0.3333333333333333,
              "#9c179e"
             ],
             [
              0.4444444444444444,
              "#bd3786"
             ],
             [
              0.5555555555555556,
              "#d8576b"
             ],
             [
              0.6666666666666666,
              "#ed7953"
             ],
             [
              0.7777777777777778,
              "#fb9f3a"
             ],
             [
              0.8888888888888888,
              "#fdca26"
             ],
             [
              1,
              "#f0f921"
             ]
            ],
            "type": "heatmap"
           }
          ],
          "heatmapgl": [
           {
            "colorbar": {
             "outlinewidth": 0,
             "ticks": ""
            },
            "colorscale": [
             [
              0,
              "#0d0887"
             ],
             [
              0.1111111111111111,
              "#46039f"
             ],
             [
              0.2222222222222222,
              "#7201a8"
             ],
             [
              0.3333333333333333,
              "#9c179e"
             ],
             [
              0.4444444444444444,
              "#bd3786"
             ],
             [
              0.5555555555555556,
              "#d8576b"
             ],
             [
              0.6666666666666666,
              "#ed7953"
             ],
             [
              0.7777777777777778,
              "#fb9f3a"
             ],
             [
              0.8888888888888888,
              "#fdca26"
             ],
             [
              1,
              "#f0f921"
             ]
            ],
            "type": "heatmapgl"
           }
          ],
          "histogram": [
           {
            "marker": {
             "pattern": {
              "fillmode": "overlay",
              "size": 10,
              "solidity": 0.2
             }
            },
            "type": "histogram"
           }
          ],
          "histogram2d": [
           {
            "colorbar": {
             "outlinewidth": 0,
             "ticks": ""
            },
            "colorscale": [
             [
              0,
              "#0d0887"
             ],
             [
              0.1111111111111111,
              "#46039f"
             ],
             [
              0.2222222222222222,
              "#7201a8"
             ],
             [
              0.3333333333333333,
              "#9c179e"
             ],
             [
              0.4444444444444444,
              "#bd3786"
             ],
             [
              0.5555555555555556,
              "#d8576b"
             ],
             [
              0.6666666666666666,
              "#ed7953"
             ],
             [
              0.7777777777777778,
              "#fb9f3a"
             ],
             [
              0.8888888888888888,
              "#fdca26"
             ],
             [
              1,
              "#f0f921"
             ]
            ],
            "type": "histogram2d"
           }
          ],
          "histogram2dcontour": [
           {
            "colorbar": {
             "outlinewidth": 0,
             "ticks": ""
            },
            "colorscale": [
             [
              0,
              "#0d0887"
             ],
             [
              0.1111111111111111,
              "#46039f"
             ],
             [
              0.2222222222222222,
              "#7201a8"
             ],
             [
              0.3333333333333333,
              "#9c179e"
             ],
             [
              0.4444444444444444,
              "#bd3786"
             ],
             [
              0.5555555555555556,
              "#d8576b"
             ],
             [
              0.6666666666666666,
              "#ed7953"
             ],
             [
              0.7777777777777778,
              "#fb9f3a"
             ],
             [
              0.8888888888888888,
              "#fdca26"
             ],
             [
              1,
              "#f0f921"
             ]
            ],
            "type": "histogram2dcontour"
           }
          ],
          "mesh3d": [
           {
            "colorbar": {
             "outlinewidth": 0,
             "ticks": ""
            },
            "type": "mesh3d"
           }
          ],
          "parcoords": [
           {
            "line": {
             "colorbar": {
              "outlinewidth": 0,
              "ticks": ""
             }
            },
            "type": "parcoords"
           }
          ],
          "pie": [
           {
            "automargin": true,
            "type": "pie"
           }
          ],
          "scatter": [
           {
            "marker": {
             "colorbar": {
              "outlinewidth": 0,
              "ticks": ""
             }
            },
            "type": "scatter"
           }
          ],
          "scatter3d": [
           {
            "line": {
             "colorbar": {
              "outlinewidth": 0,
              "ticks": ""
             }
            },
            "marker": {
             "colorbar": {
              "outlinewidth": 0,
              "ticks": ""
             }
            },
            "type": "scatter3d"
           }
          ],
          "scattercarpet": [
           {
            "marker": {
             "colorbar": {
              "outlinewidth": 0,
              "ticks": ""
             }
            },
            "type": "scattercarpet"
           }
          ],
          "scattergeo": [
           {
            "marker": {
             "colorbar": {
              "outlinewidth": 0,
              "ticks": ""
             }
            },
            "type": "scattergeo"
           }
          ],
          "scattergl": [
           {
            "marker": {
             "colorbar": {
              "outlinewidth": 0,
              "ticks": ""
             }
            },
            "type": "scattergl"
           }
          ],
          "scattermapbox": [
           {
            "marker": {
             "colorbar": {
              "outlinewidth": 0,
              "ticks": ""
             }
            },
            "type": "scattermapbox"
           }
          ],
          "scatterpolar": [
           {
            "marker": {
             "colorbar": {
              "outlinewidth": 0,
              "ticks": ""
             }
            },
            "type": "scatterpolar"
           }
          ],
          "scatterpolargl": [
           {
            "marker": {
             "colorbar": {
              "outlinewidth": 0,
              "ticks": ""
             }
            },
            "type": "scatterpolargl"
           }
          ],
          "scatterternary": [
           {
            "marker": {
             "colorbar": {
              "outlinewidth": 0,
              "ticks": ""
             }
            },
            "type": "scatterternary"
           }
          ],
          "surface": [
           {
            "colorbar": {
             "outlinewidth": 0,
             "ticks": ""
            },
            "colorscale": [
             [
              0,
              "#0d0887"
             ],
             [
              0.1111111111111111,
              "#46039f"
             ],
             [
              0.2222222222222222,
              "#7201a8"
             ],
             [
              0.3333333333333333,
              "#9c179e"
             ],
             [
              0.4444444444444444,
              "#bd3786"
             ],
             [
              0.5555555555555556,
              "#d8576b"
             ],
             [
              0.6666666666666666,
              "#ed7953"
             ],
             [
              0.7777777777777778,
              "#fb9f3a"
             ],
             [
              0.8888888888888888,
              "#fdca26"
             ],
             [
              1,
              "#f0f921"
             ]
            ],
            "type": "surface"
           }
          ],
          "table": [
           {
            "cells": {
             "fill": {
              "color": "#EBF0F8"
             },
             "line": {
              "color": "white"
             }
            },
            "header": {
             "fill": {
              "color": "#C8D4E3"
             },
             "line": {
              "color": "white"
             }
            },
            "type": "table"
           }
          ]
         },
         "layout": {
          "annotationdefaults": {
           "arrowcolor": "#2a3f5f",
           "arrowhead": 0,
           "arrowwidth": 1
          },
          "autotypenumbers": "strict",
          "coloraxis": {
           "colorbar": {
            "outlinewidth": 0,
            "ticks": ""
           }
          },
          "colorscale": {
           "diverging": [
            [
             0,
             "#8e0152"
            ],
            [
             0.1,
             "#c51b7d"
            ],
            [
             0.2,
             "#de77ae"
            ],
            [
             0.3,
             "#f1b6da"
            ],
            [
             0.4,
             "#fde0ef"
            ],
            [
             0.5,
             "#f7f7f7"
            ],
            [
             0.6,
             "#e6f5d0"
            ],
            [
             0.7,
             "#b8e186"
            ],
            [
             0.8,
             "#7fbc41"
            ],
            [
             0.9,
             "#4d9221"
            ],
            [
             1,
             "#276419"
            ]
           ],
           "sequential": [
            [
             0,
             "#0d0887"
            ],
            [
             0.1111111111111111,
             "#46039f"
            ],
            [
             0.2222222222222222,
             "#7201a8"
            ],
            [
             0.3333333333333333,
             "#9c179e"
            ],
            [
             0.4444444444444444,
             "#bd3786"
            ],
            [
             0.5555555555555556,
             "#d8576b"
            ],
            [
             0.6666666666666666,
             "#ed7953"
            ],
            [
             0.7777777777777778,
             "#fb9f3a"
            ],
            [
             0.8888888888888888,
             "#fdca26"
            ],
            [
             1,
             "#f0f921"
            ]
           ],
           "sequentialminus": [
            [
             0,
             "#0d0887"
            ],
            [
             0.1111111111111111,
             "#46039f"
            ],
            [
             0.2222222222222222,
             "#7201a8"
            ],
            [
             0.3333333333333333,
             "#9c179e"
            ],
            [
             0.4444444444444444,
             "#bd3786"
            ],
            [
             0.5555555555555556,
             "#d8576b"
            ],
            [
             0.6666666666666666,
             "#ed7953"
            ],
            [
             0.7777777777777778,
             "#fb9f3a"
            ],
            [
             0.8888888888888888,
             "#fdca26"
            ],
            [
             1,
             "#f0f921"
            ]
           ]
          },
          "colorway": [
           "#636efa",
           "#EF553B",
           "#00cc96",
           "#ab63fa",
           "#FFA15A",
           "#19d3f3",
           "#FF6692",
           "#B6E880",
           "#FF97FF",
           "#FECB52"
          ],
          "font": {
           "color": "#2a3f5f"
          },
          "geo": {
           "bgcolor": "white",
           "lakecolor": "white",
           "landcolor": "#E5ECF6",
           "showlakes": true,
           "showland": true,
           "subunitcolor": "white"
          },
          "hoverlabel": {
           "align": "left"
          },
          "hovermode": "closest",
          "mapbox": {
           "style": "light"
          },
          "paper_bgcolor": "white",
          "plot_bgcolor": "#E5ECF6",
          "polar": {
           "angularaxis": {
            "gridcolor": "white",
            "linecolor": "white",
            "ticks": ""
           },
           "bgcolor": "#E5ECF6",
           "radialaxis": {
            "gridcolor": "white",
            "linecolor": "white",
            "ticks": ""
           }
          },
          "scene": {
           "xaxis": {
            "backgroundcolor": "#E5ECF6",
            "gridcolor": "white",
            "gridwidth": 2,
            "linecolor": "white",
            "showbackground": true,
            "ticks": "",
            "zerolinecolor": "white"
           },
           "yaxis": {
            "backgroundcolor": "#E5ECF6",
            "gridcolor": "white",
            "gridwidth": 2,
            "linecolor": "white",
            "showbackground": true,
            "ticks": "",
            "zerolinecolor": "white"
           },
           "zaxis": {
            "backgroundcolor": "#E5ECF6",
            "gridcolor": "white",
            "gridwidth": 2,
            "linecolor": "white",
            "showbackground": true,
            "ticks": "",
            "zerolinecolor": "white"
           }
          },
          "shapedefaults": {
           "line": {
            "color": "#2a3f5f"
           }
          },
          "ternary": {
           "aaxis": {
            "gridcolor": "white",
            "linecolor": "white",
            "ticks": ""
           },
           "baxis": {
            "gridcolor": "white",
            "linecolor": "white",
            "ticks": ""
           },
           "bgcolor": "#E5ECF6",
           "caxis": {
            "gridcolor": "white",
            "linecolor": "white",
            "ticks": ""
           }
          },
          "title": {
           "x": 0.05
          },
          "xaxis": {
           "automargin": true,
           "gridcolor": "white",
           "linecolor": "white",
           "ticks": "",
           "title": {
            "standoff": 15
           },
           "zerolinecolor": "white",
           "zerolinewidth": 2
          },
          "yaxis": {
           "automargin": true,
           "gridcolor": "white",
           "linecolor": "white",
           "ticks": "",
           "title": {
            "standoff": 15
           },
           "zerolinecolor": "white",
           "zerolinewidth": 2
          }
         }
        },
        "title": {
         "text": "Top words for the 10 topics"
        },
        "width": 1350
       }
      }
     },
     "metadata": {},
     "output_type": "display_data"
    },
    {
     "name": "stdout",
     "output_type": "stream",
     "text": [
      "\n"
     ]
    }
   ],
   "source": [
    "# === initialization ===\n",
    "print(\"Initializing...\", flush=True)\n",
    "n_doc_topic = np.zeros([corpus.num_docs, corpus.num_topics], dtype=float) # n_m^(k)\n",
    "n_topic_word = np.zeros([corpus.num_topics, corpus.num_words], dtype=float) # n_k^(t)\n",
    "z_doc_word = np.zeros([corpus.num_docs, corpus.max_doc_length], dtype=int)\n",
    "\n",
    "for doc_i in range(corpus.num_docs):\n",
    "    for j, word_j in enumerate(corpus.docs[doc_i]):\n",
    "        topic_ij = random.randint(0, corpus.num_topics - 1)\n",
    "        n_doc_topic[doc_i, topic_ij] += 1\n",
    "        n_topic_word[topic_ij, word_j] += 1\n",
    "        z_doc_word[doc_i, j] = topic_ij\n",
    "\n",
    "# === Gibbs sampling ===\n",
    "print(\"Gibbs sampling...\", flush=True)\n",
    "for iteration in tqdm(range(hparams.gibbs_sampling_max_iters)):\n",
    "    for doc_i in range(corpus.num_docs):\n",
    "        for j, word_j in enumerate(corpus.docs[doc_i]):\n",
    "            # remove the old assignment\n",
    "            topic_ij = z_doc_word[doc_i, j]\n",
    "            n_doc_topic[doc_i, topic_ij] -= 1\n",
    "            n_topic_word[topic_ij, word_j] -= 1\n",
    "            # compute the new assignment\n",
    "            p_doc_topic = (n_doc_topic[doc_i, :] + hparams.alpha) \\\n",
    "                        / np.sum(n_doc_topic[doc_i] + hparams.alpha)\n",
    "            p_topic_word = (n_topic_word[:, word_j] + hparams.beta[word_j]) \\\n",
    "                        / np.sum(n_topic_word + hparams.beta, axis=1)\n",
    "            p_topic = p_doc_topic * p_topic_word\n",
    "            p_topic /= np.sum(p_topic)\n",
    "            # record the new assignment\n",
    "            new_topic_ij = np.random.choice(np.arange(corpus.num_topics), p=p_topic)\n",
    "            n_doc_topic[doc_i, new_topic_ij] += 1\n",
    "            n_topic_word[new_topic_ij, word_j] += 1\n",
    "            z_doc_word[doc_i, j] = new_topic_ij\n",
    "\n",
    "    if iteration % 50 == 0:\n",
    "        print(f\"Iter [{iteration}]===\")\n",
    "        # === Check convergence and read out parameters ===\n",
    "        theta = (n_doc_topic + hparams.alpha) / np.sum(n_doc_topic + hparams.alpha, axis=1, keepdims=True)\n",
    "        phi = (n_topic_word + hparams.beta) / np.sum(n_topic_word + hparams.beta, axis=1, keepdims=True)\n",
    "\n",
    "        all_top_words = []\n",
    "        all_top_probs = []\n",
    "        for topic in range(corpus.num_topics):\n",
    "            top_words = np.argsort(phi[topic])[::-1][:10]\n",
    "            top_probs = phi[topic, top_words]\n",
    "            top_words = [corpus.id2word[word] for word in top_words]\n",
    "            all_top_words.append(top_words)\n",
    "            all_top_probs.append(top_probs)\n",
    "            print(f\"Topic {topic}:\", top_words)\n",
    "        visualize_topic_word(all_top_words, all_top_probs)"
   ]
  },
  {
   "cell_type": "markdown",
   "metadata": {},
   "source": [
    "## Inference on unseen documents"
   ]
  },
  {
   "cell_type": "code",
   "execution_count": 11,
   "metadata": {},
   "outputs": [
    {
     "name": "stdout",
     "output_type": "stream",
     "text": [
      "num_docs: 5 num_topics: 10 num_words: 0\n",
      "\n",
      "Test Doc [0] ===\n",
      "bind graphical model m a r h j not department biophysics university nijmegen nl ez nijmegen netherlands bert kun nl abstract present method bound partition function boltzmann machine neural network odd order polynomial direct extension mean field bind order order bind strictly well mean field additionally rough outline bound applicable sigmoid belief network numerical experiment indicate error reduction factor easily reach region expansion base approximation useful introduction graphical model capability model large class probability distribution neuron network random variable connection model causal dependency usually node direct relation random variable problem call visible node know hidden model complex probability distribution learn graphical model long likelihood visible correspond pattern data set compute general time take scale exponentially number hide neuron architecture choice approximation likelihood know approximation technique statistical mechanic call gibbs sample apply graphical model recently mean field approximation know physics derive sigmoid belief network type graphical model dependency neuron model non linear sigmoidal function weighted parent state turn mean field approximation nice feature bound likelihood useful learn maximisation bind increase accuracy increase likelihood pattern data set actual learning process article possible improve mean field approximation http www mbfys kun nl www mbfys kun nl bert lose bounding property section general theory\n"
     ]
    },
    {
     "data": {
      "application/vnd.jupyter.widget-view+json": {
       "model_id": "c4060549225e4c6c915186640b0f9db5",
       "version_major": 2,
       "version_minor": 0
      },
      "text/plain": [
       "HBox(children=(HTML(value=''), FloatProgress(value=0.0), HTML(value='')))"
      ]
     },
     "metadata": {},
     "output_type": "display_data"
    },
    {
     "name": "stdout",
     "output_type": "stream",
     "text": [
      "\n",
      "Topic distribution: [0.1299, 0.0403, 0.0005, 0.0005, 0.2791, 0.0055, 0.0005, 0.0403, 0.0005, 0.503]\n",
      "Top 3 topics: [9 4 0]\n",
      "\n",
      "Test Doc [1] ===\n",
      "decomposition reinforcement learning admission control self similar arrival processes department electrical engineering technion haifa israel ee technion ac il abstract paper present predictive gain scheduling technique simplify reinforcement learning problem decomposition link admission control self similar traffic demonstrate technique control problem decompose line prediction near future arrival rate policy poisson arrival process decision time prediction select policy simulation technique result significantly fast learn performance loss compare reinforcement learn controller decompose problem introduction multi service communication network asynchronous transfer mode network resource control crucial importance network operator user objective maintain service quality maximize operator revenue level service quality grade service measure term blocking probability key resource control bandwidth network routing admission control resource control problem markov decision process offer framework optimal route model dynamic network traffic computing control policy dynamic programming resource control optimize standard assumption model call arrive accord poisson process make model dynamic relatively simple poisson assumption valid user initiate request communication network number study indicate type arrival process wide area network local area network statistically make difficult find model dynamic model large complex number system state large straightforward application dynamic programming fractal burst structure self similar traffic possible exploit design efficient resource control method previously present method base\n"
     ]
    },
    {
     "data": {
      "application/vnd.jupyter.widget-view+json": {
       "model_id": "1e5bd60040ba49a485a1d9d6ed626579",
       "version_major": 2,
       "version_minor": 0
      },
      "text/plain": [
       "HBox(children=(HTML(value=''), FloatProgress(value=0.0), HTML(value='')))"
      ]
     },
     "metadata": {},
     "output_type": "display_data"
    },
    {
     "name": "stdout",
     "output_type": "stream",
     "text": [
      "\n",
      "Topic distribution: [0.1299, 0.0005, 0.0005, 0.6124, 0.0005, 0.0005, 0.2144, 0.0403, 0.0005, 0.0005]\n",
      "Top 3 topics: [3 6 0]\n",
      "\n",
      "Test Doc [2] ===\n",
      "model spatial recall mental imagery neglect becker department psychology university main street west hamilton canada l s kl becker ca burgess department anatomy institute cognitive neuroscience ucl queen square london uk wcin ar n burgess ucl ac uk abstract present computational model neural mechanism parietal temporal lobe support spatial navigation recall scene imagery product recall long term representation store hippocampus associate local spatial object relate feature region viewer center representation dynamically generate long term memory parietal model model simulate recall imagery location object complex environment parietal damage model exhibit neglect mental imagery rotate imagine perspective observer square experiment model make novel prediction neural representation parietal region behavior healthy neuropsychological patient introduction perform spatial computation task reach navigate visible obstacle predominantly sensory drive memory base presumably rely egocentric viewer center representation space representation ability translate account computational model parietal cortex e g situation route planning recall imagery scene event representation spatial layout long term memory neuropsychological study parietal hippocampal region task long term memory component associate hippocampus discovery place cell hippocampus provide evidence hippocampal representation absolute location open space encode irrespective view direction paper address nature source spatial representation hippocampal parietal region interact recall navigation assume hippocampus proper long term spatial\n"
     ]
    },
    {
     "data": {
      "application/vnd.jupyter.widget-view+json": {
       "model_id": "97780645cfa342f285d36efc8b3199b4",
       "version_major": 2,
       "version_minor": 0
      },
      "text/plain": [
       "HBox(children=(HTML(value=''), FloatProgress(value=0.0), HTML(value='')))"
      ]
     },
     "metadata": {},
     "output_type": "display_data"
    },
    {
     "name": "stdout",
     "output_type": "stream",
     "text": [
      "\n",
      "Topic distribution: [0.0005, 0.0005, 0.0005, 0.0204, 0.0005, 0.0005, 0.0453, 0.4582, 0.4731, 0.0005]\n",
      "Top 3 topics: [8 7 6]\n",
      "\n",
      "Test Doc [3] ===\n",
      "new approaches robust adaptive speech recognition bourlard bengio weber p o box du switzerland bourlard bengio weber ch abstract paper discuss new research direction automatic speech recognition asr somewhat deviate usual approach specifically motivate briefly describe new approach base multi stream multi band asr approach extend standard hide markov model hmm base approach assume different frequency channel represent speech signal process different independent expert expert focus different characteristic signal different stream likelihood posterior combine temporal stage yield global recognition output extension multi stream asr finally introduce new approach refer hmm hmm emission probability estimate state specific feature base hmm responsible merge stream information model possible correlation multi channel processing asr current automatic speech recognition system base context dependent context independent phone model describe term sequence hide markov model hmm state hmm state assume characterize stationary probability density function furthermore time correlation consequently dynamic signal inside hmm state usually use temporal delta delta delta feature capture correlation consequently medium term dependency capture topology hmm model short term long term dependency usually poorly model ideally want design particular hmm able accommodate multiple time scale characteristic capture phonetic property syllable structure long term invariant robust noise clear different time scale feature exhibit different\n"
     ]
    },
    {
     "data": {
      "application/vnd.jupyter.widget-view+json": {
       "model_id": "4bebd832ac7a439c85d2c945fa054b85",
       "version_major": 2,
       "version_minor": 0
      },
      "text/plain": [
       "HBox(children=(HTML(value=''), FloatProgress(value=0.0), HTML(value='')))"
      ]
     },
     "metadata": {},
     "output_type": "display_data"
    },
    {
     "name": "stdout",
     "output_type": "stream",
     "text": [
      "\n",
      "Topic distribution: [0.0005, 0.0005, 0.1647, 0.0005, 0.0502, 0.0652, 0.3687, 0.0005, 0.0005, 0.3488]\n",
      "Top 3 topics: [6 9 2]\n",
      "\n",
      "Test Doc [4] ===\n",
      "variational mean field theory sigmoidal belief network c bhattacharyya computer science automation indian institute science in s mechanical production engineering national university singapore edu abstract variational derivation plefka mean field theory present theory apply sigmoidal belief network aid approximation empirical evaluation small scale network propose approximation competitive introduction application mean field theory solve problem inference belief networks know paper discuss variational mean field theory application bn sigmoidal bn particular present variational derivation mean field theory propose plefka theory develop stochastic system n binary random variable si e o describe energy function e s follow boltzmann gibbs distribution temperature t p s e z z t e s e y s application mean field method boltzmann machines large class bn s describe follow energy function n e s l si f mi l si in f mi mi l l hi j l application mean field theory energy function straightforward approximation need propose new approximation scheme discuss utility sigmoid network obtain substitute f x ex energy function paper organize follow section present variational derivation plefka mean field theory section theory extend sigmoidal belief network section empirical evaluation conclude remark give section variational mean field theory plefka propose mean field theory context\n"
     ]
    },
    {
     "data": {
      "application/vnd.jupyter.widget-view+json": {
       "model_id": "4e2492dfedda45c29e3af6b0e97f9a45",
       "version_major": 2,
       "version_minor": 0
      },
      "text/plain": [
       "HBox(children=(HTML(value=''), FloatProgress(value=0.0), HTML(value='')))"
      ]
     },
     "metadata": {},
     "output_type": "display_data"
    },
    {
     "name": "stdout",
     "output_type": "stream",
     "text": [
      "\n",
      "Topic distribution: [0.0005, 0.1846, 0.0005, 0.0005, 0.2294, 0.0055, 0.0005, 0.0005, 0.0005, 0.5776]\n",
      "Top 3 topics: [9 4 1]\n"
     ]
    }
   ],
   "source": [
    "# === inference on unseen documents ===\n",
    "test_corpus = NeurIPSCorpus(\n",
    "    data_path=\"data/papers.txt\", \n",
    "    mode=\"test\",\n",
    "    num_topics=10,\n",
    "    start_doc_idx=1000,\n",
    "    max_num_docs=5,\n",
    "    max_num_words=10000,\n",
    "    max_doc_length=200,\n",
    "    train_corpus=corpus,\n",
    ")\n",
    "# === inference via Gibbs sampling ===\n",
    "for i, doc in enumerate(test_corpus.docs):\n",
    "    print(f\"\\nTest Doc [{i}] ===\")\n",
    "    doc_i = 0   # only infer 1 test doc at a time\n",
    "    test_n_doc_topic = np.zeros([1, corpus.num_topics], dtype=float)\n",
    "    test_n_topic_word = np.zeros([corpus.num_topics, corpus.num_words], dtype=float)\n",
    "    test_z_doc_word = np.zeros([1, corpus.max_doc_length], dtype=int)\n",
    "\n",
    "    print(\" \".join([corpus.id2word[x] for x in doc]))\n",
    "\n",
    "    for j, word_j in enumerate(doc):\n",
    "        topic_ij = random.randint(0, corpus.num_topics - 1)\n",
    "        test_n_doc_topic[doc_i, topic_ij] += 1\n",
    "        test_n_topic_word[topic_ij, word_j] += 1\n",
    "        test_z_doc_word[doc_i, j] = topic_ij\n",
    "\n",
    "    for iteration in tqdm(range(100)):\n",
    "        for j, word_j in enumerate(doc):\n",
    "            # remove the old assignment\n",
    "            topic_ij = test_z_doc_word[doc_i, j]\n",
    "            test_n_doc_topic[doc_i, topic_ij] -= 1\n",
    "            test_n_topic_word[topic_ij, word_j] -= 1\n",
    "            # compute the new assignment (new sampling formula!)\n",
    "            p_doc_topic = (test_n_doc_topic[doc_i, :] + hparams.alpha) \\\n",
    "                        / np.sum(test_n_doc_topic[doc_i] + hparams.alpha)\n",
    "            p_topic_word = (test_n_topic_word[:, word_j] + n_topic_word[:, word_j] + hparams.beta[word_j]) \\\n",
    "                        / np.sum(test_n_topic_word + n_topic_word + hparams.beta, axis=1)\n",
    "            p_topic = p_doc_topic * p_topic_word\n",
    "            p_topic /= np.sum(p_topic)\n",
    "            # record the new assignment\n",
    "            new_topic_ij = np.random.choice(np.arange(corpus.num_topics), p=p_topic)\n",
    "            test_n_doc_topic[doc_i, new_topic_ij] += 1\n",
    "            test_n_topic_word[new_topic_ij, word_j] += 1\n",
    "            test_z_doc_word[doc_i, j] = new_topic_ij\n",
    "\n",
    "    # === Check convergence and read out parameters ===\n",
    "    test_theta = (test_n_doc_topic + hparams.alpha) / np.sum(test_n_doc_topic + hparams.alpha, axis=1, keepdims=True)\n",
    "    test_phi = (test_n_topic_word + hparams.beta) / np.sum(test_n_topic_word + hparams.beta, axis=1, keepdims=True)\n",
    "    print(\"Topic distribution:\", [float(f\"{x:.4f}\") for x in test_theta[0]])\n",
    "    print(\"Top 3 topics:\", np.argsort(test_theta[0])[::-1][:3])"
   ]
  },
  {
   "cell_type": "markdown",
   "metadata": {},
   "source": [
    "Compare with the learned topics: \n",
    "\n",
    "<img src=https://raw.githubusercontent.com/mistylight/picbed/main/Hexo/Screen%20Shot%202022-02-28%20at%204.59.56%20PM.png style=\"width: 1200px\">"
   ]
  },
  {
   "cell_type": "code",
   "execution_count": null,
   "metadata": {},
   "outputs": [],
   "source": []
  }
 ],
 "metadata": {
  "interpreter": {
   "hash": "b98ce01d6443f9ed8de6b2298de45a5462ef793670bc2920aea9ee85010384a1"
  },
  "kernelspec": {
   "display_name": "Python 3.8.5 ('base')",
   "language": "python",
   "name": "python3"
  },
  "language_info": {
   "codemirror_mode": {
    "name": "ipython",
    "version": 3
   },
   "file_extension": ".py",
   "mimetype": "text/x-python",
   "name": "python",
   "nbconvert_exporter": "python",
   "pygments_lexer": "ipython3",
   "version": "3.8.5"
  },
  "orig_nbformat": 4
 },
 "nbformat": 4,
 "nbformat_minor": 2
}
