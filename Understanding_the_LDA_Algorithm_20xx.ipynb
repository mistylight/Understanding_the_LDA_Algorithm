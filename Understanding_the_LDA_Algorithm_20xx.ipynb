{
 "cells": [
  {
   "cell_type": "markdown",
   "metadata": {},
   "source": [
    "# LDA Training\n",
    "<figure>\n",
    "<div>\n",
    "<img src=https://s2.loli.net/2022/02/28/X7vzOlDHJtP6UnM.png width=\"600\">\n",
    "</div>\n",
    "<figcaption>The LDA training algorithm from <a href=http://www.arbylon.net/publications/text-est.pdf>Parameter estimation for text analysis</a></figcaption>\n",
    "</figure>"
   ]
  },
  {
   "cell_type": "code",
   "execution_count": 2,
   "metadata": {},
   "outputs": [],
   "source": [
    "import random\n",
    "import numpy as np\n",
    "from collections import defaultdict, OrderedDict\n",
    "from types import SimpleNamespace\n",
    "from tqdm.notebook import tqdm\n",
    "from visualize import visualize_topic_word"
   ]
  },
  {
   "cell_type": "code",
   "execution_count": 6,
   "metadata": {},
   "outputs": [
    {
     "name": "stdout",
     "output_type": "stream",
     "text": [
      "num_docs: 1000 num_topics: 10 num_words: 7794\n"
     ]
    }
   ],
   "source": [
    "# === corpus loading ===\n",
    "class NeurIPSCorpus:\n",
    "    def __init__(self, data_path, num_topics, mode, start_doc_idx=0, max_num_docs=100, max_num_words=10000, max_doc_length=1000, train_corpus=None):\n",
    "        self.docs = []\n",
    "        self.word2id = OrderedDict()\n",
    "        self.max_doc_length = max_doc_length\n",
    "        self.mode = mode\n",
    "\n",
    "        # only keep the most frequent words\n",
    "        if self.mode == \"train\":\n",
    "            word2cnt = defaultdict(int)\n",
    "            with open(data_path) as fin:\n",
    "                for i, line in enumerate(list(fin)[::-1]):  # use more recent papers\n",
    "                    if i >= max_num_docs: break\n",
    "                    for word in line.strip().split():\n",
    "                        word2cnt[word] += 1\n",
    "            \n",
    "            word2cnt = sorted(list(word2cnt.items()), key=lambda x: x[1], reverse=True)\n",
    "            if len(word2cnt) > max_num_words:\n",
    "                word2cnt = word2cnt[:max_num_words]\n",
    "            word2cnt = dict(word2cnt)\n",
    "\n",
    "        # read in the doc and convert words to integers\n",
    "        with open(data_path) as fin:\n",
    "            for i, line in enumerate(list(fin)[::-1]):   # use more recent papers\n",
    "                if i < start_doc_idx: continue\n",
    "                if i - start_doc_idx >= max_num_docs: break\n",
    "                doc = []\n",
    "                for word in line.strip().split():\n",
    "                    if len(doc) >= self.max_doc_length: break\n",
    "                    if self.mode == \"train\":\n",
    "                        if word not in word2cnt: continue\n",
    "                        if word not in self.word2id: \n",
    "                            self.word2id[word] = len(self.word2id)\n",
    "                        doc.append(self.word2id[word])\n",
    "                    else:\n",
    "                        if word not in train_corpus.word2id: continue\n",
    "                        doc.append(train_corpus.word2id[word])\n",
    "                self.docs.append(doc)\n",
    "\n",
    "        self.num_docs = len(self.docs)\n",
    "        self.num_topics = num_topics\n",
    "        self.num_words = len(self.word2id)\n",
    "        self.id2word = {v: k for k, v in self.word2id.items()}\n",
    "        print(\n",
    "            \"num_docs:\", self.num_docs, \n",
    "            \"num_topics:\", self.num_topics, \n",
    "            \"num_words:\", self.num_words\n",
    "        )\n",
    "\n",
    "corpus = NeurIPSCorpus(\n",
    "    data_path=\"data/papers.txt\", \n",
    "    mode=\"train\",\n",
    "    num_topics=10,\n",
    "    start_doc_idx=0,\n",
    "    max_num_docs=1000,\n",
    "    max_num_words=10000,\n",
    "    max_doc_length=200,\n",
    ")\n",
    "hparams = SimpleNamespace(\n",
    "    alpha=np.ones([corpus.num_topics], dtype=float) / corpus.num_topics,\n",
    "    beta = np.ones([corpus.num_words], dtype=float) / corpus.num_topics,\n",
    "    gibbs_sampling_max_iters=500,\n",
    ")"
   ]
  },
  {
   "cell_type": "code",
   "execution_count": 4,
   "metadata": {},
   "outputs": [
    {
     "name": "stdout",
     "output_type": "stream",
     "text": [
      "Initializing...\n",
      "Gibbs sampling...\n"
     ]
    },
    {
     "data": {
      "application/vnd.jupyter.widget-view+json": {
       "model_id": "5b320cda4bd7409b92ede8f57fc106de",
       "version_major": 2,
       "version_minor": 0
      },
      "text/plain": [
       "HBox(children=(HTML(value=''), FloatProgress(value=0.0, max=500.0), HTML(value='')))"
      ]
     },
     "metadata": {},
     "output_type": "display_data"
    },
    {
     "name": "stdout",
     "output_type": "stream",
     "text": [
      "Iter [0]===\n",
      "Topic 0: ['model', 'network', 'learning', 'problem', 'learn', 'function', 'algorithm', 'university', 'datum', 'method']\n",
      "Topic 1: ['network', 'learning', 'model', 'problem', 'learn', 'method', 'algorithm', 'datum', 'introduction', 'task']\n",
      "Topic 2: ['model', 'network', 'learning', 'datum', 'problem', 'algorithm', 'neural', 'university', 'edu', 'function']\n",
      "Topic 3: ['model', 'problem', 'learn', 'network', 'learning', 'university', 'algorithm', 'abstract', 'datum', 'edu']\n",
      "Topic 4: ['model', 'network', 'learning', 'problem', 'university', 'algorithm', 'learn', 'abstract', 'function', 'method']\n",
      "Topic 5: ['model', 'neural', 'network', 'function', 'algorithm', 'problem', 'learning', 'learn', 'university', 'edu']\n",
      "Topic 6: ['model', 'datum', 'network', 'neural', 'learning', 'method', 'university', 'learn', 'algorithm', 'problem']\n",
      "Topic 7: ['network', 'model', 'algorithm', 'problem', 'learning', 'datum', 'function', 'university', 'introduction', 'task']\n",
      "Topic 8: ['network', 'model', 'algorithm', 'learn', 'abstract', 'learning', 'problem', 'datum', 'method', 'university']\n",
      "Topic 9: ['model', 'network', 'algorithm', 'problem', 'datum', 'learn', 'learning', 'neural', 'abstract', 'university']\n"
     ]
    },
    {
     "data": {
      "application/vnd.plotly.v1+json": {
       "config": {
        "plotlyServerURL": "https://plot.ly"
       },
       "data": [
        {
         "cells": {
          "fill": {
           "color": [
            [
             "rgb(197.33333333333334, 219.11111111111111, 191.88888888888889)",
             "rgb(197.33333333333334, 219.11111111111111, 191.88888888888889)",
             "rgb(217.66666666666666, 232.55555555555554, 214.44444444444446)",
             "rgb(217.66666666666666, 232.55555555555554, 214.44444444444446)",
             "rgb(217.66666666666666, 232.55555555555554, 214.44444444444446)",
             "rgb(217.66666666666666, 232.55555555555554, 214.44444444444446)",
             "rgb(217.66666666666666, 232.55555555555554, 214.44444444444446)",
             "rgb(238.0, 246.0, 237.0)",
             "rgb(238.0, 246.0, 237.0)",
             "rgb(238.0, 246.0, 237.0)"
            ],
            [
             "rgb(197.33333333333334, 219.11111111111111, 191.88888888888889)",
             "rgb(217.66666666666666, 232.55555555555554, 214.44444444444446)",
             "rgb(217.66666666666666, 232.55555555555554, 214.44444444444446)",
             "rgb(217.66666666666666, 232.55555555555554, 214.44444444444446)",
             "rgb(217.66666666666666, 232.55555555555554, 214.44444444444446)",
             "rgb(217.66666666666666, 232.55555555555554, 214.44444444444446)",
             "rgb(217.66666666666666, 232.55555555555554, 214.44444444444446)",
             "rgb(217.66666666666666, 232.55555555555554, 214.44444444444446)",
             "rgb(238.0, 246.0, 237.0)",
             "rgb(238.0, 246.0, 237.0)"
            ],
            [
             "rgb(217.66666666666666, 232.55555555555554, 214.44444444444446)",
             "rgb(217.66666666666666, 232.55555555555554, 214.44444444444446)",
             "rgb(217.66666666666666, 232.55555555555554, 214.44444444444446)",
             "rgb(217.66666666666666, 232.55555555555554, 214.44444444444446)",
             "rgb(217.66666666666666, 232.55555555555554, 214.44444444444446)",
             "rgb(217.66666666666666, 232.55555555555554, 214.44444444444446)",
             "rgb(217.66666666666666, 232.55555555555554, 214.44444444444446)",
             "rgb(217.66666666666666, 232.55555555555554, 214.44444444444446)",
             "rgb(217.66666666666666, 232.55555555555554, 214.44444444444446)",
             "rgb(217.66666666666666, 232.55555555555554, 214.44444444444446)"
            ],
            [
             "rgb(217.66666666666666, 232.55555555555554, 214.44444444444446)",
             "rgb(217.66666666666666, 232.55555555555554, 214.44444444444446)",
             "rgb(217.66666666666666, 232.55555555555554, 214.44444444444446)",
             "rgb(217.66666666666666, 232.55555555555554, 214.44444444444446)",
             "rgb(217.66666666666666, 232.55555555555554, 214.44444444444446)",
             "rgb(217.66666666666666, 232.55555555555554, 214.44444444444446)",
             "rgb(217.66666666666666, 232.55555555555554, 214.44444444444446)",
             "rgb(217.66666666666666, 232.55555555555554, 214.44444444444446)",
             "rgb(217.66666666666666, 232.55555555555554, 214.44444444444446)",
             "rgb(238.0, 246.0, 237.0)"
            ],
            [
             "rgb(197.33333333333334, 219.11111111111111, 191.88888888888889)",
             "rgb(217.66666666666666, 232.55555555555554, 214.44444444444446)",
             "rgb(217.66666666666666, 232.55555555555554, 214.44444444444446)",
             "rgb(217.66666666666666, 232.55555555555554, 214.44444444444446)",
             "rgb(217.66666666666666, 232.55555555555554, 214.44444444444446)",
             "rgb(217.66666666666666, 232.55555555555554, 214.44444444444446)",
             "rgb(217.66666666666666, 232.55555555555554, 214.44444444444446)",
             "rgb(217.66666666666666, 232.55555555555554, 214.44444444444446)",
             "rgb(238.0, 246.0, 237.0)",
             "rgb(238.0, 246.0, 237.0)"
            ],
            [
             "rgb(197.33333333333334, 219.11111111111111, 191.88888888888889)",
             "rgb(197.33333333333334, 219.11111111111111, 191.88888888888889)",
             "rgb(217.66666666666666, 232.55555555555554, 214.44444444444446)",
             "rgb(217.66666666666666, 232.55555555555554, 214.44444444444446)",
             "rgb(217.66666666666666, 232.55555555555554, 214.44444444444446)",
             "rgb(217.66666666666666, 232.55555555555554, 214.44444444444446)",
             "rgb(217.66666666666666, 232.55555555555554, 214.44444444444446)",
             "rgb(217.66666666666666, 232.55555555555554, 214.44444444444446)",
             "rgb(238.0, 246.0, 237.0)",
             "rgb(238.0, 246.0, 237.0)"
            ],
            [
             "rgb(217.66666666666666, 232.55555555555554, 214.44444444444446)",
             "rgb(217.66666666666666, 232.55555555555554, 214.44444444444446)",
             "rgb(217.66666666666666, 232.55555555555554, 214.44444444444446)",
             "rgb(217.66666666666666, 232.55555555555554, 214.44444444444446)",
             "rgb(217.66666666666666, 232.55555555555554, 214.44444444444446)",
             "rgb(217.66666666666666, 232.55555555555554, 214.44444444444446)",
             "rgb(217.66666666666666, 232.55555555555554, 214.44444444444446)",
             "rgb(217.66666666666666, 232.55555555555554, 214.44444444444446)",
             "rgb(217.66666666666666, 232.55555555555554, 214.44444444444446)",
             "rgb(217.66666666666666, 232.55555555555554, 214.44444444444446)"
            ],
            [
             "rgb(217.66666666666666, 232.55555555555554, 214.44444444444446)",
             "rgb(217.66666666666666, 232.55555555555554, 214.44444444444446)",
             "rgb(217.66666666666666, 232.55555555555554, 214.44444444444446)",
             "rgb(217.66666666666666, 232.55555555555554, 214.44444444444446)",
             "rgb(217.66666666666666, 232.55555555555554, 214.44444444444446)",
             "rgb(217.66666666666666, 232.55555555555554, 214.44444444444446)",
             "rgb(217.66666666666666, 232.55555555555554, 214.44444444444446)",
             "rgb(217.66666666666666, 232.55555555555554, 214.44444444444446)",
             "rgb(217.66666666666666, 232.55555555555554, 214.44444444444446)",
             "rgb(238.0, 246.0, 237.0)"
            ],
            [
             "rgb(217.66666666666666, 232.55555555555554, 214.44444444444446)",
             "rgb(217.66666666666666, 232.55555555555554, 214.44444444444446)",
             "rgb(217.66666666666666, 232.55555555555554, 214.44444444444446)",
             "rgb(217.66666666666666, 232.55555555555554, 214.44444444444446)",
             "rgb(217.66666666666666, 232.55555555555554, 214.44444444444446)",
             "rgb(217.66666666666666, 232.55555555555554, 214.44444444444446)",
             "rgb(217.66666666666666, 232.55555555555554, 214.44444444444446)",
             "rgb(238.0, 246.0, 237.0)",
             "rgb(238.0, 246.0, 237.0)",
             "rgb(238.0, 246.0, 237.0)"
            ],
            [
             "rgb(217.66666666666666, 232.55555555555554, 214.44444444444446)",
             "rgb(217.66666666666666, 232.55555555555554, 214.44444444444446)",
             "rgb(217.66666666666666, 232.55555555555554, 214.44444444444446)",
             "rgb(217.66666666666666, 232.55555555555554, 214.44444444444446)",
             "rgb(217.66666666666666, 232.55555555555554, 214.44444444444446)",
             "rgb(217.66666666666666, 232.55555555555554, 214.44444444444446)",
             "rgb(217.66666666666666, 232.55555555555554, 214.44444444444446)",
             "rgb(217.66666666666666, 232.55555555555554, 214.44444444444446)",
             "rgb(238.0, 246.0, 237.0)",
             "rgb(238.0, 246.0, 237.0)"
            ]
           ]
          },
          "values": [
           [
            "model",
            "network",
            "learning",
            "problem",
            "learn",
            "function",
            "algorithm",
            "university",
            "datum",
            "method"
           ],
           [
            "network",
            "learning",
            "model",
            "problem",
            "learn",
            "method",
            "algorithm",
            "datum",
            "introduction",
            "task"
           ],
           [
            "model",
            "network",
            "learning",
            "datum",
            "problem",
            "algorithm",
            "neural",
            "university",
            "edu",
            "function"
           ],
           [
            "model",
            "problem",
            "learn",
            "network",
            "learning",
            "university",
            "algorithm",
            "abstract",
            "datum",
            "edu"
           ],
           [
            "model",
            "network",
            "learning",
            "problem",
            "university",
            "algorithm",
            "learn",
            "abstract",
            "function",
            "method"
           ],
           [
            "model",
            "neural",
            "network",
            "function",
            "algorithm",
            "problem",
            "learning",
            "learn",
            "university",
            "edu"
           ],
           [
            "model",
            "datum",
            "network",
            "neural",
            "learning",
            "method",
            "university",
            "learn",
            "algorithm",
            "problem"
           ],
           [
            "network",
            "model",
            "algorithm",
            "problem",
            "learning",
            "datum",
            "function",
            "university",
            "introduction",
            "task"
           ],
           [
            "network",
            "model",
            "algorithm",
            "learn",
            "abstract",
            "learning",
            "problem",
            "datum",
            "method",
            "university"
           ],
           [
            "model",
            "network",
            "algorithm",
            "problem",
            "datum",
            "learn",
            "learning",
            "neural",
            "abstract",
            "university"
           ]
          ]
         },
         "header": {
          "fill": {
           "color": "rgb(220, 220, 220)"
          },
          "values": [
           "Topic 00",
           "Topic 01",
           "Topic 02",
           "Topic 03",
           "Topic 04",
           "Topic 05",
           "Topic 06",
           "Topic 07",
           "Topic 08",
           "Topic 09"
          ]
         },
         "type": "table"
        }
       ],
       "layout": {
        "template": {
         "data": {
          "bar": [
           {
            "error_x": {
             "color": "#2a3f5f"
            },
            "error_y": {
             "color": "#2a3f5f"
            },
            "marker": {
             "line": {
              "color": "#E5ECF6",
              "width": 0.5
             },
             "pattern": {
              "fillmode": "overlay",
              "size": 10,
              "solidity": 0.2
             }
            },
            "type": "bar"
           }
          ],
          "barpolar": [
           {
            "marker": {
             "line": {
              "color": "#E5ECF6",
              "width": 0.5
             },
             "pattern": {
              "fillmode": "overlay",
              "size": 10,
              "solidity": 0.2
             }
            },
            "type": "barpolar"
           }
          ],
          "carpet": [
           {
            "aaxis": {
             "endlinecolor": "#2a3f5f",
             "gridcolor": "white",
             "linecolor": "white",
             "minorgridcolor": "white",
             "startlinecolor": "#2a3f5f"
            },
            "baxis": {
             "endlinecolor": "#2a3f5f",
             "gridcolor": "white",
             "linecolor": "white",
             "minorgridcolor": "white",
             "startlinecolor": "#2a3f5f"
            },
            "type": "carpet"
           }
          ],
          "choropleth": [
           {
            "colorbar": {
             "outlinewidth": 0,
             "ticks": ""
            },
            "type": "choropleth"
           }
          ],
          "contour": [
           {
            "colorbar": {
             "outlinewidth": 0,
             "ticks": ""
            },
            "colorscale": [
             [
              0,
              "#0d0887"
             ],
             [
              0.1111111111111111,
              "#46039f"
             ],
             [
              0.2222222222222222,
              "#7201a8"
             ],
             [
              0.3333333333333333,
              "#9c179e"
             ],
             [
              0.4444444444444444,
              "#bd3786"
             ],
             [
              0.5555555555555556,
              "#d8576b"
             ],
             [
              0.6666666666666666,
              "#ed7953"
             ],
             [
              0.7777777777777778,
              "#fb9f3a"
             ],
             [
              0.8888888888888888,
              "#fdca26"
             ],
             [
              1,
              "#f0f921"
             ]
            ],
            "type": "contour"
           }
          ],
          "contourcarpet": [
           {
            "colorbar": {
             "outlinewidth": 0,
             "ticks": ""
            },
            "type": "contourcarpet"
           }
          ],
          "heatmap": [
           {
            "colorbar": {
             "outlinewidth": 0,
             "ticks": ""
            },
            "colorscale": [
             [
              0,
              "#0d0887"
             ],
             [
              0.1111111111111111,
              "#46039f"
             ],
             [
              0.2222222222222222,
              "#7201a8"
             ],
             [
              0.3333333333333333,
              "#9c179e"
             ],
             [
              0.4444444444444444,
              "#bd3786"
             ],
             [
              0.5555555555555556,
              "#d8576b"
             ],
             [
              0.6666666666666666,
              "#ed7953"
             ],
             [
              0.7777777777777778,
              "#fb9f3a"
             ],
             [
              0.8888888888888888,
              "#fdca26"
             ],
             [
              1,
              "#f0f921"
             ]
            ],
            "type": "heatmap"
           }
          ],
          "heatmapgl": [
           {
            "colorbar": {
             "outlinewidth": 0,
             "ticks": ""
            },
            "colorscale": [
             [
              0,
              "#0d0887"
             ],
             [
              0.1111111111111111,
              "#46039f"
             ],
             [
              0.2222222222222222,
              "#7201a8"
             ],
             [
              0.3333333333333333,
              "#9c179e"
             ],
             [
              0.4444444444444444,
              "#bd3786"
             ],
             [
              0.5555555555555556,
              "#d8576b"
             ],
             [
              0.6666666666666666,
              "#ed7953"
             ],
             [
              0.7777777777777778,
              "#fb9f3a"
             ],
             [
              0.8888888888888888,
              "#fdca26"
             ],
             [
              1,
              "#f0f921"
             ]
            ],
            "type": "heatmapgl"
           }
          ],
          "histogram": [
           {
            "marker": {
             "pattern": {
              "fillmode": "overlay",
              "size": 10,
              "solidity": 0.2
             }
            },
            "type": "histogram"
           }
          ],
          "histogram2d": [
           {
            "colorbar": {
             "outlinewidth": 0,
             "ticks": ""
            },
            "colorscale": [
             [
              0,
              "#0d0887"
             ],
             [
              0.1111111111111111,
              "#46039f"
             ],
             [
              0.2222222222222222,
              "#7201a8"
             ],
             [
              0.3333333333333333,
              "#9c179e"
             ],
             [
              0.4444444444444444,
              "#bd3786"
             ],
             [
              0.5555555555555556,
              "#d8576b"
             ],
             [
              0.6666666666666666,
              "#ed7953"
             ],
             [
              0.7777777777777778,
              "#fb9f3a"
             ],
             [
              0.8888888888888888,
              "#fdca26"
             ],
             [
              1,
              "#f0f921"
             ]
            ],
            "type": "histogram2d"
           }
          ],
          "histogram2dcontour": [
           {
            "colorbar": {
             "outlinewidth": 0,
             "ticks": ""
            },
            "colorscale": [
             [
              0,
              "#0d0887"
             ],
             [
              0.1111111111111111,
              "#46039f"
             ],
             [
              0.2222222222222222,
              "#7201a8"
             ],
             [
              0.3333333333333333,
              "#9c179e"
             ],
             [
              0.4444444444444444,
              "#bd3786"
             ],
             [
              0.5555555555555556,
              "#d8576b"
             ],
             [
              0.6666666666666666,
              "#ed7953"
             ],
             [
              0.7777777777777778,
              "#fb9f3a"
             ],
             [
              0.8888888888888888,
              "#fdca26"
             ],
             [
              1,
              "#f0f921"
             ]
            ],
            "type": "histogram2dcontour"
           }
          ],
          "mesh3d": [
           {
            "colorbar": {
             "outlinewidth": 0,
             "ticks": ""
            },
            "type": "mesh3d"
           }
          ],
          "parcoords": [
           {
            "line": {
             "colorbar": {
              "outlinewidth": 0,
              "ticks": ""
             }
            },
            "type": "parcoords"
           }
          ],
          "pie": [
           {
            "automargin": true,
            "type": "pie"
           }
          ],
          "scatter": [
           {
            "marker": {
             "colorbar": {
              "outlinewidth": 0,
              "ticks": ""
             }
            },
            "type": "scatter"
           }
          ],
          "scatter3d": [
           {
            "line": {
             "colorbar": {
              "outlinewidth": 0,
              "ticks": ""
             }
            },
            "marker": {
             "colorbar": {
              "outlinewidth": 0,
              "ticks": ""
             }
            },
            "type": "scatter3d"
           }
          ],
          "scattercarpet": [
           {
            "marker": {
             "colorbar": {
              "outlinewidth": 0,
              "ticks": ""
             }
            },
            "type": "scattercarpet"
           }
          ],
          "scattergeo": [
           {
            "marker": {
             "colorbar": {
              "outlinewidth": 0,
              "ticks": ""
             }
            },
            "type": "scattergeo"
           }
          ],
          "scattergl": [
           {
            "marker": {
             "colorbar": {
              "outlinewidth": 0,
              "ticks": ""
             }
            },
            "type": "scattergl"
           }
          ],
          "scattermapbox": [
           {
            "marker": {
             "colorbar": {
              "outlinewidth": 0,
              "ticks": ""
             }
            },
            "type": "scattermapbox"
           }
          ],
          "scatterpolar": [
           {
            "marker": {
             "colorbar": {
              "outlinewidth": 0,
              "ticks": ""
             }
            },
            "type": "scatterpolar"
           }
          ],
          "scatterpolargl": [
           {
            "marker": {
             "colorbar": {
              "outlinewidth": 0,
              "ticks": ""
             }
            },
            "type": "scatterpolargl"
           }
          ],
          "scatterternary": [
           {
            "marker": {
             "colorbar": {
              "outlinewidth": 0,
              "ticks": ""
             }
            },
            "type": "scatterternary"
           }
          ],
          "surface": [
           {
            "colorbar": {
             "outlinewidth": 0,
             "ticks": ""
            },
            "colorscale": [
             [
              0,
              "#0d0887"
             ],
             [
              0.1111111111111111,
              "#46039f"
             ],
             [
              0.2222222222222222,
              "#7201a8"
             ],
             [
              0.3333333333333333,
              "#9c179e"
             ],
             [
              0.4444444444444444,
              "#bd3786"
             ],
             [
              0.5555555555555556,
              "#d8576b"
             ],
             [
              0.6666666666666666,
              "#ed7953"
             ],
             [
              0.7777777777777778,
              "#fb9f3a"
             ],
             [
              0.8888888888888888,
              "#fdca26"
             ],
             [
              1,
              "#f0f921"
             ]
            ],
            "type": "surface"
           }
          ],
          "table": [
           {
            "cells": {
             "fill": {
              "color": "#EBF0F8"
             },
             "line": {
              "color": "white"
             }
            },
            "header": {
             "fill": {
              "color": "#C8D4E3"
             },
             "line": {
              "color": "white"
             }
            },
            "type": "table"
           }
          ]
         },
         "layout": {
          "annotationdefaults": {
           "arrowcolor": "#2a3f5f",
           "arrowhead": 0,
           "arrowwidth": 1
          },
          "autotypenumbers": "strict",
          "coloraxis": {
           "colorbar": {
            "outlinewidth": 0,
            "ticks": ""
           }
          },
          "colorscale": {
           "diverging": [
            [
             0,
             "#8e0152"
            ],
            [
             0.1,
             "#c51b7d"
            ],
            [
             0.2,
             "#de77ae"
            ],
            [
             0.3,
             "#f1b6da"
            ],
            [
             0.4,
             "#fde0ef"
            ],
            [
             0.5,
             "#f7f7f7"
            ],
            [
             0.6,
             "#e6f5d0"
            ],
            [
             0.7,
             "#b8e186"
            ],
            [
             0.8,
             "#7fbc41"
            ],
            [
             0.9,
             "#4d9221"
            ],
            [
             1,
             "#276419"
            ]
           ],
           "sequential": [
            [
             0,
             "#0d0887"
            ],
            [
             0.1111111111111111,
             "#46039f"
            ],
            [
             0.2222222222222222,
             "#7201a8"
            ],
            [
             0.3333333333333333,
             "#9c179e"
            ],
            [
             0.4444444444444444,
             "#bd3786"
            ],
            [
             0.5555555555555556,
             "#d8576b"
            ],
            [
             0.6666666666666666,
             "#ed7953"
            ],
            [
             0.7777777777777778,
             "#fb9f3a"
            ],
            [
             0.8888888888888888,
             "#fdca26"
            ],
            [
             1,
             "#f0f921"
            ]
           ],
           "sequentialminus": [
            [
             0,
             "#0d0887"
            ],
            [
             0.1111111111111111,
             "#46039f"
            ],
            [
             0.2222222222222222,
             "#7201a8"
            ],
            [
             0.3333333333333333,
             "#9c179e"
            ],
            [
             0.4444444444444444,
             "#bd3786"
            ],
            [
             0.5555555555555556,
             "#d8576b"
            ],
            [
             0.6666666666666666,
             "#ed7953"
            ],
            [
             0.7777777777777778,
             "#fb9f3a"
            ],
            [
             0.8888888888888888,
             "#fdca26"
            ],
            [
             1,
             "#f0f921"
            ]
           ]
          },
          "colorway": [
           "#636efa",
           "#EF553B",
           "#00cc96",
           "#ab63fa",
           "#FFA15A",
           "#19d3f3",
           "#FF6692",
           "#B6E880",
           "#FF97FF",
           "#FECB52"
          ],
          "font": {
           "color": "#2a3f5f"
          },
          "geo": {
           "bgcolor": "white",
           "lakecolor": "white",
           "landcolor": "#E5ECF6",
           "showlakes": true,
           "showland": true,
           "subunitcolor": "white"
          },
          "hoverlabel": {
           "align": "left"
          },
          "hovermode": "closest",
          "mapbox": {
           "style": "light"
          },
          "paper_bgcolor": "white",
          "plot_bgcolor": "#E5ECF6",
          "polar": {
           "angularaxis": {
            "gridcolor": "white",
            "linecolor": "white",
            "ticks": ""
           },
           "bgcolor": "#E5ECF6",
           "radialaxis": {
            "gridcolor": "white",
            "linecolor": "white",
            "ticks": ""
           }
          },
          "scene": {
           "xaxis": {
            "backgroundcolor": "#E5ECF6",
            "gridcolor": "white",
            "gridwidth": 2,
            "linecolor": "white",
            "showbackground": true,
            "ticks": "",
            "zerolinecolor": "white"
           },
           "yaxis": {
            "backgroundcolor": "#E5ECF6",
            "gridcolor": "white",
            "gridwidth": 2,
            "linecolor": "white",
            "showbackground": true,
            "ticks": "",
            "zerolinecolor": "white"
           },
           "zaxis": {
            "backgroundcolor": "#E5ECF6",
            "gridcolor": "white",
            "gridwidth": 2,
            "linecolor": "white",
            "showbackground": true,
            "ticks": "",
            "zerolinecolor": "white"
           }
          },
          "shapedefaults": {
           "line": {
            "color": "#2a3f5f"
           }
          },
          "ternary": {
           "aaxis": {
            "gridcolor": "white",
            "linecolor": "white",
            "ticks": ""
           },
           "baxis": {
            "gridcolor": "white",
            "linecolor": "white",
            "ticks": ""
           },
           "bgcolor": "#E5ECF6",
           "caxis": {
            "gridcolor": "white",
            "linecolor": "white",
            "ticks": ""
           }
          },
          "title": {
           "x": 0.05
          },
          "xaxis": {
           "automargin": true,
           "gridcolor": "white",
           "linecolor": "white",
           "ticks": "",
           "title": {
            "standoff": 15
           },
           "zerolinecolor": "white",
           "zerolinewidth": 2
          },
          "yaxis": {
           "automargin": true,
           "gridcolor": "white",
           "linecolor": "white",
           "ticks": "",
           "title": {
            "standoff": 15
           },
           "zerolinecolor": "white",
           "zerolinewidth": 2
          }
         }
        },
        "title": {
         "text": "Top words for the 10 topics"
        },
        "width": 1350
       }
      }
     },
     "metadata": {},
     "output_type": "display_data"
    },
    {
     "name": "stdout",
     "output_type": "stream",
     "text": [
      "Iter [50]===\n",
      "Topic 0: ['model', 'task', 'learning', 'deep', 'learn', 'network', 'neural', 'image', 'train', 'method']\n",
      "Topic 1: ['datum', 'algorithm', 'learning', 'learn', 'problem', 'sample', 'method', 'set', 'training', 'class']\n",
      "Topic 2: ['information', 'university', 'brain', 'analysis', 'datum', 'memory', 'structure', 'department', 'neural', 'e']\n",
      "Topic 3: ['model', 'distribution', 'datum', 'gaussian', 'kernel', 'gan', 'generative', 'process', 'university', 'variable']\n",
      "Topic 4: ['network', 'neural', 'input', 'learn', 'unit', 'output', 'model', 'training', 'weight', 'state']\n",
      "Topic 5: ['neuron', 'network', 'model', 'neural', 'system', 'time', 'cell', 't', 'pattern', 'signal']\n",
      "Topic 6: ['x', 'n', 'function', 'problem', 'algorithm', 'k', 'method', 'matrix', 't', 'optimization']\n",
      "Topic 7: ['algorithm', 'problem', 'learning', 'policy', 'reinforcement', 'function', 'state', 'agent', 'learn', 'action']\n",
      "Topic 8: ['datum', 'problem', 'cluster', 'network', 'user', 'algorithm', 'graph', 'clustering', 'node', 'model']\n",
      "Topic 9: ['object', 'image', 'visual', 'system', 'd', 'recognition', 'motion', 'information', 'human', 'representation']\n"
     ]
    },
    {
     "data": {
      "application/vnd.plotly.v1+json": {
       "config": {
        "plotlyServerURL": "https://plot.ly"
       },
       "data": [
        {
         "cells": {
          "fill": {
           "color": [
            [
             "rgb(156.66666666666669, 192.22222222222223, 146.77777777777777)",
             "rgb(177.0, 205.66666666666666, 169.33333333333331)",
             "rgb(177.0, 205.66666666666666, 169.33333333333331)",
             "rgb(177.0, 205.66666666666666, 169.33333333333331)",
             "rgb(197.33333333333334, 219.11111111111111, 191.88888888888889)",
             "rgb(197.33333333333334, 219.11111111111111, 191.88888888888889)",
             "rgb(217.66666666666666, 232.55555555555554, 214.44444444444446)",
             "rgb(217.66666666666666, 232.55555555555554, 214.44444444444446)",
             "rgb(217.66666666666666, 232.55555555555554, 214.44444444444446)",
             "rgb(217.66666666666666, 232.55555555555554, 214.44444444444446)"
            ],
            [
             "rgb(197.33333333333334, 219.11111111111111, 191.88888888888889)",
             "rgb(197.33333333333334, 219.11111111111111, 191.88888888888889)",
             "rgb(197.33333333333334, 219.11111111111111, 191.88888888888889)",
             "rgb(197.33333333333334, 219.11111111111111, 191.88888888888889)",
             "rgb(217.66666666666666, 232.55555555555554, 214.44444444444446)",
             "rgb(217.66666666666666, 232.55555555555554, 214.44444444444446)",
             "rgb(217.66666666666666, 232.55555555555554, 214.44444444444446)",
             "rgb(217.66666666666666, 232.55555555555554, 214.44444444444446)",
             "rgb(217.66666666666666, 232.55555555555554, 214.44444444444446)",
             "rgb(217.66666666666666, 232.55555555555554, 214.44444444444446)"
            ],
            [
             "rgb(197.33333333333334, 219.11111111111111, 191.88888888888889)",
             "rgb(197.33333333333334, 219.11111111111111, 191.88888888888889)",
             "rgb(197.33333333333334, 219.11111111111111, 191.88888888888889)",
             "rgb(217.66666666666666, 232.55555555555554, 214.44444444444446)",
             "rgb(217.66666666666666, 232.55555555555554, 214.44444444444446)",
             "rgb(217.66666666666666, 232.55555555555554, 214.44444444444446)",
             "rgb(217.66666666666666, 232.55555555555554, 214.44444444444446)",
             "rgb(217.66666666666666, 232.55555555555554, 214.44444444444446)",
             "rgb(217.66666666666666, 232.55555555555554, 214.44444444444446)",
             "rgb(217.66666666666666, 232.55555555555554, 214.44444444444446)"
            ],
            [
             "rgb(116.0, 165.33333333333331, 101.66666666666666)",
             "rgb(177.0, 205.66666666666666, 169.33333333333331)",
             "rgb(197.33333333333334, 219.11111111111111, 191.88888888888889)",
             "rgb(197.33333333333334, 219.11111111111111, 191.88888888888889)",
             "rgb(217.66666666666666, 232.55555555555554, 214.44444444444446)",
             "rgb(217.66666666666666, 232.55555555555554, 214.44444444444446)",
             "rgb(217.66666666666666, 232.55555555555554, 214.44444444444446)",
             "rgb(217.66666666666666, 232.55555555555554, 214.44444444444446)",
             "rgb(217.66666666666666, 232.55555555555554, 214.44444444444446)",
             "rgb(217.66666666666666, 232.55555555555554, 214.44444444444446)"
            ],
            [
             "rgb(95.66666666666669, 151.88888888888889, 79.11111111111109)",
             "rgb(177.0, 205.66666666666666, 169.33333333333331)",
             "rgb(197.33333333333334, 219.11111111111111, 191.88888888888889)",
             "rgb(217.66666666666666, 232.55555555555554, 214.44444444444446)",
             "rgb(217.66666666666666, 232.55555555555554, 214.44444444444446)",
             "rgb(217.66666666666666, 232.55555555555554, 214.44444444444446)",
             "rgb(217.66666666666666, 232.55555555555554, 214.44444444444446)",
             "rgb(217.66666666666666, 232.55555555555554, 214.44444444444446)",
             "rgb(217.66666666666666, 232.55555555555554, 214.44444444444446)",
             "rgb(217.66666666666666, 232.55555555555554, 214.44444444444446)"
            ],
            [
             "rgb(177.0, 205.66666666666666, 169.33333333333331)",
             "rgb(177.0, 205.66666666666666, 169.33333333333331)",
             "rgb(197.33333333333334, 219.11111111111111, 191.88888888888889)",
             "rgb(197.33333333333334, 219.11111111111111, 191.88888888888889)",
             "rgb(197.33333333333334, 219.11111111111111, 191.88888888888889)",
             "rgb(217.66666666666666, 232.55555555555554, 214.44444444444446)",
             "rgb(217.66666666666666, 232.55555555555554, 214.44444444444446)",
             "rgb(217.66666666666666, 232.55555555555554, 214.44444444444446)",
             "rgb(217.66666666666666, 232.55555555555554, 214.44444444444446)",
             "rgb(217.66666666666666, 232.55555555555554, 214.44444444444446)"
            ],
            [
             "rgb(177.0, 205.66666666666666, 169.33333333333331)",
             "rgb(177.0, 205.66666666666666, 169.33333333333331)",
             "rgb(197.33333333333334, 219.11111111111111, 191.88888888888889)",
             "rgb(197.33333333333334, 219.11111111111111, 191.88888888888889)",
             "rgb(197.33333333333334, 219.11111111111111, 191.88888888888889)",
             "rgb(197.33333333333334, 219.11111111111111, 191.88888888888889)",
             "rgb(217.66666666666666, 232.55555555555554, 214.44444444444446)",
             "rgb(217.66666666666666, 232.55555555555554, 214.44444444444446)",
             "rgb(217.66666666666666, 232.55555555555554, 214.44444444444446)",
             "rgb(217.66666666666666, 232.55555555555554, 214.44444444444446)"
            ],
            [
             "rgb(197.33333333333334, 219.11111111111111, 191.88888888888889)",
             "rgb(197.33333333333334, 219.11111111111111, 191.88888888888889)",
             "rgb(197.33333333333334, 219.11111111111111, 191.88888888888889)",
             "rgb(197.33333333333334, 219.11111111111111, 191.88888888888889)",
             "rgb(217.66666666666666, 232.55555555555554, 214.44444444444446)",
             "rgb(217.66666666666666, 232.55555555555554, 214.44444444444446)",
             "rgb(217.66666666666666, 232.55555555555554, 214.44444444444446)",
             "rgb(217.66666666666666, 232.55555555555554, 214.44444444444446)",
             "rgb(217.66666666666666, 232.55555555555554, 214.44444444444446)",
             "rgb(217.66666666666666, 232.55555555555554, 214.44444444444446)"
            ],
            [
             "rgb(197.33333333333334, 219.11111111111111, 191.88888888888889)",
             "rgb(217.66666666666666, 232.55555555555554, 214.44444444444446)",
             "rgb(217.66666666666666, 232.55555555555554, 214.44444444444446)",
             "rgb(217.66666666666666, 232.55555555555554, 214.44444444444446)",
             "rgb(217.66666666666666, 232.55555555555554, 214.44444444444446)",
             "rgb(217.66666666666666, 232.55555555555554, 214.44444444444446)",
             "rgb(217.66666666666666, 232.55555555555554, 214.44444444444446)",
             "rgb(217.66666666666666, 232.55555555555554, 214.44444444444446)",
             "rgb(217.66666666666666, 232.55555555555554, 214.44444444444446)",
             "rgb(217.66666666666666, 232.55555555555554, 214.44444444444446)"
            ],
            [
             "rgb(177.0, 205.66666666666666, 169.33333333333331)",
             "rgb(177.0, 205.66666666666666, 169.33333333333331)",
             "rgb(177.0, 205.66666666666666, 169.33333333333331)",
             "rgb(197.33333333333334, 219.11111111111111, 191.88888888888889)",
             "rgb(217.66666666666666, 232.55555555555554, 214.44444444444446)",
             "rgb(217.66666666666666, 232.55555555555554, 214.44444444444446)",
             "rgb(217.66666666666666, 232.55555555555554, 214.44444444444446)",
             "rgb(217.66666666666666, 232.55555555555554, 214.44444444444446)",
             "rgb(217.66666666666666, 232.55555555555554, 214.44444444444446)",
             "rgb(217.66666666666666, 232.55555555555554, 214.44444444444446)"
            ]
           ]
          },
          "values": [
           [
            "model",
            "task",
            "learning",
            "deep",
            "learn",
            "network",
            "neural",
            "image",
            "train",
            "method"
           ],
           [
            "datum",
            "algorithm",
            "learning",
            "learn",
            "problem",
            "sample",
            "method",
            "set",
            "training",
            "class"
           ],
           [
            "information",
            "university",
            "brain",
            "analysis",
            "datum",
            "memory",
            "structure",
            "department",
            "neural",
            "e"
           ],
           [
            "model",
            "distribution",
            "datum",
            "gaussian",
            "kernel",
            "gan",
            "generative",
            "process",
            "university",
            "variable"
           ],
           [
            "network",
            "neural",
            "input",
            "learn",
            "unit",
            "output",
            "model",
            "training",
            "weight",
            "state"
           ],
           [
            "neuron",
            "network",
            "model",
            "neural",
            "system",
            "time",
            "cell",
            "t",
            "pattern",
            "signal"
           ],
           [
            "x",
            "n",
            "function",
            "problem",
            "algorithm",
            "k",
            "method",
            "matrix",
            "t",
            "optimization"
           ],
           [
            "algorithm",
            "problem",
            "learning",
            "policy",
            "reinforcement",
            "function",
            "state",
            "agent",
            "learn",
            "action"
           ],
           [
            "datum",
            "problem",
            "cluster",
            "network",
            "user",
            "algorithm",
            "graph",
            "clustering",
            "node",
            "model"
           ],
           [
            "object",
            "image",
            "visual",
            "system",
            "d",
            "recognition",
            "motion",
            "information",
            "human",
            "representation"
           ]
          ]
         },
         "header": {
          "fill": {
           "color": "rgb(220, 220, 220)"
          },
          "values": [
           "Topic 00",
           "Topic 01",
           "Topic 02",
           "Topic 03",
           "Topic 04",
           "Topic 05",
           "Topic 06",
           "Topic 07",
           "Topic 08",
           "Topic 09"
          ]
         },
         "type": "table"
        }
       ],
       "layout": {
        "template": {
         "data": {
          "bar": [
           {
            "error_x": {
             "color": "#2a3f5f"
            },
            "error_y": {
             "color": "#2a3f5f"
            },
            "marker": {
             "line": {
              "color": "#E5ECF6",
              "width": 0.5
             },
             "pattern": {
              "fillmode": "overlay",
              "size": 10,
              "solidity": 0.2
             }
            },
            "type": "bar"
           }
          ],
          "barpolar": [
           {
            "marker": {
             "line": {
              "color": "#E5ECF6",
              "width": 0.5
             },
             "pattern": {
              "fillmode": "overlay",
              "size": 10,
              "solidity": 0.2
             }
            },
            "type": "barpolar"
           }
          ],
          "carpet": [
           {
            "aaxis": {
             "endlinecolor": "#2a3f5f",
             "gridcolor": "white",
             "linecolor": "white",
             "minorgridcolor": "white",
             "startlinecolor": "#2a3f5f"
            },
            "baxis": {
             "endlinecolor": "#2a3f5f",
             "gridcolor": "white",
             "linecolor": "white",
             "minorgridcolor": "white",
             "startlinecolor": "#2a3f5f"
            },
            "type": "carpet"
           }
          ],
          "choropleth": [
           {
            "colorbar": {
             "outlinewidth": 0,
             "ticks": ""
            },
            "type": "choropleth"
           }
          ],
          "contour": [
           {
            "colorbar": {
             "outlinewidth": 0,
             "ticks": ""
            },
            "colorscale": [
             [
              0,
              "#0d0887"
             ],
             [
              0.1111111111111111,
              "#46039f"
             ],
             [
              0.2222222222222222,
              "#7201a8"
             ],
             [
              0.3333333333333333,
              "#9c179e"
             ],
             [
              0.4444444444444444,
              "#bd3786"
             ],
             [
              0.5555555555555556,
              "#d8576b"
             ],
             [
              0.6666666666666666,
              "#ed7953"
             ],
             [
              0.7777777777777778,
              "#fb9f3a"
             ],
             [
              0.8888888888888888,
              "#fdca26"
             ],
             [
              1,
              "#f0f921"
             ]
            ],
            "type": "contour"
           }
          ],
          "contourcarpet": [
           {
            "colorbar": {
             "outlinewidth": 0,
             "ticks": ""
            },
            "type": "contourcarpet"
           }
          ],
          "heatmap": [
           {
            "colorbar": {
             "outlinewidth": 0,
             "ticks": ""
            },
            "colorscale": [
             [
              0,
              "#0d0887"
             ],
             [
              0.1111111111111111,
              "#46039f"
             ],
             [
              0.2222222222222222,
              "#7201a8"
             ],
             [
              0.3333333333333333,
              "#9c179e"
             ],
             [
              0.4444444444444444,
              "#bd3786"
             ],
             [
              0.5555555555555556,
              "#d8576b"
             ],
             [
              0.6666666666666666,
              "#ed7953"
             ],
             [
              0.7777777777777778,
              "#fb9f3a"
             ],
             [
              0.8888888888888888,
              "#fdca26"
             ],
             [
              1,
              "#f0f921"
             ]
            ],
            "type": "heatmap"
           }
          ],
          "heatmapgl": [
           {
            "colorbar": {
             "outlinewidth": 0,
             "ticks": ""
            },
            "colorscale": [
             [
              0,
              "#0d0887"
             ],
             [
              0.1111111111111111,
              "#46039f"
             ],
             [
              0.2222222222222222,
              "#7201a8"
             ],
             [
              0.3333333333333333,
              "#9c179e"
             ],
             [
              0.4444444444444444,
              "#bd3786"
             ],
             [
              0.5555555555555556,
              "#d8576b"
             ],
             [
              0.6666666666666666,
              "#ed7953"
             ],
             [
              0.7777777777777778,
              "#fb9f3a"
             ],
             [
              0.8888888888888888,
              "#fdca26"
             ],
             [
              1,
              "#f0f921"
             ]
            ],
            "type": "heatmapgl"
           }
          ],
          "histogram": [
           {
            "marker": {
             "pattern": {
              "fillmode": "overlay",
              "size": 10,
              "solidity": 0.2
             }
            },
            "type": "histogram"
           }
          ],
          "histogram2d": [
           {
            "colorbar": {
             "outlinewidth": 0,
             "ticks": ""
            },
            "colorscale": [
             [
              0,
              "#0d0887"
             ],
             [
              0.1111111111111111,
              "#46039f"
             ],
             [
              0.2222222222222222,
              "#7201a8"
             ],
             [
              0.3333333333333333,
              "#9c179e"
             ],
             [
              0.4444444444444444,
              "#bd3786"
             ],
             [
              0.5555555555555556,
              "#d8576b"
             ],
             [
              0.6666666666666666,
              "#ed7953"
             ],
             [
              0.7777777777777778,
              "#fb9f3a"
             ],
             [
              0.8888888888888888,
              "#fdca26"
             ],
             [
              1,
              "#f0f921"
             ]
            ],
            "type": "histogram2d"
           }
          ],
          "histogram2dcontour": [
           {
            "colorbar": {
             "outlinewidth": 0,
             "ticks": ""
            },
            "colorscale": [
             [
              0,
              "#0d0887"
             ],
             [
              0.1111111111111111,
              "#46039f"
             ],
             [
              0.2222222222222222,
              "#7201a8"
             ],
             [
              0.3333333333333333,
              "#9c179e"
             ],
             [
              0.4444444444444444,
              "#bd3786"
             ],
             [
              0.5555555555555556,
              "#d8576b"
             ],
             [
              0.6666666666666666,
              "#ed7953"
             ],
             [
              0.7777777777777778,
              "#fb9f3a"
             ],
             [
              0.8888888888888888,
              "#fdca26"
             ],
             [
              1,
              "#f0f921"
             ]
            ],
            "type": "histogram2dcontour"
           }
          ],
          "mesh3d": [
           {
            "colorbar": {
             "outlinewidth": 0,
             "ticks": ""
            },
            "type": "mesh3d"
           }
          ],
          "parcoords": [
           {
            "line": {
             "colorbar": {
              "outlinewidth": 0,
              "ticks": ""
             }
            },
            "type": "parcoords"
           }
          ],
          "pie": [
           {
            "automargin": true,
            "type": "pie"
           }
          ],
          "scatter": [
           {
            "marker": {
             "colorbar": {
              "outlinewidth": 0,
              "ticks": ""
             }
            },
            "type": "scatter"
           }
          ],
          "scatter3d": [
           {
            "line": {
             "colorbar": {
              "outlinewidth": 0,
              "ticks": ""
             }
            },
            "marker": {
             "colorbar": {
              "outlinewidth": 0,
              "ticks": ""
             }
            },
            "type": "scatter3d"
           }
          ],
          "scattercarpet": [
           {
            "marker": {
             "colorbar": {
              "outlinewidth": 0,
              "ticks": ""
             }
            },
            "type": "scattercarpet"
           }
          ],
          "scattergeo": [
           {
            "marker": {
             "colorbar": {
              "outlinewidth": 0,
              "ticks": ""
             }
            },
            "type": "scattergeo"
           }
          ],
          "scattergl": [
           {
            "marker": {
             "colorbar": {
              "outlinewidth": 0,
              "ticks": ""
             }
            },
            "type": "scattergl"
           }
          ],
          "scattermapbox": [
           {
            "marker": {
             "colorbar": {
              "outlinewidth": 0,
              "ticks": ""
             }
            },
            "type": "scattermapbox"
           }
          ],
          "scatterpolar": [
           {
            "marker": {
             "colorbar": {
              "outlinewidth": 0,
              "ticks": ""
             }
            },
            "type": "scatterpolar"
           }
          ],
          "scatterpolargl": [
           {
            "marker": {
             "colorbar": {
              "outlinewidth": 0,
              "ticks": ""
             }
            },
            "type": "scatterpolargl"
           }
          ],
          "scatterternary": [
           {
            "marker": {
             "colorbar": {
              "outlinewidth": 0,
              "ticks": ""
             }
            },
            "type": "scatterternary"
           }
          ],
          "surface": [
           {
            "colorbar": {
             "outlinewidth": 0,
             "ticks": ""
            },
            "colorscale": [
             [
              0,
              "#0d0887"
             ],
             [
              0.1111111111111111,
              "#46039f"
             ],
             [
              0.2222222222222222,
              "#7201a8"
             ],
             [
              0.3333333333333333,
              "#9c179e"
             ],
             [
              0.4444444444444444,
              "#bd3786"
             ],
             [
              0.5555555555555556,
              "#d8576b"
             ],
             [
              0.6666666666666666,
              "#ed7953"
             ],
             [
              0.7777777777777778,
              "#fb9f3a"
             ],
             [
              0.8888888888888888,
              "#fdca26"
             ],
             [
              1,
              "#f0f921"
             ]
            ],
            "type": "surface"
           }
          ],
          "table": [
           {
            "cells": {
             "fill": {
              "color": "#EBF0F8"
             },
             "line": {
              "color": "white"
             }
            },
            "header": {
             "fill": {
              "color": "#C8D4E3"
             },
             "line": {
              "color": "white"
             }
            },
            "type": "table"
           }
          ]
         },
         "layout": {
          "annotationdefaults": {
           "arrowcolor": "#2a3f5f",
           "arrowhead": 0,
           "arrowwidth": 1
          },
          "autotypenumbers": "strict",
          "coloraxis": {
           "colorbar": {
            "outlinewidth": 0,
            "ticks": ""
           }
          },
          "colorscale": {
           "diverging": [
            [
             0,
             "#8e0152"
            ],
            [
             0.1,
             "#c51b7d"
            ],
            [
             0.2,
             "#de77ae"
            ],
            [
             0.3,
             "#f1b6da"
            ],
            [
             0.4,
             "#fde0ef"
            ],
            [
             0.5,
             "#f7f7f7"
            ],
            [
             0.6,
             "#e6f5d0"
            ],
            [
             0.7,
             "#b8e186"
            ],
            [
             0.8,
             "#7fbc41"
            ],
            [
             0.9,
             "#4d9221"
            ],
            [
             1,
             "#276419"
            ]
           ],
           "sequential": [
            [
             0,
             "#0d0887"
            ],
            [
             0.1111111111111111,
             "#46039f"
            ],
            [
             0.2222222222222222,
             "#7201a8"
            ],
            [
             0.3333333333333333,
             "#9c179e"
            ],
            [
             0.4444444444444444,
             "#bd3786"
            ],
            [
             0.5555555555555556,
             "#d8576b"
            ],
            [
             0.6666666666666666,
             "#ed7953"
            ],
            [
             0.7777777777777778,
             "#fb9f3a"
            ],
            [
             0.8888888888888888,
             "#fdca26"
            ],
            [
             1,
             "#f0f921"
            ]
           ],
           "sequentialminus": [
            [
             0,
             "#0d0887"
            ],
            [
             0.1111111111111111,
             "#46039f"
            ],
            [
             0.2222222222222222,
             "#7201a8"
            ],
            [
             0.3333333333333333,
             "#9c179e"
            ],
            [
             0.4444444444444444,
             "#bd3786"
            ],
            [
             0.5555555555555556,
             "#d8576b"
            ],
            [
             0.6666666666666666,
             "#ed7953"
            ],
            [
             0.7777777777777778,
             "#fb9f3a"
            ],
            [
             0.8888888888888888,
             "#fdca26"
            ],
            [
             1,
             "#f0f921"
            ]
           ]
          },
          "colorway": [
           "#636efa",
           "#EF553B",
           "#00cc96",
           "#ab63fa",
           "#FFA15A",
           "#19d3f3",
           "#FF6692",
           "#B6E880",
           "#FF97FF",
           "#FECB52"
          ],
          "font": {
           "color": "#2a3f5f"
          },
          "geo": {
           "bgcolor": "white",
           "lakecolor": "white",
           "landcolor": "#E5ECF6",
           "showlakes": true,
           "showland": true,
           "subunitcolor": "white"
          },
          "hoverlabel": {
           "align": "left"
          },
          "hovermode": "closest",
          "mapbox": {
           "style": "light"
          },
          "paper_bgcolor": "white",
          "plot_bgcolor": "#E5ECF6",
          "polar": {
           "angularaxis": {
            "gridcolor": "white",
            "linecolor": "white",
            "ticks": ""
           },
           "bgcolor": "#E5ECF6",
           "radialaxis": {
            "gridcolor": "white",
            "linecolor": "white",
            "ticks": ""
           }
          },
          "scene": {
           "xaxis": {
            "backgroundcolor": "#E5ECF6",
            "gridcolor": "white",
            "gridwidth": 2,
            "linecolor": "white",
            "showbackground": true,
            "ticks": "",
            "zerolinecolor": "white"
           },
           "yaxis": {
            "backgroundcolor": "#E5ECF6",
            "gridcolor": "white",
            "gridwidth": 2,
            "linecolor": "white",
            "showbackground": true,
            "ticks": "",
            "zerolinecolor": "white"
           },
           "zaxis": {
            "backgroundcolor": "#E5ECF6",
            "gridcolor": "white",
            "gridwidth": 2,
            "linecolor": "white",
            "showbackground": true,
            "ticks": "",
            "zerolinecolor": "white"
           }
          },
          "shapedefaults": {
           "line": {
            "color": "#2a3f5f"
           }
          },
          "ternary": {
           "aaxis": {
            "gridcolor": "white",
            "linecolor": "white",
            "ticks": ""
           },
           "baxis": {
            "gridcolor": "white",
            "linecolor": "white",
            "ticks": ""
           },
           "bgcolor": "#E5ECF6",
           "caxis": {
            "gridcolor": "white",
            "linecolor": "white",
            "ticks": ""
           }
          },
          "title": {
           "x": 0.05
          },
          "xaxis": {
           "automargin": true,
           "gridcolor": "white",
           "linecolor": "white",
           "ticks": "",
           "title": {
            "standoff": 15
           },
           "zerolinecolor": "white",
           "zerolinewidth": 2
          },
          "yaxis": {
           "automargin": true,
           "gridcolor": "white",
           "linecolor": "white",
           "ticks": "",
           "title": {
            "standoff": 15
           },
           "zerolinecolor": "white",
           "zerolinewidth": 2
          }
         }
        },
        "title": {
         "text": "Top words for the 10 topics"
        },
        "width": 1350
       }
      }
     },
     "metadata": {},
     "output_type": "display_data"
    },
    {
     "name": "stdout",
     "output_type": "stream",
     "text": [
      "Iter [100]===\n",
      "Topic 0: ['model', 'deep', 'task', 'learning', 'network', 'learn', 'image', 'neural', 'train', 'representation']\n",
      "Topic 1: ['datum', 'learning', 'algorithm', 'problem', 'learn', 'sample', 'method', 'training', 'function', 'label']\n",
      "Topic 2: ['university', 'brain', 'neural', 'information', 'structure', 'department', 'method', 'analysis', 'datum', 'approach']\n",
      "Topic 3: ['model', 'distribution', 'inference', 'datum', 'gaussian', 'variable', 'process', 'gan', 'sample', 'generative']\n",
      "Topic 4: ['network', 'neural', 'input', 'output', 'learn', 'unit', 'weight', 'training', 'system', 'error']\n",
      "Topic 5: ['neuron', 'network', 'neural', 'model', 'system', 'cell', 'time', 'dynamic', 'analog', 'activity']\n",
      "Topic 6: ['x', 'problem', 'n', 'algorithm', 'function', 'k', 't', 'gradient', 'optimization', 'matrix']\n",
      "Topic 7: ['learning', 'algorithm', 'problem', 'policy', 'reinforcement', 'learn', 'agent', 'function', 'action', 'state']\n",
      "Topic 8: ['datum', 'graph', 'cluster', 'node', 'algorithm', 'user', 'edu', 'clustering', 'network', 'problem']\n",
      "Topic 9: ['object', 'visual', 'image', 'system', 'd', 'model', 'problem', 'information', 'map', 'motion']\n"
     ]
    },
    {
     "data": {
      "application/vnd.plotly.v1+json": {
       "config": {
        "plotlyServerURL": "https://plot.ly"
       },
       "data": [
        {
         "cells": {
          "fill": {
           "color": [
            [
             "rgb(177.0, 205.66666666666666, 169.33333333333331)",
             "rgb(177.0, 205.66666666666666, 169.33333333333331)",
             "rgb(177.0, 205.66666666666666, 169.33333333333331)",
             "rgb(197.33333333333334, 219.11111111111111, 191.88888888888889)",
             "rgb(197.33333333333334, 219.11111111111111, 191.88888888888889)",
             "rgb(197.33333333333334, 219.11111111111111, 191.88888888888889)",
             "rgb(197.33333333333334, 219.11111111111111, 191.88888888888889)",
             "rgb(197.33333333333334, 219.11111111111111, 191.88888888888889)",
             "rgb(217.66666666666666, 232.55555555555554, 214.44444444444446)",
             "rgb(217.66666666666666, 232.55555555555554, 214.44444444444446)"
            ],
            [
             "rgb(177.0, 205.66666666666666, 169.33333333333331)",
             "rgb(197.33333333333334, 219.11111111111111, 191.88888888888889)",
             "rgb(197.33333333333334, 219.11111111111111, 191.88888888888889)",
             "rgb(197.33333333333334, 219.11111111111111, 191.88888888888889)",
             "rgb(217.66666666666666, 232.55555555555554, 214.44444444444446)",
             "rgb(217.66666666666666, 232.55555555555554, 214.44444444444446)",
             "rgb(217.66666666666666, 232.55555555555554, 214.44444444444446)",
             "rgb(217.66666666666666, 232.55555555555554, 214.44444444444446)",
             "rgb(217.66666666666666, 232.55555555555554, 214.44444444444446)",
             "rgb(217.66666666666666, 232.55555555555554, 214.44444444444446)"
            ],
            [
             "rgb(197.33333333333334, 219.11111111111111, 191.88888888888889)",
             "rgb(197.33333333333334, 219.11111111111111, 191.88888888888889)",
             "rgb(217.66666666666666, 232.55555555555554, 214.44444444444446)",
             "rgb(217.66666666666666, 232.55555555555554, 214.44444444444446)",
             "rgb(217.66666666666666, 232.55555555555554, 214.44444444444446)",
             "rgb(217.66666666666666, 232.55555555555554, 214.44444444444446)",
             "rgb(217.66666666666666, 232.55555555555554, 214.44444444444446)",
             "rgb(217.66666666666666, 232.55555555555554, 214.44444444444446)",
             "rgb(217.66666666666666, 232.55555555555554, 214.44444444444446)",
             "rgb(217.66666666666666, 232.55555555555554, 214.44444444444446)"
            ],
            [
             "rgb(75.33333333333334, 138.44444444444446, 56.55555555555554)",
             "rgb(156.66666666666669, 192.22222222222223, 146.77777777777777)",
             "rgb(197.33333333333334, 219.11111111111111, 191.88888888888889)",
             "rgb(197.33333333333334, 219.11111111111111, 191.88888888888889)",
             "rgb(217.66666666666666, 232.55555555555554, 214.44444444444446)",
             "rgb(217.66666666666666, 232.55555555555554, 214.44444444444446)",
             "rgb(217.66666666666666, 232.55555555555554, 214.44444444444446)",
             "rgb(217.66666666666666, 232.55555555555554, 214.44444444444446)",
             "rgb(217.66666666666666, 232.55555555555554, 214.44444444444446)",
             "rgb(217.66666666666666, 232.55555555555554, 214.44444444444446)"
            ],
            [
             "rgb(95.66666666666669, 151.88888888888889, 79.11111111111109)",
             "rgb(177.0, 205.66666666666666, 169.33333333333331)",
             "rgb(197.33333333333334, 219.11111111111111, 191.88888888888889)",
             "rgb(217.66666666666666, 232.55555555555554, 214.44444444444446)",
             "rgb(217.66666666666666, 232.55555555555554, 214.44444444444446)",
             "rgb(217.66666666666666, 232.55555555555554, 214.44444444444446)",
             "rgb(217.66666666666666, 232.55555555555554, 214.44444444444446)",
             "rgb(217.66666666666666, 232.55555555555554, 214.44444444444446)",
             "rgb(217.66666666666666, 232.55555555555554, 214.44444444444446)",
             "rgb(217.66666666666666, 232.55555555555554, 214.44444444444446)"
            ],
            [
             "rgb(177.0, 205.66666666666666, 169.33333333333331)",
             "rgb(197.33333333333334, 219.11111111111111, 191.88888888888889)",
             "rgb(197.33333333333334, 219.11111111111111, 191.88888888888889)",
             "rgb(197.33333333333334, 219.11111111111111, 191.88888888888889)",
             "rgb(197.33333333333334, 219.11111111111111, 191.88888888888889)",
             "rgb(217.66666666666666, 232.55555555555554, 214.44444444444446)",
             "rgb(217.66666666666666, 232.55555555555554, 214.44444444444446)",
             "rgb(217.66666666666666, 232.55555555555554, 214.44444444444446)",
             "rgb(217.66666666666666, 232.55555555555554, 214.44444444444446)",
             "rgb(238.0, 246.0, 237.0)"
            ],
            [
             "rgb(177.0, 205.66666666666666, 169.33333333333331)",
             "rgb(177.0, 205.66666666666666, 169.33333333333331)",
             "rgb(197.33333333333334, 219.11111111111111, 191.88888888888889)",
             "rgb(197.33333333333334, 219.11111111111111, 191.88888888888889)",
             "rgb(197.33333333333334, 219.11111111111111, 191.88888888888889)",
             "rgb(197.33333333333334, 219.11111111111111, 191.88888888888889)",
             "rgb(197.33333333333334, 219.11111111111111, 191.88888888888889)",
             "rgb(217.66666666666666, 232.55555555555554, 214.44444444444446)",
             "rgb(217.66666666666666, 232.55555555555554, 214.44444444444446)",
             "rgb(217.66666666666666, 232.55555555555554, 214.44444444444446)"
            ],
            [
             "rgb(197.33333333333334, 219.11111111111111, 191.88888888888889)",
             "rgb(197.33333333333334, 219.11111111111111, 191.88888888888889)",
             "rgb(197.33333333333334, 219.11111111111111, 191.88888888888889)",
             "rgb(197.33333333333334, 219.11111111111111, 191.88888888888889)",
             "rgb(197.33333333333334, 219.11111111111111, 191.88888888888889)",
             "rgb(217.66666666666666, 232.55555555555554, 214.44444444444446)",
             "rgb(217.66666666666666, 232.55555555555554, 214.44444444444446)",
             "rgb(217.66666666666666, 232.55555555555554, 214.44444444444446)",
             "rgb(217.66666666666666, 232.55555555555554, 214.44444444444446)",
             "rgb(217.66666666666666, 232.55555555555554, 214.44444444444446)"
            ],
            [
             "rgb(177.0, 205.66666666666666, 169.33333333333331)",
             "rgb(197.33333333333334, 219.11111111111111, 191.88888888888889)",
             "rgb(217.66666666666666, 232.55555555555554, 214.44444444444446)",
             "rgb(217.66666666666666, 232.55555555555554, 214.44444444444446)",
             "rgb(217.66666666666666, 232.55555555555554, 214.44444444444446)",
             "rgb(217.66666666666666, 232.55555555555554, 214.44444444444446)",
             "rgb(217.66666666666666, 232.55555555555554, 214.44444444444446)",
             "rgb(217.66666666666666, 232.55555555555554, 214.44444444444446)",
             "rgb(217.66666666666666, 232.55555555555554, 214.44444444444446)",
             "rgb(217.66666666666666, 232.55555555555554, 214.44444444444446)"
            ],
            [
             "rgb(177.0, 205.66666666666666, 169.33333333333331)",
             "rgb(197.33333333333334, 219.11111111111111, 191.88888888888889)",
             "rgb(197.33333333333334, 219.11111111111111, 191.88888888888889)",
             "rgb(197.33333333333334, 219.11111111111111, 191.88888888888889)",
             "rgb(217.66666666666666, 232.55555555555554, 214.44444444444446)",
             "rgb(217.66666666666666, 232.55555555555554, 214.44444444444446)",
             "rgb(217.66666666666666, 232.55555555555554, 214.44444444444446)",
             "rgb(217.66666666666666, 232.55555555555554, 214.44444444444446)",
             "rgb(217.66666666666666, 232.55555555555554, 214.44444444444446)",
             "rgb(217.66666666666666, 232.55555555555554, 214.44444444444446)"
            ]
           ]
          },
          "values": [
           [
            "model",
            "deep",
            "task",
            "learning",
            "network",
            "learn",
            "image",
            "neural",
            "train",
            "representation"
           ],
           [
            "datum",
            "learning",
            "algorithm",
            "problem",
            "learn",
            "sample",
            "method",
            "training",
            "function",
            "label"
           ],
           [
            "university",
            "brain",
            "neural",
            "information",
            "structure",
            "department",
            "method",
            "analysis",
            "datum",
            "approach"
           ],
           [
            "model",
            "distribution",
            "inference",
            "datum",
            "gaussian",
            "variable",
            "process",
            "gan",
            "sample",
            "generative"
           ],
           [
            "network",
            "neural",
            "input",
            "output",
            "learn",
            "unit",
            "weight",
            "training",
            "system",
            "error"
           ],
           [
            "neuron",
            "network",
            "neural",
            "model",
            "system",
            "cell",
            "time",
            "dynamic",
            "analog",
            "activity"
           ],
           [
            "x",
            "problem",
            "n",
            "algorithm",
            "function",
            "k",
            "t",
            "gradient",
            "optimization",
            "matrix"
           ],
           [
            "learning",
            "algorithm",
            "problem",
            "policy",
            "reinforcement",
            "learn",
            "agent",
            "function",
            "action",
            "state"
           ],
           [
            "datum",
            "graph",
            "cluster",
            "node",
            "algorithm",
            "user",
            "edu",
            "clustering",
            "network",
            "problem"
           ],
           [
            "object",
            "visual",
            "image",
            "system",
            "d",
            "model",
            "problem",
            "information",
            "map",
            "motion"
           ]
          ]
         },
         "header": {
          "fill": {
           "color": "rgb(220, 220, 220)"
          },
          "values": [
           "Topic 00",
           "Topic 01",
           "Topic 02",
           "Topic 03",
           "Topic 04",
           "Topic 05",
           "Topic 06",
           "Topic 07",
           "Topic 08",
           "Topic 09"
          ]
         },
         "type": "table"
        }
       ],
       "layout": {
        "template": {
         "data": {
          "bar": [
           {
            "error_x": {
             "color": "#2a3f5f"
            },
            "error_y": {
             "color": "#2a3f5f"
            },
            "marker": {
             "line": {
              "color": "#E5ECF6",
              "width": 0.5
             },
             "pattern": {
              "fillmode": "overlay",
              "size": 10,
              "solidity": 0.2
             }
            },
            "type": "bar"
           }
          ],
          "barpolar": [
           {
            "marker": {
             "line": {
              "color": "#E5ECF6",
              "width": 0.5
             },
             "pattern": {
              "fillmode": "overlay",
              "size": 10,
              "solidity": 0.2
             }
            },
            "type": "barpolar"
           }
          ],
          "carpet": [
           {
            "aaxis": {
             "endlinecolor": "#2a3f5f",
             "gridcolor": "white",
             "linecolor": "white",
             "minorgridcolor": "white",
             "startlinecolor": "#2a3f5f"
            },
            "baxis": {
             "endlinecolor": "#2a3f5f",
             "gridcolor": "white",
             "linecolor": "white",
             "minorgridcolor": "white",
             "startlinecolor": "#2a3f5f"
            },
            "type": "carpet"
           }
          ],
          "choropleth": [
           {
            "colorbar": {
             "outlinewidth": 0,
             "ticks": ""
            },
            "type": "choropleth"
           }
          ],
          "contour": [
           {
            "colorbar": {
             "outlinewidth": 0,
             "ticks": ""
            },
            "colorscale": [
             [
              0,
              "#0d0887"
             ],
             [
              0.1111111111111111,
              "#46039f"
             ],
             [
              0.2222222222222222,
              "#7201a8"
             ],
             [
              0.3333333333333333,
              "#9c179e"
             ],
             [
              0.4444444444444444,
              "#bd3786"
             ],
             [
              0.5555555555555556,
              "#d8576b"
             ],
             [
              0.6666666666666666,
              "#ed7953"
             ],
             [
              0.7777777777777778,
              "#fb9f3a"
             ],
             [
              0.8888888888888888,
              "#fdca26"
             ],
             [
              1,
              "#f0f921"
             ]
            ],
            "type": "contour"
           }
          ],
          "contourcarpet": [
           {
            "colorbar": {
             "outlinewidth": 0,
             "ticks": ""
            },
            "type": "contourcarpet"
           }
          ],
          "heatmap": [
           {
            "colorbar": {
             "outlinewidth": 0,
             "ticks": ""
            },
            "colorscale": [
             [
              0,
              "#0d0887"
             ],
             [
              0.1111111111111111,
              "#46039f"
             ],
             [
              0.2222222222222222,
              "#7201a8"
             ],
             [
              0.3333333333333333,
              "#9c179e"
             ],
             [
              0.4444444444444444,
              "#bd3786"
             ],
             [
              0.5555555555555556,
              "#d8576b"
             ],
             [
              0.6666666666666666,
              "#ed7953"
             ],
             [
              0.7777777777777778,
              "#fb9f3a"
             ],
             [
              0.8888888888888888,
              "#fdca26"
             ],
             [
              1,
              "#f0f921"
             ]
            ],
            "type": "heatmap"
           }
          ],
          "heatmapgl": [
           {
            "colorbar": {
             "outlinewidth": 0,
             "ticks": ""
            },
            "colorscale": [
             [
              0,
              "#0d0887"
             ],
             [
              0.1111111111111111,
              "#46039f"
             ],
             [
              0.2222222222222222,
              "#7201a8"
             ],
             [
              0.3333333333333333,
              "#9c179e"
             ],
             [
              0.4444444444444444,
              "#bd3786"
             ],
             [
              0.5555555555555556,
              "#d8576b"
             ],
             [
              0.6666666666666666,
              "#ed7953"
             ],
             [
              0.7777777777777778,
              "#fb9f3a"
             ],
             [
              0.8888888888888888,
              "#fdca26"
             ],
             [
              1,
              "#f0f921"
             ]
            ],
            "type": "heatmapgl"
           }
          ],
          "histogram": [
           {
            "marker": {
             "pattern": {
              "fillmode": "overlay",
              "size": 10,
              "solidity": 0.2
             }
            },
            "type": "histogram"
           }
          ],
          "histogram2d": [
           {
            "colorbar": {
             "outlinewidth": 0,
             "ticks": ""
            },
            "colorscale": [
             [
              0,
              "#0d0887"
             ],
             [
              0.1111111111111111,
              "#46039f"
             ],
             [
              0.2222222222222222,
              "#7201a8"
             ],
             [
              0.3333333333333333,
              "#9c179e"
             ],
             [
              0.4444444444444444,
              "#bd3786"
             ],
             [
              0.5555555555555556,
              "#d8576b"
             ],
             [
              0.6666666666666666,
              "#ed7953"
             ],
             [
              0.7777777777777778,
              "#fb9f3a"
             ],
             [
              0.8888888888888888,
              "#fdca26"
             ],
             [
              1,
              "#f0f921"
             ]
            ],
            "type": "histogram2d"
           }
          ],
          "histogram2dcontour": [
           {
            "colorbar": {
             "outlinewidth": 0,
             "ticks": ""
            },
            "colorscale": [
             [
              0,
              "#0d0887"
             ],
             [
              0.1111111111111111,
              "#46039f"
             ],
             [
              0.2222222222222222,
              "#7201a8"
             ],
             [
              0.3333333333333333,
              "#9c179e"
             ],
             [
              0.4444444444444444,
              "#bd3786"
             ],
             [
              0.5555555555555556,
              "#d8576b"
             ],
             [
              0.6666666666666666,
              "#ed7953"
             ],
             [
              0.7777777777777778,
              "#fb9f3a"
             ],
             [
              0.8888888888888888,
              "#fdca26"
             ],
             [
              1,
              "#f0f921"
             ]
            ],
            "type": "histogram2dcontour"
           }
          ],
          "mesh3d": [
           {
            "colorbar": {
             "outlinewidth": 0,
             "ticks": ""
            },
            "type": "mesh3d"
           }
          ],
          "parcoords": [
           {
            "line": {
             "colorbar": {
              "outlinewidth": 0,
              "ticks": ""
             }
            },
            "type": "parcoords"
           }
          ],
          "pie": [
           {
            "automargin": true,
            "type": "pie"
           }
          ],
          "scatter": [
           {
            "marker": {
             "colorbar": {
              "outlinewidth": 0,
              "ticks": ""
             }
            },
            "type": "scatter"
           }
          ],
          "scatter3d": [
           {
            "line": {
             "colorbar": {
              "outlinewidth": 0,
              "ticks": ""
             }
            },
            "marker": {
             "colorbar": {
              "outlinewidth": 0,
              "ticks": ""
             }
            },
            "type": "scatter3d"
           }
          ],
          "scattercarpet": [
           {
            "marker": {
             "colorbar": {
              "outlinewidth": 0,
              "ticks": ""
             }
            },
            "type": "scattercarpet"
           }
          ],
          "scattergeo": [
           {
            "marker": {
             "colorbar": {
              "outlinewidth": 0,
              "ticks": ""
             }
            },
            "type": "scattergeo"
           }
          ],
          "scattergl": [
           {
            "marker": {
             "colorbar": {
              "outlinewidth": 0,
              "ticks": ""
             }
            },
            "type": "scattergl"
           }
          ],
          "scattermapbox": [
           {
            "marker": {
             "colorbar": {
              "outlinewidth": 0,
              "ticks": ""
             }
            },
            "type": "scattermapbox"
           }
          ],
          "scatterpolar": [
           {
            "marker": {
             "colorbar": {
              "outlinewidth": 0,
              "ticks": ""
             }
            },
            "type": "scatterpolar"
           }
          ],
          "scatterpolargl": [
           {
            "marker": {
             "colorbar": {
              "outlinewidth": 0,
              "ticks": ""
             }
            },
            "type": "scatterpolargl"
           }
          ],
          "scatterternary": [
           {
            "marker": {
             "colorbar": {
              "outlinewidth": 0,
              "ticks": ""
             }
            },
            "type": "scatterternary"
           }
          ],
          "surface": [
           {
            "colorbar": {
             "outlinewidth": 0,
             "ticks": ""
            },
            "colorscale": [
             [
              0,
              "#0d0887"
             ],
             [
              0.1111111111111111,
              "#46039f"
             ],
             [
              0.2222222222222222,
              "#7201a8"
             ],
             [
              0.3333333333333333,
              "#9c179e"
             ],
             [
              0.4444444444444444,
              "#bd3786"
             ],
             [
              0.5555555555555556,
              "#d8576b"
             ],
             [
              0.6666666666666666,
              "#ed7953"
             ],
             [
              0.7777777777777778,
              "#fb9f3a"
             ],
             [
              0.8888888888888888,
              "#fdca26"
             ],
             [
              1,
              "#f0f921"
             ]
            ],
            "type": "surface"
           }
          ],
          "table": [
           {
            "cells": {
             "fill": {
              "color": "#EBF0F8"
             },
             "line": {
              "color": "white"
             }
            },
            "header": {
             "fill": {
              "color": "#C8D4E3"
             },
             "line": {
              "color": "white"
             }
            },
            "type": "table"
           }
          ]
         },
         "layout": {
          "annotationdefaults": {
           "arrowcolor": "#2a3f5f",
           "arrowhead": 0,
           "arrowwidth": 1
          },
          "autotypenumbers": "strict",
          "coloraxis": {
           "colorbar": {
            "outlinewidth": 0,
            "ticks": ""
           }
          },
          "colorscale": {
           "diverging": [
            [
             0,
             "#8e0152"
            ],
            [
             0.1,
             "#c51b7d"
            ],
            [
             0.2,
             "#de77ae"
            ],
            [
             0.3,
             "#f1b6da"
            ],
            [
             0.4,
             "#fde0ef"
            ],
            [
             0.5,
             "#f7f7f7"
            ],
            [
             0.6,
             "#e6f5d0"
            ],
            [
             0.7,
             "#b8e186"
            ],
            [
             0.8,
             "#7fbc41"
            ],
            [
             0.9,
             "#4d9221"
            ],
            [
             1,
             "#276419"
            ]
           ],
           "sequential": [
            [
             0,
             "#0d0887"
            ],
            [
             0.1111111111111111,
             "#46039f"
            ],
            [
             0.2222222222222222,
             "#7201a8"
            ],
            [
             0.3333333333333333,
             "#9c179e"
            ],
            [
             0.4444444444444444,
             "#bd3786"
            ],
            [
             0.5555555555555556,
             "#d8576b"
            ],
            [
             0.6666666666666666,
             "#ed7953"
            ],
            [
             0.7777777777777778,
             "#fb9f3a"
            ],
            [
             0.8888888888888888,
             "#fdca26"
            ],
            [
             1,
             "#f0f921"
            ]
           ],
           "sequentialminus": [
            [
             0,
             "#0d0887"
            ],
            [
             0.1111111111111111,
             "#46039f"
            ],
            [
             0.2222222222222222,
             "#7201a8"
            ],
            [
             0.3333333333333333,
             "#9c179e"
            ],
            [
             0.4444444444444444,
             "#bd3786"
            ],
            [
             0.5555555555555556,
             "#d8576b"
            ],
            [
             0.6666666666666666,
             "#ed7953"
            ],
            [
             0.7777777777777778,
             "#fb9f3a"
            ],
            [
             0.8888888888888888,
             "#fdca26"
            ],
            [
             1,
             "#f0f921"
            ]
           ]
          },
          "colorway": [
           "#636efa",
           "#EF553B",
           "#00cc96",
           "#ab63fa",
           "#FFA15A",
           "#19d3f3",
           "#FF6692",
           "#B6E880",
           "#FF97FF",
           "#FECB52"
          ],
          "font": {
           "color": "#2a3f5f"
          },
          "geo": {
           "bgcolor": "white",
           "lakecolor": "white",
           "landcolor": "#E5ECF6",
           "showlakes": true,
           "showland": true,
           "subunitcolor": "white"
          },
          "hoverlabel": {
           "align": "left"
          },
          "hovermode": "closest",
          "mapbox": {
           "style": "light"
          },
          "paper_bgcolor": "white",
          "plot_bgcolor": "#E5ECF6",
          "polar": {
           "angularaxis": {
            "gridcolor": "white",
            "linecolor": "white",
            "ticks": ""
           },
           "bgcolor": "#E5ECF6",
           "radialaxis": {
            "gridcolor": "white",
            "linecolor": "white",
            "ticks": ""
           }
          },
          "scene": {
           "xaxis": {
            "backgroundcolor": "#E5ECF6",
            "gridcolor": "white",
            "gridwidth": 2,
            "linecolor": "white",
            "showbackground": true,
            "ticks": "",
            "zerolinecolor": "white"
           },
           "yaxis": {
            "backgroundcolor": "#E5ECF6",
            "gridcolor": "white",
            "gridwidth": 2,
            "linecolor": "white",
            "showbackground": true,
            "ticks": "",
            "zerolinecolor": "white"
           },
           "zaxis": {
            "backgroundcolor": "#E5ECF6",
            "gridcolor": "white",
            "gridwidth": 2,
            "linecolor": "white",
            "showbackground": true,
            "ticks": "",
            "zerolinecolor": "white"
           }
          },
          "shapedefaults": {
           "line": {
            "color": "#2a3f5f"
           }
          },
          "ternary": {
           "aaxis": {
            "gridcolor": "white",
            "linecolor": "white",
            "ticks": ""
           },
           "baxis": {
            "gridcolor": "white",
            "linecolor": "white",
            "ticks": ""
           },
           "bgcolor": "#E5ECF6",
           "caxis": {
            "gridcolor": "white",
            "linecolor": "white",
            "ticks": ""
           }
          },
          "title": {
           "x": 0.05
          },
          "xaxis": {
           "automargin": true,
           "gridcolor": "white",
           "linecolor": "white",
           "ticks": "",
           "title": {
            "standoff": 15
           },
           "zerolinecolor": "white",
           "zerolinewidth": 2
          },
          "yaxis": {
           "automargin": true,
           "gridcolor": "white",
           "linecolor": "white",
           "ticks": "",
           "title": {
            "standoff": 15
           },
           "zerolinecolor": "white",
           "zerolinewidth": 2
          }
         }
        },
        "title": {
         "text": "Top words for the 10 topics"
        },
        "width": 1350
       }
      }
     },
     "metadata": {},
     "output_type": "display_data"
    },
    {
     "name": "stdout",
     "output_type": "stream",
     "text": [
      "Iter [150]===\n",
      "Topic 0: ['network', 'model', 'task', 'deep', 'learning', 'learn', 'neural', 'image', 'datum', 'train']\n",
      "Topic 1: ['datum', 'learning', 'algorithm', 'problem', 'learn', 'sample', 'method', 'set', 'label', 'example']\n",
      "Topic 2: ['university', 'brain', 'neural', 'model', 'information', 'department', 'analysis', 'approach', 'datum', 'correlation']\n",
      "Topic 3: ['model', 'distribution', 'inference', 'gaussian', 'process', 'datum', 'gan', 'sample', 'variable', 'generative']\n",
      "Topic 4: ['network', 'neural', 'input', 'learn', 'output', 'unit', 'weight', 'training', 'function', 'algorithm']\n",
      "Topic 5: ['neuron', 'network', 'neural', 'model', 'system', 'cell', 'time', 'dynamic', 'analog', 'simulation']\n",
      "Topic 6: ['x', 'problem', 'n', 'algorithm', 'function', 't', 'optimization', 'k', 'matrix', 'method']\n",
      "Topic 7: ['learning', 'algorithm', 'policy', 'reinforcement', 'learn', 'problem', 'state', 'agent', 'action', 'game']\n",
      "Topic 8: ['datum', 'graph', 'node', 'cluster', 'algorithm', 'problem', 'clustering', 'user', 'edu', 'item']\n",
      "Topic 9: ['object', 'visual', 'image', 'system', 'model', 'information', 'd', 'recognition', 'map', 'representation']\n"
     ]
    },
    {
     "data": {
      "application/vnd.plotly.v1+json": {
       "config": {
        "plotlyServerURL": "https://plot.ly"
       },
       "data": [
        {
         "cells": {
          "fill": {
           "color": [
            [
             "rgb(177.0, 205.66666666666666, 169.33333333333331)",
             "rgb(177.0, 205.66666666666666, 169.33333333333331)",
             "rgb(177.0, 205.66666666666666, 169.33333333333331)",
             "rgb(177.0, 205.66666666666666, 169.33333333333331)",
             "rgb(197.33333333333334, 219.11111111111111, 191.88888888888889)",
             "rgb(197.33333333333334, 219.11111111111111, 191.88888888888889)",
             "rgb(197.33333333333334, 219.11111111111111, 191.88888888888889)",
             "rgb(197.33333333333334, 219.11111111111111, 191.88888888888889)",
             "rgb(217.66666666666666, 232.55555555555554, 214.44444444444446)",
             "rgb(217.66666666666666, 232.55555555555554, 214.44444444444446)"
            ],
            [
             "rgb(197.33333333333334, 219.11111111111111, 191.88888888888889)",
             "rgb(197.33333333333334, 219.11111111111111, 191.88888888888889)",
             "rgb(197.33333333333334, 219.11111111111111, 191.88888888888889)",
             "rgb(217.66666666666666, 232.55555555555554, 214.44444444444446)",
             "rgb(217.66666666666666, 232.55555555555554, 214.44444444444446)",
             "rgb(217.66666666666666, 232.55555555555554, 214.44444444444446)",
             "rgb(217.66666666666666, 232.55555555555554, 214.44444444444446)",
             "rgb(217.66666666666666, 232.55555555555554, 214.44444444444446)",
             "rgb(217.66666666666666, 232.55555555555554, 214.44444444444446)",
             "rgb(217.66666666666666, 232.55555555555554, 214.44444444444446)"
            ],
            [
             "rgb(197.33333333333334, 219.11111111111111, 191.88888888888889)",
             "rgb(197.33333333333334, 219.11111111111111, 191.88888888888889)",
             "rgb(197.33333333333334, 219.11111111111111, 191.88888888888889)",
             "rgb(217.66666666666666, 232.55555555555554, 214.44444444444446)",
             "rgb(217.66666666666666, 232.55555555555554, 214.44444444444446)",
             "rgb(217.66666666666666, 232.55555555555554, 214.44444444444446)",
             "rgb(217.66666666666666, 232.55555555555554, 214.44444444444446)",
             "rgb(217.66666666666666, 232.55555555555554, 214.44444444444446)",
             "rgb(217.66666666666666, 232.55555555555554, 214.44444444444446)",
             "rgb(217.66666666666666, 232.55555555555554, 214.44444444444446)"
            ],
            [
             "rgb(95.66666666666669, 151.88888888888889, 79.11111111111109)",
             "rgb(156.66666666666669, 192.22222222222223, 146.77777777777777)",
             "rgb(197.33333333333334, 219.11111111111111, 191.88888888888889)",
             "rgb(217.66666666666666, 232.55555555555554, 214.44444444444446)",
             "rgb(217.66666666666666, 232.55555555555554, 214.44444444444446)",
             "rgb(217.66666666666666, 232.55555555555554, 214.44444444444446)",
             "rgb(217.66666666666666, 232.55555555555554, 214.44444444444446)",
             "rgb(217.66666666666666, 232.55555555555554, 214.44444444444446)",
             "rgb(217.66666666666666, 232.55555555555554, 214.44444444444446)",
             "rgb(217.66666666666666, 232.55555555555554, 214.44444444444446)"
            ],
            [
             "rgb(95.66666666666669, 151.88888888888889, 79.11111111111109)",
             "rgb(177.0, 205.66666666666666, 169.33333333333331)",
             "rgb(197.33333333333334, 219.11111111111111, 191.88888888888889)",
             "rgb(217.66666666666666, 232.55555555555554, 214.44444444444446)",
             "rgb(217.66666666666666, 232.55555555555554, 214.44444444444446)",
             "rgb(217.66666666666666, 232.55555555555554, 214.44444444444446)",
             "rgb(217.66666666666666, 232.55555555555554, 214.44444444444446)",
             "rgb(217.66666666666666, 232.55555555555554, 214.44444444444446)",
             "rgb(217.66666666666666, 232.55555555555554, 214.44444444444446)",
             "rgb(217.66666666666666, 232.55555555555554, 214.44444444444446)"
            ],
            [
             "rgb(177.0, 205.66666666666666, 169.33333333333331)",
             "rgb(197.33333333333334, 219.11111111111111, 191.88888888888889)",
             "rgb(197.33333333333334, 219.11111111111111, 191.88888888888889)",
             "rgb(197.33333333333334, 219.11111111111111, 191.88888888888889)",
             "rgb(197.33333333333334, 219.11111111111111, 191.88888888888889)",
             "rgb(217.66666666666666, 232.55555555555554, 214.44444444444446)",
             "rgb(217.66666666666666, 232.55555555555554, 214.44444444444446)",
             "rgb(217.66666666666666, 232.55555555555554, 214.44444444444446)",
             "rgb(217.66666666666666, 232.55555555555554, 214.44444444444446)",
             "rgb(217.66666666666666, 232.55555555555554, 214.44444444444446)"
            ],
            [
             "rgb(177.0, 205.66666666666666, 169.33333333333331)",
             "rgb(197.33333333333334, 219.11111111111111, 191.88888888888889)",
             "rgb(197.33333333333334, 219.11111111111111, 191.88888888888889)",
             "rgb(197.33333333333334, 219.11111111111111, 191.88888888888889)",
             "rgb(197.33333333333334, 219.11111111111111, 191.88888888888889)",
             "rgb(217.66666666666666, 232.55555555555554, 214.44444444444446)",
             "rgb(217.66666666666666, 232.55555555555554, 214.44444444444446)",
             "rgb(217.66666666666666, 232.55555555555554, 214.44444444444446)",
             "rgb(217.66666666666666, 232.55555555555554, 214.44444444444446)",
             "rgb(217.66666666666666, 232.55555555555554, 214.44444444444446)"
            ],
            [
             "rgb(177.0, 205.66666666666666, 169.33333333333331)",
             "rgb(197.33333333333334, 219.11111111111111, 191.88888888888889)",
             "rgb(197.33333333333334, 219.11111111111111, 191.88888888888889)",
             "rgb(197.33333333333334, 219.11111111111111, 191.88888888888889)",
             "rgb(217.66666666666666, 232.55555555555554, 214.44444444444446)",
             "rgb(217.66666666666666, 232.55555555555554, 214.44444444444446)",
             "rgb(217.66666666666666, 232.55555555555554, 214.44444444444446)",
             "rgb(217.66666666666666, 232.55555555555554, 214.44444444444446)",
             "rgb(217.66666666666666, 232.55555555555554, 214.44444444444446)",
             "rgb(217.66666666666666, 232.55555555555554, 214.44444444444446)"
            ],
            [
             "rgb(197.33333333333334, 219.11111111111111, 191.88888888888889)",
             "rgb(197.33333333333334, 219.11111111111111, 191.88888888888889)",
             "rgb(197.33333333333334, 219.11111111111111, 191.88888888888889)",
             "rgb(197.33333333333334, 219.11111111111111, 191.88888888888889)",
             "rgb(197.33333333333334, 219.11111111111111, 191.88888888888889)",
             "rgb(217.66666666666666, 232.55555555555554, 214.44444444444446)",
             "rgb(217.66666666666666, 232.55555555555554, 214.44444444444446)",
             "rgb(217.66666666666666, 232.55555555555554, 214.44444444444446)",
             "rgb(217.66666666666666, 232.55555555555554, 214.44444444444446)",
             "rgb(217.66666666666666, 232.55555555555554, 214.44444444444446)"
            ],
            [
             "rgb(177.0, 205.66666666666666, 169.33333333333331)",
             "rgb(197.33333333333334, 219.11111111111111, 191.88888888888889)",
             "rgb(197.33333333333334, 219.11111111111111, 191.88888888888889)",
             "rgb(197.33333333333334, 219.11111111111111, 191.88888888888889)",
             "rgb(217.66666666666666, 232.55555555555554, 214.44444444444446)",
             "rgb(217.66666666666666, 232.55555555555554, 214.44444444444446)",
             "rgb(217.66666666666666, 232.55555555555554, 214.44444444444446)",
             "rgb(217.66666666666666, 232.55555555555554, 214.44444444444446)",
             "rgb(217.66666666666666, 232.55555555555554, 214.44444444444446)",
             "rgb(217.66666666666666, 232.55555555555554, 214.44444444444446)"
            ]
           ]
          },
          "values": [
           [
            "network",
            "model",
            "task",
            "deep",
            "learning",
            "learn",
            "neural",
            "image",
            "datum",
            "train"
           ],
           [
            "datum",
            "learning",
            "algorithm",
            "problem",
            "learn",
            "sample",
            "method",
            "set",
            "label",
            "example"
           ],
           [
            "university",
            "brain",
            "neural",
            "model",
            "information",
            "department",
            "analysis",
            "approach",
            "datum",
            "correlation"
           ],
           [
            "model",
            "distribution",
            "inference",
            "gaussian",
            "process",
            "datum",
            "gan",
            "sample",
            "variable",
            "generative"
           ],
           [
            "network",
            "neural",
            "input",
            "learn",
            "output",
            "unit",
            "weight",
            "training",
            "function",
            "algorithm"
           ],
           [
            "neuron",
            "network",
            "neural",
            "model",
            "system",
            "cell",
            "time",
            "dynamic",
            "analog",
            "simulation"
           ],
           [
            "x",
            "problem",
            "n",
            "algorithm",
            "function",
            "t",
            "optimization",
            "k",
            "matrix",
            "method"
           ],
           [
            "learning",
            "algorithm",
            "policy",
            "reinforcement",
            "learn",
            "problem",
            "state",
            "agent",
            "action",
            "game"
           ],
           [
            "datum",
            "graph",
            "node",
            "cluster",
            "algorithm",
            "problem",
            "clustering",
            "user",
            "edu",
            "item"
           ],
           [
            "object",
            "visual",
            "image",
            "system",
            "model",
            "information",
            "d",
            "recognition",
            "map",
            "representation"
           ]
          ]
         },
         "header": {
          "fill": {
           "color": "rgb(220, 220, 220)"
          },
          "values": [
           "Topic 00",
           "Topic 01",
           "Topic 02",
           "Topic 03",
           "Topic 04",
           "Topic 05",
           "Topic 06",
           "Topic 07",
           "Topic 08",
           "Topic 09"
          ]
         },
         "type": "table"
        }
       ],
       "layout": {
        "template": {
         "data": {
          "bar": [
           {
            "error_x": {
             "color": "#2a3f5f"
            },
            "error_y": {
             "color": "#2a3f5f"
            },
            "marker": {
             "line": {
              "color": "#E5ECF6",
              "width": 0.5
             },
             "pattern": {
              "fillmode": "overlay",
              "size": 10,
              "solidity": 0.2
             }
            },
            "type": "bar"
           }
          ],
          "barpolar": [
           {
            "marker": {
             "line": {
              "color": "#E5ECF6",
              "width": 0.5
             },
             "pattern": {
              "fillmode": "overlay",
              "size": 10,
              "solidity": 0.2
             }
            },
            "type": "barpolar"
           }
          ],
          "carpet": [
           {
            "aaxis": {
             "endlinecolor": "#2a3f5f",
             "gridcolor": "white",
             "linecolor": "white",
             "minorgridcolor": "white",
             "startlinecolor": "#2a3f5f"
            },
            "baxis": {
             "endlinecolor": "#2a3f5f",
             "gridcolor": "white",
             "linecolor": "white",
             "minorgridcolor": "white",
             "startlinecolor": "#2a3f5f"
            },
            "type": "carpet"
           }
          ],
          "choropleth": [
           {
            "colorbar": {
             "outlinewidth": 0,
             "ticks": ""
            },
            "type": "choropleth"
           }
          ],
          "contour": [
           {
            "colorbar": {
             "outlinewidth": 0,
             "ticks": ""
            },
            "colorscale": [
             [
              0,
              "#0d0887"
             ],
             [
              0.1111111111111111,
              "#46039f"
             ],
             [
              0.2222222222222222,
              "#7201a8"
             ],
             [
              0.3333333333333333,
              "#9c179e"
             ],
             [
              0.4444444444444444,
              "#bd3786"
             ],
             [
              0.5555555555555556,
              "#d8576b"
             ],
             [
              0.6666666666666666,
              "#ed7953"
             ],
             [
              0.7777777777777778,
              "#fb9f3a"
             ],
             [
              0.8888888888888888,
              "#fdca26"
             ],
             [
              1,
              "#f0f921"
             ]
            ],
            "type": "contour"
           }
          ],
          "contourcarpet": [
           {
            "colorbar": {
             "outlinewidth": 0,
             "ticks": ""
            },
            "type": "contourcarpet"
           }
          ],
          "heatmap": [
           {
            "colorbar": {
             "outlinewidth": 0,
             "ticks": ""
            },
            "colorscale": [
             [
              0,
              "#0d0887"
             ],
             [
              0.1111111111111111,
              "#46039f"
             ],
             [
              0.2222222222222222,
              "#7201a8"
             ],
             [
              0.3333333333333333,
              "#9c179e"
             ],
             [
              0.4444444444444444,
              "#bd3786"
             ],
             [
              0.5555555555555556,
              "#d8576b"
             ],
             [
              0.6666666666666666,
              "#ed7953"
             ],
             [
              0.7777777777777778,
              "#fb9f3a"
             ],
             [
              0.8888888888888888,
              "#fdca26"
             ],
             [
              1,
              "#f0f921"
             ]
            ],
            "type": "heatmap"
           }
          ],
          "heatmapgl": [
           {
            "colorbar": {
             "outlinewidth": 0,
             "ticks": ""
            },
            "colorscale": [
             [
              0,
              "#0d0887"
             ],
             [
              0.1111111111111111,
              "#46039f"
             ],
             [
              0.2222222222222222,
              "#7201a8"
             ],
             [
              0.3333333333333333,
              "#9c179e"
             ],
             [
              0.4444444444444444,
              "#bd3786"
             ],
             [
              0.5555555555555556,
              "#d8576b"
             ],
             [
              0.6666666666666666,
              "#ed7953"
             ],
             [
              0.7777777777777778,
              "#fb9f3a"
             ],
             [
              0.8888888888888888,
              "#fdca26"
             ],
             [
              1,
              "#f0f921"
             ]
            ],
            "type": "heatmapgl"
           }
          ],
          "histogram": [
           {
            "marker": {
             "pattern": {
              "fillmode": "overlay",
              "size": 10,
              "solidity": 0.2
             }
            },
            "type": "histogram"
           }
          ],
          "histogram2d": [
           {
            "colorbar": {
             "outlinewidth": 0,
             "ticks": ""
            },
            "colorscale": [
             [
              0,
              "#0d0887"
             ],
             [
              0.1111111111111111,
              "#46039f"
             ],
             [
              0.2222222222222222,
              "#7201a8"
             ],
             [
              0.3333333333333333,
              "#9c179e"
             ],
             [
              0.4444444444444444,
              "#bd3786"
             ],
             [
              0.5555555555555556,
              "#d8576b"
             ],
             [
              0.6666666666666666,
              "#ed7953"
             ],
             [
              0.7777777777777778,
              "#fb9f3a"
             ],
             [
              0.8888888888888888,
              "#fdca26"
             ],
             [
              1,
              "#f0f921"
             ]
            ],
            "type": "histogram2d"
           }
          ],
          "histogram2dcontour": [
           {
            "colorbar": {
             "outlinewidth": 0,
             "ticks": ""
            },
            "colorscale": [
             [
              0,
              "#0d0887"
             ],
             [
              0.1111111111111111,
              "#46039f"
             ],
             [
              0.2222222222222222,
              "#7201a8"
             ],
             [
              0.3333333333333333,
              "#9c179e"
             ],
             [
              0.4444444444444444,
              "#bd3786"
             ],
             [
              0.5555555555555556,
              "#d8576b"
             ],
             [
              0.6666666666666666,
              "#ed7953"
             ],
             [
              0.7777777777777778,
              "#fb9f3a"
             ],
             [
              0.8888888888888888,
              "#fdca26"
             ],
             [
              1,
              "#f0f921"
             ]
            ],
            "type": "histogram2dcontour"
           }
          ],
          "mesh3d": [
           {
            "colorbar": {
             "outlinewidth": 0,
             "ticks": ""
            },
            "type": "mesh3d"
           }
          ],
          "parcoords": [
           {
            "line": {
             "colorbar": {
              "outlinewidth": 0,
              "ticks": ""
             }
            },
            "type": "parcoords"
           }
          ],
          "pie": [
           {
            "automargin": true,
            "type": "pie"
           }
          ],
          "scatter": [
           {
            "marker": {
             "colorbar": {
              "outlinewidth": 0,
              "ticks": ""
             }
            },
            "type": "scatter"
           }
          ],
          "scatter3d": [
           {
            "line": {
             "colorbar": {
              "outlinewidth": 0,
              "ticks": ""
             }
            },
            "marker": {
             "colorbar": {
              "outlinewidth": 0,
              "ticks": ""
             }
            },
            "type": "scatter3d"
           }
          ],
          "scattercarpet": [
           {
            "marker": {
             "colorbar": {
              "outlinewidth": 0,
              "ticks": ""
             }
            },
            "type": "scattercarpet"
           }
          ],
          "scattergeo": [
           {
            "marker": {
             "colorbar": {
              "outlinewidth": 0,
              "ticks": ""
             }
            },
            "type": "scattergeo"
           }
          ],
          "scattergl": [
           {
            "marker": {
             "colorbar": {
              "outlinewidth": 0,
              "ticks": ""
             }
            },
            "type": "scattergl"
           }
          ],
          "scattermapbox": [
           {
            "marker": {
             "colorbar": {
              "outlinewidth": 0,
              "ticks": ""
             }
            },
            "type": "scattermapbox"
           }
          ],
          "scatterpolar": [
           {
            "marker": {
             "colorbar": {
              "outlinewidth": 0,
              "ticks": ""
             }
            },
            "type": "scatterpolar"
           }
          ],
          "scatterpolargl": [
           {
            "marker": {
             "colorbar": {
              "outlinewidth": 0,
              "ticks": ""
             }
            },
            "type": "scatterpolargl"
           }
          ],
          "scatterternary": [
           {
            "marker": {
             "colorbar": {
              "outlinewidth": 0,
              "ticks": ""
             }
            },
            "type": "scatterternary"
           }
          ],
          "surface": [
           {
            "colorbar": {
             "outlinewidth": 0,
             "ticks": ""
            },
            "colorscale": [
             [
              0,
              "#0d0887"
             ],
             [
              0.1111111111111111,
              "#46039f"
             ],
             [
              0.2222222222222222,
              "#7201a8"
             ],
             [
              0.3333333333333333,
              "#9c179e"
             ],
             [
              0.4444444444444444,
              "#bd3786"
             ],
             [
              0.5555555555555556,
              "#d8576b"
             ],
             [
              0.6666666666666666,
              "#ed7953"
             ],
             [
              0.7777777777777778,
              "#fb9f3a"
             ],
             [
              0.8888888888888888,
              "#fdca26"
             ],
             [
              1,
              "#f0f921"
             ]
            ],
            "type": "surface"
           }
          ],
          "table": [
           {
            "cells": {
             "fill": {
              "color": "#EBF0F8"
             },
             "line": {
              "color": "white"
             }
            },
            "header": {
             "fill": {
              "color": "#C8D4E3"
             },
             "line": {
              "color": "white"
             }
            },
            "type": "table"
           }
          ]
         },
         "layout": {
          "annotationdefaults": {
           "arrowcolor": "#2a3f5f",
           "arrowhead": 0,
           "arrowwidth": 1
          },
          "autotypenumbers": "strict",
          "coloraxis": {
           "colorbar": {
            "outlinewidth": 0,
            "ticks": ""
           }
          },
          "colorscale": {
           "diverging": [
            [
             0,
             "#8e0152"
            ],
            [
             0.1,
             "#c51b7d"
            ],
            [
             0.2,
             "#de77ae"
            ],
            [
             0.3,
             "#f1b6da"
            ],
            [
             0.4,
             "#fde0ef"
            ],
            [
             0.5,
             "#f7f7f7"
            ],
            [
             0.6,
             "#e6f5d0"
            ],
            [
             0.7,
             "#b8e186"
            ],
            [
             0.8,
             "#7fbc41"
            ],
            [
             0.9,
             "#4d9221"
            ],
            [
             1,
             "#276419"
            ]
           ],
           "sequential": [
            [
             0,
             "#0d0887"
            ],
            [
             0.1111111111111111,
             "#46039f"
            ],
            [
             0.2222222222222222,
             "#7201a8"
            ],
            [
             0.3333333333333333,
             "#9c179e"
            ],
            [
             0.4444444444444444,
             "#bd3786"
            ],
            [
             0.5555555555555556,
             "#d8576b"
            ],
            [
             0.6666666666666666,
             "#ed7953"
            ],
            [
             0.7777777777777778,
             "#fb9f3a"
            ],
            [
             0.8888888888888888,
             "#fdca26"
            ],
            [
             1,
             "#f0f921"
            ]
           ],
           "sequentialminus": [
            [
             0,
             "#0d0887"
            ],
            [
             0.1111111111111111,
             "#46039f"
            ],
            [
             0.2222222222222222,
             "#7201a8"
            ],
            [
             0.3333333333333333,
             "#9c179e"
            ],
            [
             0.4444444444444444,
             "#bd3786"
            ],
            [
             0.5555555555555556,
             "#d8576b"
            ],
            [
             0.6666666666666666,
             "#ed7953"
            ],
            [
             0.7777777777777778,
             "#fb9f3a"
            ],
            [
             0.8888888888888888,
             "#fdca26"
            ],
            [
             1,
             "#f0f921"
            ]
           ]
          },
          "colorway": [
           "#636efa",
           "#EF553B",
           "#00cc96",
           "#ab63fa",
           "#FFA15A",
           "#19d3f3",
           "#FF6692",
           "#B6E880",
           "#FF97FF",
           "#FECB52"
          ],
          "font": {
           "color": "#2a3f5f"
          },
          "geo": {
           "bgcolor": "white",
           "lakecolor": "white",
           "landcolor": "#E5ECF6",
           "showlakes": true,
           "showland": true,
           "subunitcolor": "white"
          },
          "hoverlabel": {
           "align": "left"
          },
          "hovermode": "closest",
          "mapbox": {
           "style": "light"
          },
          "paper_bgcolor": "white",
          "plot_bgcolor": "#E5ECF6",
          "polar": {
           "angularaxis": {
            "gridcolor": "white",
            "linecolor": "white",
            "ticks": ""
           },
           "bgcolor": "#E5ECF6",
           "radialaxis": {
            "gridcolor": "white",
            "linecolor": "white",
            "ticks": ""
           }
          },
          "scene": {
           "xaxis": {
            "backgroundcolor": "#E5ECF6",
            "gridcolor": "white",
            "gridwidth": 2,
            "linecolor": "white",
            "showbackground": true,
            "ticks": "",
            "zerolinecolor": "white"
           },
           "yaxis": {
            "backgroundcolor": "#E5ECF6",
            "gridcolor": "white",
            "gridwidth": 2,
            "linecolor": "white",
            "showbackground": true,
            "ticks": "",
            "zerolinecolor": "white"
           },
           "zaxis": {
            "backgroundcolor": "#E5ECF6",
            "gridcolor": "white",
            "gridwidth": 2,
            "linecolor": "white",
            "showbackground": true,
            "ticks": "",
            "zerolinecolor": "white"
           }
          },
          "shapedefaults": {
           "line": {
            "color": "#2a3f5f"
           }
          },
          "ternary": {
           "aaxis": {
            "gridcolor": "white",
            "linecolor": "white",
            "ticks": ""
           },
           "baxis": {
            "gridcolor": "white",
            "linecolor": "white",
            "ticks": ""
           },
           "bgcolor": "#E5ECF6",
           "caxis": {
            "gridcolor": "white",
            "linecolor": "white",
            "ticks": ""
           }
          },
          "title": {
           "x": 0.05
          },
          "xaxis": {
           "automargin": true,
           "gridcolor": "white",
           "linecolor": "white",
           "ticks": "",
           "title": {
            "standoff": 15
           },
           "zerolinecolor": "white",
           "zerolinewidth": 2
          },
          "yaxis": {
           "automargin": true,
           "gridcolor": "white",
           "linecolor": "white",
           "ticks": "",
           "title": {
            "standoff": 15
           },
           "zerolinecolor": "white",
           "zerolinewidth": 2
          }
         }
        },
        "title": {
         "text": "Top words for the 10 topics"
        },
        "width": 1350
       }
      }
     },
     "metadata": {},
     "output_type": "display_data"
    },
    {
     "name": "stdout",
     "output_type": "stream",
     "text": [
      "Iter [200]===\n",
      "Topic 0: ['network', 'deep', 'task', 'model', 'learning', 'learn', 'neural', 'image', 'representation', 'method']\n",
      "Topic 1: ['datum', 'learning', 'problem', 'learn', 'algorithm', 'set', 'training', 'method', 'sample', 'label']\n",
      "Topic 2: ['university', 'model', 'brain', 'neural', 'analysis', 'department', 'datum', 'information', 'edu', 'structure']\n",
      "Topic 3: ['model', 'distribution', 'inference', 'gaussian', 'datum', 'sample', 'gan', 'generative', 'process', 'variational']\n",
      "Topic 4: ['network', 'neural', 'input', 'unit', 'weight', 'learn', 'output', 'function', 'training', 'algorithm']\n",
      "Topic 5: ['neuron', 'network', 'model', 'neural', 'system', 'cell', 'analog', 'abstract', 'control', 'time']\n",
      "Topic 6: ['x', 'n', 'problem', 'function', 'algorithm', 'optimization', 't', 'k', 'matrix', 'gradient']\n",
      "Topic 7: ['learning', 'policy', 'algorithm', 'reinforcement', 'problem', 'learn', 'agent', 'action', 'reward', 'control']\n",
      "Topic 8: ['algorithm', 'datum', 'graph', 'cluster', 'problem', 'model', 'node', 'k', 'edu', 'clustering']\n",
      "Topic 9: ['object', 'visual', 'image', 'system', 'model', 'recognition', 'information', 'd', 'feature', 'human']\n"
     ]
    },
    {
     "data": {
      "application/vnd.plotly.v1+json": {
       "config": {
        "plotlyServerURL": "https://plot.ly"
       },
       "data": [
        {
         "cells": {
          "fill": {
           "color": [
            [
             "rgb(177.0, 205.66666666666666, 169.33333333333331)",
             "rgb(197.33333333333334, 219.11111111111111, 191.88888888888889)",
             "rgb(197.33333333333334, 219.11111111111111, 191.88888888888889)",
             "rgb(197.33333333333334, 219.11111111111111, 191.88888888888889)",
             "rgb(197.33333333333334, 219.11111111111111, 191.88888888888889)",
             "rgb(197.33333333333334, 219.11111111111111, 191.88888888888889)",
             "rgb(197.33333333333334, 219.11111111111111, 191.88888888888889)",
             "rgb(197.33333333333334, 219.11111111111111, 191.88888888888889)",
             "rgb(217.66666666666666, 232.55555555555554, 214.44444444444446)",
             "rgb(217.66666666666666, 232.55555555555554, 214.44444444444446)"
            ],
            [
             "rgb(177.0, 205.66666666666666, 169.33333333333331)",
             "rgb(197.33333333333334, 219.11111111111111, 191.88888888888889)",
             "rgb(197.33333333333334, 219.11111111111111, 191.88888888888889)",
             "rgb(197.33333333333334, 219.11111111111111, 191.88888888888889)",
             "rgb(217.66666666666666, 232.55555555555554, 214.44444444444446)",
             "rgb(217.66666666666666, 232.55555555555554, 214.44444444444446)",
             "rgb(217.66666666666666, 232.55555555555554, 214.44444444444446)",
             "rgb(217.66666666666666, 232.55555555555554, 214.44444444444446)",
             "rgb(217.66666666666666, 232.55555555555554, 214.44444444444446)",
             "rgb(217.66666666666666, 232.55555555555554, 214.44444444444446)"
            ],
            [
             "rgb(197.33333333333334, 219.11111111111111, 191.88888888888889)",
             "rgb(197.33333333333334, 219.11111111111111, 191.88888888888889)",
             "rgb(217.66666666666666, 232.55555555555554, 214.44444444444446)",
             "rgb(217.66666666666666, 232.55555555555554, 214.44444444444446)",
             "rgb(217.66666666666666, 232.55555555555554, 214.44444444444446)",
             "rgb(217.66666666666666, 232.55555555555554, 214.44444444444446)",
             "rgb(217.66666666666666, 232.55555555555554, 214.44444444444446)",
             "rgb(217.66666666666666, 232.55555555555554, 214.44444444444446)",
             "rgb(217.66666666666666, 232.55555555555554, 214.44444444444446)",
             "rgb(217.66666666666666, 232.55555555555554, 214.44444444444446)"
            ],
            [
             "rgb(95.66666666666669, 151.88888888888889, 79.11111111111109)",
             "rgb(156.66666666666669, 192.22222222222223, 146.77777777777777)",
             "rgb(197.33333333333334, 219.11111111111111, 191.88888888888889)",
             "rgb(217.66666666666666, 232.55555555555554, 214.44444444444446)",
             "rgb(217.66666666666666, 232.55555555555554, 214.44444444444446)",
             "rgb(217.66666666666666, 232.55555555555554, 214.44444444444446)",
             "rgb(217.66666666666666, 232.55555555555554, 214.44444444444446)",
             "rgb(217.66666666666666, 232.55555555555554, 214.44444444444446)",
             "rgb(217.66666666666666, 232.55555555555554, 214.44444444444446)",
             "rgb(217.66666666666666, 232.55555555555554, 214.44444444444446)"
            ],
            [
             "rgb(95.66666666666669, 151.88888888888889, 79.11111111111109)",
             "rgb(177.0, 205.66666666666666, 169.33333333333331)",
             "rgb(197.33333333333334, 219.11111111111111, 191.88888888888889)",
             "rgb(217.66666666666666, 232.55555555555554, 214.44444444444446)",
             "rgb(217.66666666666666, 232.55555555555554, 214.44444444444446)",
             "rgb(217.66666666666666, 232.55555555555554, 214.44444444444446)",
             "rgb(217.66666666666666, 232.55555555555554, 214.44444444444446)",
             "rgb(217.66666666666666, 232.55555555555554, 214.44444444444446)",
             "rgb(217.66666666666666, 232.55555555555554, 214.44444444444446)",
             "rgb(217.66666666666666, 232.55555555555554, 214.44444444444446)"
            ],
            [
             "rgb(177.0, 205.66666666666666, 169.33333333333331)",
             "rgb(177.0, 205.66666666666666, 169.33333333333331)",
             "rgb(197.33333333333334, 219.11111111111111, 191.88888888888889)",
             "rgb(197.33333333333334, 219.11111111111111, 191.88888888888889)",
             "rgb(197.33333333333334, 219.11111111111111, 191.88888888888889)",
             "rgb(217.66666666666666, 232.55555555555554, 214.44444444444446)",
             "rgb(217.66666666666666, 232.55555555555554, 214.44444444444446)",
             "rgb(217.66666666666666, 232.55555555555554, 214.44444444444446)",
             "rgb(217.66666666666666, 232.55555555555554, 214.44444444444446)",
             "rgb(217.66666666666666, 232.55555555555554, 214.44444444444446)"
            ],
            [
             "rgb(177.0, 205.66666666666666, 169.33333333333331)",
             "rgb(197.33333333333334, 219.11111111111111, 191.88888888888889)",
             "rgb(197.33333333333334, 219.11111111111111, 191.88888888888889)",
             "rgb(197.33333333333334, 219.11111111111111, 191.88888888888889)",
             "rgb(197.33333333333334, 219.11111111111111, 191.88888888888889)",
             "rgb(197.33333333333334, 219.11111111111111, 191.88888888888889)",
             "rgb(197.33333333333334, 219.11111111111111, 191.88888888888889)",
             "rgb(217.66666666666666, 232.55555555555554, 214.44444444444446)",
             "rgb(217.66666666666666, 232.55555555555554, 214.44444444444446)",
             "rgb(217.66666666666666, 232.55555555555554, 214.44444444444446)"
            ],
            [
             "rgb(177.0, 205.66666666666666, 169.33333333333331)",
             "rgb(197.33333333333334, 219.11111111111111, 191.88888888888889)",
             "rgb(197.33333333333334, 219.11111111111111, 191.88888888888889)",
             "rgb(197.33333333333334, 219.11111111111111, 191.88888888888889)",
             "rgb(197.33333333333334, 219.11111111111111, 191.88888888888889)",
             "rgb(217.66666666666666, 232.55555555555554, 214.44444444444446)",
             "rgb(217.66666666666666, 232.55555555555554, 214.44444444444446)",
             "rgb(217.66666666666666, 232.55555555555554, 214.44444444444446)",
             "rgb(217.66666666666666, 232.55555555555554, 214.44444444444446)",
             "rgb(217.66666666666666, 232.55555555555554, 214.44444444444446)"
            ],
            [
             "rgb(177.0, 205.66666666666666, 169.33333333333331)",
             "rgb(197.33333333333334, 219.11111111111111, 191.88888888888889)",
             "rgb(197.33333333333334, 219.11111111111111, 191.88888888888889)",
             "rgb(197.33333333333334, 219.11111111111111, 191.88888888888889)",
             "rgb(217.66666666666666, 232.55555555555554, 214.44444444444446)",
             "rgb(217.66666666666666, 232.55555555555554, 214.44444444444446)",
             "rgb(217.66666666666666, 232.55555555555554, 214.44444444444446)",
             "rgb(217.66666666666666, 232.55555555555554, 214.44444444444446)",
             "rgb(217.66666666666666, 232.55555555555554, 214.44444444444446)",
             "rgb(217.66666666666666, 232.55555555555554, 214.44444444444446)"
            ],
            [
             "rgb(177.0, 205.66666666666666, 169.33333333333331)",
             "rgb(197.33333333333334, 219.11111111111111, 191.88888888888889)",
             "rgb(197.33333333333334, 219.11111111111111, 191.88888888888889)",
             "rgb(197.33333333333334, 219.11111111111111, 191.88888888888889)",
             "rgb(217.66666666666666, 232.55555555555554, 214.44444444444446)",
             "rgb(217.66666666666666, 232.55555555555554, 214.44444444444446)",
             "rgb(217.66666666666666, 232.55555555555554, 214.44444444444446)",
             "rgb(217.66666666666666, 232.55555555555554, 214.44444444444446)",
             "rgb(217.66666666666666, 232.55555555555554, 214.44444444444446)",
             "rgb(217.66666666666666, 232.55555555555554, 214.44444444444446)"
            ]
           ]
          },
          "values": [
           [
            "network",
            "deep",
            "task",
            "model",
            "learning",
            "learn",
            "neural",
            "image",
            "representation",
            "method"
           ],
           [
            "datum",
            "learning",
            "problem",
            "learn",
            "algorithm",
            "set",
            "training",
            "method",
            "sample",
            "label"
           ],
           [
            "university",
            "model",
            "brain",
            "neural",
            "analysis",
            "department",
            "datum",
            "information",
            "edu",
            "structure"
           ],
           [
            "model",
            "distribution",
            "inference",
            "gaussian",
            "datum",
            "sample",
            "gan",
            "generative",
            "process",
            "variational"
           ],
           [
            "network",
            "neural",
            "input",
            "unit",
            "weight",
            "learn",
            "output",
            "function",
            "training",
            "algorithm"
           ],
           [
            "neuron",
            "network",
            "model",
            "neural",
            "system",
            "cell",
            "analog",
            "abstract",
            "control",
            "time"
           ],
           [
            "x",
            "n",
            "problem",
            "function",
            "algorithm",
            "optimization",
            "t",
            "k",
            "matrix",
            "gradient"
           ],
           [
            "learning",
            "policy",
            "algorithm",
            "reinforcement",
            "problem",
            "learn",
            "agent",
            "action",
            "reward",
            "control"
           ],
           [
            "algorithm",
            "datum",
            "graph",
            "cluster",
            "problem",
            "model",
            "node",
            "k",
            "edu",
            "clustering"
           ],
           [
            "object",
            "visual",
            "image",
            "system",
            "model",
            "recognition",
            "information",
            "d",
            "feature",
            "human"
           ]
          ]
         },
         "header": {
          "fill": {
           "color": "rgb(220, 220, 220)"
          },
          "values": [
           "Topic 00",
           "Topic 01",
           "Topic 02",
           "Topic 03",
           "Topic 04",
           "Topic 05",
           "Topic 06",
           "Topic 07",
           "Topic 08",
           "Topic 09"
          ]
         },
         "type": "table"
        }
       ],
       "layout": {
        "template": {
         "data": {
          "bar": [
           {
            "error_x": {
             "color": "#2a3f5f"
            },
            "error_y": {
             "color": "#2a3f5f"
            },
            "marker": {
             "line": {
              "color": "#E5ECF6",
              "width": 0.5
             },
             "pattern": {
              "fillmode": "overlay",
              "size": 10,
              "solidity": 0.2
             }
            },
            "type": "bar"
           }
          ],
          "barpolar": [
           {
            "marker": {
             "line": {
              "color": "#E5ECF6",
              "width": 0.5
             },
             "pattern": {
              "fillmode": "overlay",
              "size": 10,
              "solidity": 0.2
             }
            },
            "type": "barpolar"
           }
          ],
          "carpet": [
           {
            "aaxis": {
             "endlinecolor": "#2a3f5f",
             "gridcolor": "white",
             "linecolor": "white",
             "minorgridcolor": "white",
             "startlinecolor": "#2a3f5f"
            },
            "baxis": {
             "endlinecolor": "#2a3f5f",
             "gridcolor": "white",
             "linecolor": "white",
             "minorgridcolor": "white",
             "startlinecolor": "#2a3f5f"
            },
            "type": "carpet"
           }
          ],
          "choropleth": [
           {
            "colorbar": {
             "outlinewidth": 0,
             "ticks": ""
            },
            "type": "choropleth"
           }
          ],
          "contour": [
           {
            "colorbar": {
             "outlinewidth": 0,
             "ticks": ""
            },
            "colorscale": [
             [
              0,
              "#0d0887"
             ],
             [
              0.1111111111111111,
              "#46039f"
             ],
             [
              0.2222222222222222,
              "#7201a8"
             ],
             [
              0.3333333333333333,
              "#9c179e"
             ],
             [
              0.4444444444444444,
              "#bd3786"
             ],
             [
              0.5555555555555556,
              "#d8576b"
             ],
             [
              0.6666666666666666,
              "#ed7953"
             ],
             [
              0.7777777777777778,
              "#fb9f3a"
             ],
             [
              0.8888888888888888,
              "#fdca26"
             ],
             [
              1,
              "#f0f921"
             ]
            ],
            "type": "contour"
           }
          ],
          "contourcarpet": [
           {
            "colorbar": {
             "outlinewidth": 0,
             "ticks": ""
            },
            "type": "contourcarpet"
           }
          ],
          "heatmap": [
           {
            "colorbar": {
             "outlinewidth": 0,
             "ticks": ""
            },
            "colorscale": [
             [
              0,
              "#0d0887"
             ],
             [
              0.1111111111111111,
              "#46039f"
             ],
             [
              0.2222222222222222,
              "#7201a8"
             ],
             [
              0.3333333333333333,
              "#9c179e"
             ],
             [
              0.4444444444444444,
              "#bd3786"
             ],
             [
              0.5555555555555556,
              "#d8576b"
             ],
             [
              0.6666666666666666,
              "#ed7953"
             ],
             [
              0.7777777777777778,
              "#fb9f3a"
             ],
             [
              0.8888888888888888,
              "#fdca26"
             ],
             [
              1,
              "#f0f921"
             ]
            ],
            "type": "heatmap"
           }
          ],
          "heatmapgl": [
           {
            "colorbar": {
             "outlinewidth": 0,
             "ticks": ""
            },
            "colorscale": [
             [
              0,
              "#0d0887"
             ],
             [
              0.1111111111111111,
              "#46039f"
             ],
             [
              0.2222222222222222,
              "#7201a8"
             ],
             [
              0.3333333333333333,
              "#9c179e"
             ],
             [
              0.4444444444444444,
              "#bd3786"
             ],
             [
              0.5555555555555556,
              "#d8576b"
             ],
             [
              0.6666666666666666,
              "#ed7953"
             ],
             [
              0.7777777777777778,
              "#fb9f3a"
             ],
             [
              0.8888888888888888,
              "#fdca26"
             ],
             [
              1,
              "#f0f921"
             ]
            ],
            "type": "heatmapgl"
           }
          ],
          "histogram": [
           {
            "marker": {
             "pattern": {
              "fillmode": "overlay",
              "size": 10,
              "solidity": 0.2
             }
            },
            "type": "histogram"
           }
          ],
          "histogram2d": [
           {
            "colorbar": {
             "outlinewidth": 0,
             "ticks": ""
            },
            "colorscale": [
             [
              0,
              "#0d0887"
             ],
             [
              0.1111111111111111,
              "#46039f"
             ],
             [
              0.2222222222222222,
              "#7201a8"
             ],
             [
              0.3333333333333333,
              "#9c179e"
             ],
             [
              0.4444444444444444,
              "#bd3786"
             ],
             [
              0.5555555555555556,
              "#d8576b"
             ],
             [
              0.6666666666666666,
              "#ed7953"
             ],
             [
              0.7777777777777778,
              "#fb9f3a"
             ],
             [
              0.8888888888888888,
              "#fdca26"
             ],
             [
              1,
              "#f0f921"
             ]
            ],
            "type": "histogram2d"
           }
          ],
          "histogram2dcontour": [
           {
            "colorbar": {
             "outlinewidth": 0,
             "ticks": ""
            },
            "colorscale": [
             [
              0,
              "#0d0887"
             ],
             [
              0.1111111111111111,
              "#46039f"
             ],
             [
              0.2222222222222222,
              "#7201a8"
             ],
             [
              0.3333333333333333,
              "#9c179e"
             ],
             [
              0.4444444444444444,
              "#bd3786"
             ],
             [
              0.5555555555555556,
              "#d8576b"
             ],
             [
              0.6666666666666666,
              "#ed7953"
             ],
             [
              0.7777777777777778,
              "#fb9f3a"
             ],
             [
              0.8888888888888888,
              "#fdca26"
             ],
             [
              1,
              "#f0f921"
             ]
            ],
            "type": "histogram2dcontour"
           }
          ],
          "mesh3d": [
           {
            "colorbar": {
             "outlinewidth": 0,
             "ticks": ""
            },
            "type": "mesh3d"
           }
          ],
          "parcoords": [
           {
            "line": {
             "colorbar": {
              "outlinewidth": 0,
              "ticks": ""
             }
            },
            "type": "parcoords"
           }
          ],
          "pie": [
           {
            "automargin": true,
            "type": "pie"
           }
          ],
          "scatter": [
           {
            "marker": {
             "colorbar": {
              "outlinewidth": 0,
              "ticks": ""
             }
            },
            "type": "scatter"
           }
          ],
          "scatter3d": [
           {
            "line": {
             "colorbar": {
              "outlinewidth": 0,
              "ticks": ""
             }
            },
            "marker": {
             "colorbar": {
              "outlinewidth": 0,
              "ticks": ""
             }
            },
            "type": "scatter3d"
           }
          ],
          "scattercarpet": [
           {
            "marker": {
             "colorbar": {
              "outlinewidth": 0,
              "ticks": ""
             }
            },
            "type": "scattercarpet"
           }
          ],
          "scattergeo": [
           {
            "marker": {
             "colorbar": {
              "outlinewidth": 0,
              "ticks": ""
             }
            },
            "type": "scattergeo"
           }
          ],
          "scattergl": [
           {
            "marker": {
             "colorbar": {
              "outlinewidth": 0,
              "ticks": ""
             }
            },
            "type": "scattergl"
           }
          ],
          "scattermapbox": [
           {
            "marker": {
             "colorbar": {
              "outlinewidth": 0,
              "ticks": ""
             }
            },
            "type": "scattermapbox"
           }
          ],
          "scatterpolar": [
           {
            "marker": {
             "colorbar": {
              "outlinewidth": 0,
              "ticks": ""
             }
            },
            "type": "scatterpolar"
           }
          ],
          "scatterpolargl": [
           {
            "marker": {
             "colorbar": {
              "outlinewidth": 0,
              "ticks": ""
             }
            },
            "type": "scatterpolargl"
           }
          ],
          "scatterternary": [
           {
            "marker": {
             "colorbar": {
              "outlinewidth": 0,
              "ticks": ""
             }
            },
            "type": "scatterternary"
           }
          ],
          "surface": [
           {
            "colorbar": {
             "outlinewidth": 0,
             "ticks": ""
            },
            "colorscale": [
             [
              0,
              "#0d0887"
             ],
             [
              0.1111111111111111,
              "#46039f"
             ],
             [
              0.2222222222222222,
              "#7201a8"
             ],
             [
              0.3333333333333333,
              "#9c179e"
             ],
             [
              0.4444444444444444,
              "#bd3786"
             ],
             [
              0.5555555555555556,
              "#d8576b"
             ],
             [
              0.6666666666666666,
              "#ed7953"
             ],
             [
              0.7777777777777778,
              "#fb9f3a"
             ],
             [
              0.8888888888888888,
              "#fdca26"
             ],
             [
              1,
              "#f0f921"
             ]
            ],
            "type": "surface"
           }
          ],
          "table": [
           {
            "cells": {
             "fill": {
              "color": "#EBF0F8"
             },
             "line": {
              "color": "white"
             }
            },
            "header": {
             "fill": {
              "color": "#C8D4E3"
             },
             "line": {
              "color": "white"
             }
            },
            "type": "table"
           }
          ]
         },
         "layout": {
          "annotationdefaults": {
           "arrowcolor": "#2a3f5f",
           "arrowhead": 0,
           "arrowwidth": 1
          },
          "autotypenumbers": "strict",
          "coloraxis": {
           "colorbar": {
            "outlinewidth": 0,
            "ticks": ""
           }
          },
          "colorscale": {
           "diverging": [
            [
             0,
             "#8e0152"
            ],
            [
             0.1,
             "#c51b7d"
            ],
            [
             0.2,
             "#de77ae"
            ],
            [
             0.3,
             "#f1b6da"
            ],
            [
             0.4,
             "#fde0ef"
            ],
            [
             0.5,
             "#f7f7f7"
            ],
            [
             0.6,
             "#e6f5d0"
            ],
            [
             0.7,
             "#b8e186"
            ],
            [
             0.8,
             "#7fbc41"
            ],
            [
             0.9,
             "#4d9221"
            ],
            [
             1,
             "#276419"
            ]
           ],
           "sequential": [
            [
             0,
             "#0d0887"
            ],
            [
             0.1111111111111111,
             "#46039f"
            ],
            [
             0.2222222222222222,
             "#7201a8"
            ],
            [
             0.3333333333333333,
             "#9c179e"
            ],
            [
             0.4444444444444444,
             "#bd3786"
            ],
            [
             0.5555555555555556,
             "#d8576b"
            ],
            [
             0.6666666666666666,
             "#ed7953"
            ],
            [
             0.7777777777777778,
             "#fb9f3a"
            ],
            [
             0.8888888888888888,
             "#fdca26"
            ],
            [
             1,
             "#f0f921"
            ]
           ],
           "sequentialminus": [
            [
             0,
             "#0d0887"
            ],
            [
             0.1111111111111111,
             "#46039f"
            ],
            [
             0.2222222222222222,
             "#7201a8"
            ],
            [
             0.3333333333333333,
             "#9c179e"
            ],
            [
             0.4444444444444444,
             "#bd3786"
            ],
            [
             0.5555555555555556,
             "#d8576b"
            ],
            [
             0.6666666666666666,
             "#ed7953"
            ],
            [
             0.7777777777777778,
             "#fb9f3a"
            ],
            [
             0.8888888888888888,
             "#fdca26"
            ],
            [
             1,
             "#f0f921"
            ]
           ]
          },
          "colorway": [
           "#636efa",
           "#EF553B",
           "#00cc96",
           "#ab63fa",
           "#FFA15A",
           "#19d3f3",
           "#FF6692",
           "#B6E880",
           "#FF97FF",
           "#FECB52"
          ],
          "font": {
           "color": "#2a3f5f"
          },
          "geo": {
           "bgcolor": "white",
           "lakecolor": "white",
           "landcolor": "#E5ECF6",
           "showlakes": true,
           "showland": true,
           "subunitcolor": "white"
          },
          "hoverlabel": {
           "align": "left"
          },
          "hovermode": "closest",
          "mapbox": {
           "style": "light"
          },
          "paper_bgcolor": "white",
          "plot_bgcolor": "#E5ECF6",
          "polar": {
           "angularaxis": {
            "gridcolor": "white",
            "linecolor": "white",
            "ticks": ""
           },
           "bgcolor": "#E5ECF6",
           "radialaxis": {
            "gridcolor": "white",
            "linecolor": "white",
            "ticks": ""
           }
          },
          "scene": {
           "xaxis": {
            "backgroundcolor": "#E5ECF6",
            "gridcolor": "white",
            "gridwidth": 2,
            "linecolor": "white",
            "showbackground": true,
            "ticks": "",
            "zerolinecolor": "white"
           },
           "yaxis": {
            "backgroundcolor": "#E5ECF6",
            "gridcolor": "white",
            "gridwidth": 2,
            "linecolor": "white",
            "showbackground": true,
            "ticks": "",
            "zerolinecolor": "white"
           },
           "zaxis": {
            "backgroundcolor": "#E5ECF6",
            "gridcolor": "white",
            "gridwidth": 2,
            "linecolor": "white",
            "showbackground": true,
            "ticks": "",
            "zerolinecolor": "white"
           }
          },
          "shapedefaults": {
           "line": {
            "color": "#2a3f5f"
           }
          },
          "ternary": {
           "aaxis": {
            "gridcolor": "white",
            "linecolor": "white",
            "ticks": ""
           },
           "baxis": {
            "gridcolor": "white",
            "linecolor": "white",
            "ticks": ""
           },
           "bgcolor": "#E5ECF6",
           "caxis": {
            "gridcolor": "white",
            "linecolor": "white",
            "ticks": ""
           }
          },
          "title": {
           "x": 0.05
          },
          "xaxis": {
           "automargin": true,
           "gridcolor": "white",
           "linecolor": "white",
           "ticks": "",
           "title": {
            "standoff": 15
           },
           "zerolinecolor": "white",
           "zerolinewidth": 2
          },
          "yaxis": {
           "automargin": true,
           "gridcolor": "white",
           "linecolor": "white",
           "ticks": "",
           "title": {
            "standoff": 15
           },
           "zerolinecolor": "white",
           "zerolinewidth": 2
          }
         }
        },
        "title": {
         "text": "Top words for the 10 topics"
        },
        "width": 1350
       }
      }
     },
     "metadata": {},
     "output_type": "display_data"
    },
    {
     "name": "stdout",
     "output_type": "stream",
     "text": [
      "Iter [250]===\n",
      "Topic 0: ['network', 'deep', 'model', 'task', 'learn', 'learning', 'neural', 'image', 'method', 'representation']\n",
      "Topic 1: ['datum', 'learning', 'problem', 'learn', 'algorithm', 'sample', 'label', 'method', 'example', 'training']\n",
      "Topic 2: ['university', 'model', 'neural', 'brain', 'analysis', 'department', 'science', 'information', 'method', 'time']\n",
      "Topic 3: ['model', 'distribution', 'inference', 'datum', 'process', 'gaussian', 'sample', 'generative', 'gan', 'variable']\n",
      "Topic 4: ['network', 'neural', 'input', 'unit', 'weight', 'learn', 'output', 'function', 'training', 'state']\n",
      "Topic 5: ['neuron', 'network', 'model', 'neural', 'system', 'cell', 'analog', 'study', 'pattern', 'activity']\n",
      "Topic 6: ['x', 'problem', 'n', 'function', 'algorithm', 't', 'k', 'optimization', 'matrix', 'method']\n",
      "Topic 7: ['learning', 'algorithm', 'policy', 'reinforcement', 'problem', 'learn', 'agent', 'game', 'state', 'action']\n",
      "Topic 8: ['algorithm', 'datum', 'graph', 'problem', 'cluster', 'node', 'model', 'edu', 'clustering', 'k']\n",
      "Topic 9: ['object', 'visual', 'image', 'system', 'model', 'information', 'recognition', 'd', 'human', 'representation']\n"
     ]
    },
    {
     "data": {
      "application/vnd.plotly.v1+json": {
       "config": {
        "plotlyServerURL": "https://plot.ly"
       },
       "data": [
        {
         "cells": {
          "fill": {
           "color": [
            [
             "rgb(177.0, 205.66666666666666, 169.33333333333331)",
             "rgb(197.33333333333334, 219.11111111111111, 191.88888888888889)",
             "rgb(197.33333333333334, 219.11111111111111, 191.88888888888889)",
             "rgb(197.33333333333334, 219.11111111111111, 191.88888888888889)",
             "rgb(197.33333333333334, 219.11111111111111, 191.88888888888889)",
             "rgb(197.33333333333334, 219.11111111111111, 191.88888888888889)",
             "rgb(197.33333333333334, 219.11111111111111, 191.88888888888889)",
             "rgb(197.33333333333334, 219.11111111111111, 191.88888888888889)",
             "rgb(217.66666666666666, 232.55555555555554, 214.44444444444446)",
             "rgb(217.66666666666666, 232.55555555555554, 214.44444444444446)"
            ],
            [
             "rgb(177.0, 205.66666666666666, 169.33333333333331)",
             "rgb(197.33333333333334, 219.11111111111111, 191.88888888888889)",
             "rgb(197.33333333333334, 219.11111111111111, 191.88888888888889)",
             "rgb(197.33333333333334, 219.11111111111111, 191.88888888888889)",
             "rgb(197.33333333333334, 219.11111111111111, 191.88888888888889)",
             "rgb(217.66666666666666, 232.55555555555554, 214.44444444444446)",
             "rgb(217.66666666666666, 232.55555555555554, 214.44444444444446)",
             "rgb(217.66666666666666, 232.55555555555554, 214.44444444444446)",
             "rgb(217.66666666666666, 232.55555555555554, 214.44444444444446)",
             "rgb(217.66666666666666, 232.55555555555554, 214.44444444444446)"
            ],
            [
             "rgb(197.33333333333334, 219.11111111111111, 191.88888888888889)",
             "rgb(197.33333333333334, 219.11111111111111, 191.88888888888889)",
             "rgb(217.66666666666666, 232.55555555555554, 214.44444444444446)",
             "rgb(217.66666666666666, 232.55555555555554, 214.44444444444446)",
             "rgb(217.66666666666666, 232.55555555555554, 214.44444444444446)",
             "rgb(217.66666666666666, 232.55555555555554, 214.44444444444446)",
             "rgb(217.66666666666666, 232.55555555555554, 214.44444444444446)",
             "rgb(217.66666666666666, 232.55555555555554, 214.44444444444446)",
             "rgb(217.66666666666666, 232.55555555555554, 214.44444444444446)",
             "rgb(217.66666666666666, 232.55555555555554, 214.44444444444446)"
            ],
            [
             "rgb(95.66666666666669, 151.88888888888889, 79.11111111111109)",
             "rgb(156.66666666666669, 192.22222222222223, 146.77777777777777)",
             "rgb(197.33333333333334, 219.11111111111111, 191.88888888888889)",
             "rgb(197.33333333333334, 219.11111111111111, 191.88888888888889)",
             "rgb(217.66666666666666, 232.55555555555554, 214.44444444444446)",
             "rgb(217.66666666666666, 232.55555555555554, 214.44444444444446)",
             "rgb(217.66666666666666, 232.55555555555554, 214.44444444444446)",
             "rgb(217.66666666666666, 232.55555555555554, 214.44444444444446)",
             "rgb(217.66666666666666, 232.55555555555554, 214.44444444444446)",
             "rgb(217.66666666666666, 232.55555555555554, 214.44444444444446)"
            ],
            [
             "rgb(95.66666666666669, 151.88888888888889, 79.11111111111109)",
             "rgb(177.0, 205.66666666666666, 169.33333333333331)",
             "rgb(197.33333333333334, 219.11111111111111, 191.88888888888889)",
             "rgb(217.66666666666666, 232.55555555555554, 214.44444444444446)",
             "rgb(217.66666666666666, 232.55555555555554, 214.44444444444446)",
             "rgb(217.66666666666666, 232.55555555555554, 214.44444444444446)",
             "rgb(217.66666666666666, 232.55555555555554, 214.44444444444446)",
             "rgb(217.66666666666666, 232.55555555555554, 214.44444444444446)",
             "rgb(217.66666666666666, 232.55555555555554, 214.44444444444446)",
             "rgb(217.66666666666666, 232.55555555555554, 214.44444444444446)"
            ],
            [
             "rgb(177.0, 205.66666666666666, 169.33333333333331)",
             "rgb(197.33333333333334, 219.11111111111111, 191.88888888888889)",
             "rgb(197.33333333333334, 219.11111111111111, 191.88888888888889)",
             "rgb(197.33333333333334, 219.11111111111111, 191.88888888888889)",
             "rgb(197.33333333333334, 219.11111111111111, 191.88888888888889)",
             "rgb(197.33333333333334, 219.11111111111111, 191.88888888888889)",
             "rgb(217.66666666666666, 232.55555555555554, 214.44444444444446)",
             "rgb(217.66666666666666, 232.55555555555554, 214.44444444444446)",
             "rgb(217.66666666666666, 232.55555555555554, 214.44444444444446)",
             "rgb(238.0, 246.0, 237.0)"
            ],
            [
             "rgb(177.0, 205.66666666666666, 169.33333333333331)",
             "rgb(197.33333333333334, 219.11111111111111, 191.88888888888889)",
             "rgb(197.33333333333334, 219.11111111111111, 191.88888888888889)",
             "rgb(197.33333333333334, 219.11111111111111, 191.88888888888889)",
             "rgb(197.33333333333334, 219.11111111111111, 191.88888888888889)",
             "rgb(197.33333333333334, 219.11111111111111, 191.88888888888889)",
             "rgb(217.66666666666666, 232.55555555555554, 214.44444444444446)",
             "rgb(217.66666666666666, 232.55555555555554, 214.44444444444446)",
             "rgb(217.66666666666666, 232.55555555555554, 214.44444444444446)",
             "rgb(217.66666666666666, 232.55555555555554, 214.44444444444446)"
            ],
            [
             "rgb(177.0, 205.66666666666666, 169.33333333333331)",
             "rgb(197.33333333333334, 219.11111111111111, 191.88888888888889)",
             "rgb(197.33333333333334, 219.11111111111111, 191.88888888888889)",
             "rgb(197.33333333333334, 219.11111111111111, 191.88888888888889)",
             "rgb(197.33333333333334, 219.11111111111111, 191.88888888888889)",
             "rgb(217.66666666666666, 232.55555555555554, 214.44444444444446)",
             "rgb(217.66666666666666, 232.55555555555554, 214.44444444444446)",
             "rgb(217.66666666666666, 232.55555555555554, 214.44444444444446)",
             "rgb(217.66666666666666, 232.55555555555554, 214.44444444444446)",
             "rgb(217.66666666666666, 232.55555555555554, 214.44444444444446)"
            ],
            [
             "rgb(177.0, 205.66666666666666, 169.33333333333331)",
             "rgb(197.33333333333334, 219.11111111111111, 191.88888888888889)",
             "rgb(197.33333333333334, 219.11111111111111, 191.88888888888889)",
             "rgb(197.33333333333334, 219.11111111111111, 191.88888888888889)",
             "rgb(217.66666666666666, 232.55555555555554, 214.44444444444446)",
             "rgb(217.66666666666666, 232.55555555555554, 214.44444444444446)",
             "rgb(217.66666666666666, 232.55555555555554, 214.44444444444446)",
             "rgb(217.66666666666666, 232.55555555555554, 214.44444444444446)",
             "rgb(217.66666666666666, 232.55555555555554, 214.44444444444446)",
             "rgb(217.66666666666666, 232.55555555555554, 214.44444444444446)"
            ],
            [
             "rgb(177.0, 205.66666666666666, 169.33333333333331)",
             "rgb(197.33333333333334, 219.11111111111111, 191.88888888888889)",
             "rgb(197.33333333333334, 219.11111111111111, 191.88888888888889)",
             "rgb(197.33333333333334, 219.11111111111111, 191.88888888888889)",
             "rgb(217.66666666666666, 232.55555555555554, 214.44444444444446)",
             "rgb(217.66666666666666, 232.55555555555554, 214.44444444444446)",
             "rgb(217.66666666666666, 232.55555555555554, 214.44444444444446)",
             "rgb(217.66666666666666, 232.55555555555554, 214.44444444444446)",
             "rgb(217.66666666666666, 232.55555555555554, 214.44444444444446)",
             "rgb(217.66666666666666, 232.55555555555554, 214.44444444444446)"
            ]
           ]
          },
          "values": [
           [
            "network",
            "deep",
            "model",
            "task",
            "learn",
            "learning",
            "neural",
            "image",
            "method",
            "representation"
           ],
           [
            "datum",
            "learning",
            "problem",
            "learn",
            "algorithm",
            "sample",
            "label",
            "method",
            "example",
            "training"
           ],
           [
            "university",
            "model",
            "neural",
            "brain",
            "analysis",
            "department",
            "science",
            "information",
            "method",
            "time"
           ],
           [
            "model",
            "distribution",
            "inference",
            "datum",
            "process",
            "gaussian",
            "sample",
            "generative",
            "gan",
            "variable"
           ],
           [
            "network",
            "neural",
            "input",
            "unit",
            "weight",
            "learn",
            "output",
            "function",
            "training",
            "state"
           ],
           [
            "neuron",
            "network",
            "model",
            "neural",
            "system",
            "cell",
            "analog",
            "study",
            "pattern",
            "activity"
           ],
           [
            "x",
            "problem",
            "n",
            "function",
            "algorithm",
            "t",
            "k",
            "optimization",
            "matrix",
            "method"
           ],
           [
            "learning",
            "algorithm",
            "policy",
            "reinforcement",
            "problem",
            "learn",
            "agent",
            "game",
            "state",
            "action"
           ],
           [
            "algorithm",
            "datum",
            "graph",
            "problem",
            "cluster",
            "node",
            "model",
            "edu",
            "clustering",
            "k"
           ],
           [
            "object",
            "visual",
            "image",
            "system",
            "model",
            "information",
            "recognition",
            "d",
            "human",
            "representation"
           ]
          ]
         },
         "header": {
          "fill": {
           "color": "rgb(220, 220, 220)"
          },
          "values": [
           "Topic 00",
           "Topic 01",
           "Topic 02",
           "Topic 03",
           "Topic 04",
           "Topic 05",
           "Topic 06",
           "Topic 07",
           "Topic 08",
           "Topic 09"
          ]
         },
         "type": "table"
        }
       ],
       "layout": {
        "template": {
         "data": {
          "bar": [
           {
            "error_x": {
             "color": "#2a3f5f"
            },
            "error_y": {
             "color": "#2a3f5f"
            },
            "marker": {
             "line": {
              "color": "#E5ECF6",
              "width": 0.5
             },
             "pattern": {
              "fillmode": "overlay",
              "size": 10,
              "solidity": 0.2
             }
            },
            "type": "bar"
           }
          ],
          "barpolar": [
           {
            "marker": {
             "line": {
              "color": "#E5ECF6",
              "width": 0.5
             },
             "pattern": {
              "fillmode": "overlay",
              "size": 10,
              "solidity": 0.2
             }
            },
            "type": "barpolar"
           }
          ],
          "carpet": [
           {
            "aaxis": {
             "endlinecolor": "#2a3f5f",
             "gridcolor": "white",
             "linecolor": "white",
             "minorgridcolor": "white",
             "startlinecolor": "#2a3f5f"
            },
            "baxis": {
             "endlinecolor": "#2a3f5f",
             "gridcolor": "white",
             "linecolor": "white",
             "minorgridcolor": "white",
             "startlinecolor": "#2a3f5f"
            },
            "type": "carpet"
           }
          ],
          "choropleth": [
           {
            "colorbar": {
             "outlinewidth": 0,
             "ticks": ""
            },
            "type": "choropleth"
           }
          ],
          "contour": [
           {
            "colorbar": {
             "outlinewidth": 0,
             "ticks": ""
            },
            "colorscale": [
             [
              0,
              "#0d0887"
             ],
             [
              0.1111111111111111,
              "#46039f"
             ],
             [
              0.2222222222222222,
              "#7201a8"
             ],
             [
              0.3333333333333333,
              "#9c179e"
             ],
             [
              0.4444444444444444,
              "#bd3786"
             ],
             [
              0.5555555555555556,
              "#d8576b"
             ],
             [
              0.6666666666666666,
              "#ed7953"
             ],
             [
              0.7777777777777778,
              "#fb9f3a"
             ],
             [
              0.8888888888888888,
              "#fdca26"
             ],
             [
              1,
              "#f0f921"
             ]
            ],
            "type": "contour"
           }
          ],
          "contourcarpet": [
           {
            "colorbar": {
             "outlinewidth": 0,
             "ticks": ""
            },
            "type": "contourcarpet"
           }
          ],
          "heatmap": [
           {
            "colorbar": {
             "outlinewidth": 0,
             "ticks": ""
            },
            "colorscale": [
             [
              0,
              "#0d0887"
             ],
             [
              0.1111111111111111,
              "#46039f"
             ],
             [
              0.2222222222222222,
              "#7201a8"
             ],
             [
              0.3333333333333333,
              "#9c179e"
             ],
             [
              0.4444444444444444,
              "#bd3786"
             ],
             [
              0.5555555555555556,
              "#d8576b"
             ],
             [
              0.6666666666666666,
              "#ed7953"
             ],
             [
              0.7777777777777778,
              "#fb9f3a"
             ],
             [
              0.8888888888888888,
              "#fdca26"
             ],
             [
              1,
              "#f0f921"
             ]
            ],
            "type": "heatmap"
           }
          ],
          "heatmapgl": [
           {
            "colorbar": {
             "outlinewidth": 0,
             "ticks": ""
            },
            "colorscale": [
             [
              0,
              "#0d0887"
             ],
             [
              0.1111111111111111,
              "#46039f"
             ],
             [
              0.2222222222222222,
              "#7201a8"
             ],
             [
              0.3333333333333333,
              "#9c179e"
             ],
             [
              0.4444444444444444,
              "#bd3786"
             ],
             [
              0.5555555555555556,
              "#d8576b"
             ],
             [
              0.6666666666666666,
              "#ed7953"
             ],
             [
              0.7777777777777778,
              "#fb9f3a"
             ],
             [
              0.8888888888888888,
              "#fdca26"
             ],
             [
              1,
              "#f0f921"
             ]
            ],
            "type": "heatmapgl"
           }
          ],
          "histogram": [
           {
            "marker": {
             "pattern": {
              "fillmode": "overlay",
              "size": 10,
              "solidity": 0.2
             }
            },
            "type": "histogram"
           }
          ],
          "histogram2d": [
           {
            "colorbar": {
             "outlinewidth": 0,
             "ticks": ""
            },
            "colorscale": [
             [
              0,
              "#0d0887"
             ],
             [
              0.1111111111111111,
              "#46039f"
             ],
             [
              0.2222222222222222,
              "#7201a8"
             ],
             [
              0.3333333333333333,
              "#9c179e"
             ],
             [
              0.4444444444444444,
              "#bd3786"
             ],
             [
              0.5555555555555556,
              "#d8576b"
             ],
             [
              0.6666666666666666,
              "#ed7953"
             ],
             [
              0.7777777777777778,
              "#fb9f3a"
             ],
             [
              0.8888888888888888,
              "#fdca26"
             ],
             [
              1,
              "#f0f921"
             ]
            ],
            "type": "histogram2d"
           }
          ],
          "histogram2dcontour": [
           {
            "colorbar": {
             "outlinewidth": 0,
             "ticks": ""
            },
            "colorscale": [
             [
              0,
              "#0d0887"
             ],
             [
              0.1111111111111111,
              "#46039f"
             ],
             [
              0.2222222222222222,
              "#7201a8"
             ],
             [
              0.3333333333333333,
              "#9c179e"
             ],
             [
              0.4444444444444444,
              "#bd3786"
             ],
             [
              0.5555555555555556,
              "#d8576b"
             ],
             [
              0.6666666666666666,
              "#ed7953"
             ],
             [
              0.7777777777777778,
              "#fb9f3a"
             ],
             [
              0.8888888888888888,
              "#fdca26"
             ],
             [
              1,
              "#f0f921"
             ]
            ],
            "type": "histogram2dcontour"
           }
          ],
          "mesh3d": [
           {
            "colorbar": {
             "outlinewidth": 0,
             "ticks": ""
            },
            "type": "mesh3d"
           }
          ],
          "parcoords": [
           {
            "line": {
             "colorbar": {
              "outlinewidth": 0,
              "ticks": ""
             }
            },
            "type": "parcoords"
           }
          ],
          "pie": [
           {
            "automargin": true,
            "type": "pie"
           }
          ],
          "scatter": [
           {
            "marker": {
             "colorbar": {
              "outlinewidth": 0,
              "ticks": ""
             }
            },
            "type": "scatter"
           }
          ],
          "scatter3d": [
           {
            "line": {
             "colorbar": {
              "outlinewidth": 0,
              "ticks": ""
             }
            },
            "marker": {
             "colorbar": {
              "outlinewidth": 0,
              "ticks": ""
             }
            },
            "type": "scatter3d"
           }
          ],
          "scattercarpet": [
           {
            "marker": {
             "colorbar": {
              "outlinewidth": 0,
              "ticks": ""
             }
            },
            "type": "scattercarpet"
           }
          ],
          "scattergeo": [
           {
            "marker": {
             "colorbar": {
              "outlinewidth": 0,
              "ticks": ""
             }
            },
            "type": "scattergeo"
           }
          ],
          "scattergl": [
           {
            "marker": {
             "colorbar": {
              "outlinewidth": 0,
              "ticks": ""
             }
            },
            "type": "scattergl"
           }
          ],
          "scattermapbox": [
           {
            "marker": {
             "colorbar": {
              "outlinewidth": 0,
              "ticks": ""
             }
            },
            "type": "scattermapbox"
           }
          ],
          "scatterpolar": [
           {
            "marker": {
             "colorbar": {
              "outlinewidth": 0,
              "ticks": ""
             }
            },
            "type": "scatterpolar"
           }
          ],
          "scatterpolargl": [
           {
            "marker": {
             "colorbar": {
              "outlinewidth": 0,
              "ticks": ""
             }
            },
            "type": "scatterpolargl"
           }
          ],
          "scatterternary": [
           {
            "marker": {
             "colorbar": {
              "outlinewidth": 0,
              "ticks": ""
             }
            },
            "type": "scatterternary"
           }
          ],
          "surface": [
           {
            "colorbar": {
             "outlinewidth": 0,
             "ticks": ""
            },
            "colorscale": [
             [
              0,
              "#0d0887"
             ],
             [
              0.1111111111111111,
              "#46039f"
             ],
             [
              0.2222222222222222,
              "#7201a8"
             ],
             [
              0.3333333333333333,
              "#9c179e"
             ],
             [
              0.4444444444444444,
              "#bd3786"
             ],
             [
              0.5555555555555556,
              "#d8576b"
             ],
             [
              0.6666666666666666,
              "#ed7953"
             ],
             [
              0.7777777777777778,
              "#fb9f3a"
             ],
             [
              0.8888888888888888,
              "#fdca26"
             ],
             [
              1,
              "#f0f921"
             ]
            ],
            "type": "surface"
           }
          ],
          "table": [
           {
            "cells": {
             "fill": {
              "color": "#EBF0F8"
             },
             "line": {
              "color": "white"
             }
            },
            "header": {
             "fill": {
              "color": "#C8D4E3"
             },
             "line": {
              "color": "white"
             }
            },
            "type": "table"
           }
          ]
         },
         "layout": {
          "annotationdefaults": {
           "arrowcolor": "#2a3f5f",
           "arrowhead": 0,
           "arrowwidth": 1
          },
          "autotypenumbers": "strict",
          "coloraxis": {
           "colorbar": {
            "outlinewidth": 0,
            "ticks": ""
           }
          },
          "colorscale": {
           "diverging": [
            [
             0,
             "#8e0152"
            ],
            [
             0.1,
             "#c51b7d"
            ],
            [
             0.2,
             "#de77ae"
            ],
            [
             0.3,
             "#f1b6da"
            ],
            [
             0.4,
             "#fde0ef"
            ],
            [
             0.5,
             "#f7f7f7"
            ],
            [
             0.6,
             "#e6f5d0"
            ],
            [
             0.7,
             "#b8e186"
            ],
            [
             0.8,
             "#7fbc41"
            ],
            [
             0.9,
             "#4d9221"
            ],
            [
             1,
             "#276419"
            ]
           ],
           "sequential": [
            [
             0,
             "#0d0887"
            ],
            [
             0.1111111111111111,
             "#46039f"
            ],
            [
             0.2222222222222222,
             "#7201a8"
            ],
            [
             0.3333333333333333,
             "#9c179e"
            ],
            [
             0.4444444444444444,
             "#bd3786"
            ],
            [
             0.5555555555555556,
             "#d8576b"
            ],
            [
             0.6666666666666666,
             "#ed7953"
            ],
            [
             0.7777777777777778,
             "#fb9f3a"
            ],
            [
             0.8888888888888888,
             "#fdca26"
            ],
            [
             1,
             "#f0f921"
            ]
           ],
           "sequentialminus": [
            [
             0,
             "#0d0887"
            ],
            [
             0.1111111111111111,
             "#46039f"
            ],
            [
             0.2222222222222222,
             "#7201a8"
            ],
            [
             0.3333333333333333,
             "#9c179e"
            ],
            [
             0.4444444444444444,
             "#bd3786"
            ],
            [
             0.5555555555555556,
             "#d8576b"
            ],
            [
             0.6666666666666666,
             "#ed7953"
            ],
            [
             0.7777777777777778,
             "#fb9f3a"
            ],
            [
             0.8888888888888888,
             "#fdca26"
            ],
            [
             1,
             "#f0f921"
            ]
           ]
          },
          "colorway": [
           "#636efa",
           "#EF553B",
           "#00cc96",
           "#ab63fa",
           "#FFA15A",
           "#19d3f3",
           "#FF6692",
           "#B6E880",
           "#FF97FF",
           "#FECB52"
          ],
          "font": {
           "color": "#2a3f5f"
          },
          "geo": {
           "bgcolor": "white",
           "lakecolor": "white",
           "landcolor": "#E5ECF6",
           "showlakes": true,
           "showland": true,
           "subunitcolor": "white"
          },
          "hoverlabel": {
           "align": "left"
          },
          "hovermode": "closest",
          "mapbox": {
           "style": "light"
          },
          "paper_bgcolor": "white",
          "plot_bgcolor": "#E5ECF6",
          "polar": {
           "angularaxis": {
            "gridcolor": "white",
            "linecolor": "white",
            "ticks": ""
           },
           "bgcolor": "#E5ECF6",
           "radialaxis": {
            "gridcolor": "white",
            "linecolor": "white",
            "ticks": ""
           }
          },
          "scene": {
           "xaxis": {
            "backgroundcolor": "#E5ECF6",
            "gridcolor": "white",
            "gridwidth": 2,
            "linecolor": "white",
            "showbackground": true,
            "ticks": "",
            "zerolinecolor": "white"
           },
           "yaxis": {
            "backgroundcolor": "#E5ECF6",
            "gridcolor": "white",
            "gridwidth": 2,
            "linecolor": "white",
            "showbackground": true,
            "ticks": "",
            "zerolinecolor": "white"
           },
           "zaxis": {
            "backgroundcolor": "#E5ECF6",
            "gridcolor": "white",
            "gridwidth": 2,
            "linecolor": "white",
            "showbackground": true,
            "ticks": "",
            "zerolinecolor": "white"
           }
          },
          "shapedefaults": {
           "line": {
            "color": "#2a3f5f"
           }
          },
          "ternary": {
           "aaxis": {
            "gridcolor": "white",
            "linecolor": "white",
            "ticks": ""
           },
           "baxis": {
            "gridcolor": "white",
            "linecolor": "white",
            "ticks": ""
           },
           "bgcolor": "#E5ECF6",
           "caxis": {
            "gridcolor": "white",
            "linecolor": "white",
            "ticks": ""
           }
          },
          "title": {
           "x": 0.05
          },
          "xaxis": {
           "automargin": true,
           "gridcolor": "white",
           "linecolor": "white",
           "ticks": "",
           "title": {
            "standoff": 15
           },
           "zerolinecolor": "white",
           "zerolinewidth": 2
          },
          "yaxis": {
           "automargin": true,
           "gridcolor": "white",
           "linecolor": "white",
           "ticks": "",
           "title": {
            "standoff": 15
           },
           "zerolinecolor": "white",
           "zerolinewidth": 2
          }
         }
        },
        "title": {
         "text": "Top words for the 10 topics"
        },
        "width": 1350
       }
      }
     },
     "metadata": {},
     "output_type": "display_data"
    },
    {
     "name": "stdout",
     "output_type": "stream",
     "text": [
      "Iter [300]===\n",
      "Topic 0: ['model', 'network', 'deep', 'learn', 'task', 'learning', 'neural', 'image', 'datum', 'train']\n",
      "Topic 1: ['datum', 'learning', 'algorithm', 'learn', 'problem', 'sample', 'function', 'method', 'example', 'label']\n",
      "Topic 2: ['model', 'university', 'brain', 'department', 'neural', 'analysis', 'datum', 'time', 'information', 'edu']\n",
      "Topic 3: ['model', 'distribution', 'inference', 'datum', 'generative', 'gaussian', 'gan', 'process', 'variable', 'variational']\n",
      "Topic 4: ['network', 'neural', 'input', 'learn', 'output', 'weight', 'unit', 'algorithm', 'training', 'function']\n",
      "Topic 5: ['neuron', 'neural', 'network', 'system', 'model', 'cell', 'analog', 't', 'activity', 'pattern']\n",
      "Topic 6: ['x', 'problem', 'n', 'function', 'algorithm', 't', 'optimization', 'matrix', 'method', 'k']\n",
      "Topic 7: ['learning', 'policy', 'algorithm', 'reinforcement', 'problem', 'learn', 'state', 'agent', 'control', 'game']\n",
      "Topic 8: ['algorithm', 'datum', 'graph', 'cluster', 'node', 'model', 'problem', 'k', 'edu', 'clustering']\n",
      "Topic 9: ['object', 'visual', 'image', 'system', 'model', 'recognition', 'information', 'representation', 'd', 'human']\n"
     ]
    },
    {
     "data": {
      "application/vnd.plotly.v1+json": {
       "config": {
        "plotlyServerURL": "https://plot.ly"
       },
       "data": [
        {
         "cells": {
          "fill": {
           "color": [
            [
             "rgb(197.33333333333334, 219.11111111111111, 191.88888888888889)",
             "rgb(197.33333333333334, 219.11111111111111, 191.88888888888889)",
             "rgb(197.33333333333334, 219.11111111111111, 191.88888888888889)",
             "rgb(197.33333333333334, 219.11111111111111, 191.88888888888889)",
             "rgb(197.33333333333334, 219.11111111111111, 191.88888888888889)",
             "rgb(197.33333333333334, 219.11111111111111, 191.88888888888889)",
             "rgb(197.33333333333334, 219.11111111111111, 191.88888888888889)",
             "rgb(197.33333333333334, 219.11111111111111, 191.88888888888889)",
             "rgb(217.66666666666666, 232.55555555555554, 214.44444444444446)",
             "rgb(217.66666666666666, 232.55555555555554, 214.44444444444446)"
            ],
            [
             "rgb(177.0, 205.66666666666666, 169.33333333333331)",
             "rgb(197.33333333333334, 219.11111111111111, 191.88888888888889)",
             "rgb(197.33333333333334, 219.11111111111111, 191.88888888888889)",
             "rgb(217.66666666666666, 232.55555555555554, 214.44444444444446)",
             "rgb(217.66666666666666, 232.55555555555554, 214.44444444444446)",
             "rgb(217.66666666666666, 232.55555555555554, 214.44444444444446)",
             "rgb(217.66666666666666, 232.55555555555554, 214.44444444444446)",
             "rgb(217.66666666666666, 232.55555555555554, 214.44444444444446)",
             "rgb(217.66666666666666, 232.55555555555554, 214.44444444444446)",
             "rgb(217.66666666666666, 232.55555555555554, 214.44444444444446)"
            ],
            [
             "rgb(197.33333333333334, 219.11111111111111, 191.88888888888889)",
             "rgb(197.33333333333334, 219.11111111111111, 191.88888888888889)",
             "rgb(217.66666666666666, 232.55555555555554, 214.44444444444446)",
             "rgb(217.66666666666666, 232.55555555555554, 214.44444444444446)",
             "rgb(217.66666666666666, 232.55555555555554, 214.44444444444446)",
             "rgb(217.66666666666666, 232.55555555555554, 214.44444444444446)",
             "rgb(217.66666666666666, 232.55555555555554, 214.44444444444446)",
             "rgb(217.66666666666666, 232.55555555555554, 214.44444444444446)",
             "rgb(217.66666666666666, 232.55555555555554, 214.44444444444446)",
             "rgb(217.66666666666666, 232.55555555555554, 214.44444444444446)"
            ],
            [
             "rgb(95.66666666666669, 151.88888888888889, 79.11111111111109)",
             "rgb(156.66666666666669, 192.22222222222223, 146.77777777777777)",
             "rgb(197.33333333333334, 219.11111111111111, 191.88888888888889)",
             "rgb(217.66666666666666, 232.55555555555554, 214.44444444444446)",
             "rgb(217.66666666666666, 232.55555555555554, 214.44444444444446)",
             "rgb(217.66666666666666, 232.55555555555554, 214.44444444444446)",
             "rgb(217.66666666666666, 232.55555555555554, 214.44444444444446)",
             "rgb(217.66666666666666, 232.55555555555554, 214.44444444444446)",
             "rgb(217.66666666666666, 232.55555555555554, 214.44444444444446)",
             "rgb(217.66666666666666, 232.55555555555554, 214.44444444444446)"
            ],
            [
             "rgb(75.33333333333334, 138.44444444444446, 56.55555555555554)",
             "rgb(177.0, 205.66666666666666, 169.33333333333331)",
             "rgb(197.33333333333334, 219.11111111111111, 191.88888888888889)",
             "rgb(217.66666666666666, 232.55555555555554, 214.44444444444446)",
             "rgb(217.66666666666666, 232.55555555555554, 214.44444444444446)",
             "rgb(217.66666666666666, 232.55555555555554, 214.44444444444446)",
             "rgb(217.66666666666666, 232.55555555555554, 214.44444444444446)",
             "rgb(217.66666666666666, 232.55555555555554, 214.44444444444446)",
             "rgb(217.66666666666666, 232.55555555555554, 214.44444444444446)",
             "rgb(217.66666666666666, 232.55555555555554, 214.44444444444446)"
            ],
            [
             "rgb(177.0, 205.66666666666666, 169.33333333333331)",
             "rgb(197.33333333333334, 219.11111111111111, 191.88888888888889)",
             "rgb(197.33333333333334, 219.11111111111111, 191.88888888888889)",
             "rgb(197.33333333333334, 219.11111111111111, 191.88888888888889)",
             "rgb(197.33333333333334, 219.11111111111111, 191.88888888888889)",
             "rgb(197.33333333333334, 219.11111111111111, 191.88888888888889)",
             "rgb(217.66666666666666, 232.55555555555554, 214.44444444444446)",
             "rgb(217.66666666666666, 232.55555555555554, 214.44444444444446)",
             "rgb(217.66666666666666, 232.55555555555554, 214.44444444444446)",
             "rgb(238.0, 246.0, 237.0)"
            ],
            [
             "rgb(177.0, 205.66666666666666, 169.33333333333331)",
             "rgb(197.33333333333334, 219.11111111111111, 191.88888888888889)",
             "rgb(197.33333333333334, 219.11111111111111, 191.88888888888889)",
             "rgb(197.33333333333334, 219.11111111111111, 191.88888888888889)",
             "rgb(197.33333333333334, 219.11111111111111, 191.88888888888889)",
             "rgb(217.66666666666666, 232.55555555555554, 214.44444444444446)",
             "rgb(217.66666666666666, 232.55555555555554, 214.44444444444446)",
             "rgb(217.66666666666666, 232.55555555555554, 214.44444444444446)",
             "rgb(217.66666666666666, 232.55555555555554, 214.44444444444446)",
             "rgb(217.66666666666666, 232.55555555555554, 214.44444444444446)"
            ],
            [
             "rgb(177.0, 205.66666666666666, 169.33333333333331)",
             "rgb(197.33333333333334, 219.11111111111111, 191.88888888888889)",
             "rgb(197.33333333333334, 219.11111111111111, 191.88888888888889)",
             "rgb(197.33333333333334, 219.11111111111111, 191.88888888888889)",
             "rgb(217.66666666666666, 232.55555555555554, 214.44444444444446)",
             "rgb(217.66666666666666, 232.55555555555554, 214.44444444444446)",
             "rgb(217.66666666666666, 232.55555555555554, 214.44444444444446)",
             "rgb(217.66666666666666, 232.55555555555554, 214.44444444444446)",
             "rgb(217.66666666666666, 232.55555555555554, 214.44444444444446)",
             "rgb(217.66666666666666, 232.55555555555554, 214.44444444444446)"
            ],
            [
             "rgb(197.33333333333334, 219.11111111111111, 191.88888888888889)",
             "rgb(197.33333333333334, 219.11111111111111, 191.88888888888889)",
             "rgb(197.33333333333334, 219.11111111111111, 191.88888888888889)",
             "rgb(217.66666666666666, 232.55555555555554, 214.44444444444446)",
             "rgb(217.66666666666666, 232.55555555555554, 214.44444444444446)",
             "rgb(217.66666666666666, 232.55555555555554, 214.44444444444446)",
             "rgb(217.66666666666666, 232.55555555555554, 214.44444444444446)",
             "rgb(217.66666666666666, 232.55555555555554, 214.44444444444446)",
             "rgb(217.66666666666666, 232.55555555555554, 214.44444444444446)",
             "rgb(217.66666666666666, 232.55555555555554, 214.44444444444446)"
            ],
            [
             "rgb(177.0, 205.66666666666666, 169.33333333333331)",
             "rgb(197.33333333333334, 219.11111111111111, 191.88888888888889)",
             "rgb(197.33333333333334, 219.11111111111111, 191.88888888888889)",
             "rgb(197.33333333333334, 219.11111111111111, 191.88888888888889)",
             "rgb(217.66666666666666, 232.55555555555554, 214.44444444444446)",
             "rgb(217.66666666666666, 232.55555555555554, 214.44444444444446)",
             "rgb(217.66666666666666, 232.55555555555554, 214.44444444444446)",
             "rgb(217.66666666666666, 232.55555555555554, 214.44444444444446)",
             "rgb(217.66666666666666, 232.55555555555554, 214.44444444444446)",
             "rgb(217.66666666666666, 232.55555555555554, 214.44444444444446)"
            ]
           ]
          },
          "values": [
           [
            "model",
            "network",
            "deep",
            "learn",
            "task",
            "learning",
            "neural",
            "image",
            "datum",
            "train"
           ],
           [
            "datum",
            "learning",
            "algorithm",
            "learn",
            "problem",
            "sample",
            "function",
            "method",
            "example",
            "label"
           ],
           [
            "model",
            "university",
            "brain",
            "department",
            "neural",
            "analysis",
            "datum",
            "time",
            "information",
            "edu"
           ],
           [
            "model",
            "distribution",
            "inference",
            "datum",
            "generative",
            "gaussian",
            "gan",
            "process",
            "variable",
            "variational"
           ],
           [
            "network",
            "neural",
            "input",
            "learn",
            "output",
            "weight",
            "unit",
            "algorithm",
            "training",
            "function"
           ],
           [
            "neuron",
            "neural",
            "network",
            "system",
            "model",
            "cell",
            "analog",
            "t",
            "activity",
            "pattern"
           ],
           [
            "x",
            "problem",
            "n",
            "function",
            "algorithm",
            "t",
            "optimization",
            "matrix",
            "method",
            "k"
           ],
           [
            "learning",
            "policy",
            "algorithm",
            "reinforcement",
            "problem",
            "learn",
            "state",
            "agent",
            "control",
            "game"
           ],
           [
            "algorithm",
            "datum",
            "graph",
            "cluster",
            "node",
            "model",
            "problem",
            "k",
            "edu",
            "clustering"
           ],
           [
            "object",
            "visual",
            "image",
            "system",
            "model",
            "recognition",
            "information",
            "representation",
            "d",
            "human"
           ]
          ]
         },
         "header": {
          "fill": {
           "color": "rgb(220, 220, 220)"
          },
          "values": [
           "Topic 00",
           "Topic 01",
           "Topic 02",
           "Topic 03",
           "Topic 04",
           "Topic 05",
           "Topic 06",
           "Topic 07",
           "Topic 08",
           "Topic 09"
          ]
         },
         "type": "table"
        }
       ],
       "layout": {
        "template": {
         "data": {
          "bar": [
           {
            "error_x": {
             "color": "#2a3f5f"
            },
            "error_y": {
             "color": "#2a3f5f"
            },
            "marker": {
             "line": {
              "color": "#E5ECF6",
              "width": 0.5
             },
             "pattern": {
              "fillmode": "overlay",
              "size": 10,
              "solidity": 0.2
             }
            },
            "type": "bar"
           }
          ],
          "barpolar": [
           {
            "marker": {
             "line": {
              "color": "#E5ECF6",
              "width": 0.5
             },
             "pattern": {
              "fillmode": "overlay",
              "size": 10,
              "solidity": 0.2
             }
            },
            "type": "barpolar"
           }
          ],
          "carpet": [
           {
            "aaxis": {
             "endlinecolor": "#2a3f5f",
             "gridcolor": "white",
             "linecolor": "white",
             "minorgridcolor": "white",
             "startlinecolor": "#2a3f5f"
            },
            "baxis": {
             "endlinecolor": "#2a3f5f",
             "gridcolor": "white",
             "linecolor": "white",
             "minorgridcolor": "white",
             "startlinecolor": "#2a3f5f"
            },
            "type": "carpet"
           }
          ],
          "choropleth": [
           {
            "colorbar": {
             "outlinewidth": 0,
             "ticks": ""
            },
            "type": "choropleth"
           }
          ],
          "contour": [
           {
            "colorbar": {
             "outlinewidth": 0,
             "ticks": ""
            },
            "colorscale": [
             [
              0,
              "#0d0887"
             ],
             [
              0.1111111111111111,
              "#46039f"
             ],
             [
              0.2222222222222222,
              "#7201a8"
             ],
             [
              0.3333333333333333,
              "#9c179e"
             ],
             [
              0.4444444444444444,
              "#bd3786"
             ],
             [
              0.5555555555555556,
              "#d8576b"
             ],
             [
              0.6666666666666666,
              "#ed7953"
             ],
             [
              0.7777777777777778,
              "#fb9f3a"
             ],
             [
              0.8888888888888888,
              "#fdca26"
             ],
             [
              1,
              "#f0f921"
             ]
            ],
            "type": "contour"
           }
          ],
          "contourcarpet": [
           {
            "colorbar": {
             "outlinewidth": 0,
             "ticks": ""
            },
            "type": "contourcarpet"
           }
          ],
          "heatmap": [
           {
            "colorbar": {
             "outlinewidth": 0,
             "ticks": ""
            },
            "colorscale": [
             [
              0,
              "#0d0887"
             ],
             [
              0.1111111111111111,
              "#46039f"
             ],
             [
              0.2222222222222222,
              "#7201a8"
             ],
             [
              0.3333333333333333,
              "#9c179e"
             ],
             [
              0.4444444444444444,
              "#bd3786"
             ],
             [
              0.5555555555555556,
              "#d8576b"
             ],
             [
              0.6666666666666666,
              "#ed7953"
             ],
             [
              0.7777777777777778,
              "#fb9f3a"
             ],
             [
              0.8888888888888888,
              "#fdca26"
             ],
             [
              1,
              "#f0f921"
             ]
            ],
            "type": "heatmap"
           }
          ],
          "heatmapgl": [
           {
            "colorbar": {
             "outlinewidth": 0,
             "ticks": ""
            },
            "colorscale": [
             [
              0,
              "#0d0887"
             ],
             [
              0.1111111111111111,
              "#46039f"
             ],
             [
              0.2222222222222222,
              "#7201a8"
             ],
             [
              0.3333333333333333,
              "#9c179e"
             ],
             [
              0.4444444444444444,
              "#bd3786"
             ],
             [
              0.5555555555555556,
              "#d8576b"
             ],
             [
              0.6666666666666666,
              "#ed7953"
             ],
             [
              0.7777777777777778,
              "#fb9f3a"
             ],
             [
              0.8888888888888888,
              "#fdca26"
             ],
             [
              1,
              "#f0f921"
             ]
            ],
            "type": "heatmapgl"
           }
          ],
          "histogram": [
           {
            "marker": {
             "pattern": {
              "fillmode": "overlay",
              "size": 10,
              "solidity": 0.2
             }
            },
            "type": "histogram"
           }
          ],
          "histogram2d": [
           {
            "colorbar": {
             "outlinewidth": 0,
             "ticks": ""
            },
            "colorscale": [
             [
              0,
              "#0d0887"
             ],
             [
              0.1111111111111111,
              "#46039f"
             ],
             [
              0.2222222222222222,
              "#7201a8"
             ],
             [
              0.3333333333333333,
              "#9c179e"
             ],
             [
              0.4444444444444444,
              "#bd3786"
             ],
             [
              0.5555555555555556,
              "#d8576b"
             ],
             [
              0.6666666666666666,
              "#ed7953"
             ],
             [
              0.7777777777777778,
              "#fb9f3a"
             ],
             [
              0.8888888888888888,
              "#fdca26"
             ],
             [
              1,
              "#f0f921"
             ]
            ],
            "type": "histogram2d"
           }
          ],
          "histogram2dcontour": [
           {
            "colorbar": {
             "outlinewidth": 0,
             "ticks": ""
            },
            "colorscale": [
             [
              0,
              "#0d0887"
             ],
             [
              0.1111111111111111,
              "#46039f"
             ],
             [
              0.2222222222222222,
              "#7201a8"
             ],
             [
              0.3333333333333333,
              "#9c179e"
             ],
             [
              0.4444444444444444,
              "#bd3786"
             ],
             [
              0.5555555555555556,
              "#d8576b"
             ],
             [
              0.6666666666666666,
              "#ed7953"
             ],
             [
              0.7777777777777778,
              "#fb9f3a"
             ],
             [
              0.8888888888888888,
              "#fdca26"
             ],
             [
              1,
              "#f0f921"
             ]
            ],
            "type": "histogram2dcontour"
           }
          ],
          "mesh3d": [
           {
            "colorbar": {
             "outlinewidth": 0,
             "ticks": ""
            },
            "type": "mesh3d"
           }
          ],
          "parcoords": [
           {
            "line": {
             "colorbar": {
              "outlinewidth": 0,
              "ticks": ""
             }
            },
            "type": "parcoords"
           }
          ],
          "pie": [
           {
            "automargin": true,
            "type": "pie"
           }
          ],
          "scatter": [
           {
            "marker": {
             "colorbar": {
              "outlinewidth": 0,
              "ticks": ""
             }
            },
            "type": "scatter"
           }
          ],
          "scatter3d": [
           {
            "line": {
             "colorbar": {
              "outlinewidth": 0,
              "ticks": ""
             }
            },
            "marker": {
             "colorbar": {
              "outlinewidth": 0,
              "ticks": ""
             }
            },
            "type": "scatter3d"
           }
          ],
          "scattercarpet": [
           {
            "marker": {
             "colorbar": {
              "outlinewidth": 0,
              "ticks": ""
             }
            },
            "type": "scattercarpet"
           }
          ],
          "scattergeo": [
           {
            "marker": {
             "colorbar": {
              "outlinewidth": 0,
              "ticks": ""
             }
            },
            "type": "scattergeo"
           }
          ],
          "scattergl": [
           {
            "marker": {
             "colorbar": {
              "outlinewidth": 0,
              "ticks": ""
             }
            },
            "type": "scattergl"
           }
          ],
          "scattermapbox": [
           {
            "marker": {
             "colorbar": {
              "outlinewidth": 0,
              "ticks": ""
             }
            },
            "type": "scattermapbox"
           }
          ],
          "scatterpolar": [
           {
            "marker": {
             "colorbar": {
              "outlinewidth": 0,
              "ticks": ""
             }
            },
            "type": "scatterpolar"
           }
          ],
          "scatterpolargl": [
           {
            "marker": {
             "colorbar": {
              "outlinewidth": 0,
              "ticks": ""
             }
            },
            "type": "scatterpolargl"
           }
          ],
          "scatterternary": [
           {
            "marker": {
             "colorbar": {
              "outlinewidth": 0,
              "ticks": ""
             }
            },
            "type": "scatterternary"
           }
          ],
          "surface": [
           {
            "colorbar": {
             "outlinewidth": 0,
             "ticks": ""
            },
            "colorscale": [
             [
              0,
              "#0d0887"
             ],
             [
              0.1111111111111111,
              "#46039f"
             ],
             [
              0.2222222222222222,
              "#7201a8"
             ],
             [
              0.3333333333333333,
              "#9c179e"
             ],
             [
              0.4444444444444444,
              "#bd3786"
             ],
             [
              0.5555555555555556,
              "#d8576b"
             ],
             [
              0.6666666666666666,
              "#ed7953"
             ],
             [
              0.7777777777777778,
              "#fb9f3a"
             ],
             [
              0.8888888888888888,
              "#fdca26"
             ],
             [
              1,
              "#f0f921"
             ]
            ],
            "type": "surface"
           }
          ],
          "table": [
           {
            "cells": {
             "fill": {
              "color": "#EBF0F8"
             },
             "line": {
              "color": "white"
             }
            },
            "header": {
             "fill": {
              "color": "#C8D4E3"
             },
             "line": {
              "color": "white"
             }
            },
            "type": "table"
           }
          ]
         },
         "layout": {
          "annotationdefaults": {
           "arrowcolor": "#2a3f5f",
           "arrowhead": 0,
           "arrowwidth": 1
          },
          "autotypenumbers": "strict",
          "coloraxis": {
           "colorbar": {
            "outlinewidth": 0,
            "ticks": ""
           }
          },
          "colorscale": {
           "diverging": [
            [
             0,
             "#8e0152"
            ],
            [
             0.1,
             "#c51b7d"
            ],
            [
             0.2,
             "#de77ae"
            ],
            [
             0.3,
             "#f1b6da"
            ],
            [
             0.4,
             "#fde0ef"
            ],
            [
             0.5,
             "#f7f7f7"
            ],
            [
             0.6,
             "#e6f5d0"
            ],
            [
             0.7,
             "#b8e186"
            ],
            [
             0.8,
             "#7fbc41"
            ],
            [
             0.9,
             "#4d9221"
            ],
            [
             1,
             "#276419"
            ]
           ],
           "sequential": [
            [
             0,
             "#0d0887"
            ],
            [
             0.1111111111111111,
             "#46039f"
            ],
            [
             0.2222222222222222,
             "#7201a8"
            ],
            [
             0.3333333333333333,
             "#9c179e"
            ],
            [
             0.4444444444444444,
             "#bd3786"
            ],
            [
             0.5555555555555556,
             "#d8576b"
            ],
            [
             0.6666666666666666,
             "#ed7953"
            ],
            [
             0.7777777777777778,
             "#fb9f3a"
            ],
            [
             0.8888888888888888,
             "#fdca26"
            ],
            [
             1,
             "#f0f921"
            ]
           ],
           "sequentialminus": [
            [
             0,
             "#0d0887"
            ],
            [
             0.1111111111111111,
             "#46039f"
            ],
            [
             0.2222222222222222,
             "#7201a8"
            ],
            [
             0.3333333333333333,
             "#9c179e"
            ],
            [
             0.4444444444444444,
             "#bd3786"
            ],
            [
             0.5555555555555556,
             "#d8576b"
            ],
            [
             0.6666666666666666,
             "#ed7953"
            ],
            [
             0.7777777777777778,
             "#fb9f3a"
            ],
            [
             0.8888888888888888,
             "#fdca26"
            ],
            [
             1,
             "#f0f921"
            ]
           ]
          },
          "colorway": [
           "#636efa",
           "#EF553B",
           "#00cc96",
           "#ab63fa",
           "#FFA15A",
           "#19d3f3",
           "#FF6692",
           "#B6E880",
           "#FF97FF",
           "#FECB52"
          ],
          "font": {
           "color": "#2a3f5f"
          },
          "geo": {
           "bgcolor": "white",
           "lakecolor": "white",
           "landcolor": "#E5ECF6",
           "showlakes": true,
           "showland": true,
           "subunitcolor": "white"
          },
          "hoverlabel": {
           "align": "left"
          },
          "hovermode": "closest",
          "mapbox": {
           "style": "light"
          },
          "paper_bgcolor": "white",
          "plot_bgcolor": "#E5ECF6",
          "polar": {
           "angularaxis": {
            "gridcolor": "white",
            "linecolor": "white",
            "ticks": ""
           },
           "bgcolor": "#E5ECF6",
           "radialaxis": {
            "gridcolor": "white",
            "linecolor": "white",
            "ticks": ""
           }
          },
          "scene": {
           "xaxis": {
            "backgroundcolor": "#E5ECF6",
            "gridcolor": "white",
            "gridwidth": 2,
            "linecolor": "white",
            "showbackground": true,
            "ticks": "",
            "zerolinecolor": "white"
           },
           "yaxis": {
            "backgroundcolor": "#E5ECF6",
            "gridcolor": "white",
            "gridwidth": 2,
            "linecolor": "white",
            "showbackground": true,
            "ticks": "",
            "zerolinecolor": "white"
           },
           "zaxis": {
            "backgroundcolor": "#E5ECF6",
            "gridcolor": "white",
            "gridwidth": 2,
            "linecolor": "white",
            "showbackground": true,
            "ticks": "",
            "zerolinecolor": "white"
           }
          },
          "shapedefaults": {
           "line": {
            "color": "#2a3f5f"
           }
          },
          "ternary": {
           "aaxis": {
            "gridcolor": "white",
            "linecolor": "white",
            "ticks": ""
           },
           "baxis": {
            "gridcolor": "white",
            "linecolor": "white",
            "ticks": ""
           },
           "bgcolor": "#E5ECF6",
           "caxis": {
            "gridcolor": "white",
            "linecolor": "white",
            "ticks": ""
           }
          },
          "title": {
           "x": 0.05
          },
          "xaxis": {
           "automargin": true,
           "gridcolor": "white",
           "linecolor": "white",
           "ticks": "",
           "title": {
            "standoff": 15
           },
           "zerolinecolor": "white",
           "zerolinewidth": 2
          },
          "yaxis": {
           "automargin": true,
           "gridcolor": "white",
           "linecolor": "white",
           "ticks": "",
           "title": {
            "standoff": 15
           },
           "zerolinecolor": "white",
           "zerolinewidth": 2
          }
         }
        },
        "title": {
         "text": "Top words for the 10 topics"
        },
        "width": 1350
       }
      }
     },
     "metadata": {},
     "output_type": "display_data"
    },
    {
     "name": "stdout",
     "output_type": "stream",
     "text": [
      "Iter [350]===\n",
      "Topic 0: ['network', 'deep', 'model', 'task', 'learn', 'learning', 'neural', 'image', 'train', 'representation']\n",
      "Topic 1: ['datum', 'learning', 'algorithm', 'problem', 'learn', 'sample', 'function', 'training', 'label', 'set']\n",
      "Topic 2: ['university', 'model', 'analysis', 'department', 'brain', 'time', 'datum', 'edu', 'neural', 'prediction']\n",
      "Topic 3: ['model', 'distribution', 'inference', 'datum', 'sample', 'generative', 'gaussian', 'gan', 'process', 'variational']\n",
      "Topic 4: ['network', 'neural', 'input', 'weight', 'unit', 'learn', 'output', 'training', 'function', 'error']\n",
      "Topic 5: ['neuron', 'network', 'neural', 'system', 'model', 'cell', 'analog', 'pattern', 'study', 'information']\n",
      "Topic 6: ['x', 'problem', 'n', 'function', 'algorithm', 't', 'method', 'k', 'matrix', 'optimization']\n",
      "Topic 7: ['learning', 'algorithm', 'policy', 'reinforcement', 'problem', 'learn', 'state', 'agent', 'control', 'action']\n",
      "Topic 8: ['algorithm', 'graph', 'cluster', 'problem', 'datum', 'node', 'model', 'k', 'clustering', 'network']\n",
      "Topic 9: ['object', 'image', 'visual', 'system', 'model', 'recognition', 'information', 'd', 'input', 'representation']\n"
     ]
    },
    {
     "data": {
      "application/vnd.plotly.v1+json": {
       "config": {
        "plotlyServerURL": "https://plot.ly"
       },
       "data": [
        {
         "cells": {
          "fill": {
           "color": [
            [
             "rgb(177.0, 205.66666666666666, 169.33333333333331)",
             "rgb(197.33333333333334, 219.11111111111111, 191.88888888888889)",
             "rgb(197.33333333333334, 219.11111111111111, 191.88888888888889)",
             "rgb(197.33333333333334, 219.11111111111111, 191.88888888888889)",
             "rgb(197.33333333333334, 219.11111111111111, 191.88888888888889)",
             "rgb(197.33333333333334, 219.11111111111111, 191.88888888888889)",
             "rgb(197.33333333333334, 219.11111111111111, 191.88888888888889)",
             "rgb(197.33333333333334, 219.11111111111111, 191.88888888888889)",
             "rgb(217.66666666666666, 232.55555555555554, 214.44444444444446)",
             "rgb(217.66666666666666, 232.55555555555554, 214.44444444444446)"
            ],
            [
             "rgb(177.0, 205.66666666666666, 169.33333333333331)",
             "rgb(197.33333333333334, 219.11111111111111, 191.88888888888889)",
             "rgb(197.33333333333334, 219.11111111111111, 191.88888888888889)",
             "rgb(197.33333333333334, 219.11111111111111, 191.88888888888889)",
             "rgb(217.66666666666666, 232.55555555555554, 214.44444444444446)",
             "rgb(217.66666666666666, 232.55555555555554, 214.44444444444446)",
             "rgb(217.66666666666666, 232.55555555555554, 214.44444444444446)",
             "rgb(217.66666666666666, 232.55555555555554, 214.44444444444446)",
             "rgb(217.66666666666666, 232.55555555555554, 214.44444444444446)",
             "rgb(217.66666666666666, 232.55555555555554, 214.44444444444446)"
            ],
            [
             "rgb(197.33333333333334, 219.11111111111111, 191.88888888888889)",
             "rgb(197.33333333333334, 219.11111111111111, 191.88888888888889)",
             "rgb(217.66666666666666, 232.55555555555554, 214.44444444444446)",
             "rgb(217.66666666666666, 232.55555555555554, 214.44444444444446)",
             "rgb(217.66666666666666, 232.55555555555554, 214.44444444444446)",
             "rgb(217.66666666666666, 232.55555555555554, 214.44444444444446)",
             "rgb(217.66666666666666, 232.55555555555554, 214.44444444444446)",
             "rgb(217.66666666666666, 232.55555555555554, 214.44444444444446)",
             "rgb(217.66666666666666, 232.55555555555554, 214.44444444444446)",
             "rgb(217.66666666666666, 232.55555555555554, 214.44444444444446)"
            ],
            [
             "rgb(95.66666666666669, 151.88888888888889, 79.11111111111109)",
             "rgb(156.66666666666669, 192.22222222222223, 146.77777777777777)",
             "rgb(197.33333333333334, 219.11111111111111, 191.88888888888889)",
             "rgb(197.33333333333334, 219.11111111111111, 191.88888888888889)",
             "rgb(217.66666666666666, 232.55555555555554, 214.44444444444446)",
             "rgb(217.66666666666666, 232.55555555555554, 214.44444444444446)",
             "rgb(217.66666666666666, 232.55555555555554, 214.44444444444446)",
             "rgb(217.66666666666666, 232.55555555555554, 214.44444444444446)",
             "rgb(217.66666666666666, 232.55555555555554, 214.44444444444446)",
             "rgb(217.66666666666666, 232.55555555555554, 214.44444444444446)"
            ],
            [
             "rgb(95.66666666666669, 151.88888888888889, 79.11111111111109)",
             "rgb(177.0, 205.66666666666666, 169.33333333333331)",
             "rgb(197.33333333333334, 219.11111111111111, 191.88888888888889)",
             "rgb(217.66666666666666, 232.55555555555554, 214.44444444444446)",
             "rgb(217.66666666666666, 232.55555555555554, 214.44444444444446)",
             "rgb(217.66666666666666, 232.55555555555554, 214.44444444444446)",
             "rgb(217.66666666666666, 232.55555555555554, 214.44444444444446)",
             "rgb(217.66666666666666, 232.55555555555554, 214.44444444444446)",
             "rgb(217.66666666666666, 232.55555555555554, 214.44444444444446)",
             "rgb(217.66666666666666, 232.55555555555554, 214.44444444444446)"
            ],
            [
             "rgb(177.0, 205.66666666666666, 169.33333333333331)",
             "rgb(197.33333333333334, 219.11111111111111, 191.88888888888889)",
             "rgb(197.33333333333334, 219.11111111111111, 191.88888888888889)",
             "rgb(197.33333333333334, 219.11111111111111, 191.88888888888889)",
             "rgb(197.33333333333334, 219.11111111111111, 191.88888888888889)",
             "rgb(197.33333333333334, 219.11111111111111, 191.88888888888889)",
             "rgb(217.66666666666666, 232.55555555555554, 214.44444444444446)",
             "rgb(217.66666666666666, 232.55555555555554, 214.44444444444446)",
             "rgb(238.0, 246.0, 237.0)",
             "rgb(238.0, 246.0, 237.0)"
            ],
            [
             "rgb(177.0, 205.66666666666666, 169.33333333333331)",
             "rgb(197.33333333333334, 219.11111111111111, 191.88888888888889)",
             "rgb(197.33333333333334, 219.11111111111111, 191.88888888888889)",
             "rgb(197.33333333333334, 219.11111111111111, 191.88888888888889)",
             "rgb(197.33333333333334, 219.11111111111111, 191.88888888888889)",
             "rgb(197.33333333333334, 219.11111111111111, 191.88888888888889)",
             "rgb(217.66666666666666, 232.55555555555554, 214.44444444444446)",
             "rgb(217.66666666666666, 232.55555555555554, 214.44444444444446)",
             "rgb(217.66666666666666, 232.55555555555554, 214.44444444444446)",
             "rgb(217.66666666666666, 232.55555555555554, 214.44444444444446)"
            ],
            [
             "rgb(177.0, 205.66666666666666, 169.33333333333331)",
             "rgb(197.33333333333334, 219.11111111111111, 191.88888888888889)",
             "rgb(197.33333333333334, 219.11111111111111, 191.88888888888889)",
             "rgb(197.33333333333334, 219.11111111111111, 191.88888888888889)",
             "rgb(197.33333333333334, 219.11111111111111, 191.88888888888889)",
             "rgb(217.66666666666666, 232.55555555555554, 214.44444444444446)",
             "rgb(217.66666666666666, 232.55555555555554, 214.44444444444446)",
             "rgb(217.66666666666666, 232.55555555555554, 214.44444444444446)",
             "rgb(217.66666666666666, 232.55555555555554, 214.44444444444446)",
             "rgb(217.66666666666666, 232.55555555555554, 214.44444444444446)"
            ],
            [
             "rgb(177.0, 205.66666666666666, 169.33333333333331)",
             "rgb(197.33333333333334, 219.11111111111111, 191.88888888888889)",
             "rgb(217.66666666666666, 232.55555555555554, 214.44444444444446)",
             "rgb(217.66666666666666, 232.55555555555554, 214.44444444444446)",
             "rgb(217.66666666666666, 232.55555555555554, 214.44444444444446)",
             "rgb(217.66666666666666, 232.55555555555554, 214.44444444444446)",
             "rgb(217.66666666666666, 232.55555555555554, 214.44444444444446)",
             "rgb(217.66666666666666, 232.55555555555554, 214.44444444444446)",
             "rgb(217.66666666666666, 232.55555555555554, 214.44444444444446)",
             "rgb(217.66666666666666, 232.55555555555554, 214.44444444444446)"
            ],
            [
             "rgb(177.0, 205.66666666666666, 169.33333333333331)",
             "rgb(197.33333333333334, 219.11111111111111, 191.88888888888889)",
             "rgb(197.33333333333334, 219.11111111111111, 191.88888888888889)",
             "rgb(197.33333333333334, 219.11111111111111, 191.88888888888889)",
             "rgb(197.33333333333334, 219.11111111111111, 191.88888888888889)",
             "rgb(217.66666666666666, 232.55555555555554, 214.44444444444446)",
             "rgb(217.66666666666666, 232.55555555555554, 214.44444444444446)",
             "rgb(217.66666666666666, 232.55555555555554, 214.44444444444446)",
             "rgb(217.66666666666666, 232.55555555555554, 214.44444444444446)",
             "rgb(217.66666666666666, 232.55555555555554, 214.44444444444446)"
            ]
           ]
          },
          "values": [
           [
            "network",
            "deep",
            "model",
            "task",
            "learn",
            "learning",
            "neural",
            "image",
            "train",
            "representation"
           ],
           [
            "datum",
            "learning",
            "algorithm",
            "problem",
            "learn",
            "sample",
            "function",
            "training",
            "label",
            "set"
           ],
           [
            "university",
            "model",
            "analysis",
            "department",
            "brain",
            "time",
            "datum",
            "edu",
            "neural",
            "prediction"
           ],
           [
            "model",
            "distribution",
            "inference",
            "datum",
            "sample",
            "generative",
            "gaussian",
            "gan",
            "process",
            "variational"
           ],
           [
            "network",
            "neural",
            "input",
            "weight",
            "unit",
            "learn",
            "output",
            "training",
            "function",
            "error"
           ],
           [
            "neuron",
            "network",
            "neural",
            "system",
            "model",
            "cell",
            "analog",
            "pattern",
            "study",
            "information"
           ],
           [
            "x",
            "problem",
            "n",
            "function",
            "algorithm",
            "t",
            "method",
            "k",
            "matrix",
            "optimization"
           ],
           [
            "learning",
            "algorithm",
            "policy",
            "reinforcement",
            "problem",
            "learn",
            "state",
            "agent",
            "control",
            "action"
           ],
           [
            "algorithm",
            "graph",
            "cluster",
            "problem",
            "datum",
            "node",
            "model",
            "k",
            "clustering",
            "network"
           ],
           [
            "object",
            "image",
            "visual",
            "system",
            "model",
            "recognition",
            "information",
            "d",
            "input",
            "representation"
           ]
          ]
         },
         "header": {
          "fill": {
           "color": "rgb(220, 220, 220)"
          },
          "values": [
           "Topic 00",
           "Topic 01",
           "Topic 02",
           "Topic 03",
           "Topic 04",
           "Topic 05",
           "Topic 06",
           "Topic 07",
           "Topic 08",
           "Topic 09"
          ]
         },
         "type": "table"
        }
       ],
       "layout": {
        "template": {
         "data": {
          "bar": [
           {
            "error_x": {
             "color": "#2a3f5f"
            },
            "error_y": {
             "color": "#2a3f5f"
            },
            "marker": {
             "line": {
              "color": "#E5ECF6",
              "width": 0.5
             },
             "pattern": {
              "fillmode": "overlay",
              "size": 10,
              "solidity": 0.2
             }
            },
            "type": "bar"
           }
          ],
          "barpolar": [
           {
            "marker": {
             "line": {
              "color": "#E5ECF6",
              "width": 0.5
             },
             "pattern": {
              "fillmode": "overlay",
              "size": 10,
              "solidity": 0.2
             }
            },
            "type": "barpolar"
           }
          ],
          "carpet": [
           {
            "aaxis": {
             "endlinecolor": "#2a3f5f",
             "gridcolor": "white",
             "linecolor": "white",
             "minorgridcolor": "white",
             "startlinecolor": "#2a3f5f"
            },
            "baxis": {
             "endlinecolor": "#2a3f5f",
             "gridcolor": "white",
             "linecolor": "white",
             "minorgridcolor": "white",
             "startlinecolor": "#2a3f5f"
            },
            "type": "carpet"
           }
          ],
          "choropleth": [
           {
            "colorbar": {
             "outlinewidth": 0,
             "ticks": ""
            },
            "type": "choropleth"
           }
          ],
          "contour": [
           {
            "colorbar": {
             "outlinewidth": 0,
             "ticks": ""
            },
            "colorscale": [
             [
              0,
              "#0d0887"
             ],
             [
              0.1111111111111111,
              "#46039f"
             ],
             [
              0.2222222222222222,
              "#7201a8"
             ],
             [
              0.3333333333333333,
              "#9c179e"
             ],
             [
              0.4444444444444444,
              "#bd3786"
             ],
             [
              0.5555555555555556,
              "#d8576b"
             ],
             [
              0.6666666666666666,
              "#ed7953"
             ],
             [
              0.7777777777777778,
              "#fb9f3a"
             ],
             [
              0.8888888888888888,
              "#fdca26"
             ],
             [
              1,
              "#f0f921"
             ]
            ],
            "type": "contour"
           }
          ],
          "contourcarpet": [
           {
            "colorbar": {
             "outlinewidth": 0,
             "ticks": ""
            },
            "type": "contourcarpet"
           }
          ],
          "heatmap": [
           {
            "colorbar": {
             "outlinewidth": 0,
             "ticks": ""
            },
            "colorscale": [
             [
              0,
              "#0d0887"
             ],
             [
              0.1111111111111111,
              "#46039f"
             ],
             [
              0.2222222222222222,
              "#7201a8"
             ],
             [
              0.3333333333333333,
              "#9c179e"
             ],
             [
              0.4444444444444444,
              "#bd3786"
             ],
             [
              0.5555555555555556,
              "#d8576b"
             ],
             [
              0.6666666666666666,
              "#ed7953"
             ],
             [
              0.7777777777777778,
              "#fb9f3a"
             ],
             [
              0.8888888888888888,
              "#fdca26"
             ],
             [
              1,
              "#f0f921"
             ]
            ],
            "type": "heatmap"
           }
          ],
          "heatmapgl": [
           {
            "colorbar": {
             "outlinewidth": 0,
             "ticks": ""
            },
            "colorscale": [
             [
              0,
              "#0d0887"
             ],
             [
              0.1111111111111111,
              "#46039f"
             ],
             [
              0.2222222222222222,
              "#7201a8"
             ],
             [
              0.3333333333333333,
              "#9c179e"
             ],
             [
              0.4444444444444444,
              "#bd3786"
             ],
             [
              0.5555555555555556,
              "#d8576b"
             ],
             [
              0.6666666666666666,
              "#ed7953"
             ],
             [
              0.7777777777777778,
              "#fb9f3a"
             ],
             [
              0.8888888888888888,
              "#fdca26"
             ],
             [
              1,
              "#f0f921"
             ]
            ],
            "type": "heatmapgl"
           }
          ],
          "histogram": [
           {
            "marker": {
             "pattern": {
              "fillmode": "overlay",
              "size": 10,
              "solidity": 0.2
             }
            },
            "type": "histogram"
           }
          ],
          "histogram2d": [
           {
            "colorbar": {
             "outlinewidth": 0,
             "ticks": ""
            },
            "colorscale": [
             [
              0,
              "#0d0887"
             ],
             [
              0.1111111111111111,
              "#46039f"
             ],
             [
              0.2222222222222222,
              "#7201a8"
             ],
             [
              0.3333333333333333,
              "#9c179e"
             ],
             [
              0.4444444444444444,
              "#bd3786"
             ],
             [
              0.5555555555555556,
              "#d8576b"
             ],
             [
              0.6666666666666666,
              "#ed7953"
             ],
             [
              0.7777777777777778,
              "#fb9f3a"
             ],
             [
              0.8888888888888888,
              "#fdca26"
             ],
             [
              1,
              "#f0f921"
             ]
            ],
            "type": "histogram2d"
           }
          ],
          "histogram2dcontour": [
           {
            "colorbar": {
             "outlinewidth": 0,
             "ticks": ""
            },
            "colorscale": [
             [
              0,
              "#0d0887"
             ],
             [
              0.1111111111111111,
              "#46039f"
             ],
             [
              0.2222222222222222,
              "#7201a8"
             ],
             [
              0.3333333333333333,
              "#9c179e"
             ],
             [
              0.4444444444444444,
              "#bd3786"
             ],
             [
              0.5555555555555556,
              "#d8576b"
             ],
             [
              0.6666666666666666,
              "#ed7953"
             ],
             [
              0.7777777777777778,
              "#fb9f3a"
             ],
             [
              0.8888888888888888,
              "#fdca26"
             ],
             [
              1,
              "#f0f921"
             ]
            ],
            "type": "histogram2dcontour"
           }
          ],
          "mesh3d": [
           {
            "colorbar": {
             "outlinewidth": 0,
             "ticks": ""
            },
            "type": "mesh3d"
           }
          ],
          "parcoords": [
           {
            "line": {
             "colorbar": {
              "outlinewidth": 0,
              "ticks": ""
             }
            },
            "type": "parcoords"
           }
          ],
          "pie": [
           {
            "automargin": true,
            "type": "pie"
           }
          ],
          "scatter": [
           {
            "marker": {
             "colorbar": {
              "outlinewidth": 0,
              "ticks": ""
             }
            },
            "type": "scatter"
           }
          ],
          "scatter3d": [
           {
            "line": {
             "colorbar": {
              "outlinewidth": 0,
              "ticks": ""
             }
            },
            "marker": {
             "colorbar": {
              "outlinewidth": 0,
              "ticks": ""
             }
            },
            "type": "scatter3d"
           }
          ],
          "scattercarpet": [
           {
            "marker": {
             "colorbar": {
              "outlinewidth": 0,
              "ticks": ""
             }
            },
            "type": "scattercarpet"
           }
          ],
          "scattergeo": [
           {
            "marker": {
             "colorbar": {
              "outlinewidth": 0,
              "ticks": ""
             }
            },
            "type": "scattergeo"
           }
          ],
          "scattergl": [
           {
            "marker": {
             "colorbar": {
              "outlinewidth": 0,
              "ticks": ""
             }
            },
            "type": "scattergl"
           }
          ],
          "scattermapbox": [
           {
            "marker": {
             "colorbar": {
              "outlinewidth": 0,
              "ticks": ""
             }
            },
            "type": "scattermapbox"
           }
          ],
          "scatterpolar": [
           {
            "marker": {
             "colorbar": {
              "outlinewidth": 0,
              "ticks": ""
             }
            },
            "type": "scatterpolar"
           }
          ],
          "scatterpolargl": [
           {
            "marker": {
             "colorbar": {
              "outlinewidth": 0,
              "ticks": ""
             }
            },
            "type": "scatterpolargl"
           }
          ],
          "scatterternary": [
           {
            "marker": {
             "colorbar": {
              "outlinewidth": 0,
              "ticks": ""
             }
            },
            "type": "scatterternary"
           }
          ],
          "surface": [
           {
            "colorbar": {
             "outlinewidth": 0,
             "ticks": ""
            },
            "colorscale": [
             [
              0,
              "#0d0887"
             ],
             [
              0.1111111111111111,
              "#46039f"
             ],
             [
              0.2222222222222222,
              "#7201a8"
             ],
             [
              0.3333333333333333,
              "#9c179e"
             ],
             [
              0.4444444444444444,
              "#bd3786"
             ],
             [
              0.5555555555555556,
              "#d8576b"
             ],
             [
              0.6666666666666666,
              "#ed7953"
             ],
             [
              0.7777777777777778,
              "#fb9f3a"
             ],
             [
              0.8888888888888888,
              "#fdca26"
             ],
             [
              1,
              "#f0f921"
             ]
            ],
            "type": "surface"
           }
          ],
          "table": [
           {
            "cells": {
             "fill": {
              "color": "#EBF0F8"
             },
             "line": {
              "color": "white"
             }
            },
            "header": {
             "fill": {
              "color": "#C8D4E3"
             },
             "line": {
              "color": "white"
             }
            },
            "type": "table"
           }
          ]
         },
         "layout": {
          "annotationdefaults": {
           "arrowcolor": "#2a3f5f",
           "arrowhead": 0,
           "arrowwidth": 1
          },
          "autotypenumbers": "strict",
          "coloraxis": {
           "colorbar": {
            "outlinewidth": 0,
            "ticks": ""
           }
          },
          "colorscale": {
           "diverging": [
            [
             0,
             "#8e0152"
            ],
            [
             0.1,
             "#c51b7d"
            ],
            [
             0.2,
             "#de77ae"
            ],
            [
             0.3,
             "#f1b6da"
            ],
            [
             0.4,
             "#fde0ef"
            ],
            [
             0.5,
             "#f7f7f7"
            ],
            [
             0.6,
             "#e6f5d0"
            ],
            [
             0.7,
             "#b8e186"
            ],
            [
             0.8,
             "#7fbc41"
            ],
            [
             0.9,
             "#4d9221"
            ],
            [
             1,
             "#276419"
            ]
           ],
           "sequential": [
            [
             0,
             "#0d0887"
            ],
            [
             0.1111111111111111,
             "#46039f"
            ],
            [
             0.2222222222222222,
             "#7201a8"
            ],
            [
             0.3333333333333333,
             "#9c179e"
            ],
            [
             0.4444444444444444,
             "#bd3786"
            ],
            [
             0.5555555555555556,
             "#d8576b"
            ],
            [
             0.6666666666666666,
             "#ed7953"
            ],
            [
             0.7777777777777778,
             "#fb9f3a"
            ],
            [
             0.8888888888888888,
             "#fdca26"
            ],
            [
             1,
             "#f0f921"
            ]
           ],
           "sequentialminus": [
            [
             0,
             "#0d0887"
            ],
            [
             0.1111111111111111,
             "#46039f"
            ],
            [
             0.2222222222222222,
             "#7201a8"
            ],
            [
             0.3333333333333333,
             "#9c179e"
            ],
            [
             0.4444444444444444,
             "#bd3786"
            ],
            [
             0.5555555555555556,
             "#d8576b"
            ],
            [
             0.6666666666666666,
             "#ed7953"
            ],
            [
             0.7777777777777778,
             "#fb9f3a"
            ],
            [
             0.8888888888888888,
             "#fdca26"
            ],
            [
             1,
             "#f0f921"
            ]
           ]
          },
          "colorway": [
           "#636efa",
           "#EF553B",
           "#00cc96",
           "#ab63fa",
           "#FFA15A",
           "#19d3f3",
           "#FF6692",
           "#B6E880",
           "#FF97FF",
           "#FECB52"
          ],
          "font": {
           "color": "#2a3f5f"
          },
          "geo": {
           "bgcolor": "white",
           "lakecolor": "white",
           "landcolor": "#E5ECF6",
           "showlakes": true,
           "showland": true,
           "subunitcolor": "white"
          },
          "hoverlabel": {
           "align": "left"
          },
          "hovermode": "closest",
          "mapbox": {
           "style": "light"
          },
          "paper_bgcolor": "white",
          "plot_bgcolor": "#E5ECF6",
          "polar": {
           "angularaxis": {
            "gridcolor": "white",
            "linecolor": "white",
            "ticks": ""
           },
           "bgcolor": "#E5ECF6",
           "radialaxis": {
            "gridcolor": "white",
            "linecolor": "white",
            "ticks": ""
           }
          },
          "scene": {
           "xaxis": {
            "backgroundcolor": "#E5ECF6",
            "gridcolor": "white",
            "gridwidth": 2,
            "linecolor": "white",
            "showbackground": true,
            "ticks": "",
            "zerolinecolor": "white"
           },
           "yaxis": {
            "backgroundcolor": "#E5ECF6",
            "gridcolor": "white",
            "gridwidth": 2,
            "linecolor": "white",
            "showbackground": true,
            "ticks": "",
            "zerolinecolor": "white"
           },
           "zaxis": {
            "backgroundcolor": "#E5ECF6",
            "gridcolor": "white",
            "gridwidth": 2,
            "linecolor": "white",
            "showbackground": true,
            "ticks": "",
            "zerolinecolor": "white"
           }
          },
          "shapedefaults": {
           "line": {
            "color": "#2a3f5f"
           }
          },
          "ternary": {
           "aaxis": {
            "gridcolor": "white",
            "linecolor": "white",
            "ticks": ""
           },
           "baxis": {
            "gridcolor": "white",
            "linecolor": "white",
            "ticks": ""
           },
           "bgcolor": "#E5ECF6",
           "caxis": {
            "gridcolor": "white",
            "linecolor": "white",
            "ticks": ""
           }
          },
          "title": {
           "x": 0.05
          },
          "xaxis": {
           "automargin": true,
           "gridcolor": "white",
           "linecolor": "white",
           "ticks": "",
           "title": {
            "standoff": 15
           },
           "zerolinecolor": "white",
           "zerolinewidth": 2
          },
          "yaxis": {
           "automargin": true,
           "gridcolor": "white",
           "linecolor": "white",
           "ticks": "",
           "title": {
            "standoff": 15
           },
           "zerolinecolor": "white",
           "zerolinewidth": 2
          }
         }
        },
        "title": {
         "text": "Top words for the 10 topics"
        },
        "width": 1350
       }
      }
     },
     "metadata": {},
     "output_type": "display_data"
    },
    {
     "name": "stdout",
     "output_type": "stream",
     "text": [
      "Iter [400]===\n",
      "Topic 0: ['deep', 'network', 'model', 'learning', 'task', 'learn', 'image', 'neural', 'method', 'datum']\n",
      "Topic 1: ['datum', 'learning', 'algorithm', 'problem', 'learn', 'sample', 'label', 'example', 'class', 'training']\n",
      "Topic 2: ['model', 'university', 'time', 'department', 'analysis', 'neural', 'brain', 'edu', 'datum', 'structure']\n",
      "Topic 3: ['model', 'distribution', 'inference', 'datum', 'generative', 'gaussian', 'sample', 'gan', 'process', 'university']\n",
      "Topic 4: ['network', 'neural', 'input', 'output', 'weight', 'unit', 'learn', 'training', 'function', 'state']\n",
      "Topic 5: ['neuron', 'neural', 'network', 'model', 'cell', 'system', 'analog', 'information', 'abstract', 'pattern']\n",
      "Topic 6: ['x', 'problem', 'n', 'function', 'algorithm', 'optimization', 't', 'method', 'matrix', 'k']\n",
      "Topic 7: ['learning', 'policy', 'algorithm', 'reinforcement', 'problem', 'learn', 'agent', 'state', 'action', 'game']\n",
      "Topic 8: ['algorithm', 'datum', 'graph', 'cluster', 'problem', 'node', 'model', 'edu', 'set', 'k']\n",
      "Topic 9: ['object', 'visual', 'image', 'system', 'model', 'recognition', 'information', 'representation', 'human', 'problem']\n"
     ]
    },
    {
     "data": {
      "application/vnd.plotly.v1+json": {
       "config": {
        "plotlyServerURL": "https://plot.ly"
       },
       "data": [
        {
         "cells": {
          "fill": {
           "color": [
            [
             "rgb(197.33333333333334, 219.11111111111111, 191.88888888888889)",
             "rgb(197.33333333333334, 219.11111111111111, 191.88888888888889)",
             "rgb(197.33333333333334, 219.11111111111111, 191.88888888888889)",
             "rgb(197.33333333333334, 219.11111111111111, 191.88888888888889)",
             "rgb(197.33333333333334, 219.11111111111111, 191.88888888888889)",
             "rgb(197.33333333333334, 219.11111111111111, 191.88888888888889)",
             "rgb(197.33333333333334, 219.11111111111111, 191.88888888888889)",
             "rgb(197.33333333333334, 219.11111111111111, 191.88888888888889)",
             "rgb(217.66666666666666, 232.55555555555554, 214.44444444444446)",
             "rgb(217.66666666666666, 232.55555555555554, 214.44444444444446)"
            ],
            [
             "rgb(177.0, 205.66666666666666, 169.33333333333331)",
             "rgb(197.33333333333334, 219.11111111111111, 191.88888888888889)",
             "rgb(197.33333333333334, 219.11111111111111, 191.88888888888889)",
             "rgb(217.66666666666666, 232.55555555555554, 214.44444444444446)",
             "rgb(217.66666666666666, 232.55555555555554, 214.44444444444446)",
             "rgb(217.66666666666666, 232.55555555555554, 214.44444444444446)",
             "rgb(217.66666666666666, 232.55555555555554, 214.44444444444446)",
             "rgb(217.66666666666666, 232.55555555555554, 214.44444444444446)",
             "rgb(217.66666666666666, 232.55555555555554, 214.44444444444446)",
             "rgb(217.66666666666666, 232.55555555555554, 214.44444444444446)"
            ],
            [
             "rgb(177.0, 205.66666666666666, 169.33333333333331)",
             "rgb(197.33333333333334, 219.11111111111111, 191.88888888888889)",
             "rgb(217.66666666666666, 232.55555555555554, 214.44444444444446)",
             "rgb(217.66666666666666, 232.55555555555554, 214.44444444444446)",
             "rgb(217.66666666666666, 232.55555555555554, 214.44444444444446)",
             "rgb(217.66666666666666, 232.55555555555554, 214.44444444444446)",
             "rgb(217.66666666666666, 232.55555555555554, 214.44444444444446)",
             "rgb(217.66666666666666, 232.55555555555554, 214.44444444444446)",
             "rgb(217.66666666666666, 232.55555555555554, 214.44444444444446)",
             "rgb(217.66666666666666, 232.55555555555554, 214.44444444444446)"
            ],
            [
             "rgb(95.66666666666669, 151.88888888888889, 79.11111111111109)",
             "rgb(156.66666666666669, 192.22222222222223, 146.77777777777777)",
             "rgb(197.33333333333334, 219.11111111111111, 191.88888888888889)",
             "rgb(197.33333333333334, 219.11111111111111, 191.88888888888889)",
             "rgb(217.66666666666666, 232.55555555555554, 214.44444444444446)",
             "rgb(217.66666666666666, 232.55555555555554, 214.44444444444446)",
             "rgb(217.66666666666666, 232.55555555555554, 214.44444444444446)",
             "rgb(217.66666666666666, 232.55555555555554, 214.44444444444446)",
             "rgb(217.66666666666666, 232.55555555555554, 214.44444444444446)",
             "rgb(217.66666666666666, 232.55555555555554, 214.44444444444446)"
            ],
            [
             "rgb(75.33333333333334, 138.44444444444446, 56.55555555555554)",
             "rgb(177.0, 205.66666666666666, 169.33333333333331)",
             "rgb(197.33333333333334, 219.11111111111111, 191.88888888888889)",
             "rgb(217.66666666666666, 232.55555555555554, 214.44444444444446)",
             "rgb(217.66666666666666, 232.55555555555554, 214.44444444444446)",
             "rgb(217.66666666666666, 232.55555555555554, 214.44444444444446)",
             "rgb(217.66666666666666, 232.55555555555554, 214.44444444444446)",
             "rgb(217.66666666666666, 232.55555555555554, 214.44444444444446)",
             "rgb(217.66666666666666, 232.55555555555554, 214.44444444444446)",
             "rgb(217.66666666666666, 232.55555555555554, 214.44444444444446)"
            ],
            [
             "rgb(177.0, 205.66666666666666, 169.33333333333331)",
             "rgb(197.33333333333334, 219.11111111111111, 191.88888888888889)",
             "rgb(197.33333333333334, 219.11111111111111, 191.88888888888889)",
             "rgb(197.33333333333334, 219.11111111111111, 191.88888888888889)",
             "rgb(217.66666666666666, 232.55555555555554, 214.44444444444446)",
             "rgb(217.66666666666666, 232.55555555555554, 214.44444444444446)",
             "rgb(217.66666666666666, 232.55555555555554, 214.44444444444446)",
             "rgb(217.66666666666666, 232.55555555555554, 214.44444444444446)",
             "rgb(217.66666666666666, 232.55555555555554, 214.44444444444446)",
             "rgb(238.0, 246.0, 237.0)"
            ],
            [
             "rgb(177.0, 205.66666666666666, 169.33333333333331)",
             "rgb(197.33333333333334, 219.11111111111111, 191.88888888888889)",
             "rgb(197.33333333333334, 219.11111111111111, 191.88888888888889)",
             "rgb(197.33333333333334, 219.11111111111111, 191.88888888888889)",
             "rgb(197.33333333333334, 219.11111111111111, 191.88888888888889)",
             "rgb(197.33333333333334, 219.11111111111111, 191.88888888888889)",
             "rgb(217.66666666666666, 232.55555555555554, 214.44444444444446)",
             "rgb(217.66666666666666, 232.55555555555554, 214.44444444444446)",
             "rgb(217.66666666666666, 232.55555555555554, 214.44444444444446)",
             "rgb(217.66666666666666, 232.55555555555554, 214.44444444444446)"
            ],
            [
             "rgb(177.0, 205.66666666666666, 169.33333333333331)",
             "rgb(197.33333333333334, 219.11111111111111, 191.88888888888889)",
             "rgb(197.33333333333334, 219.11111111111111, 191.88888888888889)",
             "rgb(197.33333333333334, 219.11111111111111, 191.88888888888889)",
             "rgb(217.66666666666666, 232.55555555555554, 214.44444444444446)",
             "rgb(217.66666666666666, 232.55555555555554, 214.44444444444446)",
             "rgb(217.66666666666666, 232.55555555555554, 214.44444444444446)",
             "rgb(217.66666666666666, 232.55555555555554, 214.44444444444446)",
             "rgb(217.66666666666666, 232.55555555555554, 214.44444444444446)",
             "rgb(217.66666666666666, 232.55555555555554, 214.44444444444446)"
            ],
            [
             "rgb(177.0, 205.66666666666666, 169.33333333333331)",
             "rgb(197.33333333333334, 219.11111111111111, 191.88888888888889)",
             "rgb(197.33333333333334, 219.11111111111111, 191.88888888888889)",
             "rgb(217.66666666666666, 232.55555555555554, 214.44444444444446)",
             "rgb(217.66666666666666, 232.55555555555554, 214.44444444444446)",
             "rgb(217.66666666666666, 232.55555555555554, 214.44444444444446)",
             "rgb(217.66666666666666, 232.55555555555554, 214.44444444444446)",
             "rgb(217.66666666666666, 232.55555555555554, 214.44444444444446)",
             "rgb(217.66666666666666, 232.55555555555554, 214.44444444444446)",
             "rgb(217.66666666666666, 232.55555555555554, 214.44444444444446)"
            ],
            [
             "rgb(177.0, 205.66666666666666, 169.33333333333331)",
             "rgb(197.33333333333334, 219.11111111111111, 191.88888888888889)",
             "rgb(197.33333333333334, 219.11111111111111, 191.88888888888889)",
             "rgb(197.33333333333334, 219.11111111111111, 191.88888888888889)",
             "rgb(217.66666666666666, 232.55555555555554, 214.44444444444446)",
             "rgb(217.66666666666666, 232.55555555555554, 214.44444444444446)",
             "rgb(217.66666666666666, 232.55555555555554, 214.44444444444446)",
             "rgb(217.66666666666666, 232.55555555555554, 214.44444444444446)",
             "rgb(217.66666666666666, 232.55555555555554, 214.44444444444446)",
             "rgb(217.66666666666666, 232.55555555555554, 214.44444444444446)"
            ]
           ]
          },
          "values": [
           [
            "deep",
            "network",
            "model",
            "learning",
            "task",
            "learn",
            "image",
            "neural",
            "method",
            "datum"
           ],
           [
            "datum",
            "learning",
            "algorithm",
            "problem",
            "learn",
            "sample",
            "label",
            "example",
            "class",
            "training"
           ],
           [
            "model",
            "university",
            "time",
            "department",
            "analysis",
            "neural",
            "brain",
            "edu",
            "datum",
            "structure"
           ],
           [
            "model",
            "distribution",
            "inference",
            "datum",
            "generative",
            "gaussian",
            "sample",
            "gan",
            "process",
            "university"
           ],
           [
            "network",
            "neural",
            "input",
            "output",
            "weight",
            "unit",
            "learn",
            "training",
            "function",
            "state"
           ],
           [
            "neuron",
            "neural",
            "network",
            "model",
            "cell",
            "system",
            "analog",
            "information",
            "abstract",
            "pattern"
           ],
           [
            "x",
            "problem",
            "n",
            "function",
            "algorithm",
            "optimization",
            "t",
            "method",
            "matrix",
            "k"
           ],
           [
            "learning",
            "policy",
            "algorithm",
            "reinforcement",
            "problem",
            "learn",
            "agent",
            "state",
            "action",
            "game"
           ],
           [
            "algorithm",
            "datum",
            "graph",
            "cluster",
            "problem",
            "node",
            "model",
            "edu",
            "set",
            "k"
           ],
           [
            "object",
            "visual",
            "image",
            "system",
            "model",
            "recognition",
            "information",
            "representation",
            "human",
            "problem"
           ]
          ]
         },
         "header": {
          "fill": {
           "color": "rgb(220, 220, 220)"
          },
          "values": [
           "Topic 00",
           "Topic 01",
           "Topic 02",
           "Topic 03",
           "Topic 04",
           "Topic 05",
           "Topic 06",
           "Topic 07",
           "Topic 08",
           "Topic 09"
          ]
         },
         "type": "table"
        }
       ],
       "layout": {
        "template": {
         "data": {
          "bar": [
           {
            "error_x": {
             "color": "#2a3f5f"
            },
            "error_y": {
             "color": "#2a3f5f"
            },
            "marker": {
             "line": {
              "color": "#E5ECF6",
              "width": 0.5
             },
             "pattern": {
              "fillmode": "overlay",
              "size": 10,
              "solidity": 0.2
             }
            },
            "type": "bar"
           }
          ],
          "barpolar": [
           {
            "marker": {
             "line": {
              "color": "#E5ECF6",
              "width": 0.5
             },
             "pattern": {
              "fillmode": "overlay",
              "size": 10,
              "solidity": 0.2
             }
            },
            "type": "barpolar"
           }
          ],
          "carpet": [
           {
            "aaxis": {
             "endlinecolor": "#2a3f5f",
             "gridcolor": "white",
             "linecolor": "white",
             "minorgridcolor": "white",
             "startlinecolor": "#2a3f5f"
            },
            "baxis": {
             "endlinecolor": "#2a3f5f",
             "gridcolor": "white",
             "linecolor": "white",
             "minorgridcolor": "white",
             "startlinecolor": "#2a3f5f"
            },
            "type": "carpet"
           }
          ],
          "choropleth": [
           {
            "colorbar": {
             "outlinewidth": 0,
             "ticks": ""
            },
            "type": "choropleth"
           }
          ],
          "contour": [
           {
            "colorbar": {
             "outlinewidth": 0,
             "ticks": ""
            },
            "colorscale": [
             [
              0,
              "#0d0887"
             ],
             [
              0.1111111111111111,
              "#46039f"
             ],
             [
              0.2222222222222222,
              "#7201a8"
             ],
             [
              0.3333333333333333,
              "#9c179e"
             ],
             [
              0.4444444444444444,
              "#bd3786"
             ],
             [
              0.5555555555555556,
              "#d8576b"
             ],
             [
              0.6666666666666666,
              "#ed7953"
             ],
             [
              0.7777777777777778,
              "#fb9f3a"
             ],
             [
              0.8888888888888888,
              "#fdca26"
             ],
             [
              1,
              "#f0f921"
             ]
            ],
            "type": "contour"
           }
          ],
          "contourcarpet": [
           {
            "colorbar": {
             "outlinewidth": 0,
             "ticks": ""
            },
            "type": "contourcarpet"
           }
          ],
          "heatmap": [
           {
            "colorbar": {
             "outlinewidth": 0,
             "ticks": ""
            },
            "colorscale": [
             [
              0,
              "#0d0887"
             ],
             [
              0.1111111111111111,
              "#46039f"
             ],
             [
              0.2222222222222222,
              "#7201a8"
             ],
             [
              0.3333333333333333,
              "#9c179e"
             ],
             [
              0.4444444444444444,
              "#bd3786"
             ],
             [
              0.5555555555555556,
              "#d8576b"
             ],
             [
              0.6666666666666666,
              "#ed7953"
             ],
             [
              0.7777777777777778,
              "#fb9f3a"
             ],
             [
              0.8888888888888888,
              "#fdca26"
             ],
             [
              1,
              "#f0f921"
             ]
            ],
            "type": "heatmap"
           }
          ],
          "heatmapgl": [
           {
            "colorbar": {
             "outlinewidth": 0,
             "ticks": ""
            },
            "colorscale": [
             [
              0,
              "#0d0887"
             ],
             [
              0.1111111111111111,
              "#46039f"
             ],
             [
              0.2222222222222222,
              "#7201a8"
             ],
             [
              0.3333333333333333,
              "#9c179e"
             ],
             [
              0.4444444444444444,
              "#bd3786"
             ],
             [
              0.5555555555555556,
              "#d8576b"
             ],
             [
              0.6666666666666666,
              "#ed7953"
             ],
             [
              0.7777777777777778,
              "#fb9f3a"
             ],
             [
              0.8888888888888888,
              "#fdca26"
             ],
             [
              1,
              "#f0f921"
             ]
            ],
            "type": "heatmapgl"
           }
          ],
          "histogram": [
           {
            "marker": {
             "pattern": {
              "fillmode": "overlay",
              "size": 10,
              "solidity": 0.2
             }
            },
            "type": "histogram"
           }
          ],
          "histogram2d": [
           {
            "colorbar": {
             "outlinewidth": 0,
             "ticks": ""
            },
            "colorscale": [
             [
              0,
              "#0d0887"
             ],
             [
              0.1111111111111111,
              "#46039f"
             ],
             [
              0.2222222222222222,
              "#7201a8"
             ],
             [
              0.3333333333333333,
              "#9c179e"
             ],
             [
              0.4444444444444444,
              "#bd3786"
             ],
             [
              0.5555555555555556,
              "#d8576b"
             ],
             [
              0.6666666666666666,
              "#ed7953"
             ],
             [
              0.7777777777777778,
              "#fb9f3a"
             ],
             [
              0.8888888888888888,
              "#fdca26"
             ],
             [
              1,
              "#f0f921"
             ]
            ],
            "type": "histogram2d"
           }
          ],
          "histogram2dcontour": [
           {
            "colorbar": {
             "outlinewidth": 0,
             "ticks": ""
            },
            "colorscale": [
             [
              0,
              "#0d0887"
             ],
             [
              0.1111111111111111,
              "#46039f"
             ],
             [
              0.2222222222222222,
              "#7201a8"
             ],
             [
              0.3333333333333333,
              "#9c179e"
             ],
             [
              0.4444444444444444,
              "#bd3786"
             ],
             [
              0.5555555555555556,
              "#d8576b"
             ],
             [
              0.6666666666666666,
              "#ed7953"
             ],
             [
              0.7777777777777778,
              "#fb9f3a"
             ],
             [
              0.8888888888888888,
              "#fdca26"
             ],
             [
              1,
              "#f0f921"
             ]
            ],
            "type": "histogram2dcontour"
           }
          ],
          "mesh3d": [
           {
            "colorbar": {
             "outlinewidth": 0,
             "ticks": ""
            },
            "type": "mesh3d"
           }
          ],
          "parcoords": [
           {
            "line": {
             "colorbar": {
              "outlinewidth": 0,
              "ticks": ""
             }
            },
            "type": "parcoords"
           }
          ],
          "pie": [
           {
            "automargin": true,
            "type": "pie"
           }
          ],
          "scatter": [
           {
            "marker": {
             "colorbar": {
              "outlinewidth": 0,
              "ticks": ""
             }
            },
            "type": "scatter"
           }
          ],
          "scatter3d": [
           {
            "line": {
             "colorbar": {
              "outlinewidth": 0,
              "ticks": ""
             }
            },
            "marker": {
             "colorbar": {
              "outlinewidth": 0,
              "ticks": ""
             }
            },
            "type": "scatter3d"
           }
          ],
          "scattercarpet": [
           {
            "marker": {
             "colorbar": {
              "outlinewidth": 0,
              "ticks": ""
             }
            },
            "type": "scattercarpet"
           }
          ],
          "scattergeo": [
           {
            "marker": {
             "colorbar": {
              "outlinewidth": 0,
              "ticks": ""
             }
            },
            "type": "scattergeo"
           }
          ],
          "scattergl": [
           {
            "marker": {
             "colorbar": {
              "outlinewidth": 0,
              "ticks": ""
             }
            },
            "type": "scattergl"
           }
          ],
          "scattermapbox": [
           {
            "marker": {
             "colorbar": {
              "outlinewidth": 0,
              "ticks": ""
             }
            },
            "type": "scattermapbox"
           }
          ],
          "scatterpolar": [
           {
            "marker": {
             "colorbar": {
              "outlinewidth": 0,
              "ticks": ""
             }
            },
            "type": "scatterpolar"
           }
          ],
          "scatterpolargl": [
           {
            "marker": {
             "colorbar": {
              "outlinewidth": 0,
              "ticks": ""
             }
            },
            "type": "scatterpolargl"
           }
          ],
          "scatterternary": [
           {
            "marker": {
             "colorbar": {
              "outlinewidth": 0,
              "ticks": ""
             }
            },
            "type": "scatterternary"
           }
          ],
          "surface": [
           {
            "colorbar": {
             "outlinewidth": 0,
             "ticks": ""
            },
            "colorscale": [
             [
              0,
              "#0d0887"
             ],
             [
              0.1111111111111111,
              "#46039f"
             ],
             [
              0.2222222222222222,
              "#7201a8"
             ],
             [
              0.3333333333333333,
              "#9c179e"
             ],
             [
              0.4444444444444444,
              "#bd3786"
             ],
             [
              0.5555555555555556,
              "#d8576b"
             ],
             [
              0.6666666666666666,
              "#ed7953"
             ],
             [
              0.7777777777777778,
              "#fb9f3a"
             ],
             [
              0.8888888888888888,
              "#fdca26"
             ],
             [
              1,
              "#f0f921"
             ]
            ],
            "type": "surface"
           }
          ],
          "table": [
           {
            "cells": {
             "fill": {
              "color": "#EBF0F8"
             },
             "line": {
              "color": "white"
             }
            },
            "header": {
             "fill": {
              "color": "#C8D4E3"
             },
             "line": {
              "color": "white"
             }
            },
            "type": "table"
           }
          ]
         },
         "layout": {
          "annotationdefaults": {
           "arrowcolor": "#2a3f5f",
           "arrowhead": 0,
           "arrowwidth": 1
          },
          "autotypenumbers": "strict",
          "coloraxis": {
           "colorbar": {
            "outlinewidth": 0,
            "ticks": ""
           }
          },
          "colorscale": {
           "diverging": [
            [
             0,
             "#8e0152"
            ],
            [
             0.1,
             "#c51b7d"
            ],
            [
             0.2,
             "#de77ae"
            ],
            [
             0.3,
             "#f1b6da"
            ],
            [
             0.4,
             "#fde0ef"
            ],
            [
             0.5,
             "#f7f7f7"
            ],
            [
             0.6,
             "#e6f5d0"
            ],
            [
             0.7,
             "#b8e186"
            ],
            [
             0.8,
             "#7fbc41"
            ],
            [
             0.9,
             "#4d9221"
            ],
            [
             1,
             "#276419"
            ]
           ],
           "sequential": [
            [
             0,
             "#0d0887"
            ],
            [
             0.1111111111111111,
             "#46039f"
            ],
            [
             0.2222222222222222,
             "#7201a8"
            ],
            [
             0.3333333333333333,
             "#9c179e"
            ],
            [
             0.4444444444444444,
             "#bd3786"
            ],
            [
             0.5555555555555556,
             "#d8576b"
            ],
            [
             0.6666666666666666,
             "#ed7953"
            ],
            [
             0.7777777777777778,
             "#fb9f3a"
            ],
            [
             0.8888888888888888,
             "#fdca26"
            ],
            [
             1,
             "#f0f921"
            ]
           ],
           "sequentialminus": [
            [
             0,
             "#0d0887"
            ],
            [
             0.1111111111111111,
             "#46039f"
            ],
            [
             0.2222222222222222,
             "#7201a8"
            ],
            [
             0.3333333333333333,
             "#9c179e"
            ],
            [
             0.4444444444444444,
             "#bd3786"
            ],
            [
             0.5555555555555556,
             "#d8576b"
            ],
            [
             0.6666666666666666,
             "#ed7953"
            ],
            [
             0.7777777777777778,
             "#fb9f3a"
            ],
            [
             0.8888888888888888,
             "#fdca26"
            ],
            [
             1,
             "#f0f921"
            ]
           ]
          },
          "colorway": [
           "#636efa",
           "#EF553B",
           "#00cc96",
           "#ab63fa",
           "#FFA15A",
           "#19d3f3",
           "#FF6692",
           "#B6E880",
           "#FF97FF",
           "#FECB52"
          ],
          "font": {
           "color": "#2a3f5f"
          },
          "geo": {
           "bgcolor": "white",
           "lakecolor": "white",
           "landcolor": "#E5ECF6",
           "showlakes": true,
           "showland": true,
           "subunitcolor": "white"
          },
          "hoverlabel": {
           "align": "left"
          },
          "hovermode": "closest",
          "mapbox": {
           "style": "light"
          },
          "paper_bgcolor": "white",
          "plot_bgcolor": "#E5ECF6",
          "polar": {
           "angularaxis": {
            "gridcolor": "white",
            "linecolor": "white",
            "ticks": ""
           },
           "bgcolor": "#E5ECF6",
           "radialaxis": {
            "gridcolor": "white",
            "linecolor": "white",
            "ticks": ""
           }
          },
          "scene": {
           "xaxis": {
            "backgroundcolor": "#E5ECF6",
            "gridcolor": "white",
            "gridwidth": 2,
            "linecolor": "white",
            "showbackground": true,
            "ticks": "",
            "zerolinecolor": "white"
           },
           "yaxis": {
            "backgroundcolor": "#E5ECF6",
            "gridcolor": "white",
            "gridwidth": 2,
            "linecolor": "white",
            "showbackground": true,
            "ticks": "",
            "zerolinecolor": "white"
           },
           "zaxis": {
            "backgroundcolor": "#E5ECF6",
            "gridcolor": "white",
            "gridwidth": 2,
            "linecolor": "white",
            "showbackground": true,
            "ticks": "",
            "zerolinecolor": "white"
           }
          },
          "shapedefaults": {
           "line": {
            "color": "#2a3f5f"
           }
          },
          "ternary": {
           "aaxis": {
            "gridcolor": "white",
            "linecolor": "white",
            "ticks": ""
           },
           "baxis": {
            "gridcolor": "white",
            "linecolor": "white",
            "ticks": ""
           },
           "bgcolor": "#E5ECF6",
           "caxis": {
            "gridcolor": "white",
            "linecolor": "white",
            "ticks": ""
           }
          },
          "title": {
           "x": 0.05
          },
          "xaxis": {
           "automargin": true,
           "gridcolor": "white",
           "linecolor": "white",
           "ticks": "",
           "title": {
            "standoff": 15
           },
           "zerolinecolor": "white",
           "zerolinewidth": 2
          },
          "yaxis": {
           "automargin": true,
           "gridcolor": "white",
           "linecolor": "white",
           "ticks": "",
           "title": {
            "standoff": 15
           },
           "zerolinecolor": "white",
           "zerolinewidth": 2
          }
         }
        },
        "title": {
         "text": "Top words for the 10 topics"
        },
        "width": 1350
       }
      }
     },
     "metadata": {},
     "output_type": "display_data"
    },
    {
     "name": "stdout",
     "output_type": "stream",
     "text": [
      "Iter [450]===\n",
      "Topic 0: ['task', 'network', 'deep', 'model', 'learn', 'learning', 'image', 'neural', 'training', 'train']\n",
      "Topic 1: ['datum', 'learning', 'algorithm', 'learn', 'problem', 'model', 'function', 'label', 'sample', 'method']\n",
      "Topic 2: ['model', 'university', 'datum', 'department', 'time', 'analysis', 'brain', 'neural', 'edu', 'system']\n",
      "Topic 3: ['model', 'distribution', 'inference', 'datum', 'sample', 'generative', 'gan', 'gaussian', 'variable', 'variational']\n",
      "Topic 4: ['network', 'neural', 'input', 'unit', 'weight', 'learn', 'output', 'training', 'state', 'function']\n",
      "Topic 5: ['neuron', 'model', 'network', 'cell', 'system', 'neural', 'analog', 'spike', 'activity', 'information']\n",
      "Topic 6: ['x', 'problem', 'n', 'function', 'algorithm', 'optimization', 'k', 'matrix', 't', 'edu']\n",
      "Topic 7: ['learning', 'algorithm', 'policy', 'reinforcement', 'problem', 'learn', 'agent', 'state', 'action', 'control']\n",
      "Topic 8: ['algorithm', 'datum', 'graph', 'problem', 'cluster', 'node', 'edu', 'distance', 'clustering', 'university']\n",
      "Topic 9: ['object', 'visual', 'image', 'system', 'recognition', 'information', 'd', 'model', 'human', 'speech']\n"
     ]
    },
    {
     "data": {
      "application/vnd.plotly.v1+json": {
       "config": {
        "plotlyServerURL": "https://plot.ly"
       },
       "data": [
        {
         "cells": {
          "fill": {
           "color": [
            [
             "rgb(177.0, 205.66666666666666, 169.33333333333331)",
             "rgb(177.0, 205.66666666666666, 169.33333333333331)",
             "rgb(177.0, 205.66666666666666, 169.33333333333331)",
             "rgb(197.33333333333334, 219.11111111111111, 191.88888888888889)",
             "rgb(197.33333333333334, 219.11111111111111, 191.88888888888889)",
             "rgb(197.33333333333334, 219.11111111111111, 191.88888888888889)",
             "rgb(197.33333333333334, 219.11111111111111, 191.88888888888889)",
             "rgb(197.33333333333334, 219.11111111111111, 191.88888888888889)",
             "rgb(217.66666666666666, 232.55555555555554, 214.44444444444446)",
             "rgb(217.66666666666666, 232.55555555555554, 214.44444444444446)"
            ],
            [
             "rgb(177.0, 205.66666666666666, 169.33333333333331)",
             "rgb(197.33333333333334, 219.11111111111111, 191.88888888888889)",
             "rgb(197.33333333333334, 219.11111111111111, 191.88888888888889)",
             "rgb(197.33333333333334, 219.11111111111111, 191.88888888888889)",
             "rgb(217.66666666666666, 232.55555555555554, 214.44444444444446)",
             "rgb(217.66666666666666, 232.55555555555554, 214.44444444444446)",
             "rgb(217.66666666666666, 232.55555555555554, 214.44444444444446)",
             "rgb(217.66666666666666, 232.55555555555554, 214.44444444444446)",
             "rgb(217.66666666666666, 232.55555555555554, 214.44444444444446)",
             "rgb(217.66666666666666, 232.55555555555554, 214.44444444444446)"
            ],
            [
             "rgb(197.33333333333334, 219.11111111111111, 191.88888888888889)",
             "rgb(197.33333333333334, 219.11111111111111, 191.88888888888889)",
             "rgb(197.33333333333334, 219.11111111111111, 191.88888888888889)",
             "rgb(217.66666666666666, 232.55555555555554, 214.44444444444446)",
             "rgb(217.66666666666666, 232.55555555555554, 214.44444444444446)",
             "rgb(217.66666666666666, 232.55555555555554, 214.44444444444446)",
             "rgb(217.66666666666666, 232.55555555555554, 214.44444444444446)",
             "rgb(217.66666666666666, 232.55555555555554, 214.44444444444446)",
             "rgb(217.66666666666666, 232.55555555555554, 214.44444444444446)",
             "rgb(217.66666666666666, 232.55555555555554, 214.44444444444446)"
            ],
            [
             "rgb(95.66666666666669, 151.88888888888889, 79.11111111111109)",
             "rgb(156.66666666666669, 192.22222222222223, 146.77777777777777)",
             "rgb(197.33333333333334, 219.11111111111111, 191.88888888888889)",
             "rgb(197.33333333333334, 219.11111111111111, 191.88888888888889)",
             "rgb(197.33333333333334, 219.11111111111111, 191.88888888888889)",
             "rgb(197.33333333333334, 219.11111111111111, 191.88888888888889)",
             "rgb(217.66666666666666, 232.55555555555554, 214.44444444444446)",
             "rgb(217.66666666666666, 232.55555555555554, 214.44444444444446)",
             "rgb(217.66666666666666, 232.55555555555554, 214.44444444444446)",
             "rgb(217.66666666666666, 232.55555555555554, 214.44444444444446)"
            ],
            [
             "rgb(75.33333333333334, 138.44444444444446, 56.55555555555554)",
             "rgb(177.0, 205.66666666666666, 169.33333333333331)",
             "rgb(197.33333333333334, 219.11111111111111, 191.88888888888889)",
             "rgb(217.66666666666666, 232.55555555555554, 214.44444444444446)",
             "rgb(217.66666666666666, 232.55555555555554, 214.44444444444446)",
             "rgb(217.66666666666666, 232.55555555555554, 214.44444444444446)",
             "rgb(217.66666666666666, 232.55555555555554, 214.44444444444446)",
             "rgb(217.66666666666666, 232.55555555555554, 214.44444444444446)",
             "rgb(217.66666666666666, 232.55555555555554, 214.44444444444446)",
             "rgb(217.66666666666666, 232.55555555555554, 214.44444444444446)"
            ],
            [
             "rgb(177.0, 205.66666666666666, 169.33333333333331)",
             "rgb(197.33333333333334, 219.11111111111111, 191.88888888888889)",
             "rgb(217.66666666666666, 232.55555555555554, 214.44444444444446)",
             "rgb(217.66666666666666, 232.55555555555554, 214.44444444444446)",
             "rgb(217.66666666666666, 232.55555555555554, 214.44444444444446)",
             "rgb(217.66666666666666, 232.55555555555554, 214.44444444444446)",
             "rgb(217.66666666666666, 232.55555555555554, 214.44444444444446)",
             "rgb(238.0, 246.0, 237.0)",
             "rgb(238.0, 246.0, 237.0)",
             "rgb(238.0, 246.0, 237.0)"
            ],
            [
             "rgb(177.0, 205.66666666666666, 169.33333333333331)",
             "rgb(197.33333333333334, 219.11111111111111, 191.88888888888889)",
             "rgb(197.33333333333334, 219.11111111111111, 191.88888888888889)",
             "rgb(197.33333333333334, 219.11111111111111, 191.88888888888889)",
             "rgb(197.33333333333334, 219.11111111111111, 191.88888888888889)",
             "rgb(217.66666666666666, 232.55555555555554, 214.44444444444446)",
             "rgb(217.66666666666666, 232.55555555555554, 214.44444444444446)",
             "rgb(217.66666666666666, 232.55555555555554, 214.44444444444446)",
             "rgb(217.66666666666666, 232.55555555555554, 214.44444444444446)",
             "rgb(217.66666666666666, 232.55555555555554, 214.44444444444446)"
            ],
            [
             "rgb(177.0, 205.66666666666666, 169.33333333333331)",
             "rgb(197.33333333333334, 219.11111111111111, 191.88888888888889)",
             "rgb(197.33333333333334, 219.11111111111111, 191.88888888888889)",
             "rgb(197.33333333333334, 219.11111111111111, 191.88888888888889)",
             "rgb(197.33333333333334, 219.11111111111111, 191.88888888888889)",
             "rgb(217.66666666666666, 232.55555555555554, 214.44444444444446)",
             "rgb(217.66666666666666, 232.55555555555554, 214.44444444444446)",
             "rgb(217.66666666666666, 232.55555555555554, 214.44444444444446)",
             "rgb(217.66666666666666, 232.55555555555554, 214.44444444444446)",
             "rgb(217.66666666666666, 232.55555555555554, 214.44444444444446)"
            ],
            [
             "rgb(197.33333333333334, 219.11111111111111, 191.88888888888889)",
             "rgb(197.33333333333334, 219.11111111111111, 191.88888888888889)",
             "rgb(197.33333333333334, 219.11111111111111, 191.88888888888889)",
             "rgb(197.33333333333334, 219.11111111111111, 191.88888888888889)",
             "rgb(217.66666666666666, 232.55555555555554, 214.44444444444446)",
             "rgb(217.66666666666666, 232.55555555555554, 214.44444444444446)",
             "rgb(217.66666666666666, 232.55555555555554, 214.44444444444446)",
             "rgb(217.66666666666666, 232.55555555555554, 214.44444444444446)",
             "rgb(217.66666666666666, 232.55555555555554, 214.44444444444446)",
             "rgb(217.66666666666666, 232.55555555555554, 214.44444444444446)"
            ],
            [
             "rgb(177.0, 205.66666666666666, 169.33333333333331)",
             "rgb(197.33333333333334, 219.11111111111111, 191.88888888888889)",
             "rgb(197.33333333333334, 219.11111111111111, 191.88888888888889)",
             "rgb(197.33333333333334, 219.11111111111111, 191.88888888888889)",
             "rgb(217.66666666666666, 232.55555555555554, 214.44444444444446)",
             "rgb(217.66666666666666, 232.55555555555554, 214.44444444444446)",
             "rgb(217.66666666666666, 232.55555555555554, 214.44444444444446)",
             "rgb(217.66666666666666, 232.55555555555554, 214.44444444444446)",
             "rgb(217.66666666666666, 232.55555555555554, 214.44444444444446)",
             "rgb(217.66666666666666, 232.55555555555554, 214.44444444444446)"
            ]
           ]
          },
          "values": [
           [
            "task",
            "network",
            "deep",
            "model",
            "learn",
            "learning",
            "image",
            "neural",
            "training",
            "train"
           ],
           [
            "datum",
            "learning",
            "algorithm",
            "learn",
            "problem",
            "model",
            "function",
            "label",
            "sample",
            "method"
           ],
           [
            "model",
            "university",
            "datum",
            "department",
            "time",
            "analysis",
            "brain",
            "neural",
            "edu",
            "system"
           ],
           [
            "model",
            "distribution",
            "inference",
            "datum",
            "sample",
            "generative",
            "gan",
            "gaussian",
            "variable",
            "variational"
           ],
           [
            "network",
            "neural",
            "input",
            "unit",
            "weight",
            "learn",
            "output",
            "training",
            "state",
            "function"
           ],
           [
            "neuron",
            "model",
            "network",
            "cell",
            "system",
            "neural",
            "analog",
            "spike",
            "activity",
            "information"
           ],
           [
            "x",
            "problem",
            "n",
            "function",
            "algorithm",
            "optimization",
            "k",
            "matrix",
            "t",
            "edu"
           ],
           [
            "learning",
            "algorithm",
            "policy",
            "reinforcement",
            "problem",
            "learn",
            "agent",
            "state",
            "action",
            "control"
           ],
           [
            "algorithm",
            "datum",
            "graph",
            "problem",
            "cluster",
            "node",
            "edu",
            "distance",
            "clustering",
            "university"
           ],
           [
            "object",
            "visual",
            "image",
            "system",
            "recognition",
            "information",
            "d",
            "model",
            "human",
            "speech"
           ]
          ]
         },
         "header": {
          "fill": {
           "color": "rgb(220, 220, 220)"
          },
          "values": [
           "Topic 00",
           "Topic 01",
           "Topic 02",
           "Topic 03",
           "Topic 04",
           "Topic 05",
           "Topic 06",
           "Topic 07",
           "Topic 08",
           "Topic 09"
          ]
         },
         "type": "table"
        }
       ],
       "layout": {
        "template": {
         "data": {
          "bar": [
           {
            "error_x": {
             "color": "#2a3f5f"
            },
            "error_y": {
             "color": "#2a3f5f"
            },
            "marker": {
             "line": {
              "color": "#E5ECF6",
              "width": 0.5
             },
             "pattern": {
              "fillmode": "overlay",
              "size": 10,
              "solidity": 0.2
             }
            },
            "type": "bar"
           }
          ],
          "barpolar": [
           {
            "marker": {
             "line": {
              "color": "#E5ECF6",
              "width": 0.5
             },
             "pattern": {
              "fillmode": "overlay",
              "size": 10,
              "solidity": 0.2
             }
            },
            "type": "barpolar"
           }
          ],
          "carpet": [
           {
            "aaxis": {
             "endlinecolor": "#2a3f5f",
             "gridcolor": "white",
             "linecolor": "white",
             "minorgridcolor": "white",
             "startlinecolor": "#2a3f5f"
            },
            "baxis": {
             "endlinecolor": "#2a3f5f",
             "gridcolor": "white",
             "linecolor": "white",
             "minorgridcolor": "white",
             "startlinecolor": "#2a3f5f"
            },
            "type": "carpet"
           }
          ],
          "choropleth": [
           {
            "colorbar": {
             "outlinewidth": 0,
             "ticks": ""
            },
            "type": "choropleth"
           }
          ],
          "contour": [
           {
            "colorbar": {
             "outlinewidth": 0,
             "ticks": ""
            },
            "colorscale": [
             [
              0,
              "#0d0887"
             ],
             [
              0.1111111111111111,
              "#46039f"
             ],
             [
              0.2222222222222222,
              "#7201a8"
             ],
             [
              0.3333333333333333,
              "#9c179e"
             ],
             [
              0.4444444444444444,
              "#bd3786"
             ],
             [
              0.5555555555555556,
              "#d8576b"
             ],
             [
              0.6666666666666666,
              "#ed7953"
             ],
             [
              0.7777777777777778,
              "#fb9f3a"
             ],
             [
              0.8888888888888888,
              "#fdca26"
             ],
             [
              1,
              "#f0f921"
             ]
            ],
            "type": "contour"
           }
          ],
          "contourcarpet": [
           {
            "colorbar": {
             "outlinewidth": 0,
             "ticks": ""
            },
            "type": "contourcarpet"
           }
          ],
          "heatmap": [
           {
            "colorbar": {
             "outlinewidth": 0,
             "ticks": ""
            },
            "colorscale": [
             [
              0,
              "#0d0887"
             ],
             [
              0.1111111111111111,
              "#46039f"
             ],
             [
              0.2222222222222222,
              "#7201a8"
             ],
             [
              0.3333333333333333,
              "#9c179e"
             ],
             [
              0.4444444444444444,
              "#bd3786"
             ],
             [
              0.5555555555555556,
              "#d8576b"
             ],
             [
              0.6666666666666666,
              "#ed7953"
             ],
             [
              0.7777777777777778,
              "#fb9f3a"
             ],
             [
              0.8888888888888888,
              "#fdca26"
             ],
             [
              1,
              "#f0f921"
             ]
            ],
            "type": "heatmap"
           }
          ],
          "heatmapgl": [
           {
            "colorbar": {
             "outlinewidth": 0,
             "ticks": ""
            },
            "colorscale": [
             [
              0,
              "#0d0887"
             ],
             [
              0.1111111111111111,
              "#46039f"
             ],
             [
              0.2222222222222222,
              "#7201a8"
             ],
             [
              0.3333333333333333,
              "#9c179e"
             ],
             [
              0.4444444444444444,
              "#bd3786"
             ],
             [
              0.5555555555555556,
              "#d8576b"
             ],
             [
              0.6666666666666666,
              "#ed7953"
             ],
             [
              0.7777777777777778,
              "#fb9f3a"
             ],
             [
              0.8888888888888888,
              "#fdca26"
             ],
             [
              1,
              "#f0f921"
             ]
            ],
            "type": "heatmapgl"
           }
          ],
          "histogram": [
           {
            "marker": {
             "pattern": {
              "fillmode": "overlay",
              "size": 10,
              "solidity": 0.2
             }
            },
            "type": "histogram"
           }
          ],
          "histogram2d": [
           {
            "colorbar": {
             "outlinewidth": 0,
             "ticks": ""
            },
            "colorscale": [
             [
              0,
              "#0d0887"
             ],
             [
              0.1111111111111111,
              "#46039f"
             ],
             [
              0.2222222222222222,
              "#7201a8"
             ],
             [
              0.3333333333333333,
              "#9c179e"
             ],
             [
              0.4444444444444444,
              "#bd3786"
             ],
             [
              0.5555555555555556,
              "#d8576b"
             ],
             [
              0.6666666666666666,
              "#ed7953"
             ],
             [
              0.7777777777777778,
              "#fb9f3a"
             ],
             [
              0.8888888888888888,
              "#fdca26"
             ],
             [
              1,
              "#f0f921"
             ]
            ],
            "type": "histogram2d"
           }
          ],
          "histogram2dcontour": [
           {
            "colorbar": {
             "outlinewidth": 0,
             "ticks": ""
            },
            "colorscale": [
             [
              0,
              "#0d0887"
             ],
             [
              0.1111111111111111,
              "#46039f"
             ],
             [
              0.2222222222222222,
              "#7201a8"
             ],
             [
              0.3333333333333333,
              "#9c179e"
             ],
             [
              0.4444444444444444,
              "#bd3786"
             ],
             [
              0.5555555555555556,
              "#d8576b"
             ],
             [
              0.6666666666666666,
              "#ed7953"
             ],
             [
              0.7777777777777778,
              "#fb9f3a"
             ],
             [
              0.8888888888888888,
              "#fdca26"
             ],
             [
              1,
              "#f0f921"
             ]
            ],
            "type": "histogram2dcontour"
           }
          ],
          "mesh3d": [
           {
            "colorbar": {
             "outlinewidth": 0,
             "ticks": ""
            },
            "type": "mesh3d"
           }
          ],
          "parcoords": [
           {
            "line": {
             "colorbar": {
              "outlinewidth": 0,
              "ticks": ""
             }
            },
            "type": "parcoords"
           }
          ],
          "pie": [
           {
            "automargin": true,
            "type": "pie"
           }
          ],
          "scatter": [
           {
            "marker": {
             "colorbar": {
              "outlinewidth": 0,
              "ticks": ""
             }
            },
            "type": "scatter"
           }
          ],
          "scatter3d": [
           {
            "line": {
             "colorbar": {
              "outlinewidth": 0,
              "ticks": ""
             }
            },
            "marker": {
             "colorbar": {
              "outlinewidth": 0,
              "ticks": ""
             }
            },
            "type": "scatter3d"
           }
          ],
          "scattercarpet": [
           {
            "marker": {
             "colorbar": {
              "outlinewidth": 0,
              "ticks": ""
             }
            },
            "type": "scattercarpet"
           }
          ],
          "scattergeo": [
           {
            "marker": {
             "colorbar": {
              "outlinewidth": 0,
              "ticks": ""
             }
            },
            "type": "scattergeo"
           }
          ],
          "scattergl": [
           {
            "marker": {
             "colorbar": {
              "outlinewidth": 0,
              "ticks": ""
             }
            },
            "type": "scattergl"
           }
          ],
          "scattermapbox": [
           {
            "marker": {
             "colorbar": {
              "outlinewidth": 0,
              "ticks": ""
             }
            },
            "type": "scattermapbox"
           }
          ],
          "scatterpolar": [
           {
            "marker": {
             "colorbar": {
              "outlinewidth": 0,
              "ticks": ""
             }
            },
            "type": "scatterpolar"
           }
          ],
          "scatterpolargl": [
           {
            "marker": {
             "colorbar": {
              "outlinewidth": 0,
              "ticks": ""
             }
            },
            "type": "scatterpolargl"
           }
          ],
          "scatterternary": [
           {
            "marker": {
             "colorbar": {
              "outlinewidth": 0,
              "ticks": ""
             }
            },
            "type": "scatterternary"
           }
          ],
          "surface": [
           {
            "colorbar": {
             "outlinewidth": 0,
             "ticks": ""
            },
            "colorscale": [
             [
              0,
              "#0d0887"
             ],
             [
              0.1111111111111111,
              "#46039f"
             ],
             [
              0.2222222222222222,
              "#7201a8"
             ],
             [
              0.3333333333333333,
              "#9c179e"
             ],
             [
              0.4444444444444444,
              "#bd3786"
             ],
             [
              0.5555555555555556,
              "#d8576b"
             ],
             [
              0.6666666666666666,
              "#ed7953"
             ],
             [
              0.7777777777777778,
              "#fb9f3a"
             ],
             [
              0.8888888888888888,
              "#fdca26"
             ],
             [
              1,
              "#f0f921"
             ]
            ],
            "type": "surface"
           }
          ],
          "table": [
           {
            "cells": {
             "fill": {
              "color": "#EBF0F8"
             },
             "line": {
              "color": "white"
             }
            },
            "header": {
             "fill": {
              "color": "#C8D4E3"
             },
             "line": {
              "color": "white"
             }
            },
            "type": "table"
           }
          ]
         },
         "layout": {
          "annotationdefaults": {
           "arrowcolor": "#2a3f5f",
           "arrowhead": 0,
           "arrowwidth": 1
          },
          "autotypenumbers": "strict",
          "coloraxis": {
           "colorbar": {
            "outlinewidth": 0,
            "ticks": ""
           }
          },
          "colorscale": {
           "diverging": [
            [
             0,
             "#8e0152"
            ],
            [
             0.1,
             "#c51b7d"
            ],
            [
             0.2,
             "#de77ae"
            ],
            [
             0.3,
             "#f1b6da"
            ],
            [
             0.4,
             "#fde0ef"
            ],
            [
             0.5,
             "#f7f7f7"
            ],
            [
             0.6,
             "#e6f5d0"
            ],
            [
             0.7,
             "#b8e186"
            ],
            [
             0.8,
             "#7fbc41"
            ],
            [
             0.9,
             "#4d9221"
            ],
            [
             1,
             "#276419"
            ]
           ],
           "sequential": [
            [
             0,
             "#0d0887"
            ],
            [
             0.1111111111111111,
             "#46039f"
            ],
            [
             0.2222222222222222,
             "#7201a8"
            ],
            [
             0.3333333333333333,
             "#9c179e"
            ],
            [
             0.4444444444444444,
             "#bd3786"
            ],
            [
             0.5555555555555556,
             "#d8576b"
            ],
            [
             0.6666666666666666,
             "#ed7953"
            ],
            [
             0.7777777777777778,
             "#fb9f3a"
            ],
            [
             0.8888888888888888,
             "#fdca26"
            ],
            [
             1,
             "#f0f921"
            ]
           ],
           "sequentialminus": [
            [
             0,
             "#0d0887"
            ],
            [
             0.1111111111111111,
             "#46039f"
            ],
            [
             0.2222222222222222,
             "#7201a8"
            ],
            [
             0.3333333333333333,
             "#9c179e"
            ],
            [
             0.4444444444444444,
             "#bd3786"
            ],
            [
             0.5555555555555556,
             "#d8576b"
            ],
            [
             0.6666666666666666,
             "#ed7953"
            ],
            [
             0.7777777777777778,
             "#fb9f3a"
            ],
            [
             0.8888888888888888,
             "#fdca26"
            ],
            [
             1,
             "#f0f921"
            ]
           ]
          },
          "colorway": [
           "#636efa",
           "#EF553B",
           "#00cc96",
           "#ab63fa",
           "#FFA15A",
           "#19d3f3",
           "#FF6692",
           "#B6E880",
           "#FF97FF",
           "#FECB52"
          ],
          "font": {
           "color": "#2a3f5f"
          },
          "geo": {
           "bgcolor": "white",
           "lakecolor": "white",
           "landcolor": "#E5ECF6",
           "showlakes": true,
           "showland": true,
           "subunitcolor": "white"
          },
          "hoverlabel": {
           "align": "left"
          },
          "hovermode": "closest",
          "mapbox": {
           "style": "light"
          },
          "paper_bgcolor": "white",
          "plot_bgcolor": "#E5ECF6",
          "polar": {
           "angularaxis": {
            "gridcolor": "white",
            "linecolor": "white",
            "ticks": ""
           },
           "bgcolor": "#E5ECF6",
           "radialaxis": {
            "gridcolor": "white",
            "linecolor": "white",
            "ticks": ""
           }
          },
          "scene": {
           "xaxis": {
            "backgroundcolor": "#E5ECF6",
            "gridcolor": "white",
            "gridwidth": 2,
            "linecolor": "white",
            "showbackground": true,
            "ticks": "",
            "zerolinecolor": "white"
           },
           "yaxis": {
            "backgroundcolor": "#E5ECF6",
            "gridcolor": "white",
            "gridwidth": 2,
            "linecolor": "white",
            "showbackground": true,
            "ticks": "",
            "zerolinecolor": "white"
           },
           "zaxis": {
            "backgroundcolor": "#E5ECF6",
            "gridcolor": "white",
            "gridwidth": 2,
            "linecolor": "white",
            "showbackground": true,
            "ticks": "",
            "zerolinecolor": "white"
           }
          },
          "shapedefaults": {
           "line": {
            "color": "#2a3f5f"
           }
          },
          "ternary": {
           "aaxis": {
            "gridcolor": "white",
            "linecolor": "white",
            "ticks": ""
           },
           "baxis": {
            "gridcolor": "white",
            "linecolor": "white",
            "ticks": ""
           },
           "bgcolor": "#E5ECF6",
           "caxis": {
            "gridcolor": "white",
            "linecolor": "white",
            "ticks": ""
           }
          },
          "title": {
           "x": 0.05
          },
          "xaxis": {
           "automargin": true,
           "gridcolor": "white",
           "linecolor": "white",
           "ticks": "",
           "title": {
            "standoff": 15
           },
           "zerolinecolor": "white",
           "zerolinewidth": 2
          },
          "yaxis": {
           "automargin": true,
           "gridcolor": "white",
           "linecolor": "white",
           "ticks": "",
           "title": {
            "standoff": 15
           },
           "zerolinecolor": "white",
           "zerolinewidth": 2
          }
         }
        },
        "title": {
         "text": "Top words for the 10 topics"
        },
        "width": 1350
       }
      }
     },
     "metadata": {},
     "output_type": "display_data"
    },
    {
     "name": "stdout",
     "output_type": "stream",
     "text": [
      "\n"
     ]
    }
   ],
   "source": [
    "# === initialization ===\n",
    "print(\"Initializing...\", flush=True)\n",
    "n_doc_topic = np.zeros([corpus.num_docs, corpus.num_topics], dtype=float) # n_m^(k)\n",
    "n_topic_word = np.zeros([corpus.num_topics, corpus.num_words], dtype=float) # n_k^(t)\n",
    "z_doc_word = np.zeros([corpus.num_docs, corpus.max_doc_length], dtype=int)\n",
    "\n",
    "for doc_i in range(corpus.num_docs):\n",
    "    for j, word_j in enumerate(corpus.docs[doc_i]):\n",
    "        topic_ij = random.randint(0, corpus.num_topics - 1)\n",
    "        n_doc_topic[doc_i, topic_ij] += 1\n",
    "        n_topic_word[topic_ij, word_j] += 1\n",
    "        z_doc_word[doc_i, j] = topic_ij\n",
    "\n",
    "# === Gibbs sampling ===\n",
    "print(\"Gibbs sampling...\", flush=True)\n",
    "for iteration in tqdm(range(hparams.gibbs_sampling_max_iters)):\n",
    "    for doc_i in range(corpus.num_docs):\n",
    "        for j, word_j in enumerate(corpus.docs[doc_i]):\n",
    "            # remove the old assignment\n",
    "            topic_ij = z_doc_word[doc_i, j]\n",
    "            n_doc_topic[doc_i, topic_ij] -= 1\n",
    "            n_topic_word[topic_ij, word_j] -= 1\n",
    "            # compute the new assignment\n",
    "            p_doc_topic = (n_doc_topic[doc_i, :] + hparams.alpha) \\\n",
    "                        / np.sum(n_doc_topic[doc_i] + hparams.alpha)\n",
    "            p_topic_word = (n_topic_word[:, word_j] + hparams.beta[word_j]) \\\n",
    "                        / np.sum(n_topic_word + hparams.beta, axis=1)\n",
    "            p_topic = p_doc_topic * p_topic_word\n",
    "            p_topic /= np.sum(p_topic)\n",
    "            # record the new assignment\n",
    "            new_topic_ij = np.random.choice(np.arange(corpus.num_topics), p=p_topic)\n",
    "            n_doc_topic[doc_i, new_topic_ij] += 1\n",
    "            n_topic_word[new_topic_ij, word_j] += 1\n",
    "            z_doc_word[doc_i, j] = new_topic_ij\n",
    "\n",
    "    if iteration % 50 == 0:\n",
    "        print(f\"Iter [{iteration}]===\")\n",
    "        # === Check convergence and read out parameters ===\n",
    "        theta = (n_doc_topic + hparams.alpha) / np.sum(n_doc_topic + hparams.alpha, axis=1, keepdims=True)\n",
    "        phi = (n_topic_word + hparams.beta) / np.sum(n_topic_word + hparams.beta, axis=1, keepdims=True)\n",
    "\n",
    "        all_top_words = []\n",
    "        all_top_probs = []\n",
    "        for topic in range(corpus.num_topics):\n",
    "            top_words = np.argsort(phi[topic])[::-1][:10]\n",
    "            top_probs = phi[topic, top_words]\n",
    "            top_words = [corpus.id2word[word] for word in top_words]\n",
    "            all_top_words.append(top_words)\n",
    "            all_top_probs.append(top_probs)\n",
    "            print(f\"Topic {topic}:\", top_words)\n",
    "        visualize_topic_word(all_top_words, all_top_probs)"
   ]
  },
  {
   "cell_type": "markdown",
   "metadata": {},
   "source": [
    "# Inference on unseen documents"
   ]
  },
  {
   "cell_type": "code",
   "execution_count": 9,
   "metadata": {},
   "outputs": [
    {
     "name": "stdout",
     "output_type": "stream",
     "text": [
      "num_docs: 5 num_topics: 10 num_words: 0\n",
      "\n",
      "Test Doc [0] ===\n",
      "inference graphical models semidefinite programming a microsoft research cs toronto edu mit microsoft research mit edu andrea montanari stanford university montanari stanford edu abstract maximum posteriori probability map inference graphical model amount solve graph structure combinatorial optimization problem popular inference algorithm belief propagation bp generalize belief propagation intimately related linear programming lp relaxation adams hierarchy despite popularity algorithm understand sum square hierarchy base semidefinite programming provide superior guarantee unfortunately relaxation graph n vertex require solve n d variable d degree hierarchy practice d approach scale ten variable paper propose binary relaxation map inference hierarchy innovation focus computational efficiency firstly analogy bp variant introduce decision variable correspond region graphical model secondly solve result non convex style method develop sequential procedure demonstrate result algorithm solve problem ten thousand variable minute outperform bp practical problem image denoising spin glass finally specific graph type establish sufficient condition tightness propose partial relaxation introduction graphical model provide powerful framework analyze system comprise large number interact variable inference graphical model crucial scientific methodology application variety field include causal inference computer vision statistical physics information theory genome research wj kf mm paper propose class inference algorithm pairwise graphical model model fully specify assign finite domain x variable ii\n"
     ]
    },
    {
     "data": {
      "application/vnd.jupyter.widget-view+json": {
       "model_id": "d4d53be03e9842cda6f633e6130b509b",
       "version_major": 2,
       "version_minor": 0
      },
      "text/plain": [
       "HBox(children=(HTML(value=''), FloatProgress(value=0.0), HTML(value='')))"
      ]
     },
     "metadata": {},
     "output_type": "display_data"
    },
    {
     "name": "stdout",
     "output_type": "stream",
     "text": [
      "\n",
      "Topic distribution: [0.0403, 0.0303, 0.1448, 0.3537, 0.0005, 0.0005, 0.2692, 0.0005, 0.1597, 0.0005]\n",
      "Top 3 topics: [3 6 8]\n",
      "\n",
      "Test Doc [1] ===\n",
      "pose person image generation ma xu jia sun luc van gool ku psi trace europe ku psi max planck institute informatics informatics campus eth zurich ma xu jia luc mpi inf mpg de vision ee ethz ch abstract paper propose novel pose person generation network pg allow synthesize person image arbitrary pose base image person novel pose generation framework pg utilize pose information explicitly consist key stage pose integration image refinement stage condition image target pose feed u net like network generate initial coarse image person target pose stage refine initial result train u net like generator adversarial way extensive experimental result identification image fashion photo model generate high quality person image detail introduction generate realistic look image great value application face movie making image retrieval base image consequently wide range method propose include variational autoencoders vae generative adversarial networks gan autoregressive model e g recently gan model particularly popular principle ability generate sharp image adversarial training example gan generate face natural scene image method propose stabilize training process improve quality generation application perspective user typically particular intention mind change background object s category color viewpoint key idea approach guide generation process explicitly appropriate representation intention enable direct control generation\n"
     ]
    },
    {
     "data": {
      "application/vnd.jupyter.widget-view+json": {
       "model_id": "43eaacc2766648f2855125d1867748a7",
       "version_major": 2,
       "version_minor": 0
      },
      "text/plain": [
       "HBox(children=(HTML(value=''), FloatProgress(value=0.0), HTML(value='')))"
      ]
     },
     "metadata": {},
     "output_type": "display_data"
    },
    {
     "name": "stdout",
     "output_type": "stream",
     "text": [
      "\n",
      "Topic distribution: [0.5279, 0.0055, 0.0353, 0.1647, 0.0254, 0.0005, 0.0005, 0.0005, 0.0005, 0.2393]\n",
      "Top 3 topics: [0 9 3]\n",
      "\n",
      "Test Doc [2] ===\n",
      "model shrinkage effect gamma process edge partition models japan univ tokyo japan univ japan jp com k u tokyo ac jp ist ac jp abstract edge partition model fundamental bayesian nonparametric model extract overlap structure binary matrix adopt gamma process p prior automatically number active atom empirically find model shrinkage typically work appropriately lead solution analysis expectation s intensity function suggest gamma prior hyperparameter model shrinkage effect internal p order ensure model shrinkage effect work appropriate manner propose novel generative construction incorporate constrain gamma prior incorporate dirichlet prior instead gamma prior furthermore s model parameter include infinite atom p prior marginalize possible derive truly infinite efficiently infer collapse gibbs sampler experimentally confirm model shrinkage propose model work indicate state art performance generalization ability link prediction accuracy mix efficiency convergence speed introduction discover low dimensional structure binary matrix important problem relational datum analysis bayesian nonparametric prior dirichlet process dp hierarchical dirichlet process widely apply construct statistical model automatic model shrinkage effect recently advanced stochastic process indian process enable construction statistical model discover overlap structure individual data matrix belong multiple latent class model edge partition model fundamental bayesian nonparametric model extract overlap latent structure underlie give binary matrix consider latent positive random\n"
     ]
    },
    {
     "data": {
      "application/vnd.jupyter.widget-view+json": {
       "model_id": "c2486fdc75eb4545aba50c3af3331eb7",
       "version_major": 2,
       "version_minor": 0
      },
      "text/plain": [
       "HBox(children=(HTML(value=''), FloatProgress(value=0.0), HTML(value='')))"
      ]
     },
     "metadata": {},
     "output_type": "display_data"
    },
    {
     "name": "stdout",
     "output_type": "stream",
     "text": [
      "\n",
      "Topic distribution: [0.0005, 0.1746, 0.1299, 0.4532, 0.0005, 0.0104, 0.09, 0.0005, 0.1398, 0.0005]\n",
      "Top 3 topics: [3 1 8]\n",
      "\n",
      "Test Doc [3] ===\n",
      "universal style transfer feature li uc edu wang adobe research adobe com chen fang adobe research adobe com xin lu adobe research adobe com yang adobe research adobe com ming yang uc nvidia research edu abstract universal style transfer aim transfer arbitrary visual style content image exist feed forward base method enjoy inference efficiency mainly limit generalize unseen style compromise visual quality paper present simple effective method tackle limitation training pre defined style key ingredient method pair feature transform coloring embed image reconstruction network coloring transform reflect direct matching feature covariance content image give style image share similar spirit optimization gram matrix base cost neural style transfer demonstrate effectiveness algorithm generate high quality image comparison number recent method analyze method visualize feature synthesize texture simple feature coloring introduction style transfer important image task enable creation new work give pair example i e content style image aim synthesize image preserve notion content carry characteristic style key challenge extract effective representation style match content image seminal work et al correlation feature i e gram matrix covariance matrix show effective gram matrix extract train deep neural network remarkable ability capture visual style significant effort synthesize image minimize gram covariance matrix base loss function\n"
     ]
    },
    {
     "data": {
      "application/vnd.jupyter.widget-view+json": {
       "model_id": "bf7ae2046cc74322ab3e94bd2bf97b65",
       "version_major": 2,
       "version_minor": 0
      },
      "text/plain": [
       "HBox(children=(HTML(value=''), FloatProgress(value=0.0), HTML(value='')))"
      ]
     },
     "metadata": {},
     "output_type": "display_data"
    },
    {
     "name": "stdout",
     "output_type": "stream",
     "text": [
      "\n",
      "Topic distribution: [0.7667, 0.0005, 0.0154, 0.0005, 0.0005, 0.0005, 0.1249, 0.0005, 0.0005, 0.09]\n",
      "Top 3 topics: [0 6 9]\n",
      "\n",
      "Test Doc [4] ===\n",
      "phase transition data problem jonathan cevher laboratory information inference systems cole polytechnique f d de epfl jonathan cevher epfl ch abstract paper study pool data problem identify label associate large collection item base sequence pool test reveal count label pool noiseless setting identify exact asymptotic threshold required number test optimal decoding prove phase transition complete success complete failure addition present novel noisy variation problem provide information theoretic framework characterize required number test general random noise model result reveal noise problem considerably difficult strict increase scaling law low noise level finally demonstrate similar behavior approximate recovery setting give number error allow label introduction consider follow setting exist large population item associated label label initially unknown estimate base test pool consist subset population test outcome reveal total number item correspond label present pool individual label problem refer pool data problem recently introduce study interest application medical testing genetic learn privacy constraint connection group testing problem linear variant well know bound required number test optimal decoding give upper low bound match exhibit large gap paper completely close gap provide new lower bind exactly match upper bound result collectively reveal phase transition success failure probability error vanish number test exceed give threshold tend threshold\n"
     ]
    },
    {
     "data": {
      "application/vnd.jupyter.widget-view+json": {
       "model_id": "f6030de784d04f08b6d8a9f7101acaa2",
       "version_major": 2,
       "version_minor": 0
      },
      "text/plain": [
       "HBox(children=(HTML(value=''), FloatProgress(value=0.0), HTML(value='')))"
      ]
     },
     "metadata": {},
     "output_type": "display_data"
    },
    {
     "name": "stdout",
     "output_type": "stream",
     "text": [
      "\n",
      "Topic distribution: [0.0055, 0.503, 0.0204, 0.0005, 0.0005, 0.0005, 0.2343, 0.1199, 0.1149, 0.0005]\n",
      "Top 3 topics: [1 6 7]\n"
     ]
    }
   ],
   "source": [
    "# === inference on unseen documents ===\n",
    "test_corpus = NeurIPSCorpus(\n",
    "    data_path=\"data/papers.txt\", \n",
    "    mode=\"test\",\n",
    "    num_topics=10,\n",
    "    start_doc_idx=1000,\n",
    "    max_num_docs=5,\n",
    "    max_num_words=10000,\n",
    "    max_doc_length=200,\n",
    "    train_corpus=corpus,\n",
    ")\n",
    "# === inference via Gibbs sampling ===\n",
    "for i, doc in enumerate(test_corpus.docs):\n",
    "    print(f\"\\nTest Doc [{i}] ===\")\n",
    "    doc_i = 0   # only infer 1 test doc at a time\n",
    "    test_n_doc_topic = np.zeros([1, corpus.num_topics], dtype=float)\n",
    "    test_n_topic_word = np.zeros([corpus.num_topics, corpus.num_words], dtype=float)\n",
    "    test_z_doc_word = np.zeros([1, corpus.max_doc_length], dtype=int)\n",
    "\n",
    "    print(\" \".join([corpus.id2word[x] for x in doc]))\n",
    "\n",
    "    for j, word_j in enumerate(doc):\n",
    "        topic_ij = random.randint(0, corpus.num_topics - 1)\n",
    "        test_n_doc_topic[doc_i, topic_ij] += 1\n",
    "        test_n_topic_word[topic_ij, word_j] += 1\n",
    "        test_z_doc_word[doc_i, j] = topic_ij\n",
    "\n",
    "    for iteration in tqdm(range(100)):\n",
    "        for j, word_j in enumerate(doc):\n",
    "            # remove the old assignment\n",
    "            topic_ij = test_z_doc_word[doc_i, j]\n",
    "            test_n_doc_topic[doc_i, topic_ij] -= 1\n",
    "            test_n_topic_word[topic_ij, word_j] -= 1\n",
    "            # compute the new assignment (new sampling formula!)\n",
    "            p_doc_topic = (test_n_doc_topic[doc_i, :] + hparams.alpha) \\\n",
    "                        / np.sum(test_n_doc_topic[doc_i] + hparams.alpha)\n",
    "            p_topic_word = (test_n_topic_word[:, word_j] + n_topic_word[:, word_j] + hparams.beta[word_j]) \\\n",
    "                        / np.sum(test_n_topic_word + n_topic_word + hparams.beta, axis=1)\n",
    "            p_topic = p_doc_topic * p_topic_word\n",
    "            p_topic /= np.sum(p_topic)\n",
    "            # record the new assignment\n",
    "            new_topic_ij = np.random.choice(np.arange(corpus.num_topics), p=p_topic)\n",
    "            test_n_doc_topic[doc_i, new_topic_ij] += 1\n",
    "            test_n_topic_word[new_topic_ij, word_j] += 1\n",
    "            test_z_doc_word[doc_i, j] = new_topic_ij\n",
    "\n",
    "    # === Check convergence and read out parameters ===\n",
    "    test_theta = (test_n_doc_topic + hparams.alpha) / np.sum(test_n_doc_topic + hparams.alpha, axis=1, keepdims=True)\n",
    "    test_phi = (test_n_topic_word + hparams.beta) / np.sum(test_n_topic_word + hparams.beta, axis=1, keepdims=True)\n",
    "    print(\"Topic distribution:\", [float(f\"{x:.4f}\") for x in test_theta[0]])\n",
    "    print(\"Top 3 topics:\", np.argsort(test_theta[0])[::-1][:3])"
   ]
  },
  {
   "cell_type": "markdown",
   "metadata": {},
   "source": [
    "Compare with the learned topics: \n",
    "\n",
    "<img src=https://raw.githubusercontent.com/mistylight/picbed/main/Hexo/Screen%20Shot%202022-02-28%20at%205.10.12%20PM.png style=\"width: 1200px\">"
   ]
  },
  {
   "cell_type": "code",
   "execution_count": null,
   "metadata": {},
   "outputs": [],
   "source": []
  }
 ],
 "metadata": {
  "interpreter": {
   "hash": "b98ce01d6443f9ed8de6b2298de45a5462ef793670bc2920aea9ee85010384a1"
  },
  "kernelspec": {
   "display_name": "Python 3.8.5 ('base')",
   "language": "python",
   "name": "python3"
  },
  "language_info": {
   "codemirror_mode": {
    "name": "ipython",
    "version": 3
   },
   "file_extension": ".py",
   "mimetype": "text/x-python",
   "name": "python",
   "nbconvert_exporter": "python",
   "pygments_lexer": "ipython3",
   "version": "3.8.5"
  },
  "orig_nbformat": 4
 },
 "nbformat": 4,
 "nbformat_minor": 2
}
