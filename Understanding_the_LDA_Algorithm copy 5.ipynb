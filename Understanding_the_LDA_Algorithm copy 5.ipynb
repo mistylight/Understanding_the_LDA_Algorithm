{
 "cells": [
  {
   "cell_type": "markdown",
   "metadata": {},
   "source": [
    "# LDA Training\n",
    "<figure>\n",
    "<img src=https://s2.loli.net/2022/02/28/X7vzOlDHJtP6UnM.png style=\"width: 600px\">\n",
    "<figcaption>The LDA training algorithm from <a href=http://www.arbylon.net/publications/text-est.pdf>Parameter estimation for text analysis</a></figcaption>\n",
    "</figure>"
   ]
  },
  {
   "cell_type": "code",
   "execution_count": 2,
   "metadata": {},
   "outputs": [],
   "source": [
    "import random\n",
    "import numpy as np\n",
    "from collections import defaultdict, OrderedDict\n",
    "from types import SimpleNamespace\n",
    "from tqdm.notebook import tqdm\n",
    "from visualize import visualize_topic_word"
   ]
  },
  {
   "cell_type": "code",
   "execution_count": 3,
   "metadata": {},
   "outputs": [
    {
     "name": "stdout",
     "output_type": "stream",
     "text": [
      "num_docs: 1000 num_topics: 10 num_words: 7794\n"
     ]
    }
   ],
   "source": [
    "# === corpus loading ===\n",
    "class NeurIPSCorpus:\n",
    "    def __init__(self, data_path, num_topics, max_num_docs=100, max_num_words=10000, max_doc_length=1000):\n",
    "        self.docs = []\n",
    "        self.word2id = OrderedDict()\n",
    "        self.max_doc_length = max_doc_length\n",
    "\n",
    "        # only keep the most frequent words\n",
    "        word2cnt = defaultdict(int)\n",
    "        with open(data_path) as fin:\n",
    "            for i, line in enumerate(list(fin)[::-1]):  # use more recent papers\n",
    "                if i >= max_num_docs: break\n",
    "                for word in line.strip().split():\n",
    "                    word2cnt[word] += 1\n",
    "        \n",
    "        word2cnt = sorted(list(word2cnt.items()), key=lambda x: x[1], reverse=True)\n",
    "        if len(word2cnt) > max_num_words:\n",
    "            word2cnt = word2cnt[:max_num_words]\n",
    "        word2cnt = dict(word2cnt)\n",
    "\n",
    "        # read in the doc and convert words to integers\n",
    "        with open(data_path) as fin:\n",
    "            for i, line in enumerate(list(fin)[::-1]):  # use more recent papers\n",
    "                if i >= max_num_docs: break\n",
    "                doc = []\n",
    "                for word in line.strip().split():\n",
    "                    if len(doc) >= self.max_doc_length: break\n",
    "                    if word not in word2cnt: continue\n",
    "                    if word not in self.word2id: \n",
    "                        self.word2id[word] = len(self.word2id)\n",
    "                    doc.append(self.word2id[word])\n",
    "                self.docs.append(doc)\n",
    "\n",
    "        self.num_docs = len(self.docs)\n",
    "        self.num_topics = num_topics\n",
    "        self.num_words = len(self.word2id)\n",
    "        self.id2word = {v: k for k, v in self.word2id.items()}\n",
    "        print(\n",
    "            \"num_docs:\", self.num_docs, \n",
    "            \"num_topics:\", self.num_topics, \n",
    "            \"num_words:\", self.num_words\n",
    "        )\n",
    "\n",
    "corpus = NeurIPSCorpus(\n",
    "    data_path=\"data/papers.txt\", \n",
    "    num_topics=10,\n",
    "    max_num_docs=1000,\n",
    "    max_num_words=10000,\n",
    "    max_doc_length=200,\n",
    ")\n",
    "hparams = SimpleNamespace(\n",
    "    alpha=np.ones([corpus.num_topics], dtype=float) / corpus.num_topics,\n",
    "    beta = np.ones([corpus.num_words], dtype=float) / corpus.num_topics,\n",
    "    gibbs_sampling_max_iters=500,\n",
    ")"
   ]
  },
  {
   "cell_type": "code",
   "execution_count": 4,
   "metadata": {},
   "outputs": [
    {
     "name": "stdout",
     "output_type": "stream",
     "text": [
      "Initializing...\n",
      "Gibbs sampling...\n"
     ]
    },
    {
     "data": {
      "application/vnd.jupyter.widget-view+json": {
       "model_id": "5b320cda4bd7409b92ede8f57fc106de",
       "version_major": 2,
       "version_minor": 0
      },
      "text/plain": [
       "HBox(children=(HTML(value=''), FloatProgress(value=0.0, max=500.0), HTML(value='')))"
      ]
     },
     "metadata": {},
     "output_type": "display_data"
    },
    {
     "name": "stdout",
     "output_type": "stream",
     "text": [
      "Iter [0]===\n",
      "Topic 0: ['model', 'network', 'learning', 'problem', 'learn', 'function', 'algorithm', 'university', 'datum', 'method']\n",
      "Topic 1: ['network', 'learning', 'model', 'problem', 'learn', 'method', 'algorithm', 'datum', 'introduction', 'task']\n",
      "Topic 2: ['model', 'network', 'learning', 'datum', 'problem', 'algorithm', 'neural', 'university', 'edu', 'function']\n",
      "Topic 3: ['model', 'problem', 'learn', 'network', 'learning', 'university', 'algorithm', 'abstract', 'datum', 'edu']\n",
      "Topic 4: ['model', 'network', 'learning', 'problem', 'university', 'algorithm', 'learn', 'abstract', 'function', 'method']\n",
      "Topic 5: ['model', 'neural', 'network', 'function', 'algorithm', 'problem', 'learning', 'learn', 'university', 'edu']\n",
      "Topic 6: ['model', 'datum', 'network', 'neural', 'learning', 'method', 'university', 'learn', 'algorithm', 'problem']\n",
      "Topic 7: ['network', 'model', 'algorithm', 'problem', 'learning', 'datum', 'function', 'university', 'introduction', 'task']\n",
      "Topic 8: ['network', 'model', 'algorithm', 'learn', 'abstract', 'learning', 'problem', 'datum', 'method', 'university']\n",
      "Topic 9: ['model', 'network', 'algorithm', 'problem', 'datum', 'learn', 'learning', 'neural', 'abstract', 'university']\n"
     ]
    },
    {
     "data": {
      "application/vnd.plotly.v1+json": {
       "config": {
        "plotlyServerURL": "https://plot.ly"
       },
       "data": [
        {
         "cells": {
          "fill": {
           "color": [
            [
             "rgb(197.33333333333334, 219.11111111111111, 191.88888888888889)",
             "rgb(197.33333333333334, 219.11111111111111, 191.88888888888889)",
             "rgb(217.66666666666666, 232.55555555555554, 214.44444444444446)",
             "rgb(217.66666666666666, 232.55555555555554, 214.44444444444446)",
             "rgb(217.66666666666666, 232.55555555555554, 214.44444444444446)",
             "rgb(217.66666666666666, 232.55555555555554, 214.44444444444446)",
             "rgb(217.66666666666666, 232.55555555555554, 214.44444444444446)",
             "rgb(238.0, 246.0, 237.0)",
             "rgb(238.0, 246.0, 237.0)",
             "rgb(238.0, 246.0, 237.0)"
            ],
            [
             "rgb(197.33333333333334, 219.11111111111111, 191.88888888888889)",
             "rgb(217.66666666666666, 232.55555555555554, 214.44444444444446)",
             "rgb(217.66666666666666, 232.55555555555554, 214.44444444444446)",
             "rgb(217.66666666666666, 232.55555555555554, 214.44444444444446)",
             "rgb(217.66666666666666, 232.55555555555554, 214.44444444444446)",
             "rgb(217.66666666666666, 232.55555555555554, 214.44444444444446)",
             "rgb(217.66666666666666, 232.55555555555554, 214.44444444444446)",
             "rgb(217.66666666666666, 232.55555555555554, 214.44444444444446)",
             "rgb(238.0, 246.0, 237.0)",
             "rgb(238.0, 246.0, 237.0)"
            ],
            [
             "rgb(217.66666666666666, 232.55555555555554, 214.44444444444446)",
             "rgb(217.66666666666666, 232.55555555555554, 214.44444444444446)",
             "rgb(217.66666666666666, 232.55555555555554, 214.44444444444446)",
             "rgb(217.66666666666666, 232.55555555555554, 214.44444444444446)",
             "rgb(217.66666666666666, 232.55555555555554, 214.44444444444446)",
             "rgb(217.66666666666666, 232.55555555555554, 214.44444444444446)",
             "rgb(217.66666666666666, 232.55555555555554, 214.44444444444446)",
             "rgb(217.66666666666666, 232.55555555555554, 214.44444444444446)",
             "rgb(217.66666666666666, 232.55555555555554, 214.44444444444446)",
             "rgb(217.66666666666666, 232.55555555555554, 214.44444444444446)"
            ],
            [
             "rgb(217.66666666666666, 232.55555555555554, 214.44444444444446)",
             "rgb(217.66666666666666, 232.55555555555554, 214.44444444444446)",
             "rgb(217.66666666666666, 232.55555555555554, 214.44444444444446)",
             "rgb(217.66666666666666, 232.55555555555554, 214.44444444444446)",
             "rgb(217.66666666666666, 232.55555555555554, 214.44444444444446)",
             "rgb(217.66666666666666, 232.55555555555554, 214.44444444444446)",
             "rgb(217.66666666666666, 232.55555555555554, 214.44444444444446)",
             "rgb(217.66666666666666, 232.55555555555554, 214.44444444444446)",
             "rgb(217.66666666666666, 232.55555555555554, 214.44444444444446)",
             "rgb(238.0, 246.0, 237.0)"
            ],
            [
             "rgb(197.33333333333334, 219.11111111111111, 191.88888888888889)",
             "rgb(217.66666666666666, 232.55555555555554, 214.44444444444446)",
             "rgb(217.66666666666666, 232.55555555555554, 214.44444444444446)",
             "rgb(217.66666666666666, 232.55555555555554, 214.44444444444446)",
             "rgb(217.66666666666666, 232.55555555555554, 214.44444444444446)",
             "rgb(217.66666666666666, 232.55555555555554, 214.44444444444446)",
             "rgb(217.66666666666666, 232.55555555555554, 214.44444444444446)",
             "rgb(217.66666666666666, 232.55555555555554, 214.44444444444446)",
             "rgb(238.0, 246.0, 237.0)",
             "rgb(238.0, 246.0, 237.0)"
            ],
            [
             "rgb(197.33333333333334, 219.11111111111111, 191.88888888888889)",
             "rgb(197.33333333333334, 219.11111111111111, 191.88888888888889)",
             "rgb(217.66666666666666, 232.55555555555554, 214.44444444444446)",
             "rgb(217.66666666666666, 232.55555555555554, 214.44444444444446)",
             "rgb(217.66666666666666, 232.55555555555554, 214.44444444444446)",
             "rgb(217.66666666666666, 232.55555555555554, 214.44444444444446)",
             "rgb(217.66666666666666, 232.55555555555554, 214.44444444444446)",
             "rgb(217.66666666666666, 232.55555555555554, 214.44444444444446)",
             "rgb(238.0, 246.0, 237.0)",
             "rgb(238.0, 246.0, 237.0)"
            ],
            [
             "rgb(217.66666666666666, 232.55555555555554, 214.44444444444446)",
             "rgb(217.66666666666666, 232.55555555555554, 214.44444444444446)",
             "rgb(217.66666666666666, 232.55555555555554, 214.44444444444446)",
             "rgb(217.66666666666666, 232.55555555555554, 214.44444444444446)",
             "rgb(217.66666666666666, 232.55555555555554, 214.44444444444446)",
             "rgb(217.66666666666666, 232.55555555555554, 214.44444444444446)",
             "rgb(217.66666666666666, 232.55555555555554, 214.44444444444446)",
             "rgb(217.66666666666666, 232.55555555555554, 214.44444444444446)",
             "rgb(217.66666666666666, 232.55555555555554, 214.44444444444446)",
             "rgb(217.66666666666666, 232.55555555555554, 214.44444444444446)"
            ],
            [
             "rgb(217.66666666666666, 232.55555555555554, 214.44444444444446)",
             "rgb(217.66666666666666, 232.55555555555554, 214.44444444444446)",
             "rgb(217.66666666666666, 232.55555555555554, 214.44444444444446)",
             "rgb(217.66666666666666, 232.55555555555554, 214.44444444444446)",
             "rgb(217.66666666666666, 232.55555555555554, 214.44444444444446)",
             "rgb(217.66666666666666, 232.55555555555554, 214.44444444444446)",
             "rgb(217.66666666666666, 232.55555555555554, 214.44444444444446)",
             "rgb(217.66666666666666, 232.55555555555554, 214.44444444444446)",
             "rgb(217.66666666666666, 232.55555555555554, 214.44444444444446)",
             "rgb(238.0, 246.0, 237.0)"
            ],
            [
             "rgb(217.66666666666666, 232.55555555555554, 214.44444444444446)",
             "rgb(217.66666666666666, 232.55555555555554, 214.44444444444446)",
             "rgb(217.66666666666666, 232.55555555555554, 214.44444444444446)",
             "rgb(217.66666666666666, 232.55555555555554, 214.44444444444446)",
             "rgb(217.66666666666666, 232.55555555555554, 214.44444444444446)",
             "rgb(217.66666666666666, 232.55555555555554, 214.44444444444446)",
             "rgb(217.66666666666666, 232.55555555555554, 214.44444444444446)",
             "rgb(238.0, 246.0, 237.0)",
             "rgb(238.0, 246.0, 237.0)",
             "rgb(238.0, 246.0, 237.0)"
            ],
            [
             "rgb(217.66666666666666, 232.55555555555554, 214.44444444444446)",
             "rgb(217.66666666666666, 232.55555555555554, 214.44444444444446)",
             "rgb(217.66666666666666, 232.55555555555554, 214.44444444444446)",
             "rgb(217.66666666666666, 232.55555555555554, 214.44444444444446)",
             "rgb(217.66666666666666, 232.55555555555554, 214.44444444444446)",
             "rgb(217.66666666666666, 232.55555555555554, 214.44444444444446)",
             "rgb(217.66666666666666, 232.55555555555554, 214.44444444444446)",
             "rgb(217.66666666666666, 232.55555555555554, 214.44444444444446)",
             "rgb(238.0, 246.0, 237.0)",
             "rgb(238.0, 246.0, 237.0)"
            ]
           ]
          },
          "values": [
           [
            "model",
            "network",
            "learning",
            "problem",
            "learn",
            "function",
            "algorithm",
            "university",
            "datum",
            "method"
           ],
           [
            "network",
            "learning",
            "model",
            "problem",
            "learn",
            "method",
            "algorithm",
            "datum",
            "introduction",
            "task"
           ],
           [
            "model",
            "network",
            "learning",
            "datum",
            "problem",
            "algorithm",
            "neural",
            "university",
            "edu",
            "function"
           ],
           [
            "model",
            "problem",
            "learn",
            "network",
            "learning",
            "university",
            "algorithm",
            "abstract",
            "datum",
            "edu"
           ],
           [
            "model",
            "network",
            "learning",
            "problem",
            "university",
            "algorithm",
            "learn",
            "abstract",
            "function",
            "method"
           ],
           [
            "model",
            "neural",
            "network",
            "function",
            "algorithm",
            "problem",
            "learning",
            "learn",
            "university",
            "edu"
           ],
           [
            "model",
            "datum",
            "network",
            "neural",
            "learning",
            "method",
            "university",
            "learn",
            "algorithm",
            "problem"
           ],
           [
            "network",
            "model",
            "algorithm",
            "problem",
            "learning",
            "datum",
            "function",
            "university",
            "introduction",
            "task"
           ],
           [
            "network",
            "model",
            "algorithm",
            "learn",
            "abstract",
            "learning",
            "problem",
            "datum",
            "method",
            "university"
           ],
           [
            "model",
            "network",
            "algorithm",
            "problem",
            "datum",
            "learn",
            "learning",
            "neural",
            "abstract",
            "university"
           ]
          ]
         },
         "header": {
          "fill": {
           "color": "rgb(220, 220, 220)"
          },
          "values": [
           "Topic 00",
           "Topic 01",
           "Topic 02",
           "Topic 03",
           "Topic 04",
           "Topic 05",
           "Topic 06",
           "Topic 07",
           "Topic 08",
           "Topic 09"
          ]
         },
         "type": "table"
        }
       ],
       "layout": {
        "template": {
         "data": {
          "bar": [
           {
            "error_x": {
             "color": "#2a3f5f"
            },
            "error_y": {
             "color": "#2a3f5f"
            },
            "marker": {
             "line": {
              "color": "#E5ECF6",
              "width": 0.5
             },
             "pattern": {
              "fillmode": "overlay",
              "size": 10,
              "solidity": 0.2
             }
            },
            "type": "bar"
           }
          ],
          "barpolar": [
           {
            "marker": {
             "line": {
              "color": "#E5ECF6",
              "width": 0.5
             },
             "pattern": {
              "fillmode": "overlay",
              "size": 10,
              "solidity": 0.2
             }
            },
            "type": "barpolar"
           }
          ],
          "carpet": [
           {
            "aaxis": {
             "endlinecolor": "#2a3f5f",
             "gridcolor": "white",
             "linecolor": "white",
             "minorgridcolor": "white",
             "startlinecolor": "#2a3f5f"
            },
            "baxis": {
             "endlinecolor": "#2a3f5f",
             "gridcolor": "white",
             "linecolor": "white",
             "minorgridcolor": "white",
             "startlinecolor": "#2a3f5f"
            },
            "type": "carpet"
           }
          ],
          "choropleth": [
           {
            "colorbar": {
             "outlinewidth": 0,
             "ticks": ""
            },
            "type": "choropleth"
           }
          ],
          "contour": [
           {
            "colorbar": {
             "outlinewidth": 0,
             "ticks": ""
            },
            "colorscale": [
             [
              0,
              "#0d0887"
             ],
             [
              0.1111111111111111,
              "#46039f"
             ],
             [
              0.2222222222222222,
              "#7201a8"
             ],
             [
              0.3333333333333333,
              "#9c179e"
             ],
             [
              0.4444444444444444,
              "#bd3786"
             ],
             [
              0.5555555555555556,
              "#d8576b"
             ],
             [
              0.6666666666666666,
              "#ed7953"
             ],
             [
              0.7777777777777778,
              "#fb9f3a"
             ],
             [
              0.8888888888888888,
              "#fdca26"
             ],
             [
              1,
              "#f0f921"
             ]
            ],
            "type": "contour"
           }
          ],
          "contourcarpet": [
           {
            "colorbar": {
             "outlinewidth": 0,
             "ticks": ""
            },
            "type": "contourcarpet"
           }
          ],
          "heatmap": [
           {
            "colorbar": {
             "outlinewidth": 0,
             "ticks": ""
            },
            "colorscale": [
             [
              0,
              "#0d0887"
             ],
             [
              0.1111111111111111,
              "#46039f"
             ],
             [
              0.2222222222222222,
              "#7201a8"
             ],
             [
              0.3333333333333333,
              "#9c179e"
             ],
             [
              0.4444444444444444,
              "#bd3786"
             ],
             [
              0.5555555555555556,
              "#d8576b"
             ],
             [
              0.6666666666666666,
              "#ed7953"
             ],
             [
              0.7777777777777778,
              "#fb9f3a"
             ],
             [
              0.8888888888888888,
              "#fdca26"
             ],
             [
              1,
              "#f0f921"
             ]
            ],
            "type": "heatmap"
           }
          ],
          "heatmapgl": [
           {
            "colorbar": {
             "outlinewidth": 0,
             "ticks": ""
            },
            "colorscale": [
             [
              0,
              "#0d0887"
             ],
             [
              0.1111111111111111,
              "#46039f"
             ],
             [
              0.2222222222222222,
              "#7201a8"
             ],
             [
              0.3333333333333333,
              "#9c179e"
             ],
             [
              0.4444444444444444,
              "#bd3786"
             ],
             [
              0.5555555555555556,
              "#d8576b"
             ],
             [
              0.6666666666666666,
              "#ed7953"
             ],
             [
              0.7777777777777778,
              "#fb9f3a"
             ],
             [
              0.8888888888888888,
              "#fdca26"
             ],
             [
              1,
              "#f0f921"
             ]
            ],
            "type": "heatmapgl"
           }
          ],
          "histogram": [
           {
            "marker": {
             "pattern": {
              "fillmode": "overlay",
              "size": 10,
              "solidity": 0.2
             }
            },
            "type": "histogram"
           }
          ],
          "histogram2d": [
           {
            "colorbar": {
             "outlinewidth": 0,
             "ticks": ""
            },
            "colorscale": [
             [
              0,
              "#0d0887"
             ],
             [
              0.1111111111111111,
              "#46039f"
             ],
             [
              0.2222222222222222,
              "#7201a8"
             ],
             [
              0.3333333333333333,
              "#9c179e"
             ],
             [
              0.4444444444444444,
              "#bd3786"
             ],
             [
              0.5555555555555556,
              "#d8576b"
             ],
             [
              0.6666666666666666,
              "#ed7953"
             ],
             [
              0.7777777777777778,
              "#fb9f3a"
             ],
             [
              0.8888888888888888,
              "#fdca26"
             ],
             [
              1,
              "#f0f921"
             ]
            ],
            "type": "histogram2d"
           }
          ],
          "histogram2dcontour": [
           {
            "colorbar": {
             "outlinewidth": 0,
             "ticks": ""
            },
            "colorscale": [
             [
              0,
              "#0d0887"
             ],
             [
              0.1111111111111111,
              "#46039f"
             ],
             [
              0.2222222222222222,
              "#7201a8"
             ],
             [
              0.3333333333333333,
              "#9c179e"
             ],
             [
              0.4444444444444444,
              "#bd3786"
             ],
             [
              0.5555555555555556,
              "#d8576b"
             ],
             [
              0.6666666666666666,
              "#ed7953"
             ],
             [
              0.7777777777777778,
              "#fb9f3a"
             ],
             [
              0.8888888888888888,
              "#fdca26"
             ],
             [
              1,
              "#f0f921"
             ]
            ],
            "type": "histogram2dcontour"
           }
          ],
          "mesh3d": [
           {
            "colorbar": {
             "outlinewidth": 0,
             "ticks": ""
            },
            "type": "mesh3d"
           }
          ],
          "parcoords": [
           {
            "line": {
             "colorbar": {
              "outlinewidth": 0,
              "ticks": ""
             }
            },
            "type": "parcoords"
           }
          ],
          "pie": [
           {
            "automargin": true,
            "type": "pie"
           }
          ],
          "scatter": [
           {
            "marker": {
             "colorbar": {
              "outlinewidth": 0,
              "ticks": ""
             }
            },
            "type": "scatter"
           }
          ],
          "scatter3d": [
           {
            "line": {
             "colorbar": {
              "outlinewidth": 0,
              "ticks": ""
             }
            },
            "marker": {
             "colorbar": {
              "outlinewidth": 0,
              "ticks": ""
             }
            },
            "type": "scatter3d"
           }
          ],
          "scattercarpet": [
           {
            "marker": {
             "colorbar": {
              "outlinewidth": 0,
              "ticks": ""
             }
            },
            "type": "scattercarpet"
           }
          ],
          "scattergeo": [
           {
            "marker": {
             "colorbar": {
              "outlinewidth": 0,
              "ticks": ""
             }
            },
            "type": "scattergeo"
           }
          ],
          "scattergl": [
           {
            "marker": {
             "colorbar": {
              "outlinewidth": 0,
              "ticks": ""
             }
            },
            "type": "scattergl"
           }
          ],
          "scattermapbox": [
           {
            "marker": {
             "colorbar": {
              "outlinewidth": 0,
              "ticks": ""
             }
            },
            "type": "scattermapbox"
           }
          ],
          "scatterpolar": [
           {
            "marker": {
             "colorbar": {
              "outlinewidth": 0,
              "ticks": ""
             }
            },
            "type": "scatterpolar"
           }
          ],
          "scatterpolargl": [
           {
            "marker": {
             "colorbar": {
              "outlinewidth": 0,
              "ticks": ""
             }
            },
            "type": "scatterpolargl"
           }
          ],
          "scatterternary": [
           {
            "marker": {
             "colorbar": {
              "outlinewidth": 0,
              "ticks": ""
             }
            },
            "type": "scatterternary"
           }
          ],
          "surface": [
           {
            "colorbar": {
             "outlinewidth": 0,
             "ticks": ""
            },
            "colorscale": [
             [
              0,
              "#0d0887"
             ],
             [
              0.1111111111111111,
              "#46039f"
             ],
             [
              0.2222222222222222,
              "#7201a8"
             ],
             [
              0.3333333333333333,
              "#9c179e"
             ],
             [
              0.4444444444444444,
              "#bd3786"
             ],
             [
              0.5555555555555556,
              "#d8576b"
             ],
             [
              0.6666666666666666,
              "#ed7953"
             ],
             [
              0.7777777777777778,
              "#fb9f3a"
             ],
             [
              0.8888888888888888,
              "#fdca26"
             ],
             [
              1,
              "#f0f921"
             ]
            ],
            "type": "surface"
           }
          ],
          "table": [
           {
            "cells": {
             "fill": {
              "color": "#EBF0F8"
             },
             "line": {
              "color": "white"
             }
            },
            "header": {
             "fill": {
              "color": "#C8D4E3"
             },
             "line": {
              "color": "white"
             }
            },
            "type": "table"
           }
          ]
         },
         "layout": {
          "annotationdefaults": {
           "arrowcolor": "#2a3f5f",
           "arrowhead": 0,
           "arrowwidth": 1
          },
          "autotypenumbers": "strict",
          "coloraxis": {
           "colorbar": {
            "outlinewidth": 0,
            "ticks": ""
           }
          },
          "colorscale": {
           "diverging": [
            [
             0,
             "#8e0152"
            ],
            [
             0.1,
             "#c51b7d"
            ],
            [
             0.2,
             "#de77ae"
            ],
            [
             0.3,
             "#f1b6da"
            ],
            [
             0.4,
             "#fde0ef"
            ],
            [
             0.5,
             "#f7f7f7"
            ],
            [
             0.6,
             "#e6f5d0"
            ],
            [
             0.7,
             "#b8e186"
            ],
            [
             0.8,
             "#7fbc41"
            ],
            [
             0.9,
             "#4d9221"
            ],
            [
             1,
             "#276419"
            ]
           ],
           "sequential": [
            [
             0,
             "#0d0887"
            ],
            [
             0.1111111111111111,
             "#46039f"
            ],
            [
             0.2222222222222222,
             "#7201a8"
            ],
            [
             0.3333333333333333,
             "#9c179e"
            ],
            [
             0.4444444444444444,
             "#bd3786"
            ],
            [
             0.5555555555555556,
             "#d8576b"
            ],
            [
             0.6666666666666666,
             "#ed7953"
            ],
            [
             0.7777777777777778,
             "#fb9f3a"
            ],
            [
             0.8888888888888888,
             "#fdca26"
            ],
            [
             1,
             "#f0f921"
            ]
           ],
           "sequentialminus": [
            [
             0,
             "#0d0887"
            ],
            [
             0.1111111111111111,
             "#46039f"
            ],
            [
             0.2222222222222222,
             "#7201a8"
            ],
            [
             0.3333333333333333,
             "#9c179e"
            ],
            [
             0.4444444444444444,
             "#bd3786"
            ],
            [
             0.5555555555555556,
             "#d8576b"
            ],
            [
             0.6666666666666666,
             "#ed7953"
            ],
            [
             0.7777777777777778,
             "#fb9f3a"
            ],
            [
             0.8888888888888888,
             "#fdca26"
            ],
            [
             1,
             "#f0f921"
            ]
           ]
          },
          "colorway": [
           "#636efa",
           "#EF553B",
           "#00cc96",
           "#ab63fa",
           "#FFA15A",
           "#19d3f3",
           "#FF6692",
           "#B6E880",
           "#FF97FF",
           "#FECB52"
          ],
          "font": {
           "color": "#2a3f5f"
          },
          "geo": {
           "bgcolor": "white",
           "lakecolor": "white",
           "landcolor": "#E5ECF6",
           "showlakes": true,
           "showland": true,
           "subunitcolor": "white"
          },
          "hoverlabel": {
           "align": "left"
          },
          "hovermode": "closest",
          "mapbox": {
           "style": "light"
          },
          "paper_bgcolor": "white",
          "plot_bgcolor": "#E5ECF6",
          "polar": {
           "angularaxis": {
            "gridcolor": "white",
            "linecolor": "white",
            "ticks": ""
           },
           "bgcolor": "#E5ECF6",
           "radialaxis": {
            "gridcolor": "white",
            "linecolor": "white",
            "ticks": ""
           }
          },
          "scene": {
           "xaxis": {
            "backgroundcolor": "#E5ECF6",
            "gridcolor": "white",
            "gridwidth": 2,
            "linecolor": "white",
            "showbackground": true,
            "ticks": "",
            "zerolinecolor": "white"
           },
           "yaxis": {
            "backgroundcolor": "#E5ECF6",
            "gridcolor": "white",
            "gridwidth": 2,
            "linecolor": "white",
            "showbackground": true,
            "ticks": "",
            "zerolinecolor": "white"
           },
           "zaxis": {
            "backgroundcolor": "#E5ECF6",
            "gridcolor": "white",
            "gridwidth": 2,
            "linecolor": "white",
            "showbackground": true,
            "ticks": "",
            "zerolinecolor": "white"
           }
          },
          "shapedefaults": {
           "line": {
            "color": "#2a3f5f"
           }
          },
          "ternary": {
           "aaxis": {
            "gridcolor": "white",
            "linecolor": "white",
            "ticks": ""
           },
           "baxis": {
            "gridcolor": "white",
            "linecolor": "white",
            "ticks": ""
           },
           "bgcolor": "#E5ECF6",
           "caxis": {
            "gridcolor": "white",
            "linecolor": "white",
            "ticks": ""
           }
          },
          "title": {
           "x": 0.05
          },
          "xaxis": {
           "automargin": true,
           "gridcolor": "white",
           "linecolor": "white",
           "ticks": "",
           "title": {
            "standoff": 15
           },
           "zerolinecolor": "white",
           "zerolinewidth": 2
          },
          "yaxis": {
           "automargin": true,
           "gridcolor": "white",
           "linecolor": "white",
           "ticks": "",
           "title": {
            "standoff": 15
           },
           "zerolinecolor": "white",
           "zerolinewidth": 2
          }
         }
        },
        "title": {
         "text": "Top words for the 10 topics"
        },
        "width": 1350
       }
      }
     },
     "metadata": {},
     "output_type": "display_data"
    },
    {
     "name": "stdout",
     "output_type": "stream",
     "text": [
      "Iter [50]===\n",
      "Topic 0: ['model', 'task', 'learning', 'deep', 'learn', 'network', 'neural', 'image', 'train', 'method']\n",
      "Topic 1: ['datum', 'algorithm', 'learning', 'learn', 'problem', 'sample', 'method', 'set', 'training', 'class']\n",
      "Topic 2: ['information', 'university', 'brain', 'analysis', 'datum', 'memory', 'structure', 'department', 'neural', 'e']\n",
      "Topic 3: ['model', 'distribution', 'datum', 'gaussian', 'kernel', 'gan', 'generative', 'process', 'university', 'variable']\n",
      "Topic 4: ['network', 'neural', 'input', 'learn', 'unit', 'output', 'model', 'training', 'weight', 'state']\n",
      "Topic 5: ['neuron', 'network', 'model', 'neural', 'system', 'time', 'cell', 't', 'pattern', 'signal']\n",
      "Topic 6: ['x', 'n', 'function', 'problem', 'algorithm', 'k', 'method', 'matrix', 't', 'optimization']\n",
      "Topic 7: ['algorithm', 'problem', 'learning', 'policy', 'reinforcement', 'function', 'state', 'agent', 'learn', 'action']\n",
      "Topic 8: ['datum', 'problem', 'cluster', 'network', 'user', 'algorithm', 'graph', 'clustering', 'node', 'model']\n",
      "Topic 9: ['object', 'image', 'visual', 'system', 'd', 'recognition', 'motion', 'information', 'human', 'representation']\n"
     ]
    },
    {
     "data": {
      "application/vnd.plotly.v1+json": {
       "config": {
        "plotlyServerURL": "https://plot.ly"
       },
       "data": [
        {
         "cells": {
          "fill": {
           "color": [
            [
             "rgb(156.66666666666669, 192.22222222222223, 146.77777777777777)",
             "rgb(177.0, 205.66666666666666, 169.33333333333331)",
             "rgb(177.0, 205.66666666666666, 169.33333333333331)",
             "rgb(177.0, 205.66666666666666, 169.33333333333331)",
             "rgb(197.33333333333334, 219.11111111111111, 191.88888888888889)",
             "rgb(197.33333333333334, 219.11111111111111, 191.88888888888889)",
             "rgb(217.66666666666666, 232.55555555555554, 214.44444444444446)",
             "rgb(217.66666666666666, 232.55555555555554, 214.44444444444446)",
             "rgb(217.66666666666666, 232.55555555555554, 214.44444444444446)",
             "rgb(217.66666666666666, 232.55555555555554, 214.44444444444446)"
            ],
            [
             "rgb(197.33333333333334, 219.11111111111111, 191.88888888888889)",
             "rgb(197.33333333333334, 219.11111111111111, 191.88888888888889)",
             "rgb(197.33333333333334, 219.11111111111111, 191.88888888888889)",
             "rgb(197.33333333333334, 219.11111111111111, 191.88888888888889)",
             "rgb(217.66666666666666, 232.55555555555554, 214.44444444444446)",
             "rgb(217.66666666666666, 232.55555555555554, 214.44444444444446)",
             "rgb(217.66666666666666, 232.55555555555554, 214.44444444444446)",
             "rgb(217.66666666666666, 232.55555555555554, 214.44444444444446)",
             "rgb(217.66666666666666, 232.55555555555554, 214.44444444444446)",
             "rgb(217.66666666666666, 232.55555555555554, 214.44444444444446)"
            ],
            [
             "rgb(197.33333333333334, 219.11111111111111, 191.88888888888889)",
             "rgb(197.33333333333334, 219.11111111111111, 191.88888888888889)",
             "rgb(197.33333333333334, 219.11111111111111, 191.88888888888889)",
             "rgb(217.66666666666666, 232.55555555555554, 214.44444444444446)",
             "rgb(217.66666666666666, 232.55555555555554, 214.44444444444446)",
             "rgb(217.66666666666666, 232.55555555555554, 214.44444444444446)",
             "rgb(217.66666666666666, 232.55555555555554, 214.44444444444446)",
             "rgb(217.66666666666666, 232.55555555555554, 214.44444444444446)",
             "rgb(217.66666666666666, 232.55555555555554, 214.44444444444446)",
             "rgb(217.66666666666666, 232.55555555555554, 214.44444444444446)"
            ],
            [
             "rgb(116.0, 165.33333333333331, 101.66666666666666)",
             "rgb(177.0, 205.66666666666666, 169.33333333333331)",
             "rgb(197.33333333333334, 219.11111111111111, 191.88888888888889)",
             "rgb(197.33333333333334, 219.11111111111111, 191.88888888888889)",
             "rgb(217.66666666666666, 232.55555555555554, 214.44444444444446)",
             "rgb(217.66666666666666, 232.55555555555554, 214.44444444444446)",
             "rgb(217.66666666666666, 232.55555555555554, 214.44444444444446)",
             "rgb(217.66666666666666, 232.55555555555554, 214.44444444444446)",
             "rgb(217.66666666666666, 232.55555555555554, 214.44444444444446)",
             "rgb(217.66666666666666, 232.55555555555554, 214.44444444444446)"
            ],
            [
             "rgb(95.66666666666669, 151.88888888888889, 79.11111111111109)",
             "rgb(177.0, 205.66666666666666, 169.33333333333331)",
             "rgb(197.33333333333334, 219.11111111111111, 191.88888888888889)",
             "rgb(217.66666666666666, 232.55555555555554, 214.44444444444446)",
             "rgb(217.66666666666666, 232.55555555555554, 214.44444444444446)",
             "rgb(217.66666666666666, 232.55555555555554, 214.44444444444446)",
             "rgb(217.66666666666666, 232.55555555555554, 214.44444444444446)",
             "rgb(217.66666666666666, 232.55555555555554, 214.44444444444446)",
             "rgb(217.66666666666666, 232.55555555555554, 214.44444444444446)",
             "rgb(217.66666666666666, 232.55555555555554, 214.44444444444446)"
            ],
            [
             "rgb(177.0, 205.66666666666666, 169.33333333333331)",
             "rgb(177.0, 205.66666666666666, 169.33333333333331)",
             "rgb(197.33333333333334, 219.11111111111111, 191.88888888888889)",
             "rgb(197.33333333333334, 219.11111111111111, 191.88888888888889)",
             "rgb(197.33333333333334, 219.11111111111111, 191.88888888888889)",
             "rgb(217.66666666666666, 232.55555555555554, 214.44444444444446)",
             "rgb(217.66666666666666, 232.55555555555554, 214.44444444444446)",
             "rgb(217.66666666666666, 232.55555555555554, 214.44444444444446)",
             "rgb(217.66666666666666, 232.55555555555554, 214.44444444444446)",
             "rgb(217.66666666666666, 232.55555555555554, 214.44444444444446)"
            ],
            [
             "rgb(177.0, 205.66666666666666, 169.33333333333331)",
             "rgb(177.0, 205.66666666666666, 169.33333333333331)",
             "rgb(197.33333333333334, 219.11111111111111, 191.88888888888889)",
             "rgb(197.33333333333334, 219.11111111111111, 191.88888888888889)",
             "rgb(197.33333333333334, 219.11111111111111, 191.88888888888889)",
             "rgb(197.33333333333334, 219.11111111111111, 191.88888888888889)",
             "rgb(217.66666666666666, 232.55555555555554, 214.44444444444446)",
             "rgb(217.66666666666666, 232.55555555555554, 214.44444444444446)",
             "rgb(217.66666666666666, 232.55555555555554, 214.44444444444446)",
             "rgb(217.66666666666666, 232.55555555555554, 214.44444444444446)"
            ],
            [
             "rgb(197.33333333333334, 219.11111111111111, 191.88888888888889)",
             "rgb(197.33333333333334, 219.11111111111111, 191.88888888888889)",
             "rgb(197.33333333333334, 219.11111111111111, 191.88888888888889)",
             "rgb(197.33333333333334, 219.11111111111111, 191.88888888888889)",
             "rgb(217.66666666666666, 232.55555555555554, 214.44444444444446)",
             "rgb(217.66666666666666, 232.55555555555554, 214.44444444444446)",
             "rgb(217.66666666666666, 232.55555555555554, 214.44444444444446)",
             "rgb(217.66666666666666, 232.55555555555554, 214.44444444444446)",
             "rgb(217.66666666666666, 232.55555555555554, 214.44444444444446)",
             "rgb(217.66666666666666, 232.55555555555554, 214.44444444444446)"
            ],
            [
             "rgb(197.33333333333334, 219.11111111111111, 191.88888888888889)",
             "rgb(217.66666666666666, 232.55555555555554, 214.44444444444446)",
             "rgb(217.66666666666666, 232.55555555555554, 214.44444444444446)",
             "rgb(217.66666666666666, 232.55555555555554, 214.44444444444446)",
             "rgb(217.66666666666666, 232.55555555555554, 214.44444444444446)",
             "rgb(217.66666666666666, 232.55555555555554, 214.44444444444446)",
             "rgb(217.66666666666666, 232.55555555555554, 214.44444444444446)",
             "rgb(217.66666666666666, 232.55555555555554, 214.44444444444446)",
             "rgb(217.66666666666666, 232.55555555555554, 214.44444444444446)",
             "rgb(217.66666666666666, 232.55555555555554, 214.44444444444446)"
            ],
            [
             "rgb(177.0, 205.66666666666666, 169.33333333333331)",
             "rgb(177.0, 205.66666666666666, 169.33333333333331)",
             "rgb(177.0, 205.66666666666666, 169.33333333333331)",
             "rgb(197.33333333333334, 219.11111111111111, 191.88888888888889)",
             "rgb(217.66666666666666, 232.55555555555554, 214.44444444444446)",
             "rgb(217.66666666666666, 232.55555555555554, 214.44444444444446)",
             "rgb(217.66666666666666, 232.55555555555554, 214.44444444444446)",
             "rgb(217.66666666666666, 232.55555555555554, 214.44444444444446)",
             "rgb(217.66666666666666, 232.55555555555554, 214.44444444444446)",
             "rgb(217.66666666666666, 232.55555555555554, 214.44444444444446)"
            ]
           ]
          },
          "values": [
           [
            "model",
            "task",
            "learning",
            "deep",
            "learn",
            "network",
            "neural",
            "image",
            "train",
            "method"
           ],
           [
            "datum",
            "algorithm",
            "learning",
            "learn",
            "problem",
            "sample",
            "method",
            "set",
            "training",
            "class"
           ],
           [
            "information",
            "university",
            "brain",
            "analysis",
            "datum",
            "memory",
            "structure",
            "department",
            "neural",
            "e"
           ],
           [
            "model",
            "distribution",
            "datum",
            "gaussian",
            "kernel",
            "gan",
            "generative",
            "process",
            "university",
            "variable"
           ],
           [
            "network",
            "neural",
            "input",
            "learn",
            "unit",
            "output",
            "model",
            "training",
            "weight",
            "state"
           ],
           [
            "neuron",
            "network",
            "model",
            "neural",
            "system",
            "time",
            "cell",
            "t",
            "pattern",
            "signal"
           ],
           [
            "x",
            "n",
            "function",
            "problem",
            "algorithm",
            "k",
            "method",
            "matrix",
            "t",
            "optimization"
           ],
           [
            "algorithm",
            "problem",
            "learning",
            "policy",
            "reinforcement",
            "function",
            "state",
            "agent",
            "learn",
            "action"
           ],
           [
            "datum",
            "problem",
            "cluster",
            "network",
            "user",
            "algorithm",
            "graph",
            "clustering",
            "node",
            "model"
           ],
           [
            "object",
            "image",
            "visual",
            "system",
            "d",
            "recognition",
            "motion",
            "information",
            "human",
            "representation"
           ]
          ]
         },
         "header": {
          "fill": {
           "color": "rgb(220, 220, 220)"
          },
          "values": [
           "Topic 00",
           "Topic 01",
           "Topic 02",
           "Topic 03",
           "Topic 04",
           "Topic 05",
           "Topic 06",
           "Topic 07",
           "Topic 08",
           "Topic 09"
          ]
         },
         "type": "table"
        }
       ],
       "layout": {
        "template": {
         "data": {
          "bar": [
           {
            "error_x": {
             "color": "#2a3f5f"
            },
            "error_y": {
             "color": "#2a3f5f"
            },
            "marker": {
             "line": {
              "color": "#E5ECF6",
              "width": 0.5
             },
             "pattern": {
              "fillmode": "overlay",
              "size": 10,
              "solidity": 0.2
             }
            },
            "type": "bar"
           }
          ],
          "barpolar": [
           {
            "marker": {
             "line": {
              "color": "#E5ECF6",
              "width": 0.5
             },
             "pattern": {
              "fillmode": "overlay",
              "size": 10,
              "solidity": 0.2
             }
            },
            "type": "barpolar"
           }
          ],
          "carpet": [
           {
            "aaxis": {
             "endlinecolor": "#2a3f5f",
             "gridcolor": "white",
             "linecolor": "white",
             "minorgridcolor": "white",
             "startlinecolor": "#2a3f5f"
            },
            "baxis": {
             "endlinecolor": "#2a3f5f",
             "gridcolor": "white",
             "linecolor": "white",
             "minorgridcolor": "white",
             "startlinecolor": "#2a3f5f"
            },
            "type": "carpet"
           }
          ],
          "choropleth": [
           {
            "colorbar": {
             "outlinewidth": 0,
             "ticks": ""
            },
            "type": "choropleth"
           }
          ],
          "contour": [
           {
            "colorbar": {
             "outlinewidth": 0,
             "ticks": ""
            },
            "colorscale": [
             [
              0,
              "#0d0887"
             ],
             [
              0.1111111111111111,
              "#46039f"
             ],
             [
              0.2222222222222222,
              "#7201a8"
             ],
             [
              0.3333333333333333,
              "#9c179e"
             ],
             [
              0.4444444444444444,
              "#bd3786"
             ],
             [
              0.5555555555555556,
              "#d8576b"
             ],
             [
              0.6666666666666666,
              "#ed7953"
             ],
             [
              0.7777777777777778,
              "#fb9f3a"
             ],
             [
              0.8888888888888888,
              "#fdca26"
             ],
             [
              1,
              "#f0f921"
             ]
            ],
            "type": "contour"
           }
          ],
          "contourcarpet": [
           {
            "colorbar": {
             "outlinewidth": 0,
             "ticks": ""
            },
            "type": "contourcarpet"
           }
          ],
          "heatmap": [
           {
            "colorbar": {
             "outlinewidth": 0,
             "ticks": ""
            },
            "colorscale": [
             [
              0,
              "#0d0887"
             ],
             [
              0.1111111111111111,
              "#46039f"
             ],
             [
              0.2222222222222222,
              "#7201a8"
             ],
             [
              0.3333333333333333,
              "#9c179e"
             ],
             [
              0.4444444444444444,
              "#bd3786"
             ],
             [
              0.5555555555555556,
              "#d8576b"
             ],
             [
              0.6666666666666666,
              "#ed7953"
             ],
             [
              0.7777777777777778,
              "#fb9f3a"
             ],
             [
              0.8888888888888888,
              "#fdca26"
             ],
             [
              1,
              "#f0f921"
             ]
            ],
            "type": "heatmap"
           }
          ],
          "heatmapgl": [
           {
            "colorbar": {
             "outlinewidth": 0,
             "ticks": ""
            },
            "colorscale": [
             [
              0,
              "#0d0887"
             ],
             [
              0.1111111111111111,
              "#46039f"
             ],
             [
              0.2222222222222222,
              "#7201a8"
             ],
             [
              0.3333333333333333,
              "#9c179e"
             ],
             [
              0.4444444444444444,
              "#bd3786"
             ],
             [
              0.5555555555555556,
              "#d8576b"
             ],
             [
              0.6666666666666666,
              "#ed7953"
             ],
             [
              0.7777777777777778,
              "#fb9f3a"
             ],
             [
              0.8888888888888888,
              "#fdca26"
             ],
             [
              1,
              "#f0f921"
             ]
            ],
            "type": "heatmapgl"
           }
          ],
          "histogram": [
           {
            "marker": {
             "pattern": {
              "fillmode": "overlay",
              "size": 10,
              "solidity": 0.2
             }
            },
            "type": "histogram"
           }
          ],
          "histogram2d": [
           {
            "colorbar": {
             "outlinewidth": 0,
             "ticks": ""
            },
            "colorscale": [
             [
              0,
              "#0d0887"
             ],
             [
              0.1111111111111111,
              "#46039f"
             ],
             [
              0.2222222222222222,
              "#7201a8"
             ],
             [
              0.3333333333333333,
              "#9c179e"
             ],
             [
              0.4444444444444444,
              "#bd3786"
             ],
             [
              0.5555555555555556,
              "#d8576b"
             ],
             [
              0.6666666666666666,
              "#ed7953"
             ],
             [
              0.7777777777777778,
              "#fb9f3a"
             ],
             [
              0.8888888888888888,
              "#fdca26"
             ],
             [
              1,
              "#f0f921"
             ]
            ],
            "type": "histogram2d"
           }
          ],
          "histogram2dcontour": [
           {
            "colorbar": {
             "outlinewidth": 0,
             "ticks": ""
            },
            "colorscale": [
             [
              0,
              "#0d0887"
             ],
             [
              0.1111111111111111,
              "#46039f"
             ],
             [
              0.2222222222222222,
              "#7201a8"
             ],
             [
              0.3333333333333333,
              "#9c179e"
             ],
             [
              0.4444444444444444,
              "#bd3786"
             ],
             [
              0.5555555555555556,
              "#d8576b"
             ],
             [
              0.6666666666666666,
              "#ed7953"
             ],
             [
              0.7777777777777778,
              "#fb9f3a"
             ],
             [
              0.8888888888888888,
              "#fdca26"
             ],
             [
              1,
              "#f0f921"
             ]
            ],
            "type": "histogram2dcontour"
           }
          ],
          "mesh3d": [
           {
            "colorbar": {
             "outlinewidth": 0,
             "ticks": ""
            },
            "type": "mesh3d"
           }
          ],
          "parcoords": [
           {
            "line": {
             "colorbar": {
              "outlinewidth": 0,
              "ticks": ""
             }
            },
            "type": "parcoords"
           }
          ],
          "pie": [
           {
            "automargin": true,
            "type": "pie"
           }
          ],
          "scatter": [
           {
            "marker": {
             "colorbar": {
              "outlinewidth": 0,
              "ticks": ""
             }
            },
            "type": "scatter"
           }
          ],
          "scatter3d": [
           {
            "line": {
             "colorbar": {
              "outlinewidth": 0,
              "ticks": ""
             }
            },
            "marker": {
             "colorbar": {
              "outlinewidth": 0,
              "ticks": ""
             }
            },
            "type": "scatter3d"
           }
          ],
          "scattercarpet": [
           {
            "marker": {
             "colorbar": {
              "outlinewidth": 0,
              "ticks": ""
             }
            },
            "type": "scattercarpet"
           }
          ],
          "scattergeo": [
           {
            "marker": {
             "colorbar": {
              "outlinewidth": 0,
              "ticks": ""
             }
            },
            "type": "scattergeo"
           }
          ],
          "scattergl": [
           {
            "marker": {
             "colorbar": {
              "outlinewidth": 0,
              "ticks": ""
             }
            },
            "type": "scattergl"
           }
          ],
          "scattermapbox": [
           {
            "marker": {
             "colorbar": {
              "outlinewidth": 0,
              "ticks": ""
             }
            },
            "type": "scattermapbox"
           }
          ],
          "scatterpolar": [
           {
            "marker": {
             "colorbar": {
              "outlinewidth": 0,
              "ticks": ""
             }
            },
            "type": "scatterpolar"
           }
          ],
          "scatterpolargl": [
           {
            "marker": {
             "colorbar": {
              "outlinewidth": 0,
              "ticks": ""
             }
            },
            "type": "scatterpolargl"
           }
          ],
          "scatterternary": [
           {
            "marker": {
             "colorbar": {
              "outlinewidth": 0,
              "ticks": ""
             }
            },
            "type": "scatterternary"
           }
          ],
          "surface": [
           {
            "colorbar": {
             "outlinewidth": 0,
             "ticks": ""
            },
            "colorscale": [
             [
              0,
              "#0d0887"
             ],
             [
              0.1111111111111111,
              "#46039f"
             ],
             [
              0.2222222222222222,
              "#7201a8"
             ],
             [
              0.3333333333333333,
              "#9c179e"
             ],
             [
              0.4444444444444444,
              "#bd3786"
             ],
             [
              0.5555555555555556,
              "#d8576b"
             ],
             [
              0.6666666666666666,
              "#ed7953"
             ],
             [
              0.7777777777777778,
              "#fb9f3a"
             ],
             [
              0.8888888888888888,
              "#fdca26"
             ],
             [
              1,
              "#f0f921"
             ]
            ],
            "type": "surface"
           }
          ],
          "table": [
           {
            "cells": {
             "fill": {
              "color": "#EBF0F8"
             },
             "line": {
              "color": "white"
             }
            },
            "header": {
             "fill": {
              "color": "#C8D4E3"
             },
             "line": {
              "color": "white"
             }
            },
            "type": "table"
           }
          ]
         },
         "layout": {
          "annotationdefaults": {
           "arrowcolor": "#2a3f5f",
           "arrowhead": 0,
           "arrowwidth": 1
          },
          "autotypenumbers": "strict",
          "coloraxis": {
           "colorbar": {
            "outlinewidth": 0,
            "ticks": ""
           }
          },
          "colorscale": {
           "diverging": [
            [
             0,
             "#8e0152"
            ],
            [
             0.1,
             "#c51b7d"
            ],
            [
             0.2,
             "#de77ae"
            ],
            [
             0.3,
             "#f1b6da"
            ],
            [
             0.4,
             "#fde0ef"
            ],
            [
             0.5,
             "#f7f7f7"
            ],
            [
             0.6,
             "#e6f5d0"
            ],
            [
             0.7,
             "#b8e186"
            ],
            [
             0.8,
             "#7fbc41"
            ],
            [
             0.9,
             "#4d9221"
            ],
            [
             1,
             "#276419"
            ]
           ],
           "sequential": [
            [
             0,
             "#0d0887"
            ],
            [
             0.1111111111111111,
             "#46039f"
            ],
            [
             0.2222222222222222,
             "#7201a8"
            ],
            [
             0.3333333333333333,
             "#9c179e"
            ],
            [
             0.4444444444444444,
             "#bd3786"
            ],
            [
             0.5555555555555556,
             "#d8576b"
            ],
            [
             0.6666666666666666,
             "#ed7953"
            ],
            [
             0.7777777777777778,
             "#fb9f3a"
            ],
            [
             0.8888888888888888,
             "#fdca26"
            ],
            [
             1,
             "#f0f921"
            ]
           ],
           "sequentialminus": [
            [
             0,
             "#0d0887"
            ],
            [
             0.1111111111111111,
             "#46039f"
            ],
            [
             0.2222222222222222,
             "#7201a8"
            ],
            [
             0.3333333333333333,
             "#9c179e"
            ],
            [
             0.4444444444444444,
             "#bd3786"
            ],
            [
             0.5555555555555556,
             "#d8576b"
            ],
            [
             0.6666666666666666,
             "#ed7953"
            ],
            [
             0.7777777777777778,
             "#fb9f3a"
            ],
            [
             0.8888888888888888,
             "#fdca26"
            ],
            [
             1,
             "#f0f921"
            ]
           ]
          },
          "colorway": [
           "#636efa",
           "#EF553B",
           "#00cc96",
           "#ab63fa",
           "#FFA15A",
           "#19d3f3",
           "#FF6692",
           "#B6E880",
           "#FF97FF",
           "#FECB52"
          ],
          "font": {
           "color": "#2a3f5f"
          },
          "geo": {
           "bgcolor": "white",
           "lakecolor": "white",
           "landcolor": "#E5ECF6",
           "showlakes": true,
           "showland": true,
           "subunitcolor": "white"
          },
          "hoverlabel": {
           "align": "left"
          },
          "hovermode": "closest",
          "mapbox": {
           "style": "light"
          },
          "paper_bgcolor": "white",
          "plot_bgcolor": "#E5ECF6",
          "polar": {
           "angularaxis": {
            "gridcolor": "white",
            "linecolor": "white",
            "ticks": ""
           },
           "bgcolor": "#E5ECF6",
           "radialaxis": {
            "gridcolor": "white",
            "linecolor": "white",
            "ticks": ""
           }
          },
          "scene": {
           "xaxis": {
            "backgroundcolor": "#E5ECF6",
            "gridcolor": "white",
            "gridwidth": 2,
            "linecolor": "white",
            "showbackground": true,
            "ticks": "",
            "zerolinecolor": "white"
           },
           "yaxis": {
            "backgroundcolor": "#E5ECF6",
            "gridcolor": "white",
            "gridwidth": 2,
            "linecolor": "white",
            "showbackground": true,
            "ticks": "",
            "zerolinecolor": "white"
           },
           "zaxis": {
            "backgroundcolor": "#E5ECF6",
            "gridcolor": "white",
            "gridwidth": 2,
            "linecolor": "white",
            "showbackground": true,
            "ticks": "",
            "zerolinecolor": "white"
           }
          },
          "shapedefaults": {
           "line": {
            "color": "#2a3f5f"
           }
          },
          "ternary": {
           "aaxis": {
            "gridcolor": "white",
            "linecolor": "white",
            "ticks": ""
           },
           "baxis": {
            "gridcolor": "white",
            "linecolor": "white",
            "ticks": ""
           },
           "bgcolor": "#E5ECF6",
           "caxis": {
            "gridcolor": "white",
            "linecolor": "white",
            "ticks": ""
           }
          },
          "title": {
           "x": 0.05
          },
          "xaxis": {
           "automargin": true,
           "gridcolor": "white",
           "linecolor": "white",
           "ticks": "",
           "title": {
            "standoff": 15
           },
           "zerolinecolor": "white",
           "zerolinewidth": 2
          },
          "yaxis": {
           "automargin": true,
           "gridcolor": "white",
           "linecolor": "white",
           "ticks": "",
           "title": {
            "standoff": 15
           },
           "zerolinecolor": "white",
           "zerolinewidth": 2
          }
         }
        },
        "title": {
         "text": "Top words for the 10 topics"
        },
        "width": 1350
       }
      }
     },
     "metadata": {},
     "output_type": "display_data"
    },
    {
     "name": "stdout",
     "output_type": "stream",
     "text": [
      "Iter [100]===\n",
      "Topic 0: ['model', 'deep', 'task', 'learning', 'network', 'learn', 'image', 'neural', 'train', 'representation']\n",
      "Topic 1: ['datum', 'learning', 'algorithm', 'problem', 'learn', 'sample', 'method', 'training', 'function', 'label']\n",
      "Topic 2: ['university', 'brain', 'neural', 'information', 'structure', 'department', 'method', 'analysis', 'datum', 'approach']\n",
      "Topic 3: ['model', 'distribution', 'inference', 'datum', 'gaussian', 'variable', 'process', 'gan', 'sample', 'generative']\n",
      "Topic 4: ['network', 'neural', 'input', 'output', 'learn', 'unit', 'weight', 'training', 'system', 'error']\n",
      "Topic 5: ['neuron', 'network', 'neural', 'model', 'system', 'cell', 'time', 'dynamic', 'analog', 'activity']\n",
      "Topic 6: ['x', 'problem', 'n', 'algorithm', 'function', 'k', 't', 'gradient', 'optimization', 'matrix']\n",
      "Topic 7: ['learning', 'algorithm', 'problem', 'policy', 'reinforcement', 'learn', 'agent', 'function', 'action', 'state']\n",
      "Topic 8: ['datum', 'graph', 'cluster', 'node', 'algorithm', 'user', 'edu', 'clustering', 'network', 'problem']\n",
      "Topic 9: ['object', 'visual', 'image', 'system', 'd', 'model', 'problem', 'information', 'map', 'motion']\n"
     ]
    },
    {
     "data": {
      "application/vnd.plotly.v1+json": {
       "config": {
        "plotlyServerURL": "https://plot.ly"
       },
       "data": [
        {
         "cells": {
          "fill": {
           "color": [
            [
             "rgb(177.0, 205.66666666666666, 169.33333333333331)",
             "rgb(177.0, 205.66666666666666, 169.33333333333331)",
             "rgb(177.0, 205.66666666666666, 169.33333333333331)",
             "rgb(197.33333333333334, 219.11111111111111, 191.88888888888889)",
             "rgb(197.33333333333334, 219.11111111111111, 191.88888888888889)",
             "rgb(197.33333333333334, 219.11111111111111, 191.88888888888889)",
             "rgb(197.33333333333334, 219.11111111111111, 191.88888888888889)",
             "rgb(197.33333333333334, 219.11111111111111, 191.88888888888889)",
             "rgb(217.66666666666666, 232.55555555555554, 214.44444444444446)",
             "rgb(217.66666666666666, 232.55555555555554, 214.44444444444446)"
            ],
            [
             "rgb(177.0, 205.66666666666666, 169.33333333333331)",
             "rgb(197.33333333333334, 219.11111111111111, 191.88888888888889)",
             "rgb(197.33333333333334, 219.11111111111111, 191.88888888888889)",
             "rgb(197.33333333333334, 219.11111111111111, 191.88888888888889)",
             "rgb(217.66666666666666, 232.55555555555554, 214.44444444444446)",
             "rgb(217.66666666666666, 232.55555555555554, 214.44444444444446)",
             "rgb(217.66666666666666, 232.55555555555554, 214.44444444444446)",
             "rgb(217.66666666666666, 232.55555555555554, 214.44444444444446)",
             "rgb(217.66666666666666, 232.55555555555554, 214.44444444444446)",
             "rgb(217.66666666666666, 232.55555555555554, 214.44444444444446)"
            ],
            [
             "rgb(197.33333333333334, 219.11111111111111, 191.88888888888889)",
             "rgb(197.33333333333334, 219.11111111111111, 191.88888888888889)",
             "rgb(217.66666666666666, 232.55555555555554, 214.44444444444446)",
             "rgb(217.66666666666666, 232.55555555555554, 214.44444444444446)",
             "rgb(217.66666666666666, 232.55555555555554, 214.44444444444446)",
             "rgb(217.66666666666666, 232.55555555555554, 214.44444444444446)",
             "rgb(217.66666666666666, 232.55555555555554, 214.44444444444446)",
             "rgb(217.66666666666666, 232.55555555555554, 214.44444444444446)",
             "rgb(217.66666666666666, 232.55555555555554, 214.44444444444446)",
             "rgb(217.66666666666666, 232.55555555555554, 214.44444444444446)"
            ],
            [
             "rgb(75.33333333333334, 138.44444444444446, 56.55555555555554)",
             "rgb(156.66666666666669, 192.22222222222223, 146.77777777777777)",
             "rgb(197.33333333333334, 219.11111111111111, 191.88888888888889)",
             "rgb(197.33333333333334, 219.11111111111111, 191.88888888888889)",
             "rgb(217.66666666666666, 232.55555555555554, 214.44444444444446)",
             "rgb(217.66666666666666, 232.55555555555554, 214.44444444444446)",
             "rgb(217.66666666666666, 232.55555555555554, 214.44444444444446)",
             "rgb(217.66666666666666, 232.55555555555554, 214.44444444444446)",
             "rgb(217.66666666666666, 232.55555555555554, 214.44444444444446)",
             "rgb(217.66666666666666, 232.55555555555554, 214.44444444444446)"
            ],
            [
             "rgb(95.66666666666669, 151.88888888888889, 79.11111111111109)",
             "rgb(177.0, 205.66666666666666, 169.33333333333331)",
             "rgb(197.33333333333334, 219.11111111111111, 191.88888888888889)",
             "rgb(217.66666666666666, 232.55555555555554, 214.44444444444446)",
             "rgb(217.66666666666666, 232.55555555555554, 214.44444444444446)",
             "rgb(217.66666666666666, 232.55555555555554, 214.44444444444446)",
             "rgb(217.66666666666666, 232.55555555555554, 214.44444444444446)",
             "rgb(217.66666666666666, 232.55555555555554, 214.44444444444446)",
             "rgb(217.66666666666666, 232.55555555555554, 214.44444444444446)",
             "rgb(217.66666666666666, 232.55555555555554, 214.44444444444446)"
            ],
            [
             "rgb(177.0, 205.66666666666666, 169.33333333333331)",
             "rgb(197.33333333333334, 219.11111111111111, 191.88888888888889)",
             "rgb(197.33333333333334, 219.11111111111111, 191.88888888888889)",
             "rgb(197.33333333333334, 219.11111111111111, 191.88888888888889)",
             "rgb(197.33333333333334, 219.11111111111111, 191.88888888888889)",
             "rgb(217.66666666666666, 232.55555555555554, 214.44444444444446)",
             "rgb(217.66666666666666, 232.55555555555554, 214.44444444444446)",
             "rgb(217.66666666666666, 232.55555555555554, 214.44444444444446)",
             "rgb(217.66666666666666, 232.55555555555554, 214.44444444444446)",
             "rgb(238.0, 246.0, 237.0)"
            ],
            [
             "rgb(177.0, 205.66666666666666, 169.33333333333331)",
             "rgb(177.0, 205.66666666666666, 169.33333333333331)",
             "rgb(197.33333333333334, 219.11111111111111, 191.88888888888889)",
             "rgb(197.33333333333334, 219.11111111111111, 191.88888888888889)",
             "rgb(197.33333333333334, 219.11111111111111, 191.88888888888889)",
             "rgb(197.33333333333334, 219.11111111111111, 191.88888888888889)",
             "rgb(197.33333333333334, 219.11111111111111, 191.88888888888889)",
             "rgb(217.66666666666666, 232.55555555555554, 214.44444444444446)",
             "rgb(217.66666666666666, 232.55555555555554, 214.44444444444446)",
             "rgb(217.66666666666666, 232.55555555555554, 214.44444444444446)"
            ],
            [
             "rgb(197.33333333333334, 219.11111111111111, 191.88888888888889)",
             "rgb(197.33333333333334, 219.11111111111111, 191.88888888888889)",
             "rgb(197.33333333333334, 219.11111111111111, 191.88888888888889)",
             "rgb(197.33333333333334, 219.11111111111111, 191.88888888888889)",
             "rgb(197.33333333333334, 219.11111111111111, 191.88888888888889)",
             "rgb(217.66666666666666, 232.55555555555554, 214.44444444444446)",
             "rgb(217.66666666666666, 232.55555555555554, 214.44444444444446)",
             "rgb(217.66666666666666, 232.55555555555554, 214.44444444444446)",
             "rgb(217.66666666666666, 232.55555555555554, 214.44444444444446)",
             "rgb(217.66666666666666, 232.55555555555554, 214.44444444444446)"
            ],
            [
             "rgb(177.0, 205.66666666666666, 169.33333333333331)",
             "rgb(197.33333333333334, 219.11111111111111, 191.88888888888889)",
             "rgb(217.66666666666666, 232.55555555555554, 214.44444444444446)",
             "rgb(217.66666666666666, 232.55555555555554, 214.44444444444446)",
             "rgb(217.66666666666666, 232.55555555555554, 214.44444444444446)",
             "rgb(217.66666666666666, 232.55555555555554, 214.44444444444446)",
             "rgb(217.66666666666666, 232.55555555555554, 214.44444444444446)",
             "rgb(217.66666666666666, 232.55555555555554, 214.44444444444446)",
             "rgb(217.66666666666666, 232.55555555555554, 214.44444444444446)",
             "rgb(217.66666666666666, 232.55555555555554, 214.44444444444446)"
            ],
            [
             "rgb(177.0, 205.66666666666666, 169.33333333333331)",
             "rgb(197.33333333333334, 219.11111111111111, 191.88888888888889)",
             "rgb(197.33333333333334, 219.11111111111111, 191.88888888888889)",
             "rgb(197.33333333333334, 219.11111111111111, 191.88888888888889)",
             "rgb(217.66666666666666, 232.55555555555554, 214.44444444444446)",
             "rgb(217.66666666666666, 232.55555555555554, 214.44444444444446)",
             "rgb(217.66666666666666, 232.55555555555554, 214.44444444444446)",
             "rgb(217.66666666666666, 232.55555555555554, 214.44444444444446)",
             "rgb(217.66666666666666, 232.55555555555554, 214.44444444444446)",
             "rgb(217.66666666666666, 232.55555555555554, 214.44444444444446)"
            ]
           ]
          },
          "values": [
           [
            "model",
            "deep",
            "task",
            "learning",
            "network",
            "learn",
            "image",
            "neural",
            "train",
            "representation"
           ],
           [
            "datum",
            "learning",
            "algorithm",
            "problem",
            "learn",
            "sample",
            "method",
            "training",
            "function",
            "label"
           ],
           [
            "university",
            "brain",
            "neural",
            "information",
            "structure",
            "department",
            "method",
            "analysis",
            "datum",
            "approach"
           ],
           [
            "model",
            "distribution",
            "inference",
            "datum",
            "gaussian",
            "variable",
            "process",
            "gan",
            "sample",
            "generative"
           ],
           [
            "network",
            "neural",
            "input",
            "output",
            "learn",
            "unit",
            "weight",
            "training",
            "system",
            "error"
           ],
           [
            "neuron",
            "network",
            "neural",
            "model",
            "system",
            "cell",
            "time",
            "dynamic",
            "analog",
            "activity"
           ],
           [
            "x",
            "problem",
            "n",
            "algorithm",
            "function",
            "k",
            "t",
            "gradient",
            "optimization",
            "matrix"
           ],
           [
            "learning",
            "algorithm",
            "problem",
            "policy",
            "reinforcement",
            "learn",
            "agent",
            "function",
            "action",
            "state"
           ],
           [
            "datum",
            "graph",
            "cluster",
            "node",
            "algorithm",
            "user",
            "edu",
            "clustering",
            "network",
            "problem"
           ],
           [
            "object",
            "visual",
            "image",
            "system",
            "d",
            "model",
            "problem",
            "information",
            "map",
            "motion"
           ]
          ]
         },
         "header": {
          "fill": {
           "color": "rgb(220, 220, 220)"
          },
          "values": [
           "Topic 00",
           "Topic 01",
           "Topic 02",
           "Topic 03",
           "Topic 04",
           "Topic 05",
           "Topic 06",
           "Topic 07",
           "Topic 08",
           "Topic 09"
          ]
         },
         "type": "table"
        }
       ],
       "layout": {
        "template": {
         "data": {
          "bar": [
           {
            "error_x": {
             "color": "#2a3f5f"
            },
            "error_y": {
             "color": "#2a3f5f"
            },
            "marker": {
             "line": {
              "color": "#E5ECF6",
              "width": 0.5
             },
             "pattern": {
              "fillmode": "overlay",
              "size": 10,
              "solidity": 0.2
             }
            },
            "type": "bar"
           }
          ],
          "barpolar": [
           {
            "marker": {
             "line": {
              "color": "#E5ECF6",
              "width": 0.5
             },
             "pattern": {
              "fillmode": "overlay",
              "size": 10,
              "solidity": 0.2
             }
            },
            "type": "barpolar"
           }
          ],
          "carpet": [
           {
            "aaxis": {
             "endlinecolor": "#2a3f5f",
             "gridcolor": "white",
             "linecolor": "white",
             "minorgridcolor": "white",
             "startlinecolor": "#2a3f5f"
            },
            "baxis": {
             "endlinecolor": "#2a3f5f",
             "gridcolor": "white",
             "linecolor": "white",
             "minorgridcolor": "white",
             "startlinecolor": "#2a3f5f"
            },
            "type": "carpet"
           }
          ],
          "choropleth": [
           {
            "colorbar": {
             "outlinewidth": 0,
             "ticks": ""
            },
            "type": "choropleth"
           }
          ],
          "contour": [
           {
            "colorbar": {
             "outlinewidth": 0,
             "ticks": ""
            },
            "colorscale": [
             [
              0,
              "#0d0887"
             ],
             [
              0.1111111111111111,
              "#46039f"
             ],
             [
              0.2222222222222222,
              "#7201a8"
             ],
             [
              0.3333333333333333,
              "#9c179e"
             ],
             [
              0.4444444444444444,
              "#bd3786"
             ],
             [
              0.5555555555555556,
              "#d8576b"
             ],
             [
              0.6666666666666666,
              "#ed7953"
             ],
             [
              0.7777777777777778,
              "#fb9f3a"
             ],
             [
              0.8888888888888888,
              "#fdca26"
             ],
             [
              1,
              "#f0f921"
             ]
            ],
            "type": "contour"
           }
          ],
          "contourcarpet": [
           {
            "colorbar": {
             "outlinewidth": 0,
             "ticks": ""
            },
            "type": "contourcarpet"
           }
          ],
          "heatmap": [
           {
            "colorbar": {
             "outlinewidth": 0,
             "ticks": ""
            },
            "colorscale": [
             [
              0,
              "#0d0887"
             ],
             [
              0.1111111111111111,
              "#46039f"
             ],
             [
              0.2222222222222222,
              "#7201a8"
             ],
             [
              0.3333333333333333,
              "#9c179e"
             ],
             [
              0.4444444444444444,
              "#bd3786"
             ],
             [
              0.5555555555555556,
              "#d8576b"
             ],
             [
              0.6666666666666666,
              "#ed7953"
             ],
             [
              0.7777777777777778,
              "#fb9f3a"
             ],
             [
              0.8888888888888888,
              "#fdca26"
             ],
             [
              1,
              "#f0f921"
             ]
            ],
            "type": "heatmap"
           }
          ],
          "heatmapgl": [
           {
            "colorbar": {
             "outlinewidth": 0,
             "ticks": ""
            },
            "colorscale": [
             [
              0,
              "#0d0887"
             ],
             [
              0.1111111111111111,
              "#46039f"
             ],
             [
              0.2222222222222222,
              "#7201a8"
             ],
             [
              0.3333333333333333,
              "#9c179e"
             ],
             [
              0.4444444444444444,
              "#bd3786"
             ],
             [
              0.5555555555555556,
              "#d8576b"
             ],
             [
              0.6666666666666666,
              "#ed7953"
             ],
             [
              0.7777777777777778,
              "#fb9f3a"
             ],
             [
              0.8888888888888888,
              "#fdca26"
             ],
             [
              1,
              "#f0f921"
             ]
            ],
            "type": "heatmapgl"
           }
          ],
          "histogram": [
           {
            "marker": {
             "pattern": {
              "fillmode": "overlay",
              "size": 10,
              "solidity": 0.2
             }
            },
            "type": "histogram"
           }
          ],
          "histogram2d": [
           {
            "colorbar": {
             "outlinewidth": 0,
             "ticks": ""
            },
            "colorscale": [
             [
              0,
              "#0d0887"
             ],
             [
              0.1111111111111111,
              "#46039f"
             ],
             [
              0.2222222222222222,
              "#7201a8"
             ],
             [
              0.3333333333333333,
              "#9c179e"
             ],
             [
              0.4444444444444444,
              "#bd3786"
             ],
             [
              0.5555555555555556,
              "#d8576b"
             ],
             [
              0.6666666666666666,
              "#ed7953"
             ],
             [
              0.7777777777777778,
              "#fb9f3a"
             ],
             [
              0.8888888888888888,
              "#fdca26"
             ],
             [
              1,
              "#f0f921"
             ]
            ],
            "type": "histogram2d"
           }
          ],
          "histogram2dcontour": [
           {
            "colorbar": {
             "outlinewidth": 0,
             "ticks": ""
            },
            "colorscale": [
             [
              0,
              "#0d0887"
             ],
             [
              0.1111111111111111,
              "#46039f"
             ],
             [
              0.2222222222222222,
              "#7201a8"
             ],
             [
              0.3333333333333333,
              "#9c179e"
             ],
             [
              0.4444444444444444,
              "#bd3786"
             ],
             [
              0.5555555555555556,
              "#d8576b"
             ],
             [
              0.6666666666666666,
              "#ed7953"
             ],
             [
              0.7777777777777778,
              "#fb9f3a"
             ],
             [
              0.8888888888888888,
              "#fdca26"
             ],
             [
              1,
              "#f0f921"
             ]
            ],
            "type": "histogram2dcontour"
           }
          ],
          "mesh3d": [
           {
            "colorbar": {
             "outlinewidth": 0,
             "ticks": ""
            },
            "type": "mesh3d"
           }
          ],
          "parcoords": [
           {
            "line": {
             "colorbar": {
              "outlinewidth": 0,
              "ticks": ""
             }
            },
            "type": "parcoords"
           }
          ],
          "pie": [
           {
            "automargin": true,
            "type": "pie"
           }
          ],
          "scatter": [
           {
            "marker": {
             "colorbar": {
              "outlinewidth": 0,
              "ticks": ""
             }
            },
            "type": "scatter"
           }
          ],
          "scatter3d": [
           {
            "line": {
             "colorbar": {
              "outlinewidth": 0,
              "ticks": ""
             }
            },
            "marker": {
             "colorbar": {
              "outlinewidth": 0,
              "ticks": ""
             }
            },
            "type": "scatter3d"
           }
          ],
          "scattercarpet": [
           {
            "marker": {
             "colorbar": {
              "outlinewidth": 0,
              "ticks": ""
             }
            },
            "type": "scattercarpet"
           }
          ],
          "scattergeo": [
           {
            "marker": {
             "colorbar": {
              "outlinewidth": 0,
              "ticks": ""
             }
            },
            "type": "scattergeo"
           }
          ],
          "scattergl": [
           {
            "marker": {
             "colorbar": {
              "outlinewidth": 0,
              "ticks": ""
             }
            },
            "type": "scattergl"
           }
          ],
          "scattermapbox": [
           {
            "marker": {
             "colorbar": {
              "outlinewidth": 0,
              "ticks": ""
             }
            },
            "type": "scattermapbox"
           }
          ],
          "scatterpolar": [
           {
            "marker": {
             "colorbar": {
              "outlinewidth": 0,
              "ticks": ""
             }
            },
            "type": "scatterpolar"
           }
          ],
          "scatterpolargl": [
           {
            "marker": {
             "colorbar": {
              "outlinewidth": 0,
              "ticks": ""
             }
            },
            "type": "scatterpolargl"
           }
          ],
          "scatterternary": [
           {
            "marker": {
             "colorbar": {
              "outlinewidth": 0,
              "ticks": ""
             }
            },
            "type": "scatterternary"
           }
          ],
          "surface": [
           {
            "colorbar": {
             "outlinewidth": 0,
             "ticks": ""
            },
            "colorscale": [
             [
              0,
              "#0d0887"
             ],
             [
              0.1111111111111111,
              "#46039f"
             ],
             [
              0.2222222222222222,
              "#7201a8"
             ],
             [
              0.3333333333333333,
              "#9c179e"
             ],
             [
              0.4444444444444444,
              "#bd3786"
             ],
             [
              0.5555555555555556,
              "#d8576b"
             ],
             [
              0.6666666666666666,
              "#ed7953"
             ],
             [
              0.7777777777777778,
              "#fb9f3a"
             ],
             [
              0.8888888888888888,
              "#fdca26"
             ],
             [
              1,
              "#f0f921"
             ]
            ],
            "type": "surface"
           }
          ],
          "table": [
           {
            "cells": {
             "fill": {
              "color": "#EBF0F8"
             },
             "line": {
              "color": "white"
             }
            },
            "header": {
             "fill": {
              "color": "#C8D4E3"
             },
             "line": {
              "color": "white"
             }
            },
            "type": "table"
           }
          ]
         },
         "layout": {
          "annotationdefaults": {
           "arrowcolor": "#2a3f5f",
           "arrowhead": 0,
           "arrowwidth": 1
          },
          "autotypenumbers": "strict",
          "coloraxis": {
           "colorbar": {
            "outlinewidth": 0,
            "ticks": ""
           }
          },
          "colorscale": {
           "diverging": [
            [
             0,
             "#8e0152"
            ],
            [
             0.1,
             "#c51b7d"
            ],
            [
             0.2,
             "#de77ae"
            ],
            [
             0.3,
             "#f1b6da"
            ],
            [
             0.4,
             "#fde0ef"
            ],
            [
             0.5,
             "#f7f7f7"
            ],
            [
             0.6,
             "#e6f5d0"
            ],
            [
             0.7,
             "#b8e186"
            ],
            [
             0.8,
             "#7fbc41"
            ],
            [
             0.9,
             "#4d9221"
            ],
            [
             1,
             "#276419"
            ]
           ],
           "sequential": [
            [
             0,
             "#0d0887"
            ],
            [
             0.1111111111111111,
             "#46039f"
            ],
            [
             0.2222222222222222,
             "#7201a8"
            ],
            [
             0.3333333333333333,
             "#9c179e"
            ],
            [
             0.4444444444444444,
             "#bd3786"
            ],
            [
             0.5555555555555556,
             "#d8576b"
            ],
            [
             0.6666666666666666,
             "#ed7953"
            ],
            [
             0.7777777777777778,
             "#fb9f3a"
            ],
            [
             0.8888888888888888,
             "#fdca26"
            ],
            [
             1,
             "#f0f921"
            ]
           ],
           "sequentialminus": [
            [
             0,
             "#0d0887"
            ],
            [
             0.1111111111111111,
             "#46039f"
            ],
            [
             0.2222222222222222,
             "#7201a8"
            ],
            [
             0.3333333333333333,
             "#9c179e"
            ],
            [
             0.4444444444444444,
             "#bd3786"
            ],
            [
             0.5555555555555556,
             "#d8576b"
            ],
            [
             0.6666666666666666,
             "#ed7953"
            ],
            [
             0.7777777777777778,
             "#fb9f3a"
            ],
            [
             0.8888888888888888,
             "#fdca26"
            ],
            [
             1,
             "#f0f921"
            ]
           ]
          },
          "colorway": [
           "#636efa",
           "#EF553B",
           "#00cc96",
           "#ab63fa",
           "#FFA15A",
           "#19d3f3",
           "#FF6692",
           "#B6E880",
           "#FF97FF",
           "#FECB52"
          ],
          "font": {
           "color": "#2a3f5f"
          },
          "geo": {
           "bgcolor": "white",
           "lakecolor": "white",
           "landcolor": "#E5ECF6",
           "showlakes": true,
           "showland": true,
           "subunitcolor": "white"
          },
          "hoverlabel": {
           "align": "left"
          },
          "hovermode": "closest",
          "mapbox": {
           "style": "light"
          },
          "paper_bgcolor": "white",
          "plot_bgcolor": "#E5ECF6",
          "polar": {
           "angularaxis": {
            "gridcolor": "white",
            "linecolor": "white",
            "ticks": ""
           },
           "bgcolor": "#E5ECF6",
           "radialaxis": {
            "gridcolor": "white",
            "linecolor": "white",
            "ticks": ""
           }
          },
          "scene": {
           "xaxis": {
            "backgroundcolor": "#E5ECF6",
            "gridcolor": "white",
            "gridwidth": 2,
            "linecolor": "white",
            "showbackground": true,
            "ticks": "",
            "zerolinecolor": "white"
           },
           "yaxis": {
            "backgroundcolor": "#E5ECF6",
            "gridcolor": "white",
            "gridwidth": 2,
            "linecolor": "white",
            "showbackground": true,
            "ticks": "",
            "zerolinecolor": "white"
           },
           "zaxis": {
            "backgroundcolor": "#E5ECF6",
            "gridcolor": "white",
            "gridwidth": 2,
            "linecolor": "white",
            "showbackground": true,
            "ticks": "",
            "zerolinecolor": "white"
           }
          },
          "shapedefaults": {
           "line": {
            "color": "#2a3f5f"
           }
          },
          "ternary": {
           "aaxis": {
            "gridcolor": "white",
            "linecolor": "white",
            "ticks": ""
           },
           "baxis": {
            "gridcolor": "white",
            "linecolor": "white",
            "ticks": ""
           },
           "bgcolor": "#E5ECF6",
           "caxis": {
            "gridcolor": "white",
            "linecolor": "white",
            "ticks": ""
           }
          },
          "title": {
           "x": 0.05
          },
          "xaxis": {
           "automargin": true,
           "gridcolor": "white",
           "linecolor": "white",
           "ticks": "",
           "title": {
            "standoff": 15
           },
           "zerolinecolor": "white",
           "zerolinewidth": 2
          },
          "yaxis": {
           "automargin": true,
           "gridcolor": "white",
           "linecolor": "white",
           "ticks": "",
           "title": {
            "standoff": 15
           },
           "zerolinecolor": "white",
           "zerolinewidth": 2
          }
         }
        },
        "title": {
         "text": "Top words for the 10 topics"
        },
        "width": 1350
       }
      }
     },
     "metadata": {},
     "output_type": "display_data"
    },
    {
     "name": "stdout",
     "output_type": "stream",
     "text": [
      "Iter [150]===\n",
      "Topic 0: ['network', 'model', 'task', 'deep', 'learning', 'learn', 'neural', 'image', 'datum', 'train']\n",
      "Topic 1: ['datum', 'learning', 'algorithm', 'problem', 'learn', 'sample', 'method', 'set', 'label', 'example']\n",
      "Topic 2: ['university', 'brain', 'neural', 'model', 'information', 'department', 'analysis', 'approach', 'datum', 'correlation']\n",
      "Topic 3: ['model', 'distribution', 'inference', 'gaussian', 'process', 'datum', 'gan', 'sample', 'variable', 'generative']\n",
      "Topic 4: ['network', 'neural', 'input', 'learn', 'output', 'unit', 'weight', 'training', 'function', 'algorithm']\n",
      "Topic 5: ['neuron', 'network', 'neural', 'model', 'system', 'cell', 'time', 'dynamic', 'analog', 'simulation']\n",
      "Topic 6: ['x', 'problem', 'n', 'algorithm', 'function', 't', 'optimization', 'k', 'matrix', 'method']\n",
      "Topic 7: ['learning', 'algorithm', 'policy', 'reinforcement', 'learn', 'problem', 'state', 'agent', 'action', 'game']\n",
      "Topic 8: ['datum', 'graph', 'node', 'cluster', 'algorithm', 'problem', 'clustering', 'user', 'edu', 'item']\n",
      "Topic 9: ['object', 'visual', 'image', 'system', 'model', 'information', 'd', 'recognition', 'map', 'representation']\n"
     ]
    },
    {
     "data": {
      "application/vnd.plotly.v1+json": {
       "config": {
        "plotlyServerURL": "https://plot.ly"
       },
       "data": [
        {
         "cells": {
          "fill": {
           "color": [
            [
             "rgb(177.0, 205.66666666666666, 169.33333333333331)",
             "rgb(177.0, 205.66666666666666, 169.33333333333331)",
             "rgb(177.0, 205.66666666666666, 169.33333333333331)",
             "rgb(177.0, 205.66666666666666, 169.33333333333331)",
             "rgb(197.33333333333334, 219.11111111111111, 191.88888888888889)",
             "rgb(197.33333333333334, 219.11111111111111, 191.88888888888889)",
             "rgb(197.33333333333334, 219.11111111111111, 191.88888888888889)",
             "rgb(197.33333333333334, 219.11111111111111, 191.88888888888889)",
             "rgb(217.66666666666666, 232.55555555555554, 214.44444444444446)",
             "rgb(217.66666666666666, 232.55555555555554, 214.44444444444446)"
            ],
            [
             "rgb(197.33333333333334, 219.11111111111111, 191.88888888888889)",
             "rgb(197.33333333333334, 219.11111111111111, 191.88888888888889)",
             "rgb(197.33333333333334, 219.11111111111111, 191.88888888888889)",
             "rgb(217.66666666666666, 232.55555555555554, 214.44444444444446)",
             "rgb(217.66666666666666, 232.55555555555554, 214.44444444444446)",
             "rgb(217.66666666666666, 232.55555555555554, 214.44444444444446)",
             "rgb(217.66666666666666, 232.55555555555554, 214.44444444444446)",
             "rgb(217.66666666666666, 232.55555555555554, 214.44444444444446)",
             "rgb(217.66666666666666, 232.55555555555554, 214.44444444444446)",
             "rgb(217.66666666666666, 232.55555555555554, 214.44444444444446)"
            ],
            [
             "rgb(197.33333333333334, 219.11111111111111, 191.88888888888889)",
             "rgb(197.33333333333334, 219.11111111111111, 191.88888888888889)",
             "rgb(197.33333333333334, 219.11111111111111, 191.88888888888889)",
             "rgb(217.66666666666666, 232.55555555555554, 214.44444444444446)",
             "rgb(217.66666666666666, 232.55555555555554, 214.44444444444446)",
             "rgb(217.66666666666666, 232.55555555555554, 214.44444444444446)",
             "rgb(217.66666666666666, 232.55555555555554, 214.44444444444446)",
             "rgb(217.66666666666666, 232.55555555555554, 214.44444444444446)",
             "rgb(217.66666666666666, 232.55555555555554, 214.44444444444446)",
             "rgb(217.66666666666666, 232.55555555555554, 214.44444444444446)"
            ],
            [
             "rgb(95.66666666666669, 151.88888888888889, 79.11111111111109)",
             "rgb(156.66666666666669, 192.22222222222223, 146.77777777777777)",
             "rgb(197.33333333333334, 219.11111111111111, 191.88888888888889)",
             "rgb(217.66666666666666, 232.55555555555554, 214.44444444444446)",
             "rgb(217.66666666666666, 232.55555555555554, 214.44444444444446)",
             "rgb(217.66666666666666, 232.55555555555554, 214.44444444444446)",
             "rgb(217.66666666666666, 232.55555555555554, 214.44444444444446)",
             "rgb(217.66666666666666, 232.55555555555554, 214.44444444444446)",
             "rgb(217.66666666666666, 232.55555555555554, 214.44444444444446)",
             "rgb(217.66666666666666, 232.55555555555554, 214.44444444444446)"
            ],
            [
             "rgb(95.66666666666669, 151.88888888888889, 79.11111111111109)",
             "rgb(177.0, 205.66666666666666, 169.33333333333331)",
             "rgb(197.33333333333334, 219.11111111111111, 191.88888888888889)",
             "rgb(217.66666666666666, 232.55555555555554, 214.44444444444446)",
             "rgb(217.66666666666666, 232.55555555555554, 214.44444444444446)",
             "rgb(217.66666666666666, 232.55555555555554, 214.44444444444446)",
             "rgb(217.66666666666666, 232.55555555555554, 214.44444444444446)",
             "rgb(217.66666666666666, 232.55555555555554, 214.44444444444446)",
             "rgb(217.66666666666666, 232.55555555555554, 214.44444444444446)",
             "rgb(217.66666666666666, 232.55555555555554, 214.44444444444446)"
            ],
            [
             "rgb(177.0, 205.66666666666666, 169.33333333333331)",
             "rgb(197.33333333333334, 219.11111111111111, 191.88888888888889)",
             "rgb(197.33333333333334, 219.11111111111111, 191.88888888888889)",
             "rgb(197.33333333333334, 219.11111111111111, 191.88888888888889)",
             "rgb(197.33333333333334, 219.11111111111111, 191.88888888888889)",
             "rgb(217.66666666666666, 232.55555555555554, 214.44444444444446)",
             "rgb(217.66666666666666, 232.55555555555554, 214.44444444444446)",
             "rgb(217.66666666666666, 232.55555555555554, 214.44444444444446)",
             "rgb(217.66666666666666, 232.55555555555554, 214.44444444444446)",
             "rgb(217.66666666666666, 232.55555555555554, 214.44444444444446)"
            ],
            [
             "rgb(177.0, 205.66666666666666, 169.33333333333331)",
             "rgb(197.33333333333334, 219.11111111111111, 191.88888888888889)",
             "rgb(197.33333333333334, 219.11111111111111, 191.88888888888889)",
             "rgb(197.33333333333334, 219.11111111111111, 191.88888888888889)",
             "rgb(197.33333333333334, 219.11111111111111, 191.88888888888889)",
             "rgb(217.66666666666666, 232.55555555555554, 214.44444444444446)",
             "rgb(217.66666666666666, 232.55555555555554, 214.44444444444446)",
             "rgb(217.66666666666666, 232.55555555555554, 214.44444444444446)",
             "rgb(217.66666666666666, 232.55555555555554, 214.44444444444446)",
             "rgb(217.66666666666666, 232.55555555555554, 214.44444444444446)"
            ],
            [
             "rgb(177.0, 205.66666666666666, 169.33333333333331)",
             "rgb(197.33333333333334, 219.11111111111111, 191.88888888888889)",
             "rgb(197.33333333333334, 219.11111111111111, 191.88888888888889)",
             "rgb(197.33333333333334, 219.11111111111111, 191.88888888888889)",
             "rgb(217.66666666666666, 232.55555555555554, 214.44444444444446)",
             "rgb(217.66666666666666, 232.55555555555554, 214.44444444444446)",
             "rgb(217.66666666666666, 232.55555555555554, 214.44444444444446)",
             "rgb(217.66666666666666, 232.55555555555554, 214.44444444444446)",
             "rgb(217.66666666666666, 232.55555555555554, 214.44444444444446)",
             "rgb(217.66666666666666, 232.55555555555554, 214.44444444444446)"
            ],
            [
             "rgb(197.33333333333334, 219.11111111111111, 191.88888888888889)",
             "rgb(197.33333333333334, 219.11111111111111, 191.88888888888889)",
             "rgb(197.33333333333334, 219.11111111111111, 191.88888888888889)",
             "rgb(197.33333333333334, 219.11111111111111, 191.88888888888889)",
             "rgb(197.33333333333334, 219.11111111111111, 191.88888888888889)",
             "rgb(217.66666666666666, 232.55555555555554, 214.44444444444446)",
             "rgb(217.66666666666666, 232.55555555555554, 214.44444444444446)",
             "rgb(217.66666666666666, 232.55555555555554, 214.44444444444446)",
             "rgb(217.66666666666666, 232.55555555555554, 214.44444444444446)",
             "rgb(217.66666666666666, 232.55555555555554, 214.44444444444446)"
            ],
            [
             "rgb(177.0, 205.66666666666666, 169.33333333333331)",
             "rgb(197.33333333333334, 219.11111111111111, 191.88888888888889)",
             "rgb(197.33333333333334, 219.11111111111111, 191.88888888888889)",
             "rgb(197.33333333333334, 219.11111111111111, 191.88888888888889)",
             "rgb(217.66666666666666, 232.55555555555554, 214.44444444444446)",
             "rgb(217.66666666666666, 232.55555555555554, 214.44444444444446)",
             "rgb(217.66666666666666, 232.55555555555554, 214.44444444444446)",
             "rgb(217.66666666666666, 232.55555555555554, 214.44444444444446)",
             "rgb(217.66666666666666, 232.55555555555554, 214.44444444444446)",
             "rgb(217.66666666666666, 232.55555555555554, 214.44444444444446)"
            ]
           ]
          },
          "values": [
           [
            "network",
            "model",
            "task",
            "deep",
            "learning",
            "learn",
            "neural",
            "image",
            "datum",
            "train"
           ],
           [
            "datum",
            "learning",
            "algorithm",
            "problem",
            "learn",
            "sample",
            "method",
            "set",
            "label",
            "example"
           ],
           [
            "university",
            "brain",
            "neural",
            "model",
            "information",
            "department",
            "analysis",
            "approach",
            "datum",
            "correlation"
           ],
           [
            "model",
            "distribution",
            "inference",
            "gaussian",
            "process",
            "datum",
            "gan",
            "sample",
            "variable",
            "generative"
           ],
           [
            "network",
            "neural",
            "input",
            "learn",
            "output",
            "unit",
            "weight",
            "training",
            "function",
            "algorithm"
           ],
           [
            "neuron",
            "network",
            "neural",
            "model",
            "system",
            "cell",
            "time",
            "dynamic",
            "analog",
            "simulation"
           ],
           [
            "x",
            "problem",
            "n",
            "algorithm",
            "function",
            "t",
            "optimization",
            "k",
            "matrix",
            "method"
           ],
           [
            "learning",
            "algorithm",
            "policy",
            "reinforcement",
            "learn",
            "problem",
            "state",
            "agent",
            "action",
            "game"
           ],
           [
            "datum",
            "graph",
            "node",
            "cluster",
            "algorithm",
            "problem",
            "clustering",
            "user",
            "edu",
            "item"
           ],
           [
            "object",
            "visual",
            "image",
            "system",
            "model",
            "information",
            "d",
            "recognition",
            "map",
            "representation"
           ]
          ]
         },
         "header": {
          "fill": {
           "color": "rgb(220, 220, 220)"
          },
          "values": [
           "Topic 00",
           "Topic 01",
           "Topic 02",
           "Topic 03",
           "Topic 04",
           "Topic 05",
           "Topic 06",
           "Topic 07",
           "Topic 08",
           "Topic 09"
          ]
         },
         "type": "table"
        }
       ],
       "layout": {
        "template": {
         "data": {
          "bar": [
           {
            "error_x": {
             "color": "#2a3f5f"
            },
            "error_y": {
             "color": "#2a3f5f"
            },
            "marker": {
             "line": {
              "color": "#E5ECF6",
              "width": 0.5
             },
             "pattern": {
              "fillmode": "overlay",
              "size": 10,
              "solidity": 0.2
             }
            },
            "type": "bar"
           }
          ],
          "barpolar": [
           {
            "marker": {
             "line": {
              "color": "#E5ECF6",
              "width": 0.5
             },
             "pattern": {
              "fillmode": "overlay",
              "size": 10,
              "solidity": 0.2
             }
            },
            "type": "barpolar"
           }
          ],
          "carpet": [
           {
            "aaxis": {
             "endlinecolor": "#2a3f5f",
             "gridcolor": "white",
             "linecolor": "white",
             "minorgridcolor": "white",
             "startlinecolor": "#2a3f5f"
            },
            "baxis": {
             "endlinecolor": "#2a3f5f",
             "gridcolor": "white",
             "linecolor": "white",
             "minorgridcolor": "white",
             "startlinecolor": "#2a3f5f"
            },
            "type": "carpet"
           }
          ],
          "choropleth": [
           {
            "colorbar": {
             "outlinewidth": 0,
             "ticks": ""
            },
            "type": "choropleth"
           }
          ],
          "contour": [
           {
            "colorbar": {
             "outlinewidth": 0,
             "ticks": ""
            },
            "colorscale": [
             [
              0,
              "#0d0887"
             ],
             [
              0.1111111111111111,
              "#46039f"
             ],
             [
              0.2222222222222222,
              "#7201a8"
             ],
             [
              0.3333333333333333,
              "#9c179e"
             ],
             [
              0.4444444444444444,
              "#bd3786"
             ],
             [
              0.5555555555555556,
              "#d8576b"
             ],
             [
              0.6666666666666666,
              "#ed7953"
             ],
             [
              0.7777777777777778,
              "#fb9f3a"
             ],
             [
              0.8888888888888888,
              "#fdca26"
             ],
             [
              1,
              "#f0f921"
             ]
            ],
            "type": "contour"
           }
          ],
          "contourcarpet": [
           {
            "colorbar": {
             "outlinewidth": 0,
             "ticks": ""
            },
            "type": "contourcarpet"
           }
          ],
          "heatmap": [
           {
            "colorbar": {
             "outlinewidth": 0,
             "ticks": ""
            },
            "colorscale": [
             [
              0,
              "#0d0887"
             ],
             [
              0.1111111111111111,
              "#46039f"
             ],
             [
              0.2222222222222222,
              "#7201a8"
             ],
             [
              0.3333333333333333,
              "#9c179e"
             ],
             [
              0.4444444444444444,
              "#bd3786"
             ],
             [
              0.5555555555555556,
              "#d8576b"
             ],
             [
              0.6666666666666666,
              "#ed7953"
             ],
             [
              0.7777777777777778,
              "#fb9f3a"
             ],
             [
              0.8888888888888888,
              "#fdca26"
             ],
             [
              1,
              "#f0f921"
             ]
            ],
            "type": "heatmap"
           }
          ],
          "heatmapgl": [
           {
            "colorbar": {
             "outlinewidth": 0,
             "ticks": ""
            },
            "colorscale": [
             [
              0,
              "#0d0887"
             ],
             [
              0.1111111111111111,
              "#46039f"
             ],
             [
              0.2222222222222222,
              "#7201a8"
             ],
             [
              0.3333333333333333,
              "#9c179e"
             ],
             [
              0.4444444444444444,
              "#bd3786"
             ],
             [
              0.5555555555555556,
              "#d8576b"
             ],
             [
              0.6666666666666666,
              "#ed7953"
             ],
             [
              0.7777777777777778,
              "#fb9f3a"
             ],
             [
              0.8888888888888888,
              "#fdca26"
             ],
             [
              1,
              "#f0f921"
             ]
            ],
            "type": "heatmapgl"
           }
          ],
          "histogram": [
           {
            "marker": {
             "pattern": {
              "fillmode": "overlay",
              "size": 10,
              "solidity": 0.2
             }
            },
            "type": "histogram"
           }
          ],
          "histogram2d": [
           {
            "colorbar": {
             "outlinewidth": 0,
             "ticks": ""
            },
            "colorscale": [
             [
              0,
              "#0d0887"
             ],
             [
              0.1111111111111111,
              "#46039f"
             ],
             [
              0.2222222222222222,
              "#7201a8"
             ],
             [
              0.3333333333333333,
              "#9c179e"
             ],
             [
              0.4444444444444444,
              "#bd3786"
             ],
             [
              0.5555555555555556,
              "#d8576b"
             ],
             [
              0.6666666666666666,
              "#ed7953"
             ],
             [
              0.7777777777777778,
              "#fb9f3a"
             ],
             [
              0.8888888888888888,
              "#fdca26"
             ],
             [
              1,
              "#f0f921"
             ]
            ],
            "type": "histogram2d"
           }
          ],
          "histogram2dcontour": [
           {
            "colorbar": {
             "outlinewidth": 0,
             "ticks": ""
            },
            "colorscale": [
             [
              0,
              "#0d0887"
             ],
             [
              0.1111111111111111,
              "#46039f"
             ],
             [
              0.2222222222222222,
              "#7201a8"
             ],
             [
              0.3333333333333333,
              "#9c179e"
             ],
             [
              0.4444444444444444,
              "#bd3786"
             ],
             [
              0.5555555555555556,
              "#d8576b"
             ],
             [
              0.6666666666666666,
              "#ed7953"
             ],
             [
              0.7777777777777778,
              "#fb9f3a"
             ],
             [
              0.8888888888888888,
              "#fdca26"
             ],
             [
              1,
              "#f0f921"
             ]
            ],
            "type": "histogram2dcontour"
           }
          ],
          "mesh3d": [
           {
            "colorbar": {
             "outlinewidth": 0,
             "ticks": ""
            },
            "type": "mesh3d"
           }
          ],
          "parcoords": [
           {
            "line": {
             "colorbar": {
              "outlinewidth": 0,
              "ticks": ""
             }
            },
            "type": "parcoords"
           }
          ],
          "pie": [
           {
            "automargin": true,
            "type": "pie"
           }
          ],
          "scatter": [
           {
            "marker": {
             "colorbar": {
              "outlinewidth": 0,
              "ticks": ""
             }
            },
            "type": "scatter"
           }
          ],
          "scatter3d": [
           {
            "line": {
             "colorbar": {
              "outlinewidth": 0,
              "ticks": ""
             }
            },
            "marker": {
             "colorbar": {
              "outlinewidth": 0,
              "ticks": ""
             }
            },
            "type": "scatter3d"
           }
          ],
          "scattercarpet": [
           {
            "marker": {
             "colorbar": {
              "outlinewidth": 0,
              "ticks": ""
             }
            },
            "type": "scattercarpet"
           }
          ],
          "scattergeo": [
           {
            "marker": {
             "colorbar": {
              "outlinewidth": 0,
              "ticks": ""
             }
            },
            "type": "scattergeo"
           }
          ],
          "scattergl": [
           {
            "marker": {
             "colorbar": {
              "outlinewidth": 0,
              "ticks": ""
             }
            },
            "type": "scattergl"
           }
          ],
          "scattermapbox": [
           {
            "marker": {
             "colorbar": {
              "outlinewidth": 0,
              "ticks": ""
             }
            },
            "type": "scattermapbox"
           }
          ],
          "scatterpolar": [
           {
            "marker": {
             "colorbar": {
              "outlinewidth": 0,
              "ticks": ""
             }
            },
            "type": "scatterpolar"
           }
          ],
          "scatterpolargl": [
           {
            "marker": {
             "colorbar": {
              "outlinewidth": 0,
              "ticks": ""
             }
            },
            "type": "scatterpolargl"
           }
          ],
          "scatterternary": [
           {
            "marker": {
             "colorbar": {
              "outlinewidth": 0,
              "ticks": ""
             }
            },
            "type": "scatterternary"
           }
          ],
          "surface": [
           {
            "colorbar": {
             "outlinewidth": 0,
             "ticks": ""
            },
            "colorscale": [
             [
              0,
              "#0d0887"
             ],
             [
              0.1111111111111111,
              "#46039f"
             ],
             [
              0.2222222222222222,
              "#7201a8"
             ],
             [
              0.3333333333333333,
              "#9c179e"
             ],
             [
              0.4444444444444444,
              "#bd3786"
             ],
             [
              0.5555555555555556,
              "#d8576b"
             ],
             [
              0.6666666666666666,
              "#ed7953"
             ],
             [
              0.7777777777777778,
              "#fb9f3a"
             ],
             [
              0.8888888888888888,
              "#fdca26"
             ],
             [
              1,
              "#f0f921"
             ]
            ],
            "type": "surface"
           }
          ],
          "table": [
           {
            "cells": {
             "fill": {
              "color": "#EBF0F8"
             },
             "line": {
              "color": "white"
             }
            },
            "header": {
             "fill": {
              "color": "#C8D4E3"
             },
             "line": {
              "color": "white"
             }
            },
            "type": "table"
           }
          ]
         },
         "layout": {
          "annotationdefaults": {
           "arrowcolor": "#2a3f5f",
           "arrowhead": 0,
           "arrowwidth": 1
          },
          "autotypenumbers": "strict",
          "coloraxis": {
           "colorbar": {
            "outlinewidth": 0,
            "ticks": ""
           }
          },
          "colorscale": {
           "diverging": [
            [
             0,
             "#8e0152"
            ],
            [
             0.1,
             "#c51b7d"
            ],
            [
             0.2,
             "#de77ae"
            ],
            [
             0.3,
             "#f1b6da"
            ],
            [
             0.4,
             "#fde0ef"
            ],
            [
             0.5,
             "#f7f7f7"
            ],
            [
             0.6,
             "#e6f5d0"
            ],
            [
             0.7,
             "#b8e186"
            ],
            [
             0.8,
             "#7fbc41"
            ],
            [
             0.9,
             "#4d9221"
            ],
            [
             1,
             "#276419"
            ]
           ],
           "sequential": [
            [
             0,
             "#0d0887"
            ],
            [
             0.1111111111111111,
             "#46039f"
            ],
            [
             0.2222222222222222,
             "#7201a8"
            ],
            [
             0.3333333333333333,
             "#9c179e"
            ],
            [
             0.4444444444444444,
             "#bd3786"
            ],
            [
             0.5555555555555556,
             "#d8576b"
            ],
            [
             0.6666666666666666,
             "#ed7953"
            ],
            [
             0.7777777777777778,
             "#fb9f3a"
            ],
            [
             0.8888888888888888,
             "#fdca26"
            ],
            [
             1,
             "#f0f921"
            ]
           ],
           "sequentialminus": [
            [
             0,
             "#0d0887"
            ],
            [
             0.1111111111111111,
             "#46039f"
            ],
            [
             0.2222222222222222,
             "#7201a8"
            ],
            [
             0.3333333333333333,
             "#9c179e"
            ],
            [
             0.4444444444444444,
             "#bd3786"
            ],
            [
             0.5555555555555556,
             "#d8576b"
            ],
            [
             0.6666666666666666,
             "#ed7953"
            ],
            [
             0.7777777777777778,
             "#fb9f3a"
            ],
            [
             0.8888888888888888,
             "#fdca26"
            ],
            [
             1,
             "#f0f921"
            ]
           ]
          },
          "colorway": [
           "#636efa",
           "#EF553B",
           "#00cc96",
           "#ab63fa",
           "#FFA15A",
           "#19d3f3",
           "#FF6692",
           "#B6E880",
           "#FF97FF",
           "#FECB52"
          ],
          "font": {
           "color": "#2a3f5f"
          },
          "geo": {
           "bgcolor": "white",
           "lakecolor": "white",
           "landcolor": "#E5ECF6",
           "showlakes": true,
           "showland": true,
           "subunitcolor": "white"
          },
          "hoverlabel": {
           "align": "left"
          },
          "hovermode": "closest",
          "mapbox": {
           "style": "light"
          },
          "paper_bgcolor": "white",
          "plot_bgcolor": "#E5ECF6",
          "polar": {
           "angularaxis": {
            "gridcolor": "white",
            "linecolor": "white",
            "ticks": ""
           },
           "bgcolor": "#E5ECF6",
           "radialaxis": {
            "gridcolor": "white",
            "linecolor": "white",
            "ticks": ""
           }
          },
          "scene": {
           "xaxis": {
            "backgroundcolor": "#E5ECF6",
            "gridcolor": "white",
            "gridwidth": 2,
            "linecolor": "white",
            "showbackground": true,
            "ticks": "",
            "zerolinecolor": "white"
           },
           "yaxis": {
            "backgroundcolor": "#E5ECF6",
            "gridcolor": "white",
            "gridwidth": 2,
            "linecolor": "white",
            "showbackground": true,
            "ticks": "",
            "zerolinecolor": "white"
           },
           "zaxis": {
            "backgroundcolor": "#E5ECF6",
            "gridcolor": "white",
            "gridwidth": 2,
            "linecolor": "white",
            "showbackground": true,
            "ticks": "",
            "zerolinecolor": "white"
           }
          },
          "shapedefaults": {
           "line": {
            "color": "#2a3f5f"
           }
          },
          "ternary": {
           "aaxis": {
            "gridcolor": "white",
            "linecolor": "white",
            "ticks": ""
           },
           "baxis": {
            "gridcolor": "white",
            "linecolor": "white",
            "ticks": ""
           },
           "bgcolor": "#E5ECF6",
           "caxis": {
            "gridcolor": "white",
            "linecolor": "white",
            "ticks": ""
           }
          },
          "title": {
           "x": 0.05
          },
          "xaxis": {
           "automargin": true,
           "gridcolor": "white",
           "linecolor": "white",
           "ticks": "",
           "title": {
            "standoff": 15
           },
           "zerolinecolor": "white",
           "zerolinewidth": 2
          },
          "yaxis": {
           "automargin": true,
           "gridcolor": "white",
           "linecolor": "white",
           "ticks": "",
           "title": {
            "standoff": 15
           },
           "zerolinecolor": "white",
           "zerolinewidth": 2
          }
         }
        },
        "title": {
         "text": "Top words for the 10 topics"
        },
        "width": 1350
       }
      }
     },
     "metadata": {},
     "output_type": "display_data"
    },
    {
     "name": "stdout",
     "output_type": "stream",
     "text": [
      "Iter [200]===\n",
      "Topic 0: ['network', 'deep', 'task', 'model', 'learning', 'learn', 'neural', 'image', 'representation', 'method']\n",
      "Topic 1: ['datum', 'learning', 'problem', 'learn', 'algorithm', 'set', 'training', 'method', 'sample', 'label']\n",
      "Topic 2: ['university', 'model', 'brain', 'neural', 'analysis', 'department', 'datum', 'information', 'edu', 'structure']\n",
      "Topic 3: ['model', 'distribution', 'inference', 'gaussian', 'datum', 'sample', 'gan', 'generative', 'process', 'variational']\n",
      "Topic 4: ['network', 'neural', 'input', 'unit', 'weight', 'learn', 'output', 'function', 'training', 'algorithm']\n",
      "Topic 5: ['neuron', 'network', 'model', 'neural', 'system', 'cell', 'analog', 'abstract', 'control', 'time']\n",
      "Topic 6: ['x', 'n', 'problem', 'function', 'algorithm', 'optimization', 't', 'k', 'matrix', 'gradient']\n",
      "Topic 7: ['learning', 'policy', 'algorithm', 'reinforcement', 'problem', 'learn', 'agent', 'action', 'reward', 'control']\n",
      "Topic 8: ['algorithm', 'datum', 'graph', 'cluster', 'problem', 'model', 'node', 'k', 'edu', 'clustering']\n",
      "Topic 9: ['object', 'visual', 'image', 'system', 'model', 'recognition', 'information', 'd', 'feature', 'human']\n"
     ]
    },
    {
     "data": {
      "application/vnd.plotly.v1+json": {
       "config": {
        "plotlyServerURL": "https://plot.ly"
       },
       "data": [
        {
         "cells": {
          "fill": {
           "color": [
            [
             "rgb(177.0, 205.66666666666666, 169.33333333333331)",
             "rgb(197.33333333333334, 219.11111111111111, 191.88888888888889)",
             "rgb(197.33333333333334, 219.11111111111111, 191.88888888888889)",
             "rgb(197.33333333333334, 219.11111111111111, 191.88888888888889)",
             "rgb(197.33333333333334, 219.11111111111111, 191.88888888888889)",
             "rgb(197.33333333333334, 219.11111111111111, 191.88888888888889)",
             "rgb(197.33333333333334, 219.11111111111111, 191.88888888888889)",
             "rgb(197.33333333333334, 219.11111111111111, 191.88888888888889)",
             "rgb(217.66666666666666, 232.55555555555554, 214.44444444444446)",
             "rgb(217.66666666666666, 232.55555555555554, 214.44444444444446)"
            ],
            [
             "rgb(177.0, 205.66666666666666, 169.33333333333331)",
             "rgb(197.33333333333334, 219.11111111111111, 191.88888888888889)",
             "rgb(197.33333333333334, 219.11111111111111, 191.88888888888889)",
             "rgb(197.33333333333334, 219.11111111111111, 191.88888888888889)",
             "rgb(217.66666666666666, 232.55555555555554, 214.44444444444446)",
             "rgb(217.66666666666666, 232.55555555555554, 214.44444444444446)",
             "rgb(217.66666666666666, 232.55555555555554, 214.44444444444446)",
             "rgb(217.66666666666666, 232.55555555555554, 214.44444444444446)",
             "rgb(217.66666666666666, 232.55555555555554, 214.44444444444446)",
             "rgb(217.66666666666666, 232.55555555555554, 214.44444444444446)"
            ],
            [
             "rgb(197.33333333333334, 219.11111111111111, 191.88888888888889)",
             "rgb(197.33333333333334, 219.11111111111111, 191.88888888888889)",
             "rgb(217.66666666666666, 232.55555555555554, 214.44444444444446)",
             "rgb(217.66666666666666, 232.55555555555554, 214.44444444444446)",
             "rgb(217.66666666666666, 232.55555555555554, 214.44444444444446)",
             "rgb(217.66666666666666, 232.55555555555554, 214.44444444444446)",
             "rgb(217.66666666666666, 232.55555555555554, 214.44444444444446)",
             "rgb(217.66666666666666, 232.55555555555554, 214.44444444444446)",
             "rgb(217.66666666666666, 232.55555555555554, 214.44444444444446)",
             "rgb(217.66666666666666, 232.55555555555554, 214.44444444444446)"
            ],
            [
             "rgb(95.66666666666669, 151.88888888888889, 79.11111111111109)",
             "rgb(156.66666666666669, 192.22222222222223, 146.77777777777777)",
             "rgb(197.33333333333334, 219.11111111111111, 191.88888888888889)",
             "rgb(217.66666666666666, 232.55555555555554, 214.44444444444446)",
             "rgb(217.66666666666666, 232.55555555555554, 214.44444444444446)",
             "rgb(217.66666666666666, 232.55555555555554, 214.44444444444446)",
             "rgb(217.66666666666666, 232.55555555555554, 214.44444444444446)",
             "rgb(217.66666666666666, 232.55555555555554, 214.44444444444446)",
             "rgb(217.66666666666666, 232.55555555555554, 214.44444444444446)",
             "rgb(217.66666666666666, 232.55555555555554, 214.44444444444446)"
            ],
            [
             "rgb(95.66666666666669, 151.88888888888889, 79.11111111111109)",
             "rgb(177.0, 205.66666666666666, 169.33333333333331)",
             "rgb(197.33333333333334, 219.11111111111111, 191.88888888888889)",
             "rgb(217.66666666666666, 232.55555555555554, 214.44444444444446)",
             "rgb(217.66666666666666, 232.55555555555554, 214.44444444444446)",
             "rgb(217.66666666666666, 232.55555555555554, 214.44444444444446)",
             "rgb(217.66666666666666, 232.55555555555554, 214.44444444444446)",
             "rgb(217.66666666666666, 232.55555555555554, 214.44444444444446)",
             "rgb(217.66666666666666, 232.55555555555554, 214.44444444444446)",
             "rgb(217.66666666666666, 232.55555555555554, 214.44444444444446)"
            ],
            [
             "rgb(177.0, 205.66666666666666, 169.33333333333331)",
             "rgb(177.0, 205.66666666666666, 169.33333333333331)",
             "rgb(197.33333333333334, 219.11111111111111, 191.88888888888889)",
             "rgb(197.33333333333334, 219.11111111111111, 191.88888888888889)",
             "rgb(197.33333333333334, 219.11111111111111, 191.88888888888889)",
             "rgb(217.66666666666666, 232.55555555555554, 214.44444444444446)",
             "rgb(217.66666666666666, 232.55555555555554, 214.44444444444446)",
             "rgb(217.66666666666666, 232.55555555555554, 214.44444444444446)",
             "rgb(217.66666666666666, 232.55555555555554, 214.44444444444446)",
             "rgb(217.66666666666666, 232.55555555555554, 214.44444444444446)"
            ],
            [
             "rgb(177.0, 205.66666666666666, 169.33333333333331)",
             "rgb(197.33333333333334, 219.11111111111111, 191.88888888888889)",
             "rgb(197.33333333333334, 219.11111111111111, 191.88888888888889)",
             "rgb(197.33333333333334, 219.11111111111111, 191.88888888888889)",
             "rgb(197.33333333333334, 219.11111111111111, 191.88888888888889)",
             "rgb(197.33333333333334, 219.11111111111111, 191.88888888888889)",
             "rgb(197.33333333333334, 219.11111111111111, 191.88888888888889)",
             "rgb(217.66666666666666, 232.55555555555554, 214.44444444444446)",
             "rgb(217.66666666666666, 232.55555555555554, 214.44444444444446)",
             "rgb(217.66666666666666, 232.55555555555554, 214.44444444444446)"
            ],
            [
             "rgb(177.0, 205.66666666666666, 169.33333333333331)",
             "rgb(197.33333333333334, 219.11111111111111, 191.88888888888889)",
             "rgb(197.33333333333334, 219.11111111111111, 191.88888888888889)",
             "rgb(197.33333333333334, 219.11111111111111, 191.88888888888889)",
             "rgb(197.33333333333334, 219.11111111111111, 191.88888888888889)",
             "rgb(217.66666666666666, 232.55555555555554, 214.44444444444446)",
             "rgb(217.66666666666666, 232.55555555555554, 214.44444444444446)",
             "rgb(217.66666666666666, 232.55555555555554, 214.44444444444446)",
             "rgb(217.66666666666666, 232.55555555555554, 214.44444444444446)",
             "rgb(217.66666666666666, 232.55555555555554, 214.44444444444446)"
            ],
            [
             "rgb(177.0, 205.66666666666666, 169.33333333333331)",
             "rgb(197.33333333333334, 219.11111111111111, 191.88888888888889)",
             "rgb(197.33333333333334, 219.11111111111111, 191.88888888888889)",
             "rgb(197.33333333333334, 219.11111111111111, 191.88888888888889)",
             "rgb(217.66666666666666, 232.55555555555554, 214.44444444444446)",
             "rgb(217.66666666666666, 232.55555555555554, 214.44444444444446)",
             "rgb(217.66666666666666, 232.55555555555554, 214.44444444444446)",
             "rgb(217.66666666666666, 232.55555555555554, 214.44444444444446)",
             "rgb(217.66666666666666, 232.55555555555554, 214.44444444444446)",
             "rgb(217.66666666666666, 232.55555555555554, 214.44444444444446)"
            ],
            [
             "rgb(177.0, 205.66666666666666, 169.33333333333331)",
             "rgb(197.33333333333334, 219.11111111111111, 191.88888888888889)",
             "rgb(197.33333333333334, 219.11111111111111, 191.88888888888889)",
             "rgb(197.33333333333334, 219.11111111111111, 191.88888888888889)",
             "rgb(217.66666666666666, 232.55555555555554, 214.44444444444446)",
             "rgb(217.66666666666666, 232.55555555555554, 214.44444444444446)",
             "rgb(217.66666666666666, 232.55555555555554, 214.44444444444446)",
             "rgb(217.66666666666666, 232.55555555555554, 214.44444444444446)",
             "rgb(217.66666666666666, 232.55555555555554, 214.44444444444446)",
             "rgb(217.66666666666666, 232.55555555555554, 214.44444444444446)"
            ]
           ]
          },
          "values": [
           [
            "network",
            "deep",
            "task",
            "model",
            "learning",
            "learn",
            "neural",
            "image",
            "representation",
            "method"
           ],
           [
            "datum",
            "learning",
            "problem",
            "learn",
            "algorithm",
            "set",
            "training",
            "method",
            "sample",
            "label"
           ],
           [
            "university",
            "model",
            "brain",
            "neural",
            "analysis",
            "department",
            "datum",
            "information",
            "edu",
            "structure"
           ],
           [
            "model",
            "distribution",
            "inference",
            "gaussian",
            "datum",
            "sample",
            "gan",
            "generative",
            "process",
            "variational"
           ],
           [
            "network",
            "neural",
            "input",
            "unit",
            "weight",
            "learn",
            "output",
            "function",
            "training",
            "algorithm"
           ],
           [
            "neuron",
            "network",
            "model",
            "neural",
            "system",
            "cell",
            "analog",
            "abstract",
            "control",
            "time"
           ],
           [
            "x",
            "n",
            "problem",
            "function",
            "algorithm",
            "optimization",
            "t",
            "k",
            "matrix",
            "gradient"
           ],
           [
            "learning",
            "policy",
            "algorithm",
            "reinforcement",
            "problem",
            "learn",
            "agent",
            "action",
            "reward",
            "control"
           ],
           [
            "algorithm",
            "datum",
            "graph",
            "cluster",
            "problem",
            "model",
            "node",
            "k",
            "edu",
            "clustering"
           ],
           [
            "object",
            "visual",
            "image",
            "system",
            "model",
            "recognition",
            "information",
            "d",
            "feature",
            "human"
           ]
          ]
         },
         "header": {
          "fill": {
           "color": "rgb(220, 220, 220)"
          },
          "values": [
           "Topic 00",
           "Topic 01",
           "Topic 02",
           "Topic 03",
           "Topic 04",
           "Topic 05",
           "Topic 06",
           "Topic 07",
           "Topic 08",
           "Topic 09"
          ]
         },
         "type": "table"
        }
       ],
       "layout": {
        "template": {
         "data": {
          "bar": [
           {
            "error_x": {
             "color": "#2a3f5f"
            },
            "error_y": {
             "color": "#2a3f5f"
            },
            "marker": {
             "line": {
              "color": "#E5ECF6",
              "width": 0.5
             },
             "pattern": {
              "fillmode": "overlay",
              "size": 10,
              "solidity": 0.2
             }
            },
            "type": "bar"
           }
          ],
          "barpolar": [
           {
            "marker": {
             "line": {
              "color": "#E5ECF6",
              "width": 0.5
             },
             "pattern": {
              "fillmode": "overlay",
              "size": 10,
              "solidity": 0.2
             }
            },
            "type": "barpolar"
           }
          ],
          "carpet": [
           {
            "aaxis": {
             "endlinecolor": "#2a3f5f",
             "gridcolor": "white",
             "linecolor": "white",
             "minorgridcolor": "white",
             "startlinecolor": "#2a3f5f"
            },
            "baxis": {
             "endlinecolor": "#2a3f5f",
             "gridcolor": "white",
             "linecolor": "white",
             "minorgridcolor": "white",
             "startlinecolor": "#2a3f5f"
            },
            "type": "carpet"
           }
          ],
          "choropleth": [
           {
            "colorbar": {
             "outlinewidth": 0,
             "ticks": ""
            },
            "type": "choropleth"
           }
          ],
          "contour": [
           {
            "colorbar": {
             "outlinewidth": 0,
             "ticks": ""
            },
            "colorscale": [
             [
              0,
              "#0d0887"
             ],
             [
              0.1111111111111111,
              "#46039f"
             ],
             [
              0.2222222222222222,
              "#7201a8"
             ],
             [
              0.3333333333333333,
              "#9c179e"
             ],
             [
              0.4444444444444444,
              "#bd3786"
             ],
             [
              0.5555555555555556,
              "#d8576b"
             ],
             [
              0.6666666666666666,
              "#ed7953"
             ],
             [
              0.7777777777777778,
              "#fb9f3a"
             ],
             [
              0.8888888888888888,
              "#fdca26"
             ],
             [
              1,
              "#f0f921"
             ]
            ],
            "type": "contour"
           }
          ],
          "contourcarpet": [
           {
            "colorbar": {
             "outlinewidth": 0,
             "ticks": ""
            },
            "type": "contourcarpet"
           }
          ],
          "heatmap": [
           {
            "colorbar": {
             "outlinewidth": 0,
             "ticks": ""
            },
            "colorscale": [
             [
              0,
              "#0d0887"
             ],
             [
              0.1111111111111111,
              "#46039f"
             ],
             [
              0.2222222222222222,
              "#7201a8"
             ],
             [
              0.3333333333333333,
              "#9c179e"
             ],
             [
              0.4444444444444444,
              "#bd3786"
             ],
             [
              0.5555555555555556,
              "#d8576b"
             ],
             [
              0.6666666666666666,
              "#ed7953"
             ],
             [
              0.7777777777777778,
              "#fb9f3a"
             ],
             [
              0.8888888888888888,
              "#fdca26"
             ],
             [
              1,
              "#f0f921"
             ]
            ],
            "type": "heatmap"
           }
          ],
          "heatmapgl": [
           {
            "colorbar": {
             "outlinewidth": 0,
             "ticks": ""
            },
            "colorscale": [
             [
              0,
              "#0d0887"
             ],
             [
              0.1111111111111111,
              "#46039f"
             ],
             [
              0.2222222222222222,
              "#7201a8"
             ],
             [
              0.3333333333333333,
              "#9c179e"
             ],
             [
              0.4444444444444444,
              "#bd3786"
             ],
             [
              0.5555555555555556,
              "#d8576b"
             ],
             [
              0.6666666666666666,
              "#ed7953"
             ],
             [
              0.7777777777777778,
              "#fb9f3a"
             ],
             [
              0.8888888888888888,
              "#fdca26"
             ],
             [
              1,
              "#f0f921"
             ]
            ],
            "type": "heatmapgl"
           }
          ],
          "histogram": [
           {
            "marker": {
             "pattern": {
              "fillmode": "overlay",
              "size": 10,
              "solidity": 0.2
             }
            },
            "type": "histogram"
           }
          ],
          "histogram2d": [
           {
            "colorbar": {
             "outlinewidth": 0,
             "ticks": ""
            },
            "colorscale": [
             [
              0,
              "#0d0887"
             ],
             [
              0.1111111111111111,
              "#46039f"
             ],
             [
              0.2222222222222222,
              "#7201a8"
             ],
             [
              0.3333333333333333,
              "#9c179e"
             ],
             [
              0.4444444444444444,
              "#bd3786"
             ],
             [
              0.5555555555555556,
              "#d8576b"
             ],
             [
              0.6666666666666666,
              "#ed7953"
             ],
             [
              0.7777777777777778,
              "#fb9f3a"
             ],
             [
              0.8888888888888888,
              "#fdca26"
             ],
             [
              1,
              "#f0f921"
             ]
            ],
            "type": "histogram2d"
           }
          ],
          "histogram2dcontour": [
           {
            "colorbar": {
             "outlinewidth": 0,
             "ticks": ""
            },
            "colorscale": [
             [
              0,
              "#0d0887"
             ],
             [
              0.1111111111111111,
              "#46039f"
             ],
             [
              0.2222222222222222,
              "#7201a8"
             ],
             [
              0.3333333333333333,
              "#9c179e"
             ],
             [
              0.4444444444444444,
              "#bd3786"
             ],
             [
              0.5555555555555556,
              "#d8576b"
             ],
             [
              0.6666666666666666,
              "#ed7953"
             ],
             [
              0.7777777777777778,
              "#fb9f3a"
             ],
             [
              0.8888888888888888,
              "#fdca26"
             ],
             [
              1,
              "#f0f921"
             ]
            ],
            "type": "histogram2dcontour"
           }
          ],
          "mesh3d": [
           {
            "colorbar": {
             "outlinewidth": 0,
             "ticks": ""
            },
            "type": "mesh3d"
           }
          ],
          "parcoords": [
           {
            "line": {
             "colorbar": {
              "outlinewidth": 0,
              "ticks": ""
             }
            },
            "type": "parcoords"
           }
          ],
          "pie": [
           {
            "automargin": true,
            "type": "pie"
           }
          ],
          "scatter": [
           {
            "marker": {
             "colorbar": {
              "outlinewidth": 0,
              "ticks": ""
             }
            },
            "type": "scatter"
           }
          ],
          "scatter3d": [
           {
            "line": {
             "colorbar": {
              "outlinewidth": 0,
              "ticks": ""
             }
            },
            "marker": {
             "colorbar": {
              "outlinewidth": 0,
              "ticks": ""
             }
            },
            "type": "scatter3d"
           }
          ],
          "scattercarpet": [
           {
            "marker": {
             "colorbar": {
              "outlinewidth": 0,
              "ticks": ""
             }
            },
            "type": "scattercarpet"
           }
          ],
          "scattergeo": [
           {
            "marker": {
             "colorbar": {
              "outlinewidth": 0,
              "ticks": ""
             }
            },
            "type": "scattergeo"
           }
          ],
          "scattergl": [
           {
            "marker": {
             "colorbar": {
              "outlinewidth": 0,
              "ticks": ""
             }
            },
            "type": "scattergl"
           }
          ],
          "scattermapbox": [
           {
            "marker": {
             "colorbar": {
              "outlinewidth": 0,
              "ticks": ""
             }
            },
            "type": "scattermapbox"
           }
          ],
          "scatterpolar": [
           {
            "marker": {
             "colorbar": {
              "outlinewidth": 0,
              "ticks": ""
             }
            },
            "type": "scatterpolar"
           }
          ],
          "scatterpolargl": [
           {
            "marker": {
             "colorbar": {
              "outlinewidth": 0,
              "ticks": ""
             }
            },
            "type": "scatterpolargl"
           }
          ],
          "scatterternary": [
           {
            "marker": {
             "colorbar": {
              "outlinewidth": 0,
              "ticks": ""
             }
            },
            "type": "scatterternary"
           }
          ],
          "surface": [
           {
            "colorbar": {
             "outlinewidth": 0,
             "ticks": ""
            },
            "colorscale": [
             [
              0,
              "#0d0887"
             ],
             [
              0.1111111111111111,
              "#46039f"
             ],
             [
              0.2222222222222222,
              "#7201a8"
             ],
             [
              0.3333333333333333,
              "#9c179e"
             ],
             [
              0.4444444444444444,
              "#bd3786"
             ],
             [
              0.5555555555555556,
              "#d8576b"
             ],
             [
              0.6666666666666666,
              "#ed7953"
             ],
             [
              0.7777777777777778,
              "#fb9f3a"
             ],
             [
              0.8888888888888888,
              "#fdca26"
             ],
             [
              1,
              "#f0f921"
             ]
            ],
            "type": "surface"
           }
          ],
          "table": [
           {
            "cells": {
             "fill": {
              "color": "#EBF0F8"
             },
             "line": {
              "color": "white"
             }
            },
            "header": {
             "fill": {
              "color": "#C8D4E3"
             },
             "line": {
              "color": "white"
             }
            },
            "type": "table"
           }
          ]
         },
         "layout": {
          "annotationdefaults": {
           "arrowcolor": "#2a3f5f",
           "arrowhead": 0,
           "arrowwidth": 1
          },
          "autotypenumbers": "strict",
          "coloraxis": {
           "colorbar": {
            "outlinewidth": 0,
            "ticks": ""
           }
          },
          "colorscale": {
           "diverging": [
            [
             0,
             "#8e0152"
            ],
            [
             0.1,
             "#c51b7d"
            ],
            [
             0.2,
             "#de77ae"
            ],
            [
             0.3,
             "#f1b6da"
            ],
            [
             0.4,
             "#fde0ef"
            ],
            [
             0.5,
             "#f7f7f7"
            ],
            [
             0.6,
             "#e6f5d0"
            ],
            [
             0.7,
             "#b8e186"
            ],
            [
             0.8,
             "#7fbc41"
            ],
            [
             0.9,
             "#4d9221"
            ],
            [
             1,
             "#276419"
            ]
           ],
           "sequential": [
            [
             0,
             "#0d0887"
            ],
            [
             0.1111111111111111,
             "#46039f"
            ],
            [
             0.2222222222222222,
             "#7201a8"
            ],
            [
             0.3333333333333333,
             "#9c179e"
            ],
            [
             0.4444444444444444,
             "#bd3786"
            ],
            [
             0.5555555555555556,
             "#d8576b"
            ],
            [
             0.6666666666666666,
             "#ed7953"
            ],
            [
             0.7777777777777778,
             "#fb9f3a"
            ],
            [
             0.8888888888888888,
             "#fdca26"
            ],
            [
             1,
             "#f0f921"
            ]
           ],
           "sequentialminus": [
            [
             0,
             "#0d0887"
            ],
            [
             0.1111111111111111,
             "#46039f"
            ],
            [
             0.2222222222222222,
             "#7201a8"
            ],
            [
             0.3333333333333333,
             "#9c179e"
            ],
            [
             0.4444444444444444,
             "#bd3786"
            ],
            [
             0.5555555555555556,
             "#d8576b"
            ],
            [
             0.6666666666666666,
             "#ed7953"
            ],
            [
             0.7777777777777778,
             "#fb9f3a"
            ],
            [
             0.8888888888888888,
             "#fdca26"
            ],
            [
             1,
             "#f0f921"
            ]
           ]
          },
          "colorway": [
           "#636efa",
           "#EF553B",
           "#00cc96",
           "#ab63fa",
           "#FFA15A",
           "#19d3f3",
           "#FF6692",
           "#B6E880",
           "#FF97FF",
           "#FECB52"
          ],
          "font": {
           "color": "#2a3f5f"
          },
          "geo": {
           "bgcolor": "white",
           "lakecolor": "white",
           "landcolor": "#E5ECF6",
           "showlakes": true,
           "showland": true,
           "subunitcolor": "white"
          },
          "hoverlabel": {
           "align": "left"
          },
          "hovermode": "closest",
          "mapbox": {
           "style": "light"
          },
          "paper_bgcolor": "white",
          "plot_bgcolor": "#E5ECF6",
          "polar": {
           "angularaxis": {
            "gridcolor": "white",
            "linecolor": "white",
            "ticks": ""
           },
           "bgcolor": "#E5ECF6",
           "radialaxis": {
            "gridcolor": "white",
            "linecolor": "white",
            "ticks": ""
           }
          },
          "scene": {
           "xaxis": {
            "backgroundcolor": "#E5ECF6",
            "gridcolor": "white",
            "gridwidth": 2,
            "linecolor": "white",
            "showbackground": true,
            "ticks": "",
            "zerolinecolor": "white"
           },
           "yaxis": {
            "backgroundcolor": "#E5ECF6",
            "gridcolor": "white",
            "gridwidth": 2,
            "linecolor": "white",
            "showbackground": true,
            "ticks": "",
            "zerolinecolor": "white"
           },
           "zaxis": {
            "backgroundcolor": "#E5ECF6",
            "gridcolor": "white",
            "gridwidth": 2,
            "linecolor": "white",
            "showbackground": true,
            "ticks": "",
            "zerolinecolor": "white"
           }
          },
          "shapedefaults": {
           "line": {
            "color": "#2a3f5f"
           }
          },
          "ternary": {
           "aaxis": {
            "gridcolor": "white",
            "linecolor": "white",
            "ticks": ""
           },
           "baxis": {
            "gridcolor": "white",
            "linecolor": "white",
            "ticks": ""
           },
           "bgcolor": "#E5ECF6",
           "caxis": {
            "gridcolor": "white",
            "linecolor": "white",
            "ticks": ""
           }
          },
          "title": {
           "x": 0.05
          },
          "xaxis": {
           "automargin": true,
           "gridcolor": "white",
           "linecolor": "white",
           "ticks": "",
           "title": {
            "standoff": 15
           },
           "zerolinecolor": "white",
           "zerolinewidth": 2
          },
          "yaxis": {
           "automargin": true,
           "gridcolor": "white",
           "linecolor": "white",
           "ticks": "",
           "title": {
            "standoff": 15
           },
           "zerolinecolor": "white",
           "zerolinewidth": 2
          }
         }
        },
        "title": {
         "text": "Top words for the 10 topics"
        },
        "width": 1350
       }
      }
     },
     "metadata": {},
     "output_type": "display_data"
    },
    {
     "name": "stdout",
     "output_type": "stream",
     "text": [
      "Iter [250]===\n",
      "Topic 0: ['network', 'deep', 'model', 'task', 'learn', 'learning', 'neural', 'image', 'method', 'representation']\n",
      "Topic 1: ['datum', 'learning', 'problem', 'learn', 'algorithm', 'sample', 'label', 'method', 'example', 'training']\n",
      "Topic 2: ['university', 'model', 'neural', 'brain', 'analysis', 'department', 'science', 'information', 'method', 'time']\n",
      "Topic 3: ['model', 'distribution', 'inference', 'datum', 'process', 'gaussian', 'sample', 'generative', 'gan', 'variable']\n",
      "Topic 4: ['network', 'neural', 'input', 'unit', 'weight', 'learn', 'output', 'function', 'training', 'state']\n",
      "Topic 5: ['neuron', 'network', 'model', 'neural', 'system', 'cell', 'analog', 'study', 'pattern', 'activity']\n",
      "Topic 6: ['x', 'problem', 'n', 'function', 'algorithm', 't', 'k', 'optimization', 'matrix', 'method']\n",
      "Topic 7: ['learning', 'algorithm', 'policy', 'reinforcement', 'problem', 'learn', 'agent', 'game', 'state', 'action']\n",
      "Topic 8: ['algorithm', 'datum', 'graph', 'problem', 'cluster', 'node', 'model', 'edu', 'clustering', 'k']\n",
      "Topic 9: ['object', 'visual', 'image', 'system', 'model', 'information', 'recognition', 'd', 'human', 'representation']\n"
     ]
    },
    {
     "data": {
      "application/vnd.plotly.v1+json": {
       "config": {
        "plotlyServerURL": "https://plot.ly"
       },
       "data": [
        {
         "cells": {
          "fill": {
           "color": [
            [
             "rgb(177.0, 205.66666666666666, 169.33333333333331)",
             "rgb(197.33333333333334, 219.11111111111111, 191.88888888888889)",
             "rgb(197.33333333333334, 219.11111111111111, 191.88888888888889)",
             "rgb(197.33333333333334, 219.11111111111111, 191.88888888888889)",
             "rgb(197.33333333333334, 219.11111111111111, 191.88888888888889)",
             "rgb(197.33333333333334, 219.11111111111111, 191.88888888888889)",
             "rgb(197.33333333333334, 219.11111111111111, 191.88888888888889)",
             "rgb(197.33333333333334, 219.11111111111111, 191.88888888888889)",
             "rgb(217.66666666666666, 232.55555555555554, 214.44444444444446)",
             "rgb(217.66666666666666, 232.55555555555554, 214.44444444444446)"
            ],
            [
             "rgb(177.0, 205.66666666666666, 169.33333333333331)",
             "rgb(197.33333333333334, 219.11111111111111, 191.88888888888889)",
             "rgb(197.33333333333334, 219.11111111111111, 191.88888888888889)",
             "rgb(197.33333333333334, 219.11111111111111, 191.88888888888889)",
             "rgb(197.33333333333334, 219.11111111111111, 191.88888888888889)",
             "rgb(217.66666666666666, 232.55555555555554, 214.44444444444446)",
             "rgb(217.66666666666666, 232.55555555555554, 214.44444444444446)",
             "rgb(217.66666666666666, 232.55555555555554, 214.44444444444446)",
             "rgb(217.66666666666666, 232.55555555555554, 214.44444444444446)",
             "rgb(217.66666666666666, 232.55555555555554, 214.44444444444446)"
            ],
            [
             "rgb(197.33333333333334, 219.11111111111111, 191.88888888888889)",
             "rgb(197.33333333333334, 219.11111111111111, 191.88888888888889)",
             "rgb(217.66666666666666, 232.55555555555554, 214.44444444444446)",
             "rgb(217.66666666666666, 232.55555555555554, 214.44444444444446)",
             "rgb(217.66666666666666, 232.55555555555554, 214.44444444444446)",
             "rgb(217.66666666666666, 232.55555555555554, 214.44444444444446)",
             "rgb(217.66666666666666, 232.55555555555554, 214.44444444444446)",
             "rgb(217.66666666666666, 232.55555555555554, 214.44444444444446)",
             "rgb(217.66666666666666, 232.55555555555554, 214.44444444444446)",
             "rgb(217.66666666666666, 232.55555555555554, 214.44444444444446)"
            ],
            [
             "rgb(95.66666666666669, 151.88888888888889, 79.11111111111109)",
             "rgb(156.66666666666669, 192.22222222222223, 146.77777777777777)",
             "rgb(197.33333333333334, 219.11111111111111, 191.88888888888889)",
             "rgb(197.33333333333334, 219.11111111111111, 191.88888888888889)",
             "rgb(217.66666666666666, 232.55555555555554, 214.44444444444446)",
             "rgb(217.66666666666666, 232.55555555555554, 214.44444444444446)",
             "rgb(217.66666666666666, 232.55555555555554, 214.44444444444446)",
             "rgb(217.66666666666666, 232.55555555555554, 214.44444444444446)",
             "rgb(217.66666666666666, 232.55555555555554, 214.44444444444446)",
             "rgb(217.66666666666666, 232.55555555555554, 214.44444444444446)"
            ],
            [
             "rgb(95.66666666666669, 151.88888888888889, 79.11111111111109)",
             "rgb(177.0, 205.66666666666666, 169.33333333333331)",
             "rgb(197.33333333333334, 219.11111111111111, 191.88888888888889)",
             "rgb(217.66666666666666, 232.55555555555554, 214.44444444444446)",
             "rgb(217.66666666666666, 232.55555555555554, 214.44444444444446)",
             "rgb(217.66666666666666, 232.55555555555554, 214.44444444444446)",
             "rgb(217.66666666666666, 232.55555555555554, 214.44444444444446)",
             "rgb(217.66666666666666, 232.55555555555554, 214.44444444444446)",
             "rgb(217.66666666666666, 232.55555555555554, 214.44444444444446)",
             "rgb(217.66666666666666, 232.55555555555554, 214.44444444444446)"
            ],
            [
             "rgb(177.0, 205.66666666666666, 169.33333333333331)",
             "rgb(197.33333333333334, 219.11111111111111, 191.88888888888889)",
             "rgb(197.33333333333334, 219.11111111111111, 191.88888888888889)",
             "rgb(197.33333333333334, 219.11111111111111, 191.88888888888889)",
             "rgb(197.33333333333334, 219.11111111111111, 191.88888888888889)",
             "rgb(197.33333333333334, 219.11111111111111, 191.88888888888889)",
             "rgb(217.66666666666666, 232.55555555555554, 214.44444444444446)",
             "rgb(217.66666666666666, 232.55555555555554, 214.44444444444446)",
             "rgb(217.66666666666666, 232.55555555555554, 214.44444444444446)",
             "rgb(238.0, 246.0, 237.0)"
            ],
            [
             "rgb(177.0, 205.66666666666666, 169.33333333333331)",
             "rgb(197.33333333333334, 219.11111111111111, 191.88888888888889)",
             "rgb(197.33333333333334, 219.11111111111111, 191.88888888888889)",
             "rgb(197.33333333333334, 219.11111111111111, 191.88888888888889)",
             "rgb(197.33333333333334, 219.11111111111111, 191.88888888888889)",
             "rgb(197.33333333333334, 219.11111111111111, 191.88888888888889)",
             "rgb(217.66666666666666, 232.55555555555554, 214.44444444444446)",
             "rgb(217.66666666666666, 232.55555555555554, 214.44444444444446)",
             "rgb(217.66666666666666, 232.55555555555554, 214.44444444444446)",
             "rgb(217.66666666666666, 232.55555555555554, 214.44444444444446)"
            ],
            [
             "rgb(177.0, 205.66666666666666, 169.33333333333331)",
             "rgb(197.33333333333334, 219.11111111111111, 191.88888888888889)",
             "rgb(197.33333333333334, 219.11111111111111, 191.88888888888889)",
             "rgb(197.33333333333334, 219.11111111111111, 191.88888888888889)",
             "rgb(197.33333333333334, 219.11111111111111, 191.88888888888889)",
             "rgb(217.66666666666666, 232.55555555555554, 214.44444444444446)",
             "rgb(217.66666666666666, 232.55555555555554, 214.44444444444446)",
             "rgb(217.66666666666666, 232.55555555555554, 214.44444444444446)",
             "rgb(217.66666666666666, 232.55555555555554, 214.44444444444446)",
             "rgb(217.66666666666666, 232.55555555555554, 214.44444444444446)"
            ],
            [
             "rgb(177.0, 205.66666666666666, 169.33333333333331)",
             "rgb(197.33333333333334, 219.11111111111111, 191.88888888888889)",
             "rgb(197.33333333333334, 219.11111111111111, 191.88888888888889)",
             "rgb(197.33333333333334, 219.11111111111111, 191.88888888888889)",
             "rgb(217.66666666666666, 232.55555555555554, 214.44444444444446)",
             "rgb(217.66666666666666, 232.55555555555554, 214.44444444444446)",
             "rgb(217.66666666666666, 232.55555555555554, 214.44444444444446)",
             "rgb(217.66666666666666, 232.55555555555554, 214.44444444444446)",
             "rgb(217.66666666666666, 232.55555555555554, 214.44444444444446)",
             "rgb(217.66666666666666, 232.55555555555554, 214.44444444444446)"
            ],
            [
             "rgb(177.0, 205.66666666666666, 169.33333333333331)",
             "rgb(197.33333333333334, 219.11111111111111, 191.88888888888889)",
             "rgb(197.33333333333334, 219.11111111111111, 191.88888888888889)",
             "rgb(197.33333333333334, 219.11111111111111, 191.88888888888889)",
             "rgb(217.66666666666666, 232.55555555555554, 214.44444444444446)",
             "rgb(217.66666666666666, 232.55555555555554, 214.44444444444446)",
             "rgb(217.66666666666666, 232.55555555555554, 214.44444444444446)",
             "rgb(217.66666666666666, 232.55555555555554, 214.44444444444446)",
             "rgb(217.66666666666666, 232.55555555555554, 214.44444444444446)",
             "rgb(217.66666666666666, 232.55555555555554, 214.44444444444446)"
            ]
           ]
          },
          "values": [
           [
            "network",
            "deep",
            "model",
            "task",
            "learn",
            "learning",
            "neural",
            "image",
            "method",
            "representation"
           ],
           [
            "datum",
            "learning",
            "problem",
            "learn",
            "algorithm",
            "sample",
            "label",
            "method",
            "example",
            "training"
           ],
           [
            "university",
            "model",
            "neural",
            "brain",
            "analysis",
            "department",
            "science",
            "information",
            "method",
            "time"
           ],
           [
            "model",
            "distribution",
            "inference",
            "datum",
            "process",
            "gaussian",
            "sample",
            "generative",
            "gan",
            "variable"
           ],
           [
            "network",
            "neural",
            "input",
            "unit",
            "weight",
            "learn",
            "output",
            "function",
            "training",
            "state"
           ],
           [
            "neuron",
            "network",
            "model",
            "neural",
            "system",
            "cell",
            "analog",
            "study",
            "pattern",
            "activity"
           ],
           [
            "x",
            "problem",
            "n",
            "function",
            "algorithm",
            "t",
            "k",
            "optimization",
            "matrix",
            "method"
           ],
           [
            "learning",
            "algorithm",
            "policy",
            "reinforcement",
            "problem",
            "learn",
            "agent",
            "game",
            "state",
            "action"
           ],
           [
            "algorithm",
            "datum",
            "graph",
            "problem",
            "cluster",
            "node",
            "model",
            "edu",
            "clustering",
            "k"
           ],
           [
            "object",
            "visual",
            "image",
            "system",
            "model",
            "information",
            "recognition",
            "d",
            "human",
            "representation"
           ]
          ]
         },
         "header": {
          "fill": {
           "color": "rgb(220, 220, 220)"
          },
          "values": [
           "Topic 00",
           "Topic 01",
           "Topic 02",
           "Topic 03",
           "Topic 04",
           "Topic 05",
           "Topic 06",
           "Topic 07",
           "Topic 08",
           "Topic 09"
          ]
         },
         "type": "table"
        }
       ],
       "layout": {
        "template": {
         "data": {
          "bar": [
           {
            "error_x": {
             "color": "#2a3f5f"
            },
            "error_y": {
             "color": "#2a3f5f"
            },
            "marker": {
             "line": {
              "color": "#E5ECF6",
              "width": 0.5
             },
             "pattern": {
              "fillmode": "overlay",
              "size": 10,
              "solidity": 0.2
             }
            },
            "type": "bar"
           }
          ],
          "barpolar": [
           {
            "marker": {
             "line": {
              "color": "#E5ECF6",
              "width": 0.5
             },
             "pattern": {
              "fillmode": "overlay",
              "size": 10,
              "solidity": 0.2
             }
            },
            "type": "barpolar"
           }
          ],
          "carpet": [
           {
            "aaxis": {
             "endlinecolor": "#2a3f5f",
             "gridcolor": "white",
             "linecolor": "white",
             "minorgridcolor": "white",
             "startlinecolor": "#2a3f5f"
            },
            "baxis": {
             "endlinecolor": "#2a3f5f",
             "gridcolor": "white",
             "linecolor": "white",
             "minorgridcolor": "white",
             "startlinecolor": "#2a3f5f"
            },
            "type": "carpet"
           }
          ],
          "choropleth": [
           {
            "colorbar": {
             "outlinewidth": 0,
             "ticks": ""
            },
            "type": "choropleth"
           }
          ],
          "contour": [
           {
            "colorbar": {
             "outlinewidth": 0,
             "ticks": ""
            },
            "colorscale": [
             [
              0,
              "#0d0887"
             ],
             [
              0.1111111111111111,
              "#46039f"
             ],
             [
              0.2222222222222222,
              "#7201a8"
             ],
             [
              0.3333333333333333,
              "#9c179e"
             ],
             [
              0.4444444444444444,
              "#bd3786"
             ],
             [
              0.5555555555555556,
              "#d8576b"
             ],
             [
              0.6666666666666666,
              "#ed7953"
             ],
             [
              0.7777777777777778,
              "#fb9f3a"
             ],
             [
              0.8888888888888888,
              "#fdca26"
             ],
             [
              1,
              "#f0f921"
             ]
            ],
            "type": "contour"
           }
          ],
          "contourcarpet": [
           {
            "colorbar": {
             "outlinewidth": 0,
             "ticks": ""
            },
            "type": "contourcarpet"
           }
          ],
          "heatmap": [
           {
            "colorbar": {
             "outlinewidth": 0,
             "ticks": ""
            },
            "colorscale": [
             [
              0,
              "#0d0887"
             ],
             [
              0.1111111111111111,
              "#46039f"
             ],
             [
              0.2222222222222222,
              "#7201a8"
             ],
             [
              0.3333333333333333,
              "#9c179e"
             ],
             [
              0.4444444444444444,
              "#bd3786"
             ],
             [
              0.5555555555555556,
              "#d8576b"
             ],
             [
              0.6666666666666666,
              "#ed7953"
             ],
             [
              0.7777777777777778,
              "#fb9f3a"
             ],
             [
              0.8888888888888888,
              "#fdca26"
             ],
             [
              1,
              "#f0f921"
             ]
            ],
            "type": "heatmap"
           }
          ],
          "heatmapgl": [
           {
            "colorbar": {
             "outlinewidth": 0,
             "ticks": ""
            },
            "colorscale": [
             [
              0,
              "#0d0887"
             ],
             [
              0.1111111111111111,
              "#46039f"
             ],
             [
              0.2222222222222222,
              "#7201a8"
             ],
             [
              0.3333333333333333,
              "#9c179e"
             ],
             [
              0.4444444444444444,
              "#bd3786"
             ],
             [
              0.5555555555555556,
              "#d8576b"
             ],
             [
              0.6666666666666666,
              "#ed7953"
             ],
             [
              0.7777777777777778,
              "#fb9f3a"
             ],
             [
              0.8888888888888888,
              "#fdca26"
             ],
             [
              1,
              "#f0f921"
             ]
            ],
            "type": "heatmapgl"
           }
          ],
          "histogram": [
           {
            "marker": {
             "pattern": {
              "fillmode": "overlay",
              "size": 10,
              "solidity": 0.2
             }
            },
            "type": "histogram"
           }
          ],
          "histogram2d": [
           {
            "colorbar": {
             "outlinewidth": 0,
             "ticks": ""
            },
            "colorscale": [
             [
              0,
              "#0d0887"
             ],
             [
              0.1111111111111111,
              "#46039f"
             ],
             [
              0.2222222222222222,
              "#7201a8"
             ],
             [
              0.3333333333333333,
              "#9c179e"
             ],
             [
              0.4444444444444444,
              "#bd3786"
             ],
             [
              0.5555555555555556,
              "#d8576b"
             ],
             [
              0.6666666666666666,
              "#ed7953"
             ],
             [
              0.7777777777777778,
              "#fb9f3a"
             ],
             [
              0.8888888888888888,
              "#fdca26"
             ],
             [
              1,
              "#f0f921"
             ]
            ],
            "type": "histogram2d"
           }
          ],
          "histogram2dcontour": [
           {
            "colorbar": {
             "outlinewidth": 0,
             "ticks": ""
            },
            "colorscale": [
             [
              0,
              "#0d0887"
             ],
             [
              0.1111111111111111,
              "#46039f"
             ],
             [
              0.2222222222222222,
              "#7201a8"
             ],
             [
              0.3333333333333333,
              "#9c179e"
             ],
             [
              0.4444444444444444,
              "#bd3786"
             ],
             [
              0.5555555555555556,
              "#d8576b"
             ],
             [
              0.6666666666666666,
              "#ed7953"
             ],
             [
              0.7777777777777778,
              "#fb9f3a"
             ],
             [
              0.8888888888888888,
              "#fdca26"
             ],
             [
              1,
              "#f0f921"
             ]
            ],
            "type": "histogram2dcontour"
           }
          ],
          "mesh3d": [
           {
            "colorbar": {
             "outlinewidth": 0,
             "ticks": ""
            },
            "type": "mesh3d"
           }
          ],
          "parcoords": [
           {
            "line": {
             "colorbar": {
              "outlinewidth": 0,
              "ticks": ""
             }
            },
            "type": "parcoords"
           }
          ],
          "pie": [
           {
            "automargin": true,
            "type": "pie"
           }
          ],
          "scatter": [
           {
            "marker": {
             "colorbar": {
              "outlinewidth": 0,
              "ticks": ""
             }
            },
            "type": "scatter"
           }
          ],
          "scatter3d": [
           {
            "line": {
             "colorbar": {
              "outlinewidth": 0,
              "ticks": ""
             }
            },
            "marker": {
             "colorbar": {
              "outlinewidth": 0,
              "ticks": ""
             }
            },
            "type": "scatter3d"
           }
          ],
          "scattercarpet": [
           {
            "marker": {
             "colorbar": {
              "outlinewidth": 0,
              "ticks": ""
             }
            },
            "type": "scattercarpet"
           }
          ],
          "scattergeo": [
           {
            "marker": {
             "colorbar": {
              "outlinewidth": 0,
              "ticks": ""
             }
            },
            "type": "scattergeo"
           }
          ],
          "scattergl": [
           {
            "marker": {
             "colorbar": {
              "outlinewidth": 0,
              "ticks": ""
             }
            },
            "type": "scattergl"
           }
          ],
          "scattermapbox": [
           {
            "marker": {
             "colorbar": {
              "outlinewidth": 0,
              "ticks": ""
             }
            },
            "type": "scattermapbox"
           }
          ],
          "scatterpolar": [
           {
            "marker": {
             "colorbar": {
              "outlinewidth": 0,
              "ticks": ""
             }
            },
            "type": "scatterpolar"
           }
          ],
          "scatterpolargl": [
           {
            "marker": {
             "colorbar": {
              "outlinewidth": 0,
              "ticks": ""
             }
            },
            "type": "scatterpolargl"
           }
          ],
          "scatterternary": [
           {
            "marker": {
             "colorbar": {
              "outlinewidth": 0,
              "ticks": ""
             }
            },
            "type": "scatterternary"
           }
          ],
          "surface": [
           {
            "colorbar": {
             "outlinewidth": 0,
             "ticks": ""
            },
            "colorscale": [
             [
              0,
              "#0d0887"
             ],
             [
              0.1111111111111111,
              "#46039f"
             ],
             [
              0.2222222222222222,
              "#7201a8"
             ],
             [
              0.3333333333333333,
              "#9c179e"
             ],
             [
              0.4444444444444444,
              "#bd3786"
             ],
             [
              0.5555555555555556,
              "#d8576b"
             ],
             [
              0.6666666666666666,
              "#ed7953"
             ],
             [
              0.7777777777777778,
              "#fb9f3a"
             ],
             [
              0.8888888888888888,
              "#fdca26"
             ],
             [
              1,
              "#f0f921"
             ]
            ],
            "type": "surface"
           }
          ],
          "table": [
           {
            "cells": {
             "fill": {
              "color": "#EBF0F8"
             },
             "line": {
              "color": "white"
             }
            },
            "header": {
             "fill": {
              "color": "#C8D4E3"
             },
             "line": {
              "color": "white"
             }
            },
            "type": "table"
           }
          ]
         },
         "layout": {
          "annotationdefaults": {
           "arrowcolor": "#2a3f5f",
           "arrowhead": 0,
           "arrowwidth": 1
          },
          "autotypenumbers": "strict",
          "coloraxis": {
           "colorbar": {
            "outlinewidth": 0,
            "ticks": ""
           }
          },
          "colorscale": {
           "diverging": [
            [
             0,
             "#8e0152"
            ],
            [
             0.1,
             "#c51b7d"
            ],
            [
             0.2,
             "#de77ae"
            ],
            [
             0.3,
             "#f1b6da"
            ],
            [
             0.4,
             "#fde0ef"
            ],
            [
             0.5,
             "#f7f7f7"
            ],
            [
             0.6,
             "#e6f5d0"
            ],
            [
             0.7,
             "#b8e186"
            ],
            [
             0.8,
             "#7fbc41"
            ],
            [
             0.9,
             "#4d9221"
            ],
            [
             1,
             "#276419"
            ]
           ],
           "sequential": [
            [
             0,
             "#0d0887"
            ],
            [
             0.1111111111111111,
             "#46039f"
            ],
            [
             0.2222222222222222,
             "#7201a8"
            ],
            [
             0.3333333333333333,
             "#9c179e"
            ],
            [
             0.4444444444444444,
             "#bd3786"
            ],
            [
             0.5555555555555556,
             "#d8576b"
            ],
            [
             0.6666666666666666,
             "#ed7953"
            ],
            [
             0.7777777777777778,
             "#fb9f3a"
            ],
            [
             0.8888888888888888,
             "#fdca26"
            ],
            [
             1,
             "#f0f921"
            ]
           ],
           "sequentialminus": [
            [
             0,
             "#0d0887"
            ],
            [
             0.1111111111111111,
             "#46039f"
            ],
            [
             0.2222222222222222,
             "#7201a8"
            ],
            [
             0.3333333333333333,
             "#9c179e"
            ],
            [
             0.4444444444444444,
             "#bd3786"
            ],
            [
             0.5555555555555556,
             "#d8576b"
            ],
            [
             0.6666666666666666,
             "#ed7953"
            ],
            [
             0.7777777777777778,
             "#fb9f3a"
            ],
            [
             0.8888888888888888,
             "#fdca26"
            ],
            [
             1,
             "#f0f921"
            ]
           ]
          },
          "colorway": [
           "#636efa",
           "#EF553B",
           "#00cc96",
           "#ab63fa",
           "#FFA15A",
           "#19d3f3",
           "#FF6692",
           "#B6E880",
           "#FF97FF",
           "#FECB52"
          ],
          "font": {
           "color": "#2a3f5f"
          },
          "geo": {
           "bgcolor": "white",
           "lakecolor": "white",
           "landcolor": "#E5ECF6",
           "showlakes": true,
           "showland": true,
           "subunitcolor": "white"
          },
          "hoverlabel": {
           "align": "left"
          },
          "hovermode": "closest",
          "mapbox": {
           "style": "light"
          },
          "paper_bgcolor": "white",
          "plot_bgcolor": "#E5ECF6",
          "polar": {
           "angularaxis": {
            "gridcolor": "white",
            "linecolor": "white",
            "ticks": ""
           },
           "bgcolor": "#E5ECF6",
           "radialaxis": {
            "gridcolor": "white",
            "linecolor": "white",
            "ticks": ""
           }
          },
          "scene": {
           "xaxis": {
            "backgroundcolor": "#E5ECF6",
            "gridcolor": "white",
            "gridwidth": 2,
            "linecolor": "white",
            "showbackground": true,
            "ticks": "",
            "zerolinecolor": "white"
           },
           "yaxis": {
            "backgroundcolor": "#E5ECF6",
            "gridcolor": "white",
            "gridwidth": 2,
            "linecolor": "white",
            "showbackground": true,
            "ticks": "",
            "zerolinecolor": "white"
           },
           "zaxis": {
            "backgroundcolor": "#E5ECF6",
            "gridcolor": "white",
            "gridwidth": 2,
            "linecolor": "white",
            "showbackground": true,
            "ticks": "",
            "zerolinecolor": "white"
           }
          },
          "shapedefaults": {
           "line": {
            "color": "#2a3f5f"
           }
          },
          "ternary": {
           "aaxis": {
            "gridcolor": "white",
            "linecolor": "white",
            "ticks": ""
           },
           "baxis": {
            "gridcolor": "white",
            "linecolor": "white",
            "ticks": ""
           },
           "bgcolor": "#E5ECF6",
           "caxis": {
            "gridcolor": "white",
            "linecolor": "white",
            "ticks": ""
           }
          },
          "title": {
           "x": 0.05
          },
          "xaxis": {
           "automargin": true,
           "gridcolor": "white",
           "linecolor": "white",
           "ticks": "",
           "title": {
            "standoff": 15
           },
           "zerolinecolor": "white",
           "zerolinewidth": 2
          },
          "yaxis": {
           "automargin": true,
           "gridcolor": "white",
           "linecolor": "white",
           "ticks": "",
           "title": {
            "standoff": 15
           },
           "zerolinecolor": "white",
           "zerolinewidth": 2
          }
         }
        },
        "title": {
         "text": "Top words for the 10 topics"
        },
        "width": 1350
       }
      }
     },
     "metadata": {},
     "output_type": "display_data"
    },
    {
     "name": "stdout",
     "output_type": "stream",
     "text": [
      "Iter [300]===\n",
      "Topic 0: ['model', 'network', 'deep', 'learn', 'task', 'learning', 'neural', 'image', 'datum', 'train']\n",
      "Topic 1: ['datum', 'learning', 'algorithm', 'learn', 'problem', 'sample', 'function', 'method', 'example', 'label']\n",
      "Topic 2: ['model', 'university', 'brain', 'department', 'neural', 'analysis', 'datum', 'time', 'information', 'edu']\n",
      "Topic 3: ['model', 'distribution', 'inference', 'datum', 'generative', 'gaussian', 'gan', 'process', 'variable', 'variational']\n",
      "Topic 4: ['network', 'neural', 'input', 'learn', 'output', 'weight', 'unit', 'algorithm', 'training', 'function']\n",
      "Topic 5: ['neuron', 'neural', 'network', 'system', 'model', 'cell', 'analog', 't', 'activity', 'pattern']\n",
      "Topic 6: ['x', 'problem', 'n', 'function', 'algorithm', 't', 'optimization', 'matrix', 'method', 'k']\n",
      "Topic 7: ['learning', 'policy', 'algorithm', 'reinforcement', 'problem', 'learn', 'state', 'agent', 'control', 'game']\n",
      "Topic 8: ['algorithm', 'datum', 'graph', 'cluster', 'node', 'model', 'problem', 'k', 'edu', 'clustering']\n",
      "Topic 9: ['object', 'visual', 'image', 'system', 'model', 'recognition', 'information', 'representation', 'd', 'human']\n"
     ]
    },
    {
     "data": {
      "application/vnd.plotly.v1+json": {
       "config": {
        "plotlyServerURL": "https://plot.ly"
       },
       "data": [
        {
         "cells": {
          "fill": {
           "color": [
            [
             "rgb(197.33333333333334, 219.11111111111111, 191.88888888888889)",
             "rgb(197.33333333333334, 219.11111111111111, 191.88888888888889)",
             "rgb(197.33333333333334, 219.11111111111111, 191.88888888888889)",
             "rgb(197.33333333333334, 219.11111111111111, 191.88888888888889)",
             "rgb(197.33333333333334, 219.11111111111111, 191.88888888888889)",
             "rgb(197.33333333333334, 219.11111111111111, 191.88888888888889)",
             "rgb(197.33333333333334, 219.11111111111111, 191.88888888888889)",
             "rgb(197.33333333333334, 219.11111111111111, 191.88888888888889)",
             "rgb(217.66666666666666, 232.55555555555554, 214.44444444444446)",
             "rgb(217.66666666666666, 232.55555555555554, 214.44444444444446)"
            ],
            [
             "rgb(177.0, 205.66666666666666, 169.33333333333331)",
             "rgb(197.33333333333334, 219.11111111111111, 191.88888888888889)",
             "rgb(197.33333333333334, 219.11111111111111, 191.88888888888889)",
             "rgb(217.66666666666666, 232.55555555555554, 214.44444444444446)",
             "rgb(217.66666666666666, 232.55555555555554, 214.44444444444446)",
             "rgb(217.66666666666666, 232.55555555555554, 214.44444444444446)",
             "rgb(217.66666666666666, 232.55555555555554, 214.44444444444446)",
             "rgb(217.66666666666666, 232.55555555555554, 214.44444444444446)",
             "rgb(217.66666666666666, 232.55555555555554, 214.44444444444446)",
             "rgb(217.66666666666666, 232.55555555555554, 214.44444444444446)"
            ],
            [
             "rgb(197.33333333333334, 219.11111111111111, 191.88888888888889)",
             "rgb(197.33333333333334, 219.11111111111111, 191.88888888888889)",
             "rgb(217.66666666666666, 232.55555555555554, 214.44444444444446)",
             "rgb(217.66666666666666, 232.55555555555554, 214.44444444444446)",
             "rgb(217.66666666666666, 232.55555555555554, 214.44444444444446)",
             "rgb(217.66666666666666, 232.55555555555554, 214.44444444444446)",
             "rgb(217.66666666666666, 232.55555555555554, 214.44444444444446)",
             "rgb(217.66666666666666, 232.55555555555554, 214.44444444444446)",
             "rgb(217.66666666666666, 232.55555555555554, 214.44444444444446)",
             "rgb(217.66666666666666, 232.55555555555554, 214.44444444444446)"
            ],
            [
             "rgb(95.66666666666669, 151.88888888888889, 79.11111111111109)",
             "rgb(156.66666666666669, 192.22222222222223, 146.77777777777777)",
             "rgb(197.33333333333334, 219.11111111111111, 191.88888888888889)",
             "rgb(217.66666666666666, 232.55555555555554, 214.44444444444446)",
             "rgb(217.66666666666666, 232.55555555555554, 214.44444444444446)",
             "rgb(217.66666666666666, 232.55555555555554, 214.44444444444446)",
             "rgb(217.66666666666666, 232.55555555555554, 214.44444444444446)",
             "rgb(217.66666666666666, 232.55555555555554, 214.44444444444446)",
             "rgb(217.66666666666666, 232.55555555555554, 214.44444444444446)",
             "rgb(217.66666666666666, 232.55555555555554, 214.44444444444446)"
            ],
            [
             "rgb(75.33333333333334, 138.44444444444446, 56.55555555555554)",
             "rgb(177.0, 205.66666666666666, 169.33333333333331)",
             "rgb(197.33333333333334, 219.11111111111111, 191.88888888888889)",
             "rgb(217.66666666666666, 232.55555555555554, 214.44444444444446)",
             "rgb(217.66666666666666, 232.55555555555554, 214.44444444444446)",
             "rgb(217.66666666666666, 232.55555555555554, 214.44444444444446)",
             "rgb(217.66666666666666, 232.55555555555554, 214.44444444444446)",
             "rgb(217.66666666666666, 232.55555555555554, 214.44444444444446)",
             "rgb(217.66666666666666, 232.55555555555554, 214.44444444444446)",
             "rgb(217.66666666666666, 232.55555555555554, 214.44444444444446)"
            ],
            [
             "rgb(177.0, 205.66666666666666, 169.33333333333331)",
             "rgb(197.33333333333334, 219.11111111111111, 191.88888888888889)",
             "rgb(197.33333333333334, 219.11111111111111, 191.88888888888889)",
             "rgb(197.33333333333334, 219.11111111111111, 191.88888888888889)",
             "rgb(197.33333333333334, 219.11111111111111, 191.88888888888889)",
             "rgb(197.33333333333334, 219.11111111111111, 191.88888888888889)",
             "rgb(217.66666666666666, 232.55555555555554, 214.44444444444446)",
             "rgb(217.66666666666666, 232.55555555555554, 214.44444444444446)",
             "rgb(217.66666666666666, 232.55555555555554, 214.44444444444446)",
             "rgb(238.0, 246.0, 237.0)"
            ],
            [
             "rgb(177.0, 205.66666666666666, 169.33333333333331)",
             "rgb(197.33333333333334, 219.11111111111111, 191.88888888888889)",
             "rgb(197.33333333333334, 219.11111111111111, 191.88888888888889)",
             "rgb(197.33333333333334, 219.11111111111111, 191.88888888888889)",
             "rgb(197.33333333333334, 219.11111111111111, 191.88888888888889)",
             "rgb(217.66666666666666, 232.55555555555554, 214.44444444444446)",
             "rgb(217.66666666666666, 232.55555555555554, 214.44444444444446)",
             "rgb(217.66666666666666, 232.55555555555554, 214.44444444444446)",
             "rgb(217.66666666666666, 232.55555555555554, 214.44444444444446)",
             "rgb(217.66666666666666, 232.55555555555554, 214.44444444444446)"
            ],
            [
             "rgb(177.0, 205.66666666666666, 169.33333333333331)",
             "rgb(197.33333333333334, 219.11111111111111, 191.88888888888889)",
             "rgb(197.33333333333334, 219.11111111111111, 191.88888888888889)",
             "rgb(197.33333333333334, 219.11111111111111, 191.88888888888889)",
             "rgb(217.66666666666666, 232.55555555555554, 214.44444444444446)",
             "rgb(217.66666666666666, 232.55555555555554, 214.44444444444446)",
             "rgb(217.66666666666666, 232.55555555555554, 214.44444444444446)",
             "rgb(217.66666666666666, 232.55555555555554, 214.44444444444446)",
             "rgb(217.66666666666666, 232.55555555555554, 214.44444444444446)",
             "rgb(217.66666666666666, 232.55555555555554, 214.44444444444446)"
            ],
            [
             "rgb(197.33333333333334, 219.11111111111111, 191.88888888888889)",
             "rgb(197.33333333333334, 219.11111111111111, 191.88888888888889)",
             "rgb(197.33333333333334, 219.11111111111111, 191.88888888888889)",
             "rgb(217.66666666666666, 232.55555555555554, 214.44444444444446)",
             "rgb(217.66666666666666, 232.55555555555554, 214.44444444444446)",
             "rgb(217.66666666666666, 232.55555555555554, 214.44444444444446)",
             "rgb(217.66666666666666, 232.55555555555554, 214.44444444444446)",
             "rgb(217.66666666666666, 232.55555555555554, 214.44444444444446)",
             "rgb(217.66666666666666, 232.55555555555554, 214.44444444444446)",
             "rgb(217.66666666666666, 232.55555555555554, 214.44444444444446)"
            ],
            [
             "rgb(177.0, 205.66666666666666, 169.33333333333331)",
             "rgb(197.33333333333334, 219.11111111111111, 191.88888888888889)",
             "rgb(197.33333333333334, 219.11111111111111, 191.88888888888889)",
             "rgb(197.33333333333334, 219.11111111111111, 191.88888888888889)",
             "rgb(217.66666666666666, 232.55555555555554, 214.44444444444446)",
             "rgb(217.66666666666666, 232.55555555555554, 214.44444444444446)",
             "rgb(217.66666666666666, 232.55555555555554, 214.44444444444446)",
             "rgb(217.66666666666666, 232.55555555555554, 214.44444444444446)",
             "rgb(217.66666666666666, 232.55555555555554, 214.44444444444446)",
             "rgb(217.66666666666666, 232.55555555555554, 214.44444444444446)"
            ]
           ]
          },
          "values": [
           [
            "model",
            "network",
            "deep",
            "learn",
            "task",
            "learning",
            "neural",
            "image",
            "datum",
            "train"
           ],
           [
            "datum",
            "learning",
            "algorithm",
            "learn",
            "problem",
            "sample",
            "function",
            "method",
            "example",
            "label"
           ],
           [
            "model",
            "university",
            "brain",
            "department",
            "neural",
            "analysis",
            "datum",
            "time",
            "information",
            "edu"
           ],
           [
            "model",
            "distribution",
            "inference",
            "datum",
            "generative",
            "gaussian",
            "gan",
            "process",
            "variable",
            "variational"
           ],
           [
            "network",
            "neural",
            "input",
            "learn",
            "output",
            "weight",
            "unit",
            "algorithm",
            "training",
            "function"
           ],
           [
            "neuron",
            "neural",
            "network",
            "system",
            "model",
            "cell",
            "analog",
            "t",
            "activity",
            "pattern"
           ],
           [
            "x",
            "problem",
            "n",
            "function",
            "algorithm",
            "t",
            "optimization",
            "matrix",
            "method",
            "k"
           ],
           [
            "learning",
            "policy",
            "algorithm",
            "reinforcement",
            "problem",
            "learn",
            "state",
            "agent",
            "control",
            "game"
           ],
           [
            "algorithm",
            "datum",
            "graph",
            "cluster",
            "node",
            "model",
            "problem",
            "k",
            "edu",
            "clustering"
           ],
           [
            "object",
            "visual",
            "image",
            "system",
            "model",
            "recognition",
            "information",
            "representation",
            "d",
            "human"
           ]
          ]
         },
         "header": {
          "fill": {
           "color": "rgb(220, 220, 220)"
          },
          "values": [
           "Topic 00",
           "Topic 01",
           "Topic 02",
           "Topic 03",
           "Topic 04",
           "Topic 05",
           "Topic 06",
           "Topic 07",
           "Topic 08",
           "Topic 09"
          ]
         },
         "type": "table"
        }
       ],
       "layout": {
        "template": {
         "data": {
          "bar": [
           {
            "error_x": {
             "color": "#2a3f5f"
            },
            "error_y": {
             "color": "#2a3f5f"
            },
            "marker": {
             "line": {
              "color": "#E5ECF6",
              "width": 0.5
             },
             "pattern": {
              "fillmode": "overlay",
              "size": 10,
              "solidity": 0.2
             }
            },
            "type": "bar"
           }
          ],
          "barpolar": [
           {
            "marker": {
             "line": {
              "color": "#E5ECF6",
              "width": 0.5
             },
             "pattern": {
              "fillmode": "overlay",
              "size": 10,
              "solidity": 0.2
             }
            },
            "type": "barpolar"
           }
          ],
          "carpet": [
           {
            "aaxis": {
             "endlinecolor": "#2a3f5f",
             "gridcolor": "white",
             "linecolor": "white",
             "minorgridcolor": "white",
             "startlinecolor": "#2a3f5f"
            },
            "baxis": {
             "endlinecolor": "#2a3f5f",
             "gridcolor": "white",
             "linecolor": "white",
             "minorgridcolor": "white",
             "startlinecolor": "#2a3f5f"
            },
            "type": "carpet"
           }
          ],
          "choropleth": [
           {
            "colorbar": {
             "outlinewidth": 0,
             "ticks": ""
            },
            "type": "choropleth"
           }
          ],
          "contour": [
           {
            "colorbar": {
             "outlinewidth": 0,
             "ticks": ""
            },
            "colorscale": [
             [
              0,
              "#0d0887"
             ],
             [
              0.1111111111111111,
              "#46039f"
             ],
             [
              0.2222222222222222,
              "#7201a8"
             ],
             [
              0.3333333333333333,
              "#9c179e"
             ],
             [
              0.4444444444444444,
              "#bd3786"
             ],
             [
              0.5555555555555556,
              "#d8576b"
             ],
             [
              0.6666666666666666,
              "#ed7953"
             ],
             [
              0.7777777777777778,
              "#fb9f3a"
             ],
             [
              0.8888888888888888,
              "#fdca26"
             ],
             [
              1,
              "#f0f921"
             ]
            ],
            "type": "contour"
           }
          ],
          "contourcarpet": [
           {
            "colorbar": {
             "outlinewidth": 0,
             "ticks": ""
            },
            "type": "contourcarpet"
           }
          ],
          "heatmap": [
           {
            "colorbar": {
             "outlinewidth": 0,
             "ticks": ""
            },
            "colorscale": [
             [
              0,
              "#0d0887"
             ],
             [
              0.1111111111111111,
              "#46039f"
             ],
             [
              0.2222222222222222,
              "#7201a8"
             ],
             [
              0.3333333333333333,
              "#9c179e"
             ],
             [
              0.4444444444444444,
              "#bd3786"
             ],
             [
              0.5555555555555556,
              "#d8576b"
             ],
             [
              0.6666666666666666,
              "#ed7953"
             ],
             [
              0.7777777777777778,
              "#fb9f3a"
             ],
             [
              0.8888888888888888,
              "#fdca26"
             ],
             [
              1,
              "#f0f921"
             ]
            ],
            "type": "heatmap"
           }
          ],
          "heatmapgl": [
           {
            "colorbar": {
             "outlinewidth": 0,
             "ticks": ""
            },
            "colorscale": [
             [
              0,
              "#0d0887"
             ],
             [
              0.1111111111111111,
              "#46039f"
             ],
             [
              0.2222222222222222,
              "#7201a8"
             ],
             [
              0.3333333333333333,
              "#9c179e"
             ],
             [
              0.4444444444444444,
              "#bd3786"
             ],
             [
              0.5555555555555556,
              "#d8576b"
             ],
             [
              0.6666666666666666,
              "#ed7953"
             ],
             [
              0.7777777777777778,
              "#fb9f3a"
             ],
             [
              0.8888888888888888,
              "#fdca26"
             ],
             [
              1,
              "#f0f921"
             ]
            ],
            "type": "heatmapgl"
           }
          ],
          "histogram": [
           {
            "marker": {
             "pattern": {
              "fillmode": "overlay",
              "size": 10,
              "solidity": 0.2
             }
            },
            "type": "histogram"
           }
          ],
          "histogram2d": [
           {
            "colorbar": {
             "outlinewidth": 0,
             "ticks": ""
            },
            "colorscale": [
             [
              0,
              "#0d0887"
             ],
             [
              0.1111111111111111,
              "#46039f"
             ],
             [
              0.2222222222222222,
              "#7201a8"
             ],
             [
              0.3333333333333333,
              "#9c179e"
             ],
             [
              0.4444444444444444,
              "#bd3786"
             ],
             [
              0.5555555555555556,
              "#d8576b"
             ],
             [
              0.6666666666666666,
              "#ed7953"
             ],
             [
              0.7777777777777778,
              "#fb9f3a"
             ],
             [
              0.8888888888888888,
              "#fdca26"
             ],
             [
              1,
              "#f0f921"
             ]
            ],
            "type": "histogram2d"
           }
          ],
          "histogram2dcontour": [
           {
            "colorbar": {
             "outlinewidth": 0,
             "ticks": ""
            },
            "colorscale": [
             [
              0,
              "#0d0887"
             ],
             [
              0.1111111111111111,
              "#46039f"
             ],
             [
              0.2222222222222222,
              "#7201a8"
             ],
             [
              0.3333333333333333,
              "#9c179e"
             ],
             [
              0.4444444444444444,
              "#bd3786"
             ],
             [
              0.5555555555555556,
              "#d8576b"
             ],
             [
              0.6666666666666666,
              "#ed7953"
             ],
             [
              0.7777777777777778,
              "#fb9f3a"
             ],
             [
              0.8888888888888888,
              "#fdca26"
             ],
             [
              1,
              "#f0f921"
             ]
            ],
            "type": "histogram2dcontour"
           }
          ],
          "mesh3d": [
           {
            "colorbar": {
             "outlinewidth": 0,
             "ticks": ""
            },
            "type": "mesh3d"
           }
          ],
          "parcoords": [
           {
            "line": {
             "colorbar": {
              "outlinewidth": 0,
              "ticks": ""
             }
            },
            "type": "parcoords"
           }
          ],
          "pie": [
           {
            "automargin": true,
            "type": "pie"
           }
          ],
          "scatter": [
           {
            "marker": {
             "colorbar": {
              "outlinewidth": 0,
              "ticks": ""
             }
            },
            "type": "scatter"
           }
          ],
          "scatter3d": [
           {
            "line": {
             "colorbar": {
              "outlinewidth": 0,
              "ticks": ""
             }
            },
            "marker": {
             "colorbar": {
              "outlinewidth": 0,
              "ticks": ""
             }
            },
            "type": "scatter3d"
           }
          ],
          "scattercarpet": [
           {
            "marker": {
             "colorbar": {
              "outlinewidth": 0,
              "ticks": ""
             }
            },
            "type": "scattercarpet"
           }
          ],
          "scattergeo": [
           {
            "marker": {
             "colorbar": {
              "outlinewidth": 0,
              "ticks": ""
             }
            },
            "type": "scattergeo"
           }
          ],
          "scattergl": [
           {
            "marker": {
             "colorbar": {
              "outlinewidth": 0,
              "ticks": ""
             }
            },
            "type": "scattergl"
           }
          ],
          "scattermapbox": [
           {
            "marker": {
             "colorbar": {
              "outlinewidth": 0,
              "ticks": ""
             }
            },
            "type": "scattermapbox"
           }
          ],
          "scatterpolar": [
           {
            "marker": {
             "colorbar": {
              "outlinewidth": 0,
              "ticks": ""
             }
            },
            "type": "scatterpolar"
           }
          ],
          "scatterpolargl": [
           {
            "marker": {
             "colorbar": {
              "outlinewidth": 0,
              "ticks": ""
             }
            },
            "type": "scatterpolargl"
           }
          ],
          "scatterternary": [
           {
            "marker": {
             "colorbar": {
              "outlinewidth": 0,
              "ticks": ""
             }
            },
            "type": "scatterternary"
           }
          ],
          "surface": [
           {
            "colorbar": {
             "outlinewidth": 0,
             "ticks": ""
            },
            "colorscale": [
             [
              0,
              "#0d0887"
             ],
             [
              0.1111111111111111,
              "#46039f"
             ],
             [
              0.2222222222222222,
              "#7201a8"
             ],
             [
              0.3333333333333333,
              "#9c179e"
             ],
             [
              0.4444444444444444,
              "#bd3786"
             ],
             [
              0.5555555555555556,
              "#d8576b"
             ],
             [
              0.6666666666666666,
              "#ed7953"
             ],
             [
              0.7777777777777778,
              "#fb9f3a"
             ],
             [
              0.8888888888888888,
              "#fdca26"
             ],
             [
              1,
              "#f0f921"
             ]
            ],
            "type": "surface"
           }
          ],
          "table": [
           {
            "cells": {
             "fill": {
              "color": "#EBF0F8"
             },
             "line": {
              "color": "white"
             }
            },
            "header": {
             "fill": {
              "color": "#C8D4E3"
             },
             "line": {
              "color": "white"
             }
            },
            "type": "table"
           }
          ]
         },
         "layout": {
          "annotationdefaults": {
           "arrowcolor": "#2a3f5f",
           "arrowhead": 0,
           "arrowwidth": 1
          },
          "autotypenumbers": "strict",
          "coloraxis": {
           "colorbar": {
            "outlinewidth": 0,
            "ticks": ""
           }
          },
          "colorscale": {
           "diverging": [
            [
             0,
             "#8e0152"
            ],
            [
             0.1,
             "#c51b7d"
            ],
            [
             0.2,
             "#de77ae"
            ],
            [
             0.3,
             "#f1b6da"
            ],
            [
             0.4,
             "#fde0ef"
            ],
            [
             0.5,
             "#f7f7f7"
            ],
            [
             0.6,
             "#e6f5d0"
            ],
            [
             0.7,
             "#b8e186"
            ],
            [
             0.8,
             "#7fbc41"
            ],
            [
             0.9,
             "#4d9221"
            ],
            [
             1,
             "#276419"
            ]
           ],
           "sequential": [
            [
             0,
             "#0d0887"
            ],
            [
             0.1111111111111111,
             "#46039f"
            ],
            [
             0.2222222222222222,
             "#7201a8"
            ],
            [
             0.3333333333333333,
             "#9c179e"
            ],
            [
             0.4444444444444444,
             "#bd3786"
            ],
            [
             0.5555555555555556,
             "#d8576b"
            ],
            [
             0.6666666666666666,
             "#ed7953"
            ],
            [
             0.7777777777777778,
             "#fb9f3a"
            ],
            [
             0.8888888888888888,
             "#fdca26"
            ],
            [
             1,
             "#f0f921"
            ]
           ],
           "sequentialminus": [
            [
             0,
             "#0d0887"
            ],
            [
             0.1111111111111111,
             "#46039f"
            ],
            [
             0.2222222222222222,
             "#7201a8"
            ],
            [
             0.3333333333333333,
             "#9c179e"
            ],
            [
             0.4444444444444444,
             "#bd3786"
            ],
            [
             0.5555555555555556,
             "#d8576b"
            ],
            [
             0.6666666666666666,
             "#ed7953"
            ],
            [
             0.7777777777777778,
             "#fb9f3a"
            ],
            [
             0.8888888888888888,
             "#fdca26"
            ],
            [
             1,
             "#f0f921"
            ]
           ]
          },
          "colorway": [
           "#636efa",
           "#EF553B",
           "#00cc96",
           "#ab63fa",
           "#FFA15A",
           "#19d3f3",
           "#FF6692",
           "#B6E880",
           "#FF97FF",
           "#FECB52"
          ],
          "font": {
           "color": "#2a3f5f"
          },
          "geo": {
           "bgcolor": "white",
           "lakecolor": "white",
           "landcolor": "#E5ECF6",
           "showlakes": true,
           "showland": true,
           "subunitcolor": "white"
          },
          "hoverlabel": {
           "align": "left"
          },
          "hovermode": "closest",
          "mapbox": {
           "style": "light"
          },
          "paper_bgcolor": "white",
          "plot_bgcolor": "#E5ECF6",
          "polar": {
           "angularaxis": {
            "gridcolor": "white",
            "linecolor": "white",
            "ticks": ""
           },
           "bgcolor": "#E5ECF6",
           "radialaxis": {
            "gridcolor": "white",
            "linecolor": "white",
            "ticks": ""
           }
          },
          "scene": {
           "xaxis": {
            "backgroundcolor": "#E5ECF6",
            "gridcolor": "white",
            "gridwidth": 2,
            "linecolor": "white",
            "showbackground": true,
            "ticks": "",
            "zerolinecolor": "white"
           },
           "yaxis": {
            "backgroundcolor": "#E5ECF6",
            "gridcolor": "white",
            "gridwidth": 2,
            "linecolor": "white",
            "showbackground": true,
            "ticks": "",
            "zerolinecolor": "white"
           },
           "zaxis": {
            "backgroundcolor": "#E5ECF6",
            "gridcolor": "white",
            "gridwidth": 2,
            "linecolor": "white",
            "showbackground": true,
            "ticks": "",
            "zerolinecolor": "white"
           }
          },
          "shapedefaults": {
           "line": {
            "color": "#2a3f5f"
           }
          },
          "ternary": {
           "aaxis": {
            "gridcolor": "white",
            "linecolor": "white",
            "ticks": ""
           },
           "baxis": {
            "gridcolor": "white",
            "linecolor": "white",
            "ticks": ""
           },
           "bgcolor": "#E5ECF6",
           "caxis": {
            "gridcolor": "white",
            "linecolor": "white",
            "ticks": ""
           }
          },
          "title": {
           "x": 0.05
          },
          "xaxis": {
           "automargin": true,
           "gridcolor": "white",
           "linecolor": "white",
           "ticks": "",
           "title": {
            "standoff": 15
           },
           "zerolinecolor": "white",
           "zerolinewidth": 2
          },
          "yaxis": {
           "automargin": true,
           "gridcolor": "white",
           "linecolor": "white",
           "ticks": "",
           "title": {
            "standoff": 15
           },
           "zerolinecolor": "white",
           "zerolinewidth": 2
          }
         }
        },
        "title": {
         "text": "Top words for the 10 topics"
        },
        "width": 1350
       }
      }
     },
     "metadata": {},
     "output_type": "display_data"
    },
    {
     "name": "stdout",
     "output_type": "stream",
     "text": [
      "Iter [350]===\n",
      "Topic 0: ['network', 'deep', 'model', 'task', 'learn', 'learning', 'neural', 'image', 'train', 'representation']\n",
      "Topic 1: ['datum', 'learning', 'algorithm', 'problem', 'learn', 'sample', 'function', 'training', 'label', 'set']\n",
      "Topic 2: ['university', 'model', 'analysis', 'department', 'brain', 'time', 'datum', 'edu', 'neural', 'prediction']\n",
      "Topic 3: ['model', 'distribution', 'inference', 'datum', 'sample', 'generative', 'gaussian', 'gan', 'process', 'variational']\n",
      "Topic 4: ['network', 'neural', 'input', 'weight', 'unit', 'learn', 'output', 'training', 'function', 'error']\n",
      "Topic 5: ['neuron', 'network', 'neural', 'system', 'model', 'cell', 'analog', 'pattern', 'study', 'information']\n",
      "Topic 6: ['x', 'problem', 'n', 'function', 'algorithm', 't', 'method', 'k', 'matrix', 'optimization']\n",
      "Topic 7: ['learning', 'algorithm', 'policy', 'reinforcement', 'problem', 'learn', 'state', 'agent', 'control', 'action']\n",
      "Topic 8: ['algorithm', 'graph', 'cluster', 'problem', 'datum', 'node', 'model', 'k', 'clustering', 'network']\n",
      "Topic 9: ['object', 'image', 'visual', 'system', 'model', 'recognition', 'information', 'd', 'input', 'representation']\n"
     ]
    },
    {
     "data": {
      "application/vnd.plotly.v1+json": {
       "config": {
        "plotlyServerURL": "https://plot.ly"
       },
       "data": [
        {
         "cells": {
          "fill": {
           "color": [
            [
             "rgb(177.0, 205.66666666666666, 169.33333333333331)",
             "rgb(197.33333333333334, 219.11111111111111, 191.88888888888889)",
             "rgb(197.33333333333334, 219.11111111111111, 191.88888888888889)",
             "rgb(197.33333333333334, 219.11111111111111, 191.88888888888889)",
             "rgb(197.33333333333334, 219.11111111111111, 191.88888888888889)",
             "rgb(197.33333333333334, 219.11111111111111, 191.88888888888889)",
             "rgb(197.33333333333334, 219.11111111111111, 191.88888888888889)",
             "rgb(197.33333333333334, 219.11111111111111, 191.88888888888889)",
             "rgb(217.66666666666666, 232.55555555555554, 214.44444444444446)",
             "rgb(217.66666666666666, 232.55555555555554, 214.44444444444446)"
            ],
            [
             "rgb(177.0, 205.66666666666666, 169.33333333333331)",
             "rgb(197.33333333333334, 219.11111111111111, 191.88888888888889)",
             "rgb(197.33333333333334, 219.11111111111111, 191.88888888888889)",
             "rgb(197.33333333333334, 219.11111111111111, 191.88888888888889)",
             "rgb(217.66666666666666, 232.55555555555554, 214.44444444444446)",
             "rgb(217.66666666666666, 232.55555555555554, 214.44444444444446)",
             "rgb(217.66666666666666, 232.55555555555554, 214.44444444444446)",
             "rgb(217.66666666666666, 232.55555555555554, 214.44444444444446)",
             "rgb(217.66666666666666, 232.55555555555554, 214.44444444444446)",
             "rgb(217.66666666666666, 232.55555555555554, 214.44444444444446)"
            ],
            [
             "rgb(197.33333333333334, 219.11111111111111, 191.88888888888889)",
             "rgb(197.33333333333334, 219.11111111111111, 191.88888888888889)",
             "rgb(217.66666666666666, 232.55555555555554, 214.44444444444446)",
             "rgb(217.66666666666666, 232.55555555555554, 214.44444444444446)",
             "rgb(217.66666666666666, 232.55555555555554, 214.44444444444446)",
             "rgb(217.66666666666666, 232.55555555555554, 214.44444444444446)",
             "rgb(217.66666666666666, 232.55555555555554, 214.44444444444446)",
             "rgb(217.66666666666666, 232.55555555555554, 214.44444444444446)",
             "rgb(217.66666666666666, 232.55555555555554, 214.44444444444446)",
             "rgb(217.66666666666666, 232.55555555555554, 214.44444444444446)"
            ],
            [
             "rgb(95.66666666666669, 151.88888888888889, 79.11111111111109)",
             "rgb(156.66666666666669, 192.22222222222223, 146.77777777777777)",
             "rgb(197.33333333333334, 219.11111111111111, 191.88888888888889)",
             "rgb(197.33333333333334, 219.11111111111111, 191.88888888888889)",
             "rgb(217.66666666666666, 232.55555555555554, 214.44444444444446)",
             "rgb(217.66666666666666, 232.55555555555554, 214.44444444444446)",
             "rgb(217.66666666666666, 232.55555555555554, 214.44444444444446)",
             "rgb(217.66666666666666, 232.55555555555554, 214.44444444444446)",
             "rgb(217.66666666666666, 232.55555555555554, 214.44444444444446)",
             "rgb(217.66666666666666, 232.55555555555554, 214.44444444444446)"
            ],
            [
             "rgb(95.66666666666669, 151.88888888888889, 79.11111111111109)",
             "rgb(177.0, 205.66666666666666, 169.33333333333331)",
             "rgb(197.33333333333334, 219.11111111111111, 191.88888888888889)",
             "rgb(217.66666666666666, 232.55555555555554, 214.44444444444446)",
             "rgb(217.66666666666666, 232.55555555555554, 214.44444444444446)",
             "rgb(217.66666666666666, 232.55555555555554, 214.44444444444446)",
             "rgb(217.66666666666666, 232.55555555555554, 214.44444444444446)",
             "rgb(217.66666666666666, 232.55555555555554, 214.44444444444446)",
             "rgb(217.66666666666666, 232.55555555555554, 214.44444444444446)",
             "rgb(217.66666666666666, 232.55555555555554, 214.44444444444446)"
            ],
            [
             "rgb(177.0, 205.66666666666666, 169.33333333333331)",
             "rgb(197.33333333333334, 219.11111111111111, 191.88888888888889)",
             "rgb(197.33333333333334, 219.11111111111111, 191.88888888888889)",
             "rgb(197.33333333333334, 219.11111111111111, 191.88888888888889)",
             "rgb(197.33333333333334, 219.11111111111111, 191.88888888888889)",
             "rgb(197.33333333333334, 219.11111111111111, 191.88888888888889)",
             "rgb(217.66666666666666, 232.55555555555554, 214.44444444444446)",
             "rgb(217.66666666666666, 232.55555555555554, 214.44444444444446)",
             "rgb(238.0, 246.0, 237.0)",
             "rgb(238.0, 246.0, 237.0)"
            ],
            [
             "rgb(177.0, 205.66666666666666, 169.33333333333331)",
             "rgb(197.33333333333334, 219.11111111111111, 191.88888888888889)",
             "rgb(197.33333333333334, 219.11111111111111, 191.88888888888889)",
             "rgb(197.33333333333334, 219.11111111111111, 191.88888888888889)",
             "rgb(197.33333333333334, 219.11111111111111, 191.88888888888889)",
             "rgb(197.33333333333334, 219.11111111111111, 191.88888888888889)",
             "rgb(217.66666666666666, 232.55555555555554, 214.44444444444446)",
             "rgb(217.66666666666666, 232.55555555555554, 214.44444444444446)",
             "rgb(217.66666666666666, 232.55555555555554, 214.44444444444446)",
             "rgb(217.66666666666666, 232.55555555555554, 214.44444444444446)"
            ],
            [
             "rgb(177.0, 205.66666666666666, 169.33333333333331)",
             "rgb(197.33333333333334, 219.11111111111111, 191.88888888888889)",
             "rgb(197.33333333333334, 219.11111111111111, 191.88888888888889)",
             "rgb(197.33333333333334, 219.11111111111111, 191.88888888888889)",
             "rgb(197.33333333333334, 219.11111111111111, 191.88888888888889)",
             "rgb(217.66666666666666, 232.55555555555554, 214.44444444444446)",
             "rgb(217.66666666666666, 232.55555555555554, 214.44444444444446)",
             "rgb(217.66666666666666, 232.55555555555554, 214.44444444444446)",
             "rgb(217.66666666666666, 232.55555555555554, 214.44444444444446)",
             "rgb(217.66666666666666, 232.55555555555554, 214.44444444444446)"
            ],
            [
             "rgb(177.0, 205.66666666666666, 169.33333333333331)",
             "rgb(197.33333333333334, 219.11111111111111, 191.88888888888889)",
             "rgb(217.66666666666666, 232.55555555555554, 214.44444444444446)",
             "rgb(217.66666666666666, 232.55555555555554, 214.44444444444446)",
             "rgb(217.66666666666666, 232.55555555555554, 214.44444444444446)",
             "rgb(217.66666666666666, 232.55555555555554, 214.44444444444446)",
             "rgb(217.66666666666666, 232.55555555555554, 214.44444444444446)",
             "rgb(217.66666666666666, 232.55555555555554, 214.44444444444446)",
             "rgb(217.66666666666666, 232.55555555555554, 214.44444444444446)",
             "rgb(217.66666666666666, 232.55555555555554, 214.44444444444446)"
            ],
            [
             "rgb(177.0, 205.66666666666666, 169.33333333333331)",
             "rgb(197.33333333333334, 219.11111111111111, 191.88888888888889)",
             "rgb(197.33333333333334, 219.11111111111111, 191.88888888888889)",
             "rgb(197.33333333333334, 219.11111111111111, 191.88888888888889)",
             "rgb(197.33333333333334, 219.11111111111111, 191.88888888888889)",
             "rgb(217.66666666666666, 232.55555555555554, 214.44444444444446)",
             "rgb(217.66666666666666, 232.55555555555554, 214.44444444444446)",
             "rgb(217.66666666666666, 232.55555555555554, 214.44444444444446)",
             "rgb(217.66666666666666, 232.55555555555554, 214.44444444444446)",
             "rgb(217.66666666666666, 232.55555555555554, 214.44444444444446)"
            ]
           ]
          },
          "values": [
           [
            "network",
            "deep",
            "model",
            "task",
            "learn",
            "learning",
            "neural",
            "image",
            "train",
            "representation"
           ],
           [
            "datum",
            "learning",
            "algorithm",
            "problem",
            "learn",
            "sample",
            "function",
            "training",
            "label",
            "set"
           ],
           [
            "university",
            "model",
            "analysis",
            "department",
            "brain",
            "time",
            "datum",
            "edu",
            "neural",
            "prediction"
           ],
           [
            "model",
            "distribution",
            "inference",
            "datum",
            "sample",
            "generative",
            "gaussian",
            "gan",
            "process",
            "variational"
           ],
           [
            "network",
            "neural",
            "input",
            "weight",
            "unit",
            "learn",
            "output",
            "training",
            "function",
            "error"
           ],
           [
            "neuron",
            "network",
            "neural",
            "system",
            "model",
            "cell",
            "analog",
            "pattern",
            "study",
            "information"
           ],
           [
            "x",
            "problem",
            "n",
            "function",
            "algorithm",
            "t",
            "method",
            "k",
            "matrix",
            "optimization"
           ],
           [
            "learning",
            "algorithm",
            "policy",
            "reinforcement",
            "problem",
            "learn",
            "state",
            "agent",
            "control",
            "action"
           ],
           [
            "algorithm",
            "graph",
            "cluster",
            "problem",
            "datum",
            "node",
            "model",
            "k",
            "clustering",
            "network"
           ],
           [
            "object",
            "image",
            "visual",
            "system",
            "model",
            "recognition",
            "information",
            "d",
            "input",
            "representation"
           ]
          ]
         },
         "header": {
          "fill": {
           "color": "rgb(220, 220, 220)"
          },
          "values": [
           "Topic 00",
           "Topic 01",
           "Topic 02",
           "Topic 03",
           "Topic 04",
           "Topic 05",
           "Topic 06",
           "Topic 07",
           "Topic 08",
           "Topic 09"
          ]
         },
         "type": "table"
        }
       ],
       "layout": {
        "template": {
         "data": {
          "bar": [
           {
            "error_x": {
             "color": "#2a3f5f"
            },
            "error_y": {
             "color": "#2a3f5f"
            },
            "marker": {
             "line": {
              "color": "#E5ECF6",
              "width": 0.5
             },
             "pattern": {
              "fillmode": "overlay",
              "size": 10,
              "solidity": 0.2
             }
            },
            "type": "bar"
           }
          ],
          "barpolar": [
           {
            "marker": {
             "line": {
              "color": "#E5ECF6",
              "width": 0.5
             },
             "pattern": {
              "fillmode": "overlay",
              "size": 10,
              "solidity": 0.2
             }
            },
            "type": "barpolar"
           }
          ],
          "carpet": [
           {
            "aaxis": {
             "endlinecolor": "#2a3f5f",
             "gridcolor": "white",
             "linecolor": "white",
             "minorgridcolor": "white",
             "startlinecolor": "#2a3f5f"
            },
            "baxis": {
             "endlinecolor": "#2a3f5f",
             "gridcolor": "white",
             "linecolor": "white",
             "minorgridcolor": "white",
             "startlinecolor": "#2a3f5f"
            },
            "type": "carpet"
           }
          ],
          "choropleth": [
           {
            "colorbar": {
             "outlinewidth": 0,
             "ticks": ""
            },
            "type": "choropleth"
           }
          ],
          "contour": [
           {
            "colorbar": {
             "outlinewidth": 0,
             "ticks": ""
            },
            "colorscale": [
             [
              0,
              "#0d0887"
             ],
             [
              0.1111111111111111,
              "#46039f"
             ],
             [
              0.2222222222222222,
              "#7201a8"
             ],
             [
              0.3333333333333333,
              "#9c179e"
             ],
             [
              0.4444444444444444,
              "#bd3786"
             ],
             [
              0.5555555555555556,
              "#d8576b"
             ],
             [
              0.6666666666666666,
              "#ed7953"
             ],
             [
              0.7777777777777778,
              "#fb9f3a"
             ],
             [
              0.8888888888888888,
              "#fdca26"
             ],
             [
              1,
              "#f0f921"
             ]
            ],
            "type": "contour"
           }
          ],
          "contourcarpet": [
           {
            "colorbar": {
             "outlinewidth": 0,
             "ticks": ""
            },
            "type": "contourcarpet"
           }
          ],
          "heatmap": [
           {
            "colorbar": {
             "outlinewidth": 0,
             "ticks": ""
            },
            "colorscale": [
             [
              0,
              "#0d0887"
             ],
             [
              0.1111111111111111,
              "#46039f"
             ],
             [
              0.2222222222222222,
              "#7201a8"
             ],
             [
              0.3333333333333333,
              "#9c179e"
             ],
             [
              0.4444444444444444,
              "#bd3786"
             ],
             [
              0.5555555555555556,
              "#d8576b"
             ],
             [
              0.6666666666666666,
              "#ed7953"
             ],
             [
              0.7777777777777778,
              "#fb9f3a"
             ],
             [
              0.8888888888888888,
              "#fdca26"
             ],
             [
              1,
              "#f0f921"
             ]
            ],
            "type": "heatmap"
           }
          ],
          "heatmapgl": [
           {
            "colorbar": {
             "outlinewidth": 0,
             "ticks": ""
            },
            "colorscale": [
             [
              0,
              "#0d0887"
             ],
             [
              0.1111111111111111,
              "#46039f"
             ],
             [
              0.2222222222222222,
              "#7201a8"
             ],
             [
              0.3333333333333333,
              "#9c179e"
             ],
             [
              0.4444444444444444,
              "#bd3786"
             ],
             [
              0.5555555555555556,
              "#d8576b"
             ],
             [
              0.6666666666666666,
              "#ed7953"
             ],
             [
              0.7777777777777778,
              "#fb9f3a"
             ],
             [
              0.8888888888888888,
              "#fdca26"
             ],
             [
              1,
              "#f0f921"
             ]
            ],
            "type": "heatmapgl"
           }
          ],
          "histogram": [
           {
            "marker": {
             "pattern": {
              "fillmode": "overlay",
              "size": 10,
              "solidity": 0.2
             }
            },
            "type": "histogram"
           }
          ],
          "histogram2d": [
           {
            "colorbar": {
             "outlinewidth": 0,
             "ticks": ""
            },
            "colorscale": [
             [
              0,
              "#0d0887"
             ],
             [
              0.1111111111111111,
              "#46039f"
             ],
             [
              0.2222222222222222,
              "#7201a8"
             ],
             [
              0.3333333333333333,
              "#9c179e"
             ],
             [
              0.4444444444444444,
              "#bd3786"
             ],
             [
              0.5555555555555556,
              "#d8576b"
             ],
             [
              0.6666666666666666,
              "#ed7953"
             ],
             [
              0.7777777777777778,
              "#fb9f3a"
             ],
             [
              0.8888888888888888,
              "#fdca26"
             ],
             [
              1,
              "#f0f921"
             ]
            ],
            "type": "histogram2d"
           }
          ],
          "histogram2dcontour": [
           {
            "colorbar": {
             "outlinewidth": 0,
             "ticks": ""
            },
            "colorscale": [
             [
              0,
              "#0d0887"
             ],
             [
              0.1111111111111111,
              "#46039f"
             ],
             [
              0.2222222222222222,
              "#7201a8"
             ],
             [
              0.3333333333333333,
              "#9c179e"
             ],
             [
              0.4444444444444444,
              "#bd3786"
             ],
             [
              0.5555555555555556,
              "#d8576b"
             ],
             [
              0.6666666666666666,
              "#ed7953"
             ],
             [
              0.7777777777777778,
              "#fb9f3a"
             ],
             [
              0.8888888888888888,
              "#fdca26"
             ],
             [
              1,
              "#f0f921"
             ]
            ],
            "type": "histogram2dcontour"
           }
          ],
          "mesh3d": [
           {
            "colorbar": {
             "outlinewidth": 0,
             "ticks": ""
            },
            "type": "mesh3d"
           }
          ],
          "parcoords": [
           {
            "line": {
             "colorbar": {
              "outlinewidth": 0,
              "ticks": ""
             }
            },
            "type": "parcoords"
           }
          ],
          "pie": [
           {
            "automargin": true,
            "type": "pie"
           }
          ],
          "scatter": [
           {
            "marker": {
             "colorbar": {
              "outlinewidth": 0,
              "ticks": ""
             }
            },
            "type": "scatter"
           }
          ],
          "scatter3d": [
           {
            "line": {
             "colorbar": {
              "outlinewidth": 0,
              "ticks": ""
             }
            },
            "marker": {
             "colorbar": {
              "outlinewidth": 0,
              "ticks": ""
             }
            },
            "type": "scatter3d"
           }
          ],
          "scattercarpet": [
           {
            "marker": {
             "colorbar": {
              "outlinewidth": 0,
              "ticks": ""
             }
            },
            "type": "scattercarpet"
           }
          ],
          "scattergeo": [
           {
            "marker": {
             "colorbar": {
              "outlinewidth": 0,
              "ticks": ""
             }
            },
            "type": "scattergeo"
           }
          ],
          "scattergl": [
           {
            "marker": {
             "colorbar": {
              "outlinewidth": 0,
              "ticks": ""
             }
            },
            "type": "scattergl"
           }
          ],
          "scattermapbox": [
           {
            "marker": {
             "colorbar": {
              "outlinewidth": 0,
              "ticks": ""
             }
            },
            "type": "scattermapbox"
           }
          ],
          "scatterpolar": [
           {
            "marker": {
             "colorbar": {
              "outlinewidth": 0,
              "ticks": ""
             }
            },
            "type": "scatterpolar"
           }
          ],
          "scatterpolargl": [
           {
            "marker": {
             "colorbar": {
              "outlinewidth": 0,
              "ticks": ""
             }
            },
            "type": "scatterpolargl"
           }
          ],
          "scatterternary": [
           {
            "marker": {
             "colorbar": {
              "outlinewidth": 0,
              "ticks": ""
             }
            },
            "type": "scatterternary"
           }
          ],
          "surface": [
           {
            "colorbar": {
             "outlinewidth": 0,
             "ticks": ""
            },
            "colorscale": [
             [
              0,
              "#0d0887"
             ],
             [
              0.1111111111111111,
              "#46039f"
             ],
             [
              0.2222222222222222,
              "#7201a8"
             ],
             [
              0.3333333333333333,
              "#9c179e"
             ],
             [
              0.4444444444444444,
              "#bd3786"
             ],
             [
              0.5555555555555556,
              "#d8576b"
             ],
             [
              0.6666666666666666,
              "#ed7953"
             ],
             [
              0.7777777777777778,
              "#fb9f3a"
             ],
             [
              0.8888888888888888,
              "#fdca26"
             ],
             [
              1,
              "#f0f921"
             ]
            ],
            "type": "surface"
           }
          ],
          "table": [
           {
            "cells": {
             "fill": {
              "color": "#EBF0F8"
             },
             "line": {
              "color": "white"
             }
            },
            "header": {
             "fill": {
              "color": "#C8D4E3"
             },
             "line": {
              "color": "white"
             }
            },
            "type": "table"
           }
          ]
         },
         "layout": {
          "annotationdefaults": {
           "arrowcolor": "#2a3f5f",
           "arrowhead": 0,
           "arrowwidth": 1
          },
          "autotypenumbers": "strict",
          "coloraxis": {
           "colorbar": {
            "outlinewidth": 0,
            "ticks": ""
           }
          },
          "colorscale": {
           "diverging": [
            [
             0,
             "#8e0152"
            ],
            [
             0.1,
             "#c51b7d"
            ],
            [
             0.2,
             "#de77ae"
            ],
            [
             0.3,
             "#f1b6da"
            ],
            [
             0.4,
             "#fde0ef"
            ],
            [
             0.5,
             "#f7f7f7"
            ],
            [
             0.6,
             "#e6f5d0"
            ],
            [
             0.7,
             "#b8e186"
            ],
            [
             0.8,
             "#7fbc41"
            ],
            [
             0.9,
             "#4d9221"
            ],
            [
             1,
             "#276419"
            ]
           ],
           "sequential": [
            [
             0,
             "#0d0887"
            ],
            [
             0.1111111111111111,
             "#46039f"
            ],
            [
             0.2222222222222222,
             "#7201a8"
            ],
            [
             0.3333333333333333,
             "#9c179e"
            ],
            [
             0.4444444444444444,
             "#bd3786"
            ],
            [
             0.5555555555555556,
             "#d8576b"
            ],
            [
             0.6666666666666666,
             "#ed7953"
            ],
            [
             0.7777777777777778,
             "#fb9f3a"
            ],
            [
             0.8888888888888888,
             "#fdca26"
            ],
            [
             1,
             "#f0f921"
            ]
           ],
           "sequentialminus": [
            [
             0,
             "#0d0887"
            ],
            [
             0.1111111111111111,
             "#46039f"
            ],
            [
             0.2222222222222222,
             "#7201a8"
            ],
            [
             0.3333333333333333,
             "#9c179e"
            ],
            [
             0.4444444444444444,
             "#bd3786"
            ],
            [
             0.5555555555555556,
             "#d8576b"
            ],
            [
             0.6666666666666666,
             "#ed7953"
            ],
            [
             0.7777777777777778,
             "#fb9f3a"
            ],
            [
             0.8888888888888888,
             "#fdca26"
            ],
            [
             1,
             "#f0f921"
            ]
           ]
          },
          "colorway": [
           "#636efa",
           "#EF553B",
           "#00cc96",
           "#ab63fa",
           "#FFA15A",
           "#19d3f3",
           "#FF6692",
           "#B6E880",
           "#FF97FF",
           "#FECB52"
          ],
          "font": {
           "color": "#2a3f5f"
          },
          "geo": {
           "bgcolor": "white",
           "lakecolor": "white",
           "landcolor": "#E5ECF6",
           "showlakes": true,
           "showland": true,
           "subunitcolor": "white"
          },
          "hoverlabel": {
           "align": "left"
          },
          "hovermode": "closest",
          "mapbox": {
           "style": "light"
          },
          "paper_bgcolor": "white",
          "plot_bgcolor": "#E5ECF6",
          "polar": {
           "angularaxis": {
            "gridcolor": "white",
            "linecolor": "white",
            "ticks": ""
           },
           "bgcolor": "#E5ECF6",
           "radialaxis": {
            "gridcolor": "white",
            "linecolor": "white",
            "ticks": ""
           }
          },
          "scene": {
           "xaxis": {
            "backgroundcolor": "#E5ECF6",
            "gridcolor": "white",
            "gridwidth": 2,
            "linecolor": "white",
            "showbackground": true,
            "ticks": "",
            "zerolinecolor": "white"
           },
           "yaxis": {
            "backgroundcolor": "#E5ECF6",
            "gridcolor": "white",
            "gridwidth": 2,
            "linecolor": "white",
            "showbackground": true,
            "ticks": "",
            "zerolinecolor": "white"
           },
           "zaxis": {
            "backgroundcolor": "#E5ECF6",
            "gridcolor": "white",
            "gridwidth": 2,
            "linecolor": "white",
            "showbackground": true,
            "ticks": "",
            "zerolinecolor": "white"
           }
          },
          "shapedefaults": {
           "line": {
            "color": "#2a3f5f"
           }
          },
          "ternary": {
           "aaxis": {
            "gridcolor": "white",
            "linecolor": "white",
            "ticks": ""
           },
           "baxis": {
            "gridcolor": "white",
            "linecolor": "white",
            "ticks": ""
           },
           "bgcolor": "#E5ECF6",
           "caxis": {
            "gridcolor": "white",
            "linecolor": "white",
            "ticks": ""
           }
          },
          "title": {
           "x": 0.05
          },
          "xaxis": {
           "automargin": true,
           "gridcolor": "white",
           "linecolor": "white",
           "ticks": "",
           "title": {
            "standoff": 15
           },
           "zerolinecolor": "white",
           "zerolinewidth": 2
          },
          "yaxis": {
           "automargin": true,
           "gridcolor": "white",
           "linecolor": "white",
           "ticks": "",
           "title": {
            "standoff": 15
           },
           "zerolinecolor": "white",
           "zerolinewidth": 2
          }
         }
        },
        "title": {
         "text": "Top words for the 10 topics"
        },
        "width": 1350
       }
      }
     },
     "metadata": {},
     "output_type": "display_data"
    },
    {
     "name": "stdout",
     "output_type": "stream",
     "text": [
      "Iter [400]===\n",
      "Topic 0: ['deep', 'network', 'model', 'learning', 'task', 'learn', 'image', 'neural', 'method', 'datum']\n",
      "Topic 1: ['datum', 'learning', 'algorithm', 'problem', 'learn', 'sample', 'label', 'example', 'class', 'training']\n",
      "Topic 2: ['model', 'university', 'time', 'department', 'analysis', 'neural', 'brain', 'edu', 'datum', 'structure']\n",
      "Topic 3: ['model', 'distribution', 'inference', 'datum', 'generative', 'gaussian', 'sample', 'gan', 'process', 'university']\n",
      "Topic 4: ['network', 'neural', 'input', 'output', 'weight', 'unit', 'learn', 'training', 'function', 'state']\n",
      "Topic 5: ['neuron', 'neural', 'network', 'model', 'cell', 'system', 'analog', 'information', 'abstract', 'pattern']\n",
      "Topic 6: ['x', 'problem', 'n', 'function', 'algorithm', 'optimization', 't', 'method', 'matrix', 'k']\n",
      "Topic 7: ['learning', 'policy', 'algorithm', 'reinforcement', 'problem', 'learn', 'agent', 'state', 'action', 'game']\n",
      "Topic 8: ['algorithm', 'datum', 'graph', 'cluster', 'problem', 'node', 'model', 'edu', 'set', 'k']\n",
      "Topic 9: ['object', 'visual', 'image', 'system', 'model', 'recognition', 'information', 'representation', 'human', 'problem']\n"
     ]
    },
    {
     "data": {
      "application/vnd.plotly.v1+json": {
       "config": {
        "plotlyServerURL": "https://plot.ly"
       },
       "data": [
        {
         "cells": {
          "fill": {
           "color": [
            [
             "rgb(197.33333333333334, 219.11111111111111, 191.88888888888889)",
             "rgb(197.33333333333334, 219.11111111111111, 191.88888888888889)",
             "rgb(197.33333333333334, 219.11111111111111, 191.88888888888889)",
             "rgb(197.33333333333334, 219.11111111111111, 191.88888888888889)",
             "rgb(197.33333333333334, 219.11111111111111, 191.88888888888889)",
             "rgb(197.33333333333334, 219.11111111111111, 191.88888888888889)",
             "rgb(197.33333333333334, 219.11111111111111, 191.88888888888889)",
             "rgb(197.33333333333334, 219.11111111111111, 191.88888888888889)",
             "rgb(217.66666666666666, 232.55555555555554, 214.44444444444446)",
             "rgb(217.66666666666666, 232.55555555555554, 214.44444444444446)"
            ],
            [
             "rgb(177.0, 205.66666666666666, 169.33333333333331)",
             "rgb(197.33333333333334, 219.11111111111111, 191.88888888888889)",
             "rgb(197.33333333333334, 219.11111111111111, 191.88888888888889)",
             "rgb(217.66666666666666, 232.55555555555554, 214.44444444444446)",
             "rgb(217.66666666666666, 232.55555555555554, 214.44444444444446)",
             "rgb(217.66666666666666, 232.55555555555554, 214.44444444444446)",
             "rgb(217.66666666666666, 232.55555555555554, 214.44444444444446)",
             "rgb(217.66666666666666, 232.55555555555554, 214.44444444444446)",
             "rgb(217.66666666666666, 232.55555555555554, 214.44444444444446)",
             "rgb(217.66666666666666, 232.55555555555554, 214.44444444444446)"
            ],
            [
             "rgb(177.0, 205.66666666666666, 169.33333333333331)",
             "rgb(197.33333333333334, 219.11111111111111, 191.88888888888889)",
             "rgb(217.66666666666666, 232.55555555555554, 214.44444444444446)",
             "rgb(217.66666666666666, 232.55555555555554, 214.44444444444446)",
             "rgb(217.66666666666666, 232.55555555555554, 214.44444444444446)",
             "rgb(217.66666666666666, 232.55555555555554, 214.44444444444446)",
             "rgb(217.66666666666666, 232.55555555555554, 214.44444444444446)",
             "rgb(217.66666666666666, 232.55555555555554, 214.44444444444446)",
             "rgb(217.66666666666666, 232.55555555555554, 214.44444444444446)",
             "rgb(217.66666666666666, 232.55555555555554, 214.44444444444446)"
            ],
            [
             "rgb(95.66666666666669, 151.88888888888889, 79.11111111111109)",
             "rgb(156.66666666666669, 192.22222222222223, 146.77777777777777)",
             "rgb(197.33333333333334, 219.11111111111111, 191.88888888888889)",
             "rgb(197.33333333333334, 219.11111111111111, 191.88888888888889)",
             "rgb(217.66666666666666, 232.55555555555554, 214.44444444444446)",
             "rgb(217.66666666666666, 232.55555555555554, 214.44444444444446)",
             "rgb(217.66666666666666, 232.55555555555554, 214.44444444444446)",
             "rgb(217.66666666666666, 232.55555555555554, 214.44444444444446)",
             "rgb(217.66666666666666, 232.55555555555554, 214.44444444444446)",
             "rgb(217.66666666666666, 232.55555555555554, 214.44444444444446)"
            ],
            [
             "rgb(75.33333333333334, 138.44444444444446, 56.55555555555554)",
             "rgb(177.0, 205.66666666666666, 169.33333333333331)",
             "rgb(197.33333333333334, 219.11111111111111, 191.88888888888889)",
             "rgb(217.66666666666666, 232.55555555555554, 214.44444444444446)",
             "rgb(217.66666666666666, 232.55555555555554, 214.44444444444446)",
             "rgb(217.66666666666666, 232.55555555555554, 214.44444444444446)",
             "rgb(217.66666666666666, 232.55555555555554, 214.44444444444446)",
             "rgb(217.66666666666666, 232.55555555555554, 214.44444444444446)",
             "rgb(217.66666666666666, 232.55555555555554, 214.44444444444446)",
             "rgb(217.66666666666666, 232.55555555555554, 214.44444444444446)"
            ],
            [
             "rgb(177.0, 205.66666666666666, 169.33333333333331)",
             "rgb(197.33333333333334, 219.11111111111111, 191.88888888888889)",
             "rgb(197.33333333333334, 219.11111111111111, 191.88888888888889)",
             "rgb(197.33333333333334, 219.11111111111111, 191.88888888888889)",
             "rgb(217.66666666666666, 232.55555555555554, 214.44444444444446)",
             "rgb(217.66666666666666, 232.55555555555554, 214.44444444444446)",
             "rgb(217.66666666666666, 232.55555555555554, 214.44444444444446)",
             "rgb(217.66666666666666, 232.55555555555554, 214.44444444444446)",
             "rgb(217.66666666666666, 232.55555555555554, 214.44444444444446)",
             "rgb(238.0, 246.0, 237.0)"
            ],
            [
             "rgb(177.0, 205.66666666666666, 169.33333333333331)",
             "rgb(197.33333333333334, 219.11111111111111, 191.88888888888889)",
             "rgb(197.33333333333334, 219.11111111111111, 191.88888888888889)",
             "rgb(197.33333333333334, 219.11111111111111, 191.88888888888889)",
             "rgb(197.33333333333334, 219.11111111111111, 191.88888888888889)",
             "rgb(197.33333333333334, 219.11111111111111, 191.88888888888889)",
             "rgb(217.66666666666666, 232.55555555555554, 214.44444444444446)",
             "rgb(217.66666666666666, 232.55555555555554, 214.44444444444446)",
             "rgb(217.66666666666666, 232.55555555555554, 214.44444444444446)",
             "rgb(217.66666666666666, 232.55555555555554, 214.44444444444446)"
            ],
            [
             "rgb(177.0, 205.66666666666666, 169.33333333333331)",
             "rgb(197.33333333333334, 219.11111111111111, 191.88888888888889)",
             "rgb(197.33333333333334, 219.11111111111111, 191.88888888888889)",
             "rgb(197.33333333333334, 219.11111111111111, 191.88888888888889)",
             "rgb(217.66666666666666, 232.55555555555554, 214.44444444444446)",
             "rgb(217.66666666666666, 232.55555555555554, 214.44444444444446)",
             "rgb(217.66666666666666, 232.55555555555554, 214.44444444444446)",
             "rgb(217.66666666666666, 232.55555555555554, 214.44444444444446)",
             "rgb(217.66666666666666, 232.55555555555554, 214.44444444444446)",
             "rgb(217.66666666666666, 232.55555555555554, 214.44444444444446)"
            ],
            [
             "rgb(177.0, 205.66666666666666, 169.33333333333331)",
             "rgb(197.33333333333334, 219.11111111111111, 191.88888888888889)",
             "rgb(197.33333333333334, 219.11111111111111, 191.88888888888889)",
             "rgb(217.66666666666666, 232.55555555555554, 214.44444444444446)",
             "rgb(217.66666666666666, 232.55555555555554, 214.44444444444446)",
             "rgb(217.66666666666666, 232.55555555555554, 214.44444444444446)",
             "rgb(217.66666666666666, 232.55555555555554, 214.44444444444446)",
             "rgb(217.66666666666666, 232.55555555555554, 214.44444444444446)",
             "rgb(217.66666666666666, 232.55555555555554, 214.44444444444446)",
             "rgb(217.66666666666666, 232.55555555555554, 214.44444444444446)"
            ],
            [
             "rgb(177.0, 205.66666666666666, 169.33333333333331)",
             "rgb(197.33333333333334, 219.11111111111111, 191.88888888888889)",
             "rgb(197.33333333333334, 219.11111111111111, 191.88888888888889)",
             "rgb(197.33333333333334, 219.11111111111111, 191.88888888888889)",
             "rgb(217.66666666666666, 232.55555555555554, 214.44444444444446)",
             "rgb(217.66666666666666, 232.55555555555554, 214.44444444444446)",
             "rgb(217.66666666666666, 232.55555555555554, 214.44444444444446)",
             "rgb(217.66666666666666, 232.55555555555554, 214.44444444444446)",
             "rgb(217.66666666666666, 232.55555555555554, 214.44444444444446)",
             "rgb(217.66666666666666, 232.55555555555554, 214.44444444444446)"
            ]
           ]
          },
          "values": [
           [
            "deep",
            "network",
            "model",
            "learning",
            "task",
            "learn",
            "image",
            "neural",
            "method",
            "datum"
           ],
           [
            "datum",
            "learning",
            "algorithm",
            "problem",
            "learn",
            "sample",
            "label",
            "example",
            "class",
            "training"
           ],
           [
            "model",
            "university",
            "time",
            "department",
            "analysis",
            "neural",
            "brain",
            "edu",
            "datum",
            "structure"
           ],
           [
            "model",
            "distribution",
            "inference",
            "datum",
            "generative",
            "gaussian",
            "sample",
            "gan",
            "process",
            "university"
           ],
           [
            "network",
            "neural",
            "input",
            "output",
            "weight",
            "unit",
            "learn",
            "training",
            "function",
            "state"
           ],
           [
            "neuron",
            "neural",
            "network",
            "model",
            "cell",
            "system",
            "analog",
            "information",
            "abstract",
            "pattern"
           ],
           [
            "x",
            "problem",
            "n",
            "function",
            "algorithm",
            "optimization",
            "t",
            "method",
            "matrix",
            "k"
           ],
           [
            "learning",
            "policy",
            "algorithm",
            "reinforcement",
            "problem",
            "learn",
            "agent",
            "state",
            "action",
            "game"
           ],
           [
            "algorithm",
            "datum",
            "graph",
            "cluster",
            "problem",
            "node",
            "model",
            "edu",
            "set",
            "k"
           ],
           [
            "object",
            "visual",
            "image",
            "system",
            "model",
            "recognition",
            "information",
            "representation",
            "human",
            "problem"
           ]
          ]
         },
         "header": {
          "fill": {
           "color": "rgb(220, 220, 220)"
          },
          "values": [
           "Topic 00",
           "Topic 01",
           "Topic 02",
           "Topic 03",
           "Topic 04",
           "Topic 05",
           "Topic 06",
           "Topic 07",
           "Topic 08",
           "Topic 09"
          ]
         },
         "type": "table"
        }
       ],
       "layout": {
        "template": {
         "data": {
          "bar": [
           {
            "error_x": {
             "color": "#2a3f5f"
            },
            "error_y": {
             "color": "#2a3f5f"
            },
            "marker": {
             "line": {
              "color": "#E5ECF6",
              "width": 0.5
             },
             "pattern": {
              "fillmode": "overlay",
              "size": 10,
              "solidity": 0.2
             }
            },
            "type": "bar"
           }
          ],
          "barpolar": [
           {
            "marker": {
             "line": {
              "color": "#E5ECF6",
              "width": 0.5
             },
             "pattern": {
              "fillmode": "overlay",
              "size": 10,
              "solidity": 0.2
             }
            },
            "type": "barpolar"
           }
          ],
          "carpet": [
           {
            "aaxis": {
             "endlinecolor": "#2a3f5f",
             "gridcolor": "white",
             "linecolor": "white",
             "minorgridcolor": "white",
             "startlinecolor": "#2a3f5f"
            },
            "baxis": {
             "endlinecolor": "#2a3f5f",
             "gridcolor": "white",
             "linecolor": "white",
             "minorgridcolor": "white",
             "startlinecolor": "#2a3f5f"
            },
            "type": "carpet"
           }
          ],
          "choropleth": [
           {
            "colorbar": {
             "outlinewidth": 0,
             "ticks": ""
            },
            "type": "choropleth"
           }
          ],
          "contour": [
           {
            "colorbar": {
             "outlinewidth": 0,
             "ticks": ""
            },
            "colorscale": [
             [
              0,
              "#0d0887"
             ],
             [
              0.1111111111111111,
              "#46039f"
             ],
             [
              0.2222222222222222,
              "#7201a8"
             ],
             [
              0.3333333333333333,
              "#9c179e"
             ],
             [
              0.4444444444444444,
              "#bd3786"
             ],
             [
              0.5555555555555556,
              "#d8576b"
             ],
             [
              0.6666666666666666,
              "#ed7953"
             ],
             [
              0.7777777777777778,
              "#fb9f3a"
             ],
             [
              0.8888888888888888,
              "#fdca26"
             ],
             [
              1,
              "#f0f921"
             ]
            ],
            "type": "contour"
           }
          ],
          "contourcarpet": [
           {
            "colorbar": {
             "outlinewidth": 0,
             "ticks": ""
            },
            "type": "contourcarpet"
           }
          ],
          "heatmap": [
           {
            "colorbar": {
             "outlinewidth": 0,
             "ticks": ""
            },
            "colorscale": [
             [
              0,
              "#0d0887"
             ],
             [
              0.1111111111111111,
              "#46039f"
             ],
             [
              0.2222222222222222,
              "#7201a8"
             ],
             [
              0.3333333333333333,
              "#9c179e"
             ],
             [
              0.4444444444444444,
              "#bd3786"
             ],
             [
              0.5555555555555556,
              "#d8576b"
             ],
             [
              0.6666666666666666,
              "#ed7953"
             ],
             [
              0.7777777777777778,
              "#fb9f3a"
             ],
             [
              0.8888888888888888,
              "#fdca26"
             ],
             [
              1,
              "#f0f921"
             ]
            ],
            "type": "heatmap"
           }
          ],
          "heatmapgl": [
           {
            "colorbar": {
             "outlinewidth": 0,
             "ticks": ""
            },
            "colorscale": [
             [
              0,
              "#0d0887"
             ],
             [
              0.1111111111111111,
              "#46039f"
             ],
             [
              0.2222222222222222,
              "#7201a8"
             ],
             [
              0.3333333333333333,
              "#9c179e"
             ],
             [
              0.4444444444444444,
              "#bd3786"
             ],
             [
              0.5555555555555556,
              "#d8576b"
             ],
             [
              0.6666666666666666,
              "#ed7953"
             ],
             [
              0.7777777777777778,
              "#fb9f3a"
             ],
             [
              0.8888888888888888,
              "#fdca26"
             ],
             [
              1,
              "#f0f921"
             ]
            ],
            "type": "heatmapgl"
           }
          ],
          "histogram": [
           {
            "marker": {
             "pattern": {
              "fillmode": "overlay",
              "size": 10,
              "solidity": 0.2
             }
            },
            "type": "histogram"
           }
          ],
          "histogram2d": [
           {
            "colorbar": {
             "outlinewidth": 0,
             "ticks": ""
            },
            "colorscale": [
             [
              0,
              "#0d0887"
             ],
             [
              0.1111111111111111,
              "#46039f"
             ],
             [
              0.2222222222222222,
              "#7201a8"
             ],
             [
              0.3333333333333333,
              "#9c179e"
             ],
             [
              0.4444444444444444,
              "#bd3786"
             ],
             [
              0.5555555555555556,
              "#d8576b"
             ],
             [
              0.6666666666666666,
              "#ed7953"
             ],
             [
              0.7777777777777778,
              "#fb9f3a"
             ],
             [
              0.8888888888888888,
              "#fdca26"
             ],
             [
              1,
              "#f0f921"
             ]
            ],
            "type": "histogram2d"
           }
          ],
          "histogram2dcontour": [
           {
            "colorbar": {
             "outlinewidth": 0,
             "ticks": ""
            },
            "colorscale": [
             [
              0,
              "#0d0887"
             ],
             [
              0.1111111111111111,
              "#46039f"
             ],
             [
              0.2222222222222222,
              "#7201a8"
             ],
             [
              0.3333333333333333,
              "#9c179e"
             ],
             [
              0.4444444444444444,
              "#bd3786"
             ],
             [
              0.5555555555555556,
              "#d8576b"
             ],
             [
              0.6666666666666666,
              "#ed7953"
             ],
             [
              0.7777777777777778,
              "#fb9f3a"
             ],
             [
              0.8888888888888888,
              "#fdca26"
             ],
             [
              1,
              "#f0f921"
             ]
            ],
            "type": "histogram2dcontour"
           }
          ],
          "mesh3d": [
           {
            "colorbar": {
             "outlinewidth": 0,
             "ticks": ""
            },
            "type": "mesh3d"
           }
          ],
          "parcoords": [
           {
            "line": {
             "colorbar": {
              "outlinewidth": 0,
              "ticks": ""
             }
            },
            "type": "parcoords"
           }
          ],
          "pie": [
           {
            "automargin": true,
            "type": "pie"
           }
          ],
          "scatter": [
           {
            "marker": {
             "colorbar": {
              "outlinewidth": 0,
              "ticks": ""
             }
            },
            "type": "scatter"
           }
          ],
          "scatter3d": [
           {
            "line": {
             "colorbar": {
              "outlinewidth": 0,
              "ticks": ""
             }
            },
            "marker": {
             "colorbar": {
              "outlinewidth": 0,
              "ticks": ""
             }
            },
            "type": "scatter3d"
           }
          ],
          "scattercarpet": [
           {
            "marker": {
             "colorbar": {
              "outlinewidth": 0,
              "ticks": ""
             }
            },
            "type": "scattercarpet"
           }
          ],
          "scattergeo": [
           {
            "marker": {
             "colorbar": {
              "outlinewidth": 0,
              "ticks": ""
             }
            },
            "type": "scattergeo"
           }
          ],
          "scattergl": [
           {
            "marker": {
             "colorbar": {
              "outlinewidth": 0,
              "ticks": ""
             }
            },
            "type": "scattergl"
           }
          ],
          "scattermapbox": [
           {
            "marker": {
             "colorbar": {
              "outlinewidth": 0,
              "ticks": ""
             }
            },
            "type": "scattermapbox"
           }
          ],
          "scatterpolar": [
           {
            "marker": {
             "colorbar": {
              "outlinewidth": 0,
              "ticks": ""
             }
            },
            "type": "scatterpolar"
           }
          ],
          "scatterpolargl": [
           {
            "marker": {
             "colorbar": {
              "outlinewidth": 0,
              "ticks": ""
             }
            },
            "type": "scatterpolargl"
           }
          ],
          "scatterternary": [
           {
            "marker": {
             "colorbar": {
              "outlinewidth": 0,
              "ticks": ""
             }
            },
            "type": "scatterternary"
           }
          ],
          "surface": [
           {
            "colorbar": {
             "outlinewidth": 0,
             "ticks": ""
            },
            "colorscale": [
             [
              0,
              "#0d0887"
             ],
             [
              0.1111111111111111,
              "#46039f"
             ],
             [
              0.2222222222222222,
              "#7201a8"
             ],
             [
              0.3333333333333333,
              "#9c179e"
             ],
             [
              0.4444444444444444,
              "#bd3786"
             ],
             [
              0.5555555555555556,
              "#d8576b"
             ],
             [
              0.6666666666666666,
              "#ed7953"
             ],
             [
              0.7777777777777778,
              "#fb9f3a"
             ],
             [
              0.8888888888888888,
              "#fdca26"
             ],
             [
              1,
              "#f0f921"
             ]
            ],
            "type": "surface"
           }
          ],
          "table": [
           {
            "cells": {
             "fill": {
              "color": "#EBF0F8"
             },
             "line": {
              "color": "white"
             }
            },
            "header": {
             "fill": {
              "color": "#C8D4E3"
             },
             "line": {
              "color": "white"
             }
            },
            "type": "table"
           }
          ]
         },
         "layout": {
          "annotationdefaults": {
           "arrowcolor": "#2a3f5f",
           "arrowhead": 0,
           "arrowwidth": 1
          },
          "autotypenumbers": "strict",
          "coloraxis": {
           "colorbar": {
            "outlinewidth": 0,
            "ticks": ""
           }
          },
          "colorscale": {
           "diverging": [
            [
             0,
             "#8e0152"
            ],
            [
             0.1,
             "#c51b7d"
            ],
            [
             0.2,
             "#de77ae"
            ],
            [
             0.3,
             "#f1b6da"
            ],
            [
             0.4,
             "#fde0ef"
            ],
            [
             0.5,
             "#f7f7f7"
            ],
            [
             0.6,
             "#e6f5d0"
            ],
            [
             0.7,
             "#b8e186"
            ],
            [
             0.8,
             "#7fbc41"
            ],
            [
             0.9,
             "#4d9221"
            ],
            [
             1,
             "#276419"
            ]
           ],
           "sequential": [
            [
             0,
             "#0d0887"
            ],
            [
             0.1111111111111111,
             "#46039f"
            ],
            [
             0.2222222222222222,
             "#7201a8"
            ],
            [
             0.3333333333333333,
             "#9c179e"
            ],
            [
             0.4444444444444444,
             "#bd3786"
            ],
            [
             0.5555555555555556,
             "#d8576b"
            ],
            [
             0.6666666666666666,
             "#ed7953"
            ],
            [
             0.7777777777777778,
             "#fb9f3a"
            ],
            [
             0.8888888888888888,
             "#fdca26"
            ],
            [
             1,
             "#f0f921"
            ]
           ],
           "sequentialminus": [
            [
             0,
             "#0d0887"
            ],
            [
             0.1111111111111111,
             "#46039f"
            ],
            [
             0.2222222222222222,
             "#7201a8"
            ],
            [
             0.3333333333333333,
             "#9c179e"
            ],
            [
             0.4444444444444444,
             "#bd3786"
            ],
            [
             0.5555555555555556,
             "#d8576b"
            ],
            [
             0.6666666666666666,
             "#ed7953"
            ],
            [
             0.7777777777777778,
             "#fb9f3a"
            ],
            [
             0.8888888888888888,
             "#fdca26"
            ],
            [
             1,
             "#f0f921"
            ]
           ]
          },
          "colorway": [
           "#636efa",
           "#EF553B",
           "#00cc96",
           "#ab63fa",
           "#FFA15A",
           "#19d3f3",
           "#FF6692",
           "#B6E880",
           "#FF97FF",
           "#FECB52"
          ],
          "font": {
           "color": "#2a3f5f"
          },
          "geo": {
           "bgcolor": "white",
           "lakecolor": "white",
           "landcolor": "#E5ECF6",
           "showlakes": true,
           "showland": true,
           "subunitcolor": "white"
          },
          "hoverlabel": {
           "align": "left"
          },
          "hovermode": "closest",
          "mapbox": {
           "style": "light"
          },
          "paper_bgcolor": "white",
          "plot_bgcolor": "#E5ECF6",
          "polar": {
           "angularaxis": {
            "gridcolor": "white",
            "linecolor": "white",
            "ticks": ""
           },
           "bgcolor": "#E5ECF6",
           "radialaxis": {
            "gridcolor": "white",
            "linecolor": "white",
            "ticks": ""
           }
          },
          "scene": {
           "xaxis": {
            "backgroundcolor": "#E5ECF6",
            "gridcolor": "white",
            "gridwidth": 2,
            "linecolor": "white",
            "showbackground": true,
            "ticks": "",
            "zerolinecolor": "white"
           },
           "yaxis": {
            "backgroundcolor": "#E5ECF6",
            "gridcolor": "white",
            "gridwidth": 2,
            "linecolor": "white",
            "showbackground": true,
            "ticks": "",
            "zerolinecolor": "white"
           },
           "zaxis": {
            "backgroundcolor": "#E5ECF6",
            "gridcolor": "white",
            "gridwidth": 2,
            "linecolor": "white",
            "showbackground": true,
            "ticks": "",
            "zerolinecolor": "white"
           }
          },
          "shapedefaults": {
           "line": {
            "color": "#2a3f5f"
           }
          },
          "ternary": {
           "aaxis": {
            "gridcolor": "white",
            "linecolor": "white",
            "ticks": ""
           },
           "baxis": {
            "gridcolor": "white",
            "linecolor": "white",
            "ticks": ""
           },
           "bgcolor": "#E5ECF6",
           "caxis": {
            "gridcolor": "white",
            "linecolor": "white",
            "ticks": ""
           }
          },
          "title": {
           "x": 0.05
          },
          "xaxis": {
           "automargin": true,
           "gridcolor": "white",
           "linecolor": "white",
           "ticks": "",
           "title": {
            "standoff": 15
           },
           "zerolinecolor": "white",
           "zerolinewidth": 2
          },
          "yaxis": {
           "automargin": true,
           "gridcolor": "white",
           "linecolor": "white",
           "ticks": "",
           "title": {
            "standoff": 15
           },
           "zerolinecolor": "white",
           "zerolinewidth": 2
          }
         }
        },
        "title": {
         "text": "Top words for the 10 topics"
        },
        "width": 1350
       }
      }
     },
     "metadata": {},
     "output_type": "display_data"
    },
    {
     "name": "stdout",
     "output_type": "stream",
     "text": [
      "Iter [450]===\n",
      "Topic 0: ['task', 'network', 'deep', 'model', 'learn', 'learning', 'image', 'neural', 'training', 'train']\n",
      "Topic 1: ['datum', 'learning', 'algorithm', 'learn', 'problem', 'model', 'function', 'label', 'sample', 'method']\n",
      "Topic 2: ['model', 'university', 'datum', 'department', 'time', 'analysis', 'brain', 'neural', 'edu', 'system']\n",
      "Topic 3: ['model', 'distribution', 'inference', 'datum', 'sample', 'generative', 'gan', 'gaussian', 'variable', 'variational']\n",
      "Topic 4: ['network', 'neural', 'input', 'unit', 'weight', 'learn', 'output', 'training', 'state', 'function']\n",
      "Topic 5: ['neuron', 'model', 'network', 'cell', 'system', 'neural', 'analog', 'spike', 'activity', 'information']\n",
      "Topic 6: ['x', 'problem', 'n', 'function', 'algorithm', 'optimization', 'k', 'matrix', 't', 'edu']\n",
      "Topic 7: ['learning', 'algorithm', 'policy', 'reinforcement', 'problem', 'learn', 'agent', 'state', 'action', 'control']\n",
      "Topic 8: ['algorithm', 'datum', 'graph', 'problem', 'cluster', 'node', 'edu', 'distance', 'clustering', 'university']\n",
      "Topic 9: ['object', 'visual', 'image', 'system', 'recognition', 'information', 'd', 'model', 'human', 'speech']\n"
     ]
    },
    {
     "data": {
      "application/vnd.plotly.v1+json": {
       "config": {
        "plotlyServerURL": "https://plot.ly"
       },
       "data": [
        {
         "cells": {
          "fill": {
           "color": [
            [
             "rgb(177.0, 205.66666666666666, 169.33333333333331)",
             "rgb(177.0, 205.66666666666666, 169.33333333333331)",
             "rgb(177.0, 205.66666666666666, 169.33333333333331)",
             "rgb(197.33333333333334, 219.11111111111111, 191.88888888888889)",
             "rgb(197.33333333333334, 219.11111111111111, 191.88888888888889)",
             "rgb(197.33333333333334, 219.11111111111111, 191.88888888888889)",
             "rgb(197.33333333333334, 219.11111111111111, 191.88888888888889)",
             "rgb(197.33333333333334, 219.11111111111111, 191.88888888888889)",
             "rgb(217.66666666666666, 232.55555555555554, 214.44444444444446)",
             "rgb(217.66666666666666, 232.55555555555554, 214.44444444444446)"
            ],
            [
             "rgb(177.0, 205.66666666666666, 169.33333333333331)",
             "rgb(197.33333333333334, 219.11111111111111, 191.88888888888889)",
             "rgb(197.33333333333334, 219.11111111111111, 191.88888888888889)",
             "rgb(197.33333333333334, 219.11111111111111, 191.88888888888889)",
             "rgb(217.66666666666666, 232.55555555555554, 214.44444444444446)",
             "rgb(217.66666666666666, 232.55555555555554, 214.44444444444446)",
             "rgb(217.66666666666666, 232.55555555555554, 214.44444444444446)",
             "rgb(217.66666666666666, 232.55555555555554, 214.44444444444446)",
             "rgb(217.66666666666666, 232.55555555555554, 214.44444444444446)",
             "rgb(217.66666666666666, 232.55555555555554, 214.44444444444446)"
            ],
            [
             "rgb(197.33333333333334, 219.11111111111111, 191.88888888888889)",
             "rgb(197.33333333333334, 219.11111111111111, 191.88888888888889)",
             "rgb(197.33333333333334, 219.11111111111111, 191.88888888888889)",
             "rgb(217.66666666666666, 232.55555555555554, 214.44444444444446)",
             "rgb(217.66666666666666, 232.55555555555554, 214.44444444444446)",
             "rgb(217.66666666666666, 232.55555555555554, 214.44444444444446)",
             "rgb(217.66666666666666, 232.55555555555554, 214.44444444444446)",
             "rgb(217.66666666666666, 232.55555555555554, 214.44444444444446)",
             "rgb(217.66666666666666, 232.55555555555554, 214.44444444444446)",
             "rgb(217.66666666666666, 232.55555555555554, 214.44444444444446)"
            ],
            [
             "rgb(95.66666666666669, 151.88888888888889, 79.11111111111109)",
             "rgb(156.66666666666669, 192.22222222222223, 146.77777777777777)",
             "rgb(197.33333333333334, 219.11111111111111, 191.88888888888889)",
             "rgb(197.33333333333334, 219.11111111111111, 191.88888888888889)",
             "rgb(197.33333333333334, 219.11111111111111, 191.88888888888889)",
             "rgb(197.33333333333334, 219.11111111111111, 191.88888888888889)",
             "rgb(217.66666666666666, 232.55555555555554, 214.44444444444446)",
             "rgb(217.66666666666666, 232.55555555555554, 214.44444444444446)",
             "rgb(217.66666666666666, 232.55555555555554, 214.44444444444446)",
             "rgb(217.66666666666666, 232.55555555555554, 214.44444444444446)"
            ],
            [
             "rgb(75.33333333333334, 138.44444444444446, 56.55555555555554)",
             "rgb(177.0, 205.66666666666666, 169.33333333333331)",
             "rgb(197.33333333333334, 219.11111111111111, 191.88888888888889)",
             "rgb(217.66666666666666, 232.55555555555554, 214.44444444444446)",
             "rgb(217.66666666666666, 232.55555555555554, 214.44444444444446)",
             "rgb(217.66666666666666, 232.55555555555554, 214.44444444444446)",
             "rgb(217.66666666666666, 232.55555555555554, 214.44444444444446)",
             "rgb(217.66666666666666, 232.55555555555554, 214.44444444444446)",
             "rgb(217.66666666666666, 232.55555555555554, 214.44444444444446)",
             "rgb(217.66666666666666, 232.55555555555554, 214.44444444444446)"
            ],
            [
             "rgb(177.0, 205.66666666666666, 169.33333333333331)",
             "rgb(197.33333333333334, 219.11111111111111, 191.88888888888889)",
             "rgb(217.66666666666666, 232.55555555555554, 214.44444444444446)",
             "rgb(217.66666666666666, 232.55555555555554, 214.44444444444446)",
             "rgb(217.66666666666666, 232.55555555555554, 214.44444444444446)",
             "rgb(217.66666666666666, 232.55555555555554, 214.44444444444446)",
             "rgb(217.66666666666666, 232.55555555555554, 214.44444444444446)",
             "rgb(238.0, 246.0, 237.0)",
             "rgb(238.0, 246.0, 237.0)",
             "rgb(238.0, 246.0, 237.0)"
            ],
            [
             "rgb(177.0, 205.66666666666666, 169.33333333333331)",
             "rgb(197.33333333333334, 219.11111111111111, 191.88888888888889)",
             "rgb(197.33333333333334, 219.11111111111111, 191.88888888888889)",
             "rgb(197.33333333333334, 219.11111111111111, 191.88888888888889)",
             "rgb(197.33333333333334, 219.11111111111111, 191.88888888888889)",
             "rgb(217.66666666666666, 232.55555555555554, 214.44444444444446)",
             "rgb(217.66666666666666, 232.55555555555554, 214.44444444444446)",
             "rgb(217.66666666666666, 232.55555555555554, 214.44444444444446)",
             "rgb(217.66666666666666, 232.55555555555554, 214.44444444444446)",
             "rgb(217.66666666666666, 232.55555555555554, 214.44444444444446)"
            ],
            [
             "rgb(177.0, 205.66666666666666, 169.33333333333331)",
             "rgb(197.33333333333334, 219.11111111111111, 191.88888888888889)",
             "rgb(197.33333333333334, 219.11111111111111, 191.88888888888889)",
             "rgb(197.33333333333334, 219.11111111111111, 191.88888888888889)",
             "rgb(197.33333333333334, 219.11111111111111, 191.88888888888889)",
             "rgb(217.66666666666666, 232.55555555555554, 214.44444444444446)",
             "rgb(217.66666666666666, 232.55555555555554, 214.44444444444446)",
             "rgb(217.66666666666666, 232.55555555555554, 214.44444444444446)",
             "rgb(217.66666666666666, 232.55555555555554, 214.44444444444446)",
             "rgb(217.66666666666666, 232.55555555555554, 214.44444444444446)"
            ],
            [
             "rgb(197.33333333333334, 219.11111111111111, 191.88888888888889)",
             "rgb(197.33333333333334, 219.11111111111111, 191.88888888888889)",
             "rgb(197.33333333333334, 219.11111111111111, 191.88888888888889)",
             "rgb(197.33333333333334, 219.11111111111111, 191.88888888888889)",
             "rgb(217.66666666666666, 232.55555555555554, 214.44444444444446)",
             "rgb(217.66666666666666, 232.55555555555554, 214.44444444444446)",
             "rgb(217.66666666666666, 232.55555555555554, 214.44444444444446)",
             "rgb(217.66666666666666, 232.55555555555554, 214.44444444444446)",
             "rgb(217.66666666666666, 232.55555555555554, 214.44444444444446)",
             "rgb(217.66666666666666, 232.55555555555554, 214.44444444444446)"
            ],
            [
             "rgb(177.0, 205.66666666666666, 169.33333333333331)",
             "rgb(197.33333333333334, 219.11111111111111, 191.88888888888889)",
             "rgb(197.33333333333334, 219.11111111111111, 191.88888888888889)",
             "rgb(197.33333333333334, 219.11111111111111, 191.88888888888889)",
             "rgb(217.66666666666666, 232.55555555555554, 214.44444444444446)",
             "rgb(217.66666666666666, 232.55555555555554, 214.44444444444446)",
             "rgb(217.66666666666666, 232.55555555555554, 214.44444444444446)",
             "rgb(217.66666666666666, 232.55555555555554, 214.44444444444446)",
             "rgb(217.66666666666666, 232.55555555555554, 214.44444444444446)",
             "rgb(217.66666666666666, 232.55555555555554, 214.44444444444446)"
            ]
           ]
          },
          "values": [
           [
            "task",
            "network",
            "deep",
            "model",
            "learn",
            "learning",
            "image",
            "neural",
            "training",
            "train"
           ],
           [
            "datum",
            "learning",
            "algorithm",
            "learn",
            "problem",
            "model",
            "function",
            "label",
            "sample",
            "method"
           ],
           [
            "model",
            "university",
            "datum",
            "department",
            "time",
            "analysis",
            "brain",
            "neural",
            "edu",
            "system"
           ],
           [
            "model",
            "distribution",
            "inference",
            "datum",
            "sample",
            "generative",
            "gan",
            "gaussian",
            "variable",
            "variational"
           ],
           [
            "network",
            "neural",
            "input",
            "unit",
            "weight",
            "learn",
            "output",
            "training",
            "state",
            "function"
           ],
           [
            "neuron",
            "model",
            "network",
            "cell",
            "system",
            "neural",
            "analog",
            "spike",
            "activity",
            "information"
           ],
           [
            "x",
            "problem",
            "n",
            "function",
            "algorithm",
            "optimization",
            "k",
            "matrix",
            "t",
            "edu"
           ],
           [
            "learning",
            "algorithm",
            "policy",
            "reinforcement",
            "problem",
            "learn",
            "agent",
            "state",
            "action",
            "control"
           ],
           [
            "algorithm",
            "datum",
            "graph",
            "problem",
            "cluster",
            "node",
            "edu",
            "distance",
            "clustering",
            "university"
           ],
           [
            "object",
            "visual",
            "image",
            "system",
            "recognition",
            "information",
            "d",
            "model",
            "human",
            "speech"
           ]
          ]
         },
         "header": {
          "fill": {
           "color": "rgb(220, 220, 220)"
          },
          "values": [
           "Topic 00",
           "Topic 01",
           "Topic 02",
           "Topic 03",
           "Topic 04",
           "Topic 05",
           "Topic 06",
           "Topic 07",
           "Topic 08",
           "Topic 09"
          ]
         },
         "type": "table"
        }
       ],
       "layout": {
        "template": {
         "data": {
          "bar": [
           {
            "error_x": {
             "color": "#2a3f5f"
            },
            "error_y": {
             "color": "#2a3f5f"
            },
            "marker": {
             "line": {
              "color": "#E5ECF6",
              "width": 0.5
             },
             "pattern": {
              "fillmode": "overlay",
              "size": 10,
              "solidity": 0.2
             }
            },
            "type": "bar"
           }
          ],
          "barpolar": [
           {
            "marker": {
             "line": {
              "color": "#E5ECF6",
              "width": 0.5
             },
             "pattern": {
              "fillmode": "overlay",
              "size": 10,
              "solidity": 0.2
             }
            },
            "type": "barpolar"
           }
          ],
          "carpet": [
           {
            "aaxis": {
             "endlinecolor": "#2a3f5f",
             "gridcolor": "white",
             "linecolor": "white",
             "minorgridcolor": "white",
             "startlinecolor": "#2a3f5f"
            },
            "baxis": {
             "endlinecolor": "#2a3f5f",
             "gridcolor": "white",
             "linecolor": "white",
             "minorgridcolor": "white",
             "startlinecolor": "#2a3f5f"
            },
            "type": "carpet"
           }
          ],
          "choropleth": [
           {
            "colorbar": {
             "outlinewidth": 0,
             "ticks": ""
            },
            "type": "choropleth"
           }
          ],
          "contour": [
           {
            "colorbar": {
             "outlinewidth": 0,
             "ticks": ""
            },
            "colorscale": [
             [
              0,
              "#0d0887"
             ],
             [
              0.1111111111111111,
              "#46039f"
             ],
             [
              0.2222222222222222,
              "#7201a8"
             ],
             [
              0.3333333333333333,
              "#9c179e"
             ],
             [
              0.4444444444444444,
              "#bd3786"
             ],
             [
              0.5555555555555556,
              "#d8576b"
             ],
             [
              0.6666666666666666,
              "#ed7953"
             ],
             [
              0.7777777777777778,
              "#fb9f3a"
             ],
             [
              0.8888888888888888,
              "#fdca26"
             ],
             [
              1,
              "#f0f921"
             ]
            ],
            "type": "contour"
           }
          ],
          "contourcarpet": [
           {
            "colorbar": {
             "outlinewidth": 0,
             "ticks": ""
            },
            "type": "contourcarpet"
           }
          ],
          "heatmap": [
           {
            "colorbar": {
             "outlinewidth": 0,
             "ticks": ""
            },
            "colorscale": [
             [
              0,
              "#0d0887"
             ],
             [
              0.1111111111111111,
              "#46039f"
             ],
             [
              0.2222222222222222,
              "#7201a8"
             ],
             [
              0.3333333333333333,
              "#9c179e"
             ],
             [
              0.4444444444444444,
              "#bd3786"
             ],
             [
              0.5555555555555556,
              "#d8576b"
             ],
             [
              0.6666666666666666,
              "#ed7953"
             ],
             [
              0.7777777777777778,
              "#fb9f3a"
             ],
             [
              0.8888888888888888,
              "#fdca26"
             ],
             [
              1,
              "#f0f921"
             ]
            ],
            "type": "heatmap"
           }
          ],
          "heatmapgl": [
           {
            "colorbar": {
             "outlinewidth": 0,
             "ticks": ""
            },
            "colorscale": [
             [
              0,
              "#0d0887"
             ],
             [
              0.1111111111111111,
              "#46039f"
             ],
             [
              0.2222222222222222,
              "#7201a8"
             ],
             [
              0.3333333333333333,
              "#9c179e"
             ],
             [
              0.4444444444444444,
              "#bd3786"
             ],
             [
              0.5555555555555556,
              "#d8576b"
             ],
             [
              0.6666666666666666,
              "#ed7953"
             ],
             [
              0.7777777777777778,
              "#fb9f3a"
             ],
             [
              0.8888888888888888,
              "#fdca26"
             ],
             [
              1,
              "#f0f921"
             ]
            ],
            "type": "heatmapgl"
           }
          ],
          "histogram": [
           {
            "marker": {
             "pattern": {
              "fillmode": "overlay",
              "size": 10,
              "solidity": 0.2
             }
            },
            "type": "histogram"
           }
          ],
          "histogram2d": [
           {
            "colorbar": {
             "outlinewidth": 0,
             "ticks": ""
            },
            "colorscale": [
             [
              0,
              "#0d0887"
             ],
             [
              0.1111111111111111,
              "#46039f"
             ],
             [
              0.2222222222222222,
              "#7201a8"
             ],
             [
              0.3333333333333333,
              "#9c179e"
             ],
             [
              0.4444444444444444,
              "#bd3786"
             ],
             [
              0.5555555555555556,
              "#d8576b"
             ],
             [
              0.6666666666666666,
              "#ed7953"
             ],
             [
              0.7777777777777778,
              "#fb9f3a"
             ],
             [
              0.8888888888888888,
              "#fdca26"
             ],
             [
              1,
              "#f0f921"
             ]
            ],
            "type": "histogram2d"
           }
          ],
          "histogram2dcontour": [
           {
            "colorbar": {
             "outlinewidth": 0,
             "ticks": ""
            },
            "colorscale": [
             [
              0,
              "#0d0887"
             ],
             [
              0.1111111111111111,
              "#46039f"
             ],
             [
              0.2222222222222222,
              "#7201a8"
             ],
             [
              0.3333333333333333,
              "#9c179e"
             ],
             [
              0.4444444444444444,
              "#bd3786"
             ],
             [
              0.5555555555555556,
              "#d8576b"
             ],
             [
              0.6666666666666666,
              "#ed7953"
             ],
             [
              0.7777777777777778,
              "#fb9f3a"
             ],
             [
              0.8888888888888888,
              "#fdca26"
             ],
             [
              1,
              "#f0f921"
             ]
            ],
            "type": "histogram2dcontour"
           }
          ],
          "mesh3d": [
           {
            "colorbar": {
             "outlinewidth": 0,
             "ticks": ""
            },
            "type": "mesh3d"
           }
          ],
          "parcoords": [
           {
            "line": {
             "colorbar": {
              "outlinewidth": 0,
              "ticks": ""
             }
            },
            "type": "parcoords"
           }
          ],
          "pie": [
           {
            "automargin": true,
            "type": "pie"
           }
          ],
          "scatter": [
           {
            "marker": {
             "colorbar": {
              "outlinewidth": 0,
              "ticks": ""
             }
            },
            "type": "scatter"
           }
          ],
          "scatter3d": [
           {
            "line": {
             "colorbar": {
              "outlinewidth": 0,
              "ticks": ""
             }
            },
            "marker": {
             "colorbar": {
              "outlinewidth": 0,
              "ticks": ""
             }
            },
            "type": "scatter3d"
           }
          ],
          "scattercarpet": [
           {
            "marker": {
             "colorbar": {
              "outlinewidth": 0,
              "ticks": ""
             }
            },
            "type": "scattercarpet"
           }
          ],
          "scattergeo": [
           {
            "marker": {
             "colorbar": {
              "outlinewidth": 0,
              "ticks": ""
             }
            },
            "type": "scattergeo"
           }
          ],
          "scattergl": [
           {
            "marker": {
             "colorbar": {
              "outlinewidth": 0,
              "ticks": ""
             }
            },
            "type": "scattergl"
           }
          ],
          "scattermapbox": [
           {
            "marker": {
             "colorbar": {
              "outlinewidth": 0,
              "ticks": ""
             }
            },
            "type": "scattermapbox"
           }
          ],
          "scatterpolar": [
           {
            "marker": {
             "colorbar": {
              "outlinewidth": 0,
              "ticks": ""
             }
            },
            "type": "scatterpolar"
           }
          ],
          "scatterpolargl": [
           {
            "marker": {
             "colorbar": {
              "outlinewidth": 0,
              "ticks": ""
             }
            },
            "type": "scatterpolargl"
           }
          ],
          "scatterternary": [
           {
            "marker": {
             "colorbar": {
              "outlinewidth": 0,
              "ticks": ""
             }
            },
            "type": "scatterternary"
           }
          ],
          "surface": [
           {
            "colorbar": {
             "outlinewidth": 0,
             "ticks": ""
            },
            "colorscale": [
             [
              0,
              "#0d0887"
             ],
             [
              0.1111111111111111,
              "#46039f"
             ],
             [
              0.2222222222222222,
              "#7201a8"
             ],
             [
              0.3333333333333333,
              "#9c179e"
             ],
             [
              0.4444444444444444,
              "#bd3786"
             ],
             [
              0.5555555555555556,
              "#d8576b"
             ],
             [
              0.6666666666666666,
              "#ed7953"
             ],
             [
              0.7777777777777778,
              "#fb9f3a"
             ],
             [
              0.8888888888888888,
              "#fdca26"
             ],
             [
              1,
              "#f0f921"
             ]
            ],
            "type": "surface"
           }
          ],
          "table": [
           {
            "cells": {
             "fill": {
              "color": "#EBF0F8"
             },
             "line": {
              "color": "white"
             }
            },
            "header": {
             "fill": {
              "color": "#C8D4E3"
             },
             "line": {
              "color": "white"
             }
            },
            "type": "table"
           }
          ]
         },
         "layout": {
          "annotationdefaults": {
           "arrowcolor": "#2a3f5f",
           "arrowhead": 0,
           "arrowwidth": 1
          },
          "autotypenumbers": "strict",
          "coloraxis": {
           "colorbar": {
            "outlinewidth": 0,
            "ticks": ""
           }
          },
          "colorscale": {
           "diverging": [
            [
             0,
             "#8e0152"
            ],
            [
             0.1,
             "#c51b7d"
            ],
            [
             0.2,
             "#de77ae"
            ],
            [
             0.3,
             "#f1b6da"
            ],
            [
             0.4,
             "#fde0ef"
            ],
            [
             0.5,
             "#f7f7f7"
            ],
            [
             0.6,
             "#e6f5d0"
            ],
            [
             0.7,
             "#b8e186"
            ],
            [
             0.8,
             "#7fbc41"
            ],
            [
             0.9,
             "#4d9221"
            ],
            [
             1,
             "#276419"
            ]
           ],
           "sequential": [
            [
             0,
             "#0d0887"
            ],
            [
             0.1111111111111111,
             "#46039f"
            ],
            [
             0.2222222222222222,
             "#7201a8"
            ],
            [
             0.3333333333333333,
             "#9c179e"
            ],
            [
             0.4444444444444444,
             "#bd3786"
            ],
            [
             0.5555555555555556,
             "#d8576b"
            ],
            [
             0.6666666666666666,
             "#ed7953"
            ],
            [
             0.7777777777777778,
             "#fb9f3a"
            ],
            [
             0.8888888888888888,
             "#fdca26"
            ],
            [
             1,
             "#f0f921"
            ]
           ],
           "sequentialminus": [
            [
             0,
             "#0d0887"
            ],
            [
             0.1111111111111111,
             "#46039f"
            ],
            [
             0.2222222222222222,
             "#7201a8"
            ],
            [
             0.3333333333333333,
             "#9c179e"
            ],
            [
             0.4444444444444444,
             "#bd3786"
            ],
            [
             0.5555555555555556,
             "#d8576b"
            ],
            [
             0.6666666666666666,
             "#ed7953"
            ],
            [
             0.7777777777777778,
             "#fb9f3a"
            ],
            [
             0.8888888888888888,
             "#fdca26"
            ],
            [
             1,
             "#f0f921"
            ]
           ]
          },
          "colorway": [
           "#636efa",
           "#EF553B",
           "#00cc96",
           "#ab63fa",
           "#FFA15A",
           "#19d3f3",
           "#FF6692",
           "#B6E880",
           "#FF97FF",
           "#FECB52"
          ],
          "font": {
           "color": "#2a3f5f"
          },
          "geo": {
           "bgcolor": "white",
           "lakecolor": "white",
           "landcolor": "#E5ECF6",
           "showlakes": true,
           "showland": true,
           "subunitcolor": "white"
          },
          "hoverlabel": {
           "align": "left"
          },
          "hovermode": "closest",
          "mapbox": {
           "style": "light"
          },
          "paper_bgcolor": "white",
          "plot_bgcolor": "#E5ECF6",
          "polar": {
           "angularaxis": {
            "gridcolor": "white",
            "linecolor": "white",
            "ticks": ""
           },
           "bgcolor": "#E5ECF6",
           "radialaxis": {
            "gridcolor": "white",
            "linecolor": "white",
            "ticks": ""
           }
          },
          "scene": {
           "xaxis": {
            "backgroundcolor": "#E5ECF6",
            "gridcolor": "white",
            "gridwidth": 2,
            "linecolor": "white",
            "showbackground": true,
            "ticks": "",
            "zerolinecolor": "white"
           },
           "yaxis": {
            "backgroundcolor": "#E5ECF6",
            "gridcolor": "white",
            "gridwidth": 2,
            "linecolor": "white",
            "showbackground": true,
            "ticks": "",
            "zerolinecolor": "white"
           },
           "zaxis": {
            "backgroundcolor": "#E5ECF6",
            "gridcolor": "white",
            "gridwidth": 2,
            "linecolor": "white",
            "showbackground": true,
            "ticks": "",
            "zerolinecolor": "white"
           }
          },
          "shapedefaults": {
           "line": {
            "color": "#2a3f5f"
           }
          },
          "ternary": {
           "aaxis": {
            "gridcolor": "white",
            "linecolor": "white",
            "ticks": ""
           },
           "baxis": {
            "gridcolor": "white",
            "linecolor": "white",
            "ticks": ""
           },
           "bgcolor": "#E5ECF6",
           "caxis": {
            "gridcolor": "white",
            "linecolor": "white",
            "ticks": ""
           }
          },
          "title": {
           "x": 0.05
          },
          "xaxis": {
           "automargin": true,
           "gridcolor": "white",
           "linecolor": "white",
           "ticks": "",
           "title": {
            "standoff": 15
           },
           "zerolinecolor": "white",
           "zerolinewidth": 2
          },
          "yaxis": {
           "automargin": true,
           "gridcolor": "white",
           "linecolor": "white",
           "ticks": "",
           "title": {
            "standoff": 15
           },
           "zerolinecolor": "white",
           "zerolinewidth": 2
          }
         }
        },
        "title": {
         "text": "Top words for the 10 topics"
        },
        "width": 1350
       }
      }
     },
     "metadata": {},
     "output_type": "display_data"
    },
    {
     "name": "stdout",
     "output_type": "stream",
     "text": [
      "\n"
     ]
    }
   ],
   "source": [
    "# === initialization ===\n",
    "print(\"Initializing...\", flush=True)\n",
    "n_doc_topic = np.zeros([corpus.num_docs, corpus.num_topics], dtype=float) # n_m^(k)\n",
    "n_topic_word = np.zeros([corpus.num_topics, corpus.num_words], dtype=float) # n_k^(t)\n",
    "z_doc_word = np.zeros([corpus.num_docs, corpus.max_doc_length], dtype=int)\n",
    "\n",
    "for doc_i in range(corpus.num_docs):\n",
    "    for j, word_j in enumerate(corpus.docs[doc_i]):\n",
    "        topic_ij = random.randint(0, corpus.num_topics - 1)\n",
    "        n_doc_topic[doc_i, topic_ij] += 1\n",
    "        n_topic_word[topic_ij, word_j] += 1\n",
    "        z_doc_word[doc_i, j] = topic_ij\n",
    "\n",
    "# === Gibbs sampling ===\n",
    "print(\"Gibbs sampling...\", flush=True)\n",
    "for iteration in tqdm(range(hparams.gibbs_sampling_max_iters)):\n",
    "    for doc_i in range(corpus.num_docs):\n",
    "        for j, word_j in enumerate(corpus.docs[doc_i]):\n",
    "            # remove the old assignment\n",
    "            topic_ij = z_doc_word[doc_i, j]\n",
    "            n_doc_topic[doc_i, topic_ij] -= 1\n",
    "            n_topic_word[topic_ij, word_j] -= 1\n",
    "            # compute the new assignment\n",
    "            p_doc_topic = (n_doc_topic[doc_i, :] + hparams.alpha) \\\n",
    "                        / np.sum(n_doc_topic[doc_i] + hparams.alpha)\n",
    "            p_topic_word = (n_topic_word[:, word_j] + hparams.beta[word_j]) \\\n",
    "                        / np.sum(n_topic_word + hparams.beta, axis=1)\n",
    "            p_topic = p_doc_topic * p_topic_word\n",
    "            p_topic /= np.sum(p_topic)\n",
    "            # record the new assignment\n",
    "            new_topic_ij = np.random.choice(np.arange(corpus.num_topics), p=p_topic)\n",
    "            n_doc_topic[doc_i, new_topic_ij] += 1\n",
    "            n_topic_word[new_topic_ij, word_j] += 1\n",
    "            z_doc_word[doc_i, j] = new_topic_ij\n",
    "\n",
    "    if iteration % 50 == 0:\n",
    "        print(f\"Iter [{iteration}]===\")\n",
    "        # === Check convergence and read out parameters ===\n",
    "        theta = (n_doc_topic + hparams.alpha) / np.sum(n_doc_topic + hparams.alpha, axis=1, keepdims=True)\n",
    "        phi = (n_topic_word + hparams.beta) / np.sum(n_topic_word + hparams.beta, axis=1, keepdims=True)\n",
    "\n",
    "        all_top_words = []\n",
    "        all_top_probs = []\n",
    "        for topic in range(corpus.num_topics):\n",
    "            top_words = np.argsort(phi[topic])[::-1][:10]\n",
    "            top_probs = phi[topic, top_words]\n",
    "            top_words = [corpus.id2word[word] for word in top_words]\n",
    "            all_top_words.append(top_words)\n",
    "            all_top_probs.append(top_probs)\n",
    "            print(f\"Topic {topic}:\", top_words)\n",
    "        visualize_topic_word(all_top_words, all_top_probs)"
   ]
  },
  {
   "cell_type": "code",
   "execution_count": null,
   "metadata": {},
   "outputs": [],
   "source": []
  }
 ],
 "metadata": {
  "interpreter": {
   "hash": "b98ce01d6443f9ed8de6b2298de45a5462ef793670bc2920aea9ee85010384a1"
  },
  "kernelspec": {
   "display_name": "Python 3.8.5 ('base')",
   "language": "python",
   "name": "python3"
  },
  "language_info": {
   "codemirror_mode": {
    "name": "ipython",
    "version": 3
   },
   "file_extension": ".py",
   "mimetype": "text/x-python",
   "name": "python",
   "nbconvert_exporter": "python",
   "pygments_lexer": "ipython3",
   "version": "3.8.5"
  },
  "orig_nbformat": 4
 },
 "nbformat": 4,
 "nbformat_minor": 2
}
