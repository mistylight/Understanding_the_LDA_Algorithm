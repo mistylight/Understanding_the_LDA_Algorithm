{
 "cells": [
  {
   "cell_type": "markdown",
   "metadata": {},
   "source": [
    "# LDA Training\n",
    "<figure>\n",
    "<img src=https://s2.loli.net/2022/02/28/X7vzOlDHJtP6UnM.png style=\"width: 600px\">\n",
    "<figcaption>The LDA training algorithm from <a href=http://www.arbylon.net/publications/text-est.pdf>Parameter estimation for text analysis</a></figcaption>\n",
    "</figure>"
   ]
  },
  {
   "cell_type": "code",
   "execution_count": 39,
   "metadata": {},
   "outputs": [],
   "source": [
    "%load_ext autoreload\n",
    "%autoreload 2\n",
    "import random\n",
    "import numpy as np\n",
    "from collections import defaultdict, OrderedDict\n",
    "from types import SimpleNamespace\n",
    "from tqdm.notebook import tqdm"
   ]
  },
  {
   "cell_type": "code",
   "execution_count": 47,
   "metadata": {},
   "outputs": [
    {
     "name": "stdout",
     "output_type": "stream",
     "text": [
      "num_docs: 1000 num_topics: 10 num_words: 7882\n"
     ]
    }
   ],
   "source": [
    "# === corpus loading ===\n",
    "class NeurIPSCorpus:\n",
    "    def __init__(self, data_path, num_topics, mode, start_doc_idx=0, max_num_docs=100, max_num_words=10000, max_doc_length=1000, train_corpus=None):\n",
    "        self.docs = []\n",
    "        self.word2id = OrderedDict()\n",
    "        self.max_doc_length = max_doc_length\n",
    "        self.mode = mode\n",
    "\n",
    "        # only keep the most frequent words\n",
    "        if self.mode == \"train\":\n",
    "            word2cnt = defaultdict(int)\n",
    "            with open(data_path) as fin:\n",
    "                for i, line in enumerate(fin):\n",
    "                    if i >= max_num_docs: break\n",
    "                    for word in line.strip().split():\n",
    "                        word2cnt[word] += 1\n",
    "            \n",
    "            word2cnt = sorted(list(word2cnt.items()), key=lambda x: x[1], reverse=True)\n",
    "            if len(word2cnt) > max_num_words:\n",
    "                word2cnt = word2cnt[:max_num_words]\n",
    "            word2cnt = dict(word2cnt)\n",
    "\n",
    "        # read in the doc and convert words to integers\n",
    "        with open(data_path) as fin:\n",
    "            for i, line in enumerate(fin):\n",
    "                if i < start_doc_idx: continue\n",
    "                if i - start_doc_idx >= max_num_docs: break\n",
    "                doc = []\n",
    "                for word in line.strip().split():\n",
    "                    if len(doc) >= self.max_doc_length: break\n",
    "                    if self.mode == \"train\" and word not in word2cnt: continue\n",
    "                    if self.mode == \"train\":\n",
    "                        if word not in self.word2id: \n",
    "                            self.word2id[word] = len(self.word2id)\n",
    "                        doc.append(self.word2id[word])\n",
    "                    else:\n",
    "                        if word not in train_corpus.word2id: continue\n",
    "                        doc.append(train_corpus.word2id[word])\n",
    "                self.docs.append(doc)\n",
    "\n",
    "        self.num_docs = len(self.docs)\n",
    "        self.num_topics = num_topics\n",
    "        self.num_words = len(self.word2id)\n",
    "        self.id2word = {v: k for k, v in self.word2id.items()}\n",
    "        print(\n",
    "            \"num_docs:\", self.num_docs, \n",
    "            \"num_topics:\", self.num_topics, \n",
    "            \"num_words:\", self.num_words\n",
    "        )\n",
    "\n",
    "corpus = NeurIPSCorpus(\n",
    "    data_path=\"data/papers.txt\", \n",
    "    mode=\"train\",\n",
    "    num_topics=10,\n",
    "    start_doc_idx=0,\n",
    "    max_num_docs=1000,\n",
    "    max_num_words=10000,\n",
    "    max_doc_length=200,\n",
    ")\n",
    "hparams = SimpleNamespace(\n",
    "    alpha=np.ones([corpus.num_topics], dtype=float) / corpus.num_topics,\n",
    "    beta = np.ones([corpus.num_words], dtype=float) / corpus.num_topics,\n",
    "    gibbs_sampling_max_iters=1000,\n",
    ")"
   ]
  },
  {
   "cell_type": "code",
   "execution_count": 34,
   "metadata": {},
   "outputs": [
    {
     "name": "stdout",
     "output_type": "stream",
     "text": [
      "Initializing...\n",
      "Gibbs sampling...\n"
     ]
    },
    {
     "data": {
      "application/vnd.jupyter.widget-view+json": {
       "model_id": "61af52ab4e494898b51dd5f4e08c63aa",
       "version_major": 2,
       "version_minor": 0
      },
      "text/plain": [
       "HBox(children=(HTML(value=''), FloatProgress(value=0.0, max=1000.0), HTML(value='')))"
      ]
     },
     "metadata": {},
     "output_type": "display_data"
    },
    {
     "name": "stdout",
     "output_type": "stream",
     "text": [
      "Iter [0]===\n",
      "Topic 0: ['model', 'learning', 'method', 'problem', 'network', 'algorithm', 'abstract', 'datum', 'neural', 'system']\n",
      "Topic 1: ['model', 'learning', 'algorithm', 'network', 'neural', 'system', 'function', 'information', 'approach', 'base']\n",
      "Topic 2: ['network', 'model', 'problem', 'algorithm', 'datum', 'learning', 'neural', 'abstract', 'function', 'university']\n",
      "Topic 3: ['model', 'network', 'neural', 'system', 'algorithm', 'function', 'problem', 'learn', 'learning', 'datum']\n",
      "Topic 4: ['network', 'model', 'algorithm', 'neural', 'problem', 'function', 'datum', 'learning', 'information', 'e']\n",
      "Topic 5: ['model', 'network', 'algorithm', 'neural', 'learning', 'input', 'abstract', 'introduction', 'function', 'set']\n",
      "Topic 6: ['model', 'network', 'problem', 'algorithm', 'system', 'neural', 'base', 'learn', 'approach', 'set']\n",
      "Topic 7: ['model', 'network', 'method', 'learning', 'neural', 'system', 'function', 'datum', 'algorithm', 'problem']\n",
      "Topic 8: ['model', 'problem', 'network', 'algorithm', 'abstract', 'neural', 'set', 'method', 'x', 't']\n",
      "Topic 9: ['model', 'network', 'problem', 'learning', 'algorithm', 'datum', 'system', 'learn', 'function', 'abstract']\n",
      "Iter [10]===\n",
      "Topic 0: ['learning', 'algorithm', 'problem', 'learn', 'training', 'base', 'state', 'method', 'new', 'model']\n",
      "Topic 1: ['model', 'neuron', 'information', 'visual', 'system', 'control', 'synaptic', 'learning', 'activity', 'input']\n",
      "Topic 2: ['object', 'cell', 'visual', 'representation', 'model', 'code', 'neural', 'field', 'face', 'feature']\n",
      "Topic 3: ['problem', 'vector', 'set', 'recognition', 'error', 'e', 'd', 'technique', 'example', 'computer']\n",
      "Topic 4: ['function', 'algorithm', 'learning', 'n', 'problem', 'value', 'network', 'linear', 'learn', 'w']\n",
      "Topic 5: ['network', 'neural', 'time', 'weight', 'input', 'analog', 'unit', 'architecture', 'neuron', 'output']\n",
      "Topic 6: ['image', 'system', 'signal', 'problem', 'task', 'recognition', 'source', 'environment', 'approach', 'base']\n",
      "Topic 7: ['model', 'datum', 'method', 'distribution', 'gaussian', 'approach', 'bayesian', 'probability', 'algorithm', 'variable']\n",
      "Topic 8: ['t', 'model', 'l', 'x', 'j', 'e', 'network', 'time', 'p', 'g']\n",
      "Topic 9: ['model', 'network', 'neural', 'system', 'motion', 'abstract', 'different', 'time', 'problem', 'noise']\n",
      "Iter [20]===\n",
      "Topic 0: ['learning', 'learn', 'algorithm', 'problem', 'model', 'state', 'base', 'control', 'time', 'reinforcement']\n",
      "Topic 1: ['neuron', 'model', 'information', 'cell', 'spike', 'synaptic', 'activity', 'input', 'response', 'visual']\n",
      "Topic 2: ['object', 'visual', 'model', 'image', 'representation', 'field', 'face', 'code', 'cell', 'natural']\n",
      "Topic 3: ['training', 'problem', 'set', 'vector', 'error', 'datum', 'recognition', 'neural', 'regression', 'support']\n",
      "Topic 4: ['function', 'algorithm', 'learning', 'linear', 'value', 'x', 'n', 'problem', 'e', 'class']\n",
      "Topic 5: ['network', 'neural', 'system', 'unit', 'input', 'time', 'output', 'weight', 'analog', 'architecture']\n",
      "Topic 6: ['image', 'system', 'signal', 'recognition', 'task', 'problem', 'source', 'human', 'information', 'abstract']\n",
      "Topic 7: ['model', 'datum', 'method', 'distribution', 'gaussian', 'bayesian', 'probability', 'variable', 'mixture', 'approach']\n",
      "Topic 8: ['t', 'x', 'e', 'j', 'l', 'f', 'p', 'd', 'c', 'n']\n",
      "Topic 9: ['system', 'network', 'neural', 'motion', 'noise', 'different', 'model', 'time', 'speech', 'datum']\n",
      "Iter [30]===\n",
      "Topic 0: ['learning', 'problem', 'learn', 'state', 'algorithm', 'model', 'reinforcement', 'control', 'time', 'decision']\n",
      "Topic 1: ['neuron', 'model', 'cell', 'spike', 'input', 'response', 'synaptic', 'information', 'activity', 'stimulus']\n",
      "Topic 2: ['object', 'visual', 'model', 'image', 'representation', 'face', 'field', 'code', 'natural', 'vision']\n",
      "Topic 3: ['training', 'set', 'problem', 'datum', 'vector', 'learn', 'example', 'method', 'learning', 'error']\n",
      "Topic 4: ['function', 'algorithm', 'learning', 'linear', 'problem', 'x', 'value', 'result', 'bound', 'vector']\n",
      "Topic 5: ['network', 'neural', 'system', 'unit', 'time', 'input', 'model', 'analog', 'weight', 'architecture']\n",
      "Topic 6: ['system', 'signal', 'image', 'recognition', 'speech', 'human', 'information', 'task', 'problem', 'source']\n",
      "Topic 7: ['model', 'datum', 'method', 'distribution', 'gaussian', 'variable', 'bayesian', 'probability', 'mixture', 'approach']\n",
      "Topic 8: ['t', 'x', 'e', 'j', 'l', 'f', 'p', 'd', 'y', 'n']\n",
      "Topic 9: ['system', 'motion', 'problem', 'network', 'noise', 'algorithm', 'detection', 'engineering', 'time', 'different']\n",
      "Iter [40]===\n",
      "Topic 0: ['learning', 'problem', 'learn', 'state', 'control', 'reinforcement', 'algorithm', 'time', 'model', 'decision']\n",
      "Topic 1: ['neuron', 'model', 'cell', 'information', 'spike', 'response', 'neural', 'synaptic', 'activity', 'input']\n",
      "Topic 2: ['image', 'object', 'visual', 'model', 'representation', 'face', 'natural', 'field', 'processing', 'task']\n",
      "Topic 3: ['training', 'set', 'datum', 'problem', 'vector', 'learn', 'method', 'learning', 'example', 'error']\n",
      "Topic 4: ['algorithm', 'function', 'learning', 'linear', 'problem', 'bound', 'n', 'space', 'w', 'class']\n",
      "Topic 5: ['network', 'neural', 'system', 'unit', 'input', 'time', 'weight', 'analog', 'architecture', 'output']\n",
      "Topic 6: ['system', 'signal', 'recognition', 'image', 'speech', 'human', 'information', 'source', 'task', 'computer']\n",
      "Topic 7: ['model', 'datum', 'distribution', 'method', 'gaussian', 'probability', 'variable', 'bayesian', 'algorithm', 'mixture']\n",
      "Topic 8: ['x', 't', 'e', 'j', 'l', 'p', 'f', 'd', 'y', 'n']\n",
      "Topic 9: ['system', 'motion', 'problem', 'noise', 'time', 'classification', 'local', 'detection', 'different', 'engineering']\n",
      "Iter [50]===\n",
      "Topic 0: ['learning', 'problem', 'learn', 'state', 'algorithm', 'control', 'reinforcement', 'time', 'decision', 'base']\n",
      "Topic 1: ['neuron', 'model', 'cell', 'information', 'spike', 'response', 'input', 'synaptic', 'stimulus', 'activity']\n",
      "Topic 2: ['image', 'object', 'visual', 'model', 'representation', 'face', 'edu', 'feature', 'scene', 'natural']\n",
      "Topic 3: ['training', 'set', 'method', 'datum', 'learning', 'vector', 'problem', 'input', 'example', 'learn']\n",
      "Topic 4: ['algorithm', 'function', 'learning', 'linear', 'bound', 'problem', 'error', 'weight', 'gradient', 'result']\n",
      "Topic 5: ['network', 'neural', 'system', 'unit', 'time', 'input', 'analog', 'weight', 'architecture', 'output']\n",
      "Topic 6: ['signal', 'system', 'recognition', 'speech', 'information', 'image', 'human', 'source', 'task', 'sound']\n",
      "Topic 7: ['model', 'datum', 'distribution', 'gaussian', 'method', 'algorithm', 'variable', 'probability', 'bayesian', 'mixture']\n",
      "Topic 8: ['x', 't', 'j', 'e', 'p', 'l', 'f', 'd', 'y', 'v']\n",
      "Topic 9: ['motion', 'system', 'network', 'time', 'estimate', 'neural', 'engineering', 'approach', 'noise', 'university']\n",
      "Iter [60]===\n",
      "Topic 0: ['learning', 'problem', 'learn', 'state', 'control', 'reinforcement', 'algorithm', 'decision', 'time', 'dynamic']\n",
      "Topic 1: ['neuron', 'model', 'cell', 'response', 'spike', 'input', 'information', 'synaptic', 'stimulus', 'activity']\n",
      "Topic 2: ['image', 'visual', 'object', 'model', 'representation', 'face', 'feature', 'edu', 'human', 'vision']\n",
      "Topic 3: ['training', 'set', 'datum', 'problem', 'learning', 'vector', 'method', 'input', 'example', 'learn']\n",
      "Topic 4: ['algorithm', 'function', 'learning', 'linear', 'method', 'bound', 'result', 'w', 'error', 'gradient']\n",
      "Topic 5: ['network', 'neural', 'time', 'system', 'unit', 'input', 'analog', 'architecture', 'output', 'weight']\n",
      "Topic 6: ['recognition', 'signal', 'system', 'speech', 'information', 'source', 'human', 'task', 'sound', 'word']\n",
      "Topic 7: ['model', 'datum', 'distribution', 'algorithm', 'method', 'gaussian', 'probability', 'variable', 'bayesian', 'mixture']\n",
      "Topic 8: ['x', 't', 'j', 'e', 'p', 'f', 'l', 'd', 'y', 'v']\n",
      "Topic 9: ['motion', 'system', 'network', 'neural', 'approach', 'problem', 'time', 'estimate', 'model', 'engineering']\n",
      "Iter [70]===\n",
      "Topic 0: ['learning', 'problem', 'state', 'learn', 'control', 'reinforcement', 'algorithm', 'decision', 'time', 'value']\n",
      "Topic 1: ['neuron', 'model', 'cell', 'response', 'spike', 'information', 'input', 'synaptic', 'stimulus', 'activity']\n",
      "Topic 2: ['image', 'object', 'visual', 'model', 'representation', 'face', 'feature', 'edu', 'human', 'task']\n",
      "Topic 3: ['datum', 'training', 'set', 'learning', 'problem', 'method', 'vector', 'classification', 'example', 'error']\n",
      "Topic 4: ['algorithm', 'function', 'learning', 'linear', 'bound', 'result', 'problem', 'new', 'error', 'parameter']\n",
      "Topic 5: ['network', 'neural', 'system', 'unit', 'input', 'time', 'analog', 'weight', 'output', 'architecture']\n",
      "Topic 6: ['recognition', 'system', 'signal', 'speech', 'source', 'sound', 'channel', 'information', 'human', 'frequency']\n",
      "Topic 7: ['model', 'datum', 'distribution', 'method', 'probability', 'gaussian', 'algorithm', 'variable', 'bayesian', 'problem']\n",
      "Topic 8: ['x', 't', 'e', 'j', 'l', 'p', 'f', 'n', 'y', 'd']\n",
      "Topic 9: ['motion', 'system', 'model', 'time', 'datum', 'base', 'neural', 'engineering', 'detection', 'estimate']\n",
      "Iter [80]===\n",
      "Topic 0: ['learning', 'problem', 'state', 'learn', 'control', 'reinforcement', 'algorithm', 'decision', 'task', 'time']\n",
      "Topic 1: ['neuron', 'model', 'cell', 'information', 'response', 'input', 'spike', 'stimulus', 'activity', 'cortex']\n",
      "Topic 2: ['image', 'object', 'visual', 'model', 'representation', 'face', 'edu', 'human', 'feature', 'task']\n",
      "Topic 3: ['training', 'datum', 'set', 'problem', 'method', 'learning', 'vector', 'algorithm', 'example', 'learn']\n",
      "Topic 4: ['algorithm', 'function', 'learning', 'linear', 'problem', 'bound', 'weight', 'new', 'error', 'result']\n",
      "Topic 5: ['network', 'neural', 'system', 'unit', 'time', 'input', 'architecture', 'analog', 'output', 'dynamic']\n",
      "Topic 6: ['signal', 'system', 'recognition', 'speech', 'source', 'time', 'sound', 'word', 'channel', 'auditory']\n",
      "Topic 7: ['model', 'datum', 'distribution', 'method', 'gaussian', 'probability', 'variable', 'bayesian', 'algorithm', 'mixture']\n",
      "Topic 8: ['x', 't', 'j', 'e', 'f', 'l', 'p', 'n', 'y', 'd']\n",
      "Topic 9: ['motion', 'system', 'model', 'time', 'datum', 'engineering', 'technology', 'detection', 'estimate', 'problem']\n",
      "Iter [90]===\n",
      "Topic 0: ['learning', 'problem', 'state', 'learn', 'control', 'reinforcement', 'algorithm', 'task', 'decision', 'time']\n",
      "Topic 1: ['neuron', 'model', 'cell', 'information', 'input', 'response', 'spike', 'stimulus', 'synaptic', 'activity']\n",
      "Topic 2: ['image', 'object', 'visual', 'model', 'representation', 'face', 'human', 'recognition', 'feature', 'edu']\n",
      "Topic 3: ['datum', 'training', 'set', 'problem', 'learning', 'method', 'vector', 'learn', 'classification', 'algorithm']\n",
      "Topic 4: ['algorithm', 'function', 'learning', 'linear', 'problem', 'weight', 'result', 'bound', 'error', 'gradient']\n",
      "Topic 5: ['network', 'neural', 'system', 'unit', 'time', 'input', 'architecture', 'analog', 'output', 'circuit']\n",
      "Topic 6: ['speech', 'signal', 'system', 'recognition', 'source', 'auditory', 'sound', 'word', 'frequency', 'character']\n",
      "Topic 7: ['model', 'datum', 'distribution', 'method', 'probability', 'algorithm', 'gaussian', 'variable', 'bayesian', 'mixture']\n",
      "Topic 8: ['x', 't', 'e', 'j', 'l', 'f', 'n', 'p', 'y', 'd']\n",
      "Topic 9: ['motion', 'system', 'model', 'time', 'engineering', 'datum', 'approach', 'noise', 'base', 'prediction']\n",
      "Iter [100]===\n",
      "Topic 0: ['learning', 'state', 'problem', 'learn', 'control', 'reinforcement', 'algorithm', 'time', 'decision', 'dynamic']\n",
      "Topic 1: ['neuron', 'model', 'cell', 'response', 'information', 'spike', 'input', 'stimulus', 'neural', 'synaptic']\n",
      "Topic 2: ['image', 'object', 'visual', 'model', 'representation', 'human', 'face', 'task', 'edu', 'recognition']\n",
      "Topic 3: ['datum', 'training', 'set', 'problem', 'learning', 'classification', 'method', 'vector', 'example', 'learn']\n",
      "Topic 4: ['algorithm', 'function', 'learning', 'problem', 'linear', 'bound', 'gradient', 'result', 'error', 'weight']\n",
      "Topic 5: ['network', 'neural', 'system', 'input', 'time', 'unit', 'architecture', 'analog', 'output', 'dynamic']\n",
      "Topic 6: ['signal', 'speech', 'recognition', 'system', 'source', 'auditory', 'sound', 'time', 'word', 'channel']\n",
      "Topic 7: ['model', 'datum', 'algorithm', 'distribution', 'probability', 'method', 'gaussian', 'variable', 'bayesian', 'mixture']\n",
      "Topic 8: ['x', 't', 'e', 'j', 'n', 'f', 'l', 'd', 'y', 'p']\n",
      "Topic 9: ['model', 'motion', 'system', 'time', 'noise', 'datum', 'nonlinear', 'prediction', 'estimate', 'approach']\n",
      "Iter [110]===\n",
      "Topic 0: ['learning', 'state', 'problem', 'learn', 'control', 'reinforcement', 'algorithm', 'decision', 'time', 'dynamic']\n",
      "Topic 1: ['neuron', 'model', 'cell', 'response', 'information', 'input', 'spike', 'stimulus', 'synaptic', 'neural']\n",
      "Topic 2: ['image', 'object', 'visual', 'model', 'representation', 'human', 'task', 'face', 'recognition', 'system']\n",
      "Topic 3: ['datum', 'training', 'set', 'problem', 'learning', 'method', 'vector', 'classification', 'learn', 'algorithm']\n",
      "Topic 4: ['algorithm', 'function', 'learning', 'problem', 'linear', 'result', 'gradient', 'bound', 'error', 'weight']\n",
      "Topic 5: ['network', 'neural', 'system', 'time', 'input', 'analog', 'architecture', 'unit', 'output', 'circuit']\n",
      "Topic 6: ['signal', 'speech', 'recognition', 'system', 'source', 'auditory', 'sound', 'channel', 'word', 'component']\n",
      "Topic 7: ['model', 'datum', 'distribution', 'probability', 'gaussian', 'algorithm', 'method', 'variable', 'bayesian', 'mixture']\n",
      "Topic 8: ['x', 't', 'j', 'e', 'n', 'l', 'f', 'p', 'y', 'd']\n",
      "Topic 9: ['motion', 'model', 'system', 'time', 'nonlinear', 'datum', 'engineering', 'noise', 'estimate', 'smooth']\n",
      "Iter [120]===\n",
      "Topic 0: ['learning', 'state', 'problem', 'learn', 'control', 'reinforcement', 'algorithm', 'decision', 'time', 'dynamic']\n",
      "Topic 1: ['neuron', 'model', 'cell', 'information', 'response', 'input', 'stimulus', 'spike', 'neural', 'synaptic']\n",
      "Topic 2: ['image', 'object', 'visual', 'model', 'representation', 'human', 'task', 'face', 'recognition', 'feature']\n",
      "Topic 3: ['datum', 'training', 'set', 'method', 'learning', 'problem', 'classification', 'vector', 'algorithm', 'learn']\n",
      "Topic 4: ['algorithm', 'function', 'learning', 'linear', 'problem', 'error', 'result', 'bound', 'gradient', 'weight']\n",
      "Topic 5: ['network', 'neural', 'system', 'input', 'time', 'unit', 'analog', 'architecture', 'output', 'circuit']\n",
      "Topic 6: ['signal', 'system', 'speech', 'recognition', 'source', 'auditory', 'sound', 'channel', 'word', 'time']\n",
      "Topic 7: ['model', 'datum', 'distribution', 'method', 'gaussian', 'probability', 'variable', 'algorithm', 'bayesian', 'mixture']\n",
      "Topic 8: ['x', 't', 'e', 'l', 'j', 'f', 'd', 'y', 'k', 'n']\n",
      "Topic 9: ['motion', 'system', 'model', 'time', 'datum', 'noise', 'engineering', 'prediction', 'neural', 'network']\n",
      "Iter [130]===\n",
      "Topic 0: ['learning', 'problem', 'state', 'learn', 'control', 'reinforcement', 'time', 'algorithm', 'decision', 'system']\n",
      "Topic 1: ['neuron', 'model', 'cell', 'response', 'information', 'input', 'spike', 'stimulus', 'cortex', 'synaptic']\n",
      "Topic 2: ['image', 'object', 'visual', 'model', 'human', 'representation', 'edu', 'face', 'task', 'recognition']\n",
      "Topic 3: ['datum', 'training', 'set', 'problem', 'method', 'classification', 'algorithm', 'learning', 'vector', 'feature']\n",
      "Topic 4: ['algorithm', 'function', 'learning', 'linear', 'problem', 'bound', 'result', 'error', 'gradient', 'number']\n",
      "Topic 5: ['network', 'neural', 'system', 'input', 'time', 'unit', 'analog', 'output', 'architecture', 'weight']\n",
      "Topic 6: ['signal', 'speech', 'recognition', 'system', 'source', 'auditory', 'sound', 'time', 'frequency', 'channel']\n",
      "Topic 7: ['model', 'datum', 'distribution', 'probability', 'gaussian', 'method', 'algorithm', 'variable', 'bayesian', 'mixture']\n",
      "Topic 8: ['x', 't', 'e', 'f', 'n', 'd', 'l', 'p', 'y', 'j']\n",
      "Topic 9: ['model', 'motion', 'system', 'time', 'datum', 'neural', 'network', 'engineering', 'approach', 'base']\n",
      "Iter [140]===\n",
      "Topic 0: ['learning', 'learn', 'state', 'problem', 'control', 'reinforcement', 'algorithm', 'time', 'decision', 'dynamic']\n",
      "Topic 1: ['neuron', 'model', 'cell', 'input', 'response', 'information', 'spike', 'stimulus', 'neural', 'visual']\n",
      "Topic 2: ['image', 'object', 'visual', 'model', 'human', 'representation', 'recognition', 'edu', 'task', 'face']\n",
      "Topic 3: ['datum', 'training', 'set', 'method', 'problem', 'classification', 'learning', 'vector', 'algorithm', 'class']\n",
      "Topic 4: ['algorithm', 'function', 'learning', 'linear', 'problem', 'error', 'bound', 'result', 'gradient', 'weight']\n",
      "Topic 5: ['network', 'neural', 'system', 'time', 'input', 'analog', 'architecture', 'unit', 'output', 'circuit']\n",
      "Topic 6: ['signal', 'speech', 'system', 'recognition', 'source', 'auditory', 'sound', 'word', 'channel', 'frequency']\n",
      "Topic 7: ['model', 'datum', 'distribution', 'gaussian', 'method', 'probability', 'algorithm', 'variable', 'mixture', 'bayesian']\n",
      "Topic 8: ['x', 't', 'e', 'j', 'l', 'y', 'f', 'd', 'p', 'n']\n",
      "Topic 9: ['model', 'motion', 'system', 'time', 'network', 'neural', 'datum', 'engineering', 'series', 'nonlinear']\n",
      "Iter [150]===\n",
      "Topic 0: ['learning', 'problem', 'state', 'learn', 'control', 'reinforcement', 'algorithm', 'time', 'decision', 'task']\n",
      "Topic 1: ['neuron', 'model', 'cell', 'response', 'information', 'input', 'spike', 'stimulus', 'visual', 'synaptic']\n",
      "Topic 2: ['image', 'object', 'visual', 'model', 'representation', 'human', 'recognition', 'face', 'edu', 'system']\n",
      "Topic 3: ['datum', 'training', 'method', 'set', 'classification', 'problem', 'vector', 'learning', 'algorithm', 'feature']\n",
      "Topic 4: ['algorithm', 'function', 'learning', 'problem', 'linear', 'weight', 'bound', 'network', 'result', 'error']\n",
      "Topic 5: ['network', 'neural', 'system', 'time', 'input', 'analog', 'output', 'architecture', 'unit', 'circuit']\n",
      "Topic 6: ['signal', 'speech', 'system', 'recognition', 'source', 'auditory', 'sound', 'channel', 'frequency', 'word']\n",
      "Topic 7: ['model', 'datum', 'distribution', 'method', 'algorithm', 'probability', 'gaussian', 'variable', 'mixture', 'bayesian']\n",
      "Topic 8: ['x', 't', 'e', 'f', 'j', 'n', 'l', 'y', 'd', 'k']\n",
      "Topic 9: ['model', 'motion', 'system', 'time', 'neural', 'datum', 'engineering', 'series', 'network', 'prediction']\n",
      "Iter [160]===\n",
      "Topic 0: ['learning', 'state', 'learn', 'problem', 'control', 'reinforcement', 'algorithm', 'decision', 'time', 'task']\n",
      "Topic 1: ['neuron', 'model', 'cell', 'response', 'information', 'input', 'spike', 'stimulus', 'synaptic', 'cortex']\n",
      "Topic 2: ['image', 'object', 'visual', 'model', 'representation', 'human', 'recognition', 'edu', 'task', 'face']\n",
      "Topic 3: ['datum', 'training', 'method', 'problem', 'classification', 'vector', 'set', 'learning', 'algorithm', 'example']\n",
      "Topic 4: ['algorithm', 'function', 'learning', 'problem', 'linear', 'network', 'result', 'weight', 'bound', 'gradient']\n",
      "Topic 5: ['network', 'neural', 'system', 'input', 'time', 'analog', 'architecture', 'unit', 'circuit', 'state']\n",
      "Topic 6: ['signal', 'speech', 'system', 'recognition', 'source', 'auditory', 'channel', 'sound', 'time', 'frequency']\n",
      "Topic 7: ['model', 'datum', 'distribution', 'probability', 'method', 'variable', 'gaussian', 'approach', 'mixture', 'algorithm']\n",
      "Topic 8: ['x', 't', 'e', 'l', 'n', 'j', 'f', 'y', 'd', 'p']\n",
      "Topic 9: ['model', 'system', 'motion', 'time', 'datum', 'network', 'engineering', 'series', 'base', 'prediction']\n",
      "Iter [170]===\n",
      "Topic 0: ['learning', 'state', 'learn', 'problem', 'control', 'reinforcement', 'algorithm', 'decision', 'task', 'dynamic']\n",
      "Topic 1: ['neuron', 'model', 'cell', 'information', 'response', 'spike', 'stimulus', 'input', 'neural', 'cortex']\n",
      "Topic 2: ['image', 'object', 'visual', 'model', 'human', 'representation', 'recognition', 'task', 'edu', 'face']\n",
      "Topic 3: ['datum', 'problem', 'training', 'method', 'vector', 'classification', 'set', 'learning', 'algorithm', 'feature']\n",
      "Topic 4: ['algorithm', 'function', 'learning', 'problem', 'linear', 'result', 'network', 'weight', 'bound', 'error']\n",
      "Topic 5: ['network', 'neural', 'system', 'time', 'input', 'analog', 'architecture', 'state', 'circuit', 'unit']\n",
      "Topic 6: ['signal', 'speech', 'system', 'recognition', 'source', 'auditory', 'channel', 'sound', 'frequency', 'word']\n",
      "Topic 7: ['model', 'datum', 'distribution', 'variable', 'probability', 'gaussian', 'method', 'bayesian', 'approach', 'mixture']\n",
      "Topic 8: ['x', 't', 'e', 'f', 'j', 'l', 'n', 'y', 'd', 'p']\n",
      "Topic 9: ['model', 'system', 'time', 'network', 'motion', 'engineering', 'prediction', 'noise', 'datum', 'base']\n",
      "Iter [180]===\n",
      "Topic 0: ['learning', 'state', 'problem', 'learn', 'control', 'reinforcement', 'decision', 'algorithm', 'time', 'system']\n",
      "Topic 1: ['neuron', 'model', 'cell', 'information', 'input', 'response', 'stimulus', 'spike', 'visual', 'cortex']\n",
      "Topic 2: ['image', 'object', 'visual', 'model', 'representation', 'human', 'task', 'recognition', 'edu', 'face']\n",
      "Topic 3: ['datum', 'method', 'training', 'vector', 'problem', 'classification', 'algorithm', 'set', 'learning', 'feature']\n",
      "Topic 4: ['algorithm', 'function', 'learning', 'problem', 'network', 'linear', 'error', 'weight', 'result', 'learn']\n",
      "Topic 5: ['network', 'neural', 'system', 'time', 'input', 'unit', 'architecture', 'analog', 'output', 'circuit']\n",
      "Topic 6: ['signal', 'speech', 'recognition', 'system', 'source', 'auditory', 'sound', 'channel', 'frequency', 'word']\n",
      "Topic 7: ['model', 'datum', 'distribution', 'gaussian', 'probability', 'variable', 'method', 'bayesian', 'algorithm', 'mixture']\n",
      "Topic 8: ['x', 't', 'e', 'n', 'j', 'l', 'f', 'd', 'y', 'p']\n",
      "Topic 9: ['model', 'system', 'datum', 'network', 'time', 'motion', 'prediction', 'neural', 'engineering', 'nonlinear']\n",
      "Iter [190]===\n",
      "Topic 0: ['learning', 'state', 'learn', 'problem', 'control', 'reinforcement', 'algorithm', 'time', 'decision', 'dynamic']\n",
      "Topic 1: ['neuron', 'model', 'cell', 'information', 'response', 'input', 'spike', 'stimulus', 'cortex', 'synaptic']\n",
      "Topic 2: ['image', 'object', 'visual', 'model', 'human', 'representation', 'recognition', 'task', 'face', 'edu']\n",
      "Topic 3: ['datum', 'method', 'training', 'classification', 'set', 'problem', 'algorithm', 'vector', 'learning', 'feature']\n",
      "Topic 4: ['algorithm', 'function', 'learning', 'network', 'problem', 'linear', 'weight', 'error', 'training', 'bound']\n",
      "Topic 5: ['network', 'neural', 'system', 'input', 'time', 'analog', 'architecture', 'circuit', 'unit', 'output']\n",
      "Topic 6: ['signal', 'speech', 'system', 'recognition', 'source', 'auditory', 'frequency', 'sound', 'time', 'channel']\n",
      "Topic 7: ['model', 'datum', 'distribution', 'probability', 'variable', 'gaussian', 'method', 'algorithm', 'problem', 'bayesian']\n",
      "Topic 8: ['x', 't', 'e', 'l', 'y', 'n', 'f', 'p', 'j', 'd']\n",
      "Topic 9: ['system', 'time', 'model', 'datum', 'engineering', 'prediction', 'network', 'noise', 'neural', 'motion']\n",
      "Iter [200]===\n",
      "Topic 0: ['learning', 'state', 'problem', 'control', 'learn', 'reinforcement', 'decision', 'time', 'algorithm', 'policy']\n",
      "Topic 1: ['neuron', 'model', 'cell', 'response', 'input', 'stimulus', 'spike', 'information', 'cortex', 'synaptic']\n",
      "Topic 2: ['image', 'object', 'visual', 'model', 'human', 'task', 'recognition', 'representation', 'edu', 'face']\n",
      "Topic 3: ['datum', 'method', 'training', 'problem', 'classification', 'algorithm', 'set', 'vector', 'feature', 'learning']\n",
      "Topic 4: ['algorithm', 'function', 'learning', 'network', 'linear', 'problem', 'learn', 'error', 'weight', 'result']\n",
      "Topic 5: ['network', 'neural', 'system', 'input', 'time', 'analog', 'architecture', 'circuit', 'dynamic', 'unit']\n",
      "Topic 6: ['signal', 'speech', 'system', 'recognition', 'source', 'auditory', 'channel', 'sound', 'frequency', 'time']\n",
      "Topic 7: ['model', 'datum', 'distribution', 'probability', 'gaussian', 'method', 'variable', 'algorithm', 'problem', 'mixture']\n",
      "Topic 8: ['x', 't', 'e', 'l', 'n', 'f', 'y', 'j', 'd', 'k']\n",
      "Topic 9: ['system', 'model', 'time', 'motion', 'datum', 'prediction', 'base', 'neural', 'engineering', 'network']\n",
      "Iter [210]===\n",
      "Topic 0: ['learning', 'problem', 'state', 'learn', 'control', 'reinforcement', 'algorithm', 'decision', 'time', 'action']\n",
      "Topic 1: ['neuron', 'model', 'cell', 'information', 'response', 'input', 'spike', 'stimulus', 'visual', 'synaptic']\n",
      "Topic 2: ['image', 'object', 'visual', 'model', 'representation', 'task', 'human', 'recognition', 'face', 'edu']\n",
      "Topic 3: ['datum', 'method', 'problem', 'classification', 'training', 'vector', 'set', 'algorithm', 'feature', 'learning']\n",
      "Topic 4: ['algorithm', 'function', 'learning', 'network', 'linear', 'problem', 'error', 'training', 'weight', 'learn']\n",
      "Topic 5: ['network', 'neural', 'system', 'time', 'input', 'analog', 'architecture', 'circuit', 'dynamic', 'state']\n",
      "Topic 6: ['signal', 'speech', 'system', 'recognition', 'source', 'auditory', 'sound', 'channel', 'frequency', 'word']\n",
      "Topic 7: ['model', 'datum', 'distribution', 'probability', 'gaussian', 'variable', 'method', 'algorithm', 'network', 'bayesian']\n",
      "Topic 8: ['x', 't', 'e', 'y', 'j', 'l', 'd', 'f', 'n', 'p']\n",
      "Topic 9: ['system', 'time', 'motion', 'model', 'base', 'datum', 'engineering', 'network', 'prediction', 'estimate']\n",
      "Iter [220]===\n",
      "Topic 0: ['learning', 'state', 'learn', 'problem', 'control', 'reinforcement', 'decision', 'algorithm', 'task', 'policy']\n",
      "Topic 1: ['neuron', 'model', 'cell', 'information', 'input', 'response', 'spike', 'stimulus', 'visual', 'neural']\n",
      "Topic 2: ['image', 'object', 'visual', 'model', 'human', 'representation', 'recognition', 'face', 'system', 'task']\n",
      "Topic 3: ['datum', 'classification', 'training', 'method', 'problem', 'algorithm', 'set', 'vector', 'feature', 'class']\n",
      "Topic 4: ['algorithm', 'function', 'learning', 'network', 'problem', 'linear', 'error', 'learn', 'weight', 'training']\n",
      "Topic 5: ['network', 'neural', 'system', 'time', 'analog', 'input', 'architecture', 'circuit', 'dynamic', 'state']\n",
      "Topic 6: ['signal', 'speech', 'system', 'recognition', 'source', 'auditory', 'channel', 'sound', 'frequency', 'word']\n",
      "Topic 7: ['model', 'datum', 'distribution', 'probability', 'gaussian', 'variable', 'algorithm', 'method', 'bayesian', 'network']\n",
      "Topic 8: ['x', 't', 'e', 'l', 'n', 'j', 'd', 'f', 'p', 'y']\n",
      "Topic 9: ['model', 'time', 'motion', 'system', 'prediction', 'datum', 'engineering', 'estimate', 'noise', 'neural']\n",
      "Iter [230]===\n",
      "Topic 0: ['learning', 'state', 'problem', 'learn', 'control', 'reinforcement', 'algorithm', 'decision', 'task', 'system']\n",
      "Topic 1: ['neuron', 'model', 'cell', 'information', 'response', 'stimulus', 'input', 'spike', 'visual', 'synaptic']\n",
      "Topic 2: ['image', 'object', 'visual', 'model', 'human', 'representation', 'recognition', 'edu', 'task', 'face']\n",
      "Topic 3: ['datum', 'method', 'problem', 'training', 'classification', 'algorithm', 'vector', 'set', 'feature', 'class']\n",
      "Topic 4: ['algorithm', 'function', 'learning', 'network', 'learn', 'problem', 'linear', 'weight', 'error', 'training']\n",
      "Topic 5: ['network', 'neural', 'system', 'time', 'input', 'analog', 'circuit', 'architecture', 'dynamic', 'problem']\n",
      "Topic 6: ['signal', 'speech', 'system', 'recognition', 'source', 'auditory', 'sound', 'channel', 'frequency', 'word']\n",
      "Topic 7: ['model', 'datum', 'distribution', 'probability', 'gaussian', 'variable', 'method', 'problem', 'network', 'bayesian']\n",
      "Topic 8: ['x', 't', 'e', 'l', 'f', 'n', 'j', 'd', 'y', 'p']\n",
      "Topic 9: ['model', 'motion', 'time', 'system', 'datum', 'engineering', 'prediction', 'neural', 'base', 'estimate']\n",
      "Iter [240]===\n",
      "Topic 0: ['learning', 'problem', 'state', 'learn', 'control', 'reinforcement', 'algorithm', 'time', 'decision', 'system']\n",
      "Topic 1: ['neuron', 'model', 'cell', 'information', 'response', 'input', 'spike', 'stimulus', 'visual', 'synaptic']\n",
      "Topic 2: ['image', 'object', 'visual', 'model', 'task', 'human', 'representation', 'recognition', 'edu', 'face']\n",
      "Topic 3: ['datum', 'method', 'algorithm', 'classification', 'set', 'problem', 'training', 'vector', 'class', 'feature']\n",
      "Topic 4: ['algorithm', 'function', 'learning', 'network', 'problem', 'linear', 'training', 'error', 'learn', 'weight']\n",
      "Topic 5: ['network', 'neural', 'system', 'time', 'analog', 'input', 'architecture', 'dynamic', 'circuit', 'state']\n",
      "Topic 6: ['signal', 'speech', 'system', 'recognition', 'source', 'auditory', 'sound', 'frequency', 'channel', 'word']\n",
      "Topic 7: ['model', 'datum', 'distribution', 'probability', 'gaussian', 'variable', 'algorithm', 'method', 'mixture', 'bayesian']\n",
      "Topic 8: ['x', 't', 'e', 'j', 'l', 'f', 'y', 'p', 'd', 'n']\n",
      "Topic 9: ['model', 'motion', 'datum', 'prediction', 'engineering', 'time', 'system', 'estimate', 'base', 'series']\n",
      "Iter [250]===\n",
      "Topic 0: ['learning', 'state', 'problem', 'learn', 'control', 'reinforcement', 'algorithm', 'decision', 'time', 'function']\n",
      "Topic 1: ['neuron', 'model', 'cell', 'information', 'response', 'input', 'spike', 'stimulus', 'synaptic', 'cortex']\n",
      "Topic 2: ['image', 'object', 'visual', 'model', 'task', 'human', 'representation', 'recognition', 'system', 'face']\n",
      "Topic 3: ['datum', 'problem', 'method', 'classification', 'algorithm', 'training', 'vector', 'set', 'feature', 'learning']\n",
      "Topic 4: ['algorithm', 'network', 'function', 'learning', 'problem', 'learn', 'error', 'weight', 'neural', 'training']\n",
      "Topic 5: ['network', 'neural', 'system', 'time', 'analog', 'input', 'circuit', 'architecture', 'model', 'dynamic']\n",
      "Topic 6: ['signal', 'speech', 'system', 'recognition', 'source', 'auditory', 'sound', 'frequency', 'channel', 'word']\n",
      "Topic 7: ['model', 'datum', 'distribution', 'probability', 'gaussian', 'algorithm', 'variable', 'bayesian', 'mixture', 'method']\n",
      "Topic 8: ['x', 't', 'e', 'n', 'l', 'j', 'f', 'y', 'd', 'p']\n",
      "Topic 9: ['motion', 'system', 'time', 'model', 'datum', 'prediction', 'engineering', 'series', 'nonlinear', 'network']\n",
      "Iter [260]===\n",
      "Topic 0: ['learning', 'state', 'problem', 'learn', 'control', 'reinforcement', 'algorithm', 'decision', 'time', 'dynamic']\n",
      "Topic 1: ['neuron', 'model', 'cell', 'information', 'response', 'input', 'stimulus', 'spike', 'synaptic', 'cortex']\n",
      "Topic 2: ['image', 'object', 'visual', 'model', 'human', 'representation', 'recognition', 'system', 'task', 'face']\n",
      "Topic 3: ['datum', 'method', 'problem', 'classification', 'training', 'algorithm', 'set', 'vector', 'feature', 'class']\n",
      "Topic 4: ['algorithm', 'network', 'function', 'learning', 'training', 'problem', 'learn', 'weight', 'neural', 'linear']\n",
      "Topic 5: ['network', 'neural', 'system', 'time', 'analog', 'circuit', 'input', 'architecture', 'state', 'dynamic']\n",
      "Topic 6: ['signal', 'speech', 'system', 'recognition', 'source', 'auditory', 'sound', 'channel', 'frequency', 'noise']\n",
      "Topic 7: ['model', 'distribution', 'datum', 'probability', 'gaussian', 'variable', 'bayesian', 'method', 'algorithm', 'mixture']\n",
      "Topic 8: ['x', 't', 'e', 'j', 'l', 'f', 'y', 'n', 'd', 'p']\n",
      "Topic 9: ['model', 'time', 'network', 'datum', 'system', 'prediction', 'engineering', 'neural', 'nonlinear', 'series']\n",
      "Iter [270]===\n",
      "Topic 0: ['learning', 'state', 'problem', 'learn', 'control', 'reinforcement', 'algorithm', 'decision', 'time', 'dynamic']\n",
      "Topic 1: ['neuron', 'model', 'cell', 'information', 'response', 'stimulus', 'spike', 'input', 'neural', 'cortex']\n",
      "Topic 2: ['image', 'object', 'visual', 'model', 'human', 'recognition', 'task', 'representation', 'system', 'face']\n",
      "Topic 3: ['datum', 'method', 'problem', 'set', 'classification', 'algorithm', 'vector', 'training', 'feature', 'class']\n",
      "Topic 4: ['algorithm', 'network', 'learning', 'function', 'learn', 'weight', 'problem', 'training', 'neural', 'linear']\n",
      "Topic 5: ['network', 'neural', 'system', 'time', 'analog', 'model', 'input', 'circuit', 'state', 'architecture']\n",
      "Topic 6: ['signal', 'speech', 'system', 'source', 'recognition', 'auditory', 'sound', 'frequency', 'channel', 'noise']\n",
      "Topic 7: ['model', 'datum', 'distribution', 'probability', 'gaussian', 'variable', 'method', 'bayesian', 'algorithm', 'mixture']\n",
      "Topic 8: ['x', 't', 'e', 'j', 'f', 'l', 'd', 'n', 'y', 'k']\n",
      "Topic 9: ['model', 'system', 'time', 'datum', 'network', 'engineering', 'series', 'neural', 'prediction', 'nonlinear']\n",
      "Iter [280]===\n",
      "Topic 0: ['learning', 'state', 'learn', 'problem', 'control', 'reinforcement', 'algorithm', 'decision', 'dynamic', 'value']\n",
      "Topic 1: ['neuron', 'model', 'cell', 'information', 'response', 'input', 'stimulus', 'spike', 'cortex', 'synaptic']\n",
      "Topic 2: ['image', 'object', 'visual', 'model', 'representation', 'human', 'task', 'recognition', 'face', 'edu']\n",
      "Topic 3: ['datum', 'method', 'classification', 'algorithm', 'problem', 'set', 'vector', 'training', 'feature', 'class']\n",
      "Topic 4: ['algorithm', 'network', 'learning', 'function', 'problem', 'neural', 'learn', 'training', 'weight', 'error']\n",
      "Topic 5: ['network', 'neural', 'system', 'time', 'analog', 'architecture', 'circuit', 'input', 'dynamic', 'state']\n",
      "Topic 6: ['signal', 'speech', 'system', 'recognition', 'source', 'auditory', 'frequency', 'sound', 'channel', 'component']\n",
      "Topic 7: ['model', 'datum', 'distribution', 'probability', 'gaussian', 'variable', 'method', 'mixture', 'bayesian', 'algorithm']\n",
      "Topic 8: ['x', 't', 'e', 'f', 'y', 'j', 'n', 'd', 'l', 'p']\n",
      "Topic 9: ['system', 'time', 'network', 'model', 'datum', 'engineering', 'prediction', 'series', 'neural', 'nonlinear']\n",
      "Iter [290]===\n",
      "Topic 0: ['learning', 'state', 'problem', 'learn', 'control', 'reinforcement', 'algorithm', 'decision', 'time', 'value']\n",
      "Topic 1: ['neuron', 'model', 'cell', 'information', 'response', 'stimulus', 'input', 'spike', 'synaptic', 'cortex']\n",
      "Topic 2: ['image', 'object', 'visual', 'model', 'human', 'task', 'recognition', 'representation', 'system', 'motion']\n",
      "Topic 3: ['datum', 'method', 'problem', 'classification', 'algorithm', 'training', 'vector', 'set', 'feature', 'class']\n",
      "Topic 4: ['network', 'algorithm', 'learning', 'function', 'neural', 'learn', 'problem', 'weight', 'training', 'error']\n",
      "Topic 5: ['network', 'neural', 'system', 'time', 'analog', 'circuit', 'dynamic', 'architecture', 'input', 'computer']\n",
      "Topic 6: ['signal', 'speech', 'system', 'recognition', 'source', 'auditory', 'sound', 'channel', 'frequency', 'word']\n",
      "Topic 7: ['model', 'datum', 'distribution', 'variable', 'gaussian', 'probability', 'method', 'algorithm', 'bayesian', 'mixture']\n",
      "Topic 8: ['x', 't', 'e', 'f', 'j', 'y', 'n', 'l', 'd', 'p']\n",
      "Topic 9: ['system', 'model', 'network', 'datum', 'time', 'prediction', 'series', 'engineering', 'neural', 'nonlinear']\n",
      "Iter [300]===\n",
      "Topic 0: ['learning', 'problem', 'state', 'learn', 'control', 'reinforcement', 'algorithm', 'time', 'decision', 'dynamic']\n",
      "Topic 1: ['neuron', 'model', 'cell', 'information', 'response', 'stimulus', 'input', 'spike', 'cortex', 'synaptic']\n",
      "Topic 2: ['image', 'object', 'visual', 'model', 'human', 'representation', 'task', 'system', 'edu', 'recognition']\n",
      "Topic 3: ['datum', 'problem', 'method', 'algorithm', 'vector', 'set', 'classification', 'training', 'feature', 'class']\n",
      "Topic 4: ['network', 'algorithm', 'learning', 'function', 'neural', 'learn', 'weight', 'problem', 'training', 'error']\n",
      "Topic 5: ['network', 'neural', 'system', 'time', 'analog', 'circuit', 'input', 'state', 'architecture', 'chip']\n",
      "Topic 6: ['signal', 'speech', 'system', 'recognition', 'source', 'auditory', 'channel', 'sound', 'frequency', 'word']\n",
      "Topic 7: ['model', 'datum', 'distribution', 'variable', 'probability', 'gaussian', 'algorithm', 'method', 'bayesian', 'mixture']\n",
      "Topic 8: ['x', 't', 'e', 'j', 'n', 'f', 'd', 'l', 'y', 'p']\n",
      "Topic 9: ['network', 'system', 'model', 'datum', 'time', 'neural', 'prediction', 'engineering', 'series', 'nonlinear']\n",
      "Iter [310]===\n",
      "Topic 0: ['learning', 'state', 'problem', 'learn', 'control', 'reinforcement', 'algorithm', 'decision', 'dynamic', 'time']\n",
      "Topic 1: ['neuron', 'model', 'cell', 'information', 'input', 'response', 'stimulus', 'spike', 'neural', 'activity']\n",
      "Topic 2: ['image', 'object', 'visual', 'model', 'task', 'human', 'recognition', 'representation', 'motion', 'face']\n",
      "Topic 3: ['datum', 'method', 'algorithm', 'classification', 'problem', 'vector', 'set', 'training', 'feature', 'class']\n",
      "Topic 4: ['network', 'algorithm', 'learning', 'function', 'neural', 'learn', 'weight', 'training', 'problem', 'error']\n",
      "Topic 5: ['network', 'neural', 'system', 'time', 'analog', 'circuit', 'input', 'architecture', 'model', 'state']\n",
      "Topic 6: ['signal', 'speech', 'system', 'source', 'recognition', 'auditory', 'sound', 'noise', 'channel', 'frequency']\n",
      "Topic 7: ['model', 'distribution', 'datum', 'method', 'probability', 'gaussian', 'variable', 'algorithm', 'bayesian', 'problem']\n",
      "Topic 8: ['x', 't', 'e', 'n', 'j', 'l', 'f', 'y', 'd', 'k']\n",
      "Topic 9: ['system', 'model', 'network', 'neural', 'prediction', 'time', 'datum', 'series', 'engineering', 'approach']\n",
      "Iter [320]===\n",
      "Topic 0: ['learning', 'state', 'problem', 'learn', 'control', 'reinforcement', 'algorithm', 'decision', 'function', 'time']\n",
      "Topic 1: ['neuron', 'model', 'cell', 'information', 'input', 'response', 'stimulus', 'spike', 'neural', 'cortex']\n",
      "Topic 2: ['image', 'object', 'visual', 'model', 'task', 'human', 'recognition', 'representation', 'edu', 'motion']\n",
      "Topic 3: ['datum', 'method', 'algorithm', 'classification', 'set', 'problem', 'vector', 'training', 'feature', 'class']\n",
      "Topic 4: ['network', 'algorithm', 'learning', 'function', 'neural', 'learn', 'problem', 'weight', 'training', 'error']\n",
      "Topic 5: ['network', 'neural', 'system', 'time', 'analog', 'circuit', 'architecture', 'input', 'state', 'dynamic']\n",
      "Topic 6: ['signal', 'speech', 'system', 'source', 'recognition', 'auditory', 'sound', 'channel', 'component', 'frequency']\n",
      "Topic 7: ['model', 'datum', 'distribution', 'probability', 'gaussian', 'method', 'variable', 'bayesian', 'mixture', 'algorithm']\n",
      "Topic 8: ['x', 't', 'e', 'd', 'f', 'j', 'n', 'l', 'y', 'p']\n",
      "Topic 9: ['model', 'system', 'network', 'prediction', 'neural', 'time', 'engineering', 'series', 'datum', 'nonlinear']\n",
      "Iter [330]===\n",
      "Topic 0: ['learning', 'problem', 'state', 'learn', 'control', 'reinforcement', 'algorithm', 'decision', 'function', 'time']\n",
      "Topic 1: ['neuron', 'model', 'cell', 'information', 'input', 'stimulus', 'response', 'spike', 'cortex', 'activity']\n",
      "Topic 2: ['image', 'object', 'visual', 'model', 'human', 'task', 'motion', 'representation', 'face', 'recognition']\n",
      "Topic 3: ['datum', 'method', 'problem', 'algorithm', 'classification', 'set', 'vector', 'training', 'feature', 'class']\n",
      "Topic 4: ['network', 'algorithm', 'learning', 'function', 'neural', 'learn', 'weight', 'training', 'error', 'problem']\n",
      "Topic 5: ['network', 'neural', 'system', 'time', 'analog', 'circuit', 'architecture', 'model', 'input', 'state']\n",
      "Topic 6: ['signal', 'speech', 'system', 'source', 'recognition', 'auditory', 'noise', 'sound', 'frequency', 'channel']\n",
      "Topic 7: ['model', 'datum', 'distribution', 'probability', 'gaussian', 'variable', 'algorithm', 'method', 'network', 'mixture']\n",
      "Topic 8: ['x', 't', 'e', 'j', 'l', 'f', 'p', 'd', 'n', 'y']\n",
      "Topic 9: ['system', 'network', 'neural', 'time', 'prediction', 'model', 'engineering', 'series', 'datum', 'nonlinear']\n",
      "Iter [340]===\n",
      "Topic 0: ['learning', 'problem', 'state', 'learn', 'control', 'reinforcement', 'algorithm', 'decision', 'time', 'value']\n",
      "Topic 1: ['neuron', 'model', 'cell', 'information', 'stimulus', 'input', 'response', 'spike', 'activity', 'synaptic']\n",
      "Topic 2: ['image', 'object', 'visual', 'model', 'human', 'task', 'recognition', 'motion', 'face', 'system']\n",
      "Topic 3: ['datum', 'method', 'problem', 'algorithm', 'set', 'classification', 'vector', 'training', 'feature', 'classifier']\n",
      "Topic 4: ['network', 'algorithm', 'learning', 'function', 'neural', 'weight', 'learn', 'training', 'error', 'problem']\n",
      "Topic 5: ['network', 'neural', 'system', 'time', 'analog', 'circuit', 'architecture', 'input', 'model', 'state']\n",
      "Topic 6: ['signal', 'speech', 'system', 'source', 'recognition', 'auditory', 'sound', 'component', 'frequency', 'channel']\n",
      "Topic 7: ['model', 'datum', 'distribution', 'method', 'gaussian', 'probability', 'variable', 'algorithm', 'mixture', 'bayesian']\n",
      "Topic 8: ['x', 't', 'e', 'j', 'f', 'n', 'd', 'l', 'y', 'k']\n",
      "Topic 9: ['time', 'system', 'neural', 'model', 'prediction', 'network', 'engineering', 'series', 'nonlinear', 'datum']\n",
      "Iter [350]===\n",
      "Topic 0: ['learning', 'problem', 'state', 'learn', 'control', 'algorithm', 'reinforcement', 'decision', 'time', 'dynamic']\n",
      "Topic 1: ['neuron', 'model', 'cell', 'information', 'response', 'input', 'stimulus', 'spike', 'neural', 'activity']\n",
      "Topic 2: ['image', 'object', 'visual', 'model', 'human', 'task', 'motion', 'recognition', 'system', 'face']\n",
      "Topic 3: ['datum', 'algorithm', 'problem', 'method', 'classification', 'vector', 'set', 'training', 'feature', 'classifier']\n",
      "Topic 4: ['network', 'algorithm', 'learning', 'function', 'neural', 'learn', 'training', 'weight', 'problem', 'error']\n",
      "Topic 5: ['network', 'neural', 'system', 'time', 'analog', 'circuit', 'input', 'model', 'state', 'architecture']\n",
      "Topic 6: ['signal', 'speech', 'recognition', 'system', 'source', 'auditory', 'sound', 'information', 'frequency', 'channel']\n",
      "Topic 7: ['model', 'datum', 'distribution', 'method', 'variable', 'probability', 'gaussian', 'bayesian', 'mixture', 'algorithm']\n",
      "Topic 8: ['x', 't', 'e', 'n', 'j', 'f', 'l', 'y', 'p', 'd']\n",
      "Topic 9: ['system', 'network', 'neural', 'time', 'prediction', 'model', 'engineering', 'series', 'estimate', 'nonlinear']\n",
      "Iter [360]===\n",
      "Topic 0: ['learning', 'state', 'problem', 'learn', 'control', 'reinforcement', 'algorithm', 'decision', 'function', 'time']\n",
      "Topic 1: ['neuron', 'model', 'cell', 'information', 'input', 'response', 'stimulus', 'spike', 'visual', 'activity']\n",
      "Topic 2: ['image', 'object', 'visual', 'model', 'human', 'task', 'motion', 'recognition', 'representation', 'face']\n",
      "Topic 3: ['datum', 'algorithm', 'method', 'problem', 'classification', 'vector', 'set', 'training', 'feature', 'classifier']\n",
      "Topic 4: ['network', 'algorithm', 'learning', 'function', 'neural', 'problem', 'training', 'learn', 'weight', 'error']\n",
      "Topic 5: ['network', 'neural', 'system', 'time', 'analog', 'circuit', 'state', 'architecture', 'chip', 'input']\n",
      "Topic 6: ['signal', 'speech', 'system', 'recognition', 'source', 'auditory', 'information', 'sound', 'frequency', 'component']\n",
      "Topic 7: ['model', 'datum', 'distribution', 'method', 'gaussian', 'probability', 'variable', 'algorithm', 'bayesian', 'mixture']\n",
      "Topic 8: ['x', 't', 'e', 'n', 'j', 'f', 'l', 'd', 'p', 'y']\n",
      "Topic 9: ['network', 'neural', 'time', 'system', 'engineering', 'model', 'series', 'prediction', 'nonlinear', 'datum']\n",
      "Iter [370]===\n",
      "Topic 0: ['learning', 'state', 'problem', 'learn', 'control', 'algorithm', 'reinforcement', 'decision', 'system', 'time']\n",
      "Topic 1: ['neuron', 'model', 'cell', 'information', 'input', 'response', 'stimulus', 'spike', 'neural', 'activity']\n",
      "Topic 2: ['image', 'object', 'visual', 'model', 'human', 'task', 'motion', 'representation', 'system', 'face']\n",
      "Topic 3: ['datum', 'algorithm', 'method', 'problem', 'classification', 'vector', 'set', 'training', 'feature', 'class']\n",
      "Topic 4: ['network', 'algorithm', 'function', 'learning', 'neural', 'training', 'problem', 'learn', 'weight', 'error']\n",
      "Topic 5: ['network', 'neural', 'system', 'time', 'analog', 'circuit', 'input', 'architecture', 'state', 'model']\n",
      "Topic 6: ['signal', 'speech', 'system', 'recognition', 'source', 'auditory', 'channel', 'frequency', 'sound', 'component']\n",
      "Topic 7: ['model', 'datum', 'distribution', 'probability', 'gaussian', 'variable', 'method', 'algorithm', 'bayesian', 'mixture']\n",
      "Topic 8: ['x', 't', 'e', 'f', 'n', 'l', 'j', 'd', 'y', 'p']\n",
      "Topic 9: ['network', 'system', 'time', 'neural', 'prediction', 'engineering', 'series', 'nonlinear', 'introduction', 'datum']\n",
      "Iter [380]===\n",
      "Topic 0: ['learning', 'state', 'problem', 'learn', 'control', 'reinforcement', 'algorithm', 'time', 'decision', 'function']\n",
      "Topic 1: ['neuron', 'model', 'cell', 'input', 'information', 'stimulus', 'spike', 'response', 'cortex', 'activity']\n",
      "Topic 2: ['image', 'object', 'visual', 'model', 'human', 'task', 'motion', 'representation', 'recognition', 'face']\n",
      "Topic 3: ['datum', 'algorithm', 'problem', 'classification', 'method', 'vector', 'set', 'training', 'feature', 'class']\n",
      "Topic 4: ['network', 'algorithm', 'function', 'learning', 'neural', 'learn', 'training', 'problem', 'weight', 'linear']\n",
      "Topic 5: ['network', 'neural', 'system', 'time', 'analog', 'circuit', 'model', 'state', 'architecture', 'chip']\n",
      "Topic 6: ['signal', 'speech', 'system', 'recognition', 'source', 'auditory', 'information', 'channel', 'sound', 'frequency']\n",
      "Topic 7: ['model', 'datum', 'distribution', 'probability', 'method', 'variable', 'gaussian', 'algorithm', 'bayesian', 'approach']\n",
      "Topic 8: ['x', 't', 'e', 'l', 'n', 'j', 'f', 'y', 'd', 'p']\n",
      "Topic 9: ['network', 'neural', 'system', 'time', 'engineering', 'model', 'prediction', 'datum', 'series', 'nonlinear']\n",
      "Iter [390]===\n",
      "Topic 0: ['learning', 'state', 'problem', 'learn', 'control', 'reinforcement', 'algorithm', 'decision', 'system', 'function']\n",
      "Topic 1: ['neuron', 'model', 'cell', 'information', 'response', 'input', 'stimulus', 'spike', 'neural', 'activity']\n",
      "Topic 2: ['image', 'object', 'visual', 'model', 'human', 'task', 'motion', 'recognition', 'representation', 'face']\n",
      "Topic 3: ['datum', 'algorithm', 'problem', 'method', 'classification', 'vector', 'set', 'training', 'feature', 'classifier']\n",
      "Topic 4: ['network', 'algorithm', 'function', 'learning', 'neural', 'problem', 'learn', 'training', 'weight', 'error']\n",
      "Topic 5: ['network', 'neural', 'system', 'time', 'analog', 'circuit', 'input', 'architecture', 'state', 'model']\n",
      "Topic 6: ['signal', 'speech', 'system', 'recognition', 'source', 'auditory', 'frequency', 'component', 'channel', 'sound']\n",
      "Topic 7: ['model', 'datum', 'distribution', 'probability', 'method', 'variable', 'gaussian', 'algorithm', 'bayesian', 'mixture']\n",
      "Topic 8: ['x', 't', 'e', 'j', 'n', 'f', 'l', 'p', 'y', 'd']\n",
      "Topic 9: ['network', 'system', 'neural', 'time', 'engineering', 'datum', 'nonlinear', 'series', 'prediction', 'abstract']\n",
      "Iter [400]===\n",
      "Topic 0: ['learning', 'state', 'problem', 'learn', 'control', 'reinforcement', 'algorithm', 'decision', 'time', 'system']\n",
      "Topic 1: ['neuron', 'model', 'cell', 'information', 'response', 'stimulus', 'input', 'spike', 'neural', 'activity']\n",
      "Topic 2: ['image', 'object', 'visual', 'human', 'model', 'motion', 'task', 'face', 'recognition', 'representation']\n",
      "Topic 3: ['datum', 'algorithm', 'problem', 'method', 'classification', 'vector', 'set', 'training', 'feature', 'class']\n",
      "Topic 4: ['network', 'algorithm', 'function', 'learning', 'neural', 'weight', 'training', 'problem', 'learn', 'input']\n",
      "Topic 5: ['network', 'neural', 'system', 'time', 'analog', 'circuit', 'architecture', 'chip', 'abstract', 'input']\n",
      "Topic 6: ['signal', 'speech', 'recognition', 'system', 'source', 'auditory', 'sound', 'channel', 'noise', 'frequency']\n",
      "Topic 7: ['model', 'datum', 'distribution', 'probability', 'variable', 'gaussian', 'method', 'algorithm', 'bayesian', 'approach']\n",
      "Topic 8: ['x', 't', 'e', 'j', 'n', 'f', 'y', 'p', 'd', 'l']\n",
      "Topic 9: ['network', 'neural', 'system', 'time', 'prediction', 'engineering', 'model', 'series', 'datum', 'nonlinear']\n",
      "Iter [410]===\n",
      "Topic 0: ['learning', 'problem', 'state', 'learn', 'control', 'algorithm', 'reinforcement', 'decision', 'time', 'dynamic']\n",
      "Topic 1: ['neuron', 'model', 'cell', 'input', 'information', 'response', 'stimulus', 'spike', 'activity', 'cortex']\n",
      "Topic 2: ['image', 'object', 'visual', 'model', 'human', 'task', 'motion', 'representation', 'system', 'face']\n",
      "Topic 3: ['datum', 'algorithm', 'problem', 'method', 'classification', 'vector', 'training', 'set', 'feature', 'class']\n",
      "Topic 4: ['network', 'algorithm', 'learning', 'function', 'neural', 'weight', 'learn', 'training', 'error', 'problem']\n",
      "Topic 5: ['network', 'neural', 'system', 'time', 'analog', 'circuit', 'architecture', 'state', 'chip', 'input']\n",
      "Topic 6: ['signal', 'speech', 'recognition', 'source', 'system', 'auditory', 'channel', 'sound', 'frequency', 'component']\n",
      "Topic 7: ['model', 'datum', 'distribution', 'probability', 'variable', 'gaussian', 'method', 'bayesian', 'algorithm', 'mixture']\n",
      "Topic 8: ['x', 't', 'e', 'f', 'n', 'j', 'l', 'p', 'y', 'd']\n",
      "Topic 9: ['network', 'neural', 'time', 'system', 'model', 'engineering', 'prediction', 'datum', 'series', 'information']\n",
      "Iter [420]===\n",
      "Topic 0: ['learning', 'problem', 'state', 'learn', 'control', 'reinforcement', 'algorithm', 'task', 'decision', 'function']\n",
      "Topic 1: ['neuron', 'model', 'cell', 'information', 'response', 'stimulus', 'input', 'spike', 'neural', 'cortex']\n",
      "Topic 2: ['image', 'object', 'visual', 'model', 'human', 'motion', 'task', 'representation', 'face', 'system']\n",
      "Topic 3: ['datum', 'algorithm', 'method', 'problem', 'classification', 'set', 'vector', 'training', 'feature', 'class']\n",
      "Topic 4: ['network', 'algorithm', 'learning', 'function', 'neural', 'training', 'weight', 'learn', 'problem', 'error']\n",
      "Topic 5: ['network', 'neural', 'system', 'time', 'analog', 'circuit', 'model', 'state', 'architecture', 'input']\n",
      "Topic 6: ['signal', 'speech', 'recognition', 'system', 'source', 'auditory', 'channel', 'frequency', 'information', 'component']\n",
      "Topic 7: ['model', 'datum', 'distribution', 'probability', 'gaussian', 'method', 'variable', 'bayesian', 'mixture', 'algorithm']\n",
      "Topic 8: ['x', 't', 'e', 'f', 'j', 'n', 'y', 'l', 'd', 'p']\n",
      "Topic 9: ['network', 'system', 'neural', 'time', 'prediction', 'engineering', 'series', 'expert', 'nonlinear', 'datum']\n",
      "Iter [430]===\n",
      "Topic 0: ['learning', 'problem', 'state', 'learn', 'control', 'algorithm', 'reinforcement', 'decision', 'dynamic', 'time']\n",
      "Topic 1: ['neuron', 'model', 'cell', 'information', 'input', 'stimulus', 'response', 'spike', 'synaptic', 'activity']\n",
      "Topic 2: ['image', 'object', 'visual', 'model', 'human', 'task', 'motion', 'representation', 'system', 'face']\n",
      "Topic 3: ['datum', 'method', 'problem', 'algorithm', 'classification', 'vector', 'set', 'feature', 'training', 'class']\n",
      "Topic 4: ['network', 'algorithm', 'learning', 'function', 'neural', 'learn', 'problem', 'training', 'weight', 'result']\n",
      "Topic 5: ['network', 'neural', 'system', 'time', 'analog', 'circuit', 'architecture', 'state', 'input', 'chip']\n",
      "Topic 6: ['signal', 'speech', 'recognition', 'system', 'source', 'auditory', 'channel', 'frequency', 'component', 'sound']\n",
      "Topic 7: ['model', 'datum', 'distribution', 'probability', 'variable', 'gaussian', 'algorithm', 'method', 'parameter', 'mixture']\n",
      "Topic 8: ['x', 't', 'e', 'f', 'j', 'y', 'l', 'd', 'n', 'p']\n",
      "Topic 9: ['network', 'neural', 'system', 'time', 'prediction', 'engineering', 'expert', 'series', 'datum', 'nonlinear']\n",
      "Iter [440]===\n",
      "Topic 0: ['learning', 'problem', 'state', 'learn', 'control', 'algorithm', 'reinforcement', 'decision', 'time', 'value']\n",
      "Topic 1: ['neuron', 'model', 'cell', 'information', 'input', 'stimulus', 'spike', 'response', 'activity', 'cortex']\n",
      "Topic 2: ['image', 'object', 'visual', 'model', 'human', 'task', 'motion', 'representation', 'system', 'recognition']\n",
      "Topic 3: ['datum', 'algorithm', 'method', 'problem', 'classification', 'vector', 'set', 'training', 'feature', 'class']\n",
      "Topic 4: ['network', 'algorithm', 'learning', 'function', 'neural', 'learn', 'problem', 'training', 'weight', 'result']\n",
      "Topic 5: ['network', 'neural', 'system', 'time', 'analog', 'circuit', 'architecture', 'chip', 'state', 'computer']\n",
      "Topic 6: ['signal', 'speech', 'recognition', 'system', 'source', 'auditory', 'channel', 'noise', 'sound', 'component']\n",
      "Topic 7: ['model', 'datum', 'distribution', 'probability', 'gaussian', 'variable', 'method', 'bayesian', 'mixture', 'algorithm']\n",
      "Topic 8: ['x', 't', 'e', 'n', 'l', 'f', 'y', 'j', 'd', 'p']\n",
      "Topic 9: ['network', 'neural', 'time', 'system', 'prediction', 'engineering', 'series', 'nonlinear', 'datum', 'model']\n",
      "Iter [450]===\n",
      "Topic 0: ['learning', 'problem', 'state', 'learn', 'control', 'algorithm', 'reinforcement', 'time', 'decision', 'dynamic']\n",
      "Topic 1: ['neuron', 'model', 'cell', 'information', 'stimulus', 'input', 'spike', 'response', 'neural', 'synaptic']\n",
      "Topic 2: ['image', 'object', 'visual', 'model', 'human', 'system', 'motion', 'task', 'face', 'representation']\n",
      "Topic 3: ['datum', 'algorithm', 'problem', 'method', 'set', 'classification', 'vector', 'feature', 'training', 'class']\n",
      "Topic 4: ['network', 'algorithm', 'learning', 'function', 'neural', 'learn', 'training', 'weight', 'result', 'error']\n",
      "Topic 5: ['network', 'neural', 'system', 'time', 'analog', 'circuit', 'input', 'chip', 'model', 'architecture']\n",
      "Topic 6: ['signal', 'speech', 'recognition', 'system', 'source', 'auditory', 'component', 'sound', 'channel', 'independent']\n",
      "Topic 7: ['model', 'datum', 'distribution', 'gaussian', 'method', 'variable', 'probability', 'mixture', 'bayesian', 'algorithm']\n",
      "Topic 8: ['x', 't', 'e', 'l', 'f', 'y', 'n', 'j', 'p', 'd']\n",
      "Topic 9: ['network', 'neural', 'prediction', 'system', 'time', 'engineering', 'expert', 'model', 'datum', 'series']\n",
      "Iter [460]===\n",
      "Topic 0: ['learning', 'problem', 'state', 'learn', 'control', 'algorithm', 'reinforcement', 'decision', 'system', 'dynamic']\n",
      "Topic 1: ['neuron', 'model', 'cell', 'information', 'response', 'stimulus', 'spike', 'input', 'synaptic', 'neural']\n",
      "Topic 2: ['image', 'object', 'visual', 'model', 'human', 'task', 'motion', 'recognition', 'face', 'representation']\n",
      "Topic 3: ['datum', 'algorithm', 'problem', 'method', 'classification', 'vector', 'set', 'feature', 'training', 'class']\n",
      "Topic 4: ['network', 'learning', 'algorithm', 'function', 'neural', 'training', 'weight', 'problem', 'error', 'result']\n",
      "Topic 5: ['network', 'neural', 'system', 'time', 'analog', 'circuit', 'architecture', 'chip', 'state', 'input']\n",
      "Topic 6: ['signal', 'speech', 'system', 'recognition', 'source', 'component', 'auditory', 'noise', 'independent', 'sound']\n",
      "Topic 7: ['model', 'datum', 'distribution', 'probability', 'algorithm', 'gaussian', 'variable', 'method', 'bayesian', 'parameter']\n",
      "Topic 8: ['x', 't', 'e', 'n', 'j', 'f', 'l', 'y', 'p', 'd']\n",
      "Topic 9: ['network', 'time', 'expert', 'system', 'neural', 'prediction', 'series', 'engineering', 'datum', 'edu']\n",
      "Iter [470]===\n",
      "Topic 0: ['learning', 'problem', 'state', 'learn', 'control', 'algorithm', 'reinforcement', 'dynamic', 'decision', 'time']\n",
      "Topic 1: ['neuron', 'model', 'cell', 'information', 'input', 'response', 'spike', 'stimulus', 'activity', 'cortex']\n",
      "Topic 2: ['image', 'object', 'visual', 'human', 'model', 'task', 'motion', 'system', 'recognition', 'face']\n",
      "Topic 3: ['datum', 'algorithm', 'problem', 'method', 'vector', 'classification', 'set', 'feature', 'class', 'training']\n",
      "Topic 4: ['network', 'algorithm', 'learning', 'function', 'neural', 'learn', 'training', 'weight', 'problem', 'error']\n",
      "Topic 5: ['network', 'neural', 'system', 'time', 'analog', 'circuit', 'architecture', 'chip', 'input', 'state']\n",
      "Topic 6: ['signal', 'speech', 'system', 'source', 'recognition', 'auditory', 'component', 'code', 'independent', 'noise']\n",
      "Topic 7: ['model', 'datum', 'distribution', 'probability', 'variable', 'gaussian', 'method', 'parameter', 'bayesian', 'algorithm']\n",
      "Topic 8: ['x', 't', 'e', 'l', 'f', 'j', 'n', 'y', 'd', 'p']\n",
      "Topic 9: ['network', 'expert', 'prediction', 'system', 'neural', 'time', 'engineering', 'model', 'series', 'estimate']\n",
      "Iter [480]===\n",
      "Topic 0: ['learning', 'problem', 'state', 'learn', 'control', 'algorithm', 'reinforcement', 'decision', 'function', 'dynamic']\n",
      "Topic 1: ['neuron', 'model', 'cell', 'information', 'input', 'stimulus', 'spike', 'response', 'cortex', 'activity']\n",
      "Topic 2: ['image', 'object', 'visual', 'model', 'human', 'task', 'system', 'motion', 'face', 'recognition']\n",
      "Topic 3: ['datum', 'algorithm', 'problem', 'method', 'vector', 'classification', 'set', 'feature', 'training', 'classifier']\n",
      "Topic 4: ['network', 'algorithm', 'learning', 'function', 'neural', 'training', 'weight', 'learn', 'problem', 'error']\n",
      "Topic 5: ['network', 'neural', 'system', 'time', 'analog', 'circuit', 'architecture', 'chip', 'state', 'pattern']\n",
      "Topic 6: ['signal', 'speech', 'recognition', 'source', 'system', 'component', 'auditory', 'information', 'sound', 'noise']\n",
      "Topic 7: ['model', 'distribution', 'datum', 'probability', 'gaussian', 'bayesian', 'variable', 'method', 'parameter', 'mixture']\n",
      "Topic 8: ['x', 't', 'e', 'j', 'f', 'l', 'n', 'y', 'd', 'p']\n",
      "Topic 9: ['network', 'system', 'expert', 'prediction', 'time', 'model', 'neural', 'engineering', 'series', 'datum']\n",
      "Iter [490]===\n",
      "Topic 0: ['learning', 'problem', 'state', 'learn', 'control', 'algorithm', 'reinforcement', 'dynamic', 'time', 'decision']\n",
      "Topic 1: ['neuron', 'model', 'cell', 'information', 'input', 'spike', 'stimulus', 'response', 'activity', 'synaptic']\n",
      "Topic 2: ['image', 'object', 'visual', 'model', 'human', 'motion', 'task', 'face', 'recognition', 'system']\n",
      "Topic 3: ['datum', 'algorithm', 'problem', 'method', 'vector', 'classification', 'set', 'feature', 'class', 'training']\n",
      "Topic 4: ['network', 'function', 'learning', 'algorithm', 'neural', 'training', 'learn', 'weight', 'problem', 'error']\n",
      "Topic 5: ['network', 'system', 'neural', 'time', 'analog', 'circuit', 'input', 'architecture', 'state', 'chip']\n",
      "Topic 6: ['signal', 'speech', 'system', 'source', 'recognition', 'auditory', 'component', 'independent', 'code', 'sound']\n",
      "Topic 7: ['model', 'datum', 'distribution', 'method', 'probability', 'gaussian', 'variable', 'bayesian', 'algorithm', 'parameter']\n",
      "Topic 8: ['x', 't', 'e', 'f', 'n', 'l', 'y', 'd', 'j', 'p']\n",
      "Topic 9: ['network', 'expert', 'prediction', 'system', 'engineering', 'time', 'neural', 'series', 'datum', 'model']\n",
      "Iter [500]===\n",
      "Topic 0: ['learning', 'problem', 'state', 'learn', 'control', 'algorithm', 'reinforcement', 'dynamic', 'decision', 'system']\n",
      "Topic 1: ['neuron', 'model', 'cell', 'information', 'input', 'spike', 'stimulus', 'response', 'synaptic', 'activity']\n",
      "Topic 2: ['image', 'object', 'visual', 'model', 'human', 'task', 'motion', 'system', 'face', 'recognition']\n",
      "Topic 3: ['datum', 'algorithm', 'problem', 'method', 'vector', 'classification', 'set', 'feature', 'training', 'class']\n",
      "Topic 4: ['network', 'algorithm', 'learning', 'function', 'neural', 'training', 'weight', 'learn', 'problem', 'error']\n",
      "Topic 5: ['network', 'neural', 'system', 'time', 'analog', 'circuit', 'architecture', 'chip', 'computer', 'input']\n",
      "Topic 6: ['signal', 'speech', 'source', 'recognition', 'system', 'auditory', 'frequency', 'independent', 'component', 'sound']\n",
      "Topic 7: ['model', 'datum', 'distribution', 'probability', 'gaussian', 'variable', 'bayesian', 'method', 'parameter', 'algorithm']\n",
      "Topic 8: ['x', 't', 'e', 'f', 'y', 'j', 'n', 'l', 'd', 'p']\n",
      "Topic 9: ['network', 'expert', 'prediction', 'neural', 'system', 'datum', 'time', 'engineering', 'series', 'test']\n",
      "Iter [510]===\n",
      "Topic 0: ['learning', 'problem', 'state', 'learn', 'control', 'algorithm', 'reinforcement', 'decision', 'dynamic', 'time']\n",
      "Topic 1: ['neuron', 'cell', 'model', 'information', 'input', 'spike', 'stimulus', 'response', 'synaptic', 'activity']\n",
      "Topic 2: ['image', 'object', 'visual', 'model', 'human', 'task', 'system', 'recognition', 'motion', 'face']\n",
      "Topic 3: ['datum', 'algorithm', 'problem', 'method', 'vector', 'classification', 'set', 'feature', 'training', 'class']\n",
      "Topic 4: ['network', 'algorithm', 'function', 'learning', 'neural', 'training', 'learn', 'weight', 'result', 'problem']\n",
      "Topic 5: ['network', 'neural', 'system', 'time', 'analog', 'circuit', 'model', 'architecture', 'chip', 'state']\n",
      "Topic 6: ['signal', 'speech', 'system', 'source', 'recognition', 'component', 'auditory', 'sound', 'independent', 'information']\n",
      "Topic 7: ['model', 'datum', 'distribution', 'probability', 'variable', 'algorithm', 'method', 'gaussian', 'parameter', 'bayesian']\n",
      "Topic 8: ['x', 't', 'e', 'j', 'f', 'l', 'y', 'n', 'p', 'd']\n",
      "Topic 9: ['network', 'expert', 'prediction', 'neural', 'system', 'time', 'engineering', 'introduction', 'series', 'test']\n",
      "Iter [520]===\n",
      "Topic 0: ['learning', 'problem', 'state', 'learn', 'control', 'algorithm', 'reinforcement', 'time', 'decision', 'dynamic']\n",
      "Topic 1: ['neuron', 'model', 'cell', 'information', 'input', 'response', 'spike', 'stimulus', 'neural', 'activity']\n",
      "Topic 2: ['image', 'object', 'visual', 'model', 'human', 'task', 'motion', 'recognition', 'face', 'system']\n",
      "Topic 3: ['datum', 'algorithm', 'problem', 'method', 'vector', 'classification', 'feature', 'set', 'training', 'class']\n",
      "Topic 4: ['network', 'algorithm', 'learning', 'neural', 'function', 'training', 'learn', 'weight', 'problem', 'error']\n",
      "Topic 5: ['network', 'neural', 'system', 'time', 'analog', 'circuit', 'architecture', 'state', 'input', 'chip']\n",
      "Topic 6: ['signal', 'speech', 'system', 'source', 'recognition', 'auditory', 'component', 'code', 'independent', 'sound']\n",
      "Topic 7: ['model', 'datum', 'distribution', 'method', 'gaussian', 'approach', 'variable', 'algorithm', 'bayesian', 'probability']\n",
      "Topic 8: ['x', 't', 'e', 'y', 'f', 'j', 'l', 'function', 'p', 'd']\n",
      "Topic 9: ['network', 'expert', 'prediction', 'system', 'time', 'neural', 'datum', 'engineering', 'series', 'estimate']\n",
      "Iter [530]===\n",
      "Topic 0: ['learning', 'problem', 'state', 'learn', 'control', 'reinforcement', 'algorithm', 'time', 'decision', 'value']\n",
      "Topic 1: ['neuron', 'model', 'cell', 'information', 'response', 'input', 'spike', 'stimulus', 'synaptic', 'cortex']\n",
      "Topic 2: ['image', 'object', 'visual', 'model', 'human', 'task', 'motion', 'recognition', 'system', 'face']\n",
      "Topic 3: ['datum', 'algorithm', 'problem', 'method', 'vector', 'classification', 'set', 'feature', 'training', 'class']\n",
      "Topic 4: ['network', 'learning', 'algorithm', 'function', 'neural', 'learn', 'training', 'weight', 'error', 'result']\n",
      "Topic 5: ['network', 'neural', 'system', 'time', 'analog', 'circuit', 'chip', 'architecture', 'state', 'model']\n",
      "Topic 6: ['signal', 'speech', 'system', 'source', 'recognition', 'component', 'auditory', 'code', 'sound', 'channel']\n",
      "Topic 7: ['model', 'datum', 'distribution', 'algorithm', 'probability', 'variable', 'gaussian', 'problem', 'method', 'bayesian']\n",
      "Topic 8: ['x', 't', 'e', 'f', 'j', 'y', 'p', 'n', 'l', 'd']\n",
      "Topic 9: ['network', 'expert', 'neural', 'system', 'prediction', 'datum', 'time', 'engineering', 'series', 'example']\n",
      "Iter [540]===\n",
      "Topic 0: ['learning', 'problem', 'state', 'learn', 'control', 'reinforcement', 'algorithm', 'time', 'decision', 'function']\n",
      "Topic 1: ['neuron', 'model', 'cell', 'information', 'input', 'response', 'stimulus', 'spike', 'neural', 'synaptic']\n",
      "Topic 2: ['image', 'visual', 'object', 'model', 'task', 'human', 'motion', 'face', 'recognition', 'system']\n",
      "Topic 3: ['datum', 'algorithm', 'problem', 'vector', 'method', 'classification', 'feature', 'set', 'class', 'training']\n",
      "Topic 4: ['network', 'algorithm', 'learning', 'function', 'neural', 'weight', 'training', 'learn', 'problem', 'error']\n",
      "Topic 5: ['network', 'neural', 'system', 'time', 'analog', 'circuit', 'state', 'chip', 'architecture', 'computer']\n",
      "Topic 6: ['signal', 'speech', 'source', 'system', 'recognition', 'auditory', 'code', 'component', 'sound', 'information']\n",
      "Topic 7: ['model', 'datum', 'distribution', 'probability', 'gaussian', 'variable', 'method', 'parameter', 'algorithm', 'bayesian']\n",
      "Topic 8: ['x', 't', 'e', 'n', 'p', 'f', 'y', 'j', 'l', 'd']\n",
      "Topic 9: ['network', 'expert', 'prediction', 'neural', 'system', 'time', 'datum', 'engineering', 'department', 'use']\n",
      "Iter [550]===\n",
      "Topic 0: ['learning', 'state', 'problem', 'learn', 'control', 'algorithm', 'reinforcement', 'time', 'decision', 'dynamic']\n",
      "Topic 1: ['neuron', 'model', 'cell', 'information', 'input', 'spike', 'stimulus', 'synaptic', 'activity', 'response']\n",
      "Topic 2: ['image', 'object', 'visual', 'model', 'human', 'task', 'system', 'motion', 'recognition', 'face']\n",
      "Topic 3: ['datum', 'algorithm', 'problem', 'vector', 'method', 'classification', 'set', 'feature', 'training', 'class']\n",
      "Topic 4: ['network', 'function', 'learning', 'algorithm', 'neural', 'learn', 'training', 'weight', 'problem', 'error']\n",
      "Topic 5: ['network', 'system', 'neural', 'time', 'analog', 'circuit', 'chip', 'state', 'input', 'architecture']\n",
      "Topic 6: ['signal', 'speech', 'system', 'source', 'recognition', 'information', 'auditory', 'component', 'noise', 'sound']\n",
      "Topic 7: ['model', 'datum', 'distribution', 'probability', 'algorithm', 'gaussian', 'variable', 'method', 'bayesian', 'problem']\n",
      "Topic 8: ['x', 't', 'e', 'n', 'f', 'y', 'j', 'p', 'l', 'd']\n",
      "Topic 9: ['network', 'expert', 'neural', 'prediction', 'system', 'time', 'engineering', 'series', 'datum', 'estimate']\n",
      "Iter [560]===\n",
      "Topic 0: ['learning', 'problem', 'state', 'learn', 'control', 'algorithm', 'reinforcement', 'decision', 'function', 'time']\n",
      "Topic 1: ['neuron', 'model', 'cell', 'information', 'input', 'stimulus', 'spike', 'synaptic', 'response', 'activity']\n",
      "Topic 2: ['image', 'object', 'visual', 'model', 'human', 'system', 'motion', 'task', 'recognition', 'face']\n",
      "Topic 3: ['datum', 'algorithm', 'problem', 'method', 'vector', 'feature', 'classification', 'set', 'training', 'class']\n",
      "Topic 4: ['network', 'learning', 'algorithm', 'neural', 'function', 'training', 'weight', 'learn', 'error', 'problem']\n",
      "Topic 5: ['network', 'neural', 'system', 'time', 'analog', 'circuit', 'input', 'state', 'architecture', 'chip']\n",
      "Topic 6: ['signal', 'speech', 'system', 'source', 'component', 'auditory', 'recognition', 'information', 'independent', 'sound']\n",
      "Topic 7: ['model', 'datum', 'distribution', 'probability', 'gaussian', 'variable', 'parameter', 'algorithm', 'method', 'bayesian']\n",
      "Topic 8: ['x', 't', 'e', 'j', 'f', 'y', 'l', 'n', 'd', 'p']\n",
      "Topic 9: ['network', 'neural', 'expert', 'prediction', 'system', 'time', 'engineering', 'series', 'model', 'error']\n",
      "Iter [570]===\n",
      "Topic 0: ['learning', 'state', 'problem', 'learn', 'control', 'reinforcement', 'algorithm', 'dynamic', 'time', 'decision']\n",
      "Topic 1: ['neuron', 'model', 'cell', 'input', 'information', 'stimulus', 'spike', 'response', 'synaptic', 'cortex']\n",
      "Topic 2: ['image', 'object', 'visual', 'model', 'human', 'motion', 'task', 'system', 'face', 'recognition']\n",
      "Topic 3: ['datum', 'algorithm', 'problem', 'method', 'vector', 'set', 'feature', 'classification', 'training', 'class']\n",
      "Topic 4: ['network', 'learning', 'algorithm', 'neural', 'function', 'weight', 'learn', 'training', 'error', 'set']\n",
      "Topic 5: ['network', 'neural', 'system', 'time', 'analog', 'circuit', 'chip', 'input', 'architecture', 'state']\n",
      "Topic 6: ['signal', 'speech', 'source', 'system', 'component', 'auditory', 'information', 'recognition', 'noise', 'sound']\n",
      "Topic 7: ['model', 'datum', 'distribution', 'algorithm', 'probability', 'variable', 'gaussian', 'bayesian', 'method', 'parameter']\n",
      "Topic 8: ['x', 't', 'e', 'j', 'f', 'l', 'n', 'y', 'd', 'p']\n",
      "Topic 9: ['network', 'expert', 'prediction', 'system', 'neural', 'engineering', 'time', 'datum', 'test', 'series']\n",
      "Iter [580]===\n",
      "Topic 0: ['learning', 'state', 'problem', 'learn', 'control', 'algorithm', 'reinforcement', 'dynamic', 'time', 'function']\n",
      "Topic 1: ['neuron', 'model', 'cell', 'information', 'input', 'stimulus', 'response', 'spike', 'synaptic', 'neural']\n",
      "Topic 2: ['image', 'object', 'visual', 'model', 'task', 'human', 'motion', 'system', 'face', 'recognition']\n",
      "Topic 3: ['datum', 'algorithm', 'problem', 'method', 'vector', 'classification', 'set', 'feature', 'training', 'class']\n",
      "Topic 4: ['network', 'learning', 'algorithm', 'neural', 'function', 'learn', 'weight', 'training', 'error', 'input']\n",
      "Topic 5: ['network', 'system', 'neural', 'time', 'analog', 'circuit', 'architecture', 'chip', 'state', 'pattern']\n",
      "Topic 6: ['signal', 'speech', 'source', 'system', 'recognition', 'component', 'auditory', 'independent', 'noise', 'information']\n",
      "Topic 7: ['model', 'datum', 'distribution', 'algorithm', 'probability', 'variable', 'gaussian', 'method', 'approach', 'mixture']\n",
      "Topic 8: ['x', 't', 'e', 'j', 'f', 'l', 'n', 'y', 'd', 'p']\n",
      "Topic 9: ['network', 'expert', 'neural', 'prediction', 'system', 'datum', 'engineering', 'error', 'test', 'estimate']\n",
      "Iter [590]===\n",
      "Topic 0: ['learning', 'problem', 'state', 'control', 'learn', 'algorithm', 'reinforcement', 'time', 'decision', 'dynamic']\n",
      "Topic 1: ['neuron', 'model', 'cell', 'information', 'input', 'spike', 'stimulus', 'synaptic', 'response', 'activity']\n",
      "Topic 2: ['image', 'object', 'visual', 'model', 'human', 'system', 'task', 'motion', 'recognition', 'face']\n",
      "Topic 3: ['datum', 'algorithm', 'problem', 'method', 'vector', 'classification', 'feature', 'set', 'class', 'classifier']\n",
      "Topic 4: ['network', 'algorithm', 'learning', 'function', 'neural', 'learn', 'training', 'weight', 'error', 'input']\n",
      "Topic 5: ['network', 'system', 'neural', 'time', 'analog', 'circuit', 'state', 'architecture', 'chip', 'input']\n",
      "Topic 6: ['signal', 'speech', 'source', 'system', 'component', 'auditory', 'recognition', 'information', 'sound', 'independent']\n",
      "Topic 7: ['model', 'datum', 'distribution', 'probability', 'variable', 'gaussian', 'method', 'problem', 'parameter', 'algorithm']\n",
      "Topic 8: ['x', 't', 'e', 'f', 'j', 'y', 'p', 'd', 'n', 'l']\n",
      "Topic 9: ['network', 'expert', 'prediction', 'neural', 'system', 'datum', 'engineering', 'error', 'set', 'approach']\n",
      "Iter [600]===\n",
      "Topic 0: ['learning', 'state', 'problem', 'control', 'algorithm', 'learn', 'reinforcement', 'decision', 'dynamic', 'action']\n",
      "Topic 1: ['neuron', 'model', 'cell', 'input', 'spike', 'stimulus', 'information', 'response', 'synaptic', 'activity']\n",
      "Topic 2: ['image', 'object', 'visual', 'model', 'human', 'motion', 'system', 'task', 'face', 'recognition']\n",
      "Topic 3: ['datum', 'algorithm', 'problem', 'method', 'vector', 'classification', 'set', 'feature', 'training', 'class']\n",
      "Topic 4: ['network', 'learning', 'algorithm', 'function', 'neural', 'learn', 'weight', 'training', 'error', 'input']\n",
      "Topic 5: ['network', 'neural', 'system', 'time', 'analog', 'circuit', 'architecture', 'state', 'chip', 'input']\n",
      "Topic 6: ['signal', 'speech', 'source', 'system', 'component', 'auditory', 'code', 'information', 'independent', 'noise']\n",
      "Topic 7: ['model', 'datum', 'distribution', 'method', 'probability', 'variable', 'gaussian', 'bayesian', 'algorithm', 'approach']\n",
      "Topic 8: ['x', 't', 'e', 'l', 'n', 'j', 'f', 'd', 'y', 'p']\n",
      "Topic 9: ['network', 'expert', 'system', 'prediction', 'neural', 'datum', 'engineering', 'training', 'estimate', 'example']\n",
      "Iter [610]===\n",
      "Topic 0: ['learning', 'problem', 'state', 'learn', 'control', 'algorithm', 'reinforcement', 'dynamic', 'time', 'decision']\n",
      "Topic 1: ['neuron', 'model', 'cell', 'input', 'information', 'spike', 'stimulus', 'response', 'synaptic', 'activity']\n",
      "Topic 2: ['image', 'object', 'visual', 'model', 'human', 'motion', 'task', 'system', 'recognition', 'face']\n",
      "Topic 3: ['datum', 'algorithm', 'vector', 'method', 'problem', 'feature', 'classification', 'set', 'training', 'classifier']\n",
      "Topic 4: ['network', 'learning', 'algorithm', 'function', 'neural', 'learn', 'training', 'problem', 'weight', 'result']\n",
      "Topic 5: ['network', 'system', 'neural', 'time', 'analog', 'circuit', 'state', 'architecture', 'chip', 'input']\n",
      "Topic 6: ['signal', 'speech', 'source', 'information', 'system', 'component', 'auditory', 'code', 'noise', 'independent']\n",
      "Topic 7: ['model', 'datum', 'distribution', 'variable', 'probability', 'gaussian', 'method', 'bayesian', 'approach', 'problem']\n",
      "Topic 8: ['x', 't', 'e', 'j', 'l', 'n', 'f', 'y', 'd', 'p']\n",
      "Topic 9: ['network', 'expert', 'system', 'neural', 'prediction', 'datum', 'estimate', 'engineering', 'train', 'test']\n",
      "Iter [620]===\n",
      "Topic 0: ['learning', 'problem', 'state', 'learn', 'algorithm', 'control', 'reinforcement', 'decision', 'time', 'function']\n",
      "Topic 1: ['neuron', 'model', 'cell', 'information', 'spike', 'input', 'stimulus', 'activity', 'neural', 'synaptic']\n",
      "Topic 2: ['image', 'object', 'visual', 'model', 'human', 'system', 'task', 'motion', 'face', 'representation']\n",
      "Topic 3: ['datum', 'algorithm', 'problem', 'vector', 'method', 'feature', 'set', 'classification', 'training', 'class']\n",
      "Topic 4: ['network', 'learning', 'algorithm', 'function', 'neural', 'learn', 'weight', 'training', 'input', 'error']\n",
      "Topic 5: ['network', 'neural', 'system', 'time', 'analog', 'circuit', 'model', 'architecture', 'state', 'chip']\n",
      "Topic 6: ['signal', 'speech', 'source', 'system', 'component', 'noise', 'auditory', 'code', 'independent', 'sound']\n",
      "Topic 7: ['model', 'datum', 'distribution', 'method', 'probability', 'variable', 'gaussian', 'algorithm', 'problem', 'bayesian']\n",
      "Topic 8: ['x', 't', 'e', 'n', 'f', 'j', 'p', 'y', 'l', 'd']\n",
      "Topic 9: ['network', 'neural', 'system', 'prediction', 'expert', 'datum', 'error', 'engineering', 'abstract', 'example']\n",
      "Iter [630]===\n",
      "Topic 0: ['learning', 'problem', 'state', 'learn', 'control', 'algorithm', 'reinforcement', 'dynamic', 'decision', 'function']\n",
      "Topic 1: ['neuron', 'model', 'cell', 'information', 'input', 'spike', 'neural', 'stimulus', 'response', 'synaptic']\n",
      "Topic 2: ['image', 'object', 'visual', 'model', 'human', 'task', 'motion', 'recognition', 'system', 'representation']\n",
      "Topic 3: ['datum', 'algorithm', 'problem', 'method', 'vector', 'classification', 'feature', 'set', 'classifier', 'space']\n",
      "Topic 4: ['network', 'learning', 'algorithm', 'function', 'neural', 'learn', 'training', 'weight', 'problem', 'error']\n",
      "Topic 5: ['network', 'system', 'neural', 'time', 'analog', 'circuit', 'state', 'architecture', 'chip', 'pattern']\n",
      "Topic 6: ['signal', 'speech', 'source', 'auditory', 'component', 'code', 'system', 'independent', 'information', 'sound']\n",
      "Topic 7: ['model', 'distribution', 'datum', 'probability', 'variable', 'method', 'gaussian', 'approach', 'parameter', 'bayesian']\n",
      "Topic 8: ['x', 't', 'e', 'p', 'f', 'j', 'l', 'n', 'y', 'd']\n",
      "Topic 9: ['network', 'neural', 'expert', 'system', 'prediction', 'datum', 'train', 'engineering', 'different', 'training']\n",
      "Iter [640]===\n",
      "Topic 0: ['learning', 'problem', 'state', 'learn', 'control', 'algorithm', 'reinforcement', 'time', 'decision', 'value']\n",
      "Topic 1: ['neuron', 'model', 'cell', 'information', 'input', 'spike', 'response', 'stimulus', 'cortex', 'synaptic']\n",
      "Topic 2: ['image', 'object', 'visual', 'model', 'human', 'system', 'task', 'motion', 'face', 'recognition']\n",
      "Topic 3: ['datum', 'algorithm', 'problem', 'vector', 'method', 'classification', 'feature', 'set', 'space', 'training']\n",
      "Topic 4: ['network', 'learning', 'algorithm', 'function', 'learn', 'neural', 'weight', 'training', 'input', 'error']\n",
      "Topic 5: ['network', 'neural', 'system', 'time', 'analog', 'circuit', 'architecture', 'state', 'chip', 'computer']\n",
      "Topic 6: ['signal', 'speech', 'source', 'code', 'system', 'component', 'auditory', 'noise', 'information', 'frequency']\n",
      "Topic 7: ['model', 'datum', 'distribution', 'probability', 'variable', 'method', 'gaussian', 'approach', 'bayesian', 'problem']\n",
      "Topic 8: ['x', 't', 'e', 'j', 'n', 'y', 'd', 'l', 'f', 'p']\n",
      "Topic 9: ['network', 'neural', 'expert', 'system', 'prediction', 'train', 'training', 'datum', 'engineering', 'edu']\n",
      "Iter [650]===\n",
      "Topic 0: ['learning', 'problem', 'state', 'learn', 'control', 'algorithm', 'reinforcement', 'decision', 'time', 'function']\n",
      "Topic 1: ['neuron', 'model', 'cell', 'information', 'input', 'spike', 'response', 'stimulus', 'cortex', 'synaptic']\n",
      "Topic 2: ['image', 'object', 'visual', 'model', 'human', 'system', 'task', 'motion', 'recognition', 'face']\n",
      "Topic 3: ['datum', 'algorithm', 'problem', 'vector', 'method', 'feature', 'classification', 'set', 'space', 'training']\n",
      "Topic 4: ['network', 'learning', 'function', 'algorithm', 'neural', 'learn', 'weight', 'training', 'input', 'error']\n",
      "Topic 5: ['network', 'neural', 'system', 'time', 'analog', 'circuit', 'state', 'chip', 'architecture', 'input']\n",
      "Topic 6: ['signal', 'speech', 'source', 'code', 'component', 'auditory', 'channel', 'frequency', 'independent', 'noise']\n",
      "Topic 7: ['model', 'distribution', 'probability', 'datum', 'variable', 'gaussian', 'parameter', 'approach', 'bayesian', 'method']\n",
      "Topic 8: ['x', 't', 'e', 'j', 'n', 'f', 'y', 'l', 'd', 'p']\n",
      "Topic 9: ['network', 'neural', 'prediction', 'expert', 'system', 'datum', 'training', 'train', 'estimate', 'method']\n",
      "Iter [660]===\n",
      "Topic 0: ['learning', 'problem', 'state', 'learn', 'control', 'reinforcement', 'algorithm', 'decision', 'time', 'dynamic']\n",
      "Topic 1: ['neuron', 'model', 'cell', 'information', 'spike', 'response', 'input', 'neural', 'stimulus', 'cortex']\n",
      "Topic 2: ['image', 'object', 'visual', 'model', 'human', 'system', 'task', 'motion', 'recognition', 'face']\n",
      "Topic 3: ['datum', 'algorithm', 'problem', 'method', 'vector', 'feature', 'classification', 'set', 'class', 'training']\n",
      "Topic 4: ['network', 'learning', 'algorithm', 'function', 'neural', 'learn', 'weight', 'training', 'input', 'error']\n",
      "Topic 5: ['network', 'system', 'neural', 'time', 'analog', 'circuit', 'state', 'architecture', 'chip', 'input']\n",
      "Topic 6: ['signal', 'speech', 'source', 'code', 'component', 'information', 'auditory', 'system', 'noise', 'channel']\n",
      "Topic 7: ['model', 'distribution', 'datum', 'probability', 'variable', 'gaussian', 'method', 'bayesian', 'parameter', 'algorithm']\n",
      "Topic 8: ['x', 't', 'e', 'j', 'l', 'f', 'n', 'p', 'd', 'y']\n",
      "Topic 9: ['network', 'neural', 'expert', 'system', 'prediction', 'datum', 'train', 'training', 'edu', 'task']\n",
      "Iter [670]===\n",
      "Topic 0: ['learning', 'problem', 'state', 'control', 'learn', 'reinforcement', 'algorithm', 'time', 'decision', 'policy']\n",
      "Topic 1: ['neuron', 'model', 'cell', 'information', 'input', 'spike', 'response', 'stimulus', 'cortex', 'synaptic']\n",
      "Topic 2: ['image', 'object', 'visual', 'model', 'human', 'system', 'task', 'motion', 'recognition', 'face']\n",
      "Topic 3: ['datum', 'algorithm', 'problem', 'method', 'vector', 'feature', 'classification', 'set', 'space', 'classifier']\n",
      "Topic 4: ['network', 'learning', 'algorithm', 'function', 'neural', 'learn', 'weight', 'training', 'error', 'input']\n",
      "Topic 5: ['network', 'neural', 'system', 'time', 'analog', 'circuit', 'state', 'architecture', 'chip', 'input']\n",
      "Topic 6: ['signal', 'speech', 'source', 'code', 'component', 'auditory', 'noise', 'information', 'sound', 'frequency']\n",
      "Topic 7: ['model', 'distribution', 'datum', 'probability', 'variable', 'gaussian', 'method', 'bayesian', 'mixture', 'approach']\n",
      "Topic 8: ['x', 't', 'e', 'n', 'j', 'l', 'p', 'f', 'y', 'd']\n",
      "Topic 9: ['network', 'neural', 'system', 'expert', 'prediction', 'datum', 'estimate', 'engineering', 'training', 'train']\n",
      "Iter [680]===\n",
      "Topic 0: ['learning', 'problem', 'state', 'learn', 'control', 'reinforcement', 'algorithm', 'decision', 'dynamic', 'time']\n",
      "Topic 1: ['neuron', 'model', 'cell', 'information', 'input', 'spike', 'stimulus', 'response', 'synaptic', 'cortex']\n",
      "Topic 2: ['image', 'object', 'visual', 'model', 'human', 'motion', 'system', 'task', 'recognition', 'face']\n",
      "Topic 3: ['datum', 'problem', 'algorithm', 'method', 'vector', 'feature', 'classification', 'set', 'space', 'classifier']\n",
      "Topic 4: ['network', 'learning', 'algorithm', 'function', 'neural', 'learn', 'training', 'weight', 'error', 'input']\n",
      "Topic 5: ['network', 'neural', 'system', 'time', 'analog', 'circuit', 'state', 'architecture', 'chip', 'input']\n",
      "Topic 6: ['signal', 'speech', 'source', 'component', 'code', 'system', 'auditory', 'information', 'independent', 'sound']\n",
      "Topic 7: ['model', 'distribution', 'datum', 'probability', 'variable', 'gaussian', 'method', 'bayesian', 'mixture', 'parameter']\n",
      "Topic 8: ['x', 't', 'e', 'n', 'f', 'y', 'p', 'd', 'j', 'l']\n",
      "Topic 9: ['network', 'neural', 'system', 'prediction', 'expert', 'datum', 'training', 'recognition', 'train', 'estimate']\n",
      "Iter [690]===\n",
      "Topic 0: ['learning', 'problem', 'state', 'learn', 'control', 'reinforcement', 'algorithm', 'decision', 'function', 'time']\n",
      "Topic 1: ['neuron', 'model', 'cell', 'information', 'input', 'stimulus', 'spike', 'response', 'cortex', 'synaptic']\n",
      "Topic 2: ['image', 'object', 'visual', 'model', 'human', 'task', 'system', 'recognition', 'motion', 'face']\n",
      "Topic 3: ['datum', 'problem', 'algorithm', 'method', 'vector', 'feature', 'classification', 'set', 'space', 'classifier']\n",
      "Topic 4: ['network', 'learning', 'algorithm', 'function', 'neural', 'learn', 'training', 'weight', 'input', 'linear']\n",
      "Topic 5: ['network', 'neural', 'system', 'time', 'analog', 'circuit', 'state', 'architecture', 'chip', 'input']\n",
      "Topic 6: ['signal', 'speech', 'source', 'code', 'component', 'noise', 'system', 'auditory', 'information', 'independent']\n",
      "Topic 7: ['model', 'distribution', 'probability', 'variable', 'gaussian', 'algorithm', 'datum', 'bayesian', 'parameter', 'mixture']\n",
      "Topic 8: ['x', 't', 'e', 'n', 'l', 'f', 'p', 'y', 'j', 'd']\n",
      "Topic 9: ['network', 'neural', 'system', 'prediction', 'expert', 'datum', 'recognition', 'training', 'method', 'set']\n",
      "Iter [700]===\n",
      "Topic 0: ['learning', 'problem', 'state', 'control', 'learn', 'algorithm', 'reinforcement', 'decision', 'time', 'function']\n",
      "Topic 1: ['neuron', 'model', 'cell', 'information', 'input', 'spike', 'stimulus', 'activity', 'response', 'cortex']\n",
      "Topic 2: ['image', 'object', 'visual', 'model', 'human', 'task', 'system', 'motion', 'recognition', 'face']\n",
      "Topic 3: ['datum', 'problem', 'algorithm', 'vector', 'method', 'feature', 'classification', 'set', 'space', 'classifier']\n",
      "Topic 4: ['network', 'learning', 'algorithm', 'function', 'neural', 'learn', 'training', 'weight', 'input', 'result']\n",
      "Topic 5: ['network', 'neural', 'system', 'time', 'analog', 'circuit', 'state', 'architecture', 'chip', 'model']\n",
      "Topic 6: ['signal', 'speech', 'source', 'system', 'component', 'code', 'auditory', 'independent', 'noise', 'sound']\n",
      "Topic 7: ['model', 'distribution', 'datum', 'probability', 'variable', 'gaussian', 'problem', 'method', 'bayesian', 'algorithm']\n",
      "Topic 8: ['x', 't', 'e', 'j', 'n', 'l', 'f', 'd', 'y', 'p']\n",
      "Topic 9: ['network', 'system', 'neural', 'expert', 'prediction', 'training', 'recognition', 'datum', 'word', 'method']\n",
      "Iter [710]===\n",
      "Topic 0: ['learning', 'problem', 'state', 'learn', 'control', 'reinforcement', 'algorithm', 'function', 'decision', 'time']\n",
      "Topic 1: ['neuron', 'model', 'cell', 'input', 'spike', 'information', 'neural', 'response', 'synaptic', 'stimulus']\n",
      "Topic 2: ['image', 'object', 'visual', 'model', 'human', 'task', 'system', 'motion', 'recognition', 'face']\n",
      "Topic 3: ['datum', 'problem', 'algorithm', 'vector', 'method', 'classification', 'feature', 'set', 'classifier', 'space']\n",
      "Topic 4: ['network', 'learning', 'algorithm', 'function', 'neural', 'learn', 'weight', 'input', 'training', 'error']\n",
      "Topic 5: ['network', 'neural', 'system', 'time', 'analog', 'circuit', 'state', 'architecture', 'chip', 'pattern']\n",
      "Topic 6: ['signal', 'speech', 'source', 'component', 'system', 'auditory', 'information', 'independent', 'frequency', 'code']\n",
      "Topic 7: ['model', 'datum', 'distribution', 'probability', 'method', 'variable', 'algorithm', 'approach', 'gaussian', 'problem']\n",
      "Topic 8: ['x', 't', 'e', 'n', 'j', 'f', 'p', 'd', 'l', 'y']\n",
      "Topic 9: ['network', 'neural', 'system', 'recognition', 'expert', 'training', 'prediction', 'train', 'word', 'input']\n",
      "Iter [720]===\n",
      "Topic 0: ['learning', 'problem', 'state', 'control', 'learn', 'algorithm', 'reinforcement', 'function', 'decision', 'time']\n",
      "Topic 1: ['neuron', 'model', 'cell', 'information', 'input', 'spike', 'stimulus', 'neural', 'response', 'synaptic']\n",
      "Topic 2: ['image', 'object', 'visual', 'model', 'human', 'task', 'motion', 'recognition', 'face', 'system']\n",
      "Topic 3: ['datum', 'problem', 'algorithm', 'vector', 'method', 'feature', 'set', 'classification', 'class', 'space']\n",
      "Topic 4: ['network', 'learning', 'algorithm', 'function', 'neural', 'learn', 'weight', 'training', 'input', 'error']\n",
      "Topic 5: ['network', 'system', 'neural', 'time', 'analog', 'circuit', 'architecture', 'state', 'chip', 'computation']\n",
      "Topic 6: ['signal', 'speech', 'source', 'system', 'code', 'component', 'auditory', 'noise', 'information', 'independent']\n",
      "Topic 7: ['model', 'datum', 'distribution', 'variable', 'probability', 'method', 'gaussian', 'bayesian', 'algorithm', 'parameter']\n",
      "Topic 8: ['x', 't', 'e', 'j', 'n', 'f', 'y', 'd', 'l', 'p']\n",
      "Topic 9: ['network', 'neural', 'system', 'recognition', 'expert', 'prediction', 'training', 'train', 'input', 'word']\n",
      "Iter [730]===\n",
      "Topic 0: ['learning', 'state', 'problem', 'control', 'learn', 'reinforcement', 'algorithm', 'time', 'decision', 'dynamic']\n",
      "Topic 1: ['neuron', 'model', 'cell', 'information', 'input', 'stimulus', 'spike', 'response', 'synaptic', 'activity']\n",
      "Topic 2: ['image', 'object', 'visual', 'model', 'human', 'system', 'task', 'motion', 'face', 'recognition']\n",
      "Topic 3: ['datum', 'problem', 'algorithm', 'method', 'vector', 'feature', 'classification', 'space', 'set', 'classifier']\n",
      "Topic 4: ['network', 'learning', 'algorithm', 'function', 'learn', 'neural', 'weight', 'training', 'error', 'result']\n",
      "Topic 5: ['network', 'neural', 'system', 'time', 'analog', 'circuit', 'state', 'chip', 'architecture', 'dynamic']\n",
      "Topic 6: ['signal', 'speech', 'source', 'code', 'component', 'auditory', 'channel', 'system', 'noise', 'information']\n",
      "Topic 7: ['model', 'datum', 'distribution', 'probability', 'variable', 'gaussian', 'bayesian', 'problem', 'mixture', 'method']\n",
      "Topic 8: ['x', 't', 'e', 'j', 'n', 'd', 'f', 'l', 'y', 'p']\n",
      "Topic 9: ['network', 'system', 'neural', 'expert', 'recognition', 'training', 'prediction', 'datum', 'input', 'performance']\n",
      "Iter [740]===\n",
      "Topic 0: ['learning', 'problem', 'state', 'control', 'learn', 'algorithm', 'reinforcement', 'decision', 'time', 'policy']\n",
      "Topic 1: ['neuron', 'model', 'cell', 'information', 'input', 'spike', 'stimulus', 'activity', 'response', 'neural']\n",
      "Topic 2: ['image', 'object', 'visual', 'model', 'human', 'task', 'recognition', 'system', 'motion', 'face']\n",
      "Topic 3: ['datum', 'problem', 'algorithm', 'vector', 'method', 'feature', 'classification', 'set', 'class', 'classifier']\n",
      "Topic 4: ['network', 'algorithm', 'learning', 'function', 'neural', 'learn', 'training', 'input', 'weight', 'error']\n",
      "Topic 5: ['network', 'neural', 'system', 'time', 'analog', 'circuit', 'architecture', 'state', 'chip', 'input']\n",
      "Topic 6: ['signal', 'speech', 'source', 'code', 'component', 'noise', 'information', 'auditory', 'system', 'channel']\n",
      "Topic 7: ['model', 'datum', 'distribution', 'probability', 'variable', 'gaussian', 'problem', 'method', 'bayesian', 'mixture']\n",
      "Topic 8: ['x', 't', 'e', 'j', 'n', 'f', 'd', 'y', 'l', 'p']\n",
      "Topic 9: ['network', 'system', 'neural', 'recognition', 'expert', 'training', 'prediction', 'character', 'word', 'error']\n",
      "Iter [750]===\n",
      "Topic 0: ['learning', 'problem', 'state', 'learn', 'control', 'algorithm', 'reinforcement', 'decision', 'function', 'time']\n",
      "Topic 1: ['neuron', 'model', 'cell', 'information', 'stimulus', 'spike', 'input', 'neural', 'activity', 'synaptic']\n",
      "Topic 2: ['image', 'object', 'visual', 'model', 'human', 'task', 'system', 'motion', 'face', 'representation']\n",
      "Topic 3: ['datum', 'problem', 'algorithm', 'vector', 'method', 'feature', 'classification', 'set', 'class', 'space']\n",
      "Topic 4: ['network', 'algorithm', 'learning', 'function', 'learn', 'neural', 'training', 'input', 'weight', 'error']\n",
      "Topic 5: ['network', 'neural', 'system', 'time', 'analog', 'circuit', 'state', 'architecture', 'chip', 'input']\n",
      "Topic 6: ['signal', 'speech', 'source', 'noise', 'system', 'component', 'auditory', 'code', 'frequency', 'independent']\n",
      "Topic 7: ['model', 'datum', 'distribution', 'probability', 'variable', 'gaussian', 'method', 'algorithm', 'bayesian', 'mixture']\n",
      "Topic 8: ['x', 't', 'e', 'n', 'j', 'f', 'y', 'l', 'd', 'p']\n",
      "Topic 9: ['network', 'neural', 'system', 'recognition', 'expert', 'training', 'prediction', 'word', 'datum', 'input']\n",
      "Iter [760]===\n",
      "Topic 0: ['learning', 'problem', 'state', 'learn', 'control', 'algorithm', 'reinforcement', 'time', 'decision', 'dynamic']\n",
      "Topic 1: ['neuron', 'model', 'cell', 'input', 'spike', 'information', 'activity', 'stimulus', 'synaptic', 'cortex']\n",
      "Topic 2: ['image', 'object', 'visual', 'model', 'human', 'task', 'motion', 'face', 'system', 'recognition']\n",
      "Topic 3: ['datum', 'algorithm', 'problem', 'vector', 'method', 'feature', 'classification', 'set', 'space', 'point']\n",
      "Topic 4: ['network', 'learning', 'algorithm', 'function', 'neural', 'learn', 'training', 'weight', 'input', 'error']\n",
      "Topic 5: ['network', 'neural', 'system', 'time', 'analog', 'circuit', 'chip', 'architecture', 'state', 'computer']\n",
      "Topic 6: ['signal', 'source', 'speech', 'system', 'component', 'information', 'noise', 'auditory', 'independent', 'code']\n",
      "Topic 7: ['model', 'datum', 'distribution', 'probability', 'variable', 'gaussian', 'bayesian', 'method', 'mixture', 'algorithm']\n",
      "Topic 8: ['x', 't', 'e', 'n', 'j', 'f', 'l', 'y', 'd', 'p']\n",
      "Topic 9: ['network', 'recognition', 'system', 'neural', 'expert', 'training', 'prediction', 'train', 'word', 'speech']\n",
      "Iter [770]===\n",
      "Topic 0: ['learning', 'problem', 'state', 'control', 'learn', 'reinforcement', 'algorithm', 'time', 'decision', 'function']\n",
      "Topic 1: ['neuron', 'model', 'cell', 'information', 'input', 'spike', 'stimulus', 'cortex', 'synaptic', 'activity']\n",
      "Topic 2: ['image', 'object', 'visual', 'model', 'human', 'task', 'system', 'motion', 'face', 'recognition']\n",
      "Topic 3: ['datum', 'algorithm', 'problem', 'vector', 'method', 'feature', 'classification', 'set', 'space', 'class']\n",
      "Topic 4: ['network', 'algorithm', 'learning', 'function', 'learn', 'neural', 'training', 'weight', 'input', 'problem']\n",
      "Topic 5: ['network', 'neural', 'system', 'time', 'analog', 'circuit', 'architecture', 'state', 'chip', 'pattern']\n",
      "Topic 6: ['signal', 'source', 'speech', 'component', 'noise', 'code', 'auditory', 'system', 'information', 'independent']\n",
      "Topic 7: ['model', 'datum', 'distribution', 'variable', 'probability', 'gaussian', 'method', 'bayesian', 'mixture', 'parameter']\n",
      "Topic 8: ['x', 't', 'e', 'n', 'j', 'f', 'l', 'd', 'y', 'p']\n",
      "Topic 9: ['network', 'recognition', 'neural', 'system', 'expert', 'training', 'speech', 'prediction', 'input', 'train']\n",
      "Iter [780]===\n",
      "Topic 0: ['learning', 'state', 'problem', 'control', 'learn', 'reinforcement', 'algorithm', 'time', 'decision', 'value']\n",
      "Topic 1: ['neuron', 'model', 'cell', 'spike', 'stimulus', 'input', 'information', 'activity', 'neural', 'cortex']\n",
      "Topic 2: ['image', 'object', 'visual', 'model', 'human', 'task', 'motion', 'system', 'face', 'recognition']\n",
      "Topic 3: ['datum', 'problem', 'algorithm', 'method', 'vector', 'set', 'feature', 'classification', 'space', 'class']\n",
      "Topic 4: ['network', 'algorithm', 'learning', 'function', 'neural', 'learn', 'training', 'weight', 'error', 'input']\n",
      "Topic 5: ['network', 'neural', 'system', 'time', 'analog', 'circuit', 'architecture', 'chip', 'state', 'dynamic']\n",
      "Topic 6: ['signal', 'source', 'noise', 'code', 'component', 'speech', 'system', 'auditory', 'independent', 'information']\n",
      "Topic 7: ['model', 'datum', 'distribution', 'variable', 'probability', 'gaussian', 'method', 'bayesian', 'mixture', 'approach']\n",
      "Topic 8: ['x', 't', 'e', 'n', 'f', 'j', 'y', 'l', 'd', 'p']\n",
      "Topic 9: ['network', 'recognition', 'neural', 'system', 'speech', 'expert', 'training', 'input', 'prediction', 'task']\n",
      "Iter [790]===\n",
      "Topic 0: ['learning', 'problem', 'state', 'control', 'learn', 'reinforcement', 'algorithm', 'time', 'decision', 'function']\n",
      "Topic 1: ['neuron', 'model', 'cell', 'information', 'spike', 'input', 'stimulus', 'response', 'activity', 'synaptic']\n",
      "Topic 2: ['image', 'object', 'visual', 'model', 'human', 'task', 'motion', 'face', 'system', 'recognition']\n",
      "Topic 3: ['datum', 'problem', 'algorithm', 'method', 'vector', 'set', 'feature', 'classification', 'class', 'space']\n",
      "Topic 4: ['network', 'learning', 'algorithm', 'function', 'learn', 'neural', 'training', 'weight', 'input', 'output']\n",
      "Topic 5: ['network', 'neural', 'system', 'time', 'analog', 'circuit', 'architecture', 'chip', 'state', 'dynamic']\n",
      "Topic 6: ['signal', 'source', 'noise', 'speech', 'code', 'information', 'component', 'system', 'auditory', 'channel']\n",
      "Topic 7: ['model', 'datum', 'distribution', 'probability', 'variable', 'problem', 'method', 'gaussian', 'bayesian', 'mixture']\n",
      "Topic 8: ['x', 't', 'e', 'j', 'f', 'n', 'd', 'l', 'y', 'p']\n",
      "Topic 9: ['network', 'recognition', 'neural', 'system', 'expert', 'speech', 'training', 'word', 'prediction', 'character']\n",
      "Iter [800]===\n",
      "Topic 0: ['learning', 'problem', 'state', 'control', 'reinforcement', 'learn', 'algorithm', 'time', 'decision', 'value']\n",
      "Topic 1: ['neuron', 'model', 'cell', 'information', 'neural', 'input', 'spike', 'stimulus', 'synaptic', 'activity']\n",
      "Topic 2: ['image', 'object', 'visual', 'model', 'human', 'task', 'motion', 'representation', 'recognition', 'face']\n",
      "Topic 3: ['datum', 'problem', 'algorithm', 'vector', 'method', 'set', 'feature', 'classification', 'class', 'space']\n",
      "Topic 4: ['network', 'algorithm', 'learning', 'function', 'learn', 'neural', 'training', 'input', 'weight', 'error']\n",
      "Topic 5: ['network', 'neural', 'system', 'time', 'analog', 'circuit', 'state', 'architecture', 'chip', 'dynamic']\n",
      "Topic 6: ['signal', 'source', 'code', 'noise', 'component', 'independent', 'channel', 'auditory', 'speech', 'system']\n",
      "Topic 7: ['model', 'datum', 'distribution', 'variable', 'gaussian', 'probability', 'problem', 'bayesian', 'parameter', 'mixture']\n",
      "Topic 8: ['x', 't', 'e', 'f', 'n', 'd', 'j', 'l', 'y', 'p']\n",
      "Topic 9: ['network', 'recognition', 'neural', 'system', 'speech', 'expert', 'training', 'task', 'prediction', 'train']\n",
      "Iter [810]===\n",
      "Topic 0: ['learning', 'problem', 'state', 'control', 'learn', 'reinforcement', 'algorithm', 'time', 'decision', 'dynamic']\n",
      "Topic 1: ['neuron', 'model', 'cell', 'input', 'information', 'stimulus', 'spike', 'neural', 'cortex', 'activity']\n",
      "Topic 2: ['image', 'object', 'visual', 'model', 'human', 'task', 'motion', 'face', 'representation', 'recognition']\n",
      "Topic 3: ['datum', 'problem', 'algorithm', 'vector', 'method', 'feature', 'set', 'classification', 'space', 'class']\n",
      "Topic 4: ['network', 'learning', 'algorithm', 'function', 'learn', 'neural', 'training', 'input', 'weight', 'error']\n",
      "Topic 5: ['network', 'neural', 'system', 'time', 'analog', 'circuit', 'state', 'chip', 'architecture', 'dynamic']\n",
      "Topic 6: ['signal', 'source', 'information', 'noise', 'system', 'component', 'auditory', 'code', 'speech', 'independent']\n",
      "Topic 7: ['model', 'datum', 'distribution', 'variable', 'probability', 'gaussian', 'method', 'bayesian', 'algorithm', 'problem']\n",
      "Topic 8: ['x', 't', 'e', 'l', 'd', 'f', 'n', 'j', 'y', 'p']\n",
      "Topic 9: ['network', 'recognition', 'neural', 'system', 'speech', 'expert', 'training', 'input', 'prediction', 'performance']\n",
      "Iter [820]===\n",
      "Topic 0: ['learning', 'problem', 'state', 'control', 'reinforcement', 'learn', 'algorithm', 'time', 'decision', 'function']\n",
      "Topic 1: ['neuron', 'model', 'cell', 'input', 'information', 'spike', 'neural', 'stimulus', 'activity', 'synaptic']\n",
      "Topic 2: ['image', 'object', 'visual', 'model', 'human', 'system', 'task', 'motion', 'face', 'recognition']\n",
      "Topic 3: ['datum', 'algorithm', 'problem', 'vector', 'method', 'feature', 'classification', 'set', 'class', 'space']\n",
      "Topic 4: ['network', 'learning', 'algorithm', 'function', 'neural', 'learn', 'training', 'weight', 'error', 'problem']\n",
      "Topic 5: ['network', 'neural', 'system', 'time', 'analog', 'circuit', 'state', 'chip', 'architecture', 'model']\n",
      "Topic 6: ['signal', 'source', 'component', 'noise', 'code', 'auditory', 'independent', 'information', 'system', 'natural']\n",
      "Topic 7: ['model', 'datum', 'distribution', 'method', 'probability', 'variable', 'gaussian', 'bayesian', 'approach', 'parameter']\n",
      "Topic 8: ['x', 't', 'e', 'j', 'n', 'l', 'f', 'y', 'd', 'k']\n",
      "Topic 9: ['network', 'recognition', 'system', 'neural', 'speech', 'training', 'expert', 'input', 'word', 'datum']\n",
      "Iter [830]===\n",
      "Topic 0: ['learning', 'problem', 'state', 'control', 'learn', 'reinforcement', 'algorithm', 'time', 'decision', 'function']\n",
      "Topic 1: ['neuron', 'model', 'cell', 'information', 'spike', 'stimulus', 'input', 'neural', 'synaptic', 'cortex']\n",
      "Topic 2: ['image', 'object', 'visual', 'model', 'human', 'task', 'motion', 'system', 'representation', 'face']\n",
      "Topic 3: ['datum', 'algorithm', 'problem', 'vector', 'method', 'feature', 'class', 'classification', 'set', 'space']\n",
      "Topic 4: ['network', 'learning', 'algorithm', 'function', 'neural', 'learn', 'weight', 'training', 'error', 'input']\n",
      "Topic 5: ['network', 'neural', 'system', 'time', 'analog', 'circuit', 'state', 'chip', 'architecture', 'input']\n",
      "Topic 6: ['signal', 'source', 'component', 'noise', 'information', 'auditory', 'code', 'independent', 'channel', 'speech']\n",
      "Topic 7: ['model', 'datum', 'distribution', 'method', 'variable', 'gaussian', 'algorithm', 'probability', 'bayesian', 'problem']\n",
      "Topic 8: ['x', 't', 'e', 'j', 'f', 'n', 'y', 'p', 'd', 'k']\n",
      "Topic 9: ['network', 'recognition', 'neural', 'system', 'speech', 'training', 'expert', 'input', 'word', 'train']\n",
      "Iter [840]===\n",
      "Topic 0: ['learning', 'problem', 'state', 'control', 'learn', 'reinforcement', 'algorithm', 'time', 'decision', 'function']\n",
      "Topic 1: ['neuron', 'model', 'cell', 'input', 'information', 'spike', 'stimulus', 'cortex', 'activity', 'response']\n",
      "Topic 2: ['image', 'object', 'visual', 'model', 'human', 'task', 'system', 'motion', 'face', 'recognition']\n",
      "Topic 3: ['datum', 'algorithm', 'problem', 'vector', 'method', 'feature', 'classification', 'class', 'space', 'set']\n",
      "Topic 4: ['network', 'learning', 'algorithm', 'function', 'neural', 'learn', 'training', 'weight', 'input', 'error']\n",
      "Topic 5: ['network', 'neural', 'system', 'time', 'analog', 'circuit', 'state', 'architecture', 'chip', 'input']\n",
      "Topic 6: ['signal', 'source', 'component', 'code', 'auditory', 'independent', 'speech', 'noise', 'channel', 'analysis']\n",
      "Topic 7: ['model', 'datum', 'distribution', 'variable', 'probability', 'gaussian', 'bayesian', 'parameter', 'method', 'approach']\n",
      "Topic 8: ['x', 't', 'e', 'n', 'l', 'f', 'j', 'y', 'd', 'k']\n",
      "Topic 9: ['network', 'recognition', 'neural', 'system', 'speech', 'training', 'expert', 'word', 'performance', 'prediction']\n",
      "Iter [850]===\n",
      "Topic 0: ['learning', 'problem', 'state', 'learn', 'control', 'reinforcement', 'algorithm', 'decision', 'time', 'function']\n",
      "Topic 1: ['neuron', 'model', 'cell', 'input', 'information', 'spike', 'stimulus', 'activity', 'response', 'synaptic']\n",
      "Topic 2: ['image', 'object', 'visual', 'model', 'human', 'motion', 'task', 'face', 'system', 'representation']\n",
      "Topic 3: ['datum', 'algorithm', 'problem', 'vector', 'method', 'feature', 'set', 'class', 'space', 'classification']\n",
      "Topic 4: ['network', 'learning', 'algorithm', 'function', 'neural', 'learn', 'training', 'weight', 'input', 'error']\n",
      "Topic 5: ['network', 'neural', 'system', 'time', 'analog', 'circuit', 'chip', 'architecture', 'state', 'dynamic']\n",
      "Topic 6: ['signal', 'source', 'noise', 'component', 'code', 'auditory', 'information', 'sound', 'independent', 'channel']\n",
      "Topic 7: ['model', 'datum', 'distribution', 'variable', 'probability', 'gaussian', 'method', 'bayesian', 'problem', 'mixture']\n",
      "Topic 8: ['x', 't', 'e', 'n', 'l', 'f', 'd', 'y', 'j', 'p']\n",
      "Topic 9: ['network', 'recognition', 'system', 'neural', 'speech', 'training', 'expert', 'input', 'task', 'word']\n",
      "Iter [860]===\n",
      "Topic 0: ['learning', 'problem', 'state', 'control', 'algorithm', 'reinforcement', 'learn', 'decision', 'time', 'function']\n",
      "Topic 1: ['neuron', 'model', 'cell', 'information', 'input', 'spike', 'stimulus', 'response', 'synaptic', 'activity']\n",
      "Topic 2: ['image', 'visual', 'object', 'model', 'human', 'motion', 'task', 'system', 'face', 'recognition']\n",
      "Topic 3: ['datum', 'problem', 'algorithm', 'vector', 'method', 'feature', 'classification', 'set', 'space', 'kernel']\n",
      "Topic 4: ['network', 'learning', 'algorithm', 'function', 'neural', 'learn', 'weight', 'training', 'error', 'input']\n",
      "Topic 5: ['network', 'neural', 'system', 'time', 'analog', 'circuit', 'state', 'chip', 'architecture', 'input']\n",
      "Topic 6: ['signal', 'source', 'noise', 'component', 'information', 'code', 'auditory', 'system', 'independent', 'channel']\n",
      "Topic 7: ['model', 'distribution', 'datum', 'probability', 'variable', 'gaussian', 'bayesian', 'method', 'problem', 'algorithm']\n",
      "Topic 8: ['x', 't', 'e', 'j', 'l', 'n', 'y', 'f', 'd', 'p']\n",
      "Topic 9: ['network', 'recognition', 'neural', 'system', 'speech', 'expert', 'training', 'input', 'learn', 'task']\n",
      "Iter [870]===\n",
      "Topic 0: ['learning', 'problem', 'state', 'control', 'learn', 'reinforcement', 'algorithm', 'decision', 'time', 'function']\n",
      "Topic 1: ['neuron', 'model', 'cell', 'input', 'spike', 'neural', 'stimulus', 'synaptic', 'response', 'cortex']\n",
      "Topic 2: ['image', 'object', 'visual', 'model', 'human', 'task', 'motion', 'face', 'system', 'representation']\n",
      "Topic 3: ['datum', 'problem', 'algorithm', 'vector', 'method', 'feature', 'set', 'classification', 'space', 'class']\n",
      "Topic 4: ['network', 'learning', 'algorithm', 'function', 'neural', 'learn', 'training', 'weight', 'error', 'input']\n",
      "Topic 5: ['network', 'system', 'neural', 'time', 'analog', 'circuit', 'state', 'architecture', 'chip', 'technology']\n",
      "Topic 6: ['signal', 'source', 'code', 'information', 'noise', 'component', 'auditory', 'independent', 'channel', 'sound']\n",
      "Topic 7: ['model', 'datum', 'probability', 'distribution', 'variable', 'gaussian', 'bayesian', 'approach', 'method', 'mixture']\n",
      "Topic 8: ['x', 't', 'e', 'f', 'n', 'j', 'y', 'l', 'p', 'd']\n",
      "Topic 9: ['network', 'recognition', 'system', 'neural', 'speech', 'expert', 'training', 'datum', 'input', 'word']\n",
      "Iter [880]===\n",
      "Topic 0: ['learning', 'state', 'problem', 'learn', 'control', 'reinforcement', 'algorithm', 'decision', 'time', 'policy']\n",
      "Topic 1: ['neuron', 'model', 'cell', 'input', 'information', 'neural', 'stimulus', 'spike', 'cortex', 'synaptic']\n",
      "Topic 2: ['image', 'object', 'visual', 'model', 'task', 'human', 'motion', 'system', 'face', 'representation']\n",
      "Topic 3: ['datum', 'problem', 'algorithm', 'vector', 'method', 'feature', 'set', 'space', 'classification', 'support']\n",
      "Topic 4: ['network', 'learning', 'algorithm', 'function', 'neural', 'learn', 'training', 'weight', 'error', 'problem']\n",
      "Topic 5: ['network', 'neural', 'system', 'time', 'analog', 'circuit', 'state', 'architecture', 'chip', 'model']\n",
      "Topic 6: ['signal', 'source', 'noise', 'code', 'information', 'component', 'system', 'auditory', 'analysis', 'independent']\n",
      "Topic 7: ['model', 'distribution', 'datum', 'probability', 'variable', 'gaussian', 'bayesian', 'method', 'parameter', 'algorithm']\n",
      "Topic 8: ['x', 't', 'e', 'j', 'n', 'y', 'f', 'd', 'l', 'p']\n",
      "Topic 9: ['network', 'recognition', 'system', 'neural', 'speech', 'expert', 'training', 'datum', 'input', 'classification']\n",
      "Iter [890]===\n",
      "Topic 0: ['learning', 'state', 'problem', 'control', 'learn', 'reinforcement', 'algorithm', 'decision', 'function', 'time']\n",
      "Topic 1: ['neuron', 'model', 'cell', 'information', 'input', 'neural', 'spike', 'stimulus', 'response', 'activity']\n",
      "Topic 2: ['image', 'object', 'visual', 'model', 'task', 'human', 'motion', 'representation', 'face', 'system']\n",
      "Topic 3: ['datum', 'algorithm', 'problem', 'vector', 'method', 'feature', 'set', 'space', 'support', 'kernel']\n",
      "Topic 4: ['network', 'learning', 'algorithm', 'function', 'neural', 'learn', 'training', 'weight', 'error', 'problem']\n",
      "Topic 5: ['network', 'neural', 'system', 'time', 'analog', 'circuit', 'state', 'chip', 'architecture', 'abstract']\n",
      "Topic 6: ['signal', 'source', 'code', 'component', 'information', 'noise', 'auditory', 'independent', 'system', 'analysis']\n",
      "Topic 7: ['model', 'distribution', 'datum', 'probability', 'variable', 'gaussian', 'method', 'bayesian', 'parameter', 'algorithm']\n",
      "Topic 8: ['x', 't', 'e', 'n', 'y', 'l', 'p', 'j', 'd', 'f']\n",
      "Topic 9: ['network', 'recognition', 'system', 'neural', 'speech', 'input', 'expert', 'classification', 'training', 'learn']\n",
      "Iter [900]===\n",
      "Topic 0: ['learning', 'problem', 'state', 'control', 'learn', 'reinforcement', 'algorithm', 'function', 'decision', 'dynamic']\n",
      "Topic 1: ['neuron', 'model', 'cell', 'neural', 'input', 'information', 'spike', 'stimulus', 'cortex', 'activity']\n",
      "Topic 2: ['image', 'object', 'visual', 'model', 'human', 'task', 'motion', 'system', 'face', 'representation']\n",
      "Topic 3: ['datum', 'problem', 'algorithm', 'vector', 'method', 'feature', 'space', 'set', 'support', 'kernel']\n",
      "Topic 4: ['network', 'learning', 'algorithm', 'function', 'neural', 'learn', 'training', 'weight', 'input', 'error']\n",
      "Topic 5: ['network', 'neural', 'system', 'time', 'analog', 'circuit', 'architecture', 'state', 'chip', 'dynamic']\n",
      "Topic 6: ['signal', 'source', 'component', 'code', 'information', 'noise', 'auditory', 'independent', 'system', 'frequency']\n",
      "Topic 7: ['model', 'datum', 'distribution', 'probability', 'variable', 'gaussian', 'bayesian', 'method', 'mixture', 'algorithm']\n",
      "Topic 8: ['x', 't', 'e', 'n', 'j', 'f', 'y', 'l', 'p', 'k']\n",
      "Topic 9: ['network', 'recognition', 'system', 'neural', 'speech', 'input', 'expert', 'training', 'classification', 'performance']\n",
      "Iter [910]===\n",
      "Topic 0: ['learning', 'state', 'problem', 'control', 'learn', 'reinforcement', 'algorithm', 'decision', 'dynamic', 'function']\n",
      "Topic 1: ['neuron', 'model', 'cell', 'information', 'input', 'spike', 'neural', 'stimulus', 'cortex', 'synaptic']\n",
      "Topic 2: ['image', 'object', 'visual', 'model', 'human', 'task', 'system', 'motion', 'face', 'recognition']\n",
      "Topic 3: ['datum', 'algorithm', 'problem', 'vector', 'method', 'feature', 'set', 'space', 'support', 'kernel']\n",
      "Topic 4: ['network', 'learning', 'algorithm', 'function', 'neural', 'learn', 'training', 'weight', 'input', 'error']\n",
      "Topic 5: ['network', 'neural', 'system', 'time', 'analog', 'circuit', 'chip', 'state', 'architecture', 'dynamic']\n",
      "Topic 6: ['signal', 'source', 'code', 'component', 'noise', 'independent', 'auditory', 'edu', 'analysis', 'channel']\n",
      "Topic 7: ['model', 'datum', 'distribution', 'variable', 'gaussian', 'probability', 'method', 'bayesian', 'algorithm', 'mixture']\n",
      "Topic 8: ['x', 't', 'e', 'n', 'j', 'p', 'l', 'f', 'y', 'k']\n",
      "Topic 9: ['network', 'recognition', 'system', 'neural', 'speech', 'input', 'expert', 'training', 'classification', 'learn']\n",
      "Iter [920]===\n",
      "Topic 0: ['learning', 'state', 'problem', 'control', 'algorithm', 'reinforcement', 'learn', 'time', 'dynamic', 'decision']\n",
      "Topic 1: ['neuron', 'model', 'cell', 'input', 'information', 'spike', 'stimulus', 'neural', 'activity', 'cortex']\n",
      "Topic 2: ['image', 'object', 'visual', 'model', 'human', 'task', 'motion', 'system', 'face', 'recognition']\n",
      "Topic 3: ['datum', 'algorithm', 'vector', 'problem', 'method', 'feature', 'set', 'space', 'classification', 'support']\n",
      "Topic 4: ['network', 'learning', 'algorithm', 'function', 'neural', 'learn', 'weight', 'training', 'input', 'error']\n",
      "Topic 5: ['network', 'neural', 'system', 'time', 'analog', 'circuit', 'state', 'architecture', 'chip', 'model']\n",
      "Topic 6: ['signal', 'source', 'component', 'noise', 'code', 'auditory', 'frequency', 'independent', 'system', 'information']\n",
      "Topic 7: ['model', 'distribution', 'datum', 'probability', 'variable', 'gaussian', 'bayesian', 'problem', 'method', 'approach']\n",
      "Topic 8: ['x', 't', 'e', 'j', 'f', 'l', 'y', 'n', 'p', 'd']\n",
      "Topic 9: ['network', 'recognition', 'system', 'neural', 'speech', 'training', 'input', 'learn', 'expert', 'model']\n",
      "Iter [930]===\n",
      "Topic 0: ['learning', 'problem', 'state', 'control', 'learn', 'reinforcement', 'algorithm', 'time', 'value', 'function']\n",
      "Topic 1: ['neuron', 'model', 'cell', 'input', 'neural', 'information', 'spike', 'activity', 'stimulus', 'response']\n",
      "Topic 2: ['image', 'object', 'visual', 'model', 'human', 'task', 'motion', 'system', 'recognition', 'face']\n",
      "Topic 3: ['datum', 'problem', 'algorithm', 'vector', 'method', 'set', 'space', 'feature', 'classification', 'kernel']\n",
      "Topic 4: ['network', 'learning', 'algorithm', 'function', 'neural', 'learn', 'training', 'weight', 'error', 'input']\n",
      "Topic 5: ['network', 'neural', 'system', 'time', 'analog', 'circuit', 'state', 'chip', 'architecture', 'computer']\n",
      "Topic 6: ['signal', 'source', 'noise', 'code', 'component', 'auditory', 'independent', 'information', 'system', 'analysis']\n",
      "Topic 7: ['model', 'datum', 'distribution', 'variable', 'probability', 'gaussian', 'bayesian', 'method', 'algorithm', 'mixture']\n",
      "Topic 8: ['x', 't', 'e', 'j', 'n', 'f', 'y', 'd', 'p', 'l']\n",
      "Topic 9: ['network', 'recognition', 'system', 'neural', 'speech', 'training', 'expert', 'learn', 'task', 'performance']\n",
      "Iter [940]===\n",
      "Topic 0: ['learning', 'problem', 'state', 'control', 'algorithm', 'reinforcement', 'learn', 'time', 'decision', 'function']\n",
      "Topic 1: ['neuron', 'model', 'cell', 'information', 'input', 'spike', 'stimulus', 'neural', 'activity', 'synaptic']\n",
      "Topic 2: ['image', 'object', 'visual', 'model', 'task', 'human', 'motion', 'face', 'system', 'recognition']\n",
      "Topic 3: ['datum', 'problem', 'algorithm', 'method', 'vector', 'set', 'feature', 'space', 'classification', 'class']\n",
      "Topic 4: ['network', 'learning', 'algorithm', 'function', 'learn', 'neural', 'training', 'weight', 'error', 'input']\n",
      "Topic 5: ['network', 'system', 'neural', 'time', 'analog', 'circuit', 'state', 'chip', 'architecture', 'computer']\n",
      "Topic 6: ['signal', 'source', 'component', 'noise', 'information', 'independent', 'system', 'auditory', 'code', 'frequency']\n",
      "Topic 7: ['model', 'distribution', 'datum', 'probability', 'gaussian', 'variable', 'bayesian', 'parameter', 'mixture', 'method']\n",
      "Topic 8: ['x', 't', 'e', 'n', 'j', 'f', 'y', 'l', 'd', 'p']\n",
      "Topic 9: ['network', 'recognition', 'system', 'neural', 'speech', 'expert', 'training', 'performance', 'input', 'learn']\n",
      "Iter [950]===\n",
      "Topic 0: ['learning', 'problem', 'state', 'control', 'learn', 'algorithm', 'reinforcement', 'time', 'function', 'action']\n",
      "Topic 1: ['neuron', 'model', 'cell', 'information', 'neural', 'input', 'spike', 'synaptic', 'stimulus', 'response']\n",
      "Topic 2: ['image', 'object', 'visual', 'model', 'human', 'motion', 'task', 'system', 'face', 'representation']\n",
      "Topic 3: ['datum', 'problem', 'algorithm', 'vector', 'method', 'classification', 'feature', 'set', 'space', 'support']\n",
      "Topic 4: ['network', 'learning', 'algorithm', 'function', 'neural', 'learn', 'training', 'weight', 'error', 'input']\n",
      "Topic 5: ['network', 'neural', 'system', 'time', 'analog', 'circuit', 'state', 'chip', 'architecture', 'input']\n",
      "Topic 6: ['signal', 'source', 'component', 'noise', 'code', 'auditory', 'independent', 'system', 'analysis', 'information']\n",
      "Topic 7: ['model', 'distribution', 'datum', 'probability', 'variable', 'gaussian', 'bayesian', 'problem', 'mixture', 'method']\n",
      "Topic 8: ['x', 't', 'e', 'n', 'l', 'y', 'f', 'p', 'j', 'd']\n",
      "Topic 9: ['network', 'recognition', 'neural', 'system', 'speech', 'training', 'expert', 'input', 'task', 'learn']\n",
      "Iter [960]===\n",
      "Topic 0: ['learning', 'problem', 'state', 'control', 'learn', 'reinforcement', 'algorithm', 'decision', 'function', 'time']\n",
      "Topic 1: ['neuron', 'model', 'cell', 'input', 'information', 'spike', 'stimulus', 'neural', 'response', 'synaptic']\n",
      "Topic 2: ['image', 'object', 'model', 'visual', 'human', 'task', 'motion', 'system', 'face', 'representation']\n",
      "Topic 3: ['datum', 'problem', 'algorithm', 'vector', 'method', 'set', 'space', 'feature', 'point', 'classification']\n",
      "Topic 4: ['network', 'learning', 'algorithm', 'function', 'neural', 'learn', 'training', 'weight', 'error', 'input']\n",
      "Topic 5: ['network', 'neural', 'system', 'time', 'analog', 'circuit', 'chip', 'architecture', 'state', 'technology']\n",
      "Topic 6: ['signal', 'source', 'component', 'code', 'auditory', 'noise', 'information', 'independent', 'sound', 'frequency']\n",
      "Topic 7: ['model', 'datum', 'distribution', 'variable', 'probability', 'gaussian', 'bayesian', 'method', 'algorithm', 'mixture']\n",
      "Topic 8: ['x', 't', 'e', 'n', 'l', 'j', 'd', 'f', 'y', 'p']\n",
      "Topic 9: ['network', 'recognition', 'neural', 'system', 'speech', 'training', 'learn', 'expert', 'classification', 'input']\n",
      "Iter [970]===\n",
      "Topic 0: ['learning', 'state', 'problem', 'control', 'algorithm', 'reinforcement', 'learn', 'decision', 'time', 'function']\n",
      "Topic 1: ['neuron', 'model', 'cell', 'input', 'information', 'neural', 'spike', 'stimulus', 'response', 'cortex']\n",
      "Topic 2: ['image', 'object', 'visual', 'model', 'human', 'motion', 'task', 'system', 'face', 'representation']\n",
      "Topic 3: ['datum', 'algorithm', 'problem', 'method', 'vector', 'feature', 'set', 'classification', 'space', 'support']\n",
      "Topic 4: ['network', 'learning', 'algorithm', 'function', 'neural', 'learn', 'weight', 'training', 'error', 'input']\n",
      "Topic 5: ['network', 'neural', 'system', 'time', 'analog', 'circuit', 'architecture', 'chip', 'state', 'dynamic']\n",
      "Topic 6: ['signal', 'source', 'code', 'noise', 'information', 'component', 'auditory', 'frequency', 'sound', 'independent']\n",
      "Topic 7: ['model', 'distribution', 'datum', 'probability', 'gaussian', 'variable', 'method', 'bayesian', 'mixture', 'algorithm']\n",
      "Topic 8: ['x', 't', 'e', 'j', 'l', 'n', 'f', 'p', 'd', 'y']\n",
      "Topic 9: ['network', 'recognition', 'system', 'speech', 'neural', 'training', 'input', 'expert', 'performance', 'task']\n",
      "Iter [980]===\n",
      "Topic 0: ['learning', 'problem', 'state', 'control', 'learn', 'reinforcement', 'algorithm', 'decision', 'time', 'function']\n",
      "Topic 1: ['neuron', 'model', 'cell', 'information', 'input', 'spike', 'stimulus', 'response', 'neural', 'cortex']\n",
      "Topic 2: ['image', 'visual', 'object', 'model', 'human', 'task', 'motion', 'recognition', 'face', 'system']\n",
      "Topic 3: ['datum', 'algorithm', 'problem', 'vector', 'method', 'feature', 'set', 'space', 'class', 'classification']\n",
      "Topic 4: ['network', 'learning', 'algorithm', 'function', 'neural', 'learn', 'training', 'weight', 'error', 'input']\n",
      "Topic 5: ['network', 'neural', 'system', 'time', 'analog', 'circuit', 'architecture', 'state', 'chip', 'computer']\n",
      "Topic 6: ['signal', 'source', 'code', 'auditory', 'noise', 'component', 'independent', 'system', 'frequency', 'sound']\n",
      "Topic 7: ['model', 'datum', 'distribution', 'probability', 'variable', 'gaussian', 'bayesian', 'method', 'mixture', 'algorithm']\n",
      "Topic 8: ['x', 't', 'e', 'j', 'l', 'd', 'n', 'f', 'y', 'p']\n",
      "Topic 9: ['network', 'recognition', 'system', 'neural', 'speech', 'training', 'learn', 'expert', 'classification', 'input']\n",
      "Iter [990]===\n",
      "Topic 0: ['learning', 'problem', 'state', 'control', 'learn', 'reinforcement', 'algorithm', 'decision', 'time', 'value']\n",
      "Topic 1: ['neuron', 'model', 'cell', 'input', 'stimulus', 'neural', 'spike', 'information', 'response', 'activity']\n",
      "Topic 2: ['image', 'object', 'visual', 'model', 'human', 'motion', 'task', 'face', 'recognition', 'system']\n",
      "Topic 3: ['datum', 'algorithm', 'problem', 'vector', 'method', 'feature', 'set', 'space', 'classification', 'class']\n",
      "Topic 4: ['network', 'learning', 'function', 'algorithm', 'neural', 'learn', 'weight', 'training', 'error', 'input']\n",
      "Topic 5: ['network', 'neural', 'system', 'time', 'analog', 'circuit', 'state', 'architecture', 'chip', 'computer']\n",
      "Topic 6: ['signal', 'source', 'code', 'component', 'noise', 'auditory', 'independent', 'information', 'system', 'analysis']\n",
      "Topic 7: ['model', 'datum', 'distribution', 'probability', 'gaussian', 'variable', 'method', 'bayesian', 'mixture', 'algorithm']\n",
      "Topic 8: ['x', 't', 'e', 'j', 'n', 'f', 'y', 'l', 'p', 'd']\n",
      "Topic 9: ['network', 'recognition', 'system', 'neural', 'speech', 'training', 'input', 'expert', 'performance', 'task']\n",
      "\n"
     ]
    }
   ],
   "source": [
    "# === initialization ===\n",
    "print(\"Initializing...\", flush=True)\n",
    "n_doc_topic = np.zeros([corpus.num_docs, corpus.num_topics], dtype=float) # n_m^(k)\n",
    "n_topic_word = np.zeros([corpus.num_topics, corpus.num_words], dtype=float) # n_k^(t)\n",
    "z_doc_word = np.zeros([corpus.num_docs, corpus.max_doc_length], dtype=int)\n",
    "\n",
    "for doc_i in range(corpus.num_docs):\n",
    "    for j, word_j in enumerate(corpus.docs[doc_i]):\n",
    "        topic_ij = random.randint(0, corpus.num_topics - 1)\n",
    "        n_doc_topic[doc_i, topic_ij] += 1\n",
    "        n_topic_word[topic_ij, word_j] += 1\n",
    "        z_doc_word[doc_i, j] = topic_ij\n",
    "\n",
    "# === Gibbs sampling ===\n",
    "print(\"Gibbs sampling...\", flush=True)\n",
    "for iteration in tqdm(range(hparams.gibbs_sampling_max_iters)):\n",
    "    for doc_i in range(corpus.num_docs):\n",
    "        for j, word_j in enumerate(corpus.docs[doc_i]):\n",
    "            # remove the old assignment\n",
    "            topic_ij = z_doc_word[doc_i, j]\n",
    "            n_doc_topic[doc_i, topic_ij] -= 1\n",
    "            n_topic_word[topic_ij, word_j] -= 1\n",
    "            # compute the new assignment\n",
    "            p_doc_topic = (n_doc_topic[doc_i, :] + hparams.alpha) \\\n",
    "                        / np.sum(n_doc_topic[doc_i] + hparams.alpha)\n",
    "            p_topic_word = (n_topic_word[:, word_j] + hparams.beta[word_j]) \\\n",
    "                        / np.sum(n_topic_word + hparams.beta, axis=1)\n",
    "            p_topic = p_doc_topic * p_topic_word\n",
    "            p_topic /= np.sum(p_topic)\n",
    "            # record the new assignment\n",
    "            new_topic_ij = np.random.choice(np.arange(corpus.num_topics), p=p_topic)\n",
    "            n_doc_topic[doc_i, new_topic_ij] += 1\n",
    "            n_topic_word[new_topic_ij, word_j] += 1\n",
    "            z_doc_word[doc_i, j] = new_topic_ij\n",
    "\n",
    "    if iteration % 10 == 0:\n",
    "        print(f\"Iter [{iteration}]===\")\n",
    "        # === Check convergence and read out parameters ===\n",
    "        theta = (n_doc_topic + hparams.alpha) / np.sum(n_doc_topic + hparams.alpha, axis=1, keepdims=True)\n",
    "        phi = (n_topic_word + hparams.beta) / np.sum(n_topic_word + hparams.beta, axis=1, keepdims=True)\n",
    "\n",
    "        for topic in range(corpus.num_topics):\n",
    "            top_words = np.argsort(phi[topic])[::-1][:10]\n",
    "            top_probs = phi[topic, top_words]\n",
    "            top_words = [corpus.id2word[word] for word in top_words]\n",
    "            print(f\"Topic {topic}:\", top_words)"
   ]
  },
  {
   "cell_type": "code",
   "execution_count": 67,
   "metadata": {},
   "outputs": [
    {
     "name": "stdout",
     "output_type": "stream",
     "text": [
      "Topic 0: ['learning', 'problem', 'state', 'control', 'learn', 'reinforcement', 'algorithm', 'decision', 'time', 'value']\n",
      "Topic 1: ['neuron', 'model', 'cell', 'input', 'stimulus', 'neural', 'spike', 'information', 'response', 'activity']\n",
      "Topic 2: ['image', 'object', 'visual', 'model', 'human', 'motion', 'task', 'face', 'recognition', 'system']\n",
      "Topic 3: ['datum', 'algorithm', 'problem', 'vector', 'method', 'feature', 'set', 'space', 'classification', 'class']\n",
      "Topic 4: ['network', 'learning', 'function', 'algorithm', 'neural', 'learn', 'weight', 'training', 'error', 'input']\n",
      "Topic 5: ['network', 'neural', 'system', 'time', 'analog', 'circuit', 'state', 'architecture', 'chip', 'computer']\n",
      "Topic 6: ['signal', 'source', 'code', 'component', 'noise', 'auditory', 'independent', 'information', 'system', 'analysis']\n",
      "Topic 7: ['model', 'datum', 'distribution', 'probability', 'gaussian', 'variable', 'method', 'bayesian', 'mixture', 'algorithm']\n",
      "Topic 8: ['x', 't', 'e', 'j', 'n', 'f', 'y', 'l', 'p', 'd']\n",
      "Topic 9: ['network', 'recognition', 'system', 'neural', 'speech', 'training', 'input', 'expert', 'performance', 'task']\n"
     ]
    },
    {
     "data": {
      "application/vnd.plotly.v1+json": {
       "config": {
        "plotlyServerURL": "https://plot.ly"
       },
       "data": [
        {
         "cells": {
          "fill": {
           "color": [
            [
             "rgb(156.66666666666669, 192.22222222222223, 146.77777777777777)",
             "rgb(177.0, 205.66666666666666, 169.33333333333331)",
             "rgb(197.33333333333334, 219.11111111111111, 191.88888888888889)",
             "rgb(197.33333333333334, 219.11111111111111, 191.88888888888889)",
             "rgb(197.33333333333334, 219.11111111111111, 191.88888888888889)",
             "rgb(197.33333333333334, 219.11111111111111, 191.88888888888889)",
             "rgb(197.33333333333334, 219.11111111111111, 191.88888888888889)",
             "rgb(217.66666666666666, 232.55555555555554, 214.44444444444446)",
             "rgb(217.66666666666666, 232.55555555555554, 214.44444444444446)",
             "rgb(217.66666666666666, 232.55555555555554, 214.44444444444446)"
            ],
            [
             "rgb(177.0, 205.66666666666666, 169.33333333333331)",
             "rgb(177.0, 205.66666666666666, 169.33333333333331)",
             "rgb(197.33333333333334, 219.11111111111111, 191.88888888888889)",
             "rgb(217.66666666666666, 232.55555555555554, 214.44444444444446)",
             "rgb(217.66666666666666, 232.55555555555554, 214.44444444444446)",
             "rgb(217.66666666666666, 232.55555555555554, 214.44444444444446)",
             "rgb(217.66666666666666, 232.55555555555554, 214.44444444444446)",
             "rgb(217.66666666666666, 232.55555555555554, 214.44444444444446)",
             "rgb(217.66666666666666, 232.55555555555554, 214.44444444444446)",
             "rgb(217.66666666666666, 232.55555555555554, 214.44444444444446)"
            ],
            [
             "rgb(156.66666666666669, 192.22222222222223, 146.77777777777777)",
             "rgb(177.0, 205.66666666666666, 169.33333333333331)",
             "rgb(177.0, 205.66666666666666, 169.33333333333331)",
             "rgb(197.33333333333334, 219.11111111111111, 191.88888888888889)",
             "rgb(217.66666666666666, 232.55555555555554, 214.44444444444446)",
             "rgb(217.66666666666666, 232.55555555555554, 214.44444444444446)",
             "rgb(217.66666666666666, 232.55555555555554, 214.44444444444446)",
             "rgb(217.66666666666666, 232.55555555555554, 214.44444444444446)",
             "rgb(217.66666666666666, 232.55555555555554, 214.44444444444446)",
             "rgb(217.66666666666666, 232.55555555555554, 214.44444444444446)"
            ],
            [
             "rgb(177.0, 205.66666666666666, 169.33333333333331)",
             "rgb(197.33333333333334, 219.11111111111111, 191.88888888888889)",
             "rgb(197.33333333333334, 219.11111111111111, 191.88888888888889)",
             "rgb(197.33333333333334, 219.11111111111111, 191.88888888888889)",
             "rgb(197.33333333333334, 219.11111111111111, 191.88888888888889)",
             "rgb(217.66666666666666, 232.55555555555554, 214.44444444444446)",
             "rgb(217.66666666666666, 232.55555555555554, 214.44444444444446)",
             "rgb(217.66666666666666, 232.55555555555554, 214.44444444444446)",
             "rgb(217.66666666666666, 232.55555555555554, 214.44444444444446)",
             "rgb(217.66666666666666, 232.55555555555554, 214.44444444444446)"
            ],
            [
             "rgb(156.66666666666669, 192.22222222222223, 146.77777777777777)",
             "rgb(177.0, 205.66666666666666, 169.33333333333331)",
             "rgb(197.33333333333334, 219.11111111111111, 191.88888888888889)",
             "rgb(197.33333333333334, 219.11111111111111, 191.88888888888889)",
             "rgb(197.33333333333334, 219.11111111111111, 191.88888888888889)",
             "rgb(197.33333333333334, 219.11111111111111, 191.88888888888889)",
             "rgb(217.66666666666666, 232.55555555555554, 214.44444444444446)",
             "rgb(217.66666666666666, 232.55555555555554, 214.44444444444446)",
             "rgb(217.66666666666666, 232.55555555555554, 214.44444444444446)",
             "rgb(217.66666666666666, 232.55555555555554, 214.44444444444446)"
            ],
            [
             "rgb(136.33333333333334, 178.77777777777777, 124.22222222222221)",
             "rgb(156.66666666666669, 192.22222222222223, 146.77777777777777)",
             "rgb(177.0, 205.66666666666666, 169.33333333333331)",
             "rgb(197.33333333333334, 219.11111111111111, 191.88888888888889)",
             "rgb(197.33333333333334, 219.11111111111111, 191.88888888888889)",
             "rgb(217.66666666666666, 232.55555555555554, 214.44444444444446)",
             "rgb(217.66666666666666, 232.55555555555554, 214.44444444444446)",
             "rgb(217.66666666666666, 232.55555555555554, 214.44444444444446)",
             "rgb(217.66666666666666, 232.55555555555554, 214.44444444444446)",
             "rgb(217.66666666666666, 232.55555555555554, 214.44444444444446)"
            ],
            [
             "rgb(136.33333333333334, 178.77777777777777, 124.22222222222221)",
             "rgb(197.33333333333334, 219.11111111111111, 191.88888888888889)",
             "rgb(197.33333333333334, 219.11111111111111, 191.88888888888889)",
             "rgb(217.66666666666666, 232.55555555555554, 214.44444444444446)",
             "rgb(217.66666666666666, 232.55555555555554, 214.44444444444446)",
             "rgb(217.66666666666666, 232.55555555555554, 214.44444444444446)",
             "rgb(217.66666666666666, 232.55555555555554, 214.44444444444446)",
             "rgb(217.66666666666666, 232.55555555555554, 214.44444444444446)",
             "rgb(217.66666666666666, 232.55555555555554, 214.44444444444446)",
             "rgb(217.66666666666666, 232.55555555555554, 214.44444444444446)"
            ],
            [
             "rgb(75.33333333333334, 138.44444444444446, 56.55555555555554)",
             "rgb(197.33333333333334, 219.11111111111111, 191.88888888888889)",
             "rgb(197.33333333333334, 219.11111111111111, 191.88888888888889)",
             "rgb(217.66666666666666, 232.55555555555554, 214.44444444444446)",
             "rgb(217.66666666666666, 232.55555555555554, 214.44444444444446)",
             "rgb(217.66666666666666, 232.55555555555554, 214.44444444444446)",
             "rgb(217.66666666666666, 232.55555555555554, 214.44444444444446)",
             "rgb(217.66666666666666, 232.55555555555554, 214.44444444444446)",
             "rgb(217.66666666666666, 232.55555555555554, 214.44444444444446)",
             "rgb(217.66666666666666, 232.55555555555554, 214.44444444444446)"
            ],
            [
             "rgb(55.0, 125.0, 34.0)",
             "rgb(95.66666666666669, 151.88888888888889, 79.11111111111109)",
             "rgb(136.33333333333334, 178.77777777777777, 124.22222222222221)",
             "rgb(156.66666666666669, 192.22222222222223, 146.77777777777777)",
             "rgb(156.66666666666669, 192.22222222222223, 146.77777777777777)",
             "rgb(156.66666666666669, 192.22222222222223, 146.77777777777777)",
             "rgb(177.0, 205.66666666666666, 169.33333333333331)",
             "rgb(177.0, 205.66666666666666, 169.33333333333331)",
             "rgb(177.0, 205.66666666666666, 169.33333333333331)",
             "rgb(177.0, 205.66666666666666, 169.33333333333331)"
            ],
            [
             "rgb(177.0, 205.66666666666666, 169.33333333333331)",
             "rgb(197.33333333333334, 219.11111111111111, 191.88888888888889)",
             "rgb(197.33333333333334, 219.11111111111111, 191.88888888888889)",
             "rgb(217.66666666666666, 232.55555555555554, 214.44444444444446)",
             "rgb(217.66666666666666, 232.55555555555554, 214.44444444444446)",
             "rgb(217.66666666666666, 232.55555555555554, 214.44444444444446)",
             "rgb(217.66666666666666, 232.55555555555554, 214.44444444444446)",
             "rgb(217.66666666666666, 232.55555555555554, 214.44444444444446)",
             "rgb(217.66666666666666, 232.55555555555554, 214.44444444444446)",
             "rgb(217.66666666666666, 232.55555555555554, 214.44444444444446)"
            ]
           ]
          },
          "values": [
           [
            "learning",
            "problem",
            "state",
            "control",
            "learn",
            "reinforcement",
            "algorithm",
            "decision",
            "time",
            "value"
           ],
           [
            "neuron",
            "model",
            "cell",
            "input",
            "stimulus",
            "neural",
            "spike",
            "information",
            "response",
            "activity"
           ],
           [
            "image",
            "object",
            "visual",
            "model",
            "human",
            "motion",
            "task",
            "face",
            "recognition",
            "system"
           ],
           [
            "datum",
            "algorithm",
            "problem",
            "vector",
            "method",
            "feature",
            "set",
            "space",
            "classification",
            "class"
           ],
           [
            "network",
            "learning",
            "function",
            "algorithm",
            "neural",
            "learn",
            "weight",
            "training",
            "error",
            "input"
           ],
           [
            "network",
            "neural",
            "system",
            "time",
            "analog",
            "circuit",
            "state",
            "architecture",
            "chip",
            "computer"
           ],
           [
            "signal",
            "source",
            "code",
            "component",
            "noise",
            "auditory",
            "independent",
            "information",
            "system",
            "analysis"
           ],
           [
            "model",
            "datum",
            "distribution",
            "probability",
            "gaussian",
            "variable",
            "method",
            "bayesian",
            "mixture",
            "algorithm"
           ],
           [
            "x",
            "t",
            "e",
            "j",
            "n",
            "f",
            "y",
            "l",
            "p",
            "d"
           ],
           [
            "network",
            "recognition",
            "system",
            "neural",
            "speech",
            "training",
            "input",
            "expert",
            "performance",
            "task"
           ]
          ]
         },
         "header": {
          "fill": {
           "color": "rgb(220, 220, 220)"
          },
          "values": [
           "Topic 00",
           "Topic 01",
           "Topic 02",
           "Topic 03",
           "Topic 04",
           "Topic 05",
           "Topic 06",
           "Topic 07",
           "Topic 08",
           "Topic 09"
          ]
         },
         "type": "table"
        }
       ],
       "layout": {
        "template": {
         "data": {
          "bar": [
           {
            "error_x": {
             "color": "#2a3f5f"
            },
            "error_y": {
             "color": "#2a3f5f"
            },
            "marker": {
             "line": {
              "color": "#E5ECF6",
              "width": 0.5
             },
             "pattern": {
              "fillmode": "overlay",
              "size": 10,
              "solidity": 0.2
             }
            },
            "type": "bar"
           }
          ],
          "barpolar": [
           {
            "marker": {
             "line": {
              "color": "#E5ECF6",
              "width": 0.5
             },
             "pattern": {
              "fillmode": "overlay",
              "size": 10,
              "solidity": 0.2
             }
            },
            "type": "barpolar"
           }
          ],
          "carpet": [
           {
            "aaxis": {
             "endlinecolor": "#2a3f5f",
             "gridcolor": "white",
             "linecolor": "white",
             "minorgridcolor": "white",
             "startlinecolor": "#2a3f5f"
            },
            "baxis": {
             "endlinecolor": "#2a3f5f",
             "gridcolor": "white",
             "linecolor": "white",
             "minorgridcolor": "white",
             "startlinecolor": "#2a3f5f"
            },
            "type": "carpet"
           }
          ],
          "choropleth": [
           {
            "colorbar": {
             "outlinewidth": 0,
             "ticks": ""
            },
            "type": "choropleth"
           }
          ],
          "contour": [
           {
            "colorbar": {
             "outlinewidth": 0,
             "ticks": ""
            },
            "colorscale": [
             [
              0,
              "#0d0887"
             ],
             [
              0.1111111111111111,
              "#46039f"
             ],
             [
              0.2222222222222222,
              "#7201a8"
             ],
             [
              0.3333333333333333,
              "#9c179e"
             ],
             [
              0.4444444444444444,
              "#bd3786"
             ],
             [
              0.5555555555555556,
              "#d8576b"
             ],
             [
              0.6666666666666666,
              "#ed7953"
             ],
             [
              0.7777777777777778,
              "#fb9f3a"
             ],
             [
              0.8888888888888888,
              "#fdca26"
             ],
             [
              1,
              "#f0f921"
             ]
            ],
            "type": "contour"
           }
          ],
          "contourcarpet": [
           {
            "colorbar": {
             "outlinewidth": 0,
             "ticks": ""
            },
            "type": "contourcarpet"
           }
          ],
          "heatmap": [
           {
            "colorbar": {
             "outlinewidth": 0,
             "ticks": ""
            },
            "colorscale": [
             [
              0,
              "#0d0887"
             ],
             [
              0.1111111111111111,
              "#46039f"
             ],
             [
              0.2222222222222222,
              "#7201a8"
             ],
             [
              0.3333333333333333,
              "#9c179e"
             ],
             [
              0.4444444444444444,
              "#bd3786"
             ],
             [
              0.5555555555555556,
              "#d8576b"
             ],
             [
              0.6666666666666666,
              "#ed7953"
             ],
             [
              0.7777777777777778,
              "#fb9f3a"
             ],
             [
              0.8888888888888888,
              "#fdca26"
             ],
             [
              1,
              "#f0f921"
             ]
            ],
            "type": "heatmap"
           }
          ],
          "heatmapgl": [
           {
            "colorbar": {
             "outlinewidth": 0,
             "ticks": ""
            },
            "colorscale": [
             [
              0,
              "#0d0887"
             ],
             [
              0.1111111111111111,
              "#46039f"
             ],
             [
              0.2222222222222222,
              "#7201a8"
             ],
             [
              0.3333333333333333,
              "#9c179e"
             ],
             [
              0.4444444444444444,
              "#bd3786"
             ],
             [
              0.5555555555555556,
              "#d8576b"
             ],
             [
              0.6666666666666666,
              "#ed7953"
             ],
             [
              0.7777777777777778,
              "#fb9f3a"
             ],
             [
              0.8888888888888888,
              "#fdca26"
             ],
             [
              1,
              "#f0f921"
             ]
            ],
            "type": "heatmapgl"
           }
          ],
          "histogram": [
           {
            "marker": {
             "pattern": {
              "fillmode": "overlay",
              "size": 10,
              "solidity": 0.2
             }
            },
            "type": "histogram"
           }
          ],
          "histogram2d": [
           {
            "colorbar": {
             "outlinewidth": 0,
             "ticks": ""
            },
            "colorscale": [
             [
              0,
              "#0d0887"
             ],
             [
              0.1111111111111111,
              "#46039f"
             ],
             [
              0.2222222222222222,
              "#7201a8"
             ],
             [
              0.3333333333333333,
              "#9c179e"
             ],
             [
              0.4444444444444444,
              "#bd3786"
             ],
             [
              0.5555555555555556,
              "#d8576b"
             ],
             [
              0.6666666666666666,
              "#ed7953"
             ],
             [
              0.7777777777777778,
              "#fb9f3a"
             ],
             [
              0.8888888888888888,
              "#fdca26"
             ],
             [
              1,
              "#f0f921"
             ]
            ],
            "type": "histogram2d"
           }
          ],
          "histogram2dcontour": [
           {
            "colorbar": {
             "outlinewidth": 0,
             "ticks": ""
            },
            "colorscale": [
             [
              0,
              "#0d0887"
             ],
             [
              0.1111111111111111,
              "#46039f"
             ],
             [
              0.2222222222222222,
              "#7201a8"
             ],
             [
              0.3333333333333333,
              "#9c179e"
             ],
             [
              0.4444444444444444,
              "#bd3786"
             ],
             [
              0.5555555555555556,
              "#d8576b"
             ],
             [
              0.6666666666666666,
              "#ed7953"
             ],
             [
              0.7777777777777778,
              "#fb9f3a"
             ],
             [
              0.8888888888888888,
              "#fdca26"
             ],
             [
              1,
              "#f0f921"
             ]
            ],
            "type": "histogram2dcontour"
           }
          ],
          "mesh3d": [
           {
            "colorbar": {
             "outlinewidth": 0,
             "ticks": ""
            },
            "type": "mesh3d"
           }
          ],
          "parcoords": [
           {
            "line": {
             "colorbar": {
              "outlinewidth": 0,
              "ticks": ""
             }
            },
            "type": "parcoords"
           }
          ],
          "pie": [
           {
            "automargin": true,
            "type": "pie"
           }
          ],
          "scatter": [
           {
            "marker": {
             "colorbar": {
              "outlinewidth": 0,
              "ticks": ""
             }
            },
            "type": "scatter"
           }
          ],
          "scatter3d": [
           {
            "line": {
             "colorbar": {
              "outlinewidth": 0,
              "ticks": ""
             }
            },
            "marker": {
             "colorbar": {
              "outlinewidth": 0,
              "ticks": ""
             }
            },
            "type": "scatter3d"
           }
          ],
          "scattercarpet": [
           {
            "marker": {
             "colorbar": {
              "outlinewidth": 0,
              "ticks": ""
             }
            },
            "type": "scattercarpet"
           }
          ],
          "scattergeo": [
           {
            "marker": {
             "colorbar": {
              "outlinewidth": 0,
              "ticks": ""
             }
            },
            "type": "scattergeo"
           }
          ],
          "scattergl": [
           {
            "marker": {
             "colorbar": {
              "outlinewidth": 0,
              "ticks": ""
             }
            },
            "type": "scattergl"
           }
          ],
          "scattermapbox": [
           {
            "marker": {
             "colorbar": {
              "outlinewidth": 0,
              "ticks": ""
             }
            },
            "type": "scattermapbox"
           }
          ],
          "scatterpolar": [
           {
            "marker": {
             "colorbar": {
              "outlinewidth": 0,
              "ticks": ""
             }
            },
            "type": "scatterpolar"
           }
          ],
          "scatterpolargl": [
           {
            "marker": {
             "colorbar": {
              "outlinewidth": 0,
              "ticks": ""
             }
            },
            "type": "scatterpolargl"
           }
          ],
          "scatterternary": [
           {
            "marker": {
             "colorbar": {
              "outlinewidth": 0,
              "ticks": ""
             }
            },
            "type": "scatterternary"
           }
          ],
          "surface": [
           {
            "colorbar": {
             "outlinewidth": 0,
             "ticks": ""
            },
            "colorscale": [
             [
              0,
              "#0d0887"
             ],
             [
              0.1111111111111111,
              "#46039f"
             ],
             [
              0.2222222222222222,
              "#7201a8"
             ],
             [
              0.3333333333333333,
              "#9c179e"
             ],
             [
              0.4444444444444444,
              "#bd3786"
             ],
             [
              0.5555555555555556,
              "#d8576b"
             ],
             [
              0.6666666666666666,
              "#ed7953"
             ],
             [
              0.7777777777777778,
              "#fb9f3a"
             ],
             [
              0.8888888888888888,
              "#fdca26"
             ],
             [
              1,
              "#f0f921"
             ]
            ],
            "type": "surface"
           }
          ],
          "table": [
           {
            "cells": {
             "fill": {
              "color": "#EBF0F8"
             },
             "line": {
              "color": "white"
             }
            },
            "header": {
             "fill": {
              "color": "#C8D4E3"
             },
             "line": {
              "color": "white"
             }
            },
            "type": "table"
           }
          ]
         },
         "layout": {
          "annotationdefaults": {
           "arrowcolor": "#2a3f5f",
           "arrowhead": 0,
           "arrowwidth": 1
          },
          "autotypenumbers": "strict",
          "coloraxis": {
           "colorbar": {
            "outlinewidth": 0,
            "ticks": ""
           }
          },
          "colorscale": {
           "diverging": [
            [
             0,
             "#8e0152"
            ],
            [
             0.1,
             "#c51b7d"
            ],
            [
             0.2,
             "#de77ae"
            ],
            [
             0.3,
             "#f1b6da"
            ],
            [
             0.4,
             "#fde0ef"
            ],
            [
             0.5,
             "#f7f7f7"
            ],
            [
             0.6,
             "#e6f5d0"
            ],
            [
             0.7,
             "#b8e186"
            ],
            [
             0.8,
             "#7fbc41"
            ],
            [
             0.9,
             "#4d9221"
            ],
            [
             1,
             "#276419"
            ]
           ],
           "sequential": [
            [
             0,
             "#0d0887"
            ],
            [
             0.1111111111111111,
             "#46039f"
            ],
            [
             0.2222222222222222,
             "#7201a8"
            ],
            [
             0.3333333333333333,
             "#9c179e"
            ],
            [
             0.4444444444444444,
             "#bd3786"
            ],
            [
             0.5555555555555556,
             "#d8576b"
            ],
            [
             0.6666666666666666,
             "#ed7953"
            ],
            [
             0.7777777777777778,
             "#fb9f3a"
            ],
            [
             0.8888888888888888,
             "#fdca26"
            ],
            [
             1,
             "#f0f921"
            ]
           ],
           "sequentialminus": [
            [
             0,
             "#0d0887"
            ],
            [
             0.1111111111111111,
             "#46039f"
            ],
            [
             0.2222222222222222,
             "#7201a8"
            ],
            [
             0.3333333333333333,
             "#9c179e"
            ],
            [
             0.4444444444444444,
             "#bd3786"
            ],
            [
             0.5555555555555556,
             "#d8576b"
            ],
            [
             0.6666666666666666,
             "#ed7953"
            ],
            [
             0.7777777777777778,
             "#fb9f3a"
            ],
            [
             0.8888888888888888,
             "#fdca26"
            ],
            [
             1,
             "#f0f921"
            ]
           ]
          },
          "colorway": [
           "#636efa",
           "#EF553B",
           "#00cc96",
           "#ab63fa",
           "#FFA15A",
           "#19d3f3",
           "#FF6692",
           "#B6E880",
           "#FF97FF",
           "#FECB52"
          ],
          "font": {
           "color": "#2a3f5f"
          },
          "geo": {
           "bgcolor": "white",
           "lakecolor": "white",
           "landcolor": "#E5ECF6",
           "showlakes": true,
           "showland": true,
           "subunitcolor": "white"
          },
          "hoverlabel": {
           "align": "left"
          },
          "hovermode": "closest",
          "mapbox": {
           "style": "light"
          },
          "paper_bgcolor": "white",
          "plot_bgcolor": "#E5ECF6",
          "polar": {
           "angularaxis": {
            "gridcolor": "white",
            "linecolor": "white",
            "ticks": ""
           },
           "bgcolor": "#E5ECF6",
           "radialaxis": {
            "gridcolor": "white",
            "linecolor": "white",
            "ticks": ""
           }
          },
          "scene": {
           "xaxis": {
            "backgroundcolor": "#E5ECF6",
            "gridcolor": "white",
            "gridwidth": 2,
            "linecolor": "white",
            "showbackground": true,
            "ticks": "",
            "zerolinecolor": "white"
           },
           "yaxis": {
            "backgroundcolor": "#E5ECF6",
            "gridcolor": "white",
            "gridwidth": 2,
            "linecolor": "white",
            "showbackground": true,
            "ticks": "",
            "zerolinecolor": "white"
           },
           "zaxis": {
            "backgroundcolor": "#E5ECF6",
            "gridcolor": "white",
            "gridwidth": 2,
            "linecolor": "white",
            "showbackground": true,
            "ticks": "",
            "zerolinecolor": "white"
           }
          },
          "shapedefaults": {
           "line": {
            "color": "#2a3f5f"
           }
          },
          "ternary": {
           "aaxis": {
            "gridcolor": "white",
            "linecolor": "white",
            "ticks": ""
           },
           "baxis": {
            "gridcolor": "white",
            "linecolor": "white",
            "ticks": ""
           },
           "bgcolor": "#E5ECF6",
           "caxis": {
            "gridcolor": "white",
            "linecolor": "white",
            "ticks": ""
           }
          },
          "title": {
           "x": 0.05
          },
          "xaxis": {
           "automargin": true,
           "gridcolor": "white",
           "linecolor": "white",
           "ticks": "",
           "title": {
            "standoff": 15
           },
           "zerolinecolor": "white",
           "zerolinewidth": 2
          },
          "yaxis": {
           "automargin": true,
           "gridcolor": "white",
           "linecolor": "white",
           "ticks": "",
           "title": {
            "standoff": 15
           },
           "zerolinecolor": "white",
           "zerolinewidth": 2
          }
         }
        },
        "title": {
         "text": "Top words for the 10 topics"
        },
        "width": 1350
       }
      }
     },
     "metadata": {},
     "output_type": "display_data"
    }
   ],
   "source": [
    "from visualize import visualize_topic_word\n",
    "\n",
    "all_top_words = []\n",
    "all_top_probs = []\n",
    "for topic in range(corpus.num_topics):\n",
    "    top_words = np.argsort(phi[topic])[::-1][:10]\n",
    "    top_probs = phi[topic, top_words]\n",
    "    top_words = [corpus.id2word[word] for word in top_words]\n",
    "    all_top_words.append(top_words)\n",
    "    all_top_probs.append(top_probs)\n",
    "    print(f\"Topic {topic}:\", top_words)\n",
    "visualize_topic_word(all_top_words, all_top_probs)"
   ]
  },
  {
   "cell_type": "code",
   "execution_count": 53,
   "metadata": {},
   "outputs": [
    {
     "name": "stdout",
     "output_type": "stream",
     "text": [
      "num_docs: 5 num_topics: 10 num_words: 0\n",
      "Test Doc [0] ===\n",
      "bind graphical model m a r h j not department biophysics university nijmegen nl ez nijmegen netherlands bert kun nl abstract present method bound partition function boltzmann machine neural network odd order polynomial direct extension mean field bind order order bind strictly well mean field additionally rough outline bound applicable sigmoid belief network numerical experiment indicate error reduction factor easily reach region expansion base approximation useful introduction graphical model capability model large class probability distribution neuron network random variable connection model causal dependency usually node direct relation random variable problem call visible node know hidden model complex probability distribution learn graphical model long likelihood visible correspond pattern data set compute general time take scale exponentially number hide neuron architecture choice approximation likelihood know approximation technique statistical mechanic call gibbs sample apply graphical model recently mean field approximation know physics derive sigmoid belief network type graphical model dependency neuron model non linear sigmoidal function weighted parent state turn mean field approximation nice feature bound likelihood useful learn maximisation bind increase accuracy increase likelihood pattern data set actual learning process article possible improve mean field approximation http www mbfys kun nl www mbfys kun nl bert lose bounding property section general theory\n"
     ]
    },
    {
     "data": {
      "application/vnd.jupyter.widget-view+json": {
       "model_id": "bd7bf0c3125e4daa98478a786b10bef8",
       "version_major": 2,
       "version_minor": 0
      },
      "text/plain": [
       "HBox(children=(HTML(value=''), FloatProgress(value=0.0), HTML(value='')))"
      ]
     },
     "metadata": {},
     "output_type": "display_data"
    },
    {
     "name": "stdout",
     "output_type": "stream",
     "text": [
      "\n",
      "Topic distribution: [[4.97512438e-04 1.54228856e-02 4.97512438e-04 5.02487562e-02\n",
      "  3.28855721e-01 2.03980100e-02 4.97512438e-04 5.82587065e-01\n",
      "  4.97512438e-04 4.97512438e-04]]\n",
      "Top 3 topics: [7 4 3]\n",
      "Test Doc [1] ===\n",
      "decomposition reinforcement learning admission control self similar arrival processes department electrical engineering technion haifa israel ee technion ac il abstract paper present predictive gain scheduling technique simplify reinforcement learning problem decomposition link admission control self similar traffic demonstrate technique control problem decompose line prediction near future arrival rate policy poisson arrival process decision time prediction select policy simulation technique result significantly fast learn performance loss compare reinforcement learn controller decompose problem introduction multi service communication network asynchronous transfer mode network resource control crucial importance network operator user objective maintain service quality maximize operator revenue level service quality grade service measure term blocking probability key resource control bandwidth network routing admission control resource control problem markov decision process offer framework optimal route model dynamic network traffic computing control policy dynamic programming resource control optimize standard assumption model call arrive accord poisson process make model dynamic relatively simple poisson assumption valid user initiate request communication network number study indicate type arrival process wide area network local area network statistically make difficult find model dynamic model large complex number system state large straightforward application dynamic programming fractal burst structure self similar traffic possible exploit design efficient resource control method previously present method base\n"
     ]
    },
    {
     "data": {
      "application/vnd.jupyter.widget-view+json": {
       "model_id": "1b163c7e8f584069aad2ea390e310825",
       "version_major": 2,
       "version_minor": 0
      },
      "text/plain": [
       "HBox(children=(HTML(value=''), FloatProgress(value=0.0), HTML(value='')))"
      ]
     },
     "metadata": {},
     "output_type": "display_data"
    },
    {
     "name": "stdout",
     "output_type": "stream",
     "text": [
      "\n",
      "Topic distribution: [[5.92537313e-01 1.04975124e-01 1.04477612e-02 4.97512438e-04\n",
      "  6.51741294e-02 5.47263682e-03 4.97512438e-04 4.97512438e-04\n",
      "  4.97512438e-04 2.19402985e-01]]\n",
      "Top 3 topics: [0 9 1]\n",
      "Test Doc [2] ===\n",
      "model spatial recall mental imagery neglect becker department psychology university main street west hamilton canada l s kl becker ca burgess department anatomy institute cognitive neuroscience ucl queen square london uk wcin ar n burgess ucl ac uk abstract present computational model neural mechanism parietal temporal lobe support spatial navigation recall scene imagery product recall long term representation store hippocampus associate local spatial object relate feature region viewer center representation dynamically generate long term memory parietal model model simulate recall imagery location object complex environment parietal damage model exhibit neglect mental imagery rotate imagine perspective observer square experiment model make novel prediction neural representation parietal region behavior healthy neuropsychological patient introduction perform spatial computation task reach navigate visible obstacle predominantly sensory drive memory base presumably rely egocentric viewer center representation space representation ability translate account computational model parietal cortex e g situation route planning recall imagery scene event representation spatial layout long term memory neuropsychological study parietal hippocampal region task long term memory component associate hippocampus discovery place cell hippocampus provide evidence hippocampal representation absolute location open space encode irrespective view direction paper address nature source spatial representation hippocampal parietal region interact recall navigation assume hippocampus proper long term spatial\n"
     ]
    },
    {
     "data": {
      "application/vnd.jupyter.widget-view+json": {
       "model_id": "5164b7e31b3f419e82612d15040c1f0f",
       "version_major": 2,
       "version_minor": 0
      },
      "text/plain": [
       "HBox(children=(HTML(value=''), FloatProgress(value=0.0), HTML(value='')))"
      ]
     },
     "metadata": {},
     "output_type": "display_data"
    },
    {
     "name": "stdout",
     "output_type": "stream",
     "text": [
      "\n",
      "Topic distribution: [[0.01542289 0.44328358 0.4681592  0.01542289 0.00049751 0.00049751\n",
      "  0.00049751 0.00049751 0.00049751 0.05522388]]\n",
      "Top 3 topics: [2 1 9]\n",
      "Test Doc [3] ===\n",
      "new approaches robust adaptive speech recognition bourlard bengio weber p o box du switzerland bourlard bengio weber ch abstract paper discuss new research direction automatic speech recognition asr somewhat deviate usual approach specifically motivate briefly describe new approach base multi stream multi band asr approach extend standard hide markov model hmm base approach assume different frequency channel represent speech signal process different independent expert expert focus different characteristic signal different stream likelihood posterior combine temporal stage yield global recognition output extension multi stream asr finally introduce new approach refer hmm hmm emission probability estimate state specific feature base hmm responsible merge stream information model possible correlation multi channel processing asr current automatic speech recognition system base context dependent context independent phone model describe term sequence hide markov model hmm state hmm state assume characterize stationary probability density function furthermore time correlation consequently dynamic signal inside hmm state usually use temporal delta delta delta feature capture correlation consequently medium term dependency capture topology hmm model short term long term dependency usually poorly model ideally want design particular hmm able accommodate multiple time scale characteristic capture phonetic property syllable structure long term invariant robust noise clear different time scale feature exhibit different\n"
     ]
    },
    {
     "data": {
      "application/vnd.jupyter.widget-view+json": {
       "model_id": "51e5392244104894b124b3fe1d3a9700",
       "version_major": 2,
       "version_minor": 0
      },
      "text/plain": [
       "HBox(children=(HTML(value=''), FloatProgress(value=0.0), HTML(value='')))"
      ]
     },
     "metadata": {},
     "output_type": "display_data"
    },
    {
     "name": "stdout",
     "output_type": "stream",
     "text": [
      "\n",
      "Topic distribution: [[0.00049751 0.00049751 0.060199   0.00547264 0.00049751 0.12985075\n",
      "  0.15970149 0.20447761 0.00049751 0.43830846]]\n",
      "Top 3 topics: [9 7 6]\n",
      "Test Doc [4] ===\n",
      "variational mean field theory sigmoidal belief network c bhattacharyya computer science automation indian institute science in s mechanical production engineering national university singapore edu abstract variational derivation plefka mean field theory present theory apply sigmoidal belief network aid approximation empirical evaluation small scale network propose approximation competitive introduction application mean field theory solve problem inference belief networks know paper discuss variational mean field theory application bn sigmoidal bn particular present variational derivation mean field theory propose plefka theory develop stochastic system n binary random variable si e o describe energy function e s follow boltzmann gibbs distribution temperature t p s e z z t e s e y s application mean field method boltzmann machines large class bn s describe follow energy function n e s l si f mi l si in f mi mi l l hi j l application mean field theory energy function straightforward approximation need propose new approximation scheme discuss utility sigmoid network obtain substitute f x ex energy function paper organize follow section present variational derivation plefka mean field theory section theory extend sigmoidal belief network section empirical evaluation conclude remark give section variational mean field theory plefka propose mean field theory context\n"
     ]
    },
    {
     "data": {
      "application/vnd.jupyter.widget-view+json": {
       "model_id": "9d99025c9da54644afff5fedd79c06b4",
       "version_major": 2,
       "version_minor": 0
      },
      "text/plain": [
       "HBox(children=(HTML(value=''), FloatProgress(value=0.0), HTML(value='')))"
      ]
     },
     "metadata": {},
     "output_type": "display_data"
    },
    {
     "name": "stdout",
     "output_type": "stream",
     "text": [
      "\n",
      "Topic distribution: [[4.97512438e-04 4.97512438e-04 4.97512438e-04 4.97512438e-04\n",
      "  1.24875622e-01 5.02487562e-02 4.97512438e-04 5.42786070e-01\n",
      "  2.69154229e-01 1.04477612e-02]]\n",
      "Top 3 topics: [7 8 4]\n"
     ]
    }
   ],
   "source": [
    "# === inference on unseen documents ===\n",
    "test_corpus = NeurIPSCorpus(\n",
    "    data_path=\"data/papers.txt\", \n",
    "    mode=\"test\",\n",
    "    num_topics=10,\n",
    "    start_doc_idx=1000,\n",
    "    max_num_docs=5,\n",
    "    max_num_words=10000,\n",
    "    max_doc_length=200,\n",
    "    train_corpus=corpus,\n",
    ")\n",
    "for i, doc in enumerate(test_corpus.docs):\n",
    "    print(f\"Test Doc [{i}] ===\")\n",
    "    doc_i = 0   # only infer 1 test doc at a time\n",
    "    test_n_doc_topic = np.zeros([1, corpus.num_topics], dtype=float)\n",
    "    test_n_topic_word = np.zeros([corpus.num_topics, corpus.num_words], dtype=float)\n",
    "    test_z_doc_word = np.zeros([1, corpus.max_doc_length], dtype=int)\n",
    "\n",
    "    print(\" \".join([corpus.id2word[x] for x in doc]))\n",
    "\n",
    "    for j, word_j in enumerate(doc):\n",
    "        topic_ij = random.randint(0, corpus.num_topics - 1)\n",
    "        test_n_doc_topic[doc_i, topic_ij] += 1\n",
    "        test_n_topic_word[topic_ij, word_j] += 1\n",
    "        test_z_doc_word[doc_i, j] = topic_ij\n",
    "\n",
    "    for iteration in tqdm(range(100)):\n",
    "        for j, word_j in enumerate(doc):\n",
    "            # remove the old assignment\n",
    "            topic_ij = test_z_doc_word[doc_i, j]\n",
    "            test_n_doc_topic[doc_i, topic_ij] -= 1\n",
    "            test_n_topic_word[topic_ij, word_j] -= 1\n",
    "            # compute the new assignment\n",
    "            p_doc_topic = (test_n_doc_topic[doc_i, :] + hparams.alpha) \\\n",
    "                        / np.sum(test_n_doc_topic[doc_i] + hparams.alpha)\n",
    "            p_topic_word = (test_n_topic_word[:, word_j] + n_topic_word[:, word_j] + hparams.beta[word_j]) \\\n",
    "                        / np.sum(test_n_topic_word + n_topic_word + hparams.beta, axis=1)\n",
    "            p_topic = p_doc_topic * p_topic_word\n",
    "            p_topic /= np.sum(p_topic)\n",
    "            # record the new assignment\n",
    "            new_topic_ij = np.random.choice(np.arange(corpus.num_topics), p=p_topic)\n",
    "            test_n_doc_topic[doc_i, new_topic_ij] += 1\n",
    "            test_n_topic_word[new_topic_ij, word_j] += 1\n",
    "            test_z_doc_word[doc_i, j] = new_topic_ij\n",
    "\n",
    "    # === Check convergence and read out parameters ===\n",
    "    test_theta = (test_n_doc_topic + hparams.alpha) / np.sum(test_n_doc_topic + hparams.alpha, axis=1, keepdims=True)\n",
    "    test_phi = (test_n_topic_word + hparams.beta) / np.sum(test_n_topic_word + hparams.beta, axis=1, keepdims=True)\n",
    "    print(\"Topic distribution:\", test_theta)\n",
    "    print(\"Top 3 topics:\", np.argsort(test_theta[0])[::-1][:3])"
   ]
  },
  {
   "cell_type": "code",
   "execution_count": null,
   "metadata": {},
   "outputs": [],
   "source": []
  }
 ],
 "metadata": {
  "interpreter": {
   "hash": "b98ce01d6443f9ed8de6b2298de45a5462ef793670bc2920aea9ee85010384a1"
  },
  "kernelspec": {
   "display_name": "Python 3.8.5 ('base')",
   "language": "python",
   "name": "python3"
  },
  "language_info": {
   "codemirror_mode": {
    "name": "ipython",
    "version": 3
   },
   "file_extension": ".py",
   "mimetype": "text/x-python",
   "name": "python",
   "nbconvert_exporter": "python",
   "pygments_lexer": "ipython3",
   "version": "3.8.5"
  },
  "orig_nbformat": 4
 },
 "nbformat": 4,
 "nbformat_minor": 2
}
