{
 "cells": [
  {
   "cell_type": "markdown",
   "metadata": {},
   "source": [
    "# LDA Training\n",
    "<figure>\n",
    "<img src=https://s2.loli.net/2022/02/28/X7vzOlDHJtP6UnM.png style=\"width: 600px\">\n",
    "<figcaption>The LDA training algorithm from <a href=http://www.arbylon.net/publications/text-est.pdf>Parameter estimation for text analysis</a></figcaption>\n",
    "</figure>"
   ]
  },
  {
   "cell_type": "code",
   "execution_count": 1,
   "metadata": {},
   "outputs": [],
   "source": [
    "import random\n",
    "import numpy as np\n",
    "from collections import defaultdict, OrderedDict\n",
    "from types import SimpleNamespace\n",
    "from tqdm.notebook import tqdm\n",
    "from visualize import visualize_topic_word"
   ]
  },
  {
   "cell_type": "code",
   "execution_count": 4,
   "metadata": {},
   "outputs": [
    {
     "name": "stdout",
     "output_type": "stream",
     "text": [
      "num_docs: 1000 num_topics: 10 num_words: 7882\n"
     ]
    }
   ],
   "source": [
    "# === corpus loading ===\n",
    "class NeurIPSCorpus:\n",
    "    def __init__(self, data_path, num_topics, max_num_docs=100, max_num_words=10000, max_doc_length=1000):\n",
    "        self.docs = []\n",
    "        self.word2id = OrderedDict()\n",
    "        self.max_doc_length = max_doc_length\n",
    "\n",
    "        word2cnt = defaultdict(int)\n",
    "        with open(data_path) as fin:\n",
    "            for i, line in enumerate(fin):\n",
    "                if i >= max_num_docs: break\n",
    "                for word in line.strip().split():\n",
    "                    word2cnt[word] += 1\n",
    "        \n",
    "        word2cnt = sorted(list(word2cnt.items()), key=lambda x: x[1], reverse=True)\n",
    "        if len(word2cnt) > max_num_words:\n",
    "            word2cnt = word2cnt[:max_num_words]\n",
    "        word2cnt = dict(word2cnt)\n",
    "\n",
    "        with open(data_path) as fin:\n",
    "            for i, line in enumerate(fin):\n",
    "                if i >= max_num_docs: break\n",
    "                doc = []\n",
    "                for word in line.strip().split():\n",
    "                    if len(doc) >= self.max_doc_length: break\n",
    "                    if word not in word2cnt: continue\n",
    "                    if word not in self.word2id: \n",
    "                        self.word2id[word] = len(self.word2id)\n",
    "                    doc.append(self.word2id[word])\n",
    "                self.docs.append(doc)\n",
    "\n",
    "        self.num_docs = len(self.docs)\n",
    "        self.num_topics = num_topics\n",
    "        self.num_words = len(self.word2id)\n",
    "        self.id2word = {v: k for k, v in self.word2id.items()}\n",
    "        print(\n",
    "            \"num_docs:\", self.num_docs, \n",
    "            \"num_topics:\", self.num_topics, \n",
    "            \"num_words:\", self.num_words\n",
    "        )\n",
    "\n",
    "corpus = NeurIPSCorpus(\n",
    "    data_path=\"data/papers.txt\", \n",
    "    num_topics=10,\n",
    "    max_num_docs=1000,\n",
    "    max_num_words=10000,\n",
    "    max_doc_length=200,\n",
    ")\n",
    "hparams = SimpleNamespace(\n",
    "    alpha=np.ones([corpus.num_topics], dtype=float) / corpus.num_topics,\n",
    "    beta = np.ones([corpus.num_words], dtype=float) / corpus.num_topics,\n",
    "    gibbs_sampling_max_iters=500,\n",
    ")"
   ]
  },
  {
   "cell_type": "code",
   "execution_count": 5,
   "metadata": {},
   "outputs": [
    {
     "name": "stdout",
     "output_type": "stream",
     "text": [
      "Initializing...\n",
      "Gibbs sampling...\n"
     ]
    },
    {
     "data": {
      "application/vnd.jupyter.widget-view+json": {
       "model_id": "0bbcea2546364b1185f1d086eb4a4696",
       "version_major": 2,
       "version_minor": 0
      },
      "text/plain": [
       "HBox(children=(HTML(value=''), FloatProgress(value=0.0, max=500.0), HTML(value='')))"
      ]
     },
     "metadata": {},
     "output_type": "display_data"
    },
    {
     "name": "stdout",
     "output_type": "stream",
     "text": [
      "Iter [0]===\n",
      "Topic 0: ['model', 'network', 'algorithm', 'problem', 'learning', 'learn', 'function', 'neural', 'system', 'datum']\n",
      "Topic 1: ['model', 'algorithm', 'network', 'neural', 'system', 'input', 'problem', 'datum', 'function', 'learning']\n",
      "Topic 2: ['model', 'algorithm', 'network', 'problem', 'neural', 'system', 'datum', 'method', 'set', 'result']\n",
      "Topic 3: ['network', 'model', 'learning', 'algorithm', 'time', 'system', 'problem', 'method', 'process', 'university']\n",
      "Topic 4: ['model', 'learning', 'learn', 'algorithm', 'network', 'neural', 'problem', 'introduction', 'function', 'system']\n",
      "Topic 5: ['model', 'network', 'problem', 'function', 'algorithm', 'learning', 'datum', 'abstract', 'base', 'system']\n",
      "Topic 6: ['model', 'network', 'neural', 'algorithm', 'learning', 'abstract', 'problem', 'function', 'datum', 'university']\n",
      "Topic 7: ['model', 'network', 'neural', 'problem', 'datum', 'function', 'algorithm', 'method', 'learn', 'learning']\n",
      "Topic 8: ['model', 'network', 'algorithm', 'function', 'learning', 'abstract', 'datum', 'neural', 'problem', 'university']\n",
      "Topic 9: ['model', 'network', 'learning', 'algorithm', 'problem', 'system', 'neural', 'abstract', 'neuron', 'information']\n"
     ]
    },
    {
     "data": {
      "application/vnd.plotly.v1+json": {
       "config": {
        "plotlyServerURL": "https://plot.ly"
       },
       "data": [
        {
         "cells": {
          "fill": {
           "color": [
            [
             "rgb(197.33333333333334, 219.11111111111111, 191.88888888888889)",
             "rgb(197.33333333333334, 219.11111111111111, 191.88888888888889)",
             "rgb(217.66666666666666, 232.55555555555554, 214.44444444444446)",
             "rgb(217.66666666666666, 232.55555555555554, 214.44444444444446)",
             "rgb(217.66666666666666, 232.55555555555554, 214.44444444444446)",
             "rgb(217.66666666666666, 232.55555555555554, 214.44444444444446)",
             "rgb(238.0, 246.0, 237.0)",
             "rgb(238.0, 246.0, 237.0)",
             "rgb(238.0, 246.0, 237.0)",
             "rgb(238.0, 246.0, 237.0)"
            ],
            [
             "rgb(217.66666666666666, 232.55555555555554, 214.44444444444446)",
             "rgb(217.66666666666666, 232.55555555555554, 214.44444444444446)",
             "rgb(217.66666666666666, 232.55555555555554, 214.44444444444446)",
             "rgb(217.66666666666666, 232.55555555555554, 214.44444444444446)",
             "rgb(217.66666666666666, 232.55555555555554, 214.44444444444446)",
             "rgb(217.66666666666666, 232.55555555555554, 214.44444444444446)",
             "rgb(217.66666666666666, 232.55555555555554, 214.44444444444446)",
             "rgb(217.66666666666666, 232.55555555555554, 214.44444444444446)",
             "rgb(238.0, 246.0, 237.0)",
             "rgb(238.0, 246.0, 237.0)"
            ],
            [
             "rgb(197.33333333333334, 219.11111111111111, 191.88888888888889)",
             "rgb(217.66666666666666, 232.55555555555554, 214.44444444444446)",
             "rgb(217.66666666666666, 232.55555555555554, 214.44444444444446)",
             "rgb(217.66666666666666, 232.55555555555554, 214.44444444444446)",
             "rgb(217.66666666666666, 232.55555555555554, 214.44444444444446)",
             "rgb(217.66666666666666, 232.55555555555554, 214.44444444444446)",
             "rgb(217.66666666666666, 232.55555555555554, 214.44444444444446)",
             "rgb(238.0, 246.0, 237.0)",
             "rgb(238.0, 246.0, 237.0)",
             "rgb(238.0, 246.0, 237.0)"
            ],
            [
             "rgb(217.66666666666666, 232.55555555555554, 214.44444444444446)",
             "rgb(217.66666666666666, 232.55555555555554, 214.44444444444446)",
             "rgb(217.66666666666666, 232.55555555555554, 214.44444444444446)",
             "rgb(217.66666666666666, 232.55555555555554, 214.44444444444446)",
             "rgb(217.66666666666666, 232.55555555555554, 214.44444444444446)",
             "rgb(217.66666666666666, 232.55555555555554, 214.44444444444446)",
             "rgb(238.0, 246.0, 237.0)",
             "rgb(238.0, 246.0, 237.0)",
             "rgb(238.0, 246.0, 237.0)",
             "rgb(238.0, 246.0, 237.0)"
            ],
            [
             "rgb(197.33333333333334, 219.11111111111111, 191.88888888888889)",
             "rgb(217.66666666666666, 232.55555555555554, 214.44444444444446)",
             "rgb(217.66666666666666, 232.55555555555554, 214.44444444444446)",
             "rgb(217.66666666666666, 232.55555555555554, 214.44444444444446)",
             "rgb(217.66666666666666, 232.55555555555554, 214.44444444444446)",
             "rgb(217.66666666666666, 232.55555555555554, 214.44444444444446)",
             "rgb(217.66666666666666, 232.55555555555554, 214.44444444444446)",
             "rgb(217.66666666666666, 232.55555555555554, 214.44444444444446)",
             "rgb(217.66666666666666, 232.55555555555554, 214.44444444444446)",
             "rgb(238.0, 246.0, 237.0)"
            ],
            [
             "rgb(197.33333333333334, 219.11111111111111, 191.88888888888889)",
             "rgb(217.66666666666666, 232.55555555555554, 214.44444444444446)",
             "rgb(217.66666666666666, 232.55555555555554, 214.44444444444446)",
             "rgb(217.66666666666666, 232.55555555555554, 214.44444444444446)",
             "rgb(217.66666666666666, 232.55555555555554, 214.44444444444446)",
             "rgb(217.66666666666666, 232.55555555555554, 214.44444444444446)",
             "rgb(217.66666666666666, 232.55555555555554, 214.44444444444446)",
             "rgb(217.66666666666666, 232.55555555555554, 214.44444444444446)",
             "rgb(217.66666666666666, 232.55555555555554, 214.44444444444446)",
             "rgb(238.0, 246.0, 237.0)"
            ],
            [
             "rgb(217.66666666666666, 232.55555555555554, 214.44444444444446)",
             "rgb(217.66666666666666, 232.55555555555554, 214.44444444444446)",
             "rgb(217.66666666666666, 232.55555555555554, 214.44444444444446)",
             "rgb(217.66666666666666, 232.55555555555554, 214.44444444444446)",
             "rgb(217.66666666666666, 232.55555555555554, 214.44444444444446)",
             "rgb(217.66666666666666, 232.55555555555554, 214.44444444444446)",
             "rgb(217.66666666666666, 232.55555555555554, 214.44444444444446)",
             "rgb(238.0, 246.0, 237.0)",
             "rgb(238.0, 246.0, 237.0)",
             "rgb(238.0, 246.0, 237.0)"
            ],
            [
             "rgb(197.33333333333334, 219.11111111111111, 191.88888888888889)",
             "rgb(217.66666666666666, 232.55555555555554, 214.44444444444446)",
             "rgb(217.66666666666666, 232.55555555555554, 214.44444444444446)",
             "rgb(217.66666666666666, 232.55555555555554, 214.44444444444446)",
             "rgb(217.66666666666666, 232.55555555555554, 214.44444444444446)",
             "rgb(217.66666666666666, 232.55555555555554, 214.44444444444446)",
             "rgb(217.66666666666666, 232.55555555555554, 214.44444444444446)",
             "rgb(238.0, 246.0, 237.0)",
             "rgb(238.0, 246.0, 237.0)",
             "rgb(238.0, 246.0, 237.0)"
            ],
            [
             "rgb(197.33333333333334, 219.11111111111111, 191.88888888888889)",
             "rgb(197.33333333333334, 219.11111111111111, 191.88888888888889)",
             "rgb(217.66666666666666, 232.55555555555554, 214.44444444444446)",
             "rgb(217.66666666666666, 232.55555555555554, 214.44444444444446)",
             "rgb(217.66666666666666, 232.55555555555554, 214.44444444444446)",
             "rgb(217.66666666666666, 232.55555555555554, 214.44444444444446)",
             "rgb(217.66666666666666, 232.55555555555554, 214.44444444444446)",
             "rgb(217.66666666666666, 232.55555555555554, 214.44444444444446)",
             "rgb(217.66666666666666, 232.55555555555554, 214.44444444444446)",
             "rgb(238.0, 246.0, 237.0)"
            ],
            [
             "rgb(217.66666666666666, 232.55555555555554, 214.44444444444446)",
             "rgb(217.66666666666666, 232.55555555555554, 214.44444444444446)",
             "rgb(217.66666666666666, 232.55555555555554, 214.44444444444446)",
             "rgb(217.66666666666666, 232.55555555555554, 214.44444444444446)",
             "rgb(217.66666666666666, 232.55555555555554, 214.44444444444446)",
             "rgb(217.66666666666666, 232.55555555555554, 214.44444444444446)",
             "rgb(217.66666666666666, 232.55555555555554, 214.44444444444446)",
             "rgb(217.66666666666666, 232.55555555555554, 214.44444444444446)",
             "rgb(238.0, 246.0, 237.0)",
             "rgb(238.0, 246.0, 237.0)"
            ]
           ]
          },
          "values": [
           [
            "model",
            "network",
            "algorithm",
            "problem",
            "learning",
            "learn",
            "function",
            "neural",
            "system",
            "datum"
           ],
           [
            "model",
            "algorithm",
            "network",
            "neural",
            "system",
            "input",
            "problem",
            "datum",
            "function",
            "learning"
           ],
           [
            "model",
            "algorithm",
            "network",
            "problem",
            "neural",
            "system",
            "datum",
            "method",
            "set",
            "result"
           ],
           [
            "network",
            "model",
            "learning",
            "algorithm",
            "time",
            "system",
            "problem",
            "method",
            "process",
            "university"
           ],
           [
            "model",
            "learning",
            "learn",
            "algorithm",
            "network",
            "neural",
            "problem",
            "introduction",
            "function",
            "system"
           ],
           [
            "model",
            "network",
            "problem",
            "function",
            "algorithm",
            "learning",
            "datum",
            "abstract",
            "base",
            "system"
           ],
           [
            "model",
            "network",
            "neural",
            "algorithm",
            "learning",
            "abstract",
            "problem",
            "function",
            "datum",
            "university"
           ],
           [
            "model",
            "network",
            "neural",
            "problem",
            "datum",
            "function",
            "algorithm",
            "method",
            "learn",
            "learning"
           ],
           [
            "model",
            "network",
            "algorithm",
            "function",
            "learning",
            "abstract",
            "datum",
            "neural",
            "problem",
            "university"
           ],
           [
            "model",
            "network",
            "learning",
            "algorithm",
            "problem",
            "system",
            "neural",
            "abstract",
            "neuron",
            "information"
           ]
          ]
         },
         "header": {
          "fill": {
           "color": "rgb(220, 220, 220)"
          },
          "values": [
           "Topic 00",
           "Topic 01",
           "Topic 02",
           "Topic 03",
           "Topic 04",
           "Topic 05",
           "Topic 06",
           "Topic 07",
           "Topic 08",
           "Topic 09"
          ]
         },
         "type": "table"
        }
       ],
       "layout": {
        "template": {
         "data": {
          "bar": [
           {
            "error_x": {
             "color": "#2a3f5f"
            },
            "error_y": {
             "color": "#2a3f5f"
            },
            "marker": {
             "line": {
              "color": "#E5ECF6",
              "width": 0.5
             },
             "pattern": {
              "fillmode": "overlay",
              "size": 10,
              "solidity": 0.2
             }
            },
            "type": "bar"
           }
          ],
          "barpolar": [
           {
            "marker": {
             "line": {
              "color": "#E5ECF6",
              "width": 0.5
             },
             "pattern": {
              "fillmode": "overlay",
              "size": 10,
              "solidity": 0.2
             }
            },
            "type": "barpolar"
           }
          ],
          "carpet": [
           {
            "aaxis": {
             "endlinecolor": "#2a3f5f",
             "gridcolor": "white",
             "linecolor": "white",
             "minorgridcolor": "white",
             "startlinecolor": "#2a3f5f"
            },
            "baxis": {
             "endlinecolor": "#2a3f5f",
             "gridcolor": "white",
             "linecolor": "white",
             "minorgridcolor": "white",
             "startlinecolor": "#2a3f5f"
            },
            "type": "carpet"
           }
          ],
          "choropleth": [
           {
            "colorbar": {
             "outlinewidth": 0,
             "ticks": ""
            },
            "type": "choropleth"
           }
          ],
          "contour": [
           {
            "colorbar": {
             "outlinewidth": 0,
             "ticks": ""
            },
            "colorscale": [
             [
              0,
              "#0d0887"
             ],
             [
              0.1111111111111111,
              "#46039f"
             ],
             [
              0.2222222222222222,
              "#7201a8"
             ],
             [
              0.3333333333333333,
              "#9c179e"
             ],
             [
              0.4444444444444444,
              "#bd3786"
             ],
             [
              0.5555555555555556,
              "#d8576b"
             ],
             [
              0.6666666666666666,
              "#ed7953"
             ],
             [
              0.7777777777777778,
              "#fb9f3a"
             ],
             [
              0.8888888888888888,
              "#fdca26"
             ],
             [
              1,
              "#f0f921"
             ]
            ],
            "type": "contour"
           }
          ],
          "contourcarpet": [
           {
            "colorbar": {
             "outlinewidth": 0,
             "ticks": ""
            },
            "type": "contourcarpet"
           }
          ],
          "heatmap": [
           {
            "colorbar": {
             "outlinewidth": 0,
             "ticks": ""
            },
            "colorscale": [
             [
              0,
              "#0d0887"
             ],
             [
              0.1111111111111111,
              "#46039f"
             ],
             [
              0.2222222222222222,
              "#7201a8"
             ],
             [
              0.3333333333333333,
              "#9c179e"
             ],
             [
              0.4444444444444444,
              "#bd3786"
             ],
             [
              0.5555555555555556,
              "#d8576b"
             ],
             [
              0.6666666666666666,
              "#ed7953"
             ],
             [
              0.7777777777777778,
              "#fb9f3a"
             ],
             [
              0.8888888888888888,
              "#fdca26"
             ],
             [
              1,
              "#f0f921"
             ]
            ],
            "type": "heatmap"
           }
          ],
          "heatmapgl": [
           {
            "colorbar": {
             "outlinewidth": 0,
             "ticks": ""
            },
            "colorscale": [
             [
              0,
              "#0d0887"
             ],
             [
              0.1111111111111111,
              "#46039f"
             ],
             [
              0.2222222222222222,
              "#7201a8"
             ],
             [
              0.3333333333333333,
              "#9c179e"
             ],
             [
              0.4444444444444444,
              "#bd3786"
             ],
             [
              0.5555555555555556,
              "#d8576b"
             ],
             [
              0.6666666666666666,
              "#ed7953"
             ],
             [
              0.7777777777777778,
              "#fb9f3a"
             ],
             [
              0.8888888888888888,
              "#fdca26"
             ],
             [
              1,
              "#f0f921"
             ]
            ],
            "type": "heatmapgl"
           }
          ],
          "histogram": [
           {
            "marker": {
             "pattern": {
              "fillmode": "overlay",
              "size": 10,
              "solidity": 0.2
             }
            },
            "type": "histogram"
           }
          ],
          "histogram2d": [
           {
            "colorbar": {
             "outlinewidth": 0,
             "ticks": ""
            },
            "colorscale": [
             [
              0,
              "#0d0887"
             ],
             [
              0.1111111111111111,
              "#46039f"
             ],
             [
              0.2222222222222222,
              "#7201a8"
             ],
             [
              0.3333333333333333,
              "#9c179e"
             ],
             [
              0.4444444444444444,
              "#bd3786"
             ],
             [
              0.5555555555555556,
              "#d8576b"
             ],
             [
              0.6666666666666666,
              "#ed7953"
             ],
             [
              0.7777777777777778,
              "#fb9f3a"
             ],
             [
              0.8888888888888888,
              "#fdca26"
             ],
             [
              1,
              "#f0f921"
             ]
            ],
            "type": "histogram2d"
           }
          ],
          "histogram2dcontour": [
           {
            "colorbar": {
             "outlinewidth": 0,
             "ticks": ""
            },
            "colorscale": [
             [
              0,
              "#0d0887"
             ],
             [
              0.1111111111111111,
              "#46039f"
             ],
             [
              0.2222222222222222,
              "#7201a8"
             ],
             [
              0.3333333333333333,
              "#9c179e"
             ],
             [
              0.4444444444444444,
              "#bd3786"
             ],
             [
              0.5555555555555556,
              "#d8576b"
             ],
             [
              0.6666666666666666,
              "#ed7953"
             ],
             [
              0.7777777777777778,
              "#fb9f3a"
             ],
             [
              0.8888888888888888,
              "#fdca26"
             ],
             [
              1,
              "#f0f921"
             ]
            ],
            "type": "histogram2dcontour"
           }
          ],
          "mesh3d": [
           {
            "colorbar": {
             "outlinewidth": 0,
             "ticks": ""
            },
            "type": "mesh3d"
           }
          ],
          "parcoords": [
           {
            "line": {
             "colorbar": {
              "outlinewidth": 0,
              "ticks": ""
             }
            },
            "type": "parcoords"
           }
          ],
          "pie": [
           {
            "automargin": true,
            "type": "pie"
           }
          ],
          "scatter": [
           {
            "marker": {
             "colorbar": {
              "outlinewidth": 0,
              "ticks": ""
             }
            },
            "type": "scatter"
           }
          ],
          "scatter3d": [
           {
            "line": {
             "colorbar": {
              "outlinewidth": 0,
              "ticks": ""
             }
            },
            "marker": {
             "colorbar": {
              "outlinewidth": 0,
              "ticks": ""
             }
            },
            "type": "scatter3d"
           }
          ],
          "scattercarpet": [
           {
            "marker": {
             "colorbar": {
              "outlinewidth": 0,
              "ticks": ""
             }
            },
            "type": "scattercarpet"
           }
          ],
          "scattergeo": [
           {
            "marker": {
             "colorbar": {
              "outlinewidth": 0,
              "ticks": ""
             }
            },
            "type": "scattergeo"
           }
          ],
          "scattergl": [
           {
            "marker": {
             "colorbar": {
              "outlinewidth": 0,
              "ticks": ""
             }
            },
            "type": "scattergl"
           }
          ],
          "scattermapbox": [
           {
            "marker": {
             "colorbar": {
              "outlinewidth": 0,
              "ticks": ""
             }
            },
            "type": "scattermapbox"
           }
          ],
          "scatterpolar": [
           {
            "marker": {
             "colorbar": {
              "outlinewidth": 0,
              "ticks": ""
             }
            },
            "type": "scatterpolar"
           }
          ],
          "scatterpolargl": [
           {
            "marker": {
             "colorbar": {
              "outlinewidth": 0,
              "ticks": ""
             }
            },
            "type": "scatterpolargl"
           }
          ],
          "scatterternary": [
           {
            "marker": {
             "colorbar": {
              "outlinewidth": 0,
              "ticks": ""
             }
            },
            "type": "scatterternary"
           }
          ],
          "surface": [
           {
            "colorbar": {
             "outlinewidth": 0,
             "ticks": ""
            },
            "colorscale": [
             [
              0,
              "#0d0887"
             ],
             [
              0.1111111111111111,
              "#46039f"
             ],
             [
              0.2222222222222222,
              "#7201a8"
             ],
             [
              0.3333333333333333,
              "#9c179e"
             ],
             [
              0.4444444444444444,
              "#bd3786"
             ],
             [
              0.5555555555555556,
              "#d8576b"
             ],
             [
              0.6666666666666666,
              "#ed7953"
             ],
             [
              0.7777777777777778,
              "#fb9f3a"
             ],
             [
              0.8888888888888888,
              "#fdca26"
             ],
             [
              1,
              "#f0f921"
             ]
            ],
            "type": "surface"
           }
          ],
          "table": [
           {
            "cells": {
             "fill": {
              "color": "#EBF0F8"
             },
             "line": {
              "color": "white"
             }
            },
            "header": {
             "fill": {
              "color": "#C8D4E3"
             },
             "line": {
              "color": "white"
             }
            },
            "type": "table"
           }
          ]
         },
         "layout": {
          "annotationdefaults": {
           "arrowcolor": "#2a3f5f",
           "arrowhead": 0,
           "arrowwidth": 1
          },
          "autotypenumbers": "strict",
          "coloraxis": {
           "colorbar": {
            "outlinewidth": 0,
            "ticks": ""
           }
          },
          "colorscale": {
           "diverging": [
            [
             0,
             "#8e0152"
            ],
            [
             0.1,
             "#c51b7d"
            ],
            [
             0.2,
             "#de77ae"
            ],
            [
             0.3,
             "#f1b6da"
            ],
            [
             0.4,
             "#fde0ef"
            ],
            [
             0.5,
             "#f7f7f7"
            ],
            [
             0.6,
             "#e6f5d0"
            ],
            [
             0.7,
             "#b8e186"
            ],
            [
             0.8,
             "#7fbc41"
            ],
            [
             0.9,
             "#4d9221"
            ],
            [
             1,
             "#276419"
            ]
           ],
           "sequential": [
            [
             0,
             "#0d0887"
            ],
            [
             0.1111111111111111,
             "#46039f"
            ],
            [
             0.2222222222222222,
             "#7201a8"
            ],
            [
             0.3333333333333333,
             "#9c179e"
            ],
            [
             0.4444444444444444,
             "#bd3786"
            ],
            [
             0.5555555555555556,
             "#d8576b"
            ],
            [
             0.6666666666666666,
             "#ed7953"
            ],
            [
             0.7777777777777778,
             "#fb9f3a"
            ],
            [
             0.8888888888888888,
             "#fdca26"
            ],
            [
             1,
             "#f0f921"
            ]
           ],
           "sequentialminus": [
            [
             0,
             "#0d0887"
            ],
            [
             0.1111111111111111,
             "#46039f"
            ],
            [
             0.2222222222222222,
             "#7201a8"
            ],
            [
             0.3333333333333333,
             "#9c179e"
            ],
            [
             0.4444444444444444,
             "#bd3786"
            ],
            [
             0.5555555555555556,
             "#d8576b"
            ],
            [
             0.6666666666666666,
             "#ed7953"
            ],
            [
             0.7777777777777778,
             "#fb9f3a"
            ],
            [
             0.8888888888888888,
             "#fdca26"
            ],
            [
             1,
             "#f0f921"
            ]
           ]
          },
          "colorway": [
           "#636efa",
           "#EF553B",
           "#00cc96",
           "#ab63fa",
           "#FFA15A",
           "#19d3f3",
           "#FF6692",
           "#B6E880",
           "#FF97FF",
           "#FECB52"
          ],
          "font": {
           "color": "#2a3f5f"
          },
          "geo": {
           "bgcolor": "white",
           "lakecolor": "white",
           "landcolor": "#E5ECF6",
           "showlakes": true,
           "showland": true,
           "subunitcolor": "white"
          },
          "hoverlabel": {
           "align": "left"
          },
          "hovermode": "closest",
          "mapbox": {
           "style": "light"
          },
          "paper_bgcolor": "white",
          "plot_bgcolor": "#E5ECF6",
          "polar": {
           "angularaxis": {
            "gridcolor": "white",
            "linecolor": "white",
            "ticks": ""
           },
           "bgcolor": "#E5ECF6",
           "radialaxis": {
            "gridcolor": "white",
            "linecolor": "white",
            "ticks": ""
           }
          },
          "scene": {
           "xaxis": {
            "backgroundcolor": "#E5ECF6",
            "gridcolor": "white",
            "gridwidth": 2,
            "linecolor": "white",
            "showbackground": true,
            "ticks": "",
            "zerolinecolor": "white"
           },
           "yaxis": {
            "backgroundcolor": "#E5ECF6",
            "gridcolor": "white",
            "gridwidth": 2,
            "linecolor": "white",
            "showbackground": true,
            "ticks": "",
            "zerolinecolor": "white"
           },
           "zaxis": {
            "backgroundcolor": "#E5ECF6",
            "gridcolor": "white",
            "gridwidth": 2,
            "linecolor": "white",
            "showbackground": true,
            "ticks": "",
            "zerolinecolor": "white"
           }
          },
          "shapedefaults": {
           "line": {
            "color": "#2a3f5f"
           }
          },
          "ternary": {
           "aaxis": {
            "gridcolor": "white",
            "linecolor": "white",
            "ticks": ""
           },
           "baxis": {
            "gridcolor": "white",
            "linecolor": "white",
            "ticks": ""
           },
           "bgcolor": "#E5ECF6",
           "caxis": {
            "gridcolor": "white",
            "linecolor": "white",
            "ticks": ""
           }
          },
          "title": {
           "x": 0.05
          },
          "xaxis": {
           "automargin": true,
           "gridcolor": "white",
           "linecolor": "white",
           "ticks": "",
           "title": {
            "standoff": 15
           },
           "zerolinecolor": "white",
           "zerolinewidth": 2
          },
          "yaxis": {
           "automargin": true,
           "gridcolor": "white",
           "linecolor": "white",
           "ticks": "",
           "title": {
            "standoff": 15
           },
           "zerolinecolor": "white",
           "zerolinewidth": 2
          }
         }
        },
        "title": {
         "text": "Top words for the 10 topics"
        },
        "width": 1350
       }
      }
     },
     "metadata": {},
     "output_type": "display_data"
    }
   ],
   "source": [
    "# === initialization ===\n",
    "print(\"Initializing...\", flush=True)\n",
    "n_doc_topic = np.zeros([corpus.num_docs, corpus.num_topics], dtype=float) # n_m^(k)\n",
    "n_topic_word = np.zeros([corpus.num_topics, corpus.num_words], dtype=float) # n_k^(t)\n",
    "z_doc_word = np.zeros([corpus.num_docs, corpus.max_doc_length], dtype=int)\n",
    "\n",
    "for doc_i in range(corpus.num_docs):\n",
    "    for j, word_j in enumerate(corpus.docs[doc_i]):\n",
    "        topic_ij = random.randint(0, corpus.num_topics - 1)\n",
    "        n_doc_topic[doc_i, topic_ij] += 1\n",
    "        n_topic_word[topic_ij, word_j] += 1\n",
    "        z_doc_word[doc_i, j] = topic_ij\n",
    "\n",
    "# === Gibbs sampling ===\n",
    "print(\"Gibbs sampling...\", flush=True)\n",
    "for iteration in tqdm(range(hparams.gibbs_sampling_max_iters)):\n",
    "    for doc_i in range(corpus.num_docs):\n",
    "        for j, word_j in enumerate(corpus.docs[doc_i]):\n",
    "            # remove the old assignment\n",
    "            topic_ij = z_doc_word[doc_i, j]\n",
    "            n_doc_topic[doc_i, topic_ij] -= 1\n",
    "            n_topic_word[topic_ij, word_j] -= 1\n",
    "            # compute the new assignment\n",
    "            p_doc_topic = (n_doc_topic[doc_i, :] + hparams.alpha) \\\n",
    "                        / np.sum(n_doc_topic[doc_i] + hparams.alpha)\n",
    "            p_topic_word = (n_topic_word[:, word_j] + hparams.beta[word_j]) \\\n",
    "                        / np.sum(n_topic_word + hparams.beta, axis=1)\n",
    "            p_topic = p_doc_topic * p_topic_word\n",
    "            p_topic /= np.sum(p_topic)\n",
    "            # record the new assignment\n",
    "            new_topic_ij = np.random.choice(np.arange(corpus.num_topics), p=p_topic)\n",
    "            n_doc_topic[doc_i, new_topic_ij] += 1\n",
    "            n_topic_word[new_topic_ij, word_j] += 1\n",
    "            z_doc_word[doc_i, j] = new_topic_ij\n",
    "\n",
    "    if iteration % 50 == 0:\n",
    "        print(f\"Iter [{iteration}]===\")\n",
    "        # === Check convergence and read out parameters ===\n",
    "        theta = (n_doc_topic + hparams.alpha) / np.sum(n_doc_topic + hparams.alpha, axis=1, keepdims=True)\n",
    "        phi = (n_topic_word + hparams.beta) / np.sum(n_topic_word + hparams.beta, axis=1, keepdims=True)\n",
    "\n",
    "        all_top_words = []\n",
    "        all_top_probs = []\n",
    "        for topic in range(corpus.num_topics):\n",
    "            top_words = np.argsort(phi[topic])[::-1][:10]\n",
    "            top_probs = phi[topic, top_words]\n",
    "            top_words = [corpus.id2word[word] for word in top_words]\n",
    "            all_top_words.append(top_words)\n",
    "            all_top_probs.append(top_probs)\n",
    "            print(f\"Topic {topic}:\", top_words)\n",
    "        visualize_topic_word(all_top_words, all_top_probs)"
   ]
  },
  {
   "cell_type": "code",
   "execution_count": null,
   "metadata": {},
   "outputs": [],
   "source": []
  }
 ],
 "metadata": {
  "interpreter": {
   "hash": "b98ce01d6443f9ed8de6b2298de45a5462ef793670bc2920aea9ee85010384a1"
  },
  "kernelspec": {
   "display_name": "Python 3.8.5 ('base')",
   "language": "python",
   "name": "python3"
  },
  "language_info": {
   "codemirror_mode": {
    "name": "ipython",
    "version": 3
   },
   "file_extension": ".py",
   "mimetype": "text/x-python",
   "name": "python",
   "nbconvert_exporter": "python",
   "pygments_lexer": "ipython3",
   "version": "3.8.5"
  },
  "orig_nbformat": 4
 },
 "nbformat": 4,
 "nbformat_minor": 2
}
